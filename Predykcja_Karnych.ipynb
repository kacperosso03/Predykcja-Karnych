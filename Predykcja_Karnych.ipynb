{
 "cells": [
  {
   "cell_type": "code",
   "id": "initial_id",
   "metadata": {
    "collapsed": true,
    "ExecuteTime": {
     "end_time": "2024-11-21T10:17:52.465767Z",
     "start_time": "2024-11-21T10:17:52.452654Z"
    }
   },
   "source": "print(\"Hello in the Project of 'Penalty Predictions' Made by Kacper and Julia\")",
   "outputs": [
    {
     "name": "stdout",
     "output_type": "stream",
     "text": [
      "Hello in the Project of 'Penalty Predictions' Made by Kacper and Julia\n"
     ]
    }
   ],
   "execution_count": 1
  },
  {
   "metadata": {
    "ExecuteTime": {
     "end_time": "2024-11-21T10:25:20.976581Z",
     "start_time": "2024-11-21T10:25:16.843952Z"
    }
   },
   "cell_type": "code",
   "source": [
    "import cv2\n",
    "import os\n",
    "import numpy as np\n",
    "from ultralytics import YOLO\n",
    "import matplotlib.pyplot as plt\n"
   ],
   "id": "822e7c0f37e8c97a",
   "outputs": [],
   "execution_count": 2
  },
  {
   "metadata": {
    "ExecuteTime": {
     "end_time": "2024-11-19T21:38:58.955671Z",
     "start_time": "2024-11-19T21:38:20.539913Z"
    }
   },
   "cell_type": "code",
   "source": [
    "# przerobka filmikow na kaltki\n",
    "\n",
    "input_folder = r'C:\\Users\\user\\Desktop\\studia\\Widzenie Komputerowe Projekt\\Predykcja_Karnych\\dataset\\karne'\n",
    "output_folder = r'C:\\Users\\user\\Desktop\\studia\\Widzenie Komputerowe Projekt\\Predykcja_Karnych\\dataset\\karne_przerobione'\n",
    "\n",
    "# Tworzenie głównego katalogu na wszystkie klatki\n",
    "os.makedirs(output_folder, exist_ok=True)\n",
    "\n",
    "# Iteracja po wszystkich plikach w folderze\n",
    "for video_file in os.listdir(input_folder):\n",
    "    video_path = os.path.join(input_folder, video_file)\n",
    "    \n",
    "    \n",
    "    print(f'Przetwarzanie: {video_file}')\n",
    "    \n",
    "    # Tworzenie podfolderu na klatki dla danego filmu\n",
    "    video_output_folder = os.path.join(output_folder, os.path.splitext(video_file)[0])\n",
    "    os.makedirs(video_output_folder, exist_ok=True)\n",
    "    \n",
    "    # Wczytanie wideo\n",
    "    cap = cv2.VideoCapture(video_path)\n",
    "    frame_count = 0\n",
    "    \n",
    "    while cap.isOpened():\n",
    "        ret, frame = cap.read()\n",
    "        if not ret:\n",
    "            break\n",
    "        \n",
    "        # zmiana rozmiaru\n",
    "        resized_frame = cv2.resize(frame, (1080, 720))\n",
    "        \n",
    "        # Zapis klatki do podfolderu\n",
    "        frame_filename = os.path.join(video_output_folder, f'frame_{frame_count:04d}.jpg')\n",
    "        cv2.imwrite(frame_filename, resized_frame)\n",
    "        \n",
    "        frame_count += 1\n",
    "    \n",
    "    cap.release()\n",
    "    print(f'Zapisano {frame_count} klatek dla {video_file} w folderze {video_output_folder}')\n",
    "\n",
    "print('Przetwarzanie wszystkich filmów zakończone.')\n"
   ],
   "id": "406d2769c0b69d3e",
   "outputs": [
    {
     "name": "stdout",
     "output_type": "stream",
     "text": [
      "Przetwarzanie: k1.mp4\n",
      "Zapisano 143 klatek dla k1.mp4 w folderze C:\\Users\\user\\Desktop\\studia\\Widzenie Komputerowe Projekt\\Predykcja_Karnych\\dataset\\karne_przerobione\\k1\n",
      "Przetwarzanie: k10.mp4\n",
      "Zapisano 129 klatek dla k10.mp4 w folderze C:\\Users\\user\\Desktop\\studia\\Widzenie Komputerowe Projekt\\Predykcja_Karnych\\dataset\\karne_przerobione\\k10\n",
      "Przetwarzanie: k11.mp4\n",
      "Zapisano 232 klatek dla k11.mp4 w folderze C:\\Users\\user\\Desktop\\studia\\Widzenie Komputerowe Projekt\\Predykcja_Karnych\\dataset\\karne_przerobione\\k11\n",
      "Przetwarzanie: k12.mp4\n",
      "Zapisano 129 klatek dla k12.mp4 w folderze C:\\Users\\user\\Desktop\\studia\\Widzenie Komputerowe Projekt\\Predykcja_Karnych\\dataset\\karne_przerobione\\k12\n",
      "Przetwarzanie: k2.mp4\n",
      "Zapisano 202 klatek dla k2.mp4 w folderze C:\\Users\\user\\Desktop\\studia\\Widzenie Komputerowe Projekt\\Predykcja_Karnych\\dataset\\karne_przerobione\\k2\n",
      "Przetwarzanie: k3.mp4\n",
      "Zapisano 217 klatek dla k3.mp4 w folderze C:\\Users\\user\\Desktop\\studia\\Widzenie Komputerowe Projekt\\Predykcja_Karnych\\dataset\\karne_przerobione\\k3\n",
      "Przetwarzanie: k4.mp4\n",
      "Zapisano 246 klatek dla k4.mp4 w folderze C:\\Users\\user\\Desktop\\studia\\Widzenie Komputerowe Projekt\\Predykcja_Karnych\\dataset\\karne_przerobione\\k4\n",
      "Przetwarzanie: k5.mp4\n",
      "Zapisano 261 klatek dla k5.mp4 w folderze C:\\Users\\user\\Desktop\\studia\\Widzenie Komputerowe Projekt\\Predykcja_Karnych\\dataset\\karne_przerobione\\k5\n",
      "Przetwarzanie: k6.mp4\n",
      "Zapisano 173 klatek dla k6.mp4 w folderze C:\\Users\\user\\Desktop\\studia\\Widzenie Komputerowe Projekt\\Predykcja_Karnych\\dataset\\karne_przerobione\\k6\n",
      "Przetwarzanie: k7.mp4\n",
      "Zapisano 173 klatek dla k7.mp4 w folderze C:\\Users\\user\\Desktop\\studia\\Widzenie Komputerowe Projekt\\Predykcja_Karnych\\dataset\\karne_przerobione\\k7\n",
      "Przetwarzanie: k8.mp4\n",
      "Zapisano 173 klatek dla k8.mp4 w folderze C:\\Users\\user\\Desktop\\studia\\Widzenie Komputerowe Projekt\\Predykcja_Karnych\\dataset\\karne_przerobione\\k8\n",
      "Przetwarzanie: k9.mp4\n",
      "Zapisano 217 klatek dla k9.mp4 w folderze C:\\Users\\user\\Desktop\\studia\\Widzenie Komputerowe Projekt\\Predykcja_Karnych\\dataset\\karne_przerobione\\k9\n",
      "Przetwarzanie wszystkich filmów zakończone.\n"
     ]
    }
   ],
   "execution_count": 15
  },
  {
   "metadata": {
    "ExecuteTime": {
     "end_time": "2024-11-21T11:38:41.172389Z",
     "start_time": "2024-11-21T11:19:36.505698Z"
    }
   },
   "cell_type": "code",
   "source": [
    "# trening danych\n",
    "from ultralytics import YOLO\n",
    " \n",
    "model = YOLO(\"yolov8n.pt\")\n",
    "\n",
    "model.train(data=r'C:\\Users\\user\\Desktop\\studia\\Widzenie Komputerowe Projekt\\Predykcja_Karnych\\dataset\\dane do automatu\\data.yaml', epochs=200, imgsz=512)"
   ],
   "id": "5a8efa79bd0e9a5c",
   "outputs": [
    {
     "name": "stdout",
     "output_type": "stream",
     "text": [
      "Ultralytics 8.3.34  Python-3.8.2 torch-2.4.1+cpu CPU (12th Gen Intel Core(TM) i5-12400F)\n",
      "\u001B[34m\u001B[1mengine\\trainer: \u001B[0mtask=detect, mode=train, model=yolov8n.pt, data=C:\\Users\\user\\Desktop\\studia\\Widzenie Komputerowe Projekt\\Predykcja_Karnych\\dataset\\dane do automatu\\data.yaml, epochs=200, time=None, patience=100, batch=16, imgsz=512, save=True, save_period=-1, cache=False, device=None, workers=8, project=None, name=train10, exist_ok=False, pretrained=True, optimizer=auto, verbose=True, seed=0, deterministic=True, single_cls=False, rect=False, cos_lr=False, close_mosaic=10, resume=False, amp=True, fraction=1.0, profile=False, freeze=None, multi_scale=False, overlap_mask=True, mask_ratio=4, dropout=0.0, val=True, split=val, save_json=False, save_hybrid=False, conf=None, iou=0.7, max_det=300, half=False, dnn=False, plots=True, source=None, vid_stride=1, stream_buffer=False, visualize=False, augment=False, agnostic_nms=False, classes=None, retina_masks=False, embed=None, show=False, save_frames=False, save_txt=False, save_conf=False, save_crop=False, show_labels=True, show_conf=True, show_boxes=True, line_width=None, format=torchscript, keras=False, optimize=False, int8=False, dynamic=False, simplify=True, opset=None, workspace=4, nms=False, lr0=0.01, lrf=0.01, momentum=0.937, weight_decay=0.0005, warmup_epochs=3.0, warmup_momentum=0.8, warmup_bias_lr=0.1, box=7.5, cls=0.5, dfl=1.5, pose=12.0, kobj=1.0, label_smoothing=0.0, nbs=64, hsv_h=0.015, hsv_s=0.7, hsv_v=0.4, degrees=0.0, translate=0.1, scale=0.5, shear=0.0, perspective=0.0, flipud=0.0, fliplr=0.5, bgr=0.0, mosaic=1.0, mixup=0.0, copy_paste=0.0, copy_paste_mode=flip, auto_augment=randaugment, erasing=0.4, crop_fraction=1.0, cfg=None, tracker=botsort.yaml, save_dir=runs\\detect\\train10\n",
      "Overriding model.yaml nc=80 with nc=3\n",
      "\n",
      "                   from  n    params  module                                       arguments                     \n",
      "  0                  -1  1       464  ultralytics.nn.modules.conv.Conv             [3, 16, 3, 2]                 \n",
      "  1                  -1  1      4672  ultralytics.nn.modules.conv.Conv             [16, 32, 3, 2]                \n",
      "  2                  -1  1      7360  ultralytics.nn.modules.block.C2f             [32, 32, 1, True]             \n",
      "  3                  -1  1     18560  ultralytics.nn.modules.conv.Conv             [32, 64, 3, 2]                \n",
      "  4                  -1  2     49664  ultralytics.nn.modules.block.C2f             [64, 64, 2, True]             \n",
      "  5                  -1  1     73984  ultralytics.nn.modules.conv.Conv             [64, 128, 3, 2]               \n",
      "  6                  -1  2    197632  ultralytics.nn.modules.block.C2f             [128, 128, 2, True]           \n",
      "  7                  -1  1    295424  ultralytics.nn.modules.conv.Conv             [128, 256, 3, 2]              \n",
      "  8                  -1  1    460288  ultralytics.nn.modules.block.C2f             [256, 256, 1, True]           \n",
      "  9                  -1  1    164608  ultralytics.nn.modules.block.SPPF            [256, 256, 5]                 \n",
      " 10                  -1  1         0  torch.nn.modules.upsampling.Upsample         [None, 2, 'nearest']          \n",
      " 11             [-1, 6]  1         0  ultralytics.nn.modules.conv.Concat           [1]                           \n",
      " 12                  -1  1    148224  ultralytics.nn.modules.block.C2f             [384, 128, 1]                 \n",
      " 13                  -1  1         0  torch.nn.modules.upsampling.Upsample         [None, 2, 'nearest']          \n",
      " 14             [-1, 4]  1         0  ultralytics.nn.modules.conv.Concat           [1]                           \n",
      " 15                  -1  1     37248  ultralytics.nn.modules.block.C2f             [192, 64, 1]                  \n",
      " 16                  -1  1     36992  ultralytics.nn.modules.conv.Conv             [64, 64, 3, 2]                \n",
      " 17            [-1, 12]  1         0  ultralytics.nn.modules.conv.Concat           [1]                           \n",
      " 18                  -1  1    123648  ultralytics.nn.modules.block.C2f             [192, 128, 1]                 \n",
      " 19                  -1  1    147712  ultralytics.nn.modules.conv.Conv             [128, 128, 3, 2]              \n",
      " 20             [-1, 9]  1         0  ultralytics.nn.modules.conv.Concat           [1]                           \n",
      " 21                  -1  1    493056  ultralytics.nn.modules.block.C2f             [384, 256, 1]                 \n",
      " 22        [15, 18, 21]  1    751897  ultralytics.nn.modules.head.Detect           [3, [64, 128, 256]]           \n",
      "Model summary: 225 layers, 3,011,433 parameters, 3,011,417 gradients, 8.2 GFLOPs\n",
      "\n",
      "Transferred 319/355 items from pretrained weights\n",
      "Freezing layer 'model.22.dfl.conv.weight'\n"
     ]
    },
    {
     "name": "stderr",
     "output_type": "stream",
     "text": [
      "\u001B[34m\u001B[1mtrain: \u001B[0mScanning C:\\Users\\user\\Desktop\\studia\\Widzenie Komputerowe Projekt\\Predykcja_Karnych\\dataset\\dane do automatu\\image\\train.cache... 50 images, 0 backgrounds, 0 corrupt: 100%|██████████| 50/50 [00:00<?, ?it/s]\n",
      "\u001B[34m\u001B[1mval: \u001B[0mScanning C:\\Users\\user\\Desktop\\studia\\Widzenie Komputerowe Projekt\\Predykcja_Karnych\\dataset\\dane do automatu\\image\\val.cache... 11 images, 1 backgrounds, 0 corrupt: 100%|██████████| 12/12 [00:00<?, ?it/s]"
     ]
    },
    {
     "name": "stdout",
     "output_type": "stream",
     "text": [
      "Plotting labels to runs\\detect\\train10\\labels.jpg... \n"
     ]
    },
    {
     "name": "stderr",
     "output_type": "stream",
     "text": [
      "\n"
     ]
    },
    {
     "name": "stdout",
     "output_type": "stream",
     "text": [
      "\u001B[34m\u001B[1moptimizer:\u001B[0m 'optimizer=auto' found, ignoring 'lr0=0.01' and 'momentum=0.937' and determining best 'optimizer', 'lr0' and 'momentum' automatically... \n",
      "\u001B[34m\u001B[1moptimizer:\u001B[0m AdamW(lr=0.001429, momentum=0.9) with parameter groups 57 weight(decay=0.0), 64 weight(decay=0.0005), 63 bias(decay=0.0)\n",
      "Image sizes 512 train, 512 val\n",
      "Using 0 dataloader workers\n",
      "Logging results to \u001B[1mruns\\detect\\train10\u001B[0m\n",
      "Starting training for 200 epochs...\n",
      "\n",
      "      Epoch    GPU_mem   box_loss   cls_loss   dfl_loss  Instances       Size\n"
     ]
    },
    {
     "name": "stderr",
     "output_type": "stream",
     "text": [
      "      1/200         0G      1.252      3.517      1.255         18        512: 100%|██████████| 4/4 [00:05<00:00,  1.32s/it]\n",
      "                 Class     Images  Instances      Box(P          R      mAP50  mAP50-95): 100%|██████████| 1/1 [00:00<00:00,  1.94it/s]"
     ]
    },
    {
     "name": "stdout",
     "output_type": "stream",
     "text": [
      "                   all         12         32    0.00488      0.545      0.211      0.132\n"
     ]
    },
    {
     "name": "stderr",
     "output_type": "stream",
     "text": [
      "\n"
     ]
    },
    {
     "name": "stdout",
     "output_type": "stream",
     "text": [
      "\n",
      "      Epoch    GPU_mem   box_loss   cls_loss   dfl_loss  Instances       Size\n"
     ]
    },
    {
     "name": "stderr",
     "output_type": "stream",
     "text": [
      "      2/200         0G     0.8568      3.094     0.9919          7        512: 100%|██████████| 4/4 [00:04<00:00,  1.10s/it]\n",
      "                 Class     Images  Instances      Box(P          R      mAP50  mAP50-95): 100%|██████████| 1/1 [00:00<00:00,  2.33it/s]"
     ]
    },
    {
     "name": "stdout",
     "output_type": "stream",
     "text": [
      "                   all         12         32    0.00523      0.576      0.316      0.302\n"
     ]
    },
    {
     "name": "stderr",
     "output_type": "stream",
     "text": [
      "\n"
     ]
    },
    {
     "name": "stdout",
     "output_type": "stream",
     "text": [
      "\n",
      "      Epoch    GPU_mem   box_loss   cls_loss   dfl_loss  Instances       Size\n"
     ]
    },
    {
     "name": "stderr",
     "output_type": "stream",
     "text": [
      "      3/200         0G     0.7723      2.454     0.9218         14        512: 100%|██████████| 4/4 [00:04<00:00,  1.11s/it]\n",
      "                 Class     Images  Instances      Box(P          R      mAP50  mAP50-95): 100%|██████████| 1/1 [00:00<00:00,  2.43it/s]"
     ]
    },
    {
     "name": "stdout",
     "output_type": "stream",
     "text": [
      "                   all         12         32     0.0059      0.667      0.328      0.292\n"
     ]
    },
    {
     "name": "stderr",
     "output_type": "stream",
     "text": [
      "\n"
     ]
    },
    {
     "name": "stdout",
     "output_type": "stream",
     "text": [
      "\n",
      "      Epoch    GPU_mem   box_loss   cls_loss   dfl_loss  Instances       Size\n"
     ]
    },
    {
     "name": "stderr",
     "output_type": "stream",
     "text": [
      "      4/200         0G     0.6591        1.5     0.9018         10        512: 100%|██████████| 4/4 [00:04<00:00,  1.10s/it]\n",
      "                 Class     Images  Instances      Box(P          R      mAP50  mAP50-95): 100%|██████████| 1/1 [00:00<00:00,  2.52it/s]"
     ]
    },
    {
     "name": "stdout",
     "output_type": "stream",
     "text": [
      "                   all         12         32    0.00817      0.867      0.552      0.499\n"
     ]
    },
    {
     "name": "stderr",
     "output_type": "stream",
     "text": [
      "\n"
     ]
    },
    {
     "name": "stdout",
     "output_type": "stream",
     "text": [
      "\n",
      "      Epoch    GPU_mem   box_loss   cls_loss   dfl_loss  Instances       Size\n"
     ]
    },
    {
     "name": "stderr",
     "output_type": "stream",
     "text": [
      "      5/200         0G      0.768      1.092     0.9366         11        512: 100%|██████████| 4/4 [00:04<00:00,  1.09s/it]\n",
      "                 Class     Images  Instances      Box(P          R      mAP50  mAP50-95): 100%|██████████| 1/1 [00:00<00:00,  2.58it/s]"
     ]
    },
    {
     "name": "stdout",
     "output_type": "stream",
     "text": [
      "                   all         12         32    0.00761        0.8      0.571      0.509\n"
     ]
    },
    {
     "name": "stderr",
     "output_type": "stream",
     "text": [
      "\n"
     ]
    },
    {
     "name": "stdout",
     "output_type": "stream",
     "text": [
      "\n",
      "      Epoch    GPU_mem   box_loss   cls_loss   dfl_loss  Instances       Size\n"
     ]
    },
    {
     "name": "stderr",
     "output_type": "stream",
     "text": [
      "      6/200         0G     0.7926     0.9728     0.9261         12        512: 100%|██████████| 4/4 [00:04<00:00,  1.10s/it]\n",
      "                 Class     Images  Instances      Box(P          R      mAP50  mAP50-95): 100%|██████████| 1/1 [00:00<00:00,  2.64it/s]"
     ]
    },
    {
     "name": "stdout",
     "output_type": "stream",
     "text": [
      "                   all         12         32          1      0.059      0.595      0.478\n"
     ]
    },
    {
     "name": "stderr",
     "output_type": "stream",
     "text": [
      "\n"
     ]
    },
    {
     "name": "stdout",
     "output_type": "stream",
     "text": [
      "\n",
      "      Epoch    GPU_mem   box_loss   cls_loss   dfl_loss  Instances       Size\n"
     ]
    },
    {
     "name": "stderr",
     "output_type": "stream",
     "text": [
      "      7/200         0G     0.7678       0.92     0.9312          8        512: 100%|██████████| 4/4 [00:04<00:00,  1.10s/it]\n",
      "                 Class     Images  Instances      Box(P          R      mAP50  mAP50-95): 100%|██████████| 1/1 [00:00<00:00,  2.66it/s]"
     ]
    },
    {
     "name": "stdout",
     "output_type": "stream",
     "text": [
      "                   all         12         32      0.958      0.333      0.544      0.457\n"
     ]
    },
    {
     "name": "stderr",
     "output_type": "stream",
     "text": [
      "\n"
     ]
    },
    {
     "name": "stdout",
     "output_type": "stream",
     "text": [
      "\n",
      "      Epoch    GPU_mem   box_loss   cls_loss   dfl_loss  Instances       Size\n"
     ]
    },
    {
     "name": "stderr",
     "output_type": "stream",
     "text": [
      "      8/200         0G     0.7462     0.9413     0.9042         18        512: 100%|██████████| 4/4 [00:04<00:00,  1.09s/it]\n",
      "                 Class     Images  Instances      Box(P          R      mAP50  mAP50-95): 100%|██████████| 1/1 [00:00<00:00,  2.66it/s]"
     ]
    },
    {
     "name": "stdout",
     "output_type": "stream",
     "text": [
      "                   all         12         32       0.97      0.333       0.45      0.395\n"
     ]
    },
    {
     "name": "stderr",
     "output_type": "stream",
     "text": [
      "\n"
     ]
    },
    {
     "name": "stdout",
     "output_type": "stream",
     "text": [
      "\n",
      "      Epoch    GPU_mem   box_loss   cls_loss   dfl_loss  Instances       Size\n"
     ]
    },
    {
     "name": "stderr",
     "output_type": "stream",
     "text": [
      "      9/200         0G     0.6811     0.8159     0.8914          9        512: 100%|██████████| 4/4 [00:04<00:00,  1.09s/it]\n",
      "                 Class     Images  Instances      Box(P          R      mAP50  mAP50-95): 100%|██████████| 1/1 [00:00<00:00,  2.39it/s]"
     ]
    },
    {
     "name": "stdout",
     "output_type": "stream",
     "text": [
      "                   all         12         32       0.95      0.333      0.566      0.477\n"
     ]
    },
    {
     "name": "stderr",
     "output_type": "stream",
     "text": [
      "\n"
     ]
    },
    {
     "name": "stdout",
     "output_type": "stream",
     "text": [
      "\n",
      "      Epoch    GPU_mem   box_loss   cls_loss   dfl_loss  Instances       Size\n"
     ]
    },
    {
     "name": "stderr",
     "output_type": "stream",
     "text": [
      "     10/200         0G     0.7043     0.7912     0.8928         16        512: 100%|██████████| 4/4 [00:05<00:00,  1.32s/it]\n",
      "                 Class     Images  Instances      Box(P          R      mAP50  mAP50-95): 100%|██████████| 1/1 [00:00<00:00,  2.67it/s]"
     ]
    },
    {
     "name": "stdout",
     "output_type": "stream",
     "text": [
      "                   all         12         32       0.95      0.333      0.629      0.526\n"
     ]
    },
    {
     "name": "stderr",
     "output_type": "stream",
     "text": [
      "\n"
     ]
    },
    {
     "name": "stdout",
     "output_type": "stream",
     "text": [
      "\n",
      "      Epoch    GPU_mem   box_loss   cls_loss   dfl_loss  Instances       Size\n"
     ]
    },
    {
     "name": "stderr",
     "output_type": "stream",
     "text": [
      "     11/200         0G     0.7289     0.7898     0.8977         21        512: 100%|██████████| 4/4 [00:04<00:00,  1.13s/it]\n",
      "                 Class     Images  Instances      Box(P          R      mAP50  mAP50-95): 100%|██████████| 1/1 [00:00<00:00,  2.72it/s]"
     ]
    },
    {
     "name": "stdout",
     "output_type": "stream",
     "text": [
      "                   all         12         32       0.95      0.333      0.627       0.54\n"
     ]
    },
    {
     "name": "stderr",
     "output_type": "stream",
     "text": [
      "\n"
     ]
    },
    {
     "name": "stdout",
     "output_type": "stream",
     "text": [
      "\n",
      "      Epoch    GPU_mem   box_loss   cls_loss   dfl_loss  Instances       Size\n"
     ]
    },
    {
     "name": "stderr",
     "output_type": "stream",
     "text": [
      "     12/200         0G     0.7165     0.8082     0.9153          8        512: 100%|██████████| 4/4 [00:04<00:00,  1.11s/it]\n",
      "                 Class     Images  Instances      Box(P          R      mAP50  mAP50-95): 100%|██████████| 1/1 [00:00<00:00,  2.13it/s]"
     ]
    },
    {
     "name": "stdout",
     "output_type": "stream",
     "text": [
      "                   all         12         32       0.95      0.333        0.7      0.566\n"
     ]
    },
    {
     "name": "stderr",
     "output_type": "stream",
     "text": [
      "\n"
     ]
    },
    {
     "name": "stdout",
     "output_type": "stream",
     "text": [
      "\n",
      "      Epoch    GPU_mem   box_loss   cls_loss   dfl_loss  Instances       Size\n"
     ]
    },
    {
     "name": "stderr",
     "output_type": "stream",
     "text": [
      "     13/200         0G     0.7032     0.7332     0.8817          8        512: 100%|██████████| 4/4 [00:04<00:00,  1.20s/it]\n",
      "                 Class     Images  Instances      Box(P          R      mAP50  mAP50-95): 100%|██████████| 1/1 [00:00<00:00,  1.39it/s]"
     ]
    },
    {
     "name": "stdout",
     "output_type": "stream",
     "text": [
      "                   all         12         32       0.95      0.333      0.833      0.589\n"
     ]
    },
    {
     "name": "stderr",
     "output_type": "stream",
     "text": [
      "\n"
     ]
    },
    {
     "name": "stdout",
     "output_type": "stream",
     "text": [
      "\n",
      "      Epoch    GPU_mem   box_loss   cls_loss   dfl_loss  Instances       Size\n"
     ]
    },
    {
     "name": "stderr",
     "output_type": "stream",
     "text": [
      "     14/200         0G      0.683      0.732     0.8991         15        512: 100%|██████████| 4/4 [00:04<00:00,  1.14s/it]\n",
      "                 Class     Images  Instances      Box(P          R      mAP50  mAP50-95): 100%|██████████| 1/1 [00:00<00:00,  2.39it/s]"
     ]
    },
    {
     "name": "stdout",
     "output_type": "stream",
     "text": [
      "                   all         12         32       0.95      0.333      0.874      0.575\n"
     ]
    },
    {
     "name": "stderr",
     "output_type": "stream",
     "text": [
      "\n"
     ]
    },
    {
     "name": "stdout",
     "output_type": "stream",
     "text": [
      "\n",
      "      Epoch    GPU_mem   box_loss   cls_loss   dfl_loss  Instances       Size\n"
     ]
    },
    {
     "name": "stderr",
     "output_type": "stream",
     "text": [
      "     15/200         0G     0.6966     0.7513     0.9238          8        512: 100%|██████████| 4/4 [00:04<00:00,  1.18s/it]\n",
      "                 Class     Images  Instances      Box(P          R      mAP50  mAP50-95): 100%|██████████| 1/1 [00:00<00:00,  2.46it/s]"
     ]
    },
    {
     "name": "stdout",
     "output_type": "stream",
     "text": [
      "                   all         12         32       0.95      0.333      0.772      0.567\n"
     ]
    },
    {
     "name": "stderr",
     "output_type": "stream",
     "text": [
      "\n"
     ]
    },
    {
     "name": "stdout",
     "output_type": "stream",
     "text": [
      "\n",
      "      Epoch    GPU_mem   box_loss   cls_loss   dfl_loss  Instances       Size\n"
     ]
    },
    {
     "name": "stderr",
     "output_type": "stream",
     "text": [
      "     16/200         0G     0.6429     0.7216     0.8478          7        512: 100%|██████████| 4/4 [00:04<00:00,  1.11s/it]\n",
      "                 Class     Images  Instances      Box(P          R      mAP50  mAP50-95): 100%|██████████| 1/1 [00:00<00:00,  2.56it/s]"
     ]
    },
    {
     "name": "stdout",
     "output_type": "stream",
     "text": [
      "                   all         12         32       0.95      0.333       0.75      0.566\n"
     ]
    },
    {
     "name": "stderr",
     "output_type": "stream",
     "text": [
      "\n"
     ]
    },
    {
     "name": "stdout",
     "output_type": "stream",
     "text": [
      "\n",
      "      Epoch    GPU_mem   box_loss   cls_loss   dfl_loss  Instances       Size\n"
     ]
    },
    {
     "name": "stderr",
     "output_type": "stream",
     "text": [
      "     17/200         0G     0.7147     0.7199     0.9039         18        512: 100%|██████████| 4/4 [00:04<00:00,  1.12s/it]\n",
      "                 Class     Images  Instances      Box(P          R      mAP50  mAP50-95): 100%|██████████| 1/1 [00:00<00:00,  2.60it/s]"
     ]
    },
    {
     "name": "stdout",
     "output_type": "stream",
     "text": [
      "                   all         12         32       0.95      0.575      0.817      0.582\n"
     ]
    },
    {
     "name": "stderr",
     "output_type": "stream",
     "text": [
      "\n"
     ]
    },
    {
     "name": "stdout",
     "output_type": "stream",
     "text": [
      "\n",
      "      Epoch    GPU_mem   box_loss   cls_loss   dfl_loss  Instances       Size\n"
     ]
    },
    {
     "name": "stderr",
     "output_type": "stream",
     "text": [
      "     18/200         0G     0.6926     0.6923     0.8806         13        512: 100%|██████████| 4/4 [00:04<00:00,  1.13s/it]\n",
      "                 Class     Images  Instances      Box(P          R      mAP50  mAP50-95): 100%|██████████| 1/1 [00:00<00:00,  2.58it/s]"
     ]
    },
    {
     "name": "stdout",
     "output_type": "stream",
     "text": [
      "                   all         12         32      0.913      0.667      0.904      0.647\n"
     ]
    },
    {
     "name": "stderr",
     "output_type": "stream",
     "text": [
      "\n"
     ]
    },
    {
     "name": "stdout",
     "output_type": "stream",
     "text": [
      "\n",
      "      Epoch    GPU_mem   box_loss   cls_loss   dfl_loss  Instances       Size\n"
     ]
    },
    {
     "name": "stderr",
     "output_type": "stream",
     "text": [
      "     19/200         0G      0.747      0.704     0.8631         17        512: 100%|██████████| 4/4 [00:04<00:00,  1.20s/it]\n",
      "                 Class     Images  Instances      Box(P          R      mAP50  mAP50-95): 100%|██████████| 1/1 [00:00<00:00,  1.60it/s]"
     ]
    },
    {
     "name": "stdout",
     "output_type": "stream",
     "text": [
      "                   all         12         32      0.912      0.667      0.902      0.676\n"
     ]
    },
    {
     "name": "stderr",
     "output_type": "stream",
     "text": [
      "\n"
     ]
    },
    {
     "name": "stdout",
     "output_type": "stream",
     "text": [
      "\n",
      "      Epoch    GPU_mem   box_loss   cls_loss   dfl_loss  Instances       Size\n"
     ]
    },
    {
     "name": "stderr",
     "output_type": "stream",
     "text": [
      "     20/200         0G     0.6816     0.6907      0.908         11        512: 100%|██████████| 4/4 [00:04<00:00,  1.09s/it]\n",
      "                 Class     Images  Instances      Box(P          R      mAP50  mAP50-95): 100%|██████████| 1/1 [00:00<00:00,  2.55it/s]"
     ]
    },
    {
     "name": "stdout",
     "output_type": "stream",
     "text": [
      "                   all         12         32      0.911      0.667      0.905       0.67\n"
     ]
    },
    {
     "name": "stderr",
     "output_type": "stream",
     "text": [
      "\n"
     ]
    },
    {
     "name": "stdout",
     "output_type": "stream",
     "text": [
      "\n",
      "      Epoch    GPU_mem   box_loss   cls_loss   dfl_loss  Instances       Size\n"
     ]
    },
    {
     "name": "stderr",
     "output_type": "stream",
     "text": [
      "     21/200         0G     0.7243     0.7011     0.8984         16        512: 100%|██████████| 4/4 [00:04<00:00,  1.11s/it]\n",
      "                 Class     Images  Instances      Box(P          R      mAP50  mAP50-95): 100%|██████████| 1/1 [00:00<00:00,  2.61it/s]"
     ]
    },
    {
     "name": "stdout",
     "output_type": "stream",
     "text": [
      "                   all         12         32      0.922      0.659      0.917      0.661\n"
     ]
    },
    {
     "name": "stderr",
     "output_type": "stream",
     "text": [
      "\n"
     ]
    },
    {
     "name": "stdout",
     "output_type": "stream",
     "text": [
      "\n",
      "      Epoch    GPU_mem   box_loss   cls_loss   dfl_loss  Instances       Size\n"
     ]
    },
    {
     "name": "stderr",
     "output_type": "stream",
     "text": [
      "     22/200         0G     0.7193     0.7108     0.9017         16        512: 100%|██████████| 4/4 [00:04<00:00,  1.09s/it]\n",
      "                 Class     Images  Instances      Box(P          R      mAP50  mAP50-95): 100%|██████████| 1/1 [00:00<00:00,  2.38it/s]"
     ]
    },
    {
     "name": "stdout",
     "output_type": "stream",
     "text": [
      "                   all         12         32       0.86      0.691      0.915       0.68\n"
     ]
    },
    {
     "name": "stderr",
     "output_type": "stream",
     "text": [
      "\n"
     ]
    },
    {
     "name": "stdout",
     "output_type": "stream",
     "text": [
      "\n",
      "      Epoch    GPU_mem   box_loss   cls_loss   dfl_loss  Instances       Size\n"
     ]
    },
    {
     "name": "stderr",
     "output_type": "stream",
     "text": [
      "     23/200         0G     0.6438     0.7175     0.8999         10        512: 100%|██████████| 4/4 [00:04<00:00,  1.08s/it]\n",
      "                 Class     Images  Instances      Box(P          R      mAP50  mAP50-95): 100%|██████████| 1/1 [00:00<00:00,  2.66it/s]"
     ]
    },
    {
     "name": "stdout",
     "output_type": "stream",
     "text": [
      "                   all         12         32      0.922      0.664      0.923      0.721\n"
     ]
    },
    {
     "name": "stderr",
     "output_type": "stream",
     "text": [
      "\n"
     ]
    },
    {
     "name": "stdout",
     "output_type": "stream",
     "text": [
      "\n",
      "      Epoch    GPU_mem   box_loss   cls_loss   dfl_loss  Instances       Size\n"
     ]
    },
    {
     "name": "stderr",
     "output_type": "stream",
     "text": [
      "     24/200         0G     0.6801     0.7253     0.9057         10        512: 100%|██████████| 4/4 [00:04<00:00,  1.10s/it]\n",
      "                 Class     Images  Instances      Box(P          R      mAP50  mAP50-95): 100%|██████████| 1/1 [00:00<00:00,  2.65it/s]"
     ]
    },
    {
     "name": "stdout",
     "output_type": "stream",
     "text": [
      "                   all         12         32      0.914      0.667       0.93      0.702\n"
     ]
    },
    {
     "name": "stderr",
     "output_type": "stream",
     "text": [
      "\n"
     ]
    },
    {
     "name": "stdout",
     "output_type": "stream",
     "text": [
      "\n",
      "      Epoch    GPU_mem   box_loss   cls_loss   dfl_loss  Instances       Size\n"
     ]
    },
    {
     "name": "stderr",
     "output_type": "stream",
     "text": [
      "     25/200         0G     0.6629     0.6845     0.9151         11        512: 100%|██████████| 4/4 [00:04<00:00,  1.17s/it]\n",
      "                 Class     Images  Instances      Box(P          R      mAP50  mAP50-95): 100%|██████████| 1/1 [00:00<00:00,  2.67it/s]"
     ]
    },
    {
     "name": "stdout",
     "output_type": "stream",
     "text": [
      "                   all         12         32      0.905      0.667      0.926      0.652\n"
     ]
    },
    {
     "name": "stderr",
     "output_type": "stream",
     "text": [
      "\n"
     ]
    },
    {
     "name": "stdout",
     "output_type": "stream",
     "text": [
      "\n",
      "      Epoch    GPU_mem   box_loss   cls_loss   dfl_loss  Instances       Size\n"
     ]
    },
    {
     "name": "stderr",
     "output_type": "stream",
     "text": [
      "     26/200         0G     0.7558     0.7161     0.8749         23        512: 100%|██████████| 4/4 [00:04<00:00,  1.08s/it]\n",
      "                 Class     Images  Instances      Box(P          R      mAP50  mAP50-95): 100%|██████████| 1/1 [00:00<00:00,  2.70it/s]"
     ]
    },
    {
     "name": "stdout",
     "output_type": "stream",
     "text": [
      "                   all         12         32      0.865      0.931      0.919      0.667\n"
     ]
    },
    {
     "name": "stderr",
     "output_type": "stream",
     "text": [
      "\n"
     ]
    },
    {
     "name": "stdout",
     "output_type": "stream",
     "text": [
      "\n",
      "      Epoch    GPU_mem   box_loss   cls_loss   dfl_loss  Instances       Size\n"
     ]
    },
    {
     "name": "stderr",
     "output_type": "stream",
     "text": [
      "     27/200         0G      0.725     0.7529     0.9007         16        512: 100%|██████████| 4/4 [00:04<00:00,  1.10s/it]\n",
      "                 Class     Images  Instances      Box(P          R      mAP50  mAP50-95): 100%|██████████| 1/1 [00:00<00:00,  2.78it/s]"
     ]
    },
    {
     "name": "stdout",
     "output_type": "stream",
     "text": [
      "                   all         12         32      0.861      0.967      0.914      0.673\n"
     ]
    },
    {
     "name": "stderr",
     "output_type": "stream",
     "text": [
      "\n"
     ]
    },
    {
     "name": "stdout",
     "output_type": "stream",
     "text": [
      "\n",
      "      Epoch    GPU_mem   box_loss   cls_loss   dfl_loss  Instances       Size\n"
     ]
    },
    {
     "name": "stderr",
     "output_type": "stream",
     "text": [
      "     28/200         0G     0.6857     0.6504     0.8897         13        512: 100%|██████████| 4/4 [00:04<00:00,  1.08s/it]\n",
      "                 Class     Images  Instances      Box(P          R      mAP50  mAP50-95): 100%|██████████| 1/1 [00:00<00:00,  2.71it/s]"
     ]
    },
    {
     "name": "stdout",
     "output_type": "stream",
     "text": [
      "                   all         12         32      0.868      0.967      0.913      0.671\n"
     ]
    },
    {
     "name": "stderr",
     "output_type": "stream",
     "text": [
      "\n"
     ]
    },
    {
     "name": "stdout",
     "output_type": "stream",
     "text": [
      "\n",
      "      Epoch    GPU_mem   box_loss   cls_loss   dfl_loss  Instances       Size\n"
     ]
    },
    {
     "name": "stderr",
     "output_type": "stream",
     "text": [
      "     29/200         0G     0.6875     0.6865     0.8998         13        512: 100%|██████████| 4/4 [00:04<00:00,  1.08s/it]\n",
      "                 Class     Images  Instances      Box(P          R      mAP50  mAP50-95): 100%|██████████| 1/1 [00:00<00:00,  2.77it/s]"
     ]
    },
    {
     "name": "stdout",
     "output_type": "stream",
     "text": [
      "                   all         12         32      0.856      0.967      0.923      0.697\n"
     ]
    },
    {
     "name": "stderr",
     "output_type": "stream",
     "text": [
      "\n"
     ]
    },
    {
     "name": "stdout",
     "output_type": "stream",
     "text": [
      "\n",
      "      Epoch    GPU_mem   box_loss   cls_loss   dfl_loss  Instances       Size\n"
     ]
    },
    {
     "name": "stderr",
     "output_type": "stream",
     "text": [
      "     30/200         0G     0.6319     0.6393      0.873          8        512: 100%|██████████| 4/4 [00:04<00:00,  1.10s/it]\n",
      "                 Class     Images  Instances      Box(P          R      mAP50  mAP50-95): 100%|██████████| 1/1 [00:00<00:00,  2.70it/s]"
     ]
    },
    {
     "name": "stdout",
     "output_type": "stream",
     "text": [
      "                   all         12         32      0.828      0.933       0.86       0.67\n"
     ]
    },
    {
     "name": "stderr",
     "output_type": "stream",
     "text": [
      "\n"
     ]
    },
    {
     "name": "stdout",
     "output_type": "stream",
     "text": [
      "\n",
      "      Epoch    GPU_mem   box_loss   cls_loss   dfl_loss  Instances       Size\n"
     ]
    },
    {
     "name": "stderr",
     "output_type": "stream",
     "text": [
      "     31/200         0G     0.6663     0.6436     0.8781          8        512: 100%|██████████| 4/4 [00:04<00:00,  1.07s/it]\n",
      "                 Class     Images  Instances      Box(P          R      mAP50  mAP50-95): 100%|██████████| 1/1 [00:00<00:00,  2.73it/s]"
     ]
    },
    {
     "name": "stdout",
     "output_type": "stream",
     "text": [
      "                   all         12         32      0.859      0.967      0.941      0.699\n"
     ]
    },
    {
     "name": "stderr",
     "output_type": "stream",
     "text": [
      "\n"
     ]
    },
    {
     "name": "stdout",
     "output_type": "stream",
     "text": [
      "\n",
      "      Epoch    GPU_mem   box_loss   cls_loss   dfl_loss  Instances       Size\n"
     ]
    },
    {
     "name": "stderr",
     "output_type": "stream",
     "text": [
      "     32/200         0G     0.6823     0.6377     0.8971         14        512: 100%|██████████| 4/4 [00:04<00:00,  1.08s/it]\n",
      "                 Class     Images  Instances      Box(P          R      mAP50  mAP50-95): 100%|██████████| 1/1 [00:00<00:00,  2.78it/s]"
     ]
    },
    {
     "name": "stdout",
     "output_type": "stream",
     "text": [
      "                   all         12         32      0.855      0.967      0.938      0.705\n"
     ]
    },
    {
     "name": "stderr",
     "output_type": "stream",
     "text": [
      "\n"
     ]
    },
    {
     "name": "stdout",
     "output_type": "stream",
     "text": [
      "\n",
      "      Epoch    GPU_mem   box_loss   cls_loss   dfl_loss  Instances       Size\n"
     ]
    },
    {
     "name": "stderr",
     "output_type": "stream",
     "text": [
      "     33/200         0G     0.5675     0.6473     0.8627          6        512: 100%|██████████| 4/4 [00:04<00:00,  1.14s/it]\n",
      "                 Class     Images  Instances      Box(P          R      mAP50  mAP50-95): 100%|██████████| 1/1 [00:00<00:00,  2.75it/s]"
     ]
    },
    {
     "name": "stdout",
     "output_type": "stream",
     "text": [
      "                   all         12         32      0.866      0.967      0.923      0.686\n"
     ]
    },
    {
     "name": "stderr",
     "output_type": "stream",
     "text": [
      "\n"
     ]
    },
    {
     "name": "stdout",
     "output_type": "stream",
     "text": [
      "\n",
      "      Epoch    GPU_mem   box_loss   cls_loss   dfl_loss  Instances       Size\n"
     ]
    },
    {
     "name": "stderr",
     "output_type": "stream",
     "text": [
      "     34/200         0G     0.6959     0.6929      0.922          7        512: 100%|██████████| 4/4 [00:04<00:00,  1.07s/it]\n",
      "                 Class     Images  Instances      Box(P          R      mAP50  mAP50-95): 100%|██████████| 1/1 [00:00<00:00,  2.73it/s]"
     ]
    },
    {
     "name": "stdout",
     "output_type": "stream",
     "text": [
      "                   all         12         32      0.873      0.967      0.928      0.681\n"
     ]
    },
    {
     "name": "stderr",
     "output_type": "stream",
     "text": [
      "\n"
     ]
    },
    {
     "name": "stdout",
     "output_type": "stream",
     "text": [
      "\n",
      "      Epoch    GPU_mem   box_loss   cls_loss   dfl_loss  Instances       Size\n"
     ]
    },
    {
     "name": "stderr",
     "output_type": "stream",
     "text": [
      "     35/200         0G     0.6344     0.6215     0.8647         16        512: 100%|██████████| 4/4 [00:04<00:00,  1.08s/it]\n",
      "                 Class     Images  Instances      Box(P          R      mAP50  mAP50-95): 100%|██████████| 1/1 [00:00<00:00,  2.72it/s]"
     ]
    },
    {
     "name": "stdout",
     "output_type": "stream",
     "text": [
      "                   all         12         32       0.87      0.967      0.939      0.689\n"
     ]
    },
    {
     "name": "stderr",
     "output_type": "stream",
     "text": [
      "\n"
     ]
    },
    {
     "name": "stdout",
     "output_type": "stream",
     "text": [
      "\n",
      "      Epoch    GPU_mem   box_loss   cls_loss   dfl_loss  Instances       Size\n"
     ]
    },
    {
     "name": "stderr",
     "output_type": "stream",
     "text": [
      "     36/200         0G      0.616     0.6164     0.8824          7        512: 100%|██████████| 4/4 [00:04<00:00,  1.11s/it]\n",
      "                 Class     Images  Instances      Box(P          R      mAP50  mAP50-95): 100%|██████████| 1/1 [00:00<00:00,  2.54it/s]"
     ]
    },
    {
     "name": "stdout",
     "output_type": "stream",
     "text": [
      "                   all         12         32      0.867      0.967      0.954        0.7\n"
     ]
    },
    {
     "name": "stderr",
     "output_type": "stream",
     "text": [
      "\n"
     ]
    },
    {
     "name": "stdout",
     "output_type": "stream",
     "text": [
      "\n",
      "      Epoch    GPU_mem   box_loss   cls_loss   dfl_loss  Instances       Size\n"
     ]
    },
    {
     "name": "stderr",
     "output_type": "stream",
     "text": [
      "     37/200         0G     0.6374     0.6143     0.8745         12        512: 100%|██████████| 4/4 [00:04<00:00,  1.08s/it]\n",
      "                 Class     Images  Instances      Box(P          R      mAP50  mAP50-95): 100%|██████████| 1/1 [00:00<00:00,  2.80it/s]"
     ]
    },
    {
     "name": "stdout",
     "output_type": "stream",
     "text": [
      "                   all         12         32      0.832      0.933      0.879      0.689\n"
     ]
    },
    {
     "name": "stderr",
     "output_type": "stream",
     "text": [
      "\n"
     ]
    },
    {
     "name": "stdout",
     "output_type": "stream",
     "text": [
      "\n",
      "      Epoch    GPU_mem   box_loss   cls_loss   dfl_loss  Instances       Size\n"
     ]
    },
    {
     "name": "stderr",
     "output_type": "stream",
     "text": [
      "     38/200         0G     0.6509     0.6734     0.8805          6        512: 100%|██████████| 4/4 [00:04<00:00,  1.08s/it]\n",
      "                 Class     Images  Instances      Box(P          R      mAP50  mAP50-95): 100%|██████████| 1/1 [00:00<00:00,  2.73it/s]"
     ]
    },
    {
     "name": "stdout",
     "output_type": "stream",
     "text": [
      "                   all         12         32      0.832      0.933      0.876      0.657\n"
     ]
    },
    {
     "name": "stderr",
     "output_type": "stream",
     "text": [
      "\n"
     ]
    },
    {
     "name": "stdout",
     "output_type": "stream",
     "text": [
      "\n",
      "      Epoch    GPU_mem   box_loss   cls_loss   dfl_loss  Instances       Size\n"
     ]
    },
    {
     "name": "stderr",
     "output_type": "stream",
     "text": [
      "     39/200         0G     0.6391     0.5921     0.8934         13        512: 100%|██████████| 4/4 [00:04<00:00,  1.13s/it]\n",
      "                 Class     Images  Instances      Box(P          R      mAP50  mAP50-95): 100%|██████████| 1/1 [00:00<00:00,  2.76it/s]"
     ]
    },
    {
     "name": "stdout",
     "output_type": "stream",
     "text": [
      "                   all         12         32      0.868      0.967      0.945      0.668\n"
     ]
    },
    {
     "name": "stderr",
     "output_type": "stream",
     "text": [
      "\n"
     ]
    },
    {
     "name": "stdout",
     "output_type": "stream",
     "text": [
      "\n",
      "      Epoch    GPU_mem   box_loss   cls_loss   dfl_loss  Instances       Size\n"
     ]
    },
    {
     "name": "stderr",
     "output_type": "stream",
     "text": [
      "     40/200         0G     0.6349     0.5743     0.8676          9        512: 100%|██████████| 4/4 [00:04<00:00,  1.18s/it]\n",
      "                 Class     Images  Instances      Box(P          R      mAP50  mAP50-95): 100%|██████████| 1/1 [00:00<00:00,  2.73it/s]"
     ]
    },
    {
     "name": "stdout",
     "output_type": "stream",
     "text": [
      "                   all         12         32      0.868      0.967      0.951      0.701\n"
     ]
    },
    {
     "name": "stderr",
     "output_type": "stream",
     "text": [
      "\n"
     ]
    },
    {
     "name": "stdout",
     "output_type": "stream",
     "text": [
      "\n",
      "      Epoch    GPU_mem   box_loss   cls_loss   dfl_loss  Instances       Size\n"
     ]
    },
    {
     "name": "stderr",
     "output_type": "stream",
     "text": [
      "     41/200         0G     0.6843     0.6329     0.8829         15        512: 100%|██████████| 4/4 [00:04<00:00,  1.07s/it]\n",
      "                 Class     Images  Instances      Box(P          R      mAP50  mAP50-95): 100%|██████████| 1/1 [00:00<00:00,  2.74it/s]"
     ]
    },
    {
     "name": "stdout",
     "output_type": "stream",
     "text": [
      "                   all         12         32      0.878      0.967      0.955      0.714\n"
     ]
    },
    {
     "name": "stderr",
     "output_type": "stream",
     "text": [
      "\n"
     ]
    },
    {
     "name": "stdout",
     "output_type": "stream",
     "text": [
      "\n",
      "      Epoch    GPU_mem   box_loss   cls_loss   dfl_loss  Instances       Size\n"
     ]
    },
    {
     "name": "stderr",
     "output_type": "stream",
     "text": [
      "     42/200         0G     0.6368      0.564     0.8841         15        512: 100%|██████████| 4/4 [00:04<00:00,  1.11s/it]\n",
      "                 Class     Images  Instances      Box(P          R      mAP50  mAP50-95): 100%|██████████| 1/1 [00:00<00:00,  2.77it/s]"
     ]
    },
    {
     "name": "stdout",
     "output_type": "stream",
     "text": [
      "                   all         12         32      0.883      0.967      0.957      0.703\n"
     ]
    },
    {
     "name": "stderr",
     "output_type": "stream",
     "text": [
      "\n"
     ]
    },
    {
     "name": "stdout",
     "output_type": "stream",
     "text": [
      "\n",
      "      Epoch    GPU_mem   box_loss   cls_loss   dfl_loss  Instances       Size\n"
     ]
    },
    {
     "name": "stderr",
     "output_type": "stream",
     "text": [
      "     43/200         0G     0.6155     0.5636     0.8742         10        512: 100%|██████████| 4/4 [00:04<00:00,  1.08s/it]\n",
      "                 Class     Images  Instances      Box(P          R      mAP50  mAP50-95): 100%|██████████| 1/1 [00:00<00:00,  2.73it/s]"
     ]
    },
    {
     "name": "stdout",
     "output_type": "stream",
     "text": [
      "                   all         12         32      0.879      0.967      0.951      0.704\n"
     ]
    },
    {
     "name": "stderr",
     "output_type": "stream",
     "text": [
      "\n"
     ]
    },
    {
     "name": "stdout",
     "output_type": "stream",
     "text": [
      "\n",
      "      Epoch    GPU_mem   box_loss   cls_loss   dfl_loss  Instances       Size\n"
     ]
    },
    {
     "name": "stderr",
     "output_type": "stream",
     "text": [
      "     44/200         0G     0.6091     0.5627     0.8688         16        512: 100%|██████████| 4/4 [00:04<00:00,  1.08s/it]\n",
      "                 Class     Images  Instances      Box(P          R      mAP50  mAP50-95): 100%|██████████| 1/1 [00:00<00:00,  2.73it/s]"
     ]
    },
    {
     "name": "stdout",
     "output_type": "stream",
     "text": [
      "                   all         12         32      0.869      0.988      0.963      0.687\n"
     ]
    },
    {
     "name": "stderr",
     "output_type": "stream",
     "text": [
      "\n"
     ]
    },
    {
     "name": "stdout",
     "output_type": "stream",
     "text": [
      "\n",
      "      Epoch    GPU_mem   box_loss   cls_loss   dfl_loss  Instances       Size\n"
     ]
    },
    {
     "name": "stderr",
     "output_type": "stream",
     "text": [
      "     45/200         0G     0.5751     0.5485     0.8531          8        512: 100%|██████████| 4/4 [00:04<00:00,  1.10s/it]\n",
      "                 Class     Images  Instances      Box(P          R      mAP50  mAP50-95): 100%|██████████| 1/1 [00:00<00:00,  2.73it/s]"
     ]
    },
    {
     "name": "stdout",
     "output_type": "stream",
     "text": [
      "                   all         12         32      0.869      0.984      0.958      0.691\n"
     ]
    },
    {
     "name": "stderr",
     "output_type": "stream",
     "text": [
      "\n"
     ]
    },
    {
     "name": "stdout",
     "output_type": "stream",
     "text": [
      "\n",
      "      Epoch    GPU_mem   box_loss   cls_loss   dfl_loss  Instances       Size\n"
     ]
    },
    {
     "name": "stderr",
     "output_type": "stream",
     "text": [
      "     46/200         0G     0.6268     0.6134     0.8989          7        512: 100%|██████████| 4/4 [00:04<00:00,  1.08s/it]\n",
      "                 Class     Images  Instances      Box(P          R      mAP50  mAP50-95): 100%|██████████| 1/1 [00:00<00:00,  2.70it/s]"
     ]
    },
    {
     "name": "stdout",
     "output_type": "stream",
     "text": [
      "                   all         12         32      0.869      0.983      0.956      0.708\n"
     ]
    },
    {
     "name": "stderr",
     "output_type": "stream",
     "text": [
      "\n"
     ]
    },
    {
     "name": "stdout",
     "output_type": "stream",
     "text": [
      "\n",
      "      Epoch    GPU_mem   box_loss   cls_loss   dfl_loss  Instances       Size\n"
     ]
    },
    {
     "name": "stderr",
     "output_type": "stream",
     "text": [
      "     47/200         0G     0.6304     0.5872     0.8927         11        512: 100%|██████████| 4/4 [00:04<00:00,  1.08s/it]\n",
      "                 Class     Images  Instances      Box(P          R      mAP50  mAP50-95): 100%|██████████| 1/1 [00:00<00:00,  2.71it/s]"
     ]
    },
    {
     "name": "stdout",
     "output_type": "stream",
     "text": [
      "                   all         12         32      0.874      0.962      0.954      0.691\n"
     ]
    },
    {
     "name": "stderr",
     "output_type": "stream",
     "text": [
      "\n"
     ]
    },
    {
     "name": "stdout",
     "output_type": "stream",
     "text": [
      "\n",
      "      Epoch    GPU_mem   box_loss   cls_loss   dfl_loss  Instances       Size\n"
     ]
    },
    {
     "name": "stderr",
     "output_type": "stream",
     "text": [
      "     48/200         0G     0.7062     0.5671     0.9367         10        512: 100%|██████████| 4/4 [00:04<00:00,  1.12s/it]\n",
      "                 Class     Images  Instances      Box(P          R      mAP50  mAP50-95): 100%|██████████| 1/1 [00:00<00:00,  2.50it/s]"
     ]
    },
    {
     "name": "stdout",
     "output_type": "stream",
     "text": [
      "                   all         12         32      0.886      0.963      0.943       0.69\n"
     ]
    },
    {
     "name": "stderr",
     "output_type": "stream",
     "text": [
      "\n"
     ]
    },
    {
     "name": "stdout",
     "output_type": "stream",
     "text": [
      "\n",
      "      Epoch    GPU_mem   box_loss   cls_loss   dfl_loss  Instances       Size\n"
     ]
    },
    {
     "name": "stderr",
     "output_type": "stream",
     "text": [
      "     49/200         0G     0.5944     0.5307     0.8546         14        512: 100%|██████████| 4/4 [00:04<00:00,  1.22s/it]\n",
      "                 Class     Images  Instances      Box(P          R      mAP50  mAP50-95): 100%|██████████| 1/1 [00:00<00:00,  2.49it/s]"
     ]
    },
    {
     "name": "stdout",
     "output_type": "stream",
     "text": [
      "                   all         12         32      0.895      0.965      0.941       0.67\n"
     ]
    },
    {
     "name": "stderr",
     "output_type": "stream",
     "text": [
      "\n"
     ]
    },
    {
     "name": "stdout",
     "output_type": "stream",
     "text": [
      "\n",
      "      Epoch    GPU_mem   box_loss   cls_loss   dfl_loss  Instances       Size\n"
     ]
    },
    {
     "name": "stderr",
     "output_type": "stream",
     "text": [
      "     50/200         0G      0.611     0.5686     0.8718          6        512: 100%|██████████| 4/4 [00:04<00:00,  1.21s/it]\n",
      "                 Class     Images  Instances      Box(P          R      mAP50  mAP50-95): 100%|██████████| 1/1 [00:00<00:00,  2.13it/s]"
     ]
    },
    {
     "name": "stdout",
     "output_type": "stream",
     "text": [
      "                   all         12         32      0.891      0.967      0.953      0.683\n"
     ]
    },
    {
     "name": "stderr",
     "output_type": "stream",
     "text": [
      "\n"
     ]
    },
    {
     "name": "stdout",
     "output_type": "stream",
     "text": [
      "\n",
      "      Epoch    GPU_mem   box_loss   cls_loss   dfl_loss  Instances       Size\n"
     ]
    },
    {
     "name": "stderr",
     "output_type": "stream",
     "text": [
      "     51/200         0G     0.5551      0.506     0.8657          9        512: 100%|██████████| 4/4 [00:04<00:00,  1.15s/it]\n",
      "                 Class     Images  Instances      Box(P          R      mAP50  mAP50-95): 100%|██████████| 1/1 [00:00<00:00,  2.76it/s]"
     ]
    },
    {
     "name": "stdout",
     "output_type": "stream",
     "text": [
      "                   all         12         32      0.888      0.967      0.961      0.698\n"
     ]
    },
    {
     "name": "stderr",
     "output_type": "stream",
     "text": [
      "\n"
     ]
    },
    {
     "name": "stdout",
     "output_type": "stream",
     "text": [
      "\n",
      "      Epoch    GPU_mem   box_loss   cls_loss   dfl_loss  Instances       Size\n"
     ]
    },
    {
     "name": "stderr",
     "output_type": "stream",
     "text": [
      "     52/200         0G     0.5371     0.5098     0.8957          7        512: 100%|██████████| 4/4 [00:04<00:00,  1.14s/it]\n",
      "                 Class     Images  Instances      Box(P          R      mAP50  mAP50-95): 100%|██████████| 1/1 [00:00<00:00,  2.69it/s]"
     ]
    },
    {
     "name": "stdout",
     "output_type": "stream",
     "text": [
      "                   all         12         32      0.877      0.967      0.964      0.695\n"
     ]
    },
    {
     "name": "stderr",
     "output_type": "stream",
     "text": [
      "\n"
     ]
    },
    {
     "name": "stdout",
     "output_type": "stream",
     "text": [
      "\n",
      "      Epoch    GPU_mem   box_loss   cls_loss   dfl_loss  Instances       Size\n"
     ]
    },
    {
     "name": "stderr",
     "output_type": "stream",
     "text": [
      "     53/200         0G     0.5484     0.5647     0.8523          8        512: 100%|██████████| 4/4 [00:04<00:00,  1.10s/it]\n",
      "                 Class     Images  Instances      Box(P          R      mAP50  mAP50-95): 100%|██████████| 1/1 [00:00<00:00,  2.26it/s]"
     ]
    },
    {
     "name": "stdout",
     "output_type": "stream",
     "text": [
      "                   all         12         32      0.882      0.967       0.97        0.7\n"
     ]
    },
    {
     "name": "stderr",
     "output_type": "stream",
     "text": [
      "\n"
     ]
    },
    {
     "name": "stdout",
     "output_type": "stream",
     "text": [
      "\n",
      "      Epoch    GPU_mem   box_loss   cls_loss   dfl_loss  Instances       Size\n"
     ]
    },
    {
     "name": "stderr",
     "output_type": "stream",
     "text": [
      "     54/200         0G     0.6101     0.5261     0.8699         12        512: 100%|██████████| 4/4 [00:07<00:00,  1.99s/it]\n",
      "                 Class     Images  Instances      Box(P          R      mAP50  mAP50-95): 100%|██████████| 1/1 [00:00<00:00,  2.16it/s]"
     ]
    },
    {
     "name": "stdout",
     "output_type": "stream",
     "text": [
      "                   all         12         32      0.883      0.967      0.962      0.704\n"
     ]
    },
    {
     "name": "stderr",
     "output_type": "stream",
     "text": [
      "\n"
     ]
    },
    {
     "name": "stdout",
     "output_type": "stream",
     "text": [
      "\n",
      "      Epoch    GPU_mem   box_loss   cls_loss   dfl_loss  Instances       Size\n"
     ]
    },
    {
     "name": "stderr",
     "output_type": "stream",
     "text": [
      "     55/200         0G     0.5927     0.5075     0.8456         11        512: 100%|██████████| 4/4 [00:06<00:00,  1.70s/it]\n",
      "                 Class     Images  Instances      Box(P          R      mAP50  mAP50-95): 100%|██████████| 1/1 [00:00<00:00,  2.33it/s]"
     ]
    },
    {
     "name": "stdout",
     "output_type": "stream",
     "text": [
      "                   all         12         32      0.895      0.967      0.961      0.682\n"
     ]
    },
    {
     "name": "stderr",
     "output_type": "stream",
     "text": [
      "\n"
     ]
    },
    {
     "name": "stdout",
     "output_type": "stream",
     "text": [
      "\n",
      "      Epoch    GPU_mem   box_loss   cls_loss   dfl_loss  Instances       Size\n"
     ]
    },
    {
     "name": "stderr",
     "output_type": "stream",
     "text": [
      "     56/200         0G     0.5577     0.5054     0.8526         15        512: 100%|██████████| 4/4 [00:04<00:00,  1.20s/it]\n",
      "                 Class     Images  Instances      Box(P          R      mAP50  mAP50-95): 100%|██████████| 1/1 [00:00<00:00,  2.49it/s]"
     ]
    },
    {
     "name": "stdout",
     "output_type": "stream",
     "text": [
      "                   all         12         32        0.9      0.967      0.962      0.671\n"
     ]
    },
    {
     "name": "stderr",
     "output_type": "stream",
     "text": [
      "\n"
     ]
    },
    {
     "name": "stdout",
     "output_type": "stream",
     "text": [
      "\n",
      "      Epoch    GPU_mem   box_loss   cls_loss   dfl_loss  Instances       Size\n"
     ]
    },
    {
     "name": "stderr",
     "output_type": "stream",
     "text": [
      "     57/200         0G     0.5512     0.4918     0.8664         16        512: 100%|██████████| 4/4 [00:04<00:00,  1.19s/it]\n",
      "                 Class     Images  Instances      Box(P          R      mAP50  mAP50-95): 100%|██████████| 1/1 [00:00<00:00,  2.52it/s]"
     ]
    },
    {
     "name": "stdout",
     "output_type": "stream",
     "text": [
      "                   all         12         32        0.9      0.967      0.968      0.689\n"
     ]
    },
    {
     "name": "stderr",
     "output_type": "stream",
     "text": [
      "\n"
     ]
    },
    {
     "name": "stdout",
     "output_type": "stream",
     "text": [
      "\n",
      "      Epoch    GPU_mem   box_loss   cls_loss   dfl_loss  Instances       Size\n"
     ]
    },
    {
     "name": "stderr",
     "output_type": "stream",
     "text": [
      "     58/200         0G     0.6911      0.576     0.9261          5        512: 100%|██████████| 4/4 [00:04<00:00,  1.22s/it]\n",
      "                 Class     Images  Instances      Box(P          R      mAP50  mAP50-95): 100%|██████████| 1/1 [00:00<00:00,  2.47it/s]"
     ]
    },
    {
     "name": "stdout",
     "output_type": "stream",
     "text": [
      "                   all         12         32      0.893      0.967      0.956      0.687\n"
     ]
    },
    {
     "name": "stderr",
     "output_type": "stream",
     "text": [
      "\n"
     ]
    },
    {
     "name": "stdout",
     "output_type": "stream",
     "text": [
      "\n",
      "      Epoch    GPU_mem   box_loss   cls_loss   dfl_loss  Instances       Size\n"
     ]
    },
    {
     "name": "stderr",
     "output_type": "stream",
     "text": [
      "     59/200         0G     0.5853     0.4943     0.8674         11        512: 100%|██████████| 4/4 [00:04<00:00,  1.19s/it]\n",
      "                 Class     Images  Instances      Box(P          R      mAP50  mAP50-95): 100%|██████████| 1/1 [00:00<00:00,  2.46it/s]"
     ]
    },
    {
     "name": "stdout",
     "output_type": "stream",
     "text": [
      "                   all         12         32      0.881      0.965      0.934      0.703\n"
     ]
    },
    {
     "name": "stderr",
     "output_type": "stream",
     "text": [
      "\n"
     ]
    },
    {
     "name": "stdout",
     "output_type": "stream",
     "text": [
      "\n",
      "      Epoch    GPU_mem   box_loss   cls_loss   dfl_loss  Instances       Size\n"
     ]
    },
    {
     "name": "stderr",
     "output_type": "stream",
     "text": [
      "     60/200         0G     0.5664     0.5179      0.874         14        512: 100%|██████████| 4/4 [00:04<00:00,  1.20s/it]\n",
      "                 Class     Images  Instances      Box(P          R      mAP50  mAP50-95): 100%|██████████| 1/1 [00:00<00:00,  2.46it/s]"
     ]
    },
    {
     "name": "stdout",
     "output_type": "stream",
     "text": [
      "                   all         12         32      0.875      0.965      0.938      0.695\n"
     ]
    },
    {
     "name": "stderr",
     "output_type": "stream",
     "text": [
      "\n"
     ]
    },
    {
     "name": "stdout",
     "output_type": "stream",
     "text": [
      "\n",
      "      Epoch    GPU_mem   box_loss   cls_loss   dfl_loss  Instances       Size\n"
     ]
    },
    {
     "name": "stderr",
     "output_type": "stream",
     "text": [
      "     61/200         0G     0.5783     0.5006       0.87         14        512: 100%|██████████| 4/4 [00:05<00:00,  1.26s/it]\n",
      "                 Class     Images  Instances      Box(P          R      mAP50  mAP50-95): 100%|██████████| 1/1 [00:00<00:00,  2.42it/s]"
     ]
    },
    {
     "name": "stdout",
     "output_type": "stream",
     "text": [
      "                   all         12         32      0.879      0.966      0.936      0.669\n"
     ]
    },
    {
     "name": "stderr",
     "output_type": "stream",
     "text": [
      "\n"
     ]
    },
    {
     "name": "stdout",
     "output_type": "stream",
     "text": [
      "\n",
      "      Epoch    GPU_mem   box_loss   cls_loss   dfl_loss  Instances       Size\n"
     ]
    },
    {
     "name": "stderr",
     "output_type": "stream",
     "text": [
      "     62/200         0G     0.6036     0.5088     0.8777         16        512: 100%|██████████| 4/4 [00:04<00:00,  1.24s/it]\n",
      "                 Class     Images  Instances      Box(P          R      mAP50  mAP50-95): 100%|██████████| 1/1 [00:00<00:00,  2.51it/s]"
     ]
    },
    {
     "name": "stdout",
     "output_type": "stream",
     "text": [
      "                   all         12         32      0.886      0.967      0.942      0.669\n"
     ]
    },
    {
     "name": "stderr",
     "output_type": "stream",
     "text": [
      "\n"
     ]
    },
    {
     "name": "stdout",
     "output_type": "stream",
     "text": [
      "\n",
      "      Epoch    GPU_mem   box_loss   cls_loss   dfl_loss  Instances       Size\n"
     ]
    },
    {
     "name": "stderr",
     "output_type": "stream",
     "text": [
      "     63/200         0G     0.5805     0.5254     0.8828         12        512: 100%|██████████| 4/4 [00:05<00:00,  1.41s/it]\n",
      "                 Class     Images  Instances      Box(P          R      mAP50  mAP50-95): 100%|██████████| 1/1 [00:00<00:00,  2.09it/s]"
     ]
    },
    {
     "name": "stdout",
     "output_type": "stream",
     "text": [
      "                   all         12         32      0.892      0.967      0.944      0.677\n"
     ]
    },
    {
     "name": "stderr",
     "output_type": "stream",
     "text": [
      "\n"
     ]
    },
    {
     "name": "stdout",
     "output_type": "stream",
     "text": [
      "\n",
      "      Epoch    GPU_mem   box_loss   cls_loss   dfl_loss  Instances       Size\n"
     ]
    },
    {
     "name": "stderr",
     "output_type": "stream",
     "text": [
      "     64/200         0G     0.5735        0.5     0.8693         15        512: 100%|██████████| 4/4 [00:04<00:00,  1.15s/it]\n",
      "                 Class     Images  Instances      Box(P          R      mAP50  mAP50-95): 100%|██████████| 1/1 [00:00<00:00,  2.59it/s]"
     ]
    },
    {
     "name": "stdout",
     "output_type": "stream",
     "text": [
      "                   all         12         32      0.895      0.967      0.956      0.699\n"
     ]
    },
    {
     "name": "stderr",
     "output_type": "stream",
     "text": [
      "\n"
     ]
    },
    {
     "name": "stdout",
     "output_type": "stream",
     "text": [
      "\n",
      "      Epoch    GPU_mem   box_loss   cls_loss   dfl_loss  Instances       Size\n"
     ]
    },
    {
     "name": "stderr",
     "output_type": "stream",
     "text": [
      "     65/200         0G     0.6117     0.5049     0.8594         18        512: 100%|██████████| 4/4 [00:04<00:00,  1.13s/it]\n",
      "                 Class     Images  Instances      Box(P          R      mAP50  mAP50-95): 100%|██████████| 1/1 [00:00<00:00,  2.60it/s]"
     ]
    },
    {
     "name": "stdout",
     "output_type": "stream",
     "text": [
      "                   all         12         32      0.893      0.967      0.949      0.703\n"
     ]
    },
    {
     "name": "stderr",
     "output_type": "stream",
     "text": [
      "\n"
     ]
    },
    {
     "name": "stdout",
     "output_type": "stream",
     "text": [
      "\n",
      "      Epoch    GPU_mem   box_loss   cls_loss   dfl_loss  Instances       Size\n"
     ]
    },
    {
     "name": "stderr",
     "output_type": "stream",
     "text": [
      "     66/200         0G      0.615     0.4828     0.8723          9        512: 100%|██████████| 4/4 [00:04<00:00,  1.19s/it]\n",
      "                 Class     Images  Instances      Box(P          R      mAP50  mAP50-95): 100%|██████████| 1/1 [00:00<00:00,  2.66it/s]"
     ]
    },
    {
     "name": "stdout",
     "output_type": "stream",
     "text": [
      "                   all         12         32      0.881      0.995      0.935      0.691\n"
     ]
    },
    {
     "name": "stderr",
     "output_type": "stream",
     "text": [
      "\n"
     ]
    },
    {
     "name": "stdout",
     "output_type": "stream",
     "text": [
      "\n",
      "      Epoch    GPU_mem   box_loss   cls_loss   dfl_loss  Instances       Size\n"
     ]
    },
    {
     "name": "stderr",
     "output_type": "stream",
     "text": [
      "     67/200         0G     0.6002     0.5141     0.8828         10        512: 100%|██████████| 4/4 [00:04<00:00,  1.12s/it]\n",
      "                 Class     Images  Instances      Box(P          R      mAP50  mAP50-95): 100%|██████████| 1/1 [00:00<00:00,  2.62it/s]"
     ]
    },
    {
     "name": "stdout",
     "output_type": "stream",
     "text": [
      "                   all         12         32      0.879      0.994      0.943      0.705\n"
     ]
    },
    {
     "name": "stderr",
     "output_type": "stream",
     "text": [
      "\n"
     ]
    },
    {
     "name": "stdout",
     "output_type": "stream",
     "text": [
      "\n",
      "      Epoch    GPU_mem   box_loss   cls_loss   dfl_loss  Instances       Size\n"
     ]
    },
    {
     "name": "stderr",
     "output_type": "stream",
     "text": [
      "     68/200         0G     0.5852     0.4636     0.8675          9        512: 100%|██████████| 4/4 [00:04<00:00,  1.12s/it]\n",
      "                 Class     Images  Instances      Box(P          R      mAP50  mAP50-95): 100%|██████████| 1/1 [00:00<00:00,  2.61it/s]"
     ]
    },
    {
     "name": "stdout",
     "output_type": "stream",
     "text": [
      "                   all         12         32      0.877      0.994      0.941      0.712\n"
     ]
    },
    {
     "name": "stderr",
     "output_type": "stream",
     "text": [
      "\n"
     ]
    },
    {
     "name": "stdout",
     "output_type": "stream",
     "text": [
      "\n",
      "      Epoch    GPU_mem   box_loss   cls_loss   dfl_loss  Instances       Size\n"
     ]
    },
    {
     "name": "stderr",
     "output_type": "stream",
     "text": [
      "     69/200         0G     0.5629     0.4761      0.838         11        512: 100%|██████████| 4/4 [00:04<00:00,  1.19s/it]\n",
      "                 Class     Images  Instances      Box(P          R      mAP50  mAP50-95): 100%|██████████| 1/1 [00:00<00:00,  2.31it/s]"
     ]
    },
    {
     "name": "stdout",
     "output_type": "stream",
     "text": [
      "                   all         12         32      0.889      0.967      0.939      0.698\n"
     ]
    },
    {
     "name": "stderr",
     "output_type": "stream",
     "text": [
      "\n"
     ]
    },
    {
     "name": "stdout",
     "output_type": "stream",
     "text": [
      "\n",
      "      Epoch    GPU_mem   box_loss   cls_loss   dfl_loss  Instances       Size\n"
     ]
    },
    {
     "name": "stderr",
     "output_type": "stream",
     "text": [
      "     70/200         0G     0.5268     0.4725     0.8268          8        512: 100%|██████████| 4/4 [00:05<00:00,  1.33s/it]\n",
      "                 Class     Images  Instances      Box(P          R      mAP50  mAP50-95): 100%|██████████| 1/1 [00:00<00:00,  1.77it/s]"
     ]
    },
    {
     "name": "stdout",
     "output_type": "stream",
     "text": [
      "                   all         12         32      0.891      0.967      0.933      0.691\n"
     ]
    },
    {
     "name": "stderr",
     "output_type": "stream",
     "text": [
      "\n"
     ]
    },
    {
     "name": "stdout",
     "output_type": "stream",
     "text": [
      "\n",
      "      Epoch    GPU_mem   box_loss   cls_loss   dfl_loss  Instances       Size\n"
     ]
    },
    {
     "name": "stderr",
     "output_type": "stream",
     "text": [
      "     71/200         0G     0.5522      0.467     0.8451         11        512: 100%|██████████| 4/4 [00:04<00:00,  1.13s/it]\n",
      "                 Class     Images  Instances      Box(P          R      mAP50  mAP50-95): 100%|██████████| 1/1 [00:00<00:00,  2.60it/s]"
     ]
    },
    {
     "name": "stdout",
     "output_type": "stream",
     "text": [
      "                   all         12         32      0.894      0.967       0.93      0.687\n"
     ]
    },
    {
     "name": "stderr",
     "output_type": "stream",
     "text": [
      "\n"
     ]
    },
    {
     "name": "stdout",
     "output_type": "stream",
     "text": [
      "\n",
      "      Epoch    GPU_mem   box_loss   cls_loss   dfl_loss  Instances       Size\n"
     ]
    },
    {
     "name": "stderr",
     "output_type": "stream",
     "text": [
      "     72/200         0G     0.5563     0.4615     0.8717         10        512: 100%|██████████| 4/4 [00:04<00:00,  1.13s/it]\n",
      "                 Class     Images  Instances      Box(P          R      mAP50  mAP50-95): 100%|██████████| 1/1 [00:00<00:00,  2.50it/s]"
     ]
    },
    {
     "name": "stdout",
     "output_type": "stream",
     "text": [
      "                   all         12         32      0.895      0.967      0.918      0.673\n"
     ]
    },
    {
     "name": "stderr",
     "output_type": "stream",
     "text": [
      "\n"
     ]
    },
    {
     "name": "stdout",
     "output_type": "stream",
     "text": [
      "\n",
      "      Epoch    GPU_mem   box_loss   cls_loss   dfl_loss  Instances       Size\n"
     ]
    },
    {
     "name": "stderr",
     "output_type": "stream",
     "text": [
      "     73/200         0G     0.5655     0.4778     0.8499         13        512: 100%|██████████| 4/4 [00:04<00:00,  1.15s/it]\n",
      "                 Class     Images  Instances      Box(P          R      mAP50  mAP50-95): 100%|██████████| 1/1 [00:00<00:00,  2.53it/s]"
     ]
    },
    {
     "name": "stdout",
     "output_type": "stream",
     "text": [
      "                   all         12         32      0.893      0.967      0.908      0.662\n"
     ]
    },
    {
     "name": "stderr",
     "output_type": "stream",
     "text": [
      "\n"
     ]
    },
    {
     "name": "stdout",
     "output_type": "stream",
     "text": [
      "\n",
      "      Epoch    GPU_mem   box_loss   cls_loss   dfl_loss  Instances       Size\n"
     ]
    },
    {
     "name": "stderr",
     "output_type": "stream",
     "text": [
      "     74/200         0G     0.5527     0.4793     0.8708         16        512: 100%|██████████| 4/4 [00:04<00:00,  1.13s/it]\n",
      "                 Class     Images  Instances      Box(P          R      mAP50  mAP50-95): 100%|██████████| 1/1 [00:00<00:00,  2.49it/s]"
     ]
    },
    {
     "name": "stdout",
     "output_type": "stream",
     "text": [
      "                   all         12         32      0.888      0.967      0.912      0.662\n"
     ]
    },
    {
     "name": "stderr",
     "output_type": "stream",
     "text": [
      "\n"
     ]
    },
    {
     "name": "stdout",
     "output_type": "stream",
     "text": [
      "\n",
      "      Epoch    GPU_mem   box_loss   cls_loss   dfl_loss  Instances       Size\n"
     ]
    },
    {
     "name": "stderr",
     "output_type": "stream",
     "text": [
      "     75/200         0G     0.5731      0.479      0.868         14        512: 100%|██████████| 4/4 [00:04<00:00,  1.23s/it]\n",
      "                 Class     Images  Instances      Box(P          R      mAP50  mAP50-95): 100%|██████████| 1/1 [00:00<00:00,  2.36it/s]"
     ]
    },
    {
     "name": "stdout",
     "output_type": "stream",
     "text": [
      "                   all         12         32      0.886      0.966       0.91       0.67\n"
     ]
    },
    {
     "name": "stderr",
     "output_type": "stream",
     "text": [
      "\n"
     ]
    },
    {
     "name": "stdout",
     "output_type": "stream",
     "text": [
      "\n",
      "      Epoch    GPU_mem   box_loss   cls_loss   dfl_loss  Instances       Size\n"
     ]
    },
    {
     "name": "stderr",
     "output_type": "stream",
     "text": [
      "     76/200         0G     0.5246     0.4447     0.8558         11        512: 100%|██████████| 4/4 [00:05<00:00,  1.27s/it]\n",
      "                 Class     Images  Instances      Box(P          R      mAP50  mAP50-95): 100%|██████████| 1/1 [00:00<00:00,  2.39it/s]"
     ]
    },
    {
     "name": "stdout",
     "output_type": "stream",
     "text": [
      "                   all         12         32      0.883      0.966      0.908       0.67\n"
     ]
    },
    {
     "name": "stderr",
     "output_type": "stream",
     "text": [
      "\n"
     ]
    },
    {
     "name": "stdout",
     "output_type": "stream",
     "text": [
      "\n",
      "      Epoch    GPU_mem   box_loss   cls_loss   dfl_loss  Instances       Size\n"
     ]
    },
    {
     "name": "stderr",
     "output_type": "stream",
     "text": [
      "     77/200         0G     0.6028     0.4841     0.8606         18        512: 100%|██████████| 4/4 [00:04<00:00,  1.23s/it]\n",
      "                 Class     Images  Instances      Box(P          R      mAP50  mAP50-95): 100%|██████████| 1/1 [00:00<00:00,  2.41it/s]"
     ]
    },
    {
     "name": "stdout",
     "output_type": "stream",
     "text": [
      "                   all         12         32      0.884      0.966        0.9       0.66\n"
     ]
    },
    {
     "name": "stderr",
     "output_type": "stream",
     "text": [
      "\n"
     ]
    },
    {
     "name": "stdout",
     "output_type": "stream",
     "text": [
      "\n",
      "      Epoch    GPU_mem   box_loss   cls_loss   dfl_loss  Instances       Size\n"
     ]
    },
    {
     "name": "stderr",
     "output_type": "stream",
     "text": [
      "     78/200         0G     0.5476     0.4646     0.8511         22        512: 100%|██████████| 4/4 [00:05<00:00,  1.27s/it]\n",
      "                 Class     Images  Instances      Box(P          R      mAP50  mAP50-95): 100%|██████████| 1/1 [00:00<00:00,  2.31it/s]"
     ]
    },
    {
     "name": "stdout",
     "output_type": "stream",
     "text": [
      "                   all         12         32      0.885      0.967      0.905      0.665\n"
     ]
    },
    {
     "name": "stderr",
     "output_type": "stream",
     "text": [
      "\n"
     ]
    },
    {
     "name": "stdout",
     "output_type": "stream",
     "text": [
      "\n",
      "      Epoch    GPU_mem   box_loss   cls_loss   dfl_loss  Instances       Size\n"
     ]
    },
    {
     "name": "stderr",
     "output_type": "stream",
     "text": [
      "     79/200         0G     0.5381     0.4704     0.8802          8        512: 100%|██████████| 4/4 [00:05<00:00,  1.38s/it]\n",
      "                 Class     Images  Instances      Box(P          R      mAP50  mAP50-95): 100%|██████████| 1/1 [00:00<00:00,  2.29it/s]"
     ]
    },
    {
     "name": "stdout",
     "output_type": "stream",
     "text": [
      "                   all         12         32      0.889      0.967      0.908      0.659\n"
     ]
    },
    {
     "name": "stderr",
     "output_type": "stream",
     "text": [
      "\n"
     ]
    },
    {
     "name": "stdout",
     "output_type": "stream",
     "text": [
      "\n",
      "      Epoch    GPU_mem   box_loss   cls_loss   dfl_loss  Instances       Size\n"
     ]
    },
    {
     "name": "stderr",
     "output_type": "stream",
     "text": [
      "     80/200         0G     0.5664     0.4807     0.8441         22        512: 100%|██████████| 4/4 [00:05<00:00,  1.28s/it]\n",
      "                 Class     Images  Instances      Box(P          R      mAP50  mAP50-95): 100%|██████████| 1/1 [00:00<00:00,  2.24it/s]"
     ]
    },
    {
     "name": "stdout",
     "output_type": "stream",
     "text": [
      "                   all         12         32      0.894      0.967      0.924      0.719\n"
     ]
    },
    {
     "name": "stderr",
     "output_type": "stream",
     "text": [
      "\n"
     ]
    },
    {
     "name": "stdout",
     "output_type": "stream",
     "text": [
      "\n",
      "      Epoch    GPU_mem   box_loss   cls_loss   dfl_loss  Instances       Size\n"
     ]
    },
    {
     "name": "stderr",
     "output_type": "stream",
     "text": [
      "     81/200         0G     0.5632     0.4662     0.8828          9        512: 100%|██████████| 4/4 [00:05<00:00,  1.30s/it]\n",
      "                 Class     Images  Instances      Box(P          R      mAP50  mAP50-95): 100%|██████████| 1/1 [00:00<00:00,  1.84it/s]"
     ]
    },
    {
     "name": "stdout",
     "output_type": "stream",
     "text": [
      "                   all         12         32      0.893      0.967      0.923      0.682\n"
     ]
    },
    {
     "name": "stderr",
     "output_type": "stream",
     "text": [
      "\n"
     ]
    },
    {
     "name": "stdout",
     "output_type": "stream",
     "text": [
      "\n",
      "      Epoch    GPU_mem   box_loss   cls_loss   dfl_loss  Instances       Size\n"
     ]
    },
    {
     "name": "stderr",
     "output_type": "stream",
     "text": [
      "     82/200         0G     0.5564     0.4642     0.8922          7        512: 100%|██████████| 4/4 [00:05<00:00,  1.28s/it]\n",
      "                 Class     Images  Instances      Box(P          R      mAP50  mAP50-95): 100%|██████████| 1/1 [00:00<00:00,  2.13it/s]"
     ]
    },
    {
     "name": "stdout",
     "output_type": "stream",
     "text": [
      "                   all         12         32      0.891      0.967      0.925      0.692\n"
     ]
    },
    {
     "name": "stderr",
     "output_type": "stream",
     "text": [
      "\n"
     ]
    },
    {
     "name": "stdout",
     "output_type": "stream",
     "text": [
      "\n",
      "      Epoch    GPU_mem   box_loss   cls_loss   dfl_loss  Instances       Size\n"
     ]
    },
    {
     "name": "stderr",
     "output_type": "stream",
     "text": [
      "     83/200         0G     0.5832     0.4431     0.8617         10        512: 100%|██████████| 4/4 [00:05<00:00,  1.28s/it]\n",
      "                 Class     Images  Instances      Box(P          R      mAP50  mAP50-95): 100%|██████████| 1/1 [00:00<00:00,  2.27it/s]"
     ]
    },
    {
     "name": "stdout",
     "output_type": "stream",
     "text": [
      "                   all         12         32       0.89      0.967       0.93      0.721\n"
     ]
    },
    {
     "name": "stderr",
     "output_type": "stream",
     "text": [
      "\n"
     ]
    },
    {
     "name": "stdout",
     "output_type": "stream",
     "text": [
      "\n",
      "      Epoch    GPU_mem   box_loss   cls_loss   dfl_loss  Instances       Size\n"
     ]
    },
    {
     "name": "stderr",
     "output_type": "stream",
     "text": [
      "     84/200         0G     0.5433     0.4487     0.8694          7        512: 100%|██████████| 4/4 [00:05<00:00,  1.32s/it]\n",
      "                 Class     Images  Instances      Box(P          R      mAP50  mAP50-95): 100%|██████████| 1/1 [00:00<00:00,  2.29it/s]"
     ]
    },
    {
     "name": "stdout",
     "output_type": "stream",
     "text": [
      "                   all         12         32      0.889      0.967      0.923      0.705\n"
     ]
    },
    {
     "name": "stderr",
     "output_type": "stream",
     "text": [
      "\n"
     ]
    },
    {
     "name": "stdout",
     "output_type": "stream",
     "text": [
      "\n",
      "      Epoch    GPU_mem   box_loss   cls_loss   dfl_loss  Instances       Size\n"
     ]
    },
    {
     "name": "stderr",
     "output_type": "stream",
     "text": [
      "     85/200         0G     0.5253     0.4332     0.8558         10        512: 100%|██████████| 4/4 [00:05<00:00,  1.30s/it]\n",
      "                 Class     Images  Instances      Box(P          R      mAP50  mAP50-95): 100%|██████████| 1/1 [00:00<00:00,  2.32it/s]"
     ]
    },
    {
     "name": "stdout",
     "output_type": "stream",
     "text": [
      "                   all         12         32       0.89      0.967      0.922      0.706\n"
     ]
    },
    {
     "name": "stderr",
     "output_type": "stream",
     "text": [
      "\n"
     ]
    },
    {
     "name": "stdout",
     "output_type": "stream",
     "text": [
      "\n",
      "      Epoch    GPU_mem   box_loss   cls_loss   dfl_loss  Instances       Size\n"
     ]
    },
    {
     "name": "stderr",
     "output_type": "stream",
     "text": [
      "     86/200         0G     0.5283     0.4329     0.8631         13        512: 100%|██████████| 4/4 [00:05<00:00,  1.40s/it]\n",
      "                 Class     Images  Instances      Box(P          R      mAP50  mAP50-95): 100%|██████████| 1/1 [00:00<00:00,  1.61it/s]"
     ]
    },
    {
     "name": "stdout",
     "output_type": "stream",
     "text": [
      "                   all         12         32      0.892      0.967      0.928      0.694\n"
     ]
    },
    {
     "name": "stderr",
     "output_type": "stream",
     "text": [
      "\n"
     ]
    },
    {
     "name": "stdout",
     "output_type": "stream",
     "text": [
      "\n",
      "      Epoch    GPU_mem   box_loss   cls_loss   dfl_loss  Instances       Size\n"
     ]
    },
    {
     "name": "stderr",
     "output_type": "stream",
     "text": [
      "     87/200         0G     0.5109     0.4628     0.8618          6        512: 100%|██████████| 4/4 [00:05<00:00,  1.32s/it]\n",
      "                 Class     Images  Instances      Box(P          R      mAP50  mAP50-95): 100%|██████████| 1/1 [00:00<00:00,  2.12it/s]"
     ]
    },
    {
     "name": "stdout",
     "output_type": "stream",
     "text": [
      "                   all         12         32      0.891      0.967      0.934      0.693\n"
     ]
    },
    {
     "name": "stderr",
     "output_type": "stream",
     "text": [
      "\n"
     ]
    },
    {
     "name": "stdout",
     "output_type": "stream",
     "text": [
      "\n",
      "      Epoch    GPU_mem   box_loss   cls_loss   dfl_loss  Instances       Size\n"
     ]
    },
    {
     "name": "stderr",
     "output_type": "stream",
     "text": [
      "     88/200         0G     0.5454     0.4427      0.847         18        512: 100%|██████████| 4/4 [00:05<00:00,  1.32s/it]\n",
      "                 Class     Images  Instances      Box(P          R      mAP50  mAP50-95): 100%|██████████| 1/1 [00:00<00:00,  2.26it/s]"
     ]
    },
    {
     "name": "stdout",
     "output_type": "stream",
     "text": [
      "                   all         12         32       0.89      0.967      0.922        0.7\n"
     ]
    },
    {
     "name": "stderr",
     "output_type": "stream",
     "text": [
      "\n"
     ]
    },
    {
     "name": "stdout",
     "output_type": "stream",
     "text": [
      "\n",
      "      Epoch    GPU_mem   box_loss   cls_loss   dfl_loss  Instances       Size\n"
     ]
    },
    {
     "name": "stderr",
     "output_type": "stream",
     "text": [
      "     89/200         0G     0.5397     0.4323     0.8573          7        512: 100%|██████████| 4/4 [00:05<00:00,  1.36s/it]\n",
      "                 Class     Images  Instances      Box(P          R      mAP50  mAP50-95): 100%|██████████| 1/1 [00:00<00:00,  2.15it/s]"
     ]
    },
    {
     "name": "stdout",
     "output_type": "stream",
     "text": [
      "                   all         12         32      0.888      0.967      0.921      0.703\n"
     ]
    },
    {
     "name": "stderr",
     "output_type": "stream",
     "text": [
      "\n"
     ]
    },
    {
     "name": "stdout",
     "output_type": "stream",
     "text": [
      "\n",
      "      Epoch    GPU_mem   box_loss   cls_loss   dfl_loss  Instances       Size\n"
     ]
    },
    {
     "name": "stderr",
     "output_type": "stream",
     "text": [
      "     90/200         0G     0.5412     0.4692     0.8474         10        512: 100%|██████████| 4/4 [00:05<00:00,  1.31s/it]\n",
      "                 Class     Images  Instances      Box(P          R      mAP50  mAP50-95): 100%|██████████| 1/1 [00:00<00:00,  2.25it/s]"
     ]
    },
    {
     "name": "stdout",
     "output_type": "stream",
     "text": [
      "                   all         12         32      0.886      0.967      0.917      0.703\n"
     ]
    },
    {
     "name": "stderr",
     "output_type": "stream",
     "text": [
      "\n"
     ]
    },
    {
     "name": "stdout",
     "output_type": "stream",
     "text": [
      "\n",
      "      Epoch    GPU_mem   box_loss   cls_loss   dfl_loss  Instances       Size\n"
     ]
    },
    {
     "name": "stderr",
     "output_type": "stream",
     "text": [
      "     91/200         0G     0.5723     0.4436     0.8625         19        512: 100%|██████████| 4/4 [00:05<00:00,  1.36s/it]\n",
      "                 Class     Images  Instances      Box(P          R      mAP50  mAP50-95): 100%|██████████| 1/1 [00:00<00:00,  2.20it/s]"
     ]
    },
    {
     "name": "stdout",
     "output_type": "stream",
     "text": [
      "                   all         12         32      0.886      0.967      0.919      0.722\n"
     ]
    },
    {
     "name": "stderr",
     "output_type": "stream",
     "text": [
      "\n"
     ]
    },
    {
     "name": "stdout",
     "output_type": "stream",
     "text": [
      "\n",
      "      Epoch    GPU_mem   box_loss   cls_loss   dfl_loss  Instances       Size\n"
     ]
    },
    {
     "name": "stderr",
     "output_type": "stream",
     "text": [
      "     92/200         0G     0.5576     0.4471     0.8632          8        512: 100%|██████████| 4/4 [00:05<00:00,  1.32s/it]\n",
      "                 Class     Images  Instances      Box(P          R      mAP50  mAP50-95): 100%|██████████| 1/1 [00:00<00:00,  2.17it/s]"
     ]
    },
    {
     "name": "stdout",
     "output_type": "stream",
     "text": [
      "                   all         12         32      0.886      0.967      0.919      0.718\n"
     ]
    },
    {
     "name": "stderr",
     "output_type": "stream",
     "text": [
      "\n"
     ]
    },
    {
     "name": "stdout",
     "output_type": "stream",
     "text": [
      "\n",
      "      Epoch    GPU_mem   box_loss   cls_loss   dfl_loss  Instances       Size\n"
     ]
    },
    {
     "name": "stderr",
     "output_type": "stream",
     "text": [
      "     93/200         0G     0.5677     0.4562     0.8801          9        512: 100%|██████████| 4/4 [00:05<00:00,  1.32s/it]\n",
      "                 Class     Images  Instances      Box(P          R      mAP50  mAP50-95): 100%|██████████| 1/1 [00:00<00:00,  2.21it/s]"
     ]
    },
    {
     "name": "stdout",
     "output_type": "stream",
     "text": [
      "                   all         12         32      0.885      0.967      0.919      0.713\n"
     ]
    },
    {
     "name": "stderr",
     "output_type": "stream",
     "text": [
      "\n"
     ]
    },
    {
     "name": "stdout",
     "output_type": "stream",
     "text": [
      "\n",
      "      Epoch    GPU_mem   box_loss   cls_loss   dfl_loss  Instances       Size\n"
     ]
    },
    {
     "name": "stderr",
     "output_type": "stream",
     "text": [
      "     94/200         0G     0.5498     0.4605     0.8816         11        512: 100%|██████████| 4/4 [00:05<00:00,  1.35s/it]\n",
      "                 Class     Images  Instances      Box(P          R      mAP50  mAP50-95): 100%|██████████| 1/1 [00:00<00:00,  2.08it/s]"
     ]
    },
    {
     "name": "stdout",
     "output_type": "stream",
     "text": [
      "                   all         12         32      0.883      0.967      0.914      0.688\n"
     ]
    },
    {
     "name": "stderr",
     "output_type": "stream",
     "text": [
      "\n"
     ]
    },
    {
     "name": "stdout",
     "output_type": "stream",
     "text": [
      "\n",
      "      Epoch    GPU_mem   box_loss   cls_loss   dfl_loss  Instances       Size\n"
     ]
    },
    {
     "name": "stderr",
     "output_type": "stream",
     "text": [
      "     95/200         0G     0.5256     0.4589      0.858         19        512: 100%|██████████| 4/4 [00:05<00:00,  1.32s/it]\n",
      "                 Class     Images  Instances      Box(P          R      mAP50  mAP50-95): 100%|██████████| 1/1 [00:00<00:00,  2.16it/s]"
     ]
    },
    {
     "name": "stdout",
     "output_type": "stream",
     "text": [
      "                   all         12         32      0.882      0.967      0.914      0.685\n"
     ]
    },
    {
     "name": "stderr",
     "output_type": "stream",
     "text": [
      "\n"
     ]
    },
    {
     "name": "stdout",
     "output_type": "stream",
     "text": [
      "\n",
      "      Epoch    GPU_mem   box_loss   cls_loss   dfl_loss  Instances       Size\n"
     ]
    },
    {
     "name": "stderr",
     "output_type": "stream",
     "text": [
      "     96/200         0G      0.559     0.4329     0.8443         15        512: 100%|██████████| 4/4 [00:05<00:00,  1.42s/it]\n",
      "                 Class     Images  Instances      Box(P          R      mAP50  mAP50-95): 100%|██████████| 1/1 [00:00<00:00,  2.17it/s]"
     ]
    },
    {
     "name": "stdout",
     "output_type": "stream",
     "text": [
      "                   all         12         32      0.879      0.967      0.919       0.68\n"
     ]
    },
    {
     "name": "stderr",
     "output_type": "stream",
     "text": [
      "\n"
     ]
    },
    {
     "name": "stdout",
     "output_type": "stream",
     "text": [
      "\n",
      "      Epoch    GPU_mem   box_loss   cls_loss   dfl_loss  Instances       Size\n"
     ]
    },
    {
     "name": "stderr",
     "output_type": "stream",
     "text": [
      "     97/200         0G     0.5137     0.4209     0.8426         11        512: 100%|██████████| 4/4 [00:05<00:00,  1.32s/it]\n",
      "                 Class     Images  Instances      Box(P          R      mAP50  mAP50-95): 100%|██████████| 1/1 [00:00<00:00,  2.21it/s]"
     ]
    },
    {
     "name": "stdout",
     "output_type": "stream",
     "text": [
      "                   all         12         32      0.876      0.967      0.921      0.695\n"
     ]
    },
    {
     "name": "stderr",
     "output_type": "stream",
     "text": [
      "\n"
     ]
    },
    {
     "name": "stdout",
     "output_type": "stream",
     "text": [
      "\n",
      "      Epoch    GPU_mem   box_loss   cls_loss   dfl_loss  Instances       Size\n"
     ]
    },
    {
     "name": "stderr",
     "output_type": "stream",
     "text": [
      "     98/200         0G     0.5558     0.4338     0.8383          9        512: 100%|██████████| 4/4 [00:05<00:00,  1.27s/it]\n",
      "                 Class     Images  Instances      Box(P          R      mAP50  mAP50-95): 100%|██████████| 1/1 [00:00<00:00,  2.32it/s]"
     ]
    },
    {
     "name": "stdout",
     "output_type": "stream",
     "text": [
      "                   all         12         32      0.882      0.967      0.922      0.692\n"
     ]
    },
    {
     "name": "stderr",
     "output_type": "stream",
     "text": [
      "\n"
     ]
    },
    {
     "name": "stdout",
     "output_type": "stream",
     "text": [
      "\n",
      "      Epoch    GPU_mem   box_loss   cls_loss   dfl_loss  Instances       Size\n"
     ]
    },
    {
     "name": "stderr",
     "output_type": "stream",
     "text": [
      "     99/200         0G     0.5013     0.4184     0.8652         11        512: 100%|██████████| 4/4 [00:05<00:00,  1.28s/it]\n",
      "                 Class     Images  Instances      Box(P          R      mAP50  mAP50-95): 100%|██████████| 1/1 [00:00<00:00,  2.34it/s]"
     ]
    },
    {
     "name": "stdout",
     "output_type": "stream",
     "text": [
      "                   all         12         32      0.887      0.967      0.924      0.684\n"
     ]
    },
    {
     "name": "stderr",
     "output_type": "stream",
     "text": [
      "\n"
     ]
    },
    {
     "name": "stdout",
     "output_type": "stream",
     "text": [
      "\n",
      "      Epoch    GPU_mem   box_loss   cls_loss   dfl_loss  Instances       Size\n"
     ]
    },
    {
     "name": "stderr",
     "output_type": "stream",
     "text": [
      "    100/200         0G     0.5134      0.414     0.8527         18        512: 100%|██████████| 4/4 [00:05<00:00,  1.26s/it]\n",
      "                 Class     Images  Instances      Box(P          R      mAP50  mAP50-95): 100%|██████████| 1/1 [00:00<00:00,  2.31it/s]"
     ]
    },
    {
     "name": "stdout",
     "output_type": "stream",
     "text": [
      "                   all         12         32      0.889      0.967      0.926      0.694\n"
     ]
    },
    {
     "name": "stderr",
     "output_type": "stream",
     "text": [
      "\n"
     ]
    },
    {
     "name": "stdout",
     "output_type": "stream",
     "text": [
      "\n",
      "      Epoch    GPU_mem   box_loss   cls_loss   dfl_loss  Instances       Size\n"
     ]
    },
    {
     "name": "stderr",
     "output_type": "stream",
     "text": [
      "    101/200         0G     0.5256     0.4349     0.8515         14        512: 100%|██████████| 4/4 [00:05<00:00,  1.33s/it]\n",
      "                 Class     Images  Instances      Box(P          R      mAP50  mAP50-95): 100%|██████████| 1/1 [00:00<00:00,  2.23it/s]"
     ]
    },
    {
     "name": "stdout",
     "output_type": "stream",
     "text": [
      "                   all         12         32      0.886      0.967      0.931      0.696\n"
     ]
    },
    {
     "name": "stderr",
     "output_type": "stream",
     "text": [
      "\n"
     ]
    },
    {
     "name": "stdout",
     "output_type": "stream",
     "text": [
      "\n",
      "      Epoch    GPU_mem   box_loss   cls_loss   dfl_loss  Instances       Size\n"
     ]
    },
    {
     "name": "stderr",
     "output_type": "stream",
     "text": [
      "    102/200         0G     0.5201     0.4403     0.8489         23        512: 100%|██████████| 4/4 [00:05<00:00,  1.27s/it]\n",
      "                 Class     Images  Instances      Box(P          R      mAP50  mAP50-95): 100%|██████████| 1/1 [00:00<00:00,  2.20it/s]"
     ]
    },
    {
     "name": "stdout",
     "output_type": "stream",
     "text": [
      "                   all         12         32      0.879      0.967      0.928      0.681\n"
     ]
    },
    {
     "name": "stderr",
     "output_type": "stream",
     "text": [
      "\n"
     ]
    },
    {
     "name": "stdout",
     "output_type": "stream",
     "text": [
      "\n",
      "      Epoch    GPU_mem   box_loss   cls_loss   dfl_loss  Instances       Size\n"
     ]
    },
    {
     "name": "stderr",
     "output_type": "stream",
     "text": [
      "    103/200         0G     0.4632      0.404     0.8665          6        512: 100%|██████████| 4/4 [00:05<00:00,  1.28s/it]\n",
      "                 Class     Images  Instances      Box(P          R      mAP50  mAP50-95): 100%|██████████| 1/1 [00:00<00:00,  2.35it/s]"
     ]
    },
    {
     "name": "stdout",
     "output_type": "stream",
     "text": [
      "                   all         12         32      0.864      0.952      0.929      0.691\n"
     ]
    },
    {
     "name": "stderr",
     "output_type": "stream",
     "text": [
      "\n"
     ]
    },
    {
     "name": "stdout",
     "output_type": "stream",
     "text": [
      "\n",
      "      Epoch    GPU_mem   box_loss   cls_loss   dfl_loss  Instances       Size\n"
     ]
    },
    {
     "name": "stderr",
     "output_type": "stream",
     "text": [
      "    104/200         0G     0.5146     0.4091     0.8561         18        512: 100%|██████████| 4/4 [00:05<00:00,  1.31s/it]\n",
      "                 Class     Images  Instances      Box(P          R      mAP50  mAP50-95): 100%|██████████| 1/1 [00:00<00:00,  2.34it/s]"
     ]
    },
    {
     "name": "stdout",
     "output_type": "stream",
     "text": [
      "                   all         12         32      0.863      0.946      0.929      0.696\n"
     ]
    },
    {
     "name": "stderr",
     "output_type": "stream",
     "text": [
      "\n"
     ]
    },
    {
     "name": "stdout",
     "output_type": "stream",
     "text": [
      "\n",
      "      Epoch    GPU_mem   box_loss   cls_loss   dfl_loss  Instances       Size\n"
     ]
    },
    {
     "name": "stderr",
     "output_type": "stream",
     "text": [
      "    105/200         0G     0.5373     0.4331     0.8289         19        512: 100%|██████████| 4/4 [00:05<00:00,  1.27s/it]\n",
      "                 Class     Images  Instances      Box(P          R      mAP50  mAP50-95): 100%|██████████| 1/1 [00:00<00:00,  2.32it/s]"
     ]
    },
    {
     "name": "stdout",
     "output_type": "stream",
     "text": [
      "                   all         12         32       0.87      0.943      0.915      0.687\n"
     ]
    },
    {
     "name": "stderr",
     "output_type": "stream",
     "text": [
      "\n"
     ]
    },
    {
     "name": "stdout",
     "output_type": "stream",
     "text": [
      "\n",
      "      Epoch    GPU_mem   box_loss   cls_loss   dfl_loss  Instances       Size\n"
     ]
    },
    {
     "name": "stderr",
     "output_type": "stream",
     "text": [
      "    106/200         0G     0.5092     0.4043     0.8529         11        512: 100%|██████████| 4/4 [00:05<00:00,  1.30s/it]\n",
      "                 Class     Images  Instances      Box(P          R      mAP50  mAP50-95): 100%|██████████| 1/1 [00:00<00:00,  1.95it/s]"
     ]
    },
    {
     "name": "stdout",
     "output_type": "stream",
     "text": [
      "                   all         12         32      0.876      0.945      0.918       0.71\n"
     ]
    },
    {
     "name": "stderr",
     "output_type": "stream",
     "text": [
      "\n"
     ]
    },
    {
     "name": "stdout",
     "output_type": "stream",
     "text": [
      "\n",
      "      Epoch    GPU_mem   box_loss   cls_loss   dfl_loss  Instances       Size\n"
     ]
    },
    {
     "name": "stderr",
     "output_type": "stream",
     "text": [
      "    107/200         0G     0.4928     0.4083     0.8608         17        512: 100%|██████████| 4/4 [00:05<00:00,  1.27s/it]\n",
      "                 Class     Images  Instances      Box(P          R      mAP50  mAP50-95): 100%|██████████| 1/1 [00:00<00:00,  2.32it/s]"
     ]
    },
    {
     "name": "stdout",
     "output_type": "stream",
     "text": [
      "                   all         12         32      0.879      0.951      0.922      0.714\n"
     ]
    },
    {
     "name": "stderr",
     "output_type": "stream",
     "text": [
      "\n"
     ]
    },
    {
     "name": "stdout",
     "output_type": "stream",
     "text": [
      "\n",
      "      Epoch    GPU_mem   box_loss   cls_loss   dfl_loss  Instances       Size\n"
     ]
    },
    {
     "name": "stderr",
     "output_type": "stream",
     "text": [
      "    108/200         0G      0.499     0.4075     0.8557         13        512: 100%|██████████| 4/4 [00:05<00:00,  1.26s/it]\n",
      "                 Class     Images  Instances      Box(P          R      mAP50  mAP50-95): 100%|██████████| 1/1 [00:00<00:00,  2.34it/s]"
     ]
    },
    {
     "name": "stdout",
     "output_type": "stream",
     "text": [
      "                   all         12         32      0.882      0.967      0.929        0.7\n"
     ]
    },
    {
     "name": "stderr",
     "output_type": "stream",
     "text": [
      "\n"
     ]
    },
    {
     "name": "stdout",
     "output_type": "stream",
     "text": [
      "\n",
      "      Epoch    GPU_mem   box_loss   cls_loss   dfl_loss  Instances       Size\n"
     ]
    },
    {
     "name": "stderr",
     "output_type": "stream",
     "text": [
      "    109/200         0G     0.5199     0.4042     0.8358         15        512: 100%|██████████| 4/4 [00:05<00:00,  1.31s/it]\n",
      "                 Class     Images  Instances      Box(P          R      mAP50  mAP50-95): 100%|██████████| 1/1 [00:00<00:00,  2.30it/s]"
     ]
    },
    {
     "name": "stdout",
     "output_type": "stream",
     "text": [
      "                   all         12         32      0.885      0.967      0.925       0.69\n"
     ]
    },
    {
     "name": "stderr",
     "output_type": "stream",
     "text": [
      "\n"
     ]
    },
    {
     "name": "stdout",
     "output_type": "stream",
     "text": [
      "\n",
      "      Epoch    GPU_mem   box_loss   cls_loss   dfl_loss  Instances       Size\n"
     ]
    },
    {
     "name": "stderr",
     "output_type": "stream",
     "text": [
      "    110/200         0G     0.5246     0.4133     0.8236          8        512: 100%|██████████| 4/4 [00:05<00:00,  1.27s/it]\n",
      "                 Class     Images  Instances      Box(P          R      mAP50  mAP50-95): 100%|██████████| 1/1 [00:00<00:00,  2.29it/s]"
     ]
    },
    {
     "name": "stdout",
     "output_type": "stream",
     "text": [
      "                   all         12         32      0.887      0.967      0.937      0.701\n"
     ]
    },
    {
     "name": "stderr",
     "output_type": "stream",
     "text": [
      "\n"
     ]
    },
    {
     "name": "stdout",
     "output_type": "stream",
     "text": [
      "\n",
      "      Epoch    GPU_mem   box_loss   cls_loss   dfl_loss  Instances       Size\n"
     ]
    },
    {
     "name": "stderr",
     "output_type": "stream",
     "text": [
      "    111/200         0G     0.5057     0.3977     0.8385         17        512: 100%|██████████| 4/4 [00:05<00:00,  1.28s/it]\n",
      "                 Class     Images  Instances      Box(P          R      mAP50  mAP50-95): 100%|██████████| 1/1 [00:00<00:00,  2.30it/s]"
     ]
    },
    {
     "name": "stdout",
     "output_type": "stream",
     "text": [
      "                   all         12         32      0.887      0.967      0.923      0.701\n"
     ]
    },
    {
     "name": "stderr",
     "output_type": "stream",
     "text": [
      "\n"
     ]
    },
    {
     "name": "stdout",
     "output_type": "stream",
     "text": [
      "\n",
      "      Epoch    GPU_mem   box_loss   cls_loss   dfl_loss  Instances       Size\n"
     ]
    },
    {
     "name": "stderr",
     "output_type": "stream",
     "text": [
      "    112/200         0G     0.5222     0.4154     0.8734         12        512: 100%|██████████| 4/4 [00:05<00:00,  1.38s/it]\n",
      "                 Class     Images  Instances      Box(P          R      mAP50  mAP50-95): 100%|██████████| 1/1 [00:00<00:00,  2.36it/s]"
     ]
    },
    {
     "name": "stdout",
     "output_type": "stream",
     "text": [
      "                   all         12         32      0.887      0.967      0.939      0.715\n"
     ]
    },
    {
     "name": "stderr",
     "output_type": "stream",
     "text": [
      "\n"
     ]
    },
    {
     "name": "stdout",
     "output_type": "stream",
     "text": [
      "\n",
      "      Epoch    GPU_mem   box_loss   cls_loss   dfl_loss  Instances       Size\n"
     ]
    },
    {
     "name": "stderr",
     "output_type": "stream",
     "text": [
      "    113/200         0G     0.5175     0.4098     0.8451         12        512: 100%|██████████| 4/4 [00:05<00:00,  1.28s/it]\n",
      "                 Class     Images  Instances      Box(P          R      mAP50  mAP50-95): 100%|██████████| 1/1 [00:00<00:00,  2.32it/s]"
     ]
    },
    {
     "name": "stdout",
     "output_type": "stream",
     "text": [
      "                   all         12         32      0.887      0.967      0.944      0.714\n"
     ]
    },
    {
     "name": "stderr",
     "output_type": "stream",
     "text": [
      "\n"
     ]
    },
    {
     "name": "stdout",
     "output_type": "stream",
     "text": [
      "\n",
      "      Epoch    GPU_mem   box_loss   cls_loss   dfl_loss  Instances       Size\n"
     ]
    },
    {
     "name": "stderr",
     "output_type": "stream",
     "text": [
      "    114/200         0G     0.5258     0.3929     0.8683         20        512: 100%|██████████| 4/4 [00:05<00:00,  1.30s/it]\n",
      "                 Class     Images  Instances      Box(P          R      mAP50  mAP50-95): 100%|██████████| 1/1 [00:00<00:00,  2.33it/s]"
     ]
    },
    {
     "name": "stdout",
     "output_type": "stream",
     "text": [
      "                   all         12         32      0.888      0.967      0.933      0.684\n"
     ]
    },
    {
     "name": "stderr",
     "output_type": "stream",
     "text": [
      "\n"
     ]
    },
    {
     "name": "stdout",
     "output_type": "stream",
     "text": [
      "\n",
      "      Epoch    GPU_mem   box_loss   cls_loss   dfl_loss  Instances       Size\n"
     ]
    },
    {
     "name": "stderr",
     "output_type": "stream",
     "text": [
      "    115/200         0G     0.5423     0.4427     0.8504          7        512: 100%|██████████| 4/4 [00:05<00:00,  1.27s/it]\n",
      "                 Class     Images  Instances      Box(P          R      mAP50  mAP50-95): 100%|██████████| 1/1 [00:00<00:00,  2.31it/s]"
     ]
    },
    {
     "name": "stdout",
     "output_type": "stream",
     "text": [
      "                   all         12         32      0.889      0.967      0.939      0.686\n"
     ]
    },
    {
     "name": "stderr",
     "output_type": "stream",
     "text": [
      "\n"
     ]
    },
    {
     "name": "stdout",
     "output_type": "stream",
     "text": [
      "\n",
      "      Epoch    GPU_mem   box_loss   cls_loss   dfl_loss  Instances       Size\n"
     ]
    },
    {
     "name": "stderr",
     "output_type": "stream",
     "text": [
      "    116/200         0G     0.5202     0.3993     0.8777         12        512: 100%|██████████| 4/4 [00:05<00:00,  1.28s/it]\n",
      "                 Class     Images  Instances      Box(P          R      mAP50  mAP50-95): 100%|██████████| 1/1 [00:00<00:00,  2.33it/s]"
     ]
    },
    {
     "name": "stdout",
     "output_type": "stream",
     "text": [
      "                   all         12         32       0.89      0.967      0.935      0.685\n"
     ]
    },
    {
     "name": "stderr",
     "output_type": "stream",
     "text": [
      "\n"
     ]
    },
    {
     "name": "stdout",
     "output_type": "stream",
     "text": [
      "\n",
      "      Epoch    GPU_mem   box_loss   cls_loss   dfl_loss  Instances       Size\n"
     ]
    },
    {
     "name": "stderr",
     "output_type": "stream",
     "text": [
      "    117/200         0G     0.5473     0.4038     0.8449          9        512: 100%|██████████| 4/4 [00:05<00:00,  1.29s/it]\n",
      "                 Class     Images  Instances      Box(P          R      mAP50  mAP50-95): 100%|██████████| 1/1 [00:00<00:00,  2.33it/s]"
     ]
    },
    {
     "name": "stdout",
     "output_type": "stream",
     "text": [
      "                   all         12         32       0.89      0.967      0.931      0.683\n"
     ]
    },
    {
     "name": "stderr",
     "output_type": "stream",
     "text": [
      "\n"
     ]
    },
    {
     "name": "stdout",
     "output_type": "stream",
     "text": [
      "\n",
      "      Epoch    GPU_mem   box_loss   cls_loss   dfl_loss  Instances       Size\n"
     ]
    },
    {
     "name": "stderr",
     "output_type": "stream",
     "text": [
      "    118/200         0G     0.5131     0.4049     0.8643         13        512: 100%|██████████| 4/4 [00:05<00:00,  1.27s/it]\n",
      "                 Class     Images  Instances      Box(P          R      mAP50  mAP50-95): 100%|██████████| 1/1 [00:00<00:00,  2.40it/s]"
     ]
    },
    {
     "name": "stdout",
     "output_type": "stream",
     "text": [
      "                   all         12         32      0.891      0.967      0.932      0.686\n"
     ]
    },
    {
     "name": "stderr",
     "output_type": "stream",
     "text": [
      "\n"
     ]
    },
    {
     "name": "stdout",
     "output_type": "stream",
     "text": [
      "\n",
      "      Epoch    GPU_mem   box_loss   cls_loss   dfl_loss  Instances       Size\n"
     ]
    },
    {
     "name": "stderr",
     "output_type": "stream",
     "text": [
      "    119/200         0G     0.4742     0.3748     0.8672         13        512: 100%|██████████| 4/4 [00:05<00:00,  1.28s/it]\n",
      "                 Class     Images  Instances      Box(P          R      mAP50  mAP50-95): 100%|██████████| 1/1 [00:00<00:00,  2.40it/s]"
     ]
    },
    {
     "name": "stdout",
     "output_type": "stream",
     "text": [
      "                   all         12         32       0.89      0.967      0.941      0.702\n"
     ]
    },
    {
     "name": "stderr",
     "output_type": "stream",
     "text": [
      "\n"
     ]
    },
    {
     "name": "stdout",
     "output_type": "stream",
     "text": [
      "\n",
      "      Epoch    GPU_mem   box_loss   cls_loss   dfl_loss  Instances       Size\n"
     ]
    },
    {
     "name": "stderr",
     "output_type": "stream",
     "text": [
      "    120/200         0G     0.5417     0.4213     0.8533         13        512: 100%|██████████| 4/4 [00:04<00:00,  1.24s/it]\n",
      "                 Class     Images  Instances      Box(P          R      mAP50  mAP50-95): 100%|██████████| 1/1 [00:00<00:00,  2.40it/s]"
     ]
    },
    {
     "name": "stdout",
     "output_type": "stream",
     "text": [
      "                   all         12         32      0.888      0.967      0.949      0.705\n"
     ]
    },
    {
     "name": "stderr",
     "output_type": "stream",
     "text": [
      "\n"
     ]
    },
    {
     "name": "stdout",
     "output_type": "stream",
     "text": [
      "\n",
      "      Epoch    GPU_mem   box_loss   cls_loss   dfl_loss  Instances       Size\n"
     ]
    },
    {
     "name": "stderr",
     "output_type": "stream",
     "text": [
      "    121/200         0G     0.4796     0.3939     0.8403         16        512: 100%|██████████| 4/4 [00:04<00:00,  1.25s/it]\n",
      "                 Class     Images  Instances      Box(P          R      mAP50  mAP50-95): 100%|██████████| 1/1 [00:00<00:00,  2.41it/s]"
     ]
    },
    {
     "name": "stdout",
     "output_type": "stream",
     "text": [
      "                   all         12         32      0.886      0.967      0.948      0.706\n"
     ]
    },
    {
     "name": "stderr",
     "output_type": "stream",
     "text": [
      "\n"
     ]
    },
    {
     "name": "stdout",
     "output_type": "stream",
     "text": [
      "\n",
      "      Epoch    GPU_mem   box_loss   cls_loss   dfl_loss  Instances       Size\n"
     ]
    },
    {
     "name": "stderr",
     "output_type": "stream",
     "text": [
      "    122/200         0G     0.5058     0.3958     0.8484         15        512: 100%|██████████| 4/4 [00:05<00:00,  1.28s/it]\n",
      "                 Class     Images  Instances      Box(P          R      mAP50  mAP50-95): 100%|██████████| 1/1 [00:00<00:00,  2.33it/s]"
     ]
    },
    {
     "name": "stdout",
     "output_type": "stream",
     "text": [
      "                   all         12         32      0.884      0.966      0.952      0.711\n"
     ]
    },
    {
     "name": "stderr",
     "output_type": "stream",
     "text": [
      "\n"
     ]
    },
    {
     "name": "stdout",
     "output_type": "stream",
     "text": [
      "\n",
      "      Epoch    GPU_mem   box_loss   cls_loss   dfl_loss  Instances       Size\n"
     ]
    },
    {
     "name": "stderr",
     "output_type": "stream",
     "text": [
      "    123/200         0G     0.5137     0.3842      0.851         13        512: 100%|██████████| 4/4 [00:04<00:00,  1.24s/it]\n",
      "                 Class     Images  Instances      Box(P          R      mAP50  mAP50-95): 100%|██████████| 1/1 [00:00<00:00,  2.35it/s]"
     ]
    },
    {
     "name": "stdout",
     "output_type": "stream",
     "text": [
      "                   all         12         32      0.881      0.966      0.944      0.705\n"
     ]
    },
    {
     "name": "stderr",
     "output_type": "stream",
     "text": [
      "\n"
     ]
    },
    {
     "name": "stdout",
     "output_type": "stream",
     "text": [
      "\n",
      "      Epoch    GPU_mem   box_loss   cls_loss   dfl_loss  Instances       Size\n"
     ]
    },
    {
     "name": "stderr",
     "output_type": "stream",
     "text": [
      "    124/200         0G     0.5389     0.4011     0.8832          8        512: 100%|██████████| 4/4 [00:04<00:00,  1.25s/it]\n",
      "                 Class     Images  Instances      Box(P          R      mAP50  mAP50-95): 100%|██████████| 1/1 [00:00<00:00,  1.54it/s]"
     ]
    },
    {
     "name": "stdout",
     "output_type": "stream",
     "text": [
      "                   all         12         32       0.88      0.966      0.936      0.692\n"
     ]
    },
    {
     "name": "stderr",
     "output_type": "stream",
     "text": [
      "\n"
     ]
    },
    {
     "name": "stdout",
     "output_type": "stream",
     "text": [
      "\n",
      "      Epoch    GPU_mem   box_loss   cls_loss   dfl_loss  Instances       Size\n"
     ]
    },
    {
     "name": "stderr",
     "output_type": "stream",
     "text": [
      "    125/200         0G     0.4927     0.3915     0.8539         13        512: 100%|██████████| 4/4 [00:04<00:00,  1.24s/it]\n",
      "                 Class     Images  Instances      Box(P          R      mAP50  mAP50-95): 100%|██████████| 1/1 [00:00<00:00,  2.45it/s]"
     ]
    },
    {
     "name": "stdout",
     "output_type": "stream",
     "text": [
      "                   all         12         32      0.882      0.966      0.927        0.7\n"
     ]
    },
    {
     "name": "stderr",
     "output_type": "stream",
     "text": [
      "\n"
     ]
    },
    {
     "name": "stdout",
     "output_type": "stream",
     "text": [
      "\n",
      "      Epoch    GPU_mem   box_loss   cls_loss   dfl_loss  Instances       Size\n"
     ]
    },
    {
     "name": "stderr",
     "output_type": "stream",
     "text": [
      "    126/200         0G      0.493     0.3733     0.8422          8        512: 100%|██████████| 4/4 [00:05<00:00,  1.26s/it]\n",
      "                 Class     Images  Instances      Box(P          R      mAP50  mAP50-95): 100%|██████████| 1/1 [00:00<00:00,  2.34it/s]"
     ]
    },
    {
     "name": "stdout",
     "output_type": "stream",
     "text": [
      "                   all         12         32      0.885      0.967      0.928      0.702\n"
     ]
    },
    {
     "name": "stderr",
     "output_type": "stream",
     "text": [
      "\n"
     ]
    },
    {
     "name": "stdout",
     "output_type": "stream",
     "text": [
      "\n",
      "      Epoch    GPU_mem   box_loss   cls_loss   dfl_loss  Instances       Size\n"
     ]
    },
    {
     "name": "stderr",
     "output_type": "stream",
     "text": [
      "    127/200         0G     0.4683     0.4042     0.8515          6        512: 100%|██████████| 4/4 [00:05<00:00,  1.30s/it]\n",
      "                 Class     Images  Instances      Box(P          R      mAP50  mAP50-95): 100%|██████████| 1/1 [00:00<00:00,  2.34it/s]"
     ]
    },
    {
     "name": "stdout",
     "output_type": "stream",
     "text": [
      "                   all         12         32      0.886      0.967      0.935      0.706\n"
     ]
    },
    {
     "name": "stderr",
     "output_type": "stream",
     "text": [
      "\n"
     ]
    },
    {
     "name": "stdout",
     "output_type": "stream",
     "text": [
      "\n",
      "      Epoch    GPU_mem   box_loss   cls_loss   dfl_loss  Instances       Size\n"
     ]
    },
    {
     "name": "stderr",
     "output_type": "stream",
     "text": [
      "    128/200         0G     0.5868     0.4014     0.8948          8        512: 100%|██████████| 4/4 [00:05<00:00,  1.26s/it]\n",
      "                 Class     Images  Instances      Box(P          R      mAP50  mAP50-95): 100%|██████████| 1/1 [00:00<00:00,  2.37it/s]"
     ]
    },
    {
     "name": "stdout",
     "output_type": "stream",
     "text": [
      "                   all         12         32      0.887      0.967      0.931      0.688\n"
     ]
    },
    {
     "name": "stderr",
     "output_type": "stream",
     "text": [
      "\n"
     ]
    },
    {
     "name": "stdout",
     "output_type": "stream",
     "text": [
      "\n",
      "      Epoch    GPU_mem   box_loss   cls_loss   dfl_loss  Instances       Size\n"
     ]
    },
    {
     "name": "stderr",
     "output_type": "stream",
     "text": [
      "    129/200         0G     0.5488     0.4178     0.8909          8        512: 100%|██████████| 4/4 [00:05<00:00,  1.26s/it]\n",
      "                 Class     Images  Instances      Box(P          R      mAP50  mAP50-95): 100%|██████████| 1/1 [00:00<00:00,  2.36it/s]"
     ]
    },
    {
     "name": "stdout",
     "output_type": "stream",
     "text": [
      "                   all         12         32      0.889      0.967      0.931      0.683\n"
     ]
    },
    {
     "name": "stderr",
     "output_type": "stream",
     "text": [
      "\n"
     ]
    },
    {
     "name": "stdout",
     "output_type": "stream",
     "text": [
      "\n",
      "      Epoch    GPU_mem   box_loss   cls_loss   dfl_loss  Instances       Size\n"
     ]
    },
    {
     "name": "stderr",
     "output_type": "stream",
     "text": [
      "    130/200         0G     0.4658     0.3684     0.8386          8        512: 100%|██████████| 4/4 [00:05<00:00,  1.29s/it]\n",
      "                 Class     Images  Instances      Box(P          R      mAP50  mAP50-95): 100%|██████████| 1/1 [00:00<00:00,  2.33it/s]"
     ]
    },
    {
     "name": "stdout",
     "output_type": "stream",
     "text": [
      "                   all         12         32       0.89      0.967      0.939      0.686\n"
     ]
    },
    {
     "name": "stderr",
     "output_type": "stream",
     "text": [
      "\n"
     ]
    },
    {
     "name": "stdout",
     "output_type": "stream",
     "text": [
      "\n",
      "      Epoch    GPU_mem   box_loss   cls_loss   dfl_loss  Instances       Size\n"
     ]
    },
    {
     "name": "stderr",
     "output_type": "stream",
     "text": [
      "    131/200         0G     0.4808     0.3773     0.8305         15        512: 100%|██████████| 4/4 [00:05<00:00,  1.26s/it]\n",
      "                 Class     Images  Instances      Box(P          R      mAP50  mAP50-95): 100%|██████████| 1/1 [00:00<00:00,  2.38it/s]"
     ]
    },
    {
     "name": "stdout",
     "output_type": "stream",
     "text": [
      "                   all         12         32       0.89      0.967      0.943      0.689\n"
     ]
    },
    {
     "name": "stderr",
     "output_type": "stream",
     "text": [
      "\n"
     ]
    },
    {
     "name": "stdout",
     "output_type": "stream",
     "text": [
      "\n",
      "      Epoch    GPU_mem   box_loss   cls_loss   dfl_loss  Instances       Size\n"
     ]
    },
    {
     "name": "stderr",
     "output_type": "stream",
     "text": [
      "    132/200         0G     0.5004     0.3804     0.8646         17        512: 100%|██████████| 4/4 [00:05<00:00,  1.29s/it]\n",
      "                 Class     Images  Instances      Box(P          R      mAP50  mAP50-95): 100%|██████████| 1/1 [00:00<00:00,  2.28it/s]"
     ]
    },
    {
     "name": "stdout",
     "output_type": "stream",
     "text": [
      "                   all         12         32      0.892      0.967      0.944      0.706\n"
     ]
    },
    {
     "name": "stderr",
     "output_type": "stream",
     "text": [
      "\n"
     ]
    },
    {
     "name": "stdout",
     "output_type": "stream",
     "text": [
      "\n",
      "      Epoch    GPU_mem   box_loss   cls_loss   dfl_loss  Instances       Size\n"
     ]
    },
    {
     "name": "stderr",
     "output_type": "stream",
     "text": [
      "    133/200         0G     0.4828      0.385     0.8443         18        512: 100%|██████████| 4/4 [00:06<00:00,  1.51s/it]\n",
      "                 Class     Images  Instances      Box(P          R      mAP50  mAP50-95): 100%|██████████| 1/1 [00:00<00:00,  2.19it/s]"
     ]
    },
    {
     "name": "stdout",
     "output_type": "stream",
     "text": [
      "                   all         12         32      0.894      0.967      0.939      0.703\n"
     ]
    },
    {
     "name": "stderr",
     "output_type": "stream",
     "text": [
      "\n"
     ]
    },
    {
     "name": "stdout",
     "output_type": "stream",
     "text": [
      "\n",
      "      Epoch    GPU_mem   box_loss   cls_loss   dfl_loss  Instances       Size\n"
     ]
    },
    {
     "name": "stderr",
     "output_type": "stream",
     "text": [
      "    134/200         0G     0.5355     0.4218     0.8631         12        512: 100%|██████████| 4/4 [00:05<00:00,  1.41s/it]\n",
      "                 Class     Images  Instances      Box(P          R      mAP50  mAP50-95): 100%|██████████| 1/1 [00:00<00:00,  2.29it/s]"
     ]
    },
    {
     "name": "stdout",
     "output_type": "stream",
     "text": [
      "                   all         12         32      0.886      0.979      0.943      0.701\n"
     ]
    },
    {
     "name": "stderr",
     "output_type": "stream",
     "text": [
      "\n"
     ]
    },
    {
     "name": "stdout",
     "output_type": "stream",
     "text": [
      "\n",
      "      Epoch    GPU_mem   box_loss   cls_loss   dfl_loss  Instances       Size\n"
     ]
    },
    {
     "name": "stderr",
     "output_type": "stream",
     "text": [
      "    135/200         0G     0.4324     0.3529     0.8443         10        512: 100%|██████████| 4/4 [00:05<00:00,  1.28s/it]\n",
      "                 Class     Images  Instances      Box(P          R      mAP50  mAP50-95): 100%|██████████| 1/1 [00:00<00:00,  2.39it/s]"
     ]
    },
    {
     "name": "stdout",
     "output_type": "stream",
     "text": [
      "                   all         12         32      0.893      0.967      0.939      0.698\n"
     ]
    },
    {
     "name": "stderr",
     "output_type": "stream",
     "text": [
      "\n"
     ]
    },
    {
     "name": "stdout",
     "output_type": "stream",
     "text": [
      "\n",
      "      Epoch    GPU_mem   box_loss   cls_loss   dfl_loss  Instances       Size\n"
     ]
    },
    {
     "name": "stderr",
     "output_type": "stream",
     "text": [
      "    136/200         0G     0.4859     0.3709      0.864          8        512: 100%|██████████| 4/4 [00:05<00:00,  1.26s/it]\n",
      "                 Class     Images  Instances      Box(P          R      mAP50  mAP50-95): 100%|██████████| 1/1 [00:00<00:00,  2.32it/s]"
     ]
    },
    {
     "name": "stdout",
     "output_type": "stream",
     "text": [
      "                   all         12         32      0.893      0.967      0.939       0.69\n"
     ]
    },
    {
     "name": "stderr",
     "output_type": "stream",
     "text": [
      "\n"
     ]
    },
    {
     "name": "stdout",
     "output_type": "stream",
     "text": [
      "\n",
      "      Epoch    GPU_mem   box_loss   cls_loss   dfl_loss  Instances       Size\n"
     ]
    },
    {
     "name": "stderr",
     "output_type": "stream",
     "text": [
      "    137/200         0G     0.4835     0.3677     0.8604         19        512: 100%|██████████| 4/4 [00:05<00:00,  1.40s/it]\n",
      "                 Class     Images  Instances      Box(P          R      mAP50  mAP50-95): 100%|██████████| 1/1 [00:00<00:00,  2.28it/s]"
     ]
    },
    {
     "name": "stdout",
     "output_type": "stream",
     "text": [
      "                   all         12         32      0.893      0.967      0.933       0.69\n"
     ]
    },
    {
     "name": "stderr",
     "output_type": "stream",
     "text": [
      "\n"
     ]
    },
    {
     "name": "stdout",
     "output_type": "stream",
     "text": [
      "\n",
      "      Epoch    GPU_mem   box_loss   cls_loss   dfl_loss  Instances       Size\n"
     ]
    },
    {
     "name": "stderr",
     "output_type": "stream",
     "text": [
      "    138/200         0G     0.4396     0.3581     0.8414          6        512: 100%|██████████| 4/4 [00:05<00:00,  1.42s/it]\n",
      "                 Class     Images  Instances      Box(P          R      mAP50  mAP50-95): 100%|██████████| 1/1 [00:00<00:00,  2.12it/s]"
     ]
    },
    {
     "name": "stdout",
     "output_type": "stream",
     "text": [
      "                   all         12         32      0.894      0.967       0.93      0.695\n"
     ]
    },
    {
     "name": "stderr",
     "output_type": "stream",
     "text": [
      "\n"
     ]
    },
    {
     "name": "stdout",
     "output_type": "stream",
     "text": [
      "\n",
      "      Epoch    GPU_mem   box_loss   cls_loss   dfl_loss  Instances       Size\n"
     ]
    },
    {
     "name": "stderr",
     "output_type": "stream",
     "text": [
      "    139/200         0G     0.4941     0.3751     0.8571         11        512: 100%|██████████| 4/4 [00:06<00:00,  1.54s/it]\n",
      "                 Class     Images  Instances      Box(P          R      mAP50  mAP50-95): 100%|██████████| 1/1 [00:00<00:00,  2.15it/s]"
     ]
    },
    {
     "name": "stdout",
     "output_type": "stream",
     "text": [
      "                   all         12         32      0.895      0.967      0.927      0.701\n"
     ]
    },
    {
     "name": "stderr",
     "output_type": "stream",
     "text": [
      "\n"
     ]
    },
    {
     "name": "stdout",
     "output_type": "stream",
     "text": [
      "\n",
      "      Epoch    GPU_mem   box_loss   cls_loss   dfl_loss  Instances       Size\n"
     ]
    },
    {
     "name": "stderr",
     "output_type": "stream",
     "text": [
      "    140/200         0G     0.4629      0.379     0.8659          5        512: 100%|██████████| 4/4 [00:05<00:00,  1.45s/it]\n",
      "                 Class     Images  Instances      Box(P          R      mAP50  mAP50-95): 100%|██████████| 1/1 [00:00<00:00,  1.71it/s]"
     ]
    },
    {
     "name": "stdout",
     "output_type": "stream",
     "text": [
      "                   all         12         32      0.893      0.967      0.941      0.717\n"
     ]
    },
    {
     "name": "stderr",
     "output_type": "stream",
     "text": [
      "\n"
     ]
    },
    {
     "name": "stdout",
     "output_type": "stream",
     "text": [
      "\n",
      "      Epoch    GPU_mem   box_loss   cls_loss   dfl_loss  Instances       Size\n"
     ]
    },
    {
     "name": "stderr",
     "output_type": "stream",
     "text": [
      "    141/200         0G     0.4771     0.3673     0.8293         18        512: 100%|██████████| 4/4 [00:05<00:00,  1.27s/it]\n",
      "                 Class     Images  Instances      Box(P          R      mAP50  mAP50-95): 100%|██████████| 1/1 [00:00<00:00,  2.41it/s]"
     ]
    },
    {
     "name": "stdout",
     "output_type": "stream",
     "text": [
      "                   all         12         32      0.891      0.967      0.933       0.71\n"
     ]
    },
    {
     "name": "stderr",
     "output_type": "stream",
     "text": [
      "\n"
     ]
    },
    {
     "name": "stdout",
     "output_type": "stream",
     "text": [
      "\n",
      "      Epoch    GPU_mem   box_loss   cls_loss   dfl_loss  Instances       Size\n"
     ]
    },
    {
     "name": "stderr",
     "output_type": "stream",
     "text": [
      "    142/200         0G     0.4896     0.3846     0.8611         13        512: 100%|██████████| 4/4 [00:05<00:00,  1.27s/it]\n",
      "                 Class     Images  Instances      Box(P          R      mAP50  mAP50-95): 100%|██████████| 1/1 [00:00<00:00,  2.29it/s]"
     ]
    },
    {
     "name": "stdout",
     "output_type": "stream",
     "text": [
      "                   all         12         32       0.89      0.967      0.928      0.697\n"
     ]
    },
    {
     "name": "stderr",
     "output_type": "stream",
     "text": [
      "\n"
     ]
    },
    {
     "name": "stdout",
     "output_type": "stream",
     "text": [
      "\n",
      "      Epoch    GPU_mem   box_loss   cls_loss   dfl_loss  Instances       Size\n"
     ]
    },
    {
     "name": "stderr",
     "output_type": "stream",
     "text": [
      "    143/200         0G     0.4491     0.3528     0.8334         16        512: 100%|██████████| 4/4 [00:05<00:00,  1.33s/it]\n",
      "                 Class     Images  Instances      Box(P          R      mAP50  mAP50-95): 100%|██████████| 1/1 [00:00<00:00,  2.13it/s]"
     ]
    },
    {
     "name": "stdout",
     "output_type": "stream",
     "text": [
      "                   all         12         32      0.888      0.967      0.926      0.689\n"
     ]
    },
    {
     "name": "stderr",
     "output_type": "stream",
     "text": [
      "\n"
     ]
    },
    {
     "name": "stdout",
     "output_type": "stream",
     "text": [
      "\n",
      "      Epoch    GPU_mem   box_loss   cls_loss   dfl_loss  Instances       Size\n"
     ]
    },
    {
     "name": "stderr",
     "output_type": "stream",
     "text": [
      "    144/200         0G     0.4239     0.3588     0.8624          5        512: 100%|██████████| 4/4 [00:05<00:00,  1.28s/it]\n",
      "                 Class     Images  Instances      Box(P          R      mAP50  mAP50-95): 100%|██████████| 1/1 [00:00<00:00,  2.27it/s]"
     ]
    },
    {
     "name": "stdout",
     "output_type": "stream",
     "text": [
      "                   all         12         32      0.888      0.967      0.925      0.682\n"
     ]
    },
    {
     "name": "stderr",
     "output_type": "stream",
     "text": [
      "\n"
     ]
    },
    {
     "name": "stdout",
     "output_type": "stream",
     "text": [
      "\n",
      "      Epoch    GPU_mem   box_loss   cls_loss   dfl_loss  Instances       Size\n"
     ]
    },
    {
     "name": "stderr",
     "output_type": "stream",
     "text": [
      "    145/200         0G     0.4641     0.3564     0.8403         14        512: 100%|██████████| 4/4 [00:05<00:00,  1.32s/it]\n",
      "                 Class     Images  Instances      Box(P          R      mAP50  mAP50-95): 100%|██████████| 1/1 [00:00<00:00,  2.34it/s]"
     ]
    },
    {
     "name": "stdout",
     "output_type": "stream",
     "text": [
      "                   all         12         32      0.889      0.967      0.934      0.697\n"
     ]
    },
    {
     "name": "stderr",
     "output_type": "stream",
     "text": [
      "\n"
     ]
    },
    {
     "name": "stdout",
     "output_type": "stream",
     "text": [
      "\n",
      "      Epoch    GPU_mem   box_loss   cls_loss   dfl_loss  Instances       Size\n"
     ]
    },
    {
     "name": "stderr",
     "output_type": "stream",
     "text": [
      "    146/200         0G     0.4801     0.3486     0.8329          7        512: 100%|██████████| 4/4 [00:05<00:00,  1.28s/it]\n",
      "                 Class     Images  Instances      Box(P          R      mAP50  mAP50-95): 100%|██████████| 1/1 [00:00<00:00,  2.32it/s]"
     ]
    },
    {
     "name": "stdout",
     "output_type": "stream",
     "text": [
      "                   all         12         32       0.89      0.967      0.935      0.704\n"
     ]
    },
    {
     "name": "stderr",
     "output_type": "stream",
     "text": [
      "\n"
     ]
    },
    {
     "name": "stdout",
     "output_type": "stream",
     "text": [
      "\n",
      "      Epoch    GPU_mem   box_loss   cls_loss   dfl_loss  Instances       Size\n"
     ]
    },
    {
     "name": "stderr",
     "output_type": "stream",
     "text": [
      "    147/200         0G     0.4697     0.3578     0.8327         18        512: 100%|██████████| 4/4 [00:05<00:00,  1.27s/it]\n",
      "                 Class     Images  Instances      Box(P          R      mAP50  mAP50-95): 100%|██████████| 1/1 [00:00<00:00,  2.33it/s]"
     ]
    },
    {
     "name": "stdout",
     "output_type": "stream",
     "text": [
      "                   all         12         32      0.891      0.967      0.948      0.711\n"
     ]
    },
    {
     "name": "stderr",
     "output_type": "stream",
     "text": [
      "\n"
     ]
    },
    {
     "name": "stdout",
     "output_type": "stream",
     "text": [
      "\n",
      "      Epoch    GPU_mem   box_loss   cls_loss   dfl_loss  Instances       Size\n"
     ]
    },
    {
     "name": "stderr",
     "output_type": "stream",
     "text": [
      "    148/200         0G     0.4545     0.3461     0.8416         19        512: 100%|██████████| 4/4 [00:05<00:00,  1.32s/it]\n",
      "                 Class     Images  Instances      Box(P          R      mAP50  mAP50-95): 100%|██████████| 1/1 [00:00<00:00,  2.37it/s]"
     ]
    },
    {
     "name": "stdout",
     "output_type": "stream",
     "text": [
      "                   all         12         32      0.892      0.967      0.941       0.71\n"
     ]
    },
    {
     "name": "stderr",
     "output_type": "stream",
     "text": [
      "\n"
     ]
    },
    {
     "name": "stdout",
     "output_type": "stream",
     "text": [
      "\n",
      "      Epoch    GPU_mem   box_loss   cls_loss   dfl_loss  Instances       Size\n"
     ]
    },
    {
     "name": "stderr",
     "output_type": "stream",
     "text": [
      "    149/200         0G     0.4451     0.3502      0.858         13        512: 100%|██████████| 4/4 [00:05<00:00,  1.26s/it]\n",
      "                 Class     Images  Instances      Box(P          R      mAP50  mAP50-95): 100%|██████████| 1/1 [00:00<00:00,  2.37it/s]"
     ]
    },
    {
     "name": "stdout",
     "output_type": "stream",
     "text": [
      "                   all         12         32      0.893      0.967      0.941       0.71\n"
     ]
    },
    {
     "name": "stderr",
     "output_type": "stream",
     "text": [
      "\n"
     ]
    },
    {
     "name": "stdout",
     "output_type": "stream",
     "text": [
      "\n",
      "      Epoch    GPU_mem   box_loss   cls_loss   dfl_loss  Instances       Size\n"
     ]
    },
    {
     "name": "stderr",
     "output_type": "stream",
     "text": [
      "    150/200         0G     0.4924     0.3628     0.8247         16        512: 100%|██████████| 4/4 [00:05<00:00,  1.27s/it]\n",
      "                 Class     Images  Instances      Box(P          R      mAP50  mAP50-95): 100%|██████████| 1/1 [00:00<00:00,  2.37it/s]"
     ]
    },
    {
     "name": "stdout",
     "output_type": "stream",
     "text": [
      "                   all         12         32      0.894      0.967      0.946      0.723\n"
     ]
    },
    {
     "name": "stderr",
     "output_type": "stream",
     "text": [
      "\n"
     ]
    },
    {
     "name": "stdout",
     "output_type": "stream",
     "text": [
      "\n",
      "      Epoch    GPU_mem   box_loss   cls_loss   dfl_loss  Instances       Size\n"
     ]
    },
    {
     "name": "stderr",
     "output_type": "stream",
     "text": [
      "    151/200         0G     0.4826     0.3483     0.8491         15        512: 100%|██████████| 4/4 [00:04<00:00,  1.24s/it]\n",
      "                 Class     Images  Instances      Box(P          R      mAP50  mAP50-95): 100%|██████████| 1/1 [00:00<00:00,  2.35it/s]"
     ]
    },
    {
     "name": "stdout",
     "output_type": "stream",
     "text": [
      "                   all         12         32      0.896      0.967      0.949       0.72\n"
     ]
    },
    {
     "name": "stderr",
     "output_type": "stream",
     "text": [
      "\n"
     ]
    },
    {
     "name": "stdout",
     "output_type": "stream",
     "text": [
      "\n",
      "      Epoch    GPU_mem   box_loss   cls_loss   dfl_loss  Instances       Size\n"
     ]
    },
    {
     "name": "stderr",
     "output_type": "stream",
     "text": [
      "    152/200         0G     0.4411     0.3375     0.8251         15        512: 100%|██████████| 4/4 [00:04<00:00,  1.25s/it]\n",
      "                 Class     Images  Instances      Box(P          R      mAP50  mAP50-95): 100%|██████████| 1/1 [00:00<00:00,  2.42it/s]"
     ]
    },
    {
     "name": "stdout",
     "output_type": "stream",
     "text": [
      "                   all         12         32      0.896      0.967      0.952      0.717\n"
     ]
    },
    {
     "name": "stderr",
     "output_type": "stream",
     "text": [
      "\n"
     ]
    },
    {
     "name": "stdout",
     "output_type": "stream",
     "text": [
      "\n",
      "      Epoch    GPU_mem   box_loss   cls_loss   dfl_loss  Instances       Size\n"
     ]
    },
    {
     "name": "stderr",
     "output_type": "stream",
     "text": [
      "    153/200         0G      0.467     0.3573     0.8345         21        512: 100%|██████████| 4/4 [00:05<00:00,  1.27s/it]\n",
      "                 Class     Images  Instances      Box(P          R      mAP50  mAP50-95): 100%|██████████| 1/1 [00:00<00:00,  2.44it/s]"
     ]
    },
    {
     "name": "stdout",
     "output_type": "stream",
     "text": [
      "                   all         12         32      0.895      0.967      0.952      0.723\n"
     ]
    },
    {
     "name": "stderr",
     "output_type": "stream",
     "text": [
      "\n"
     ]
    },
    {
     "name": "stdout",
     "output_type": "stream",
     "text": [
      "\n",
      "      Epoch    GPU_mem   box_loss   cls_loss   dfl_loss  Instances       Size\n"
     ]
    },
    {
     "name": "stderr",
     "output_type": "stream",
     "text": [
      "    154/200         0G     0.5047     0.3762     0.8546          8        512: 100%|██████████| 4/4 [00:04<00:00,  1.25s/it]\n",
      "                 Class     Images  Instances      Box(P          R      mAP50  mAP50-95): 100%|██████████| 1/1 [00:00<00:00,  2.34it/s]"
     ]
    },
    {
     "name": "stdout",
     "output_type": "stream",
     "text": [
      "                   all         12         32      0.893      0.967      0.941      0.726\n"
     ]
    },
    {
     "name": "stderr",
     "output_type": "stream",
     "text": [
      "\n"
     ]
    },
    {
     "name": "stdout",
     "output_type": "stream",
     "text": [
      "\n",
      "      Epoch    GPU_mem   box_loss   cls_loss   dfl_loss  Instances       Size\n"
     ]
    },
    {
     "name": "stderr",
     "output_type": "stream",
     "text": [
      "    155/200         0G     0.5093     0.3528     0.8655         14        512: 100%|██████████| 4/4 [00:04<00:00,  1.23s/it]\n",
      "                 Class     Images  Instances      Box(P          R      mAP50  mAP50-95): 100%|██████████| 1/1 [00:00<00:00,  2.30it/s]"
     ]
    },
    {
     "name": "stdout",
     "output_type": "stream",
     "text": [
      "                   all         12         32      0.892      0.967      0.945      0.726\n"
     ]
    },
    {
     "name": "stderr",
     "output_type": "stream",
     "text": [
      "\n"
     ]
    },
    {
     "name": "stdout",
     "output_type": "stream",
     "text": [
      "\n",
      "      Epoch    GPU_mem   box_loss   cls_loss   dfl_loss  Instances       Size\n"
     ]
    },
    {
     "name": "stderr",
     "output_type": "stream",
     "text": [
      "    156/200         0G     0.4198     0.3363     0.8295         15        512: 100%|██████████| 4/4 [00:05<00:00,  1.28s/it]\n",
      "                 Class     Images  Instances      Box(P          R      mAP50  mAP50-95): 100%|██████████| 1/1 [00:00<00:00,  2.23it/s]"
     ]
    },
    {
     "name": "stdout",
     "output_type": "stream",
     "text": [
      "                   all         12         32       0.89      0.967      0.944      0.715\n"
     ]
    },
    {
     "name": "stderr",
     "output_type": "stream",
     "text": [
      "\n"
     ]
    },
    {
     "name": "stdout",
     "output_type": "stream",
     "text": [
      "\n",
      "      Epoch    GPU_mem   box_loss   cls_loss   dfl_loss  Instances       Size\n"
     ]
    },
    {
     "name": "stderr",
     "output_type": "stream",
     "text": [
      "    157/200         0G      0.434     0.3464     0.8678          9        512: 100%|██████████| 4/4 [00:05<00:00,  1.28s/it]\n",
      "                 Class     Images  Instances      Box(P          R      mAP50  mAP50-95): 100%|██████████| 1/1 [00:00<00:00,  2.30it/s]"
     ]
    },
    {
     "name": "stdout",
     "output_type": "stream",
     "text": [
      "                   all         12         32       0.89      0.967      0.942      0.712\n"
     ]
    },
    {
     "name": "stderr",
     "output_type": "stream",
     "text": [
      "\n"
     ]
    },
    {
     "name": "stdout",
     "output_type": "stream",
     "text": [
      "\n",
      "      Epoch    GPU_mem   box_loss   cls_loss   dfl_loss  Instances       Size\n"
     ]
    },
    {
     "name": "stderr",
     "output_type": "stream",
     "text": [
      "    158/200         0G     0.4821     0.3558     0.8478         13        512: 100%|██████████| 4/4 [00:05<00:00,  1.34s/it]\n",
      "                 Class     Images  Instances      Box(P          R      mAP50  mAP50-95): 100%|██████████| 1/1 [00:00<00:00,  2.17it/s]"
     ]
    },
    {
     "name": "stdout",
     "output_type": "stream",
     "text": [
      "                   all         12         32      0.891      0.967      0.948      0.706\n"
     ]
    },
    {
     "name": "stderr",
     "output_type": "stream",
     "text": [
      "\n"
     ]
    },
    {
     "name": "stdout",
     "output_type": "stream",
     "text": [
      "\n",
      "      Epoch    GPU_mem   box_loss   cls_loss   dfl_loss  Instances       Size\n"
     ]
    },
    {
     "name": "stderr",
     "output_type": "stream",
     "text": [
      "    159/200         0G     0.3979     0.3244       0.84         10        512: 100%|██████████| 4/4 [00:05<00:00,  1.28s/it]\n",
      "                 Class     Images  Instances      Box(P          R      mAP50  mAP50-95): 100%|██████████| 1/1 [00:00<00:00,  2.29it/s]"
     ]
    },
    {
     "name": "stdout",
     "output_type": "stream",
     "text": [
      "                   all         12         32      0.892      0.967      0.951      0.708\n"
     ]
    },
    {
     "name": "stderr",
     "output_type": "stream",
     "text": [
      "\n"
     ]
    },
    {
     "name": "stdout",
     "output_type": "stream",
     "text": [
      "\n",
      "      Epoch    GPU_mem   box_loss   cls_loss   dfl_loss  Instances       Size\n"
     ]
    },
    {
     "name": "stderr",
     "output_type": "stream",
     "text": [
      "    160/200         0G     0.4123     0.3346     0.8154          7        512: 100%|██████████| 4/4 [00:05<00:00,  1.28s/it]\n",
      "                 Class     Images  Instances      Box(P          R      mAP50  mAP50-95): 100%|██████████| 1/1 [00:00<00:00,  2.25it/s]"
     ]
    },
    {
     "name": "stdout",
     "output_type": "stream",
     "text": [
      "                   all         12         32      0.893      0.967      0.954      0.722\n"
     ]
    },
    {
     "name": "stderr",
     "output_type": "stream",
     "text": [
      "\n"
     ]
    },
    {
     "name": "stdout",
     "output_type": "stream",
     "text": [
      "\n",
      "      Epoch    GPU_mem   box_loss   cls_loss   dfl_loss  Instances       Size\n"
     ]
    },
    {
     "name": "stderr",
     "output_type": "stream",
     "text": [
      "    161/200         0G     0.4426     0.3338     0.8383         12        512: 100%|██████████| 4/4 [00:05<00:00,  1.38s/it]\n",
      "                 Class     Images  Instances      Box(P          R      mAP50  mAP50-95): 100%|██████████| 1/1 [00:00<00:00,  2.27it/s]"
     ]
    },
    {
     "name": "stdout",
     "output_type": "stream",
     "text": [
      "                   all         12         32      0.894      0.967      0.943      0.714\n"
     ]
    },
    {
     "name": "stderr",
     "output_type": "stream",
     "text": [
      "\n"
     ]
    },
    {
     "name": "stdout",
     "output_type": "stream",
     "text": [
      "\n",
      "      Epoch    GPU_mem   box_loss   cls_loss   dfl_loss  Instances       Size\n"
     ]
    },
    {
     "name": "stderr",
     "output_type": "stream",
     "text": [
      "    162/200         0G     0.4954     0.3377     0.8695         10        512: 100%|██████████| 4/4 [00:05<00:00,  1.29s/it]\n",
      "                 Class     Images  Instances      Box(P          R      mAP50  mAP50-95): 100%|██████████| 1/1 [00:00<00:00,  2.30it/s]"
     ]
    },
    {
     "name": "stdout",
     "output_type": "stream",
     "text": [
      "                   all         12         32      0.895      0.967      0.946      0.719\n"
     ]
    },
    {
     "name": "stderr",
     "output_type": "stream",
     "text": [
      "\n"
     ]
    },
    {
     "name": "stdout",
     "output_type": "stream",
     "text": [
      "\n",
      "      Epoch    GPU_mem   box_loss   cls_loss   dfl_loss  Instances       Size\n"
     ]
    },
    {
     "name": "stderr",
     "output_type": "stream",
     "text": [
      "    163/200         0G     0.4254     0.3389     0.8277         14        512: 100%|██████████| 4/4 [00:05<00:00,  1.31s/it]\n",
      "                 Class     Images  Instances      Box(P          R      mAP50  mAP50-95): 100%|██████████| 1/1 [00:00<00:00,  2.31it/s]"
     ]
    },
    {
     "name": "stdout",
     "output_type": "stream",
     "text": [
      "                   all         12         32      0.895      0.967      0.949      0.716\n"
     ]
    },
    {
     "name": "stderr",
     "output_type": "stream",
     "text": [
      "\n"
     ]
    },
    {
     "name": "stdout",
     "output_type": "stream",
     "text": [
      "\n",
      "      Epoch    GPU_mem   box_loss   cls_loss   dfl_loss  Instances       Size\n"
     ]
    },
    {
     "name": "stderr",
     "output_type": "stream",
     "text": [
      "    164/200         0G     0.4534     0.3553     0.8569         11        512: 100%|██████████| 4/4 [00:05<00:00,  1.27s/it]\n",
      "                 Class     Images  Instances      Box(P          R      mAP50  mAP50-95): 100%|██████████| 1/1 [00:00<00:00,  2.27it/s]"
     ]
    },
    {
     "name": "stdout",
     "output_type": "stream",
     "text": [
      "                   all         12         32      0.894      0.967      0.949      0.716\n"
     ]
    },
    {
     "name": "stderr",
     "output_type": "stream",
     "text": [
      "\n"
     ]
    },
    {
     "name": "stdout",
     "output_type": "stream",
     "text": [
      "\n",
      "      Epoch    GPU_mem   box_loss   cls_loss   dfl_loss  Instances       Size\n"
     ]
    },
    {
     "name": "stderr",
     "output_type": "stream",
     "text": [
      "    165/200         0G     0.4544     0.3335     0.8602         14        512: 100%|██████████| 4/4 [00:05<00:00,  1.28s/it]\n",
      "                 Class     Images  Instances      Box(P          R      mAP50  mAP50-95): 100%|██████████| 1/1 [00:00<00:00,  2.31it/s]"
     ]
    },
    {
     "name": "stdout",
     "output_type": "stream",
     "text": [
      "                   all         12         32      0.893      0.967      0.942      0.716\n"
     ]
    },
    {
     "name": "stderr",
     "output_type": "stream",
     "text": [
      "\n"
     ]
    },
    {
     "name": "stdout",
     "output_type": "stream",
     "text": [
      "\n",
      "      Epoch    GPU_mem   box_loss   cls_loss   dfl_loss  Instances       Size\n"
     ]
    },
    {
     "name": "stderr",
     "output_type": "stream",
     "text": [
      "    166/200         0G     0.4667     0.3479      0.856          7        512: 100%|██████████| 4/4 [00:05<00:00,  1.31s/it]\n",
      "                 Class     Images  Instances      Box(P          R      mAP50  mAP50-95): 100%|██████████| 1/1 [00:00<00:00,  2.28it/s]"
     ]
    },
    {
     "name": "stdout",
     "output_type": "stream",
     "text": [
      "                   all         12         32      0.892      0.967      0.936      0.706\n"
     ]
    },
    {
     "name": "stderr",
     "output_type": "stream",
     "text": [
      "\n"
     ]
    },
    {
     "name": "stdout",
     "output_type": "stream",
     "text": [
      "\n",
      "      Epoch    GPU_mem   box_loss   cls_loss   dfl_loss  Instances       Size\n"
     ]
    },
    {
     "name": "stderr",
     "output_type": "stream",
     "text": [
      "    167/200         0G     0.5036     0.3512     0.8586          8        512: 100%|██████████| 4/4 [00:05<00:00,  1.28s/it]\n",
      "                 Class     Images  Instances      Box(P          R      mAP50  mAP50-95): 100%|██████████| 1/1 [00:00<00:00,  2.28it/s]"
     ]
    },
    {
     "name": "stdout",
     "output_type": "stream",
     "text": [
      "                   all         12         32      0.891      0.967      0.932      0.706\n"
     ]
    },
    {
     "name": "stderr",
     "output_type": "stream",
     "text": [
      "\n"
     ]
    },
    {
     "name": "stdout",
     "output_type": "stream",
     "text": [
      "\n",
      "      Epoch    GPU_mem   box_loss   cls_loss   dfl_loss  Instances       Size\n"
     ]
    },
    {
     "name": "stderr",
     "output_type": "stream",
     "text": [
      "    168/200         0G     0.4798     0.3503     0.8387          6        512: 100%|██████████| 4/4 [00:05<00:00,  1.33s/it]\n",
      "                 Class     Images  Instances      Box(P          R      mAP50  mAP50-95): 100%|██████████| 1/1 [00:00<00:00,  2.30it/s]"
     ]
    },
    {
     "name": "stdout",
     "output_type": "stream",
     "text": [
      "                   all         12         32       0.89      0.967       0.93       0.71\n"
     ]
    },
    {
     "name": "stderr",
     "output_type": "stream",
     "text": [
      "\n"
     ]
    },
    {
     "name": "stdout",
     "output_type": "stream",
     "text": [
      "\n",
      "      Epoch    GPU_mem   box_loss   cls_loss   dfl_loss  Instances       Size\n"
     ]
    },
    {
     "name": "stderr",
     "output_type": "stream",
     "text": [
      "    169/200         0G     0.4339     0.3369      0.839         12        512: 100%|██████████| 4/4 [00:05<00:00,  1.28s/it]\n",
      "                 Class     Images  Instances      Box(P          R      mAP50  mAP50-95): 100%|██████████| 1/1 [00:00<00:00,  2.31it/s]"
     ]
    },
    {
     "name": "stdout",
     "output_type": "stream",
     "text": [
      "                   all         12         32       0.89      0.967       0.93      0.709\n"
     ]
    },
    {
     "name": "stderr",
     "output_type": "stream",
     "text": [
      "\n"
     ]
    },
    {
     "name": "stdout",
     "output_type": "stream",
     "text": [
      "\n",
      "      Epoch    GPU_mem   box_loss   cls_loss   dfl_loss  Instances       Size\n"
     ]
    },
    {
     "name": "stderr",
     "output_type": "stream",
     "text": [
      "    170/200         0G     0.4442     0.3365     0.8536         13        512: 100%|██████████| 4/4 [00:05<00:00,  1.32s/it]\n",
      "                 Class     Images  Instances      Box(P          R      mAP50  mAP50-95): 100%|██████████| 1/1 [00:00<00:00,  2.31it/s]"
     ]
    },
    {
     "name": "stdout",
     "output_type": "stream",
     "text": [
      "                   all         12         32      0.892      0.967      0.935      0.716\n"
     ]
    },
    {
     "name": "stderr",
     "output_type": "stream",
     "text": [
      "\n"
     ]
    },
    {
     "name": "stdout",
     "output_type": "stream",
     "text": [
      "\n",
      "      Epoch    GPU_mem   box_loss   cls_loss   dfl_loss  Instances       Size\n"
     ]
    },
    {
     "name": "stderr",
     "output_type": "stream",
     "text": [
      "    171/200         0G     0.4497     0.3234     0.8348         10        512: 100%|██████████| 4/4 [00:05<00:00,  1.35s/it]\n",
      "                 Class     Images  Instances      Box(P          R      mAP50  mAP50-95): 100%|██████████| 1/1 [00:00<00:00,  2.29it/s]"
     ]
    },
    {
     "name": "stdout",
     "output_type": "stream",
     "text": [
      "                   all         12         32      0.893      0.967      0.932      0.716\n"
     ]
    },
    {
     "name": "stderr",
     "output_type": "stream",
     "text": [
      "\n"
     ]
    },
    {
     "name": "stdout",
     "output_type": "stream",
     "text": [
      "\n",
      "      Epoch    GPU_mem   box_loss   cls_loss   dfl_loss  Instances       Size\n"
     ]
    },
    {
     "name": "stderr",
     "output_type": "stream",
     "text": [
      "    172/200         0G     0.4038     0.3098     0.8316         12        512: 100%|██████████| 4/4 [00:05<00:00,  1.36s/it]\n",
      "                 Class     Images  Instances      Box(P          R      mAP50  mAP50-95): 100%|██████████| 1/1 [00:00<00:00,  2.00it/s]"
     ]
    },
    {
     "name": "stdout",
     "output_type": "stream",
     "text": [
      "                   all         12         32      0.894      0.967      0.932      0.716\n"
     ]
    },
    {
     "name": "stderr",
     "output_type": "stream",
     "text": [
      "\n"
     ]
    },
    {
     "name": "stdout",
     "output_type": "stream",
     "text": [
      "\n",
      "      Epoch    GPU_mem   box_loss   cls_loss   dfl_loss  Instances       Size\n"
     ]
    },
    {
     "name": "stderr",
     "output_type": "stream",
     "text": [
      "    173/200         0G     0.4589     0.3351     0.8404         15        512: 100%|██████████| 4/4 [00:05<00:00,  1.38s/it]\n",
      "                 Class     Images  Instances      Box(P          R      mAP50  mAP50-95): 100%|██████████| 1/1 [00:00<00:00,  2.17it/s]"
     ]
    },
    {
     "name": "stdout",
     "output_type": "stream",
     "text": [
      "                   all         12         32      0.894      0.967      0.934      0.718\n"
     ]
    },
    {
     "name": "stderr",
     "output_type": "stream",
     "text": [
      "\n"
     ]
    },
    {
     "name": "stdout",
     "output_type": "stream",
     "text": [
      "\n",
      "      Epoch    GPU_mem   box_loss   cls_loss   dfl_loss  Instances       Size\n"
     ]
    },
    {
     "name": "stderr",
     "output_type": "stream",
     "text": [
      "    174/200         0G     0.4401      0.346     0.8291         11        512: 100%|██████████| 4/4 [00:05<00:00,  1.31s/it]\n",
      "                 Class     Images  Instances      Box(P          R      mAP50  mAP50-95): 100%|██████████| 1/1 [00:00<00:00,  2.25it/s]"
     ]
    },
    {
     "name": "stdout",
     "output_type": "stream",
     "text": [
      "                   all         12         32      0.894      0.967      0.938      0.714\n"
     ]
    },
    {
     "name": "stderr",
     "output_type": "stream",
     "text": [
      "\n"
     ]
    },
    {
     "name": "stdout",
     "output_type": "stream",
     "text": [
      "\n",
      "      Epoch    GPU_mem   box_loss   cls_loss   dfl_loss  Instances       Size\n"
     ]
    },
    {
     "name": "stderr",
     "output_type": "stream",
     "text": [
      "    175/200         0G     0.4475     0.3259     0.8553         11        512: 100%|██████████| 4/4 [00:05<00:00,  1.30s/it]\n",
      "                 Class     Images  Instances      Box(P          R      mAP50  mAP50-95): 100%|██████████| 1/1 [00:00<00:00,  2.29it/s]"
     ]
    },
    {
     "name": "stdout",
     "output_type": "stream",
     "text": [
      "                   all         12         32      0.895      0.967      0.941      0.726\n"
     ]
    },
    {
     "name": "stderr",
     "output_type": "stream",
     "text": [
      "\n"
     ]
    },
    {
     "name": "stdout",
     "output_type": "stream",
     "text": [
      "\n",
      "      Epoch    GPU_mem   box_loss   cls_loss   dfl_loss  Instances       Size\n"
     ]
    },
    {
     "name": "stderr",
     "output_type": "stream",
     "text": [
      "    176/200         0G     0.4872     0.3546     0.8471         19        512: 100%|██████████| 4/4 [00:05<00:00,  1.33s/it]\n",
      "                 Class     Images  Instances      Box(P          R      mAP50  mAP50-95): 100%|██████████| 1/1 [00:00<00:00,  2.24it/s]"
     ]
    },
    {
     "name": "stdout",
     "output_type": "stream",
     "text": [
      "                   all         12         32      0.895      0.967      0.931      0.718\n"
     ]
    },
    {
     "name": "stderr",
     "output_type": "stream",
     "text": [
      "\n"
     ]
    },
    {
     "name": "stdout",
     "output_type": "stream",
     "text": [
      "\n",
      "      Epoch    GPU_mem   box_loss   cls_loss   dfl_loss  Instances       Size\n"
     ]
    },
    {
     "name": "stderr",
     "output_type": "stream",
     "text": [
      "    177/200         0G     0.4325     0.3031     0.8525         11        512: 100%|██████████| 4/4 [00:05<00:00,  1.29s/it]\n",
      "                 Class     Images  Instances      Box(P          R      mAP50  mAP50-95): 100%|██████████| 1/1 [00:00<00:00,  2.26it/s]"
     ]
    },
    {
     "name": "stdout",
     "output_type": "stream",
     "text": [
      "                   all         12         32      0.896      0.967      0.937      0.733\n"
     ]
    },
    {
     "name": "stderr",
     "output_type": "stream",
     "text": [
      "\n"
     ]
    },
    {
     "name": "stdout",
     "output_type": "stream",
     "text": [
      "\n",
      "      Epoch    GPU_mem   box_loss   cls_loss   dfl_loss  Instances       Size\n"
     ]
    },
    {
     "name": "stderr",
     "output_type": "stream",
     "text": [
      "    178/200         0G     0.4439     0.3121     0.8491         13        512: 100%|██████████| 4/4 [00:05<00:00,  1.29s/it]\n",
      "                 Class     Images  Instances      Box(P          R      mAP50  mAP50-95): 100%|██████████| 1/1 [00:00<00:00,  2.31it/s]"
     ]
    },
    {
     "name": "stdout",
     "output_type": "stream",
     "text": [
      "                   all         12         32      0.896      0.967      0.939      0.727\n"
     ]
    },
    {
     "name": "stderr",
     "output_type": "stream",
     "text": [
      "\n"
     ]
    },
    {
     "name": "stdout",
     "output_type": "stream",
     "text": [
      "\n",
      "      Epoch    GPU_mem   box_loss   cls_loss   dfl_loss  Instances       Size\n"
     ]
    },
    {
     "name": "stderr",
     "output_type": "stream",
     "text": [
      "    179/200         0G     0.4581     0.3259     0.8465          7        512: 100%|██████████| 4/4 [00:05<00:00,  1.31s/it]\n",
      "                 Class     Images  Instances      Box(P          R      mAP50  mAP50-95): 100%|██████████| 1/1 [00:00<00:00,  2.25it/s]"
     ]
    },
    {
     "name": "stdout",
     "output_type": "stream",
     "text": [
      "                   all         12         32      0.895      0.967      0.936      0.724\n"
     ]
    },
    {
     "name": "stderr",
     "output_type": "stream",
     "text": [
      "\n"
     ]
    },
    {
     "name": "stdout",
     "output_type": "stream",
     "text": [
      "\n",
      "      Epoch    GPU_mem   box_loss   cls_loss   dfl_loss  Instances       Size\n"
     ]
    },
    {
     "name": "stderr",
     "output_type": "stream",
     "text": [
      "    180/200         0G     0.4737     0.3183     0.8282          9        512: 100%|██████████| 4/4 [00:05<00:00,  1.29s/it]\n",
      "                 Class     Images  Instances      Box(P          R      mAP50  mAP50-95): 100%|██████████| 1/1 [00:00<00:00,  2.05it/s]"
     ]
    },
    {
     "name": "stdout",
     "output_type": "stream",
     "text": [
      "                   all         12         32      0.895      0.967      0.936      0.725\n"
     ]
    },
    {
     "name": "stderr",
     "output_type": "stream",
     "text": [
      "\n"
     ]
    },
    {
     "name": "stdout",
     "output_type": "stream",
     "text": [
      "\n",
      "      Epoch    GPU_mem   box_loss   cls_loss   dfl_loss  Instances       Size\n"
     ]
    },
    {
     "name": "stderr",
     "output_type": "stream",
     "text": [
      "    181/200         0G     0.4079     0.3286     0.8386         12        512: 100%|██████████| 4/4 [00:05<00:00,  1.33s/it]\n",
      "                 Class     Images  Instances      Box(P          R      mAP50  mAP50-95): 100%|██████████| 1/1 [00:00<00:00,  2.28it/s]"
     ]
    },
    {
     "name": "stdout",
     "output_type": "stream",
     "text": [
      "                   all         12         32      0.894      0.967      0.932      0.718\n"
     ]
    },
    {
     "name": "stderr",
     "output_type": "stream",
     "text": [
      "\n"
     ]
    },
    {
     "name": "stdout",
     "output_type": "stream",
     "text": [
      "\n",
      "      Epoch    GPU_mem   box_loss   cls_loss   dfl_loss  Instances       Size\n"
     ]
    },
    {
     "name": "stderr",
     "output_type": "stream",
     "text": [
      "    182/200         0G     0.4641     0.3346     0.8626         20        512: 100%|██████████| 4/4 [00:05<00:00,  1.29s/it]\n",
      "                 Class     Images  Instances      Box(P          R      mAP50  mAP50-95): 100%|██████████| 1/1 [00:00<00:00,  2.29it/s]"
     ]
    },
    {
     "name": "stdout",
     "output_type": "stream",
     "text": [
      "                   all         12         32      0.894      0.967      0.938      0.715\n"
     ]
    },
    {
     "name": "stderr",
     "output_type": "stream",
     "text": [
      "\n"
     ]
    },
    {
     "name": "stdout",
     "output_type": "stream",
     "text": [
      "\n",
      "      Epoch    GPU_mem   box_loss   cls_loss   dfl_loss  Instances       Size\n"
     ]
    },
    {
     "name": "stderr",
     "output_type": "stream",
     "text": [
      "    183/200         0G     0.4525     0.3289     0.8364         16        512: 100%|██████████| 4/4 [00:05<00:00,  1.28s/it]\n",
      "                 Class     Images  Instances      Box(P          R      mAP50  mAP50-95): 100%|██████████| 1/1 [00:00<00:00,  2.32it/s]"
     ]
    },
    {
     "name": "stdout",
     "output_type": "stream",
     "text": [
      "                   all         12         32      0.893      0.967      0.938      0.716\n"
     ]
    },
    {
     "name": "stderr",
     "output_type": "stream",
     "text": [
      "\n"
     ]
    },
    {
     "name": "stdout",
     "output_type": "stream",
     "text": [
      "\n",
      "      Epoch    GPU_mem   box_loss   cls_loss   dfl_loss  Instances       Size\n"
     ]
    },
    {
     "name": "stderr",
     "output_type": "stream",
     "text": [
      "    184/200         0G     0.4401     0.3257      0.858          5        512: 100%|██████████| 4/4 [00:05<00:00,  1.36s/it]\n",
      "                 Class     Images  Instances      Box(P          R      mAP50  mAP50-95): 100%|██████████| 1/1 [00:00<00:00,  2.28it/s]"
     ]
    },
    {
     "name": "stdout",
     "output_type": "stream",
     "text": [
      "                   all         12         32      0.893      0.967      0.935      0.712\n"
     ]
    },
    {
     "name": "stderr",
     "output_type": "stream",
     "text": [
      "\n"
     ]
    },
    {
     "name": "stdout",
     "output_type": "stream",
     "text": [
      "\n",
      "      Epoch    GPU_mem   box_loss   cls_loss   dfl_loss  Instances       Size\n"
     ]
    },
    {
     "name": "stderr",
     "output_type": "stream",
     "text": [
      "    185/200         0G     0.4114     0.3154     0.8156         14        512: 100%|██████████| 4/4 [00:05<00:00,  1.28s/it]\n",
      "                 Class     Images  Instances      Box(P          R      mAP50  mAP50-95): 100%|██████████| 1/1 [00:00<00:00,  2.29it/s]"
     ]
    },
    {
     "name": "stdout",
     "output_type": "stream",
     "text": [
      "                   all         12         32      0.892      0.967      0.936      0.713\n"
     ]
    },
    {
     "name": "stderr",
     "output_type": "stream",
     "text": [
      "\n"
     ]
    },
    {
     "name": "stdout",
     "output_type": "stream",
     "text": [
      "\n",
      "      Epoch    GPU_mem   box_loss   cls_loss   dfl_loss  Instances       Size\n"
     ]
    },
    {
     "name": "stderr",
     "output_type": "stream",
     "text": [
      "    186/200         0G     0.4358     0.3289     0.8308         20        512: 100%|██████████| 4/4 [00:05<00:00,  1.32s/it]\n",
      "                 Class     Images  Instances      Box(P          R      mAP50  mAP50-95): 100%|██████████| 1/1 [00:00<00:00,  2.27it/s]"
     ]
    },
    {
     "name": "stdout",
     "output_type": "stream",
     "text": [
      "                   all         12         32      0.892      0.967      0.931      0.715\n"
     ]
    },
    {
     "name": "stderr",
     "output_type": "stream",
     "text": [
      "\n"
     ]
    },
    {
     "name": "stdout",
     "output_type": "stream",
     "text": [
      "\n",
      "      Epoch    GPU_mem   box_loss   cls_loss   dfl_loss  Instances       Size\n"
     ]
    },
    {
     "name": "stderr",
     "output_type": "stream",
     "text": [
      "    187/200         0G     0.4719     0.3279      0.844          7        512: 100%|██████████| 4/4 [00:05<00:00,  1.30s/it]\n",
      "                 Class     Images  Instances      Box(P          R      mAP50  mAP50-95): 100%|██████████| 1/1 [00:00<00:00,  2.27it/s]"
     ]
    },
    {
     "name": "stdout",
     "output_type": "stream",
     "text": [
      "                   all         12         32      0.892      0.967      0.934      0.716\n"
     ]
    },
    {
     "name": "stderr",
     "output_type": "stream",
     "text": [
      "\n"
     ]
    },
    {
     "name": "stdout",
     "output_type": "stream",
     "text": [
      "\n",
      "      Epoch    GPU_mem   box_loss   cls_loss   dfl_loss  Instances       Size\n"
     ]
    },
    {
     "name": "stderr",
     "output_type": "stream",
     "text": [
      "    188/200         0G     0.4319     0.3317     0.8408         17        512: 100%|██████████| 4/4 [00:05<00:00,  1.28s/it]\n",
      "                 Class     Images  Instances      Box(P          R      mAP50  mAP50-95): 100%|██████████| 1/1 [00:00<00:00,  2.26it/s]"
     ]
    },
    {
     "name": "stdout",
     "output_type": "stream",
     "text": [
      "                   all         12         32      0.893      0.967      0.934      0.718\n"
     ]
    },
    {
     "name": "stderr",
     "output_type": "stream",
     "text": [
      "\n"
     ]
    },
    {
     "name": "stdout",
     "output_type": "stream",
     "text": [
      "\n",
      "      Epoch    GPU_mem   box_loss   cls_loss   dfl_loss  Instances       Size\n"
     ]
    },
    {
     "name": "stderr",
     "output_type": "stream",
     "text": [
      "    189/200         0G     0.4239     0.2994      0.847          7        512: 100%|██████████| 4/4 [00:05<00:00,  1.32s/it]\n",
      "                 Class     Images  Instances      Box(P          R      mAP50  mAP50-95): 100%|██████████| 1/1 [00:00<00:00,  2.21it/s]"
     ]
    },
    {
     "name": "stdout",
     "output_type": "stream",
     "text": [
      "                   all         12         32      0.893      0.967      0.933      0.714\n"
     ]
    },
    {
     "name": "stderr",
     "output_type": "stream",
     "text": [
      "\n"
     ]
    },
    {
     "name": "stdout",
     "output_type": "stream",
     "text": [
      "\n",
      "      Epoch    GPU_mem   box_loss   cls_loss   dfl_loss  Instances       Size\n"
     ]
    },
    {
     "name": "stderr",
     "output_type": "stream",
     "text": [
      "    190/200         0G     0.4841     0.3476     0.8532         12        512: 100%|██████████| 4/4 [00:05<00:00,  1.29s/it]\n",
      "                 Class     Images  Instances      Box(P          R      mAP50  mAP50-95): 100%|██████████| 1/1 [00:00<00:00,  2.27it/s]"
     ]
    },
    {
     "name": "stdout",
     "output_type": "stream",
     "text": [
      "                   all         12         32      0.893      0.967      0.936      0.708\n"
     ]
    },
    {
     "name": "stderr",
     "output_type": "stream",
     "text": [
      "\n"
     ]
    },
    {
     "name": "stdout",
     "output_type": "stream",
     "text": [
      "Closing dataloader mosaic\n",
      "\n",
      "      Epoch    GPU_mem   box_loss   cls_loss   dfl_loss  Instances       Size\n"
     ]
    },
    {
     "name": "stderr",
     "output_type": "stream",
     "text": [
      "    191/200         0G     0.4604     0.3508     0.7978          6        512: 100%|██████████| 4/4 [00:05<00:00,  1.34s/it]\n",
      "                 Class     Images  Instances      Box(P          R      mAP50  mAP50-95): 100%|██████████| 1/1 [00:00<00:00,  2.26it/s]"
     ]
    },
    {
     "name": "stdout",
     "output_type": "stream",
     "text": [
      "                   all         12         32      0.893      0.967      0.933      0.703\n"
     ]
    },
    {
     "name": "stderr",
     "output_type": "stream",
     "text": [
      "\n"
     ]
    },
    {
     "name": "stdout",
     "output_type": "stream",
     "text": [
      "\n",
      "      Epoch    GPU_mem   box_loss   cls_loss   dfl_loss  Instances       Size\n"
     ]
    },
    {
     "name": "stderr",
     "output_type": "stream",
     "text": [
      "    192/200         0G     0.4651      0.346     0.8012          6        512: 100%|██████████| 4/4 [00:05<00:00,  1.27s/it]\n",
      "                 Class     Images  Instances      Box(P          R      mAP50  mAP50-95): 100%|██████████| 1/1 [00:00<00:00,  2.28it/s]"
     ]
    },
    {
     "name": "stdout",
     "output_type": "stream",
     "text": [
      "                   all         12         32      0.893      0.967      0.929      0.697\n"
     ]
    },
    {
     "name": "stderr",
     "output_type": "stream",
     "text": [
      "\n"
     ]
    },
    {
     "name": "stdout",
     "output_type": "stream",
     "text": [
      "\n",
      "      Epoch    GPU_mem   box_loss   cls_loss   dfl_loss  Instances       Size\n"
     ]
    },
    {
     "name": "stderr",
     "output_type": "stream",
     "text": [
      "    193/200         0G     0.4577     0.3426     0.8118          6        512: 100%|██████████| 4/4 [00:05<00:00,  1.25s/it]\n",
      "                 Class     Images  Instances      Box(P          R      mAP50  mAP50-95): 100%|██████████| 1/1 [00:00<00:00,  2.20it/s]"
     ]
    },
    {
     "name": "stdout",
     "output_type": "stream",
     "text": [
      "                   all         12         32      0.893      0.967      0.931      0.697\n"
     ]
    },
    {
     "name": "stderr",
     "output_type": "stream",
     "text": [
      "\n"
     ]
    },
    {
     "name": "stdout",
     "output_type": "stream",
     "text": [
      "\n",
      "      Epoch    GPU_mem   box_loss   cls_loss   dfl_loss  Instances       Size\n"
     ]
    },
    {
     "name": "stderr",
     "output_type": "stream",
     "text": [
      "    194/200         0G     0.4727     0.3503     0.8155          6        512: 100%|██████████| 4/4 [00:05<00:00,  1.39s/it]\n",
      "                 Class     Images  Instances      Box(P          R      mAP50  mAP50-95): 100%|██████████| 1/1 [00:00<00:00,  2.26it/s]"
     ]
    },
    {
     "name": "stdout",
     "output_type": "stream",
     "text": [
      "                   all         12         32      0.893      0.967      0.931      0.697\n"
     ]
    },
    {
     "name": "stderr",
     "output_type": "stream",
     "text": [
      "\n"
     ]
    },
    {
     "name": "stdout",
     "output_type": "stream",
     "text": [
      "\n",
      "      Epoch    GPU_mem   box_loss   cls_loss   dfl_loss  Instances       Size\n"
     ]
    },
    {
     "name": "stderr",
     "output_type": "stream",
     "text": [
      "    195/200         0G     0.4322     0.3426     0.7541          6        512: 100%|██████████| 4/4 [00:05<00:00,  1.26s/it]\n",
      "                 Class     Images  Instances      Box(P          R      mAP50  mAP50-95): 100%|██████████| 1/1 [00:00<00:00,  2.26it/s]"
     ]
    },
    {
     "name": "stdout",
     "output_type": "stream",
     "text": [
      "                   all         12         32      0.893      0.967      0.928      0.699\n"
     ]
    },
    {
     "name": "stderr",
     "output_type": "stream",
     "text": [
      "\n"
     ]
    },
    {
     "name": "stdout",
     "output_type": "stream",
     "text": [
      "\n",
      "      Epoch    GPU_mem   box_loss   cls_loss   dfl_loss  Instances       Size\n"
     ]
    },
    {
     "name": "stderr",
     "output_type": "stream",
     "text": [
      "    196/200         0G     0.4533      0.345      0.786          6        512: 100%|██████████| 4/4 [00:05<00:00,  1.27s/it]\n",
      "                 Class     Images  Instances      Box(P          R      mAP50  mAP50-95): 100%|██████████| 1/1 [00:00<00:00,  1.83it/s]"
     ]
    },
    {
     "name": "stdout",
     "output_type": "stream",
     "text": [
      "                   all         12         32      0.893      0.967      0.928      0.696\n"
     ]
    },
    {
     "name": "stderr",
     "output_type": "stream",
     "text": [
      "\n"
     ]
    },
    {
     "name": "stdout",
     "output_type": "stream",
     "text": [
      "\n",
      "      Epoch    GPU_mem   box_loss   cls_loss   dfl_loss  Instances       Size\n"
     ]
    },
    {
     "name": "stderr",
     "output_type": "stream",
     "text": [
      "    197/200         0G     0.4438     0.3282     0.7774          6        512: 100%|██████████| 4/4 [00:05<00:00,  1.25s/it]\n",
      "                 Class     Images  Instances      Box(P          R      mAP50  mAP50-95): 100%|██████████| 1/1 [00:00<00:00,  2.34it/s]"
     ]
    },
    {
     "name": "stdout",
     "output_type": "stream",
     "text": [
      "                   all         12         32      0.893      0.967      0.929      0.696\n"
     ]
    },
    {
     "name": "stderr",
     "output_type": "stream",
     "text": [
      "\n"
     ]
    },
    {
     "name": "stdout",
     "output_type": "stream",
     "text": [
      "\n",
      "      Epoch    GPU_mem   box_loss   cls_loss   dfl_loss  Instances       Size\n"
     ]
    },
    {
     "name": "stderr",
     "output_type": "stream",
     "text": [
      "    198/200         0G     0.3768     0.3238     0.7723          6        512: 100%|██████████| 4/4 [00:04<00:00,  1.20s/it]\n",
      "                 Class     Images  Instances      Box(P          R      mAP50  mAP50-95): 100%|██████████| 1/1 [00:00<00:00,  2.34it/s]"
     ]
    },
    {
     "name": "stdout",
     "output_type": "stream",
     "text": [
      "                   all         12         32      0.893      0.967      0.929      0.699\n"
     ]
    },
    {
     "name": "stderr",
     "output_type": "stream",
     "text": [
      "\n"
     ]
    },
    {
     "name": "stdout",
     "output_type": "stream",
     "text": [
      "\n",
      "      Epoch    GPU_mem   box_loss   cls_loss   dfl_loss  Instances       Size\n"
     ]
    },
    {
     "name": "stderr",
     "output_type": "stream",
     "text": [
      "    199/200         0G     0.4285     0.3314     0.7774          6        512: 100%|██████████| 4/4 [00:04<00:00,  1.24s/it]\n",
      "                 Class     Images  Instances      Box(P          R      mAP50  mAP50-95): 100%|██████████| 1/1 [00:00<00:00,  2.39it/s]"
     ]
    },
    {
     "name": "stdout",
     "output_type": "stream",
     "text": [
      "                   all         12         32      0.893      0.967      0.929      0.701\n"
     ]
    },
    {
     "name": "stderr",
     "output_type": "stream",
     "text": [
      "\n"
     ]
    },
    {
     "name": "stdout",
     "output_type": "stream",
     "text": [
      "\n",
      "      Epoch    GPU_mem   box_loss   cls_loss   dfl_loss  Instances       Size\n"
     ]
    },
    {
     "name": "stderr",
     "output_type": "stream",
     "text": [
      "    200/200         0G     0.4206     0.3306     0.7957          6        512: 100%|██████████| 4/4 [00:04<00:00,  1.21s/it]\n",
      "                 Class     Images  Instances      Box(P          R      mAP50  mAP50-95): 100%|██████████| 1/1 [00:00<00:00,  2.32it/s]"
     ]
    },
    {
     "name": "stdout",
     "output_type": "stream",
     "text": [
      "                   all         12         32      0.893      0.967       0.93      0.701\n"
     ]
    },
    {
     "name": "stderr",
     "output_type": "stream",
     "text": [
      "\n"
     ]
    },
    {
     "name": "stdout",
     "output_type": "stream",
     "text": [
      "\n",
      "200 epochs completed in 0.317 hours.\n",
      "Optimizer stripped from runs\\detect\\train10\\weights\\last.pt, 6.2MB\n",
      "Optimizer stripped from runs\\detect\\train10\\weights\\best.pt, 6.2MB\n",
      "\n",
      "Validating runs\\detect\\train10\\weights\\best.pt...\n",
      "Ultralytics 8.3.34  Python-3.8.2 torch-2.4.1+cpu CPU (12th Gen Intel Core(TM) i5-12400F)\n",
      "Model summary (fused): 168 layers, 3,006,233 parameters, 0 gradients, 8.1 GFLOPs\n"
     ]
    },
    {
     "name": "stderr",
     "output_type": "stream",
     "text": [
      "                 Class     Images  Instances      Box(P          R      mAP50  mAP50-95): 100%|██████████| 1/1 [00:00<00:00,  2.49it/s]\n"
     ]
    },
    {
     "name": "stdout",
     "output_type": "stream",
     "text": [
      "                   all         12         32      0.896      0.967      0.937      0.727\n",
      "                  ball         10         10      0.894        0.9      0.896      0.467\n",
      "                person         11         11      0.901          1      0.965      0.794\n",
      "                  goal         11         11      0.892          1       0.95      0.922\n",
      "Speed: 0.4ms preprocess, 20.8ms inference, 0.0ms loss, 0.2ms postprocess per image\n",
      "Results saved to \u001B[1mruns\\detect\\train10\u001B[0m\n"
     ]
    },
    {
     "data": {
      "text/plain": [
       "ultralytics.utils.metrics.DetMetrics object with attributes:\n",
       "\n",
       "ap_class_index: array([0, 1, 2])\n",
       "box: ultralytics.utils.metrics.Metric object\n",
       "confusion_matrix: <ultralytics.utils.metrics.ConfusionMatrix object at 0x0000014E1D8FBE20>\n",
       "curves: ['Precision-Recall(B)', 'F1-Confidence(B)', 'Precision-Confidence(B)', 'Recall-Confidence(B)']\n",
       "curves_results: [[array([          0,    0.001001,    0.002002,    0.003003,    0.004004,    0.005005,    0.006006,    0.007007,    0.008008,    0.009009,     0.01001,    0.011011,    0.012012,    0.013013,    0.014014,    0.015015,    0.016016,    0.017017,    0.018018,    0.019019,     0.02002,    0.021021,    0.022022,    0.023023,\n",
       "          0.024024,    0.025025,    0.026026,    0.027027,    0.028028,    0.029029,     0.03003,    0.031031,    0.032032,    0.033033,    0.034034,    0.035035,    0.036036,    0.037037,    0.038038,    0.039039,     0.04004,    0.041041,    0.042042,    0.043043,    0.044044,    0.045045,    0.046046,    0.047047,\n",
       "          0.048048,    0.049049,     0.05005,    0.051051,    0.052052,    0.053053,    0.054054,    0.055055,    0.056056,    0.057057,    0.058058,    0.059059,     0.06006,    0.061061,    0.062062,    0.063063,    0.064064,    0.065065,    0.066066,    0.067067,    0.068068,    0.069069,     0.07007,    0.071071,\n",
       "          0.072072,    0.073073,    0.074074,    0.075075,    0.076076,    0.077077,    0.078078,    0.079079,     0.08008,    0.081081,    0.082082,    0.083083,    0.084084,    0.085085,    0.086086,    0.087087,    0.088088,    0.089089,     0.09009,    0.091091,    0.092092,    0.093093,    0.094094,    0.095095,\n",
       "          0.096096,    0.097097,    0.098098,    0.099099,      0.1001,      0.1011,      0.1021,      0.1031,      0.1041,     0.10511,     0.10611,     0.10711,     0.10811,     0.10911,     0.11011,     0.11111,     0.11211,     0.11311,     0.11411,     0.11512,     0.11612,     0.11712,     0.11812,     0.11912,\n",
       "           0.12012,     0.12112,     0.12212,     0.12312,     0.12412,     0.12513,     0.12613,     0.12713,     0.12813,     0.12913,     0.13013,     0.13113,     0.13213,     0.13313,     0.13413,     0.13514,     0.13614,     0.13714,     0.13814,     0.13914,     0.14014,     0.14114,     0.14214,     0.14314,\n",
       "           0.14414,     0.14515,     0.14615,     0.14715,     0.14815,     0.14915,     0.15015,     0.15115,     0.15215,     0.15315,     0.15415,     0.15516,     0.15616,     0.15716,     0.15816,     0.15916,     0.16016,     0.16116,     0.16216,     0.16316,     0.16416,     0.16517,     0.16617,     0.16717,\n",
       "           0.16817,     0.16917,     0.17017,     0.17117,     0.17217,     0.17317,     0.17417,     0.17518,     0.17618,     0.17718,     0.17818,     0.17918,     0.18018,     0.18118,     0.18218,     0.18318,     0.18418,     0.18519,     0.18619,     0.18719,     0.18819,     0.18919,     0.19019,     0.19119,\n",
       "           0.19219,     0.19319,     0.19419,      0.1952,      0.1962,      0.1972,      0.1982,      0.1992,      0.2002,      0.2012,      0.2022,      0.2032,      0.2042,     0.20521,     0.20621,     0.20721,     0.20821,     0.20921,     0.21021,     0.21121,     0.21221,     0.21321,     0.21421,     0.21522,\n",
       "           0.21622,     0.21722,     0.21822,     0.21922,     0.22022,     0.22122,     0.22222,     0.22322,     0.22422,     0.22523,     0.22623,     0.22723,     0.22823,     0.22923,     0.23023,     0.23123,     0.23223,     0.23323,     0.23423,     0.23524,     0.23624,     0.23724,     0.23824,     0.23924,\n",
       "           0.24024,     0.24124,     0.24224,     0.24324,     0.24424,     0.24525,     0.24625,     0.24725,     0.24825,     0.24925,     0.25025,     0.25125,     0.25225,     0.25325,     0.25425,     0.25526,     0.25626,     0.25726,     0.25826,     0.25926,     0.26026,     0.26126,     0.26226,     0.26326,\n",
       "           0.26426,     0.26527,     0.26627,     0.26727,     0.26827,     0.26927,     0.27027,     0.27127,     0.27227,     0.27327,     0.27427,     0.27528,     0.27628,     0.27728,     0.27828,     0.27928,     0.28028,     0.28128,     0.28228,     0.28328,     0.28428,     0.28529,     0.28629,     0.28729,\n",
       "           0.28829,     0.28929,     0.29029,     0.29129,     0.29229,     0.29329,     0.29429,      0.2953,      0.2963,      0.2973,      0.2983,      0.2993,      0.3003,      0.3013,      0.3023,      0.3033,      0.3043,     0.30531,     0.30631,     0.30731,     0.30831,     0.30931,     0.31031,     0.31131,\n",
       "           0.31231,     0.31331,     0.31431,     0.31532,     0.31632,     0.31732,     0.31832,     0.31932,     0.32032,     0.32132,     0.32232,     0.32332,     0.32432,     0.32533,     0.32633,     0.32733,     0.32833,     0.32933,     0.33033,     0.33133,     0.33233,     0.33333,     0.33433,     0.33534,\n",
       "           0.33634,     0.33734,     0.33834,     0.33934,     0.34034,     0.34134,     0.34234,     0.34334,     0.34434,     0.34535,     0.34635,     0.34735,     0.34835,     0.34935,     0.35035,     0.35135,     0.35235,     0.35335,     0.35435,     0.35536,     0.35636,     0.35736,     0.35836,     0.35936,\n",
       "           0.36036,     0.36136,     0.36236,     0.36336,     0.36436,     0.36537,     0.36637,     0.36737,     0.36837,     0.36937,     0.37037,     0.37137,     0.37237,     0.37337,     0.37437,     0.37538,     0.37638,     0.37738,     0.37838,     0.37938,     0.38038,     0.38138,     0.38238,     0.38338,\n",
       "           0.38438,     0.38539,     0.38639,     0.38739,     0.38839,     0.38939,     0.39039,     0.39139,     0.39239,     0.39339,     0.39439,      0.3954,      0.3964,      0.3974,      0.3984,      0.3994,      0.4004,      0.4014,      0.4024,      0.4034,      0.4044,     0.40541,     0.40641,     0.40741,\n",
       "           0.40841,     0.40941,     0.41041,     0.41141,     0.41241,     0.41341,     0.41441,     0.41542,     0.41642,     0.41742,     0.41842,     0.41942,     0.42042,     0.42142,     0.42242,     0.42342,     0.42442,     0.42543,     0.42643,     0.42743,     0.42843,     0.42943,     0.43043,     0.43143,\n",
       "           0.43243,     0.43343,     0.43443,     0.43544,     0.43644,     0.43744,     0.43844,     0.43944,     0.44044,     0.44144,     0.44244,     0.44344,     0.44444,     0.44545,     0.44645,     0.44745,     0.44845,     0.44945,     0.45045,     0.45145,     0.45245,     0.45345,     0.45445,     0.45546,\n",
       "           0.45646,     0.45746,     0.45846,     0.45946,     0.46046,     0.46146,     0.46246,     0.46346,     0.46446,     0.46547,     0.46647,     0.46747,     0.46847,     0.46947,     0.47047,     0.47147,     0.47247,     0.47347,     0.47447,     0.47548,     0.47648,     0.47748,     0.47848,     0.47948,\n",
       "           0.48048,     0.48148,     0.48248,     0.48348,     0.48448,     0.48549,     0.48649,     0.48749,     0.48849,     0.48949,     0.49049,     0.49149,     0.49249,     0.49349,     0.49449,      0.4955,      0.4965,      0.4975,      0.4985,      0.4995,      0.5005,      0.5015,      0.5025,      0.5035,\n",
       "            0.5045,     0.50551,     0.50651,     0.50751,     0.50851,     0.50951,     0.51051,     0.51151,     0.51251,     0.51351,     0.51451,     0.51552,     0.51652,     0.51752,     0.51852,     0.51952,     0.52052,     0.52152,     0.52252,     0.52352,     0.52452,     0.52553,     0.52653,     0.52753,\n",
       "           0.52853,     0.52953,     0.53053,     0.53153,     0.53253,     0.53353,     0.53453,     0.53554,     0.53654,     0.53754,     0.53854,     0.53954,     0.54054,     0.54154,     0.54254,     0.54354,     0.54454,     0.54555,     0.54655,     0.54755,     0.54855,     0.54955,     0.55055,     0.55155,\n",
       "           0.55255,     0.55355,     0.55455,     0.55556,     0.55656,     0.55756,     0.55856,     0.55956,     0.56056,     0.56156,     0.56256,     0.56356,     0.56456,     0.56557,     0.56657,     0.56757,     0.56857,     0.56957,     0.57057,     0.57157,     0.57257,     0.57357,     0.57457,     0.57558,\n",
       "           0.57658,     0.57758,     0.57858,     0.57958,     0.58058,     0.58158,     0.58258,     0.58358,     0.58458,     0.58559,     0.58659,     0.58759,     0.58859,     0.58959,     0.59059,     0.59159,     0.59259,     0.59359,     0.59459,      0.5956,      0.5966,      0.5976,      0.5986,      0.5996,\n",
       "            0.6006,      0.6016,      0.6026,      0.6036,      0.6046,     0.60561,     0.60661,     0.60761,     0.60861,     0.60961,     0.61061,     0.61161,     0.61261,     0.61361,     0.61461,     0.61562,     0.61662,     0.61762,     0.61862,     0.61962,     0.62062,     0.62162,     0.62262,     0.62362,\n",
       "           0.62462,     0.62563,     0.62663,     0.62763,     0.62863,     0.62963,     0.63063,     0.63163,     0.63263,     0.63363,     0.63463,     0.63564,     0.63664,     0.63764,     0.63864,     0.63964,     0.64064,     0.64164,     0.64264,     0.64364,     0.64464,     0.64565,     0.64665,     0.64765,\n",
       "           0.64865,     0.64965,     0.65065,     0.65165,     0.65265,     0.65365,     0.65465,     0.65566,     0.65666,     0.65766,     0.65866,     0.65966,     0.66066,     0.66166,     0.66266,     0.66366,     0.66466,     0.66567,     0.66667,     0.66767,     0.66867,     0.66967,     0.67067,     0.67167,\n",
       "           0.67267,     0.67367,     0.67467,     0.67568,     0.67668,     0.67768,     0.67868,     0.67968,     0.68068,     0.68168,     0.68268,     0.68368,     0.68468,     0.68569,     0.68669,     0.68769,     0.68869,     0.68969,     0.69069,     0.69169,     0.69269,     0.69369,     0.69469,      0.6957,\n",
       "            0.6967,      0.6977,      0.6987,      0.6997,      0.7007,      0.7017,      0.7027,      0.7037,      0.7047,     0.70571,     0.70671,     0.70771,     0.70871,     0.70971,     0.71071,     0.71171,     0.71271,     0.71371,     0.71471,     0.71572,     0.71672,     0.71772,     0.71872,     0.71972,\n",
       "           0.72072,     0.72172,     0.72272,     0.72372,     0.72472,     0.72573,     0.72673,     0.72773,     0.72873,     0.72973,     0.73073,     0.73173,     0.73273,     0.73373,     0.73473,     0.73574,     0.73674,     0.73774,     0.73874,     0.73974,     0.74074,     0.74174,     0.74274,     0.74374,\n",
       "           0.74474,     0.74575,     0.74675,     0.74775,     0.74875,     0.74975,     0.75075,     0.75175,     0.75275,     0.75375,     0.75475,     0.75576,     0.75676,     0.75776,     0.75876,     0.75976,     0.76076,     0.76176,     0.76276,     0.76376,     0.76476,     0.76577,     0.76677,     0.76777,\n",
       "           0.76877,     0.76977,     0.77077,     0.77177,     0.77277,     0.77377,     0.77477,     0.77578,     0.77678,     0.77778,     0.77878,     0.77978,     0.78078,     0.78178,     0.78278,     0.78378,     0.78478,     0.78579,     0.78679,     0.78779,     0.78879,     0.78979,     0.79079,     0.79179,\n",
       "           0.79279,     0.79379,     0.79479,      0.7958,      0.7968,      0.7978,      0.7988,      0.7998,      0.8008,      0.8018,      0.8028,      0.8038,      0.8048,     0.80581,     0.80681,     0.80781,     0.80881,     0.80981,     0.81081,     0.81181,     0.81281,     0.81381,     0.81481,     0.81582,\n",
       "           0.81682,     0.81782,     0.81882,     0.81982,     0.82082,     0.82182,     0.82282,     0.82382,     0.82482,     0.82583,     0.82683,     0.82783,     0.82883,     0.82983,     0.83083,     0.83183,     0.83283,     0.83383,     0.83483,     0.83584,     0.83684,     0.83784,     0.83884,     0.83984,\n",
       "           0.84084,     0.84184,     0.84284,     0.84384,     0.84484,     0.84585,     0.84685,     0.84785,     0.84885,     0.84985,     0.85085,     0.85185,     0.85285,     0.85385,     0.85485,     0.85586,     0.85686,     0.85786,     0.85886,     0.85986,     0.86086,     0.86186,     0.86286,     0.86386,\n",
       "           0.86486,     0.86587,     0.86687,     0.86787,     0.86887,     0.86987,     0.87087,     0.87187,     0.87287,     0.87387,     0.87487,     0.87588,     0.87688,     0.87788,     0.87888,     0.87988,     0.88088,     0.88188,     0.88288,     0.88388,     0.88488,     0.88589,     0.88689,     0.88789,\n",
       "           0.88889,     0.88989,     0.89089,     0.89189,     0.89289,     0.89389,     0.89489,      0.8959,      0.8969,      0.8979,      0.8989,      0.8999,      0.9009,      0.9019,      0.9029,      0.9039,      0.9049,     0.90591,     0.90691,     0.90791,     0.90891,     0.90991,     0.91091,     0.91191,\n",
       "           0.91291,     0.91391,     0.91491,     0.91592,     0.91692,     0.91792,     0.91892,     0.91992,     0.92092,     0.92192,     0.92292,     0.92392,     0.92492,     0.92593,     0.92693,     0.92793,     0.92893,     0.92993,     0.93093,     0.93193,     0.93293,     0.93393,     0.93493,     0.93594,\n",
       "           0.93694,     0.93794,     0.93894,     0.93994,     0.94094,     0.94194,     0.94294,     0.94394,     0.94494,     0.94595,     0.94695,     0.94795,     0.94895,     0.94995,     0.95095,     0.95195,     0.95295,     0.95395,     0.95495,     0.95596,     0.95696,     0.95796,     0.95896,     0.95996,\n",
       "           0.96096,     0.96196,     0.96296,     0.96396,     0.96496,     0.96597,     0.96697,     0.96797,     0.96897,     0.96997,     0.97097,     0.97197,     0.97297,     0.97397,     0.97497,     0.97598,     0.97698,     0.97798,     0.97898,     0.97998,     0.98098,     0.98198,     0.98298,     0.98398,\n",
       "           0.98498,     0.98599,     0.98699,     0.98799,     0.98899,     0.98999,     0.99099,     0.99199,     0.99299,     0.99399,     0.99499,       0.996,       0.997,       0.998,       0.999,           1]), array([[          1,           1,           1, ...,     0.71429,     0.71429,           0],\n",
       "       [          1,           1,           1, ...,     0.91667,     0.91667,           0],\n",
       "       [          1,           1,           1, ...,     0.91667,     0.91667,           0]]), 'Recall', 'Precision'], [array([          0,    0.001001,    0.002002,    0.003003,    0.004004,    0.005005,    0.006006,    0.007007,    0.008008,    0.009009,     0.01001,    0.011011,    0.012012,    0.013013,    0.014014,    0.015015,    0.016016,    0.017017,    0.018018,    0.019019,     0.02002,    0.021021,    0.022022,    0.023023,\n",
       "          0.024024,    0.025025,    0.026026,    0.027027,    0.028028,    0.029029,     0.03003,    0.031031,    0.032032,    0.033033,    0.034034,    0.035035,    0.036036,    0.037037,    0.038038,    0.039039,     0.04004,    0.041041,    0.042042,    0.043043,    0.044044,    0.045045,    0.046046,    0.047047,\n",
       "          0.048048,    0.049049,     0.05005,    0.051051,    0.052052,    0.053053,    0.054054,    0.055055,    0.056056,    0.057057,    0.058058,    0.059059,     0.06006,    0.061061,    0.062062,    0.063063,    0.064064,    0.065065,    0.066066,    0.067067,    0.068068,    0.069069,     0.07007,    0.071071,\n",
       "          0.072072,    0.073073,    0.074074,    0.075075,    0.076076,    0.077077,    0.078078,    0.079079,     0.08008,    0.081081,    0.082082,    0.083083,    0.084084,    0.085085,    0.086086,    0.087087,    0.088088,    0.089089,     0.09009,    0.091091,    0.092092,    0.093093,    0.094094,    0.095095,\n",
       "          0.096096,    0.097097,    0.098098,    0.099099,      0.1001,      0.1011,      0.1021,      0.1031,      0.1041,     0.10511,     0.10611,     0.10711,     0.10811,     0.10911,     0.11011,     0.11111,     0.11211,     0.11311,     0.11411,     0.11512,     0.11612,     0.11712,     0.11812,     0.11912,\n",
       "           0.12012,     0.12112,     0.12212,     0.12312,     0.12412,     0.12513,     0.12613,     0.12713,     0.12813,     0.12913,     0.13013,     0.13113,     0.13213,     0.13313,     0.13413,     0.13514,     0.13614,     0.13714,     0.13814,     0.13914,     0.14014,     0.14114,     0.14214,     0.14314,\n",
       "           0.14414,     0.14515,     0.14615,     0.14715,     0.14815,     0.14915,     0.15015,     0.15115,     0.15215,     0.15315,     0.15415,     0.15516,     0.15616,     0.15716,     0.15816,     0.15916,     0.16016,     0.16116,     0.16216,     0.16316,     0.16416,     0.16517,     0.16617,     0.16717,\n",
       "           0.16817,     0.16917,     0.17017,     0.17117,     0.17217,     0.17317,     0.17417,     0.17518,     0.17618,     0.17718,     0.17818,     0.17918,     0.18018,     0.18118,     0.18218,     0.18318,     0.18418,     0.18519,     0.18619,     0.18719,     0.18819,     0.18919,     0.19019,     0.19119,\n",
       "           0.19219,     0.19319,     0.19419,      0.1952,      0.1962,      0.1972,      0.1982,      0.1992,      0.2002,      0.2012,      0.2022,      0.2032,      0.2042,     0.20521,     0.20621,     0.20721,     0.20821,     0.20921,     0.21021,     0.21121,     0.21221,     0.21321,     0.21421,     0.21522,\n",
       "           0.21622,     0.21722,     0.21822,     0.21922,     0.22022,     0.22122,     0.22222,     0.22322,     0.22422,     0.22523,     0.22623,     0.22723,     0.22823,     0.22923,     0.23023,     0.23123,     0.23223,     0.23323,     0.23423,     0.23524,     0.23624,     0.23724,     0.23824,     0.23924,\n",
       "           0.24024,     0.24124,     0.24224,     0.24324,     0.24424,     0.24525,     0.24625,     0.24725,     0.24825,     0.24925,     0.25025,     0.25125,     0.25225,     0.25325,     0.25425,     0.25526,     0.25626,     0.25726,     0.25826,     0.25926,     0.26026,     0.26126,     0.26226,     0.26326,\n",
       "           0.26426,     0.26527,     0.26627,     0.26727,     0.26827,     0.26927,     0.27027,     0.27127,     0.27227,     0.27327,     0.27427,     0.27528,     0.27628,     0.27728,     0.27828,     0.27928,     0.28028,     0.28128,     0.28228,     0.28328,     0.28428,     0.28529,     0.28629,     0.28729,\n",
       "           0.28829,     0.28929,     0.29029,     0.29129,     0.29229,     0.29329,     0.29429,      0.2953,      0.2963,      0.2973,      0.2983,      0.2993,      0.3003,      0.3013,      0.3023,      0.3033,      0.3043,     0.30531,     0.30631,     0.30731,     0.30831,     0.30931,     0.31031,     0.31131,\n",
       "           0.31231,     0.31331,     0.31431,     0.31532,     0.31632,     0.31732,     0.31832,     0.31932,     0.32032,     0.32132,     0.32232,     0.32332,     0.32432,     0.32533,     0.32633,     0.32733,     0.32833,     0.32933,     0.33033,     0.33133,     0.33233,     0.33333,     0.33433,     0.33534,\n",
       "           0.33634,     0.33734,     0.33834,     0.33934,     0.34034,     0.34134,     0.34234,     0.34334,     0.34434,     0.34535,     0.34635,     0.34735,     0.34835,     0.34935,     0.35035,     0.35135,     0.35235,     0.35335,     0.35435,     0.35536,     0.35636,     0.35736,     0.35836,     0.35936,\n",
       "           0.36036,     0.36136,     0.36236,     0.36336,     0.36436,     0.36537,     0.36637,     0.36737,     0.36837,     0.36937,     0.37037,     0.37137,     0.37237,     0.37337,     0.37437,     0.37538,     0.37638,     0.37738,     0.37838,     0.37938,     0.38038,     0.38138,     0.38238,     0.38338,\n",
       "           0.38438,     0.38539,     0.38639,     0.38739,     0.38839,     0.38939,     0.39039,     0.39139,     0.39239,     0.39339,     0.39439,      0.3954,      0.3964,      0.3974,      0.3984,      0.3994,      0.4004,      0.4014,      0.4024,      0.4034,      0.4044,     0.40541,     0.40641,     0.40741,\n",
       "           0.40841,     0.40941,     0.41041,     0.41141,     0.41241,     0.41341,     0.41441,     0.41542,     0.41642,     0.41742,     0.41842,     0.41942,     0.42042,     0.42142,     0.42242,     0.42342,     0.42442,     0.42543,     0.42643,     0.42743,     0.42843,     0.42943,     0.43043,     0.43143,\n",
       "           0.43243,     0.43343,     0.43443,     0.43544,     0.43644,     0.43744,     0.43844,     0.43944,     0.44044,     0.44144,     0.44244,     0.44344,     0.44444,     0.44545,     0.44645,     0.44745,     0.44845,     0.44945,     0.45045,     0.45145,     0.45245,     0.45345,     0.45445,     0.45546,\n",
       "           0.45646,     0.45746,     0.45846,     0.45946,     0.46046,     0.46146,     0.46246,     0.46346,     0.46446,     0.46547,     0.46647,     0.46747,     0.46847,     0.46947,     0.47047,     0.47147,     0.47247,     0.47347,     0.47447,     0.47548,     0.47648,     0.47748,     0.47848,     0.47948,\n",
       "           0.48048,     0.48148,     0.48248,     0.48348,     0.48448,     0.48549,     0.48649,     0.48749,     0.48849,     0.48949,     0.49049,     0.49149,     0.49249,     0.49349,     0.49449,      0.4955,      0.4965,      0.4975,      0.4985,      0.4995,      0.5005,      0.5015,      0.5025,      0.5035,\n",
       "            0.5045,     0.50551,     0.50651,     0.50751,     0.50851,     0.50951,     0.51051,     0.51151,     0.51251,     0.51351,     0.51451,     0.51552,     0.51652,     0.51752,     0.51852,     0.51952,     0.52052,     0.52152,     0.52252,     0.52352,     0.52452,     0.52553,     0.52653,     0.52753,\n",
       "           0.52853,     0.52953,     0.53053,     0.53153,     0.53253,     0.53353,     0.53453,     0.53554,     0.53654,     0.53754,     0.53854,     0.53954,     0.54054,     0.54154,     0.54254,     0.54354,     0.54454,     0.54555,     0.54655,     0.54755,     0.54855,     0.54955,     0.55055,     0.55155,\n",
       "           0.55255,     0.55355,     0.55455,     0.55556,     0.55656,     0.55756,     0.55856,     0.55956,     0.56056,     0.56156,     0.56256,     0.56356,     0.56456,     0.56557,     0.56657,     0.56757,     0.56857,     0.56957,     0.57057,     0.57157,     0.57257,     0.57357,     0.57457,     0.57558,\n",
       "           0.57658,     0.57758,     0.57858,     0.57958,     0.58058,     0.58158,     0.58258,     0.58358,     0.58458,     0.58559,     0.58659,     0.58759,     0.58859,     0.58959,     0.59059,     0.59159,     0.59259,     0.59359,     0.59459,      0.5956,      0.5966,      0.5976,      0.5986,      0.5996,\n",
       "            0.6006,      0.6016,      0.6026,      0.6036,      0.6046,     0.60561,     0.60661,     0.60761,     0.60861,     0.60961,     0.61061,     0.61161,     0.61261,     0.61361,     0.61461,     0.61562,     0.61662,     0.61762,     0.61862,     0.61962,     0.62062,     0.62162,     0.62262,     0.62362,\n",
       "           0.62462,     0.62563,     0.62663,     0.62763,     0.62863,     0.62963,     0.63063,     0.63163,     0.63263,     0.63363,     0.63463,     0.63564,     0.63664,     0.63764,     0.63864,     0.63964,     0.64064,     0.64164,     0.64264,     0.64364,     0.64464,     0.64565,     0.64665,     0.64765,\n",
       "           0.64865,     0.64965,     0.65065,     0.65165,     0.65265,     0.65365,     0.65465,     0.65566,     0.65666,     0.65766,     0.65866,     0.65966,     0.66066,     0.66166,     0.66266,     0.66366,     0.66466,     0.66567,     0.66667,     0.66767,     0.66867,     0.66967,     0.67067,     0.67167,\n",
       "           0.67267,     0.67367,     0.67467,     0.67568,     0.67668,     0.67768,     0.67868,     0.67968,     0.68068,     0.68168,     0.68268,     0.68368,     0.68468,     0.68569,     0.68669,     0.68769,     0.68869,     0.68969,     0.69069,     0.69169,     0.69269,     0.69369,     0.69469,      0.6957,\n",
       "            0.6967,      0.6977,      0.6987,      0.6997,      0.7007,      0.7017,      0.7027,      0.7037,      0.7047,     0.70571,     0.70671,     0.70771,     0.70871,     0.70971,     0.71071,     0.71171,     0.71271,     0.71371,     0.71471,     0.71572,     0.71672,     0.71772,     0.71872,     0.71972,\n",
       "           0.72072,     0.72172,     0.72272,     0.72372,     0.72472,     0.72573,     0.72673,     0.72773,     0.72873,     0.72973,     0.73073,     0.73173,     0.73273,     0.73373,     0.73473,     0.73574,     0.73674,     0.73774,     0.73874,     0.73974,     0.74074,     0.74174,     0.74274,     0.74374,\n",
       "           0.74474,     0.74575,     0.74675,     0.74775,     0.74875,     0.74975,     0.75075,     0.75175,     0.75275,     0.75375,     0.75475,     0.75576,     0.75676,     0.75776,     0.75876,     0.75976,     0.76076,     0.76176,     0.76276,     0.76376,     0.76476,     0.76577,     0.76677,     0.76777,\n",
       "           0.76877,     0.76977,     0.77077,     0.77177,     0.77277,     0.77377,     0.77477,     0.77578,     0.77678,     0.77778,     0.77878,     0.77978,     0.78078,     0.78178,     0.78278,     0.78378,     0.78478,     0.78579,     0.78679,     0.78779,     0.78879,     0.78979,     0.79079,     0.79179,\n",
       "           0.79279,     0.79379,     0.79479,      0.7958,      0.7968,      0.7978,      0.7988,      0.7998,      0.8008,      0.8018,      0.8028,      0.8038,      0.8048,     0.80581,     0.80681,     0.80781,     0.80881,     0.80981,     0.81081,     0.81181,     0.81281,     0.81381,     0.81481,     0.81582,\n",
       "           0.81682,     0.81782,     0.81882,     0.81982,     0.82082,     0.82182,     0.82282,     0.82382,     0.82482,     0.82583,     0.82683,     0.82783,     0.82883,     0.82983,     0.83083,     0.83183,     0.83283,     0.83383,     0.83483,     0.83584,     0.83684,     0.83784,     0.83884,     0.83984,\n",
       "           0.84084,     0.84184,     0.84284,     0.84384,     0.84484,     0.84585,     0.84685,     0.84785,     0.84885,     0.84985,     0.85085,     0.85185,     0.85285,     0.85385,     0.85485,     0.85586,     0.85686,     0.85786,     0.85886,     0.85986,     0.86086,     0.86186,     0.86286,     0.86386,\n",
       "           0.86486,     0.86587,     0.86687,     0.86787,     0.86887,     0.86987,     0.87087,     0.87187,     0.87287,     0.87387,     0.87487,     0.87588,     0.87688,     0.87788,     0.87888,     0.87988,     0.88088,     0.88188,     0.88288,     0.88388,     0.88488,     0.88589,     0.88689,     0.88789,\n",
       "           0.88889,     0.88989,     0.89089,     0.89189,     0.89289,     0.89389,     0.89489,      0.8959,      0.8969,      0.8979,      0.8989,      0.8999,      0.9009,      0.9019,      0.9029,      0.9039,      0.9049,     0.90591,     0.90691,     0.90791,     0.90891,     0.90991,     0.91091,     0.91191,\n",
       "           0.91291,     0.91391,     0.91491,     0.91592,     0.91692,     0.91792,     0.91892,     0.91992,     0.92092,     0.92192,     0.92292,     0.92392,     0.92492,     0.92593,     0.92693,     0.92793,     0.92893,     0.92993,     0.93093,     0.93193,     0.93293,     0.93393,     0.93493,     0.93594,\n",
       "           0.93694,     0.93794,     0.93894,     0.93994,     0.94094,     0.94194,     0.94294,     0.94394,     0.94494,     0.94595,     0.94695,     0.94795,     0.94895,     0.94995,     0.95095,     0.95195,     0.95295,     0.95395,     0.95495,     0.95596,     0.95696,     0.95796,     0.95896,     0.95996,\n",
       "           0.96096,     0.96196,     0.96296,     0.96396,     0.96496,     0.96597,     0.96697,     0.96797,     0.96897,     0.96997,     0.97097,     0.97197,     0.97297,     0.97397,     0.97497,     0.97598,     0.97698,     0.97798,     0.97898,     0.97998,     0.98098,     0.98198,     0.98298,     0.98398,\n",
       "           0.98498,     0.98599,     0.98699,     0.98799,     0.98899,     0.98999,     0.99099,     0.99199,     0.99299,     0.99399,     0.99499,       0.996,       0.997,       0.998,       0.999,           1]), array([[    0.21053,     0.21053,     0.46347, ...,           0,           0,           0],\n",
       "       [    0.29333,     0.29333,     0.88147, ...,           0,           0,           0],\n",
       "       [   0.051402,    0.051402,     0.28415, ...,           0,           0,           0]]), 'Confidence', 'F1'], [array([          0,    0.001001,    0.002002,    0.003003,    0.004004,    0.005005,    0.006006,    0.007007,    0.008008,    0.009009,     0.01001,    0.011011,    0.012012,    0.013013,    0.014014,    0.015015,    0.016016,    0.017017,    0.018018,    0.019019,     0.02002,    0.021021,    0.022022,    0.023023,\n",
       "          0.024024,    0.025025,    0.026026,    0.027027,    0.028028,    0.029029,     0.03003,    0.031031,    0.032032,    0.033033,    0.034034,    0.035035,    0.036036,    0.037037,    0.038038,    0.039039,     0.04004,    0.041041,    0.042042,    0.043043,    0.044044,    0.045045,    0.046046,    0.047047,\n",
       "          0.048048,    0.049049,     0.05005,    0.051051,    0.052052,    0.053053,    0.054054,    0.055055,    0.056056,    0.057057,    0.058058,    0.059059,     0.06006,    0.061061,    0.062062,    0.063063,    0.064064,    0.065065,    0.066066,    0.067067,    0.068068,    0.069069,     0.07007,    0.071071,\n",
       "          0.072072,    0.073073,    0.074074,    0.075075,    0.076076,    0.077077,    0.078078,    0.079079,     0.08008,    0.081081,    0.082082,    0.083083,    0.084084,    0.085085,    0.086086,    0.087087,    0.088088,    0.089089,     0.09009,    0.091091,    0.092092,    0.093093,    0.094094,    0.095095,\n",
       "          0.096096,    0.097097,    0.098098,    0.099099,      0.1001,      0.1011,      0.1021,      0.1031,      0.1041,     0.10511,     0.10611,     0.10711,     0.10811,     0.10911,     0.11011,     0.11111,     0.11211,     0.11311,     0.11411,     0.11512,     0.11612,     0.11712,     0.11812,     0.11912,\n",
       "           0.12012,     0.12112,     0.12212,     0.12312,     0.12412,     0.12513,     0.12613,     0.12713,     0.12813,     0.12913,     0.13013,     0.13113,     0.13213,     0.13313,     0.13413,     0.13514,     0.13614,     0.13714,     0.13814,     0.13914,     0.14014,     0.14114,     0.14214,     0.14314,\n",
       "           0.14414,     0.14515,     0.14615,     0.14715,     0.14815,     0.14915,     0.15015,     0.15115,     0.15215,     0.15315,     0.15415,     0.15516,     0.15616,     0.15716,     0.15816,     0.15916,     0.16016,     0.16116,     0.16216,     0.16316,     0.16416,     0.16517,     0.16617,     0.16717,\n",
       "           0.16817,     0.16917,     0.17017,     0.17117,     0.17217,     0.17317,     0.17417,     0.17518,     0.17618,     0.17718,     0.17818,     0.17918,     0.18018,     0.18118,     0.18218,     0.18318,     0.18418,     0.18519,     0.18619,     0.18719,     0.18819,     0.18919,     0.19019,     0.19119,\n",
       "           0.19219,     0.19319,     0.19419,      0.1952,      0.1962,      0.1972,      0.1982,      0.1992,      0.2002,      0.2012,      0.2022,      0.2032,      0.2042,     0.20521,     0.20621,     0.20721,     0.20821,     0.20921,     0.21021,     0.21121,     0.21221,     0.21321,     0.21421,     0.21522,\n",
       "           0.21622,     0.21722,     0.21822,     0.21922,     0.22022,     0.22122,     0.22222,     0.22322,     0.22422,     0.22523,     0.22623,     0.22723,     0.22823,     0.22923,     0.23023,     0.23123,     0.23223,     0.23323,     0.23423,     0.23524,     0.23624,     0.23724,     0.23824,     0.23924,\n",
       "           0.24024,     0.24124,     0.24224,     0.24324,     0.24424,     0.24525,     0.24625,     0.24725,     0.24825,     0.24925,     0.25025,     0.25125,     0.25225,     0.25325,     0.25425,     0.25526,     0.25626,     0.25726,     0.25826,     0.25926,     0.26026,     0.26126,     0.26226,     0.26326,\n",
       "           0.26426,     0.26527,     0.26627,     0.26727,     0.26827,     0.26927,     0.27027,     0.27127,     0.27227,     0.27327,     0.27427,     0.27528,     0.27628,     0.27728,     0.27828,     0.27928,     0.28028,     0.28128,     0.28228,     0.28328,     0.28428,     0.28529,     0.28629,     0.28729,\n",
       "           0.28829,     0.28929,     0.29029,     0.29129,     0.29229,     0.29329,     0.29429,      0.2953,      0.2963,      0.2973,      0.2983,      0.2993,      0.3003,      0.3013,      0.3023,      0.3033,      0.3043,     0.30531,     0.30631,     0.30731,     0.30831,     0.30931,     0.31031,     0.31131,\n",
       "           0.31231,     0.31331,     0.31431,     0.31532,     0.31632,     0.31732,     0.31832,     0.31932,     0.32032,     0.32132,     0.32232,     0.32332,     0.32432,     0.32533,     0.32633,     0.32733,     0.32833,     0.32933,     0.33033,     0.33133,     0.33233,     0.33333,     0.33433,     0.33534,\n",
       "           0.33634,     0.33734,     0.33834,     0.33934,     0.34034,     0.34134,     0.34234,     0.34334,     0.34434,     0.34535,     0.34635,     0.34735,     0.34835,     0.34935,     0.35035,     0.35135,     0.35235,     0.35335,     0.35435,     0.35536,     0.35636,     0.35736,     0.35836,     0.35936,\n",
       "           0.36036,     0.36136,     0.36236,     0.36336,     0.36436,     0.36537,     0.36637,     0.36737,     0.36837,     0.36937,     0.37037,     0.37137,     0.37237,     0.37337,     0.37437,     0.37538,     0.37638,     0.37738,     0.37838,     0.37938,     0.38038,     0.38138,     0.38238,     0.38338,\n",
       "           0.38438,     0.38539,     0.38639,     0.38739,     0.38839,     0.38939,     0.39039,     0.39139,     0.39239,     0.39339,     0.39439,      0.3954,      0.3964,      0.3974,      0.3984,      0.3994,      0.4004,      0.4014,      0.4024,      0.4034,      0.4044,     0.40541,     0.40641,     0.40741,\n",
       "           0.40841,     0.40941,     0.41041,     0.41141,     0.41241,     0.41341,     0.41441,     0.41542,     0.41642,     0.41742,     0.41842,     0.41942,     0.42042,     0.42142,     0.42242,     0.42342,     0.42442,     0.42543,     0.42643,     0.42743,     0.42843,     0.42943,     0.43043,     0.43143,\n",
       "           0.43243,     0.43343,     0.43443,     0.43544,     0.43644,     0.43744,     0.43844,     0.43944,     0.44044,     0.44144,     0.44244,     0.44344,     0.44444,     0.44545,     0.44645,     0.44745,     0.44845,     0.44945,     0.45045,     0.45145,     0.45245,     0.45345,     0.45445,     0.45546,\n",
       "           0.45646,     0.45746,     0.45846,     0.45946,     0.46046,     0.46146,     0.46246,     0.46346,     0.46446,     0.46547,     0.46647,     0.46747,     0.46847,     0.46947,     0.47047,     0.47147,     0.47247,     0.47347,     0.47447,     0.47548,     0.47648,     0.47748,     0.47848,     0.47948,\n",
       "           0.48048,     0.48148,     0.48248,     0.48348,     0.48448,     0.48549,     0.48649,     0.48749,     0.48849,     0.48949,     0.49049,     0.49149,     0.49249,     0.49349,     0.49449,      0.4955,      0.4965,      0.4975,      0.4985,      0.4995,      0.5005,      0.5015,      0.5025,      0.5035,\n",
       "            0.5045,     0.50551,     0.50651,     0.50751,     0.50851,     0.50951,     0.51051,     0.51151,     0.51251,     0.51351,     0.51451,     0.51552,     0.51652,     0.51752,     0.51852,     0.51952,     0.52052,     0.52152,     0.52252,     0.52352,     0.52452,     0.52553,     0.52653,     0.52753,\n",
       "           0.52853,     0.52953,     0.53053,     0.53153,     0.53253,     0.53353,     0.53453,     0.53554,     0.53654,     0.53754,     0.53854,     0.53954,     0.54054,     0.54154,     0.54254,     0.54354,     0.54454,     0.54555,     0.54655,     0.54755,     0.54855,     0.54955,     0.55055,     0.55155,\n",
       "           0.55255,     0.55355,     0.55455,     0.55556,     0.55656,     0.55756,     0.55856,     0.55956,     0.56056,     0.56156,     0.56256,     0.56356,     0.56456,     0.56557,     0.56657,     0.56757,     0.56857,     0.56957,     0.57057,     0.57157,     0.57257,     0.57357,     0.57457,     0.57558,\n",
       "           0.57658,     0.57758,     0.57858,     0.57958,     0.58058,     0.58158,     0.58258,     0.58358,     0.58458,     0.58559,     0.58659,     0.58759,     0.58859,     0.58959,     0.59059,     0.59159,     0.59259,     0.59359,     0.59459,      0.5956,      0.5966,      0.5976,      0.5986,      0.5996,\n",
       "            0.6006,      0.6016,      0.6026,      0.6036,      0.6046,     0.60561,     0.60661,     0.60761,     0.60861,     0.60961,     0.61061,     0.61161,     0.61261,     0.61361,     0.61461,     0.61562,     0.61662,     0.61762,     0.61862,     0.61962,     0.62062,     0.62162,     0.62262,     0.62362,\n",
       "           0.62462,     0.62563,     0.62663,     0.62763,     0.62863,     0.62963,     0.63063,     0.63163,     0.63263,     0.63363,     0.63463,     0.63564,     0.63664,     0.63764,     0.63864,     0.63964,     0.64064,     0.64164,     0.64264,     0.64364,     0.64464,     0.64565,     0.64665,     0.64765,\n",
       "           0.64865,     0.64965,     0.65065,     0.65165,     0.65265,     0.65365,     0.65465,     0.65566,     0.65666,     0.65766,     0.65866,     0.65966,     0.66066,     0.66166,     0.66266,     0.66366,     0.66466,     0.66567,     0.66667,     0.66767,     0.66867,     0.66967,     0.67067,     0.67167,\n",
       "           0.67267,     0.67367,     0.67467,     0.67568,     0.67668,     0.67768,     0.67868,     0.67968,     0.68068,     0.68168,     0.68268,     0.68368,     0.68468,     0.68569,     0.68669,     0.68769,     0.68869,     0.68969,     0.69069,     0.69169,     0.69269,     0.69369,     0.69469,      0.6957,\n",
       "            0.6967,      0.6977,      0.6987,      0.6997,      0.7007,      0.7017,      0.7027,      0.7037,      0.7047,     0.70571,     0.70671,     0.70771,     0.70871,     0.70971,     0.71071,     0.71171,     0.71271,     0.71371,     0.71471,     0.71572,     0.71672,     0.71772,     0.71872,     0.71972,\n",
       "           0.72072,     0.72172,     0.72272,     0.72372,     0.72472,     0.72573,     0.72673,     0.72773,     0.72873,     0.72973,     0.73073,     0.73173,     0.73273,     0.73373,     0.73473,     0.73574,     0.73674,     0.73774,     0.73874,     0.73974,     0.74074,     0.74174,     0.74274,     0.74374,\n",
       "           0.74474,     0.74575,     0.74675,     0.74775,     0.74875,     0.74975,     0.75075,     0.75175,     0.75275,     0.75375,     0.75475,     0.75576,     0.75676,     0.75776,     0.75876,     0.75976,     0.76076,     0.76176,     0.76276,     0.76376,     0.76476,     0.76577,     0.76677,     0.76777,\n",
       "           0.76877,     0.76977,     0.77077,     0.77177,     0.77277,     0.77377,     0.77477,     0.77578,     0.77678,     0.77778,     0.77878,     0.77978,     0.78078,     0.78178,     0.78278,     0.78378,     0.78478,     0.78579,     0.78679,     0.78779,     0.78879,     0.78979,     0.79079,     0.79179,\n",
       "           0.79279,     0.79379,     0.79479,      0.7958,      0.7968,      0.7978,      0.7988,      0.7998,      0.8008,      0.8018,      0.8028,      0.8038,      0.8048,     0.80581,     0.80681,     0.80781,     0.80881,     0.80981,     0.81081,     0.81181,     0.81281,     0.81381,     0.81481,     0.81582,\n",
       "           0.81682,     0.81782,     0.81882,     0.81982,     0.82082,     0.82182,     0.82282,     0.82382,     0.82482,     0.82583,     0.82683,     0.82783,     0.82883,     0.82983,     0.83083,     0.83183,     0.83283,     0.83383,     0.83483,     0.83584,     0.83684,     0.83784,     0.83884,     0.83984,\n",
       "           0.84084,     0.84184,     0.84284,     0.84384,     0.84484,     0.84585,     0.84685,     0.84785,     0.84885,     0.84985,     0.85085,     0.85185,     0.85285,     0.85385,     0.85485,     0.85586,     0.85686,     0.85786,     0.85886,     0.85986,     0.86086,     0.86186,     0.86286,     0.86386,\n",
       "           0.86486,     0.86587,     0.86687,     0.86787,     0.86887,     0.86987,     0.87087,     0.87187,     0.87287,     0.87387,     0.87487,     0.87588,     0.87688,     0.87788,     0.87888,     0.87988,     0.88088,     0.88188,     0.88288,     0.88388,     0.88488,     0.88589,     0.88689,     0.88789,\n",
       "           0.88889,     0.88989,     0.89089,     0.89189,     0.89289,     0.89389,     0.89489,      0.8959,      0.8969,      0.8979,      0.8989,      0.8999,      0.9009,      0.9019,      0.9029,      0.9039,      0.9049,     0.90591,     0.90691,     0.90791,     0.90891,     0.90991,     0.91091,     0.91191,\n",
       "           0.91291,     0.91391,     0.91491,     0.91592,     0.91692,     0.91792,     0.91892,     0.91992,     0.92092,     0.92192,     0.92292,     0.92392,     0.92492,     0.92593,     0.92693,     0.92793,     0.92893,     0.92993,     0.93093,     0.93193,     0.93293,     0.93393,     0.93493,     0.93594,\n",
       "           0.93694,     0.93794,     0.93894,     0.93994,     0.94094,     0.94194,     0.94294,     0.94394,     0.94494,     0.94595,     0.94695,     0.94795,     0.94895,     0.94995,     0.95095,     0.95195,     0.95295,     0.95395,     0.95495,     0.95596,     0.95696,     0.95796,     0.95896,     0.95996,\n",
       "           0.96096,     0.96196,     0.96296,     0.96396,     0.96496,     0.96597,     0.96697,     0.96797,     0.96897,     0.96997,     0.97097,     0.97197,     0.97297,     0.97397,     0.97497,     0.97598,     0.97698,     0.97798,     0.97898,     0.97998,     0.98098,     0.98198,     0.98298,     0.98398,\n",
       "           0.98498,     0.98599,     0.98699,     0.98799,     0.98899,     0.98999,     0.99099,     0.99199,     0.99299,     0.99399,     0.99499,       0.996,       0.997,       0.998,       0.999,           1]), array([[    0.11765,     0.11765,     0.30164, ...,           1,           1,           1],\n",
       "       [    0.17188,     0.17188,     0.78806, ...,           1,           1,           1],\n",
       "       [   0.026379,    0.026379,     0.16561, ...,           1,           1,           1]]), 'Confidence', 'Precision'], [array([          0,    0.001001,    0.002002,    0.003003,    0.004004,    0.005005,    0.006006,    0.007007,    0.008008,    0.009009,     0.01001,    0.011011,    0.012012,    0.013013,    0.014014,    0.015015,    0.016016,    0.017017,    0.018018,    0.019019,     0.02002,    0.021021,    0.022022,    0.023023,\n",
       "          0.024024,    0.025025,    0.026026,    0.027027,    0.028028,    0.029029,     0.03003,    0.031031,    0.032032,    0.033033,    0.034034,    0.035035,    0.036036,    0.037037,    0.038038,    0.039039,     0.04004,    0.041041,    0.042042,    0.043043,    0.044044,    0.045045,    0.046046,    0.047047,\n",
       "          0.048048,    0.049049,     0.05005,    0.051051,    0.052052,    0.053053,    0.054054,    0.055055,    0.056056,    0.057057,    0.058058,    0.059059,     0.06006,    0.061061,    0.062062,    0.063063,    0.064064,    0.065065,    0.066066,    0.067067,    0.068068,    0.069069,     0.07007,    0.071071,\n",
       "          0.072072,    0.073073,    0.074074,    0.075075,    0.076076,    0.077077,    0.078078,    0.079079,     0.08008,    0.081081,    0.082082,    0.083083,    0.084084,    0.085085,    0.086086,    0.087087,    0.088088,    0.089089,     0.09009,    0.091091,    0.092092,    0.093093,    0.094094,    0.095095,\n",
       "          0.096096,    0.097097,    0.098098,    0.099099,      0.1001,      0.1011,      0.1021,      0.1031,      0.1041,     0.10511,     0.10611,     0.10711,     0.10811,     0.10911,     0.11011,     0.11111,     0.11211,     0.11311,     0.11411,     0.11512,     0.11612,     0.11712,     0.11812,     0.11912,\n",
       "           0.12012,     0.12112,     0.12212,     0.12312,     0.12412,     0.12513,     0.12613,     0.12713,     0.12813,     0.12913,     0.13013,     0.13113,     0.13213,     0.13313,     0.13413,     0.13514,     0.13614,     0.13714,     0.13814,     0.13914,     0.14014,     0.14114,     0.14214,     0.14314,\n",
       "           0.14414,     0.14515,     0.14615,     0.14715,     0.14815,     0.14915,     0.15015,     0.15115,     0.15215,     0.15315,     0.15415,     0.15516,     0.15616,     0.15716,     0.15816,     0.15916,     0.16016,     0.16116,     0.16216,     0.16316,     0.16416,     0.16517,     0.16617,     0.16717,\n",
       "           0.16817,     0.16917,     0.17017,     0.17117,     0.17217,     0.17317,     0.17417,     0.17518,     0.17618,     0.17718,     0.17818,     0.17918,     0.18018,     0.18118,     0.18218,     0.18318,     0.18418,     0.18519,     0.18619,     0.18719,     0.18819,     0.18919,     0.19019,     0.19119,\n",
       "           0.19219,     0.19319,     0.19419,      0.1952,      0.1962,      0.1972,      0.1982,      0.1992,      0.2002,      0.2012,      0.2022,      0.2032,      0.2042,     0.20521,     0.20621,     0.20721,     0.20821,     0.20921,     0.21021,     0.21121,     0.21221,     0.21321,     0.21421,     0.21522,\n",
       "           0.21622,     0.21722,     0.21822,     0.21922,     0.22022,     0.22122,     0.22222,     0.22322,     0.22422,     0.22523,     0.22623,     0.22723,     0.22823,     0.22923,     0.23023,     0.23123,     0.23223,     0.23323,     0.23423,     0.23524,     0.23624,     0.23724,     0.23824,     0.23924,\n",
       "           0.24024,     0.24124,     0.24224,     0.24324,     0.24424,     0.24525,     0.24625,     0.24725,     0.24825,     0.24925,     0.25025,     0.25125,     0.25225,     0.25325,     0.25425,     0.25526,     0.25626,     0.25726,     0.25826,     0.25926,     0.26026,     0.26126,     0.26226,     0.26326,\n",
       "           0.26426,     0.26527,     0.26627,     0.26727,     0.26827,     0.26927,     0.27027,     0.27127,     0.27227,     0.27327,     0.27427,     0.27528,     0.27628,     0.27728,     0.27828,     0.27928,     0.28028,     0.28128,     0.28228,     0.28328,     0.28428,     0.28529,     0.28629,     0.28729,\n",
       "           0.28829,     0.28929,     0.29029,     0.29129,     0.29229,     0.29329,     0.29429,      0.2953,      0.2963,      0.2973,      0.2983,      0.2993,      0.3003,      0.3013,      0.3023,      0.3033,      0.3043,     0.30531,     0.30631,     0.30731,     0.30831,     0.30931,     0.31031,     0.31131,\n",
       "           0.31231,     0.31331,     0.31431,     0.31532,     0.31632,     0.31732,     0.31832,     0.31932,     0.32032,     0.32132,     0.32232,     0.32332,     0.32432,     0.32533,     0.32633,     0.32733,     0.32833,     0.32933,     0.33033,     0.33133,     0.33233,     0.33333,     0.33433,     0.33534,\n",
       "           0.33634,     0.33734,     0.33834,     0.33934,     0.34034,     0.34134,     0.34234,     0.34334,     0.34434,     0.34535,     0.34635,     0.34735,     0.34835,     0.34935,     0.35035,     0.35135,     0.35235,     0.35335,     0.35435,     0.35536,     0.35636,     0.35736,     0.35836,     0.35936,\n",
       "           0.36036,     0.36136,     0.36236,     0.36336,     0.36436,     0.36537,     0.36637,     0.36737,     0.36837,     0.36937,     0.37037,     0.37137,     0.37237,     0.37337,     0.37437,     0.37538,     0.37638,     0.37738,     0.37838,     0.37938,     0.38038,     0.38138,     0.38238,     0.38338,\n",
       "           0.38438,     0.38539,     0.38639,     0.38739,     0.38839,     0.38939,     0.39039,     0.39139,     0.39239,     0.39339,     0.39439,      0.3954,      0.3964,      0.3974,      0.3984,      0.3994,      0.4004,      0.4014,      0.4024,      0.4034,      0.4044,     0.40541,     0.40641,     0.40741,\n",
       "           0.40841,     0.40941,     0.41041,     0.41141,     0.41241,     0.41341,     0.41441,     0.41542,     0.41642,     0.41742,     0.41842,     0.41942,     0.42042,     0.42142,     0.42242,     0.42342,     0.42442,     0.42543,     0.42643,     0.42743,     0.42843,     0.42943,     0.43043,     0.43143,\n",
       "           0.43243,     0.43343,     0.43443,     0.43544,     0.43644,     0.43744,     0.43844,     0.43944,     0.44044,     0.44144,     0.44244,     0.44344,     0.44444,     0.44545,     0.44645,     0.44745,     0.44845,     0.44945,     0.45045,     0.45145,     0.45245,     0.45345,     0.45445,     0.45546,\n",
       "           0.45646,     0.45746,     0.45846,     0.45946,     0.46046,     0.46146,     0.46246,     0.46346,     0.46446,     0.46547,     0.46647,     0.46747,     0.46847,     0.46947,     0.47047,     0.47147,     0.47247,     0.47347,     0.47447,     0.47548,     0.47648,     0.47748,     0.47848,     0.47948,\n",
       "           0.48048,     0.48148,     0.48248,     0.48348,     0.48448,     0.48549,     0.48649,     0.48749,     0.48849,     0.48949,     0.49049,     0.49149,     0.49249,     0.49349,     0.49449,      0.4955,      0.4965,      0.4975,      0.4985,      0.4995,      0.5005,      0.5015,      0.5025,      0.5035,\n",
       "            0.5045,     0.50551,     0.50651,     0.50751,     0.50851,     0.50951,     0.51051,     0.51151,     0.51251,     0.51351,     0.51451,     0.51552,     0.51652,     0.51752,     0.51852,     0.51952,     0.52052,     0.52152,     0.52252,     0.52352,     0.52452,     0.52553,     0.52653,     0.52753,\n",
       "           0.52853,     0.52953,     0.53053,     0.53153,     0.53253,     0.53353,     0.53453,     0.53554,     0.53654,     0.53754,     0.53854,     0.53954,     0.54054,     0.54154,     0.54254,     0.54354,     0.54454,     0.54555,     0.54655,     0.54755,     0.54855,     0.54955,     0.55055,     0.55155,\n",
       "           0.55255,     0.55355,     0.55455,     0.55556,     0.55656,     0.55756,     0.55856,     0.55956,     0.56056,     0.56156,     0.56256,     0.56356,     0.56456,     0.56557,     0.56657,     0.56757,     0.56857,     0.56957,     0.57057,     0.57157,     0.57257,     0.57357,     0.57457,     0.57558,\n",
       "           0.57658,     0.57758,     0.57858,     0.57958,     0.58058,     0.58158,     0.58258,     0.58358,     0.58458,     0.58559,     0.58659,     0.58759,     0.58859,     0.58959,     0.59059,     0.59159,     0.59259,     0.59359,     0.59459,      0.5956,      0.5966,      0.5976,      0.5986,      0.5996,\n",
       "            0.6006,      0.6016,      0.6026,      0.6036,      0.6046,     0.60561,     0.60661,     0.60761,     0.60861,     0.60961,     0.61061,     0.61161,     0.61261,     0.61361,     0.61461,     0.61562,     0.61662,     0.61762,     0.61862,     0.61962,     0.62062,     0.62162,     0.62262,     0.62362,\n",
       "           0.62462,     0.62563,     0.62663,     0.62763,     0.62863,     0.62963,     0.63063,     0.63163,     0.63263,     0.63363,     0.63463,     0.63564,     0.63664,     0.63764,     0.63864,     0.63964,     0.64064,     0.64164,     0.64264,     0.64364,     0.64464,     0.64565,     0.64665,     0.64765,\n",
       "           0.64865,     0.64965,     0.65065,     0.65165,     0.65265,     0.65365,     0.65465,     0.65566,     0.65666,     0.65766,     0.65866,     0.65966,     0.66066,     0.66166,     0.66266,     0.66366,     0.66466,     0.66567,     0.66667,     0.66767,     0.66867,     0.66967,     0.67067,     0.67167,\n",
       "           0.67267,     0.67367,     0.67467,     0.67568,     0.67668,     0.67768,     0.67868,     0.67968,     0.68068,     0.68168,     0.68268,     0.68368,     0.68468,     0.68569,     0.68669,     0.68769,     0.68869,     0.68969,     0.69069,     0.69169,     0.69269,     0.69369,     0.69469,      0.6957,\n",
       "            0.6967,      0.6977,      0.6987,      0.6997,      0.7007,      0.7017,      0.7027,      0.7037,      0.7047,     0.70571,     0.70671,     0.70771,     0.70871,     0.70971,     0.71071,     0.71171,     0.71271,     0.71371,     0.71471,     0.71572,     0.71672,     0.71772,     0.71872,     0.71972,\n",
       "           0.72072,     0.72172,     0.72272,     0.72372,     0.72472,     0.72573,     0.72673,     0.72773,     0.72873,     0.72973,     0.73073,     0.73173,     0.73273,     0.73373,     0.73473,     0.73574,     0.73674,     0.73774,     0.73874,     0.73974,     0.74074,     0.74174,     0.74274,     0.74374,\n",
       "           0.74474,     0.74575,     0.74675,     0.74775,     0.74875,     0.74975,     0.75075,     0.75175,     0.75275,     0.75375,     0.75475,     0.75576,     0.75676,     0.75776,     0.75876,     0.75976,     0.76076,     0.76176,     0.76276,     0.76376,     0.76476,     0.76577,     0.76677,     0.76777,\n",
       "           0.76877,     0.76977,     0.77077,     0.77177,     0.77277,     0.77377,     0.77477,     0.77578,     0.77678,     0.77778,     0.77878,     0.77978,     0.78078,     0.78178,     0.78278,     0.78378,     0.78478,     0.78579,     0.78679,     0.78779,     0.78879,     0.78979,     0.79079,     0.79179,\n",
       "           0.79279,     0.79379,     0.79479,      0.7958,      0.7968,      0.7978,      0.7988,      0.7998,      0.8008,      0.8018,      0.8028,      0.8038,      0.8048,     0.80581,     0.80681,     0.80781,     0.80881,     0.80981,     0.81081,     0.81181,     0.81281,     0.81381,     0.81481,     0.81582,\n",
       "           0.81682,     0.81782,     0.81882,     0.81982,     0.82082,     0.82182,     0.82282,     0.82382,     0.82482,     0.82583,     0.82683,     0.82783,     0.82883,     0.82983,     0.83083,     0.83183,     0.83283,     0.83383,     0.83483,     0.83584,     0.83684,     0.83784,     0.83884,     0.83984,\n",
       "           0.84084,     0.84184,     0.84284,     0.84384,     0.84484,     0.84585,     0.84685,     0.84785,     0.84885,     0.84985,     0.85085,     0.85185,     0.85285,     0.85385,     0.85485,     0.85586,     0.85686,     0.85786,     0.85886,     0.85986,     0.86086,     0.86186,     0.86286,     0.86386,\n",
       "           0.86486,     0.86587,     0.86687,     0.86787,     0.86887,     0.86987,     0.87087,     0.87187,     0.87287,     0.87387,     0.87487,     0.87588,     0.87688,     0.87788,     0.87888,     0.87988,     0.88088,     0.88188,     0.88288,     0.88388,     0.88488,     0.88589,     0.88689,     0.88789,\n",
       "           0.88889,     0.88989,     0.89089,     0.89189,     0.89289,     0.89389,     0.89489,      0.8959,      0.8969,      0.8979,      0.8989,      0.8999,      0.9009,      0.9019,      0.9029,      0.9039,      0.9049,     0.90591,     0.90691,     0.90791,     0.90891,     0.90991,     0.91091,     0.91191,\n",
       "           0.91291,     0.91391,     0.91491,     0.91592,     0.91692,     0.91792,     0.91892,     0.91992,     0.92092,     0.92192,     0.92292,     0.92392,     0.92492,     0.92593,     0.92693,     0.92793,     0.92893,     0.92993,     0.93093,     0.93193,     0.93293,     0.93393,     0.93493,     0.93594,\n",
       "           0.93694,     0.93794,     0.93894,     0.93994,     0.94094,     0.94194,     0.94294,     0.94394,     0.94494,     0.94595,     0.94695,     0.94795,     0.94895,     0.94995,     0.95095,     0.95195,     0.95295,     0.95395,     0.95495,     0.95596,     0.95696,     0.95796,     0.95896,     0.95996,\n",
       "           0.96096,     0.96196,     0.96296,     0.96396,     0.96496,     0.96597,     0.96697,     0.96797,     0.96897,     0.96997,     0.97097,     0.97197,     0.97297,     0.97397,     0.97497,     0.97598,     0.97698,     0.97798,     0.97898,     0.97998,     0.98098,     0.98198,     0.98298,     0.98398,\n",
       "           0.98498,     0.98599,     0.98699,     0.98799,     0.98899,     0.98999,     0.99099,     0.99199,     0.99299,     0.99399,     0.99499,       0.996,       0.997,       0.998,       0.999,           1]), array([[          1,           1,           1, ...,           0,           0,           0],\n",
       "       [          1,           1,           1, ...,           0,           0,           0],\n",
       "       [          1,           1,           1, ...,           0,           0,           0]]), 'Confidence', 'Recall']]\n",
       "fitness: 0.7482951913310598\n",
       "keys: ['metrics/precision(B)', 'metrics/recall(B)', 'metrics/mAP50(B)', 'metrics/mAP50-95(B)']\n",
       "maps: array([    0.46651,     0.79357,     0.92185])\n",
       "names: {0: 'ball', 1: 'person', 2: 'goal'}\n",
       "plot: True\n",
       "results_dict: {'metrics/precision(B)': 0.8955399515838295, 'metrics/recall(B)': 0.9666666666666667, 'metrics/mAP50(B)': 0.9371428571428569, 'metrics/mAP50-95(B)': 0.7273121173519713, 'fitness': 0.7482951913310598}\n",
       "save_dir: WindowsPath('runs/detect/train10')\n",
       "speed: {'preprocess': 0.419159730275472, 'inference': 20.805776119232178, 'loss': 0.0, 'postprocess': 0.20811955134073892}\n",
       "task: 'detect'"
      ]
     },
     "execution_count": 22,
     "metadata": {},
     "output_type": "execute_result"
    }
   ],
   "execution_count": 22
  },
  {
   "metadata": {
    "ExecuteTime": {
     "end_time": "2024-11-21T11:56:18.947032Z",
     "start_time": "2024-11-21T11:53:58.935198Z"
    }
   },
   "cell_type": "code",
   "source": [
    "#tworzenie predykcji\n",
    "\n",
    "# Załaduj wytrenowany model\n",
    "model = YOLO(r'C:\\Users\\user\\Desktop\\studia\\Widzenie Komputerowe Projekt\\Predykcja_Karnych\\runs\\detect\\train10\\weights\\best.pt')\n",
    "\n",
    "# Główna ścieżka do folderów k1, k2, ..., k12\n",
    "input_root_folder = r'C:\\Users\\user\\Desktop\\studia\\Widzenie Komputerowe Projekt\\Predykcja_Karnych\\dataset\\karne_przerobione'\n",
    "output_root_folder = r'C:\\Users\\user\\Desktop\\studia\\Widzenie Komputerowe Projekt\\Predykcja_Karnych\\dataset\\wideo po predykcjach'\n",
    "\n",
    "# Iteracja przez foldery k1, k2, ..., k12\n",
    "for i in range(1, 13):  # Dla folderów od k1 do k12\n",
    "    folder_name = f'k{i}'  # np. k1, k2, ..., k12\n",
    "    source_folder = os.path.join(input_root_folder, folder_name)  \n",
    "    predict_output_folder = os.path.join(r'C:\\Users\\user\\Desktop\\studia\\Widzenie Komputerowe Projekt\\Predykcja_Karnych\\runs\\detect', f'predict_{folder_name}')\n",
    "\n",
    "    print(f\"Przetwarzanie folderu: {folder_name}...\")\n",
    "\n",
    "    # Wykonaj predykcję na obrazach w folderze\n",
    "    model.predict(source=source_folder, save=True, project=predict_output_folder)\n",
    "\n",
    "print(\"Przetwarzanie zakończone!\")\n"
   ],
   "id": "a9ec9a68c771f768",
   "outputs": [
    {
     "name": "stdout",
     "output_type": "stream",
     "text": [
      "Przetwarzanie folderu: k1...\n",
      "\n",
      "image 1/143 C:\\Users\\user\\Desktop\\studia\\Widzenie Komputerowe Projekt\\Predykcja_Karnych\\dataset\\karne_przerobione\\k1\\frame_0000.jpg: 352x512 1 ball, 1 person, 1 goal, 31.9ms\n",
      "image 2/143 C:\\Users\\user\\Desktop\\studia\\Widzenie Komputerowe Projekt\\Predykcja_Karnych\\dataset\\karne_przerobione\\k1\\frame_0001.jpg: 352x512 1 ball, 1 person, 1 goal, 30.3ms\n",
      "image 3/143 C:\\Users\\user\\Desktop\\studia\\Widzenie Komputerowe Projekt\\Predykcja_Karnych\\dataset\\karne_przerobione\\k1\\frame_0002.jpg: 352x512 1 ball, 1 person, 1 goal, 24.5ms\n",
      "image 4/143 C:\\Users\\user\\Desktop\\studia\\Widzenie Komputerowe Projekt\\Predykcja_Karnych\\dataset\\karne_przerobione\\k1\\frame_0003.jpg: 352x512 1 ball, 1 person, 1 goal, 31.7ms\n",
      "image 5/143 C:\\Users\\user\\Desktop\\studia\\Widzenie Komputerowe Projekt\\Predykcja_Karnych\\dataset\\karne_przerobione\\k1\\frame_0004.jpg: 352x512 1 ball, 1 person, 1 goal, 35.6ms\n",
      "image 6/143 C:\\Users\\user\\Desktop\\studia\\Widzenie Komputerowe Projekt\\Predykcja_Karnych\\dataset\\karne_przerobione\\k1\\frame_0005.jpg: 352x512 1 ball, 1 person, 1 goal, 40.4ms\n",
      "image 7/143 C:\\Users\\user\\Desktop\\studia\\Widzenie Komputerowe Projekt\\Predykcja_Karnych\\dataset\\karne_przerobione\\k1\\frame_0006.jpg: 352x512 1 ball, 1 person, 1 goal, 30.1ms\n",
      "image 8/143 C:\\Users\\user\\Desktop\\studia\\Widzenie Komputerowe Projekt\\Predykcja_Karnych\\dataset\\karne_przerobione\\k1\\frame_0007.jpg: 352x512 1 ball, 1 person, 1 goal, 27.6ms\n",
      "image 9/143 C:\\Users\\user\\Desktop\\studia\\Widzenie Komputerowe Projekt\\Predykcja_Karnych\\dataset\\karne_przerobione\\k1\\frame_0008.jpg: 352x512 1 ball, 1 person, 1 goal, 29.6ms\n",
      "image 10/143 C:\\Users\\user\\Desktop\\studia\\Widzenie Komputerowe Projekt\\Predykcja_Karnych\\dataset\\karne_przerobione\\k1\\frame_0009.jpg: 352x512 1 ball, 1 person, 1 goal, 25.8ms\n",
      "image 11/143 C:\\Users\\user\\Desktop\\studia\\Widzenie Komputerowe Projekt\\Predykcja_Karnych\\dataset\\karne_przerobione\\k1\\frame_0010.jpg: 352x512 1 ball, 1 person, 1 goal, 25.0ms\n",
      "image 12/143 C:\\Users\\user\\Desktop\\studia\\Widzenie Komputerowe Projekt\\Predykcja_Karnych\\dataset\\karne_przerobione\\k1\\frame_0011.jpg: 352x512 1 ball, 1 person, 1 goal, 31.7ms\n",
      "image 13/143 C:\\Users\\user\\Desktop\\studia\\Widzenie Komputerowe Projekt\\Predykcja_Karnych\\dataset\\karne_przerobione\\k1\\frame_0012.jpg: 352x512 1 ball, 1 person, 1 goal, 33.1ms\n",
      "image 14/143 C:\\Users\\user\\Desktop\\studia\\Widzenie Komputerowe Projekt\\Predykcja_Karnych\\dataset\\karne_przerobione\\k1\\frame_0013.jpg: 352x512 1 ball, 1 person, 1 goal, 66.5ms\n",
      "image 15/143 C:\\Users\\user\\Desktop\\studia\\Widzenie Komputerowe Projekt\\Predykcja_Karnych\\dataset\\karne_przerobione\\k1\\frame_0014.jpg: 352x512 1 ball, 1 person, 1 goal, 26.6ms\n",
      "image 16/143 C:\\Users\\user\\Desktop\\studia\\Widzenie Komputerowe Projekt\\Predykcja_Karnych\\dataset\\karne_przerobione\\k1\\frame_0015.jpg: 352x512 1 ball, 1 person, 1 goal, 25.3ms\n",
      "image 17/143 C:\\Users\\user\\Desktop\\studia\\Widzenie Komputerowe Projekt\\Predykcja_Karnych\\dataset\\karne_przerobione\\k1\\frame_0016.jpg: 352x512 1 ball, 1 person, 1 goal, 31.0ms\n",
      "image 18/143 C:\\Users\\user\\Desktop\\studia\\Widzenie Komputerowe Projekt\\Predykcja_Karnych\\dataset\\karne_przerobione\\k1\\frame_0017.jpg: 352x512 1 ball, 1 person, 1 goal, 27.1ms\n",
      "image 19/143 C:\\Users\\user\\Desktop\\studia\\Widzenie Komputerowe Projekt\\Predykcja_Karnych\\dataset\\karne_przerobione\\k1\\frame_0018.jpg: 352x512 1 ball, 1 person, 1 goal, 33.8ms\n",
      "image 20/143 C:\\Users\\user\\Desktop\\studia\\Widzenie Komputerowe Projekt\\Predykcja_Karnych\\dataset\\karne_przerobione\\k1\\frame_0019.jpg: 352x512 1 ball, 1 person, 1 goal, 35.7ms\n",
      "image 21/143 C:\\Users\\user\\Desktop\\studia\\Widzenie Komputerowe Projekt\\Predykcja_Karnych\\dataset\\karne_przerobione\\k1\\frame_0020.jpg: 352x512 1 ball, 1 person, 1 goal, 30.0ms\n",
      "image 22/143 C:\\Users\\user\\Desktop\\studia\\Widzenie Komputerowe Projekt\\Predykcja_Karnych\\dataset\\karne_przerobione\\k1\\frame_0021.jpg: 352x512 1 ball, 1 person, 1 goal, 31.2ms\n",
      "image 23/143 C:\\Users\\user\\Desktop\\studia\\Widzenie Komputerowe Projekt\\Predykcja_Karnych\\dataset\\karne_przerobione\\k1\\frame_0022.jpg: 352x512 1 ball, 1 person, 1 goal, 27.8ms\n",
      "image 24/143 C:\\Users\\user\\Desktop\\studia\\Widzenie Komputerowe Projekt\\Predykcja_Karnych\\dataset\\karne_przerobione\\k1\\frame_0023.jpg: 352x512 1 ball, 1 person, 1 goal, 29.9ms\n",
      "image 25/143 C:\\Users\\user\\Desktop\\studia\\Widzenie Komputerowe Projekt\\Predykcja_Karnych\\dataset\\karne_przerobione\\k1\\frame_0024.jpg: 352x512 1 ball, 1 person, 1 goal, 25.3ms\n",
      "image 26/143 C:\\Users\\user\\Desktop\\studia\\Widzenie Komputerowe Projekt\\Predykcja_Karnych\\dataset\\karne_przerobione\\k1\\frame_0025.jpg: 352x512 1 ball, 1 person, 1 goal, 26.6ms\n",
      "image 27/143 C:\\Users\\user\\Desktop\\studia\\Widzenie Komputerowe Projekt\\Predykcja_Karnych\\dataset\\karne_przerobione\\k1\\frame_0026.jpg: 352x512 1 ball, 1 person, 1 goal, 24.7ms\n",
      "image 28/143 C:\\Users\\user\\Desktop\\studia\\Widzenie Komputerowe Projekt\\Predykcja_Karnych\\dataset\\karne_przerobione\\k1\\frame_0027.jpg: 352x512 1 ball, 1 person, 1 goal, 25.6ms\n",
      "image 29/143 C:\\Users\\user\\Desktop\\studia\\Widzenie Komputerowe Projekt\\Predykcja_Karnych\\dataset\\karne_przerobione\\k1\\frame_0028.jpg: 352x512 1 ball, 1 person, 1 goal, 24.8ms\n",
      "image 30/143 C:\\Users\\user\\Desktop\\studia\\Widzenie Komputerowe Projekt\\Predykcja_Karnych\\dataset\\karne_przerobione\\k1\\frame_0029.jpg: 352x512 1 ball, 1 person, 1 goal, 26.4ms\n",
      "image 31/143 C:\\Users\\user\\Desktop\\studia\\Widzenie Komputerowe Projekt\\Predykcja_Karnych\\dataset\\karne_przerobione\\k1\\frame_0030.jpg: 352x512 1 ball, 1 person, 1 goal, 26.2ms\n",
      "image 32/143 C:\\Users\\user\\Desktop\\studia\\Widzenie Komputerowe Projekt\\Predykcja_Karnych\\dataset\\karne_przerobione\\k1\\frame_0031.jpg: 352x512 1 ball, 1 person, 1 goal, 25.3ms\n",
      "image 33/143 C:\\Users\\user\\Desktop\\studia\\Widzenie Komputerowe Projekt\\Predykcja_Karnych\\dataset\\karne_przerobione\\k1\\frame_0032.jpg: 352x512 1 ball, 1 person, 1 goal, 46.8ms\n",
      "image 34/143 C:\\Users\\user\\Desktop\\studia\\Widzenie Komputerowe Projekt\\Predykcja_Karnych\\dataset\\karne_przerobione\\k1\\frame_0033.jpg: 352x512 1 ball, 1 person, 1 goal, 25.8ms\n",
      "image 35/143 C:\\Users\\user\\Desktop\\studia\\Widzenie Komputerowe Projekt\\Predykcja_Karnych\\dataset\\karne_przerobione\\k1\\frame_0034.jpg: 352x512 1 ball, 1 person, 1 goal, 28.1ms\n",
      "image 36/143 C:\\Users\\user\\Desktop\\studia\\Widzenie Komputerowe Projekt\\Predykcja_Karnych\\dataset\\karne_przerobione\\k1\\frame_0035.jpg: 352x512 1 ball, 1 person, 1 goal, 26.7ms\n",
      "image 37/143 C:\\Users\\user\\Desktop\\studia\\Widzenie Komputerowe Projekt\\Predykcja_Karnych\\dataset\\karne_przerobione\\k1\\frame_0036.jpg: 352x512 1 ball, 1 person, 1 goal, 25.6ms\n",
      "image 38/143 C:\\Users\\user\\Desktop\\studia\\Widzenie Komputerowe Projekt\\Predykcja_Karnych\\dataset\\karne_przerobione\\k1\\frame_0037.jpg: 352x512 1 ball, 1 person, 1 goal, 27.0ms\n",
      "image 39/143 C:\\Users\\user\\Desktop\\studia\\Widzenie Komputerowe Projekt\\Predykcja_Karnych\\dataset\\karne_przerobione\\k1\\frame_0038.jpg: 352x512 1 ball, 1 person, 1 goal, 24.9ms\n",
      "image 40/143 C:\\Users\\user\\Desktop\\studia\\Widzenie Komputerowe Projekt\\Predykcja_Karnych\\dataset\\karne_przerobione\\k1\\frame_0039.jpg: 352x512 1 ball, 1 person, 1 goal, 28.4ms\n",
      "image 41/143 C:\\Users\\user\\Desktop\\studia\\Widzenie Komputerowe Projekt\\Predykcja_Karnych\\dataset\\karne_przerobione\\k1\\frame_0040.jpg: 352x512 1 ball, 1 person, 1 goal, 28.1ms\n",
      "image 42/143 C:\\Users\\user\\Desktop\\studia\\Widzenie Komputerowe Projekt\\Predykcja_Karnych\\dataset\\karne_przerobione\\k1\\frame_0041.jpg: 352x512 1 ball, 1 person, 1 goal, 27.8ms\n",
      "image 43/143 C:\\Users\\user\\Desktop\\studia\\Widzenie Komputerowe Projekt\\Predykcja_Karnych\\dataset\\karne_przerobione\\k1\\frame_0042.jpg: 352x512 1 ball, 1 person, 1 goal, 27.8ms\n",
      "image 44/143 C:\\Users\\user\\Desktop\\studia\\Widzenie Komputerowe Projekt\\Predykcja_Karnych\\dataset\\karne_przerobione\\k1\\frame_0043.jpg: 352x512 1 ball, 1 person, 1 goal, 31.6ms\n",
      "image 45/143 C:\\Users\\user\\Desktop\\studia\\Widzenie Komputerowe Projekt\\Predykcja_Karnych\\dataset\\karne_przerobione\\k1\\frame_0044.jpg: 352x512 1 ball, 1 person, 1 goal, 24.7ms\n",
      "image 46/143 C:\\Users\\user\\Desktop\\studia\\Widzenie Komputerowe Projekt\\Predykcja_Karnych\\dataset\\karne_przerobione\\k1\\frame_0045.jpg: 352x512 1 ball, 1 person, 1 goal, 24.2ms\n",
      "image 47/143 C:\\Users\\user\\Desktop\\studia\\Widzenie Komputerowe Projekt\\Predykcja_Karnych\\dataset\\karne_przerobione\\k1\\frame_0046.jpg: 352x512 1 ball, 1 person, 1 goal, 24.2ms\n",
      "image 48/143 C:\\Users\\user\\Desktop\\studia\\Widzenie Komputerowe Projekt\\Predykcja_Karnych\\dataset\\karne_przerobione\\k1\\frame_0047.jpg: 352x512 1 ball, 1 person, 1 goal, 24.6ms\n",
      "image 49/143 C:\\Users\\user\\Desktop\\studia\\Widzenie Komputerowe Projekt\\Predykcja_Karnych\\dataset\\karne_przerobione\\k1\\frame_0048.jpg: 352x512 1 ball, 1 person, 1 goal, 26.0ms\n",
      "image 50/143 C:\\Users\\user\\Desktop\\studia\\Widzenie Komputerowe Projekt\\Predykcja_Karnych\\dataset\\karne_przerobione\\k1\\frame_0049.jpg: 352x512 1 ball, 1 person, 1 goal, 27.0ms\n",
      "image 51/143 C:\\Users\\user\\Desktop\\studia\\Widzenie Komputerowe Projekt\\Predykcja_Karnych\\dataset\\karne_przerobione\\k1\\frame_0050.jpg: 352x512 1 ball, 1 person, 1 goal, 25.2ms\n",
      "image 52/143 C:\\Users\\user\\Desktop\\studia\\Widzenie Komputerowe Projekt\\Predykcja_Karnych\\dataset\\karne_przerobione\\k1\\frame_0051.jpg: 352x512 1 ball, 1 person, 1 goal, 29.1ms\n",
      "image 53/143 C:\\Users\\user\\Desktop\\studia\\Widzenie Komputerowe Projekt\\Predykcja_Karnych\\dataset\\karne_przerobione\\k1\\frame_0052.jpg: 352x512 1 ball, 1 person, 1 goal, 25.6ms\n",
      "image 54/143 C:\\Users\\user\\Desktop\\studia\\Widzenie Komputerowe Projekt\\Predykcja_Karnych\\dataset\\karne_przerobione\\k1\\frame_0053.jpg: 352x512 1 ball, 1 person, 1 goal, 29.2ms\n",
      "image 55/143 C:\\Users\\user\\Desktop\\studia\\Widzenie Komputerowe Projekt\\Predykcja_Karnych\\dataset\\karne_przerobione\\k1\\frame_0054.jpg: 352x512 1 ball, 1 person, 1 goal, 25.5ms\n",
      "image 56/143 C:\\Users\\user\\Desktop\\studia\\Widzenie Komputerowe Projekt\\Predykcja_Karnych\\dataset\\karne_przerobione\\k1\\frame_0055.jpg: 352x512 1 ball, 1 person, 1 goal, 25.7ms\n",
      "image 57/143 C:\\Users\\user\\Desktop\\studia\\Widzenie Komputerowe Projekt\\Predykcja_Karnych\\dataset\\karne_przerobione\\k1\\frame_0056.jpg: 352x512 1 ball, 1 person, 1 goal, 30.9ms\n",
      "image 58/143 C:\\Users\\user\\Desktop\\studia\\Widzenie Komputerowe Projekt\\Predykcja_Karnych\\dataset\\karne_przerobione\\k1\\frame_0057.jpg: 352x512 1 ball, 1 person, 1 goal, 26.3ms\n",
      "image 59/143 C:\\Users\\user\\Desktop\\studia\\Widzenie Komputerowe Projekt\\Predykcja_Karnych\\dataset\\karne_przerobione\\k1\\frame_0058.jpg: 352x512 1 ball, 1 person, 1 goal, 25.9ms\n",
      "image 60/143 C:\\Users\\user\\Desktop\\studia\\Widzenie Komputerowe Projekt\\Predykcja_Karnych\\dataset\\karne_przerobione\\k1\\frame_0059.jpg: 352x512 1 ball, 1 person, 1 goal, 26.9ms\n",
      "image 61/143 C:\\Users\\user\\Desktop\\studia\\Widzenie Komputerowe Projekt\\Predykcja_Karnych\\dataset\\karne_przerobione\\k1\\frame_0060.jpg: 352x512 1 ball, 1 person, 1 goal, 27.7ms\n",
      "image 62/143 C:\\Users\\user\\Desktop\\studia\\Widzenie Komputerowe Projekt\\Predykcja_Karnych\\dataset\\karne_przerobione\\k1\\frame_0061.jpg: 352x512 1 ball, 1 person, 1 goal, 25.0ms\n",
      "image 63/143 C:\\Users\\user\\Desktop\\studia\\Widzenie Komputerowe Projekt\\Predykcja_Karnych\\dataset\\karne_przerobione\\k1\\frame_0062.jpg: 352x512 1 ball, 1 person, 1 goal, 25.8ms\n",
      "image 64/143 C:\\Users\\user\\Desktop\\studia\\Widzenie Komputerowe Projekt\\Predykcja_Karnych\\dataset\\karne_przerobione\\k1\\frame_0063.jpg: 352x512 1 person, 1 goal, 28.2ms\n",
      "image 65/143 C:\\Users\\user\\Desktop\\studia\\Widzenie Komputerowe Projekt\\Predykcja_Karnych\\dataset\\karne_przerobione\\k1\\frame_0064.jpg: 352x512 1 person, 1 goal, 32.7ms\n",
      "image 66/143 C:\\Users\\user\\Desktop\\studia\\Widzenie Komputerowe Projekt\\Predykcja_Karnych\\dataset\\karne_przerobione\\k1\\frame_0065.jpg: 352x512 1 person, 1 goal, 27.8ms\n",
      "image 67/143 C:\\Users\\user\\Desktop\\studia\\Widzenie Komputerowe Projekt\\Predykcja_Karnych\\dataset\\karne_przerobione\\k1\\frame_0066.jpg: 352x512 1 person, 1 goal, 27.2ms\n",
      "image 68/143 C:\\Users\\user\\Desktop\\studia\\Widzenie Komputerowe Projekt\\Predykcja_Karnych\\dataset\\karne_przerobione\\k1\\frame_0067.jpg: 352x512 1 person, 1 goal, 25.5ms\n",
      "image 69/143 C:\\Users\\user\\Desktop\\studia\\Widzenie Komputerowe Projekt\\Predykcja_Karnych\\dataset\\karne_przerobione\\k1\\frame_0068.jpg: 352x512 1 person, 1 goal, 31.2ms\n",
      "image 70/143 C:\\Users\\user\\Desktop\\studia\\Widzenie Komputerowe Projekt\\Predykcja_Karnych\\dataset\\karne_przerobione\\k1\\frame_0069.jpg: 352x512 1 person, 1 goal, 41.4ms\n",
      "image 71/143 C:\\Users\\user\\Desktop\\studia\\Widzenie Komputerowe Projekt\\Predykcja_Karnych\\dataset\\karne_przerobione\\k1\\frame_0070.jpg: 352x512 1 person, 1 goal, 33.3ms\n",
      "image 72/143 C:\\Users\\user\\Desktop\\studia\\Widzenie Komputerowe Projekt\\Predykcja_Karnych\\dataset\\karne_przerobione\\k1\\frame_0071.jpg: 352x512 1 person, 1 goal, 38.8ms\n",
      "image 73/143 C:\\Users\\user\\Desktop\\studia\\Widzenie Komputerowe Projekt\\Predykcja_Karnych\\dataset\\karne_przerobione\\k1\\frame_0072.jpg: 352x512 1 person, 1 goal, 32.2ms\n",
      "image 74/143 C:\\Users\\user\\Desktop\\studia\\Widzenie Komputerowe Projekt\\Predykcja_Karnych\\dataset\\karne_przerobione\\k1\\frame_0073.jpg: 352x512 1 person, 1 goal, 32.0ms\n",
      "image 75/143 C:\\Users\\user\\Desktop\\studia\\Widzenie Komputerowe Projekt\\Predykcja_Karnych\\dataset\\karne_przerobione\\k1\\frame_0074.jpg: 352x512 1 person, 1 goal, 29.1ms\n",
      "image 76/143 C:\\Users\\user\\Desktop\\studia\\Widzenie Komputerowe Projekt\\Predykcja_Karnych\\dataset\\karne_przerobione\\k1\\frame_0075.jpg: 352x512 1 person, 1 goal, 27.5ms\n",
      "image 77/143 C:\\Users\\user\\Desktop\\studia\\Widzenie Komputerowe Projekt\\Predykcja_Karnych\\dataset\\karne_przerobione\\k1\\frame_0076.jpg: 352x512 1 ball, 1 person, 1 goal, 26.2ms\n",
      "image 78/143 C:\\Users\\user\\Desktop\\studia\\Widzenie Komputerowe Projekt\\Predykcja_Karnych\\dataset\\karne_przerobione\\k1\\frame_0077.jpg: 352x512 1 ball, 1 person, 1 goal, 22.4ms\n",
      "image 79/143 C:\\Users\\user\\Desktop\\studia\\Widzenie Komputerowe Projekt\\Predykcja_Karnych\\dataset\\karne_przerobione\\k1\\frame_0078.jpg: 352x512 1 ball, 1 person, 1 goal, 25.1ms\n",
      "image 80/143 C:\\Users\\user\\Desktop\\studia\\Widzenie Komputerowe Projekt\\Predykcja_Karnych\\dataset\\karne_przerobione\\k1\\frame_0079.jpg: 352x512 1 ball, 1 person, 1 goal, 23.4ms\n",
      "image 81/143 C:\\Users\\user\\Desktop\\studia\\Widzenie Komputerowe Projekt\\Predykcja_Karnych\\dataset\\karne_przerobione\\k1\\frame_0080.jpg: 352x512 1 ball, 1 person, 1 goal, 26.7ms\n",
      "image 82/143 C:\\Users\\user\\Desktop\\studia\\Widzenie Komputerowe Projekt\\Predykcja_Karnych\\dataset\\karne_przerobione\\k1\\frame_0081.jpg: 352x512 1 ball, 1 person, 1 goal, 25.2ms\n",
      "image 83/143 C:\\Users\\user\\Desktop\\studia\\Widzenie Komputerowe Projekt\\Predykcja_Karnych\\dataset\\karne_przerobione\\k1\\frame_0082.jpg: 352x512 1 ball, 1 person, 1 goal, 27.0ms\n",
      "image 84/143 C:\\Users\\user\\Desktop\\studia\\Widzenie Komputerowe Projekt\\Predykcja_Karnych\\dataset\\karne_przerobione\\k1\\frame_0083.jpg: 352x512 1 ball, 1 person, 1 goal, 28.3ms\n",
      "image 85/143 C:\\Users\\user\\Desktop\\studia\\Widzenie Komputerowe Projekt\\Predykcja_Karnych\\dataset\\karne_przerobione\\k1\\frame_0084.jpg: 352x512 1 ball, 1 person, 1 goal, 24.7ms\n",
      "image 86/143 C:\\Users\\user\\Desktop\\studia\\Widzenie Komputerowe Projekt\\Predykcja_Karnych\\dataset\\karne_przerobione\\k1\\frame_0085.jpg: 352x512 1 ball, 1 person, 1 goal, 27.5ms\n",
      "image 87/143 C:\\Users\\user\\Desktop\\studia\\Widzenie Komputerowe Projekt\\Predykcja_Karnych\\dataset\\karne_przerobione\\k1\\frame_0086.jpg: 352x512 1 ball, 1 person, 1 goal, 31.5ms\n",
      "image 88/143 C:\\Users\\user\\Desktop\\studia\\Widzenie Komputerowe Projekt\\Predykcja_Karnych\\dataset\\karne_przerobione\\k1\\frame_0087.jpg: 352x512 1 ball, 1 person, 1 goal, 31.1ms\n",
      "image 89/143 C:\\Users\\user\\Desktop\\studia\\Widzenie Komputerowe Projekt\\Predykcja_Karnych\\dataset\\karne_przerobione\\k1\\frame_0088.jpg: 352x512 1 ball, 1 person, 1 goal, 23.4ms\n",
      "image 90/143 C:\\Users\\user\\Desktop\\studia\\Widzenie Komputerowe Projekt\\Predykcja_Karnych\\dataset\\karne_przerobione\\k1\\frame_0089.jpg: 352x512 1 ball, 1 person, 1 goal, 28.5ms\n",
      "image 91/143 C:\\Users\\user\\Desktop\\studia\\Widzenie Komputerowe Projekt\\Predykcja_Karnych\\dataset\\karne_przerobione\\k1\\frame_0090.jpg: 352x512 1 ball, 1 person, 1 goal, 30.2ms\n",
      "image 92/143 C:\\Users\\user\\Desktop\\studia\\Widzenie Komputerowe Projekt\\Predykcja_Karnych\\dataset\\karne_przerobione\\k1\\frame_0091.jpg: 352x512 1 ball, 1 person, 1 goal, 25.0ms\n",
      "image 93/143 C:\\Users\\user\\Desktop\\studia\\Widzenie Komputerowe Projekt\\Predykcja_Karnych\\dataset\\karne_przerobione\\k1\\frame_0092.jpg: 352x512 1 ball, 1 person, 1 goal, 30.2ms\n",
      "image 94/143 C:\\Users\\user\\Desktop\\studia\\Widzenie Komputerowe Projekt\\Predykcja_Karnych\\dataset\\karne_przerobione\\k1\\frame_0093.jpg: 352x512 1 person, 1 goal, 25.7ms\n",
      "image 95/143 C:\\Users\\user\\Desktop\\studia\\Widzenie Komputerowe Projekt\\Predykcja_Karnych\\dataset\\karne_przerobione\\k1\\frame_0094.jpg: 352x512 1 person, 1 goal, 28.8ms\n",
      "image 96/143 C:\\Users\\user\\Desktop\\studia\\Widzenie Komputerowe Projekt\\Predykcja_Karnych\\dataset\\karne_przerobione\\k1\\frame_0095.jpg: 352x512 1 person, 1 goal, 26.1ms\n",
      "image 97/143 C:\\Users\\user\\Desktop\\studia\\Widzenie Komputerowe Projekt\\Predykcja_Karnych\\dataset\\karne_przerobione\\k1\\frame_0096.jpg: 352x512 1 person, 1 goal, 37.4ms\n",
      "image 98/143 C:\\Users\\user\\Desktop\\studia\\Widzenie Komputerowe Projekt\\Predykcja_Karnych\\dataset\\karne_przerobione\\k1\\frame_0097.jpg: 352x512 1 person, 1 goal, 26.7ms\n",
      "image 99/143 C:\\Users\\user\\Desktop\\studia\\Widzenie Komputerowe Projekt\\Predykcja_Karnych\\dataset\\karne_przerobione\\k1\\frame_0098.jpg: 352x512 1 person, 1 goal, 25.3ms\n",
      "image 100/143 C:\\Users\\user\\Desktop\\studia\\Widzenie Komputerowe Projekt\\Predykcja_Karnych\\dataset\\karne_przerobione\\k1\\frame_0099.jpg: 352x512 1 person, 1 goal, 26.7ms\n",
      "image 101/143 C:\\Users\\user\\Desktop\\studia\\Widzenie Komputerowe Projekt\\Predykcja_Karnych\\dataset\\karne_przerobione\\k1\\frame_0100.jpg: 352x512 1 person, 1 goal, 23.8ms\n",
      "image 102/143 C:\\Users\\user\\Desktop\\studia\\Widzenie Komputerowe Projekt\\Predykcja_Karnych\\dataset\\karne_przerobione\\k1\\frame_0101.jpg: 352x512 1 person, 1 goal, 26.2ms\n",
      "image 103/143 C:\\Users\\user\\Desktop\\studia\\Widzenie Komputerowe Projekt\\Predykcja_Karnych\\dataset\\karne_przerobione\\k1\\frame_0102.jpg: 352x512 1 person, 1 goal, 24.8ms\n",
      "image 104/143 C:\\Users\\user\\Desktop\\studia\\Widzenie Komputerowe Projekt\\Predykcja_Karnych\\dataset\\karne_przerobione\\k1\\frame_0103.jpg: 352x512 1 person, 1 goal, 24.3ms\n",
      "image 105/143 C:\\Users\\user\\Desktop\\studia\\Widzenie Komputerowe Projekt\\Predykcja_Karnych\\dataset\\karne_przerobione\\k1\\frame_0104.jpg: 352x512 1 person, 1 goal, 24.6ms\n",
      "image 106/143 C:\\Users\\user\\Desktop\\studia\\Widzenie Komputerowe Projekt\\Predykcja_Karnych\\dataset\\karne_przerobione\\k1\\frame_0105.jpg: 352x512 1 person, 1 goal, 25.5ms\n",
      "image 107/143 C:\\Users\\user\\Desktop\\studia\\Widzenie Komputerowe Projekt\\Predykcja_Karnych\\dataset\\karne_przerobione\\k1\\frame_0106.jpg: 352x512 1 person, 1 goal, 25.6ms\n",
      "image 108/143 C:\\Users\\user\\Desktop\\studia\\Widzenie Komputerowe Projekt\\Predykcja_Karnych\\dataset\\karne_przerobione\\k1\\frame_0107.jpg: 352x512 1 person, 1 goal, 49.9ms\n",
      "image 109/143 C:\\Users\\user\\Desktop\\studia\\Widzenie Komputerowe Projekt\\Predykcja_Karnych\\dataset\\karne_przerobione\\k1\\frame_0108.jpg: 352x512 1 person, 1 goal, 26.1ms\n",
      "image 110/143 C:\\Users\\user\\Desktop\\studia\\Widzenie Komputerowe Projekt\\Predykcja_Karnych\\dataset\\karne_przerobione\\k1\\frame_0109.jpg: 352x512 1 person, 1 goal, 26.5ms\n",
      "image 111/143 C:\\Users\\user\\Desktop\\studia\\Widzenie Komputerowe Projekt\\Predykcja_Karnych\\dataset\\karne_przerobione\\k1\\frame_0110.jpg: 352x512 1 person, 1 goal, 28.3ms\n",
      "image 112/143 C:\\Users\\user\\Desktop\\studia\\Widzenie Komputerowe Projekt\\Predykcja_Karnych\\dataset\\karne_przerobione\\k1\\frame_0111.jpg: 352x512 1 person, 1 goal, 27.6ms\n",
      "image 113/143 C:\\Users\\user\\Desktop\\studia\\Widzenie Komputerowe Projekt\\Predykcja_Karnych\\dataset\\karne_przerobione\\k1\\frame_0112.jpg: 352x512 1 person, 1 goal, 23.3ms\n",
      "image 114/143 C:\\Users\\user\\Desktop\\studia\\Widzenie Komputerowe Projekt\\Predykcja_Karnych\\dataset\\karne_przerobione\\k1\\frame_0113.jpg: 352x512 1 person, 1 goal, 25.3ms\n",
      "image 115/143 C:\\Users\\user\\Desktop\\studia\\Widzenie Komputerowe Projekt\\Predykcja_Karnych\\dataset\\karne_przerobione\\k1\\frame_0114.jpg: 352x512 1 person, 1 goal, 24.6ms\n",
      "image 116/143 C:\\Users\\user\\Desktop\\studia\\Widzenie Komputerowe Projekt\\Predykcja_Karnych\\dataset\\karne_przerobione\\k1\\frame_0115.jpg: 352x512 1 person, 1 goal, 26.2ms\n",
      "image 117/143 C:\\Users\\user\\Desktop\\studia\\Widzenie Komputerowe Projekt\\Predykcja_Karnych\\dataset\\karne_przerobione\\k1\\frame_0116.jpg: 352x512 1 person, 1 goal, 28.2ms\n",
      "image 118/143 C:\\Users\\user\\Desktop\\studia\\Widzenie Komputerowe Projekt\\Predykcja_Karnych\\dataset\\karne_przerobione\\k1\\frame_0117.jpg: 352x512 1 ball, 1 person, 1 goal, 27.8ms\n",
      "image 119/143 C:\\Users\\user\\Desktop\\studia\\Widzenie Komputerowe Projekt\\Predykcja_Karnych\\dataset\\karne_przerobione\\k1\\frame_0118.jpg: 352x512 1 ball, 1 person, 1 goal, 28.3ms\n",
      "image 120/143 C:\\Users\\user\\Desktop\\studia\\Widzenie Komputerowe Projekt\\Predykcja_Karnych\\dataset\\karne_przerobione\\k1\\frame_0119.jpg: 352x512 1 ball, 1 person, 1 goal, 22.9ms\n",
      "image 121/143 C:\\Users\\user\\Desktop\\studia\\Widzenie Komputerowe Projekt\\Predykcja_Karnych\\dataset\\karne_przerobione\\k1\\frame_0120.jpg: 352x512 1 ball, 1 person, 1 goal, 30.1ms\n",
      "image 122/143 C:\\Users\\user\\Desktop\\studia\\Widzenie Komputerowe Projekt\\Predykcja_Karnych\\dataset\\karne_przerobione\\k1\\frame_0121.jpg: 352x512 1 ball, 1 person, 1 goal, 25.2ms\n",
      "image 123/143 C:\\Users\\user\\Desktop\\studia\\Widzenie Komputerowe Projekt\\Predykcja_Karnych\\dataset\\karne_przerobione\\k1\\frame_0122.jpg: 352x512 1 person, 1 goal, 25.9ms\n",
      "image 124/143 C:\\Users\\user\\Desktop\\studia\\Widzenie Komputerowe Projekt\\Predykcja_Karnych\\dataset\\karne_przerobione\\k1\\frame_0123.jpg: 352x512 1 ball, 1 person, 1 goal, 24.2ms\n",
      "image 125/143 C:\\Users\\user\\Desktop\\studia\\Widzenie Komputerowe Projekt\\Predykcja_Karnych\\dataset\\karne_przerobione\\k1\\frame_0124.jpg: 352x512 1 ball, 1 person, 1 goal, 25.2ms\n",
      "image 126/143 C:\\Users\\user\\Desktop\\studia\\Widzenie Komputerowe Projekt\\Predykcja_Karnych\\dataset\\karne_przerobione\\k1\\frame_0125.jpg: 352x512 1 ball, 1 person, 1 goal, 46.5ms\n",
      "image 127/143 C:\\Users\\user\\Desktop\\studia\\Widzenie Komputerowe Projekt\\Predykcja_Karnych\\dataset\\karne_przerobione\\k1\\frame_0126.jpg: 352x512 1 ball, 1 person, 1 goal, 26.3ms\n",
      "image 128/143 C:\\Users\\user\\Desktop\\studia\\Widzenie Komputerowe Projekt\\Predykcja_Karnych\\dataset\\karne_przerobione\\k1\\frame_0127.jpg: 352x512 1 ball, 1 person, 1 goal, 24.5ms\n",
      "image 129/143 C:\\Users\\user\\Desktop\\studia\\Widzenie Komputerowe Projekt\\Predykcja_Karnych\\dataset\\karne_przerobione\\k1\\frame_0128.jpg: 352x512 1 person, 1 goal, 36.4ms\n",
      "image 130/143 C:\\Users\\user\\Desktop\\studia\\Widzenie Komputerowe Projekt\\Predykcja_Karnych\\dataset\\karne_przerobione\\k1\\frame_0129.jpg: 352x512 1 person, 1 goal, 24.1ms\n",
      "image 131/143 C:\\Users\\user\\Desktop\\studia\\Widzenie Komputerowe Projekt\\Predykcja_Karnych\\dataset\\karne_przerobione\\k1\\frame_0130.jpg: 352x512 1 person, 1 goal, 32.8ms\n",
      "image 132/143 C:\\Users\\user\\Desktop\\studia\\Widzenie Komputerowe Projekt\\Predykcja_Karnych\\dataset\\karne_przerobione\\k1\\frame_0131.jpg: 352x512 1 person, 1 goal, 29.1ms\n",
      "image 133/143 C:\\Users\\user\\Desktop\\studia\\Widzenie Komputerowe Projekt\\Predykcja_Karnych\\dataset\\karne_przerobione\\k1\\frame_0132.jpg: 352x512 1 person, 1 goal, 26.8ms\n",
      "image 134/143 C:\\Users\\user\\Desktop\\studia\\Widzenie Komputerowe Projekt\\Predykcja_Karnych\\dataset\\karne_przerobione\\k1\\frame_0133.jpg: 352x512 1 person, 1 goal, 26.0ms\n",
      "image 135/143 C:\\Users\\user\\Desktop\\studia\\Widzenie Komputerowe Projekt\\Predykcja_Karnych\\dataset\\karne_przerobione\\k1\\frame_0134.jpg: 352x512 1 person, 1 goal, 27.7ms\n",
      "image 136/143 C:\\Users\\user\\Desktop\\studia\\Widzenie Komputerowe Projekt\\Predykcja_Karnych\\dataset\\karne_przerobione\\k1\\frame_0135.jpg: 352x512 1 person, 1 goal, 29.0ms\n",
      "image 137/143 C:\\Users\\user\\Desktop\\studia\\Widzenie Komputerowe Projekt\\Predykcja_Karnych\\dataset\\karne_przerobione\\k1\\frame_0136.jpg: 352x512 1 person, 1 goal, 24.7ms\n",
      "image 138/143 C:\\Users\\user\\Desktop\\studia\\Widzenie Komputerowe Projekt\\Predykcja_Karnych\\dataset\\karne_przerobione\\k1\\frame_0137.jpg: 352x512 1 person, 1 goal, 27.5ms\n",
      "image 139/143 C:\\Users\\user\\Desktop\\studia\\Widzenie Komputerowe Projekt\\Predykcja_Karnych\\dataset\\karne_przerobione\\k1\\frame_0138.jpg: 352x512 1 ball, 1 person, 1 goal, 29.4ms\n",
      "image 140/143 C:\\Users\\user\\Desktop\\studia\\Widzenie Komputerowe Projekt\\Predykcja_Karnych\\dataset\\karne_przerobione\\k1\\frame_0139.jpg: 352x512 1 ball, 1 person, 1 goal, 31.5ms\n",
      "image 141/143 C:\\Users\\user\\Desktop\\studia\\Widzenie Komputerowe Projekt\\Predykcja_Karnych\\dataset\\karne_przerobione\\k1\\frame_0140.jpg: 352x512 1 ball, 1 person, 1 goal, 24.2ms\n",
      "image 142/143 C:\\Users\\user\\Desktop\\studia\\Widzenie Komputerowe Projekt\\Predykcja_Karnych\\dataset\\karne_przerobione\\k1\\frame_0141.jpg: 352x512 1 ball, 1 person, 1 goal, 24.7ms\n",
      "image 143/143 C:\\Users\\user\\Desktop\\studia\\Widzenie Komputerowe Projekt\\Predykcja_Karnych\\dataset\\karne_przerobione\\k1\\frame_0142.jpg: 352x512 1 ball, 1 person, 1 goal, 23.4ms\n",
      "Speed: 1.3ms preprocess, 28.4ms inference, 0.6ms postprocess per image at shape (1, 3, 352, 512)\n",
      "Results saved to \u001B[1mC:\\Users\\user\\Desktop\\studia\\Widzenie Komputerowe Projekt\\Predykcja_Karnych\\runs\\detect\\predict_k1\\predict2\u001B[0m\n",
      "Przetwarzanie folderu: k2...\n",
      "\n",
      "image 1/202 C:\\Users\\user\\Desktop\\studia\\Widzenie Komputerowe Projekt\\Predykcja_Karnych\\dataset\\karne_przerobione\\k2\\frame_0000.jpg: 352x512 1 ball, 1 person, 1 goal, 25.4ms\n",
      "image 2/202 C:\\Users\\user\\Desktop\\studia\\Widzenie Komputerowe Projekt\\Predykcja_Karnych\\dataset\\karne_przerobione\\k2\\frame_0001.jpg: 352x512 1 ball, 1 person, 1 goal, 25.0ms\n",
      "image 3/202 C:\\Users\\user\\Desktop\\studia\\Widzenie Komputerowe Projekt\\Predykcja_Karnych\\dataset\\karne_przerobione\\k2\\frame_0002.jpg: 352x512 1 ball, 1 person, 1 goal, 23.8ms\n",
      "image 4/202 C:\\Users\\user\\Desktop\\studia\\Widzenie Komputerowe Projekt\\Predykcja_Karnych\\dataset\\karne_przerobione\\k2\\frame_0003.jpg: 352x512 1 ball, 1 person, 1 goal, 24.2ms\n",
      "image 5/202 C:\\Users\\user\\Desktop\\studia\\Widzenie Komputerowe Projekt\\Predykcja_Karnych\\dataset\\karne_przerobione\\k2\\frame_0004.jpg: 352x512 1 ball, 1 person, 1 goal, 24.0ms\n",
      "image 6/202 C:\\Users\\user\\Desktop\\studia\\Widzenie Komputerowe Projekt\\Predykcja_Karnych\\dataset\\karne_przerobione\\k2\\frame_0005.jpg: 352x512 1 ball, 1 person, 1 goal, 26.8ms\n",
      "image 7/202 C:\\Users\\user\\Desktop\\studia\\Widzenie Komputerowe Projekt\\Predykcja_Karnych\\dataset\\karne_przerobione\\k2\\frame_0006.jpg: 352x512 1 ball, 1 person, 1 goal, 26.4ms\n",
      "image 8/202 C:\\Users\\user\\Desktop\\studia\\Widzenie Komputerowe Projekt\\Predykcja_Karnych\\dataset\\karne_przerobione\\k2\\frame_0007.jpg: 352x512 1 ball, 1 person, 1 goal, 28.6ms\n",
      "image 9/202 C:\\Users\\user\\Desktop\\studia\\Widzenie Komputerowe Projekt\\Predykcja_Karnych\\dataset\\karne_przerobione\\k2\\frame_0008.jpg: 352x512 1 ball, 1 person, 1 goal, 23.8ms\n",
      "image 10/202 C:\\Users\\user\\Desktop\\studia\\Widzenie Komputerowe Projekt\\Predykcja_Karnych\\dataset\\karne_przerobione\\k2\\frame_0009.jpg: 352x512 1 ball, 1 person, 1 goal, 24.3ms\n",
      "image 11/202 C:\\Users\\user\\Desktop\\studia\\Widzenie Komputerowe Projekt\\Predykcja_Karnych\\dataset\\karne_przerobione\\k2\\frame_0010.jpg: 352x512 1 ball, 1 person, 1 goal, 24.5ms\n",
      "image 12/202 C:\\Users\\user\\Desktop\\studia\\Widzenie Komputerowe Projekt\\Predykcja_Karnych\\dataset\\karne_przerobione\\k2\\frame_0011.jpg: 352x512 1 ball, 1 person, 1 goal, 23.2ms\n",
      "image 13/202 C:\\Users\\user\\Desktop\\studia\\Widzenie Komputerowe Projekt\\Predykcja_Karnych\\dataset\\karne_przerobione\\k2\\frame_0012.jpg: 352x512 1 ball, 1 person, 1 goal, 23.9ms\n",
      "image 14/202 C:\\Users\\user\\Desktop\\studia\\Widzenie Komputerowe Projekt\\Predykcja_Karnych\\dataset\\karne_przerobione\\k2\\frame_0013.jpg: 352x512 1 ball, 1 person, 1 goal, 24.1ms\n",
      "image 15/202 C:\\Users\\user\\Desktop\\studia\\Widzenie Komputerowe Projekt\\Predykcja_Karnych\\dataset\\karne_przerobione\\k2\\frame_0014.jpg: 352x512 1 ball, 1 person, 1 goal, 23.7ms\n",
      "image 16/202 C:\\Users\\user\\Desktop\\studia\\Widzenie Komputerowe Projekt\\Predykcja_Karnych\\dataset\\karne_przerobione\\k2\\frame_0015.jpg: 352x512 1 ball, 1 person, 1 goal, 24.0ms\n",
      "image 17/202 C:\\Users\\user\\Desktop\\studia\\Widzenie Komputerowe Projekt\\Predykcja_Karnych\\dataset\\karne_przerobione\\k2\\frame_0016.jpg: 352x512 1 ball, 1 person, 1 goal, 25.7ms\n",
      "image 18/202 C:\\Users\\user\\Desktop\\studia\\Widzenie Komputerowe Projekt\\Predykcja_Karnych\\dataset\\karne_przerobione\\k2\\frame_0017.jpg: 352x512 1 ball, 1 person, 1 goal, 24.8ms\n",
      "image 19/202 C:\\Users\\user\\Desktop\\studia\\Widzenie Komputerowe Projekt\\Predykcja_Karnych\\dataset\\karne_przerobione\\k2\\frame_0018.jpg: 352x512 1 ball, 1 person, 1 goal, 36.6ms\n",
      "image 20/202 C:\\Users\\user\\Desktop\\studia\\Widzenie Komputerowe Projekt\\Predykcja_Karnych\\dataset\\karne_przerobione\\k2\\frame_0019.jpg: 352x512 1 ball, 1 person, 1 goal, 24.3ms\n",
      "image 21/202 C:\\Users\\user\\Desktop\\studia\\Widzenie Komputerowe Projekt\\Predykcja_Karnych\\dataset\\karne_przerobione\\k2\\frame_0020.jpg: 352x512 1 ball, 1 person, 1 goal, 24.4ms\n",
      "image 22/202 C:\\Users\\user\\Desktop\\studia\\Widzenie Komputerowe Projekt\\Predykcja_Karnych\\dataset\\karne_przerobione\\k2\\frame_0021.jpg: 352x512 1 ball, 1 person, 1 goal, 26.5ms\n",
      "image 23/202 C:\\Users\\user\\Desktop\\studia\\Widzenie Komputerowe Projekt\\Predykcja_Karnych\\dataset\\karne_przerobione\\k2\\frame_0022.jpg: 352x512 1 ball, 1 person, 1 goal, 25.7ms\n",
      "image 24/202 C:\\Users\\user\\Desktop\\studia\\Widzenie Komputerowe Projekt\\Predykcja_Karnych\\dataset\\karne_przerobione\\k2\\frame_0023.jpg: 352x512 1 ball, 1 person, 1 goal, 23.6ms\n",
      "image 25/202 C:\\Users\\user\\Desktop\\studia\\Widzenie Komputerowe Projekt\\Predykcja_Karnych\\dataset\\karne_przerobione\\k2\\frame_0024.jpg: 352x512 1 ball, 1 person, 1 goal, 25.5ms\n",
      "image 26/202 C:\\Users\\user\\Desktop\\studia\\Widzenie Komputerowe Projekt\\Predykcja_Karnych\\dataset\\karne_przerobione\\k2\\frame_0025.jpg: 352x512 1 ball, 1 person, 1 goal, 26.1ms\n",
      "image 27/202 C:\\Users\\user\\Desktop\\studia\\Widzenie Komputerowe Projekt\\Predykcja_Karnych\\dataset\\karne_przerobione\\k2\\frame_0026.jpg: 352x512 1 ball, 1 person, 1 goal, 24.5ms\n",
      "image 28/202 C:\\Users\\user\\Desktop\\studia\\Widzenie Komputerowe Projekt\\Predykcja_Karnych\\dataset\\karne_przerobione\\k2\\frame_0027.jpg: 352x512 1 ball, 1 person, 1 goal, 27.2ms\n",
      "image 29/202 C:\\Users\\user\\Desktop\\studia\\Widzenie Komputerowe Projekt\\Predykcja_Karnych\\dataset\\karne_przerobione\\k2\\frame_0028.jpg: 352x512 1 ball, 1 person, 1 goal, 25.8ms\n",
      "image 30/202 C:\\Users\\user\\Desktop\\studia\\Widzenie Komputerowe Projekt\\Predykcja_Karnych\\dataset\\karne_przerobione\\k2\\frame_0029.jpg: 352x512 1 ball, 1 person, 1 goal, 38.4ms\n",
      "image 31/202 C:\\Users\\user\\Desktop\\studia\\Widzenie Komputerowe Projekt\\Predykcja_Karnych\\dataset\\karne_przerobione\\k2\\frame_0030.jpg: 352x512 1 ball, 1 person, 1 goal, 24.6ms\n",
      "image 32/202 C:\\Users\\user\\Desktop\\studia\\Widzenie Komputerowe Projekt\\Predykcja_Karnych\\dataset\\karne_przerobione\\k2\\frame_0031.jpg: 352x512 1 ball, 1 person, 1 goal, 25.1ms\n",
      "image 33/202 C:\\Users\\user\\Desktop\\studia\\Widzenie Komputerowe Projekt\\Predykcja_Karnych\\dataset\\karne_przerobione\\k2\\frame_0032.jpg: 352x512 1 ball, 1 person, 1 goal, 23.6ms\n",
      "image 34/202 C:\\Users\\user\\Desktop\\studia\\Widzenie Komputerowe Projekt\\Predykcja_Karnych\\dataset\\karne_przerobione\\k2\\frame_0033.jpg: 352x512 1 ball, 1 person, 1 goal, 24.5ms\n",
      "image 35/202 C:\\Users\\user\\Desktop\\studia\\Widzenie Komputerowe Projekt\\Predykcja_Karnych\\dataset\\karne_przerobione\\k2\\frame_0034.jpg: 352x512 1 ball, 1 person, 1 goal, 26.1ms\n",
      "image 36/202 C:\\Users\\user\\Desktop\\studia\\Widzenie Komputerowe Projekt\\Predykcja_Karnych\\dataset\\karne_przerobione\\k2\\frame_0035.jpg: 352x512 1 ball, 1 person, 1 goal, 23.9ms\n",
      "image 37/202 C:\\Users\\user\\Desktop\\studia\\Widzenie Komputerowe Projekt\\Predykcja_Karnych\\dataset\\karne_przerobione\\k2\\frame_0036.jpg: 352x512 1 ball, 1 person, 1 goal, 23.9ms\n",
      "image 38/202 C:\\Users\\user\\Desktop\\studia\\Widzenie Komputerowe Projekt\\Predykcja_Karnych\\dataset\\karne_przerobione\\k2\\frame_0037.jpg: 352x512 1 ball, 1 person, 1 goal, 23.8ms\n",
      "image 39/202 C:\\Users\\user\\Desktop\\studia\\Widzenie Komputerowe Projekt\\Predykcja_Karnych\\dataset\\karne_przerobione\\k2\\frame_0038.jpg: 352x512 1 ball, 1 person, 1 goal, 26.0ms\n",
      "image 40/202 C:\\Users\\user\\Desktop\\studia\\Widzenie Komputerowe Projekt\\Predykcja_Karnych\\dataset\\karne_przerobione\\k2\\frame_0039.jpg: 352x512 1 ball, 1 person, 1 goal, 25.4ms\n",
      "image 41/202 C:\\Users\\user\\Desktop\\studia\\Widzenie Komputerowe Projekt\\Predykcja_Karnych\\dataset\\karne_przerobione\\k2\\frame_0040.jpg: 352x512 1 ball, 1 person, 1 goal, 33.7ms\n",
      "image 42/202 C:\\Users\\user\\Desktop\\studia\\Widzenie Komputerowe Projekt\\Predykcja_Karnych\\dataset\\karne_przerobione\\k2\\frame_0041.jpg: 352x512 1 ball, 1 person, 1 goal, 23.7ms\n",
      "image 43/202 C:\\Users\\user\\Desktop\\studia\\Widzenie Komputerowe Projekt\\Predykcja_Karnych\\dataset\\karne_przerobione\\k2\\frame_0042.jpg: 352x512 1 ball, 1 person, 1 goal, 23.3ms\n",
      "image 44/202 C:\\Users\\user\\Desktop\\studia\\Widzenie Komputerowe Projekt\\Predykcja_Karnych\\dataset\\karne_przerobione\\k2\\frame_0043.jpg: 352x512 1 ball, 1 person, 1 goal, 23.5ms\n",
      "image 45/202 C:\\Users\\user\\Desktop\\studia\\Widzenie Komputerowe Projekt\\Predykcja_Karnych\\dataset\\karne_przerobione\\k2\\frame_0044.jpg: 352x512 1 ball, 1 person, 1 goal, 23.9ms\n",
      "image 46/202 C:\\Users\\user\\Desktop\\studia\\Widzenie Komputerowe Projekt\\Predykcja_Karnych\\dataset\\karne_przerobione\\k2\\frame_0045.jpg: 352x512 1 ball, 1 person, 1 goal, 30.1ms\n",
      "image 47/202 C:\\Users\\user\\Desktop\\studia\\Widzenie Komputerowe Projekt\\Predykcja_Karnych\\dataset\\karne_przerobione\\k2\\frame_0046.jpg: 352x512 1 ball, 1 person, 1 goal, 25.3ms\n",
      "image 48/202 C:\\Users\\user\\Desktop\\studia\\Widzenie Komputerowe Projekt\\Predykcja_Karnych\\dataset\\karne_przerobione\\k2\\frame_0047.jpg: 352x512 1 ball, 1 person, 1 goal, 23.7ms\n",
      "image 49/202 C:\\Users\\user\\Desktop\\studia\\Widzenie Komputerowe Projekt\\Predykcja_Karnych\\dataset\\karne_przerobione\\k2\\frame_0048.jpg: 352x512 1 ball, 1 person, 1 goal, 26.5ms\n",
      "image 50/202 C:\\Users\\user\\Desktop\\studia\\Widzenie Komputerowe Projekt\\Predykcja_Karnych\\dataset\\karne_przerobione\\k2\\frame_0049.jpg: 352x512 1 ball, 1 person, 1 goal, 27.5ms\n",
      "image 51/202 C:\\Users\\user\\Desktop\\studia\\Widzenie Komputerowe Projekt\\Predykcja_Karnych\\dataset\\karne_przerobione\\k2\\frame_0050.jpg: 352x512 1 ball, 1 person, 1 goal, 29.5ms\n",
      "image 52/202 C:\\Users\\user\\Desktop\\studia\\Widzenie Komputerowe Projekt\\Predykcja_Karnych\\dataset\\karne_przerobione\\k2\\frame_0051.jpg: 352x512 1 ball, 1 person, 1 goal, 75.1ms\n",
      "image 53/202 C:\\Users\\user\\Desktop\\studia\\Widzenie Komputerowe Projekt\\Predykcja_Karnych\\dataset\\karne_przerobione\\k2\\frame_0052.jpg: 352x512 1 ball, 1 person, 1 goal, 26.3ms\n",
      "image 54/202 C:\\Users\\user\\Desktop\\studia\\Widzenie Komputerowe Projekt\\Predykcja_Karnych\\dataset\\karne_przerobione\\k2\\frame_0053.jpg: 352x512 1 ball, 1 person, 1 goal, 24.7ms\n",
      "image 55/202 C:\\Users\\user\\Desktop\\studia\\Widzenie Komputerowe Projekt\\Predykcja_Karnych\\dataset\\karne_przerobione\\k2\\frame_0054.jpg: 352x512 1 ball, 1 person, 1 goal, 25.0ms\n",
      "image 56/202 C:\\Users\\user\\Desktop\\studia\\Widzenie Komputerowe Projekt\\Predykcja_Karnych\\dataset\\karne_przerobione\\k2\\frame_0055.jpg: 352x512 1 ball, 1 person, 1 goal, 25.6ms\n",
      "image 57/202 C:\\Users\\user\\Desktop\\studia\\Widzenie Komputerowe Projekt\\Predykcja_Karnych\\dataset\\karne_przerobione\\k2\\frame_0056.jpg: 352x512 1 ball, 1 person, 1 goal, 24.0ms\n",
      "image 58/202 C:\\Users\\user\\Desktop\\studia\\Widzenie Komputerowe Projekt\\Predykcja_Karnych\\dataset\\karne_przerobione\\k2\\frame_0057.jpg: 352x512 1 ball, 1 person, 1 goal, 28.9ms\n",
      "image 59/202 C:\\Users\\user\\Desktop\\studia\\Widzenie Komputerowe Projekt\\Predykcja_Karnych\\dataset\\karne_przerobione\\k2\\frame_0058.jpg: 352x512 1 ball, 1 person, 1 goal, 26.1ms\n",
      "image 60/202 C:\\Users\\user\\Desktop\\studia\\Widzenie Komputerowe Projekt\\Predykcja_Karnych\\dataset\\karne_przerobione\\k2\\frame_0059.jpg: 352x512 1 ball, 1 person, 1 goal, 26.2ms\n",
      "image 61/202 C:\\Users\\user\\Desktop\\studia\\Widzenie Komputerowe Projekt\\Predykcja_Karnych\\dataset\\karne_przerobione\\k2\\frame_0060.jpg: 352x512 1 ball, 1 person, 1 goal, 25.1ms\n",
      "image 62/202 C:\\Users\\user\\Desktop\\studia\\Widzenie Komputerowe Projekt\\Predykcja_Karnych\\dataset\\karne_przerobione\\k2\\frame_0061.jpg: 352x512 1 ball, 1 person, 1 goal, 32.3ms\n",
      "image 63/202 C:\\Users\\user\\Desktop\\studia\\Widzenie Komputerowe Projekt\\Predykcja_Karnych\\dataset\\karne_przerobione\\k2\\frame_0062.jpg: 352x512 1 ball, 1 person, 1 goal, 32.3ms\n",
      "image 64/202 C:\\Users\\user\\Desktop\\studia\\Widzenie Komputerowe Projekt\\Predykcja_Karnych\\dataset\\karne_przerobione\\k2\\frame_0063.jpg: 352x512 1 ball, 1 person, 1 goal, 27.2ms\n",
      "image 65/202 C:\\Users\\user\\Desktop\\studia\\Widzenie Komputerowe Projekt\\Predykcja_Karnych\\dataset\\karne_przerobione\\k2\\frame_0064.jpg: 352x512 1 ball, 1 person, 1 goal, 30.7ms\n",
      "image 66/202 C:\\Users\\user\\Desktop\\studia\\Widzenie Komputerowe Projekt\\Predykcja_Karnych\\dataset\\karne_przerobione\\k2\\frame_0065.jpg: 352x512 1 ball, 1 person, 1 goal, 28.7ms\n",
      "image 67/202 C:\\Users\\user\\Desktop\\studia\\Widzenie Komputerowe Projekt\\Predykcja_Karnych\\dataset\\karne_przerobione\\k2\\frame_0066.jpg: 352x512 1 ball, 1 person, 1 goal, 30.9ms\n",
      "image 68/202 C:\\Users\\user\\Desktop\\studia\\Widzenie Komputerowe Projekt\\Predykcja_Karnych\\dataset\\karne_przerobione\\k2\\frame_0067.jpg: 352x512 1 ball, 1 person, 1 goal, 27.6ms\n",
      "image 69/202 C:\\Users\\user\\Desktop\\studia\\Widzenie Komputerowe Projekt\\Predykcja_Karnych\\dataset\\karne_przerobione\\k2\\frame_0068.jpg: 352x512 1 ball, 1 person, 1 goal, 29.5ms\n",
      "image 70/202 C:\\Users\\user\\Desktop\\studia\\Widzenie Komputerowe Projekt\\Predykcja_Karnych\\dataset\\karne_przerobione\\k2\\frame_0069.jpg: 352x512 1 ball, 1 person, 1 goal, 29.5ms\n",
      "image 71/202 C:\\Users\\user\\Desktop\\studia\\Widzenie Komputerowe Projekt\\Predykcja_Karnych\\dataset\\karne_przerobione\\k2\\frame_0070.jpg: 352x512 1 ball, 1 person, 1 goal, 25.7ms\n",
      "image 72/202 C:\\Users\\user\\Desktop\\studia\\Widzenie Komputerowe Projekt\\Predykcja_Karnych\\dataset\\karne_przerobione\\k2\\frame_0071.jpg: 352x512 1 ball, 1 person, 1 goal, 32.4ms\n",
      "image 73/202 C:\\Users\\user\\Desktop\\studia\\Widzenie Komputerowe Projekt\\Predykcja_Karnych\\dataset\\karne_przerobione\\k2\\frame_0072.jpg: 352x512 1 ball, 1 person, 1 goal, 27.2ms\n",
      "image 74/202 C:\\Users\\user\\Desktop\\studia\\Widzenie Komputerowe Projekt\\Predykcja_Karnych\\dataset\\karne_przerobione\\k2\\frame_0073.jpg: 352x512 1 ball, 1 person, 1 goal, 27.1ms\n",
      "image 75/202 C:\\Users\\user\\Desktop\\studia\\Widzenie Komputerowe Projekt\\Predykcja_Karnych\\dataset\\karne_przerobione\\k2\\frame_0074.jpg: 352x512 1 ball, 1 person, 1 goal, 27.7ms\n",
      "image 76/202 C:\\Users\\user\\Desktop\\studia\\Widzenie Komputerowe Projekt\\Predykcja_Karnych\\dataset\\karne_przerobione\\k2\\frame_0075.jpg: 352x512 1 ball, 1 person, 1 goal, 29.2ms\n",
      "image 77/202 C:\\Users\\user\\Desktop\\studia\\Widzenie Komputerowe Projekt\\Predykcja_Karnych\\dataset\\karne_przerobione\\k2\\frame_0076.jpg: 352x512 1 ball, 1 person, 1 goal, 26.9ms\n",
      "image 78/202 C:\\Users\\user\\Desktop\\studia\\Widzenie Komputerowe Projekt\\Predykcja_Karnych\\dataset\\karne_przerobione\\k2\\frame_0077.jpg: 352x512 1 ball, 1 person, 1 goal, 28.0ms\n",
      "image 79/202 C:\\Users\\user\\Desktop\\studia\\Widzenie Komputerowe Projekt\\Predykcja_Karnych\\dataset\\karne_przerobione\\k2\\frame_0078.jpg: 352x512 1 ball, 1 person, 1 goal, 25.1ms\n",
      "image 80/202 C:\\Users\\user\\Desktop\\studia\\Widzenie Komputerowe Projekt\\Predykcja_Karnych\\dataset\\karne_przerobione\\k2\\frame_0079.jpg: 352x512 1 ball, 1 person, 1 goal, 27.6ms\n",
      "image 81/202 C:\\Users\\user\\Desktop\\studia\\Widzenie Komputerowe Projekt\\Predykcja_Karnych\\dataset\\karne_przerobione\\k2\\frame_0080.jpg: 352x512 1 ball, 1 person, 1 goal, 25.9ms\n",
      "image 82/202 C:\\Users\\user\\Desktop\\studia\\Widzenie Komputerowe Projekt\\Predykcja_Karnych\\dataset\\karne_przerobione\\k2\\frame_0081.jpg: 352x512 1 ball, 1 person, 1 goal, 26.5ms\n",
      "image 83/202 C:\\Users\\user\\Desktop\\studia\\Widzenie Komputerowe Projekt\\Predykcja_Karnych\\dataset\\karne_przerobione\\k2\\frame_0082.jpg: 352x512 1 ball, 1 person, 1 goal, 28.8ms\n",
      "image 84/202 C:\\Users\\user\\Desktop\\studia\\Widzenie Komputerowe Projekt\\Predykcja_Karnych\\dataset\\karne_przerobione\\k2\\frame_0083.jpg: 352x512 1 ball, 1 person, 1 goal, 27.8ms\n",
      "image 85/202 C:\\Users\\user\\Desktop\\studia\\Widzenie Komputerowe Projekt\\Predykcja_Karnych\\dataset\\karne_przerobione\\k2\\frame_0084.jpg: 352x512 1 ball, 1 person, 1 goal, 27.1ms\n",
      "image 86/202 C:\\Users\\user\\Desktop\\studia\\Widzenie Komputerowe Projekt\\Predykcja_Karnych\\dataset\\karne_przerobione\\k2\\frame_0085.jpg: 352x512 1 ball, 1 person, 1 goal, 26.9ms\n",
      "image 87/202 C:\\Users\\user\\Desktop\\studia\\Widzenie Komputerowe Projekt\\Predykcja_Karnych\\dataset\\karne_przerobione\\k2\\frame_0086.jpg: 352x512 1 ball, 1 person, 1 goal, 25.6ms\n",
      "image 88/202 C:\\Users\\user\\Desktop\\studia\\Widzenie Komputerowe Projekt\\Predykcja_Karnych\\dataset\\karne_przerobione\\k2\\frame_0087.jpg: 352x512 1 ball, 1 person, 1 goal, 27.5ms\n",
      "image 89/202 C:\\Users\\user\\Desktop\\studia\\Widzenie Komputerowe Projekt\\Predykcja_Karnych\\dataset\\karne_przerobione\\k2\\frame_0088.jpg: 352x512 1 ball, 1 person, 1 goal, 24.3ms\n",
      "image 90/202 C:\\Users\\user\\Desktop\\studia\\Widzenie Komputerowe Projekt\\Predykcja_Karnych\\dataset\\karne_przerobione\\k2\\frame_0089.jpg: 352x512 1 ball, 1 person, 1 goal, 25.6ms\n",
      "image 91/202 C:\\Users\\user\\Desktop\\studia\\Widzenie Komputerowe Projekt\\Predykcja_Karnych\\dataset\\karne_przerobione\\k2\\frame_0090.jpg: 352x512 1 ball, 1 person, 1 goal, 28.3ms\n",
      "image 92/202 C:\\Users\\user\\Desktop\\studia\\Widzenie Komputerowe Projekt\\Predykcja_Karnych\\dataset\\karne_przerobione\\k2\\frame_0091.jpg: 352x512 1 ball, 1 person, 1 goal, 24.6ms\n",
      "image 93/202 C:\\Users\\user\\Desktop\\studia\\Widzenie Komputerowe Projekt\\Predykcja_Karnych\\dataset\\karne_przerobione\\k2\\frame_0092.jpg: 352x512 1 ball, 1 person, 1 goal, 29.4ms\n",
      "image 94/202 C:\\Users\\user\\Desktop\\studia\\Widzenie Komputerowe Projekt\\Predykcja_Karnych\\dataset\\karne_przerobione\\k2\\frame_0093.jpg: 352x512 1 ball, 1 person, 1 goal, 32.6ms\n",
      "image 95/202 C:\\Users\\user\\Desktop\\studia\\Widzenie Komputerowe Projekt\\Predykcja_Karnych\\dataset\\karne_przerobione\\k2\\frame_0094.jpg: 352x512 1 ball, 1 person, 1 goal, 25.3ms\n",
      "image 96/202 C:\\Users\\user\\Desktop\\studia\\Widzenie Komputerowe Projekt\\Predykcja_Karnych\\dataset\\karne_przerobione\\k2\\frame_0095.jpg: 352x512 1 ball, 1 person, 1 goal, 24.6ms\n",
      "image 97/202 C:\\Users\\user\\Desktop\\studia\\Widzenie Komputerowe Projekt\\Predykcja_Karnych\\dataset\\karne_przerobione\\k2\\frame_0096.jpg: 352x512 1 ball, 1 person, 1 goal, 24.0ms\n",
      "image 98/202 C:\\Users\\user\\Desktop\\studia\\Widzenie Komputerowe Projekt\\Predykcja_Karnych\\dataset\\karne_przerobione\\k2\\frame_0097.jpg: 352x512 1 ball, 1 person, 1 goal, 25.2ms\n",
      "image 99/202 C:\\Users\\user\\Desktop\\studia\\Widzenie Komputerowe Projekt\\Predykcja_Karnych\\dataset\\karne_przerobione\\k2\\frame_0098.jpg: 352x512 1 ball, 1 person, 1 goal, 25.7ms\n",
      "image 100/202 C:\\Users\\user\\Desktop\\studia\\Widzenie Komputerowe Projekt\\Predykcja_Karnych\\dataset\\karne_przerobione\\k2\\frame_0099.jpg: 352x512 1 ball, 1 person, 1 goal, 24.5ms\n",
      "image 101/202 C:\\Users\\user\\Desktop\\studia\\Widzenie Komputerowe Projekt\\Predykcja_Karnych\\dataset\\karne_przerobione\\k2\\frame_0100.jpg: 352x512 1 ball, 1 person, 1 goal, 26.2ms\n",
      "image 102/202 C:\\Users\\user\\Desktop\\studia\\Widzenie Komputerowe Projekt\\Predykcja_Karnych\\dataset\\karne_przerobione\\k2\\frame_0101.jpg: 352x512 1 ball, 1 person, 1 goal, 26.5ms\n",
      "image 103/202 C:\\Users\\user\\Desktop\\studia\\Widzenie Komputerowe Projekt\\Predykcja_Karnych\\dataset\\karne_przerobione\\k2\\frame_0102.jpg: 352x512 1 ball, 1 person, 1 goal, 24.9ms\n",
      "image 104/202 C:\\Users\\user\\Desktop\\studia\\Widzenie Komputerowe Projekt\\Predykcja_Karnych\\dataset\\karne_przerobione\\k2\\frame_0103.jpg: 352x512 1 ball, 1 person, 1 goal, 28.1ms\n",
      "image 105/202 C:\\Users\\user\\Desktop\\studia\\Widzenie Komputerowe Projekt\\Predykcja_Karnych\\dataset\\karne_przerobione\\k2\\frame_0104.jpg: 352x512 1 ball, 1 person, 1 goal, 29.7ms\n",
      "image 106/202 C:\\Users\\user\\Desktop\\studia\\Widzenie Komputerowe Projekt\\Predykcja_Karnych\\dataset\\karne_przerobione\\k2\\frame_0105.jpg: 352x512 1 ball, 1 person, 1 goal, 29.4ms\n",
      "image 107/202 C:\\Users\\user\\Desktop\\studia\\Widzenie Komputerowe Projekt\\Predykcja_Karnych\\dataset\\karne_przerobione\\k2\\frame_0106.jpg: 352x512 1 ball, 1 person, 1 goal, 31.8ms\n",
      "image 108/202 C:\\Users\\user\\Desktop\\studia\\Widzenie Komputerowe Projekt\\Predykcja_Karnych\\dataset\\karne_przerobione\\k2\\frame_0107.jpg: 352x512 1 ball, 1 person, 1 goal, 25.6ms\n",
      "image 109/202 C:\\Users\\user\\Desktop\\studia\\Widzenie Komputerowe Projekt\\Predykcja_Karnych\\dataset\\karne_przerobione\\k2\\frame_0108.jpg: 352x512 1 ball, 1 person, 1 goal, 26.4ms\n",
      "image 110/202 C:\\Users\\user\\Desktop\\studia\\Widzenie Komputerowe Projekt\\Predykcja_Karnych\\dataset\\karne_przerobione\\k2\\frame_0109.jpg: 352x512 1 ball, 1 person, 1 goal, 26.0ms\n",
      "image 111/202 C:\\Users\\user\\Desktop\\studia\\Widzenie Komputerowe Projekt\\Predykcja_Karnych\\dataset\\karne_przerobione\\k2\\frame_0110.jpg: 352x512 1 ball, 1 person, 1 goal, 27.2ms\n",
      "image 112/202 C:\\Users\\user\\Desktop\\studia\\Widzenie Komputerowe Projekt\\Predykcja_Karnych\\dataset\\karne_przerobione\\k2\\frame_0111.jpg: 352x512 1 ball, 1 person, 1 goal, 25.3ms\n",
      "image 113/202 C:\\Users\\user\\Desktop\\studia\\Widzenie Komputerowe Projekt\\Predykcja_Karnych\\dataset\\karne_przerobione\\k2\\frame_0112.jpg: 352x512 1 ball, 1 person, 1 goal, 87.5ms\n",
      "image 114/202 C:\\Users\\user\\Desktop\\studia\\Widzenie Komputerowe Projekt\\Predykcja_Karnych\\dataset\\karne_przerobione\\k2\\frame_0113.jpg: 352x512 1 ball, 1 person, 1 goal, 33.0ms\n",
      "image 115/202 C:\\Users\\user\\Desktop\\studia\\Widzenie Komputerowe Projekt\\Predykcja_Karnych\\dataset\\karne_przerobione\\k2\\frame_0114.jpg: 352x512 1 ball, 1 person, 1 goal, 49.6ms\n",
      "image 116/202 C:\\Users\\user\\Desktop\\studia\\Widzenie Komputerowe Projekt\\Predykcja_Karnych\\dataset\\karne_przerobione\\k2\\frame_0115.jpg: 352x512 1 ball, 1 person, 1 goal, 36.6ms\n",
      "image 117/202 C:\\Users\\user\\Desktop\\studia\\Widzenie Komputerowe Projekt\\Predykcja_Karnych\\dataset\\karne_przerobione\\k2\\frame_0116.jpg: 352x512 1 ball, 1 person, 1 goal, 26.8ms\n",
      "image 118/202 C:\\Users\\user\\Desktop\\studia\\Widzenie Komputerowe Projekt\\Predykcja_Karnych\\dataset\\karne_przerobione\\k2\\frame_0117.jpg: 352x512 1 ball, 1 person, 1 goal, 24.8ms\n",
      "image 119/202 C:\\Users\\user\\Desktop\\studia\\Widzenie Komputerowe Projekt\\Predykcja_Karnych\\dataset\\karne_przerobione\\k2\\frame_0118.jpg: 352x512 1 ball, 1 person, 1 goal, 27.0ms\n",
      "image 120/202 C:\\Users\\user\\Desktop\\studia\\Widzenie Komputerowe Projekt\\Predykcja_Karnych\\dataset\\karne_przerobione\\k2\\frame_0119.jpg: 352x512 1 ball, 1 person, 1 goal, 27.4ms\n",
      "image 121/202 C:\\Users\\user\\Desktop\\studia\\Widzenie Komputerowe Projekt\\Predykcja_Karnych\\dataset\\karne_przerobione\\k2\\frame_0120.jpg: 352x512 1 ball, 1 person, 1 goal, 29.5ms\n",
      "image 122/202 C:\\Users\\user\\Desktop\\studia\\Widzenie Komputerowe Projekt\\Predykcja_Karnych\\dataset\\karne_przerobione\\k2\\frame_0121.jpg: 352x512 1 ball, 1 person, 1 goal, 27.5ms\n",
      "image 123/202 C:\\Users\\user\\Desktop\\studia\\Widzenie Komputerowe Projekt\\Predykcja_Karnych\\dataset\\karne_przerobione\\k2\\frame_0122.jpg: 352x512 1 ball, 1 person, 1 goal, 26.1ms\n",
      "image 124/202 C:\\Users\\user\\Desktop\\studia\\Widzenie Komputerowe Projekt\\Predykcja_Karnych\\dataset\\karne_przerobione\\k2\\frame_0123.jpg: 352x512 1 ball, 1 person, 1 goal, 26.7ms\n",
      "image 125/202 C:\\Users\\user\\Desktop\\studia\\Widzenie Komputerowe Projekt\\Predykcja_Karnych\\dataset\\karne_przerobione\\k2\\frame_0124.jpg: 352x512 1 ball, 1 person, 1 goal, 37.5ms\n",
      "image 126/202 C:\\Users\\user\\Desktop\\studia\\Widzenie Komputerowe Projekt\\Predykcja_Karnych\\dataset\\karne_przerobione\\k2\\frame_0125.jpg: 352x512 1 ball, 1 person, 1 goal, 27.7ms\n",
      "image 127/202 C:\\Users\\user\\Desktop\\studia\\Widzenie Komputerowe Projekt\\Predykcja_Karnych\\dataset\\karne_przerobione\\k2\\frame_0126.jpg: 352x512 1 ball, 1 person, 1 goal, 24.4ms\n",
      "image 128/202 C:\\Users\\user\\Desktop\\studia\\Widzenie Komputerowe Projekt\\Predykcja_Karnych\\dataset\\karne_przerobione\\k2\\frame_0127.jpg: 352x512 1 ball, 1 person, 1 goal, 25.3ms\n",
      "image 129/202 C:\\Users\\user\\Desktop\\studia\\Widzenie Komputerowe Projekt\\Predykcja_Karnych\\dataset\\karne_przerobione\\k2\\frame_0128.jpg: 352x512 1 ball, 1 person, 1 goal, 24.5ms\n",
      "image 130/202 C:\\Users\\user\\Desktop\\studia\\Widzenie Komputerowe Projekt\\Predykcja_Karnych\\dataset\\karne_przerobione\\k2\\frame_0129.jpg: 352x512 1 ball, 1 person, 1 goal, 25.4ms\n",
      "image 131/202 C:\\Users\\user\\Desktop\\studia\\Widzenie Komputerowe Projekt\\Predykcja_Karnych\\dataset\\karne_przerobione\\k2\\frame_0130.jpg: 352x512 1 ball, 1 person, 1 goal, 26.2ms\n",
      "image 132/202 C:\\Users\\user\\Desktop\\studia\\Widzenie Komputerowe Projekt\\Predykcja_Karnych\\dataset\\karne_przerobione\\k2\\frame_0131.jpg: 352x512 1 ball, 1 person, 1 goal, 25.5ms\n",
      "image 133/202 C:\\Users\\user\\Desktop\\studia\\Widzenie Komputerowe Projekt\\Predykcja_Karnych\\dataset\\karne_przerobione\\k2\\frame_0132.jpg: 352x512 1 ball, 1 person, 1 goal, 26.7ms\n",
      "image 134/202 C:\\Users\\user\\Desktop\\studia\\Widzenie Komputerowe Projekt\\Predykcja_Karnych\\dataset\\karne_przerobione\\k2\\frame_0133.jpg: 352x512 1 ball, 1 person, 1 goal, 26.2ms\n",
      "image 135/202 C:\\Users\\user\\Desktop\\studia\\Widzenie Komputerowe Projekt\\Predykcja_Karnych\\dataset\\karne_przerobione\\k2\\frame_0134.jpg: 352x512 1 ball, 1 person, 1 goal, 31.6ms\n",
      "image 136/202 C:\\Users\\user\\Desktop\\studia\\Widzenie Komputerowe Projekt\\Predykcja_Karnych\\dataset\\karne_przerobione\\k2\\frame_0135.jpg: 352x512 1 ball, 1 person, 1 goal, 40.8ms\n",
      "image 137/202 C:\\Users\\user\\Desktop\\studia\\Widzenie Komputerowe Projekt\\Predykcja_Karnych\\dataset\\karne_przerobione\\k2\\frame_0136.jpg: 352x512 1 ball, 1 person, 1 goal, 25.3ms\n",
      "image 138/202 C:\\Users\\user\\Desktop\\studia\\Widzenie Komputerowe Projekt\\Predykcja_Karnych\\dataset\\karne_przerobione\\k2\\frame_0137.jpg: 352x512 1 ball, 1 person, 1 goal, 26.4ms\n",
      "image 139/202 C:\\Users\\user\\Desktop\\studia\\Widzenie Komputerowe Projekt\\Predykcja_Karnych\\dataset\\karne_przerobione\\k2\\frame_0138.jpg: 352x512 1 person, 1 goal, 28.5ms\n",
      "image 140/202 C:\\Users\\user\\Desktop\\studia\\Widzenie Komputerowe Projekt\\Predykcja_Karnych\\dataset\\karne_przerobione\\k2\\frame_0139.jpg: 352x512 1 person, 1 goal, 29.6ms\n",
      "image 141/202 C:\\Users\\user\\Desktop\\studia\\Widzenie Komputerowe Projekt\\Predykcja_Karnych\\dataset\\karne_przerobione\\k2\\frame_0140.jpg: 352x512 1 person, 1 goal, 28.9ms\n",
      "image 142/202 C:\\Users\\user\\Desktop\\studia\\Widzenie Komputerowe Projekt\\Predykcja_Karnych\\dataset\\karne_przerobione\\k2\\frame_0141.jpg: 352x512 1 person, 1 goal, 28.4ms\n",
      "image 143/202 C:\\Users\\user\\Desktop\\studia\\Widzenie Komputerowe Projekt\\Predykcja_Karnych\\dataset\\karne_przerobione\\k2\\frame_0142.jpg: 352x512 1 person, 1 goal, 26.0ms\n",
      "image 144/202 C:\\Users\\user\\Desktop\\studia\\Widzenie Komputerowe Projekt\\Predykcja_Karnych\\dataset\\karne_przerobione\\k2\\frame_0143.jpg: 352x512 1 person, 1 goal, 27.3ms\n",
      "image 145/202 C:\\Users\\user\\Desktop\\studia\\Widzenie Komputerowe Projekt\\Predykcja_Karnych\\dataset\\karne_przerobione\\k2\\frame_0144.jpg: 352x512 1 person, 1 goal, 24.2ms\n",
      "image 146/202 C:\\Users\\user\\Desktop\\studia\\Widzenie Komputerowe Projekt\\Predykcja_Karnych\\dataset\\karne_przerobione\\k2\\frame_0145.jpg: 352x512 1 person, 1 goal, 38.8ms\n",
      "image 147/202 C:\\Users\\user\\Desktop\\studia\\Widzenie Komputerowe Projekt\\Predykcja_Karnych\\dataset\\karne_przerobione\\k2\\frame_0146.jpg: 352x512 1 person, 1 goal, 29.6ms\n",
      "image 148/202 C:\\Users\\user\\Desktop\\studia\\Widzenie Komputerowe Projekt\\Predykcja_Karnych\\dataset\\karne_przerobione\\k2\\frame_0147.jpg: 352x512 1 person, 1 goal, 29.4ms\n",
      "image 149/202 C:\\Users\\user\\Desktop\\studia\\Widzenie Komputerowe Projekt\\Predykcja_Karnych\\dataset\\karne_przerobione\\k2\\frame_0148.jpg: 352x512 1 person, 1 goal, 26.9ms\n",
      "image 150/202 C:\\Users\\user\\Desktop\\studia\\Widzenie Komputerowe Projekt\\Predykcja_Karnych\\dataset\\karne_przerobione\\k2\\frame_0149.jpg: 352x512 1 person, 1 goal, 28.8ms\n",
      "image 151/202 C:\\Users\\user\\Desktop\\studia\\Widzenie Komputerowe Projekt\\Predykcja_Karnych\\dataset\\karne_przerobione\\k2\\frame_0150.jpg: 352x512 1 person, 1 goal, 26.7ms\n",
      "image 152/202 C:\\Users\\user\\Desktop\\studia\\Widzenie Komputerowe Projekt\\Predykcja_Karnych\\dataset\\karne_przerobione\\k2\\frame_0151.jpg: 352x512 1 person, 1 goal, 28.5ms\n",
      "image 153/202 C:\\Users\\user\\Desktop\\studia\\Widzenie Komputerowe Projekt\\Predykcja_Karnych\\dataset\\karne_przerobione\\k2\\frame_0152.jpg: 352x512 1 person, 1 goal, 25.0ms\n",
      "image 154/202 C:\\Users\\user\\Desktop\\studia\\Widzenie Komputerowe Projekt\\Predykcja_Karnych\\dataset\\karne_przerobione\\k2\\frame_0153.jpg: 352x512 1 person, 1 goal, 26.8ms\n",
      "image 155/202 C:\\Users\\user\\Desktop\\studia\\Widzenie Komputerowe Projekt\\Predykcja_Karnych\\dataset\\karne_przerobione\\k2\\frame_0154.jpg: 352x512 1 person, 1 goal, 25.2ms\n",
      "image 156/202 C:\\Users\\user\\Desktop\\studia\\Widzenie Komputerowe Projekt\\Predykcja_Karnych\\dataset\\karne_przerobione\\k2\\frame_0155.jpg: 352x512 1 person, 1 goal, 30.7ms\n",
      "image 157/202 C:\\Users\\user\\Desktop\\studia\\Widzenie Komputerowe Projekt\\Predykcja_Karnych\\dataset\\karne_przerobione\\k2\\frame_0156.jpg: 352x512 1 person, 1 goal, 30.3ms\n",
      "image 158/202 C:\\Users\\user\\Desktop\\studia\\Widzenie Komputerowe Projekt\\Predykcja_Karnych\\dataset\\karne_przerobione\\k2\\frame_0157.jpg: 352x512 1 person, 1 goal, 28.8ms\n",
      "image 159/202 C:\\Users\\user\\Desktop\\studia\\Widzenie Komputerowe Projekt\\Predykcja_Karnych\\dataset\\karne_przerobione\\k2\\frame_0158.jpg: 352x512 1 person, 1 goal, 26.8ms\n",
      "image 160/202 C:\\Users\\user\\Desktop\\studia\\Widzenie Komputerowe Projekt\\Predykcja_Karnych\\dataset\\karne_przerobione\\k2\\frame_0159.jpg: 352x512 1 person, 1 goal, 27.7ms\n",
      "image 161/202 C:\\Users\\user\\Desktop\\studia\\Widzenie Komputerowe Projekt\\Predykcja_Karnych\\dataset\\karne_przerobione\\k2\\frame_0160.jpg: 352x512 1 person, 1 goal, 22.8ms\n",
      "image 162/202 C:\\Users\\user\\Desktop\\studia\\Widzenie Komputerowe Projekt\\Predykcja_Karnych\\dataset\\karne_przerobione\\k2\\frame_0161.jpg: 352x512 1 person, 1 goal, 23.2ms\n",
      "image 163/202 C:\\Users\\user\\Desktop\\studia\\Widzenie Komputerowe Projekt\\Predykcja_Karnych\\dataset\\karne_przerobione\\k2\\frame_0162.jpg: 352x512 1 person, 1 goal, 23.8ms\n",
      "image 164/202 C:\\Users\\user\\Desktop\\studia\\Widzenie Komputerowe Projekt\\Predykcja_Karnych\\dataset\\karne_przerobione\\k2\\frame_0163.jpg: 352x512 1 person, 1 goal, 23.8ms\n",
      "image 165/202 C:\\Users\\user\\Desktop\\studia\\Widzenie Komputerowe Projekt\\Predykcja_Karnych\\dataset\\karne_przerobione\\k2\\frame_0164.jpg: 352x512 1 person, 1 goal, 27.8ms\n",
      "image 166/202 C:\\Users\\user\\Desktop\\studia\\Widzenie Komputerowe Projekt\\Predykcja_Karnych\\dataset\\karne_przerobione\\k2\\frame_0165.jpg: 352x512 1 person, 1 goal, 23.8ms\n",
      "image 167/202 C:\\Users\\user\\Desktop\\studia\\Widzenie Komputerowe Projekt\\Predykcja_Karnych\\dataset\\karne_przerobione\\k2\\frame_0166.jpg: 352x512 1 person, 1 goal, 28.1ms\n",
      "image 168/202 C:\\Users\\user\\Desktop\\studia\\Widzenie Komputerowe Projekt\\Predykcja_Karnych\\dataset\\karne_przerobione\\k2\\frame_0167.jpg: 352x512 1 person, 1 goal, 39.8ms\n",
      "image 169/202 C:\\Users\\user\\Desktop\\studia\\Widzenie Komputerowe Projekt\\Predykcja_Karnych\\dataset\\karne_przerobione\\k2\\frame_0168.jpg: 352x512 1 person, 1 goal, 24.3ms\n",
      "image 170/202 C:\\Users\\user\\Desktop\\studia\\Widzenie Komputerowe Projekt\\Predykcja_Karnych\\dataset\\karne_przerobione\\k2\\frame_0169.jpg: 352x512 1 person, 1 goal, 24.7ms\n",
      "image 171/202 C:\\Users\\user\\Desktop\\studia\\Widzenie Komputerowe Projekt\\Predykcja_Karnych\\dataset\\karne_przerobione\\k2\\frame_0170.jpg: 352x512 1 person, 1 goal, 24.6ms\n",
      "image 172/202 C:\\Users\\user\\Desktop\\studia\\Widzenie Komputerowe Projekt\\Predykcja_Karnych\\dataset\\karne_przerobione\\k2\\frame_0171.jpg: 352x512 1 person, 1 goal, 23.7ms\n",
      "image 173/202 C:\\Users\\user\\Desktop\\studia\\Widzenie Komputerowe Projekt\\Predykcja_Karnych\\dataset\\karne_przerobione\\k2\\frame_0172.jpg: 352x512 1 ball, 1 person, 1 goal, 32.6ms\n",
      "image 174/202 C:\\Users\\user\\Desktop\\studia\\Widzenie Komputerowe Projekt\\Predykcja_Karnych\\dataset\\karne_przerobione\\k2\\frame_0173.jpg: 352x512 1 ball, 1 person, 1 goal, 31.2ms\n",
      "image 175/202 C:\\Users\\user\\Desktop\\studia\\Widzenie Komputerowe Projekt\\Predykcja_Karnych\\dataset\\karne_przerobione\\k2\\frame_0174.jpg: 352x512 1 ball, 1 person, 1 goal, 27.2ms\n",
      "image 176/202 C:\\Users\\user\\Desktop\\studia\\Widzenie Komputerowe Projekt\\Predykcja_Karnych\\dataset\\karne_przerobione\\k2\\frame_0175.jpg: 352x512 1 ball, 1 person, 1 goal, 27.1ms\n",
      "image 177/202 C:\\Users\\user\\Desktop\\studia\\Widzenie Komputerowe Projekt\\Predykcja_Karnych\\dataset\\karne_przerobione\\k2\\frame_0176.jpg: 352x512 1 ball, 1 person, 1 goal, 28.3ms\n",
      "image 178/202 C:\\Users\\user\\Desktop\\studia\\Widzenie Komputerowe Projekt\\Predykcja_Karnych\\dataset\\karne_przerobione\\k2\\frame_0177.jpg: 352x512 1 ball, 1 person, 1 goal, 31.8ms\n",
      "image 179/202 C:\\Users\\user\\Desktop\\studia\\Widzenie Komputerowe Projekt\\Predykcja_Karnych\\dataset\\karne_przerobione\\k2\\frame_0178.jpg: 352x512 1 person, 1 goal, 24.8ms\n",
      "image 180/202 C:\\Users\\user\\Desktop\\studia\\Widzenie Komputerowe Projekt\\Predykcja_Karnych\\dataset\\karne_przerobione\\k2\\frame_0179.jpg: 352x512 2 balls, 1 person, 1 goal, 22.5ms\n",
      "image 181/202 C:\\Users\\user\\Desktop\\studia\\Widzenie Komputerowe Projekt\\Predykcja_Karnych\\dataset\\karne_przerobione\\k2\\frame_0180.jpg: 352x512 1 ball, 1 person, 1 goal, 24.7ms\n",
      "image 182/202 C:\\Users\\user\\Desktop\\studia\\Widzenie Komputerowe Projekt\\Predykcja_Karnych\\dataset\\karne_przerobione\\k2\\frame_0181.jpg: 352x512 1 ball, 1 person, 1 goal, 26.0ms\n",
      "image 183/202 C:\\Users\\user\\Desktop\\studia\\Widzenie Komputerowe Projekt\\Predykcja_Karnych\\dataset\\karne_przerobione\\k2\\frame_0182.jpg: 352x512 1 ball, 1 person, 1 goal, 22.4ms\n",
      "image 184/202 C:\\Users\\user\\Desktop\\studia\\Widzenie Komputerowe Projekt\\Predykcja_Karnych\\dataset\\karne_przerobione\\k2\\frame_0183.jpg: 352x512 1 ball, 1 person, 1 goal, 25.4ms\n",
      "image 185/202 C:\\Users\\user\\Desktop\\studia\\Widzenie Komputerowe Projekt\\Predykcja_Karnych\\dataset\\karne_przerobione\\k2\\frame_0184.jpg: 352x512 1 ball, 1 person, 1 goal, 24.6ms\n",
      "image 186/202 C:\\Users\\user\\Desktop\\studia\\Widzenie Komputerowe Projekt\\Predykcja_Karnych\\dataset\\karne_przerobione\\k2\\frame_0185.jpg: 352x512 1 ball, 1 person, 1 goal, 24.6ms\n",
      "image 187/202 C:\\Users\\user\\Desktop\\studia\\Widzenie Komputerowe Projekt\\Predykcja_Karnych\\dataset\\karne_przerobione\\k2\\frame_0186.jpg: 352x512 1 person, 1 goal, 26.1ms\n",
      "image 188/202 C:\\Users\\user\\Desktop\\studia\\Widzenie Komputerowe Projekt\\Predykcja_Karnych\\dataset\\karne_przerobione\\k2\\frame_0187.jpg: 352x512 1 person, 1 goal, 28.4ms\n",
      "image 189/202 C:\\Users\\user\\Desktop\\studia\\Widzenie Komputerowe Projekt\\Predykcja_Karnych\\dataset\\karne_przerobione\\k2\\frame_0188.jpg: 352x512 1 ball, 1 person, 1 goal, 32.4ms\n",
      "image 190/202 C:\\Users\\user\\Desktop\\studia\\Widzenie Komputerowe Projekt\\Predykcja_Karnych\\dataset\\karne_przerobione\\k2\\frame_0189.jpg: 352x512 1 ball, 1 person, 1 goal, 26.5ms\n",
      "image 191/202 C:\\Users\\user\\Desktop\\studia\\Widzenie Komputerowe Projekt\\Predykcja_Karnych\\dataset\\karne_przerobione\\k2\\frame_0190.jpg: 352x512 1 ball, 1 person, 1 goal, 29.4ms\n",
      "image 192/202 C:\\Users\\user\\Desktop\\studia\\Widzenie Komputerowe Projekt\\Predykcja_Karnych\\dataset\\karne_przerobione\\k2\\frame_0191.jpg: 352x512 1 ball, 1 person, 1 goal, 25.4ms\n",
      "image 193/202 C:\\Users\\user\\Desktop\\studia\\Widzenie Komputerowe Projekt\\Predykcja_Karnych\\dataset\\karne_przerobione\\k2\\frame_0192.jpg: 352x512 1 ball, 1 person, 1 goal, 27.2ms\n",
      "image 194/202 C:\\Users\\user\\Desktop\\studia\\Widzenie Komputerowe Projekt\\Predykcja_Karnych\\dataset\\karne_przerobione\\k2\\frame_0193.jpg: 352x512 1 ball, 1 person, 1 goal, 25.6ms\n",
      "image 195/202 C:\\Users\\user\\Desktop\\studia\\Widzenie Komputerowe Projekt\\Predykcja_Karnych\\dataset\\karne_przerobione\\k2\\frame_0194.jpg: 352x512 1 ball, 1 person, 1 goal, 29.4ms\n",
      "image 196/202 C:\\Users\\user\\Desktop\\studia\\Widzenie Komputerowe Projekt\\Predykcja_Karnych\\dataset\\karne_przerobione\\k2\\frame_0195.jpg: 352x512 1 ball, 1 person, 1 goal, 30.2ms\n",
      "image 197/202 C:\\Users\\user\\Desktop\\studia\\Widzenie Komputerowe Projekt\\Predykcja_Karnych\\dataset\\karne_przerobione\\k2\\frame_0196.jpg: 352x512 1 ball, 1 person, 1 goal, 32.6ms\n",
      "image 198/202 C:\\Users\\user\\Desktop\\studia\\Widzenie Komputerowe Projekt\\Predykcja_Karnych\\dataset\\karne_przerobione\\k2\\frame_0197.jpg: 352x512 1 ball, 1 person, 1 goal, 27.5ms\n",
      "image 199/202 C:\\Users\\user\\Desktop\\studia\\Widzenie Komputerowe Projekt\\Predykcja_Karnych\\dataset\\karne_przerobione\\k2\\frame_0198.jpg: 352x512 1 ball, 1 person, 1 goal, 33.7ms\n",
      "image 200/202 C:\\Users\\user\\Desktop\\studia\\Widzenie Komputerowe Projekt\\Predykcja_Karnych\\dataset\\karne_przerobione\\k2\\frame_0199.jpg: 352x512 1 ball, 1 person, 1 goal, 37.1ms\n",
      "image 201/202 C:\\Users\\user\\Desktop\\studia\\Widzenie Komputerowe Projekt\\Predykcja_Karnych\\dataset\\karne_przerobione\\k2\\frame_0200.jpg: 352x512 1 ball, 1 person, 1 goal, 29.3ms\n",
      "image 202/202 C:\\Users\\user\\Desktop\\studia\\Widzenie Komputerowe Projekt\\Predykcja_Karnych\\dataset\\karne_przerobione\\k2\\frame_0201.jpg: 352x512 1 ball, 1 person, 1 goal, 30.5ms\n",
      "Speed: 1.3ms preprocess, 27.8ms inference, 0.6ms postprocess per image at shape (1, 3, 352, 512)\n",
      "Results saved to \u001B[1mC:\\Users\\user\\Desktop\\studia\\Widzenie Komputerowe Projekt\\Predykcja_Karnych\\runs\\detect\\predict_k2\\predict2\u001B[0m\n",
      "Przetwarzanie folderu: k3...\n",
      "\n",
      "image 1/217 C:\\Users\\user\\Desktop\\studia\\Widzenie Komputerowe Projekt\\Predykcja_Karnych\\dataset\\karne_przerobione\\k3\\frame_0000.jpg: 352x512 1 ball, 1 person, 1 goal, 33.0ms\n",
      "image 2/217 C:\\Users\\user\\Desktop\\studia\\Widzenie Komputerowe Projekt\\Predykcja_Karnych\\dataset\\karne_przerobione\\k3\\frame_0001.jpg: 352x512 1 ball, 1 person, 1 goal, 28.1ms\n",
      "image 3/217 C:\\Users\\user\\Desktop\\studia\\Widzenie Komputerowe Projekt\\Predykcja_Karnych\\dataset\\karne_przerobione\\k3\\frame_0002.jpg: 352x512 1 ball, 1 person, 1 goal, 30.9ms\n",
      "image 4/217 C:\\Users\\user\\Desktop\\studia\\Widzenie Komputerowe Projekt\\Predykcja_Karnych\\dataset\\karne_przerobione\\k3\\frame_0003.jpg: 352x512 1 ball, 1 person, 1 goal, 31.1ms\n",
      "image 5/217 C:\\Users\\user\\Desktop\\studia\\Widzenie Komputerowe Projekt\\Predykcja_Karnych\\dataset\\karne_przerobione\\k3\\frame_0004.jpg: 352x512 1 ball, 1 person, 1 goal, 30.6ms\n",
      "image 6/217 C:\\Users\\user\\Desktop\\studia\\Widzenie Komputerowe Projekt\\Predykcja_Karnych\\dataset\\karne_przerobione\\k3\\frame_0005.jpg: 352x512 1 ball, 1 person, 1 goal, 33.7ms\n",
      "image 7/217 C:\\Users\\user\\Desktop\\studia\\Widzenie Komputerowe Projekt\\Predykcja_Karnych\\dataset\\karne_przerobione\\k3\\frame_0006.jpg: 352x512 1 ball, 1 person, 1 goal, 40.3ms\n",
      "image 8/217 C:\\Users\\user\\Desktop\\studia\\Widzenie Komputerowe Projekt\\Predykcja_Karnych\\dataset\\karne_przerobione\\k3\\frame_0007.jpg: 352x512 1 ball, 1 person, 1 goal, 34.2ms\n",
      "image 9/217 C:\\Users\\user\\Desktop\\studia\\Widzenie Komputerowe Projekt\\Predykcja_Karnych\\dataset\\karne_przerobione\\k3\\frame_0008.jpg: 352x512 1 ball, 1 person, 1 goal, 34.6ms\n",
      "image 10/217 C:\\Users\\user\\Desktop\\studia\\Widzenie Komputerowe Projekt\\Predykcja_Karnych\\dataset\\karne_przerobione\\k3\\frame_0009.jpg: 352x512 1 ball, 1 person, 1 goal, 33.3ms\n",
      "image 11/217 C:\\Users\\user\\Desktop\\studia\\Widzenie Komputerowe Projekt\\Predykcja_Karnych\\dataset\\karne_przerobione\\k3\\frame_0010.jpg: 352x512 1 ball, 1 person, 1 goal, 30.3ms\n",
      "image 12/217 C:\\Users\\user\\Desktop\\studia\\Widzenie Komputerowe Projekt\\Predykcja_Karnych\\dataset\\karne_przerobione\\k3\\frame_0011.jpg: 352x512 1 ball, 1 person, 1 goal, 26.6ms\n",
      "image 13/217 C:\\Users\\user\\Desktop\\studia\\Widzenie Komputerowe Projekt\\Predykcja_Karnych\\dataset\\karne_przerobione\\k3\\frame_0012.jpg: 352x512 1 ball, 1 person, 1 goal, 30.0ms\n",
      "image 14/217 C:\\Users\\user\\Desktop\\studia\\Widzenie Komputerowe Projekt\\Predykcja_Karnych\\dataset\\karne_przerobione\\k3\\frame_0013.jpg: 352x512 1 ball, 1 person, 1 goal, 27.4ms\n",
      "image 15/217 C:\\Users\\user\\Desktop\\studia\\Widzenie Komputerowe Projekt\\Predykcja_Karnych\\dataset\\karne_przerobione\\k3\\frame_0014.jpg: 352x512 1 ball, 1 person, 1 goal, 25.1ms\n",
      "image 16/217 C:\\Users\\user\\Desktop\\studia\\Widzenie Komputerowe Projekt\\Predykcja_Karnych\\dataset\\karne_przerobione\\k3\\frame_0015.jpg: 352x512 1 ball, 1 person, 1 goal, 28.3ms\n",
      "image 17/217 C:\\Users\\user\\Desktop\\studia\\Widzenie Komputerowe Projekt\\Predykcja_Karnych\\dataset\\karne_przerobione\\k3\\frame_0016.jpg: 352x512 1 ball, 1 person, 1 goal, 27.6ms\n",
      "image 18/217 C:\\Users\\user\\Desktop\\studia\\Widzenie Komputerowe Projekt\\Predykcja_Karnych\\dataset\\karne_przerobione\\k3\\frame_0017.jpg: 352x512 1 ball, 1 person, 1 goal, 24.5ms\n",
      "image 19/217 C:\\Users\\user\\Desktop\\studia\\Widzenie Komputerowe Projekt\\Predykcja_Karnych\\dataset\\karne_przerobione\\k3\\frame_0018.jpg: 352x512 1 ball, 1 person, 1 goal, 25.8ms\n",
      "image 20/217 C:\\Users\\user\\Desktop\\studia\\Widzenie Komputerowe Projekt\\Predykcja_Karnych\\dataset\\karne_przerobione\\k3\\frame_0019.jpg: 352x512 1 ball, 1 person, 1 goal, 24.3ms\n",
      "image 21/217 C:\\Users\\user\\Desktop\\studia\\Widzenie Komputerowe Projekt\\Predykcja_Karnych\\dataset\\karne_przerobione\\k3\\frame_0020.jpg: 352x512 1 ball, 1 person, 1 goal, 26.5ms\n",
      "image 22/217 C:\\Users\\user\\Desktop\\studia\\Widzenie Komputerowe Projekt\\Predykcja_Karnych\\dataset\\karne_przerobione\\k3\\frame_0021.jpg: 352x512 1 ball, 1 person, 1 goal, 27.7ms\n",
      "image 23/217 C:\\Users\\user\\Desktop\\studia\\Widzenie Komputerowe Projekt\\Predykcja_Karnych\\dataset\\karne_przerobione\\k3\\frame_0022.jpg: 352x512 1 ball, 1 person, 1 goal, 28.3ms\n",
      "image 24/217 C:\\Users\\user\\Desktop\\studia\\Widzenie Komputerowe Projekt\\Predykcja_Karnych\\dataset\\karne_przerobione\\k3\\frame_0023.jpg: 352x512 1 ball, 1 person, 1 goal, 25.4ms\n",
      "image 25/217 C:\\Users\\user\\Desktop\\studia\\Widzenie Komputerowe Projekt\\Predykcja_Karnych\\dataset\\karne_przerobione\\k3\\frame_0024.jpg: 352x512 1 ball, 1 person, 1 goal, 36.7ms\n",
      "image 26/217 C:\\Users\\user\\Desktop\\studia\\Widzenie Komputerowe Projekt\\Predykcja_Karnych\\dataset\\karne_przerobione\\k3\\frame_0025.jpg: 352x512 1 ball, 1 person, 1 goal, 32.8ms\n",
      "image 27/217 C:\\Users\\user\\Desktop\\studia\\Widzenie Komputerowe Projekt\\Predykcja_Karnych\\dataset\\karne_przerobione\\k3\\frame_0026.jpg: 352x512 1 ball, 1 person, 1 goal, 36.4ms\n",
      "image 28/217 C:\\Users\\user\\Desktop\\studia\\Widzenie Komputerowe Projekt\\Predykcja_Karnych\\dataset\\karne_przerobione\\k3\\frame_0027.jpg: 352x512 1 ball, 1 person, 1 goal, 28.4ms\n",
      "image 29/217 C:\\Users\\user\\Desktop\\studia\\Widzenie Komputerowe Projekt\\Predykcja_Karnych\\dataset\\karne_przerobione\\k3\\frame_0028.jpg: 352x512 1 ball, 1 person, 1 goal, 31.1ms\n",
      "image 30/217 C:\\Users\\user\\Desktop\\studia\\Widzenie Komputerowe Projekt\\Predykcja_Karnych\\dataset\\karne_przerobione\\k3\\frame_0029.jpg: 352x512 1 ball, 1 person, 1 goal, 46.9ms\n",
      "image 31/217 C:\\Users\\user\\Desktop\\studia\\Widzenie Komputerowe Projekt\\Predykcja_Karnych\\dataset\\karne_przerobione\\k3\\frame_0030.jpg: 352x512 1 ball, 1 person, 1 goal, 48.3ms\n",
      "image 32/217 C:\\Users\\user\\Desktop\\studia\\Widzenie Komputerowe Projekt\\Predykcja_Karnych\\dataset\\karne_przerobione\\k3\\frame_0031.jpg: 352x512 1 ball, 1 person, 1 goal, 46.6ms\n",
      "image 33/217 C:\\Users\\user\\Desktop\\studia\\Widzenie Komputerowe Projekt\\Predykcja_Karnych\\dataset\\karne_przerobione\\k3\\frame_0032.jpg: 352x512 1 ball, 1 person, 1 goal, 34.7ms\n",
      "image 34/217 C:\\Users\\user\\Desktop\\studia\\Widzenie Komputerowe Projekt\\Predykcja_Karnych\\dataset\\karne_przerobione\\k3\\frame_0033.jpg: 352x512 1 ball, 1 person, 1 goal, 45.4ms\n",
      "image 35/217 C:\\Users\\user\\Desktop\\studia\\Widzenie Komputerowe Projekt\\Predykcja_Karnych\\dataset\\karne_przerobione\\k3\\frame_0034.jpg: 352x512 1 ball, 1 person, 1 goal, 82.1ms\n",
      "image 36/217 C:\\Users\\user\\Desktop\\studia\\Widzenie Komputerowe Projekt\\Predykcja_Karnych\\dataset\\karne_przerobione\\k3\\frame_0035.jpg: 352x512 1 ball, 1 person, 1 goal, 40.5ms\n",
      "image 37/217 C:\\Users\\user\\Desktop\\studia\\Widzenie Komputerowe Projekt\\Predykcja_Karnych\\dataset\\karne_przerobione\\k3\\frame_0036.jpg: 352x512 1 ball, 1 person, 1 goal, 78.9ms\n",
      "image 38/217 C:\\Users\\user\\Desktop\\studia\\Widzenie Komputerowe Projekt\\Predykcja_Karnych\\dataset\\karne_przerobione\\k3\\frame_0037.jpg: 352x512 1 ball, 1 person, 1 goal, 50.5ms\n",
      "image 39/217 C:\\Users\\user\\Desktop\\studia\\Widzenie Komputerowe Projekt\\Predykcja_Karnych\\dataset\\karne_przerobione\\k3\\frame_0038.jpg: 352x512 1 ball, 1 person, 1 goal, 34.6ms\n",
      "image 40/217 C:\\Users\\user\\Desktop\\studia\\Widzenie Komputerowe Projekt\\Predykcja_Karnych\\dataset\\karne_przerobione\\k3\\frame_0039.jpg: 352x512 1 ball, 1 person, 1 goal, 29.5ms\n",
      "image 41/217 C:\\Users\\user\\Desktop\\studia\\Widzenie Komputerowe Projekt\\Predykcja_Karnych\\dataset\\karne_przerobione\\k3\\frame_0040.jpg: 352x512 1 ball, 1 person, 1 goal, 28.6ms\n",
      "image 42/217 C:\\Users\\user\\Desktop\\studia\\Widzenie Komputerowe Projekt\\Predykcja_Karnych\\dataset\\karne_przerobione\\k3\\frame_0041.jpg: 352x512 1 ball, 1 person, 1 goal, 26.1ms\n",
      "image 43/217 C:\\Users\\user\\Desktop\\studia\\Widzenie Komputerowe Projekt\\Predykcja_Karnych\\dataset\\karne_przerobione\\k3\\frame_0042.jpg: 352x512 1 ball, 1 person, 1 goal, 34.0ms\n",
      "image 44/217 C:\\Users\\user\\Desktop\\studia\\Widzenie Komputerowe Projekt\\Predykcja_Karnych\\dataset\\karne_przerobione\\k3\\frame_0043.jpg: 352x512 1 ball, 1 person, 1 goal, 25.9ms\n",
      "image 45/217 C:\\Users\\user\\Desktop\\studia\\Widzenie Komputerowe Projekt\\Predykcja_Karnych\\dataset\\karne_przerobione\\k3\\frame_0044.jpg: 352x512 1 ball, 1 person, 1 goal, 27.4ms\n",
      "image 46/217 C:\\Users\\user\\Desktop\\studia\\Widzenie Komputerowe Projekt\\Predykcja_Karnych\\dataset\\karne_przerobione\\k3\\frame_0045.jpg: 352x512 1 ball, 1 person, 1 goal, 28.4ms\n",
      "image 47/217 C:\\Users\\user\\Desktop\\studia\\Widzenie Komputerowe Projekt\\Predykcja_Karnych\\dataset\\karne_przerobione\\k3\\frame_0046.jpg: 352x512 1 ball, 1 person, 1 goal, 26.4ms\n",
      "image 48/217 C:\\Users\\user\\Desktop\\studia\\Widzenie Komputerowe Projekt\\Predykcja_Karnych\\dataset\\karne_przerobione\\k3\\frame_0047.jpg: 352x512 1 ball, 1 person, 1 goal, 26.1ms\n",
      "image 49/217 C:\\Users\\user\\Desktop\\studia\\Widzenie Komputerowe Projekt\\Predykcja_Karnych\\dataset\\karne_przerobione\\k3\\frame_0048.jpg: 352x512 1 ball, 1 person, 1 goal, 27.2ms\n",
      "image 50/217 C:\\Users\\user\\Desktop\\studia\\Widzenie Komputerowe Projekt\\Predykcja_Karnych\\dataset\\karne_przerobione\\k3\\frame_0049.jpg: 352x512 1 ball, 1 person, 1 goal, 30.9ms\n",
      "image 51/217 C:\\Users\\user\\Desktop\\studia\\Widzenie Komputerowe Projekt\\Predykcja_Karnych\\dataset\\karne_przerobione\\k3\\frame_0050.jpg: 352x512 1 ball, 1 person, 1 goal, 27.0ms\n",
      "image 52/217 C:\\Users\\user\\Desktop\\studia\\Widzenie Komputerowe Projekt\\Predykcja_Karnych\\dataset\\karne_przerobione\\k3\\frame_0051.jpg: 352x512 1 ball, 1 person, 1 goal, 27.0ms\n",
      "image 53/217 C:\\Users\\user\\Desktop\\studia\\Widzenie Komputerowe Projekt\\Predykcja_Karnych\\dataset\\karne_przerobione\\k3\\frame_0052.jpg: 352x512 1 ball, 1 person, 1 goal, 30.0ms\n",
      "image 54/217 C:\\Users\\user\\Desktop\\studia\\Widzenie Komputerowe Projekt\\Predykcja_Karnych\\dataset\\karne_przerobione\\k3\\frame_0053.jpg: 352x512 1 ball, 1 person, 1 goal, 30.1ms\n",
      "image 55/217 C:\\Users\\user\\Desktop\\studia\\Widzenie Komputerowe Projekt\\Predykcja_Karnych\\dataset\\karne_przerobione\\k3\\frame_0054.jpg: 352x512 1 ball, 1 person, 1 goal, 27.6ms\n",
      "image 56/217 C:\\Users\\user\\Desktop\\studia\\Widzenie Komputerowe Projekt\\Predykcja_Karnych\\dataset\\karne_przerobione\\k3\\frame_0055.jpg: 352x512 1 ball, 1 person, 1 goal, 25.5ms\n",
      "image 57/217 C:\\Users\\user\\Desktop\\studia\\Widzenie Komputerowe Projekt\\Predykcja_Karnych\\dataset\\karne_przerobione\\k3\\frame_0056.jpg: 352x512 1 ball, 1 person, 1 goal, 26.6ms\n",
      "image 58/217 C:\\Users\\user\\Desktop\\studia\\Widzenie Komputerowe Projekt\\Predykcja_Karnych\\dataset\\karne_przerobione\\k3\\frame_0057.jpg: 352x512 1 ball, 1 person, 1 goal, 27.2ms\n",
      "image 59/217 C:\\Users\\user\\Desktop\\studia\\Widzenie Komputerowe Projekt\\Predykcja_Karnych\\dataset\\karne_przerobione\\k3\\frame_0058.jpg: 352x512 1 ball, 1 person, 1 goal, 27.3ms\n",
      "image 60/217 C:\\Users\\user\\Desktop\\studia\\Widzenie Komputerowe Projekt\\Predykcja_Karnych\\dataset\\karne_przerobione\\k3\\frame_0059.jpg: 352x512 1 ball, 1 person, 1 goal, 25.8ms\n",
      "image 61/217 C:\\Users\\user\\Desktop\\studia\\Widzenie Komputerowe Projekt\\Predykcja_Karnych\\dataset\\karne_przerobione\\k3\\frame_0060.jpg: 352x512 1 ball, 1 person, 1 goal, 29.9ms\n",
      "image 62/217 C:\\Users\\user\\Desktop\\studia\\Widzenie Komputerowe Projekt\\Predykcja_Karnych\\dataset\\karne_przerobione\\k3\\frame_0061.jpg: 352x512 1 ball, 1 person, 1 goal, 26.4ms\n",
      "image 63/217 C:\\Users\\user\\Desktop\\studia\\Widzenie Komputerowe Projekt\\Predykcja_Karnych\\dataset\\karne_przerobione\\k3\\frame_0062.jpg: 352x512 1 ball, 1 person, 1 goal, 33.8ms\n",
      "image 64/217 C:\\Users\\user\\Desktop\\studia\\Widzenie Komputerowe Projekt\\Predykcja_Karnych\\dataset\\karne_przerobione\\k3\\frame_0063.jpg: 352x512 1 ball, 1 person, 1 goal, 29.7ms\n",
      "image 65/217 C:\\Users\\user\\Desktop\\studia\\Widzenie Komputerowe Projekt\\Predykcja_Karnych\\dataset\\karne_przerobione\\k3\\frame_0064.jpg: 352x512 1 ball, 1 person, 1 goal, 25.7ms\n",
      "image 66/217 C:\\Users\\user\\Desktop\\studia\\Widzenie Komputerowe Projekt\\Predykcja_Karnych\\dataset\\karne_przerobione\\k3\\frame_0065.jpg: 352x512 1 ball, 1 person, 1 goal, 26.6ms\n",
      "image 67/217 C:\\Users\\user\\Desktop\\studia\\Widzenie Komputerowe Projekt\\Predykcja_Karnych\\dataset\\karne_przerobione\\k3\\frame_0066.jpg: 352x512 1 ball, 1 person, 1 goal, 27.6ms\n",
      "image 68/217 C:\\Users\\user\\Desktop\\studia\\Widzenie Komputerowe Projekt\\Predykcja_Karnych\\dataset\\karne_przerobione\\k3\\frame_0067.jpg: 352x512 1 ball, 1 person, 1 goal, 27.2ms\n",
      "image 69/217 C:\\Users\\user\\Desktop\\studia\\Widzenie Komputerowe Projekt\\Predykcja_Karnych\\dataset\\karne_przerobione\\k3\\frame_0068.jpg: 352x512 1 ball, 1 person, 1 goal, 25.8ms\n",
      "image 70/217 C:\\Users\\user\\Desktop\\studia\\Widzenie Komputerowe Projekt\\Predykcja_Karnych\\dataset\\karne_przerobione\\k3\\frame_0069.jpg: 352x512 1 ball, 1 person, 1 goal, 27.9ms\n",
      "image 71/217 C:\\Users\\user\\Desktop\\studia\\Widzenie Komputerowe Projekt\\Predykcja_Karnych\\dataset\\karne_przerobione\\k3\\frame_0070.jpg: 352x512 1 ball, 1 person, 1 goal, 29.2ms\n",
      "image 72/217 C:\\Users\\user\\Desktop\\studia\\Widzenie Komputerowe Projekt\\Predykcja_Karnych\\dataset\\karne_przerobione\\k3\\frame_0071.jpg: 352x512 1 ball, 1 person, 1 goal, 27.6ms\n",
      "image 73/217 C:\\Users\\user\\Desktop\\studia\\Widzenie Komputerowe Projekt\\Predykcja_Karnych\\dataset\\karne_przerobione\\k3\\frame_0072.jpg: 352x512 1 ball, 1 person, 1 goal, 30.6ms\n",
      "image 74/217 C:\\Users\\user\\Desktop\\studia\\Widzenie Komputerowe Projekt\\Predykcja_Karnych\\dataset\\karne_przerobione\\k3\\frame_0073.jpg: 352x512 1 ball, 1 person, 1 goal, 31.4ms\n",
      "image 75/217 C:\\Users\\user\\Desktop\\studia\\Widzenie Komputerowe Projekt\\Predykcja_Karnych\\dataset\\karne_przerobione\\k3\\frame_0074.jpg: 352x512 1 ball, 1 person, 1 goal, 29.1ms\n",
      "image 76/217 C:\\Users\\user\\Desktop\\studia\\Widzenie Komputerowe Projekt\\Predykcja_Karnych\\dataset\\karne_przerobione\\k3\\frame_0075.jpg: 352x512 1 ball, 1 person, 1 goal, 28.7ms\n",
      "image 77/217 C:\\Users\\user\\Desktop\\studia\\Widzenie Komputerowe Projekt\\Predykcja_Karnych\\dataset\\karne_przerobione\\k3\\frame_0076.jpg: 352x512 1 ball, 1 person, 1 goal, 27.4ms\n",
      "image 78/217 C:\\Users\\user\\Desktop\\studia\\Widzenie Komputerowe Projekt\\Predykcja_Karnych\\dataset\\karne_przerobione\\k3\\frame_0077.jpg: 352x512 1 ball, 1 person, 1 goal, 26.2ms\n",
      "image 79/217 C:\\Users\\user\\Desktop\\studia\\Widzenie Komputerowe Projekt\\Predykcja_Karnych\\dataset\\karne_przerobione\\k3\\frame_0078.jpg: 352x512 1 ball, 1 person, 1 goal, 48.5ms\n",
      "image 80/217 C:\\Users\\user\\Desktop\\studia\\Widzenie Komputerowe Projekt\\Predykcja_Karnych\\dataset\\karne_przerobione\\k3\\frame_0079.jpg: 352x512 1 ball, 1 person, 1 goal, 26.3ms\n",
      "image 81/217 C:\\Users\\user\\Desktop\\studia\\Widzenie Komputerowe Projekt\\Predykcja_Karnych\\dataset\\karne_przerobione\\k3\\frame_0080.jpg: 352x512 1 ball, 1 person, 1 goal, 27.9ms\n",
      "image 82/217 C:\\Users\\user\\Desktop\\studia\\Widzenie Komputerowe Projekt\\Predykcja_Karnych\\dataset\\karne_przerobione\\k3\\frame_0081.jpg: 352x512 1 ball, 1 person, 1 goal, 27.4ms\n",
      "image 83/217 C:\\Users\\user\\Desktop\\studia\\Widzenie Komputerowe Projekt\\Predykcja_Karnych\\dataset\\karne_przerobione\\k3\\frame_0082.jpg: 352x512 1 ball, 1 person, 1 goal, 53.6ms\n",
      "image 84/217 C:\\Users\\user\\Desktop\\studia\\Widzenie Komputerowe Projekt\\Predykcja_Karnych\\dataset\\karne_przerobione\\k3\\frame_0083.jpg: 352x512 1 ball, 1 person, 1 goal, 42.6ms\n",
      "image 85/217 C:\\Users\\user\\Desktop\\studia\\Widzenie Komputerowe Projekt\\Predykcja_Karnych\\dataset\\karne_przerobione\\k3\\frame_0084.jpg: 352x512 1 ball, 1 person, 1 goal, 36.6ms\n",
      "image 86/217 C:\\Users\\user\\Desktop\\studia\\Widzenie Komputerowe Projekt\\Predykcja_Karnych\\dataset\\karne_przerobione\\k3\\frame_0085.jpg: 352x512 1 ball, 1 person, 1 goal, 34.2ms\n",
      "image 87/217 C:\\Users\\user\\Desktop\\studia\\Widzenie Komputerowe Projekt\\Predykcja_Karnych\\dataset\\karne_przerobione\\k3\\frame_0086.jpg: 352x512 1 ball, 1 person, 1 goal, 30.4ms\n",
      "image 88/217 C:\\Users\\user\\Desktop\\studia\\Widzenie Komputerowe Projekt\\Predykcja_Karnych\\dataset\\karne_przerobione\\k3\\frame_0087.jpg: 352x512 1 ball, 1 person, 1 goal, 27.5ms\n",
      "image 89/217 C:\\Users\\user\\Desktop\\studia\\Widzenie Komputerowe Projekt\\Predykcja_Karnych\\dataset\\karne_przerobione\\k3\\frame_0088.jpg: 352x512 1 ball, 1 person, 1 goal, 26.1ms\n",
      "image 90/217 C:\\Users\\user\\Desktop\\studia\\Widzenie Komputerowe Projekt\\Predykcja_Karnych\\dataset\\karne_przerobione\\k3\\frame_0089.jpg: 352x512 1 ball, 1 person, 1 goal, 26.9ms\n",
      "image 91/217 C:\\Users\\user\\Desktop\\studia\\Widzenie Komputerowe Projekt\\Predykcja_Karnych\\dataset\\karne_przerobione\\k3\\frame_0090.jpg: 352x512 1 ball, 1 person, 1 goal, 29.1ms\n",
      "image 92/217 C:\\Users\\user\\Desktop\\studia\\Widzenie Komputerowe Projekt\\Predykcja_Karnych\\dataset\\karne_przerobione\\k3\\frame_0091.jpg: 352x512 1 ball, 1 person, 1 goal, 49.1ms\n",
      "image 93/217 C:\\Users\\user\\Desktop\\studia\\Widzenie Komputerowe Projekt\\Predykcja_Karnych\\dataset\\karne_przerobione\\k3\\frame_0092.jpg: 352x512 1 ball, 1 person, 1 goal, 31.4ms\n",
      "image 94/217 C:\\Users\\user\\Desktop\\studia\\Widzenie Komputerowe Projekt\\Predykcja_Karnych\\dataset\\karne_przerobione\\k3\\frame_0093.jpg: 352x512 1 ball, 1 person, 1 goal, 29.0ms\n",
      "image 95/217 C:\\Users\\user\\Desktop\\studia\\Widzenie Komputerowe Projekt\\Predykcja_Karnych\\dataset\\karne_przerobione\\k3\\frame_0094.jpg: 352x512 1 ball, 1 person, 1 goal, 30.3ms\n",
      "image 96/217 C:\\Users\\user\\Desktop\\studia\\Widzenie Komputerowe Projekt\\Predykcja_Karnych\\dataset\\karne_przerobione\\k3\\frame_0095.jpg: 352x512 1 ball, 1 person, 1 goal, 29.6ms\n",
      "image 97/217 C:\\Users\\user\\Desktop\\studia\\Widzenie Komputerowe Projekt\\Predykcja_Karnych\\dataset\\karne_przerobione\\k3\\frame_0096.jpg: 352x512 1 ball, 1 person, 1 goal, 28.3ms\n",
      "image 98/217 C:\\Users\\user\\Desktop\\studia\\Widzenie Komputerowe Projekt\\Predykcja_Karnych\\dataset\\karne_przerobione\\k3\\frame_0097.jpg: 352x512 1 ball, 1 person, 1 goal, 27.3ms\n",
      "image 99/217 C:\\Users\\user\\Desktop\\studia\\Widzenie Komputerowe Projekt\\Predykcja_Karnych\\dataset\\karne_przerobione\\k3\\frame_0098.jpg: 352x512 1 ball, 1 person, 1 goal, 30.0ms\n",
      "image 100/217 C:\\Users\\user\\Desktop\\studia\\Widzenie Komputerowe Projekt\\Predykcja_Karnych\\dataset\\karne_przerobione\\k3\\frame_0099.jpg: 352x512 1 ball, 1 person, 1 goal, 26.7ms\n",
      "image 101/217 C:\\Users\\user\\Desktop\\studia\\Widzenie Komputerowe Projekt\\Predykcja_Karnych\\dataset\\karne_przerobione\\k3\\frame_0100.jpg: 352x512 1 ball, 1 person, 1 goal, 29.2ms\n",
      "image 102/217 C:\\Users\\user\\Desktop\\studia\\Widzenie Komputerowe Projekt\\Predykcja_Karnych\\dataset\\karne_przerobione\\k3\\frame_0101.jpg: 352x512 1 ball, 1 person, 1 goal, 31.0ms\n",
      "image 103/217 C:\\Users\\user\\Desktop\\studia\\Widzenie Komputerowe Projekt\\Predykcja_Karnych\\dataset\\karne_przerobione\\k3\\frame_0102.jpg: 352x512 1 ball, 1 person, 1 goal, 30.6ms\n",
      "image 104/217 C:\\Users\\user\\Desktop\\studia\\Widzenie Komputerowe Projekt\\Predykcja_Karnych\\dataset\\karne_przerobione\\k3\\frame_0103.jpg: 352x512 1 ball, 1 person, 1 goal, 27.4ms\n",
      "image 105/217 C:\\Users\\user\\Desktop\\studia\\Widzenie Komputerowe Projekt\\Predykcja_Karnych\\dataset\\karne_przerobione\\k3\\frame_0104.jpg: 352x512 1 ball, 1 person, 1 goal, 28.4ms\n",
      "image 106/217 C:\\Users\\user\\Desktop\\studia\\Widzenie Komputerowe Projekt\\Predykcja_Karnych\\dataset\\karne_przerobione\\k3\\frame_0105.jpg: 352x512 1 ball, 1 person, 1 goal, 27.6ms\n",
      "image 107/217 C:\\Users\\user\\Desktop\\studia\\Widzenie Komputerowe Projekt\\Predykcja_Karnych\\dataset\\karne_przerobione\\k3\\frame_0106.jpg: 352x512 1 ball, 1 person, 1 goal, 27.3ms\n",
      "image 108/217 C:\\Users\\user\\Desktop\\studia\\Widzenie Komputerowe Projekt\\Predykcja_Karnych\\dataset\\karne_przerobione\\k3\\frame_0107.jpg: 352x512 1 ball, 1 person, 1 goal, 26.9ms\n",
      "image 109/217 C:\\Users\\user\\Desktop\\studia\\Widzenie Komputerowe Projekt\\Predykcja_Karnych\\dataset\\karne_przerobione\\k3\\frame_0108.jpg: 352x512 1 ball, 1 person, 1 goal, 30.6ms\n",
      "image 110/217 C:\\Users\\user\\Desktop\\studia\\Widzenie Komputerowe Projekt\\Predykcja_Karnych\\dataset\\karne_przerobione\\k3\\frame_0109.jpg: 352x512 1 ball, 1 person, 1 goal, 30.6ms\n",
      "image 111/217 C:\\Users\\user\\Desktop\\studia\\Widzenie Komputerowe Projekt\\Predykcja_Karnych\\dataset\\karne_przerobione\\k3\\frame_0110.jpg: 352x512 1 ball, 1 person, 1 goal, 30.2ms\n",
      "image 112/217 C:\\Users\\user\\Desktop\\studia\\Widzenie Komputerowe Projekt\\Predykcja_Karnych\\dataset\\karne_przerobione\\k3\\frame_0111.jpg: 352x512 1 ball, 1 person, 1 goal, 32.7ms\n",
      "image 113/217 C:\\Users\\user\\Desktop\\studia\\Widzenie Komputerowe Projekt\\Predykcja_Karnych\\dataset\\karne_przerobione\\k3\\frame_0112.jpg: 352x512 1 ball, 1 person, 1 goal, 32.4ms\n",
      "image 114/217 C:\\Users\\user\\Desktop\\studia\\Widzenie Komputerowe Projekt\\Predykcja_Karnych\\dataset\\karne_przerobione\\k3\\frame_0113.jpg: 352x512 1 ball, 1 person, 1 goal, 33.0ms\n",
      "image 115/217 C:\\Users\\user\\Desktop\\studia\\Widzenie Komputerowe Projekt\\Predykcja_Karnych\\dataset\\karne_przerobione\\k3\\frame_0114.jpg: 352x512 1 ball, 1 person, 1 goal, 27.6ms\n",
      "image 116/217 C:\\Users\\user\\Desktop\\studia\\Widzenie Komputerowe Projekt\\Predykcja_Karnych\\dataset\\karne_przerobione\\k3\\frame_0115.jpg: 352x512 1 ball, 1 person, 1 goal, 26.9ms\n",
      "image 117/217 C:\\Users\\user\\Desktop\\studia\\Widzenie Komputerowe Projekt\\Predykcja_Karnych\\dataset\\karne_przerobione\\k3\\frame_0116.jpg: 352x512 1 ball, 1 person, 1 goal, 28.7ms\n",
      "image 118/217 C:\\Users\\user\\Desktop\\studia\\Widzenie Komputerowe Projekt\\Predykcja_Karnych\\dataset\\karne_przerobione\\k3\\frame_0117.jpg: 352x512 1 ball, 1 person, 1 goal, 26.9ms\n",
      "image 119/217 C:\\Users\\user\\Desktop\\studia\\Widzenie Komputerowe Projekt\\Predykcja_Karnych\\dataset\\karne_przerobione\\k3\\frame_0118.jpg: 352x512 1 ball, 1 person, 1 goal, 28.9ms\n",
      "image 120/217 C:\\Users\\user\\Desktop\\studia\\Widzenie Komputerowe Projekt\\Predykcja_Karnych\\dataset\\karne_przerobione\\k3\\frame_0119.jpg: 352x512 1 ball, 1 person, 1 goal, 29.1ms\n",
      "image 121/217 C:\\Users\\user\\Desktop\\studia\\Widzenie Komputerowe Projekt\\Predykcja_Karnych\\dataset\\karne_przerobione\\k3\\frame_0120.jpg: 352x512 1 ball, 1 person, 1 goal, 33.9ms\n",
      "image 122/217 C:\\Users\\user\\Desktop\\studia\\Widzenie Komputerowe Projekt\\Predykcja_Karnych\\dataset\\karne_przerobione\\k3\\frame_0121.jpg: 352x512 1 ball, 1 person, 1 goal, 28.3ms\n",
      "image 123/217 C:\\Users\\user\\Desktop\\studia\\Widzenie Komputerowe Projekt\\Predykcja_Karnych\\dataset\\karne_przerobione\\k3\\frame_0122.jpg: 352x512 1 ball, 1 person, 1 goal, 27.7ms\n",
      "image 124/217 C:\\Users\\user\\Desktop\\studia\\Widzenie Komputerowe Projekt\\Predykcja_Karnych\\dataset\\karne_przerobione\\k3\\frame_0123.jpg: 352x512 1 ball, 1 person, 1 goal, 26.9ms\n",
      "image 125/217 C:\\Users\\user\\Desktop\\studia\\Widzenie Komputerowe Projekt\\Predykcja_Karnych\\dataset\\karne_przerobione\\k3\\frame_0124.jpg: 352x512 1 ball, 1 person, 1 goal, 28.2ms\n",
      "image 126/217 C:\\Users\\user\\Desktop\\studia\\Widzenie Komputerowe Projekt\\Predykcja_Karnych\\dataset\\karne_przerobione\\k3\\frame_0125.jpg: 352x512 1 ball, 1 person, 1 goal, 28.5ms\n",
      "image 127/217 C:\\Users\\user\\Desktop\\studia\\Widzenie Komputerowe Projekt\\Predykcja_Karnych\\dataset\\karne_przerobione\\k3\\frame_0126.jpg: 352x512 1 ball, 1 person, 1 goal, 27.8ms\n",
      "image 128/217 C:\\Users\\user\\Desktop\\studia\\Widzenie Komputerowe Projekt\\Predykcja_Karnych\\dataset\\karne_przerobione\\k3\\frame_0127.jpg: 352x512 1 ball, 1 person, 1 goal, 28.2ms\n",
      "image 129/217 C:\\Users\\user\\Desktop\\studia\\Widzenie Komputerowe Projekt\\Predykcja_Karnych\\dataset\\karne_przerobione\\k3\\frame_0128.jpg: 352x512 1 ball, 1 person, 1 goal, 32.4ms\n",
      "image 130/217 C:\\Users\\user\\Desktop\\studia\\Widzenie Komputerowe Projekt\\Predykcja_Karnych\\dataset\\karne_przerobione\\k3\\frame_0129.jpg: 352x512 1 ball, 1 person, 1 goal, 27.6ms\n",
      "image 131/217 C:\\Users\\user\\Desktop\\studia\\Widzenie Komputerowe Projekt\\Predykcja_Karnych\\dataset\\karne_przerobione\\k3\\frame_0130.jpg: 352x512 1 ball, 1 person, 1 goal, 29.2ms\n",
      "image 132/217 C:\\Users\\user\\Desktop\\studia\\Widzenie Komputerowe Projekt\\Predykcja_Karnych\\dataset\\karne_przerobione\\k3\\frame_0131.jpg: 352x512 1 ball, 1 person, 1 goal, 34.3ms\n",
      "image 133/217 C:\\Users\\user\\Desktop\\studia\\Widzenie Komputerowe Projekt\\Predykcja_Karnych\\dataset\\karne_przerobione\\k3\\frame_0132.jpg: 352x512 1 ball, 1 person, 1 goal, 28.6ms\n",
      "image 134/217 C:\\Users\\user\\Desktop\\studia\\Widzenie Komputerowe Projekt\\Predykcja_Karnych\\dataset\\karne_przerobione\\k3\\frame_0133.jpg: 352x512 1 ball, 1 person, 1 goal, 34.6ms\n",
      "image 135/217 C:\\Users\\user\\Desktop\\studia\\Widzenie Komputerowe Projekt\\Predykcja_Karnych\\dataset\\karne_przerobione\\k3\\frame_0134.jpg: 352x512 1 ball, 1 person, 1 goal, 71.1ms\n",
      "image 136/217 C:\\Users\\user\\Desktop\\studia\\Widzenie Komputerowe Projekt\\Predykcja_Karnych\\dataset\\karne_przerobione\\k3\\frame_0135.jpg: 352x512 1 ball, 1 person, 1 goal, 27.3ms\n",
      "image 137/217 C:\\Users\\user\\Desktop\\studia\\Widzenie Komputerowe Projekt\\Predykcja_Karnych\\dataset\\karne_przerobione\\k3\\frame_0136.jpg: 352x512 1 ball, 1 person, 1 goal, 27.7ms\n",
      "image 138/217 C:\\Users\\user\\Desktop\\studia\\Widzenie Komputerowe Projekt\\Predykcja_Karnych\\dataset\\karne_przerobione\\k3\\frame_0137.jpg: 352x512 1 ball, 1 person, 1 goal, 57.5ms\n",
      "image 139/217 C:\\Users\\user\\Desktop\\studia\\Widzenie Komputerowe Projekt\\Predykcja_Karnych\\dataset\\karne_przerobione\\k3\\frame_0138.jpg: 352x512 1 ball, 1 person, 1 goal, 52.0ms\n",
      "image 140/217 C:\\Users\\user\\Desktop\\studia\\Widzenie Komputerowe Projekt\\Predykcja_Karnych\\dataset\\karne_przerobione\\k3\\frame_0139.jpg: 352x512 1 ball, 1 person, 1 goal, 48.4ms\n",
      "image 141/217 C:\\Users\\user\\Desktop\\studia\\Widzenie Komputerowe Projekt\\Predykcja_Karnych\\dataset\\karne_przerobione\\k3\\frame_0140.jpg: 352x512 1 ball, 1 person, 1 goal, 31.6ms\n",
      "image 142/217 C:\\Users\\user\\Desktop\\studia\\Widzenie Komputerowe Projekt\\Predykcja_Karnych\\dataset\\karne_przerobione\\k3\\frame_0141.jpg: 352x512 1 ball, 1 person, 1 goal, 37.1ms\n",
      "image 143/217 C:\\Users\\user\\Desktop\\studia\\Widzenie Komputerowe Projekt\\Predykcja_Karnych\\dataset\\karne_przerobione\\k3\\frame_0142.jpg: 352x512 1 ball, 1 person, 1 goal, 33.1ms\n",
      "image 144/217 C:\\Users\\user\\Desktop\\studia\\Widzenie Komputerowe Projekt\\Predykcja_Karnych\\dataset\\karne_przerobione\\k3\\frame_0143.jpg: 352x512 1 ball, 1 person, 1 goal, 29.1ms\n",
      "image 145/217 C:\\Users\\user\\Desktop\\studia\\Widzenie Komputerowe Projekt\\Predykcja_Karnych\\dataset\\karne_przerobione\\k3\\frame_0144.jpg: 352x512 1 ball, 1 person, 1 goal, 27.0ms\n",
      "image 146/217 C:\\Users\\user\\Desktop\\studia\\Widzenie Komputerowe Projekt\\Predykcja_Karnych\\dataset\\karne_przerobione\\k3\\frame_0145.jpg: 352x512 1 ball, 1 person, 1 goal, 31.4ms\n",
      "image 147/217 C:\\Users\\user\\Desktop\\studia\\Widzenie Komputerowe Projekt\\Predykcja_Karnych\\dataset\\karne_przerobione\\k3\\frame_0146.jpg: 352x512 1 ball, 1 person, 1 goal, 35.7ms\n",
      "image 148/217 C:\\Users\\user\\Desktop\\studia\\Widzenie Komputerowe Projekt\\Predykcja_Karnych\\dataset\\karne_przerobione\\k3\\frame_0147.jpg: 352x512 1 ball, 1 person, 1 goal, 31.3ms\n",
      "image 149/217 C:\\Users\\user\\Desktop\\studia\\Widzenie Komputerowe Projekt\\Predykcja_Karnych\\dataset\\karne_przerobione\\k3\\frame_0148.jpg: 352x512 1 ball, 1 person, 1 goal, 30.5ms\n",
      "image 150/217 C:\\Users\\user\\Desktop\\studia\\Widzenie Komputerowe Projekt\\Predykcja_Karnych\\dataset\\karne_przerobione\\k3\\frame_0149.jpg: 352x512 1 ball, 1 person, 1 goal, 36.2ms\n",
      "image 151/217 C:\\Users\\user\\Desktop\\studia\\Widzenie Komputerowe Projekt\\Predykcja_Karnych\\dataset\\karne_przerobione\\k3\\frame_0150.jpg: 352x512 1 ball, 1 person, 1 goal, 27.9ms\n",
      "image 152/217 C:\\Users\\user\\Desktop\\studia\\Widzenie Komputerowe Projekt\\Predykcja_Karnych\\dataset\\karne_przerobione\\k3\\frame_0151.jpg: 352x512 1 ball, 1 person, 1 goal, 27.6ms\n",
      "image 153/217 C:\\Users\\user\\Desktop\\studia\\Widzenie Komputerowe Projekt\\Predykcja_Karnych\\dataset\\karne_przerobione\\k3\\frame_0152.jpg: 352x512 1 ball, 1 person, 1 goal, 28.3ms\n",
      "image 154/217 C:\\Users\\user\\Desktop\\studia\\Widzenie Komputerowe Projekt\\Predykcja_Karnych\\dataset\\karne_przerobione\\k3\\frame_0153.jpg: 352x512 1 ball, 1 person, 1 goal, 28.0ms\n",
      "image 155/217 C:\\Users\\user\\Desktop\\studia\\Widzenie Komputerowe Projekt\\Predykcja_Karnych\\dataset\\karne_przerobione\\k3\\frame_0154.jpg: 352x512 1 ball, 1 person, 1 goal, 27.9ms\n",
      "image 156/217 C:\\Users\\user\\Desktop\\studia\\Widzenie Komputerowe Projekt\\Predykcja_Karnych\\dataset\\karne_przerobione\\k3\\frame_0155.jpg: 352x512 1 person, 1 goal, 27.5ms\n",
      "image 157/217 C:\\Users\\user\\Desktop\\studia\\Widzenie Komputerowe Projekt\\Predykcja_Karnych\\dataset\\karne_przerobione\\k3\\frame_0156.jpg: 352x512 1 person, 1 goal, 28.3ms\n",
      "image 158/217 C:\\Users\\user\\Desktop\\studia\\Widzenie Komputerowe Projekt\\Predykcja_Karnych\\dataset\\karne_przerobione\\k3\\frame_0157.jpg: 352x512 1 ball, 1 person, 1 goal, 27.2ms\n",
      "image 159/217 C:\\Users\\user\\Desktop\\studia\\Widzenie Komputerowe Projekt\\Predykcja_Karnych\\dataset\\karne_przerobione\\k3\\frame_0158.jpg: 352x512 1 ball, 1 person, 1 goal, 30.9ms\n",
      "image 160/217 C:\\Users\\user\\Desktop\\studia\\Widzenie Komputerowe Projekt\\Predykcja_Karnych\\dataset\\karne_przerobione\\k3\\frame_0159.jpg: 352x512 1 ball, 1 person, 1 goal, 27.6ms\n",
      "image 161/217 C:\\Users\\user\\Desktop\\studia\\Widzenie Komputerowe Projekt\\Predykcja_Karnych\\dataset\\karne_przerobione\\k3\\frame_0160.jpg: 352x512 1 ball, 1 person, 1 goal, 28.2ms\n",
      "image 162/217 C:\\Users\\user\\Desktop\\studia\\Widzenie Komputerowe Projekt\\Predykcja_Karnych\\dataset\\karne_przerobione\\k3\\frame_0161.jpg: 352x512 1 ball, 1 person, 1 goal, 28.4ms\n",
      "image 163/217 C:\\Users\\user\\Desktop\\studia\\Widzenie Komputerowe Projekt\\Predykcja_Karnych\\dataset\\karne_przerobione\\k3\\frame_0162.jpg: 352x512 1 ball, 1 person, 1 goal, 25.6ms\n",
      "image 164/217 C:\\Users\\user\\Desktop\\studia\\Widzenie Komputerowe Projekt\\Predykcja_Karnych\\dataset\\karne_przerobione\\k3\\frame_0163.jpg: 352x512 1 ball, 1 person, 1 goal, 26.1ms\n",
      "image 165/217 C:\\Users\\user\\Desktop\\studia\\Widzenie Komputerowe Projekt\\Predykcja_Karnych\\dataset\\karne_przerobione\\k3\\frame_0164.jpg: 352x512 1 ball, 1 person, 1 goal, 30.1ms\n",
      "image 166/217 C:\\Users\\user\\Desktop\\studia\\Widzenie Komputerowe Projekt\\Predykcja_Karnych\\dataset\\karne_przerobione\\k3\\frame_0165.jpg: 352x512 1 ball, 1 person, 1 goal, 30.4ms\n",
      "image 167/217 C:\\Users\\user\\Desktop\\studia\\Widzenie Komputerowe Projekt\\Predykcja_Karnych\\dataset\\karne_przerobione\\k3\\frame_0166.jpg: 352x512 1 ball, 1 person, 1 goal, 26.4ms\n",
      "image 168/217 C:\\Users\\user\\Desktop\\studia\\Widzenie Komputerowe Projekt\\Predykcja_Karnych\\dataset\\karne_przerobione\\k3\\frame_0167.jpg: 352x512 1 ball, 1 person, 1 goal, 29.1ms\n",
      "image 169/217 C:\\Users\\user\\Desktop\\studia\\Widzenie Komputerowe Projekt\\Predykcja_Karnych\\dataset\\karne_przerobione\\k3\\frame_0168.jpg: 352x512 1 ball, 1 person, 1 goal, 25.3ms\n",
      "image 170/217 C:\\Users\\user\\Desktop\\studia\\Widzenie Komputerowe Projekt\\Predykcja_Karnych\\dataset\\karne_przerobione\\k3\\frame_0169.jpg: 352x512 1 ball, 1 person, 1 goal, 29.1ms\n",
      "image 171/217 C:\\Users\\user\\Desktop\\studia\\Widzenie Komputerowe Projekt\\Predykcja_Karnych\\dataset\\karne_przerobione\\k3\\frame_0170.jpg: 352x512 1 ball, 1 person, 1 goal, 27.5ms\n",
      "image 172/217 C:\\Users\\user\\Desktop\\studia\\Widzenie Komputerowe Projekt\\Predykcja_Karnych\\dataset\\karne_przerobione\\k3\\frame_0171.jpg: 352x512 1 ball, 1 person, 1 goal, 27.4ms\n",
      "image 173/217 C:\\Users\\user\\Desktop\\studia\\Widzenie Komputerowe Projekt\\Predykcja_Karnych\\dataset\\karne_przerobione\\k3\\frame_0172.jpg: 352x512 1 ball, 1 person, 1 goal, 27.7ms\n",
      "image 174/217 C:\\Users\\user\\Desktop\\studia\\Widzenie Komputerowe Projekt\\Predykcja_Karnych\\dataset\\karne_przerobione\\k3\\frame_0173.jpg: 352x512 1 ball, 1 person, 1 goal, 26.8ms\n",
      "image 175/217 C:\\Users\\user\\Desktop\\studia\\Widzenie Komputerowe Projekt\\Predykcja_Karnych\\dataset\\karne_przerobione\\k3\\frame_0174.jpg: 352x512 1 person, 1 goal, 28.5ms\n",
      "image 176/217 C:\\Users\\user\\Desktop\\studia\\Widzenie Komputerowe Projekt\\Predykcja_Karnych\\dataset\\karne_przerobione\\k3\\frame_0175.jpg: 352x512 1 person, 1 goal, 25.8ms\n",
      "image 177/217 C:\\Users\\user\\Desktop\\studia\\Widzenie Komputerowe Projekt\\Predykcja_Karnych\\dataset\\karne_przerobione\\k3\\frame_0176.jpg: 352x512 1 ball, 1 person, 1 goal, 32.8ms\n",
      "image 178/217 C:\\Users\\user\\Desktop\\studia\\Widzenie Komputerowe Projekt\\Predykcja_Karnych\\dataset\\karne_przerobione\\k3\\frame_0177.jpg: 352x512 1 ball, 1 person, 1 goal, 31.3ms\n",
      "image 179/217 C:\\Users\\user\\Desktop\\studia\\Widzenie Komputerowe Projekt\\Predykcja_Karnych\\dataset\\karne_przerobione\\k3\\frame_0178.jpg: 352x512 1 ball, 1 person, 1 goal, 30.4ms\n",
      "image 180/217 C:\\Users\\user\\Desktop\\studia\\Widzenie Komputerowe Projekt\\Predykcja_Karnych\\dataset\\karne_przerobione\\k3\\frame_0179.jpg: 352x512 1 ball, 1 person, 1 goal, 31.1ms\n",
      "image 181/217 C:\\Users\\user\\Desktop\\studia\\Widzenie Komputerowe Projekt\\Predykcja_Karnych\\dataset\\karne_przerobione\\k3\\frame_0180.jpg: 352x512 1 ball, 1 person, 1 goal, 28.3ms\n",
      "image 182/217 C:\\Users\\user\\Desktop\\studia\\Widzenie Komputerowe Projekt\\Predykcja_Karnych\\dataset\\karne_przerobione\\k3\\frame_0181.jpg: 352x512 1 ball, 1 person, 1 goal, 29.2ms\n",
      "image 183/217 C:\\Users\\user\\Desktop\\studia\\Widzenie Komputerowe Projekt\\Predykcja_Karnych\\dataset\\karne_przerobione\\k3\\frame_0182.jpg: 352x512 1 ball, 1 person, 1 goal, 28.4ms\n",
      "image 184/217 C:\\Users\\user\\Desktop\\studia\\Widzenie Komputerowe Projekt\\Predykcja_Karnych\\dataset\\karne_przerobione\\k3\\frame_0183.jpg: 352x512 1 ball, 1 person, 1 goal, 28.8ms\n",
      "image 185/217 C:\\Users\\user\\Desktop\\studia\\Widzenie Komputerowe Projekt\\Predykcja_Karnych\\dataset\\karne_przerobione\\k3\\frame_0184.jpg: 352x512 1 ball, 1 person, 1 goal, 30.0ms\n",
      "image 186/217 C:\\Users\\user\\Desktop\\studia\\Widzenie Komputerowe Projekt\\Predykcja_Karnych\\dataset\\karne_przerobione\\k3\\frame_0185.jpg: 352x512 1 ball, 1 person, 1 goal, 27.8ms\n",
      "image 187/217 C:\\Users\\user\\Desktop\\studia\\Widzenie Komputerowe Projekt\\Predykcja_Karnych\\dataset\\karne_przerobione\\k3\\frame_0186.jpg: 352x512 1 ball, 1 person, 1 goal, 27.5ms\n",
      "image 188/217 C:\\Users\\user\\Desktop\\studia\\Widzenie Komputerowe Projekt\\Predykcja_Karnych\\dataset\\karne_przerobione\\k3\\frame_0187.jpg: 352x512 1 ball, 1 person, 1 goal, 29.4ms\n",
      "image 189/217 C:\\Users\\user\\Desktop\\studia\\Widzenie Komputerowe Projekt\\Predykcja_Karnych\\dataset\\karne_przerobione\\k3\\frame_0188.jpg: 352x512 1 person, 1 goal, 27.0ms\n",
      "image 190/217 C:\\Users\\user\\Desktop\\studia\\Widzenie Komputerowe Projekt\\Predykcja_Karnych\\dataset\\karne_przerobione\\k3\\frame_0189.jpg: 352x512 1 person, 1 goal, 27.9ms\n",
      "image 191/217 C:\\Users\\user\\Desktop\\studia\\Widzenie Komputerowe Projekt\\Predykcja_Karnych\\dataset\\karne_przerobione\\k3\\frame_0190.jpg: 352x512 1 person, 1 goal, 38.7ms\n",
      "image 192/217 C:\\Users\\user\\Desktop\\studia\\Widzenie Komputerowe Projekt\\Predykcja_Karnych\\dataset\\karne_przerobione\\k3\\frame_0191.jpg: 352x512 1 person, 1 goal, 27.4ms\n",
      "image 193/217 C:\\Users\\user\\Desktop\\studia\\Widzenie Komputerowe Projekt\\Predykcja_Karnych\\dataset\\karne_przerobione\\k3\\frame_0192.jpg: 352x512 1 person, 1 goal, 27.3ms\n",
      "image 194/217 C:\\Users\\user\\Desktop\\studia\\Widzenie Komputerowe Projekt\\Predykcja_Karnych\\dataset\\karne_przerobione\\k3\\frame_0193.jpg: 352x512 1 person, 1 goal, 28.9ms\n",
      "image 195/217 C:\\Users\\user\\Desktop\\studia\\Widzenie Komputerowe Projekt\\Predykcja_Karnych\\dataset\\karne_przerobione\\k3\\frame_0194.jpg: 352x512 1 person, 1 goal, 25.7ms\n",
      "image 196/217 C:\\Users\\user\\Desktop\\studia\\Widzenie Komputerowe Projekt\\Predykcja_Karnych\\dataset\\karne_przerobione\\k3\\frame_0195.jpg: 352x512 1 person, 1 goal, 44.6ms\n",
      "image 197/217 C:\\Users\\user\\Desktop\\studia\\Widzenie Komputerowe Projekt\\Predykcja_Karnych\\dataset\\karne_przerobione\\k3\\frame_0196.jpg: 352x512 1 person, 1 goal, 33.0ms\n",
      "image 198/217 C:\\Users\\user\\Desktop\\studia\\Widzenie Komputerowe Projekt\\Predykcja_Karnych\\dataset\\karne_przerobione\\k3\\frame_0197.jpg: 352x512 1 person, 1 goal, 34.9ms\n",
      "image 199/217 C:\\Users\\user\\Desktop\\studia\\Widzenie Komputerowe Projekt\\Predykcja_Karnych\\dataset\\karne_przerobione\\k3\\frame_0198.jpg: 352x512 1 person, 1 goal, 29.0ms\n",
      "image 200/217 C:\\Users\\user\\Desktop\\studia\\Widzenie Komputerowe Projekt\\Predykcja_Karnych\\dataset\\karne_przerobione\\k3\\frame_0199.jpg: 352x512 1 person, 1 goal, 30.0ms\n",
      "image 201/217 C:\\Users\\user\\Desktop\\studia\\Widzenie Komputerowe Projekt\\Predykcja_Karnych\\dataset\\karne_przerobione\\k3\\frame_0200.jpg: 352x512 1 person, 1 goal, 26.6ms\n",
      "image 202/217 C:\\Users\\user\\Desktop\\studia\\Widzenie Komputerowe Projekt\\Predykcja_Karnych\\dataset\\karne_przerobione\\k3\\frame_0201.jpg: 352x512 1 person, 1 goal, 28.4ms\n",
      "image 203/217 C:\\Users\\user\\Desktop\\studia\\Widzenie Komputerowe Projekt\\Predykcja_Karnych\\dataset\\karne_przerobione\\k3\\frame_0202.jpg: 352x512 1 person, 1 goal, 28.8ms\n",
      "image 204/217 C:\\Users\\user\\Desktop\\studia\\Widzenie Komputerowe Projekt\\Predykcja_Karnych\\dataset\\karne_przerobione\\k3\\frame_0203.jpg: 352x512 1 person, 1 goal, 25.8ms\n",
      "image 205/217 C:\\Users\\user\\Desktop\\studia\\Widzenie Komputerowe Projekt\\Predykcja_Karnych\\dataset\\karne_przerobione\\k3\\frame_0204.jpg: 352x512 1 person, 1 goal, 26.8ms\n",
      "image 206/217 C:\\Users\\user\\Desktop\\studia\\Widzenie Komputerowe Projekt\\Predykcja_Karnych\\dataset\\karne_przerobione\\k3\\frame_0205.jpg: 352x512 1 person, 1 goal, 27.3ms\n",
      "image 207/217 C:\\Users\\user\\Desktop\\studia\\Widzenie Komputerowe Projekt\\Predykcja_Karnych\\dataset\\karne_przerobione\\k3\\frame_0206.jpg: 352x512 1 person, 1 goal, 28.8ms\n",
      "image 208/217 C:\\Users\\user\\Desktop\\studia\\Widzenie Komputerowe Projekt\\Predykcja_Karnych\\dataset\\karne_przerobione\\k3\\frame_0207.jpg: 352x512 1 person, 1 goal, 26.7ms\n",
      "image 209/217 C:\\Users\\user\\Desktop\\studia\\Widzenie Komputerowe Projekt\\Predykcja_Karnych\\dataset\\karne_przerobione\\k3\\frame_0208.jpg: 352x512 1 person, 1 goal, 26.8ms\n",
      "image 210/217 C:\\Users\\user\\Desktop\\studia\\Widzenie Komputerowe Projekt\\Predykcja_Karnych\\dataset\\karne_przerobione\\k3\\frame_0209.jpg: 352x512 1 person, 1 goal, 27.8ms\n",
      "image 211/217 C:\\Users\\user\\Desktop\\studia\\Widzenie Komputerowe Projekt\\Predykcja_Karnych\\dataset\\karne_przerobione\\k3\\frame_0210.jpg: 352x512 1 ball, 1 person, 1 goal, 25.6ms\n",
      "image 212/217 C:\\Users\\user\\Desktop\\studia\\Widzenie Komputerowe Projekt\\Predykcja_Karnych\\dataset\\karne_przerobione\\k3\\frame_0211.jpg: 352x512 1 ball, 1 person, 1 goal, 30.2ms\n",
      "image 213/217 C:\\Users\\user\\Desktop\\studia\\Widzenie Komputerowe Projekt\\Predykcja_Karnych\\dataset\\karne_przerobione\\k3\\frame_0212.jpg: 352x512 1 ball, 1 person, 1 goal, 26.6ms\n",
      "image 214/217 C:\\Users\\user\\Desktop\\studia\\Widzenie Komputerowe Projekt\\Predykcja_Karnych\\dataset\\karne_przerobione\\k3\\frame_0213.jpg: 352x512 1 ball, 1 person, 1 goal, 26.1ms\n",
      "image 215/217 C:\\Users\\user\\Desktop\\studia\\Widzenie Komputerowe Projekt\\Predykcja_Karnych\\dataset\\karne_przerobione\\k3\\frame_0214.jpg: 352x512 1 ball, 1 person, 1 goal, 26.9ms\n",
      "image 216/217 C:\\Users\\user\\Desktop\\studia\\Widzenie Komputerowe Projekt\\Predykcja_Karnych\\dataset\\karne_przerobione\\k3\\frame_0215.jpg: 352x512 1 ball, 1 person, 1 goal, 40.4ms\n",
      "image 217/217 C:\\Users\\user\\Desktop\\studia\\Widzenie Komputerowe Projekt\\Predykcja_Karnych\\dataset\\karne_przerobione\\k3\\frame_0216.jpg: 352x512 1 ball, 1 person, 1 goal, 26.7ms\n",
      "Speed: 1.6ms preprocess, 31.0ms inference, 0.5ms postprocess per image at shape (1, 3, 352, 512)\n",
      "Results saved to \u001B[1mC:\\Users\\user\\Desktop\\studia\\Widzenie Komputerowe Projekt\\Predykcja_Karnych\\runs\\detect\\predict_k3\\predict2\u001B[0m\n",
      "Przetwarzanie folderu: k4...\n",
      "\n",
      "image 1/246 C:\\Users\\user\\Desktop\\studia\\Widzenie Komputerowe Projekt\\Predykcja_Karnych\\dataset\\karne_przerobione\\k4\\frame_0000.jpg: 352x512 1 ball, 1 person, 1 goal, 29.6ms\n",
      "image 2/246 C:\\Users\\user\\Desktop\\studia\\Widzenie Komputerowe Projekt\\Predykcja_Karnych\\dataset\\karne_przerobione\\k4\\frame_0001.jpg: 352x512 1 ball, 1 person, 1 goal, 28.8ms\n",
      "image 3/246 C:\\Users\\user\\Desktop\\studia\\Widzenie Komputerowe Projekt\\Predykcja_Karnych\\dataset\\karne_przerobione\\k4\\frame_0002.jpg: 352x512 1 ball, 1 person, 1 goal, 26.3ms\n",
      "image 4/246 C:\\Users\\user\\Desktop\\studia\\Widzenie Komputerowe Projekt\\Predykcja_Karnych\\dataset\\karne_przerobione\\k4\\frame_0003.jpg: 352x512 1 ball, 1 person, 1 goal, 26.4ms\n",
      "image 5/246 C:\\Users\\user\\Desktop\\studia\\Widzenie Komputerowe Projekt\\Predykcja_Karnych\\dataset\\karne_przerobione\\k4\\frame_0004.jpg: 352x512 1 ball, 1 person, 1 goal, 25.6ms\n",
      "image 6/246 C:\\Users\\user\\Desktop\\studia\\Widzenie Komputerowe Projekt\\Predykcja_Karnych\\dataset\\karne_przerobione\\k4\\frame_0005.jpg: 352x512 1 ball, 1 person, 1 goal, 26.5ms\n",
      "image 7/246 C:\\Users\\user\\Desktop\\studia\\Widzenie Komputerowe Projekt\\Predykcja_Karnych\\dataset\\karne_przerobione\\k4\\frame_0006.jpg: 352x512 1 ball, 1 person, 1 goal, 29.8ms\n",
      "image 8/246 C:\\Users\\user\\Desktop\\studia\\Widzenie Komputerowe Projekt\\Predykcja_Karnych\\dataset\\karne_przerobione\\k4\\frame_0007.jpg: 352x512 1 ball, 1 person, 1 goal, 24.1ms\n",
      "image 9/246 C:\\Users\\user\\Desktop\\studia\\Widzenie Komputerowe Projekt\\Predykcja_Karnych\\dataset\\karne_przerobione\\k4\\frame_0008.jpg: 352x512 1 ball, 1 person, 1 goal, 26.6ms\n",
      "image 10/246 C:\\Users\\user\\Desktop\\studia\\Widzenie Komputerowe Projekt\\Predykcja_Karnych\\dataset\\karne_przerobione\\k4\\frame_0009.jpg: 352x512 1 ball, 1 person, 1 goal, 25.5ms\n",
      "image 11/246 C:\\Users\\user\\Desktop\\studia\\Widzenie Komputerowe Projekt\\Predykcja_Karnych\\dataset\\karne_przerobione\\k4\\frame_0010.jpg: 352x512 1 ball, 1 person, 1 goal, 28.0ms\n",
      "image 12/246 C:\\Users\\user\\Desktop\\studia\\Widzenie Komputerowe Projekt\\Predykcja_Karnych\\dataset\\karne_przerobione\\k4\\frame_0011.jpg: 352x512 1 ball, 1 person, 1 goal, 31.2ms\n",
      "image 13/246 C:\\Users\\user\\Desktop\\studia\\Widzenie Komputerowe Projekt\\Predykcja_Karnych\\dataset\\karne_przerobione\\k4\\frame_0012.jpg: 352x512 1 ball, 1 person, 1 goal, 28.2ms\n",
      "image 14/246 C:\\Users\\user\\Desktop\\studia\\Widzenie Komputerowe Projekt\\Predykcja_Karnych\\dataset\\karne_przerobione\\k4\\frame_0013.jpg: 352x512 1 ball, 1 person, 1 goal, 30.9ms\n",
      "image 15/246 C:\\Users\\user\\Desktop\\studia\\Widzenie Komputerowe Projekt\\Predykcja_Karnych\\dataset\\karne_przerobione\\k4\\frame_0014.jpg: 352x512 1 ball, 1 person, 1 goal, 26.9ms\n",
      "image 16/246 C:\\Users\\user\\Desktop\\studia\\Widzenie Komputerowe Projekt\\Predykcja_Karnych\\dataset\\karne_przerobione\\k4\\frame_0015.jpg: 352x512 1 ball, 1 person, 1 goal, 26.3ms\n",
      "image 17/246 C:\\Users\\user\\Desktop\\studia\\Widzenie Komputerowe Projekt\\Predykcja_Karnych\\dataset\\karne_przerobione\\k4\\frame_0016.jpg: 352x512 1 ball, 1 person, 1 goal, 28.7ms\n",
      "image 18/246 C:\\Users\\user\\Desktop\\studia\\Widzenie Komputerowe Projekt\\Predykcja_Karnych\\dataset\\karne_przerobione\\k4\\frame_0017.jpg: 352x512 1 ball, 1 person, 1 goal, 29.2ms\n",
      "image 19/246 C:\\Users\\user\\Desktop\\studia\\Widzenie Komputerowe Projekt\\Predykcja_Karnych\\dataset\\karne_przerobione\\k4\\frame_0018.jpg: 352x512 1 ball, 1 person, 1 goal, 25.7ms\n",
      "image 20/246 C:\\Users\\user\\Desktop\\studia\\Widzenie Komputerowe Projekt\\Predykcja_Karnych\\dataset\\karne_przerobione\\k4\\frame_0019.jpg: 352x512 1 ball, 1 person, 1 goal, 26.5ms\n",
      "image 21/246 C:\\Users\\user\\Desktop\\studia\\Widzenie Komputerowe Projekt\\Predykcja_Karnych\\dataset\\karne_przerobione\\k4\\frame_0020.jpg: 352x512 1 ball, 1 person, 1 goal, 29.6ms\n",
      "image 22/246 C:\\Users\\user\\Desktop\\studia\\Widzenie Komputerowe Projekt\\Predykcja_Karnych\\dataset\\karne_przerobione\\k4\\frame_0021.jpg: 352x512 1 ball, 1 person, 1 goal, 26.8ms\n",
      "image 23/246 C:\\Users\\user\\Desktop\\studia\\Widzenie Komputerowe Projekt\\Predykcja_Karnych\\dataset\\karne_przerobione\\k4\\frame_0022.jpg: 352x512 1 ball, 1 person, 1 goal, 27.1ms\n",
      "image 24/246 C:\\Users\\user\\Desktop\\studia\\Widzenie Komputerowe Projekt\\Predykcja_Karnych\\dataset\\karne_przerobione\\k4\\frame_0023.jpg: 352x512 1 ball, 1 person, 1 goal, 26.4ms\n",
      "image 25/246 C:\\Users\\user\\Desktop\\studia\\Widzenie Komputerowe Projekt\\Predykcja_Karnych\\dataset\\karne_przerobione\\k4\\frame_0024.jpg: 352x512 1 ball, 1 person, 1 goal, 26.1ms\n",
      "image 26/246 C:\\Users\\user\\Desktop\\studia\\Widzenie Komputerowe Projekt\\Predykcja_Karnych\\dataset\\karne_przerobione\\k4\\frame_0025.jpg: 352x512 1 ball, 1 person, 1 goal, 26.6ms\n",
      "image 27/246 C:\\Users\\user\\Desktop\\studia\\Widzenie Komputerowe Projekt\\Predykcja_Karnych\\dataset\\karne_przerobione\\k4\\frame_0026.jpg: 352x512 1 ball, 1 person, 1 goal, 25.1ms\n",
      "image 28/246 C:\\Users\\user\\Desktop\\studia\\Widzenie Komputerowe Projekt\\Predykcja_Karnych\\dataset\\karne_przerobione\\k4\\frame_0027.jpg: 352x512 1 ball, 1 person, 1 goal, 27.4ms\n",
      "image 29/246 C:\\Users\\user\\Desktop\\studia\\Widzenie Komputerowe Projekt\\Predykcja_Karnych\\dataset\\karne_przerobione\\k4\\frame_0028.jpg: 352x512 1 ball, 1 person, 1 goal, 27.1ms\n",
      "image 30/246 C:\\Users\\user\\Desktop\\studia\\Widzenie Komputerowe Projekt\\Predykcja_Karnych\\dataset\\karne_przerobione\\k4\\frame_0029.jpg: 352x512 1 ball, 1 person, 1 goal, 28.7ms\n",
      "image 31/246 C:\\Users\\user\\Desktop\\studia\\Widzenie Komputerowe Projekt\\Predykcja_Karnych\\dataset\\karne_przerobione\\k4\\frame_0030.jpg: 352x512 1 ball, 1 person, 1 goal, 28.8ms\n",
      "image 32/246 C:\\Users\\user\\Desktop\\studia\\Widzenie Komputerowe Projekt\\Predykcja_Karnych\\dataset\\karne_przerobione\\k4\\frame_0031.jpg: 352x512 1 ball, 1 person, 1 goal, 27.6ms\n",
      "image 33/246 C:\\Users\\user\\Desktop\\studia\\Widzenie Komputerowe Projekt\\Predykcja_Karnych\\dataset\\karne_przerobione\\k4\\frame_0032.jpg: 352x512 1 ball, 1 person, 1 goal, 27.1ms\n",
      "image 34/246 C:\\Users\\user\\Desktop\\studia\\Widzenie Komputerowe Projekt\\Predykcja_Karnych\\dataset\\karne_przerobione\\k4\\frame_0033.jpg: 352x512 1 ball, 1 person, 1 goal, 42.1ms\n",
      "image 35/246 C:\\Users\\user\\Desktop\\studia\\Widzenie Komputerowe Projekt\\Predykcja_Karnych\\dataset\\karne_przerobione\\k4\\frame_0034.jpg: 352x512 1 ball, 1 person, 1 goal, 29.4ms\n",
      "image 36/246 C:\\Users\\user\\Desktop\\studia\\Widzenie Komputerowe Projekt\\Predykcja_Karnych\\dataset\\karne_przerobione\\k4\\frame_0035.jpg: 352x512 1 ball, 1 person, 1 goal, 26.9ms\n",
      "image 37/246 C:\\Users\\user\\Desktop\\studia\\Widzenie Komputerowe Projekt\\Predykcja_Karnych\\dataset\\karne_przerobione\\k4\\frame_0036.jpg: 352x512 1 ball, 1 person, 1 goal, 26.9ms\n",
      "image 38/246 C:\\Users\\user\\Desktop\\studia\\Widzenie Komputerowe Projekt\\Predykcja_Karnych\\dataset\\karne_przerobione\\k4\\frame_0037.jpg: 352x512 1 ball, 1 person, 1 goal, 27.8ms\n",
      "image 39/246 C:\\Users\\user\\Desktop\\studia\\Widzenie Komputerowe Projekt\\Predykcja_Karnych\\dataset\\karne_przerobione\\k4\\frame_0038.jpg: 352x512 1 ball, 1 person, 1 goal, 43.7ms\n",
      "image 40/246 C:\\Users\\user\\Desktop\\studia\\Widzenie Komputerowe Projekt\\Predykcja_Karnych\\dataset\\karne_przerobione\\k4\\frame_0039.jpg: 352x512 1 ball, 1 person, 1 goal, 31.9ms\n",
      "image 41/246 C:\\Users\\user\\Desktop\\studia\\Widzenie Komputerowe Projekt\\Predykcja_Karnych\\dataset\\karne_przerobione\\k4\\frame_0040.jpg: 352x512 1 ball, 1 person, 1 goal, 33.2ms\n",
      "image 42/246 C:\\Users\\user\\Desktop\\studia\\Widzenie Komputerowe Projekt\\Predykcja_Karnych\\dataset\\karne_przerobione\\k4\\frame_0041.jpg: 352x512 1 ball, 1 person, 1 goal, 29.3ms\n",
      "image 43/246 C:\\Users\\user\\Desktop\\studia\\Widzenie Komputerowe Projekt\\Predykcja_Karnych\\dataset\\karne_przerobione\\k4\\frame_0042.jpg: 352x512 1 ball, 1 person, 1 goal, 32.4ms\n",
      "image 44/246 C:\\Users\\user\\Desktop\\studia\\Widzenie Komputerowe Projekt\\Predykcja_Karnych\\dataset\\karne_przerobione\\k4\\frame_0043.jpg: 352x512 1 ball, 1 person, 1 goal, 27.7ms\n",
      "image 45/246 C:\\Users\\user\\Desktop\\studia\\Widzenie Komputerowe Projekt\\Predykcja_Karnych\\dataset\\karne_przerobione\\k4\\frame_0044.jpg: 352x512 1 ball, 1 person, 1 goal, 26.6ms\n",
      "image 46/246 C:\\Users\\user\\Desktop\\studia\\Widzenie Komputerowe Projekt\\Predykcja_Karnych\\dataset\\karne_przerobione\\k4\\frame_0045.jpg: 352x512 1 ball, 1 person, 1 goal, 28.7ms\n",
      "image 47/246 C:\\Users\\user\\Desktop\\studia\\Widzenie Komputerowe Projekt\\Predykcja_Karnych\\dataset\\karne_przerobione\\k4\\frame_0046.jpg: 352x512 1 ball, 1 person, 1 goal, 27.8ms\n",
      "image 48/246 C:\\Users\\user\\Desktop\\studia\\Widzenie Komputerowe Projekt\\Predykcja_Karnych\\dataset\\karne_przerobione\\k4\\frame_0047.jpg: 352x512 1 ball, 1 person, 1 goal, 28.1ms\n",
      "image 49/246 C:\\Users\\user\\Desktop\\studia\\Widzenie Komputerowe Projekt\\Predykcja_Karnych\\dataset\\karne_przerobione\\k4\\frame_0048.jpg: 352x512 1 ball, 1 person, 1 goal, 30.6ms\n",
      "image 50/246 C:\\Users\\user\\Desktop\\studia\\Widzenie Komputerowe Projekt\\Predykcja_Karnych\\dataset\\karne_przerobione\\k4\\frame_0049.jpg: 352x512 1 ball, 1 person, 1 goal, 33.0ms\n",
      "image 51/246 C:\\Users\\user\\Desktop\\studia\\Widzenie Komputerowe Projekt\\Predykcja_Karnych\\dataset\\karne_przerobione\\k4\\frame_0050.jpg: 352x512 1 ball, 1 person, 1 goal, 33.6ms\n",
      "image 52/246 C:\\Users\\user\\Desktop\\studia\\Widzenie Komputerowe Projekt\\Predykcja_Karnych\\dataset\\karne_przerobione\\k4\\frame_0051.jpg: 352x512 1 ball, 1 person, 1 goal, 31.2ms\n",
      "image 53/246 C:\\Users\\user\\Desktop\\studia\\Widzenie Komputerowe Projekt\\Predykcja_Karnych\\dataset\\karne_przerobione\\k4\\frame_0052.jpg: 352x512 1 ball, 1 person, 1 goal, 34.2ms\n",
      "image 54/246 C:\\Users\\user\\Desktop\\studia\\Widzenie Komputerowe Projekt\\Predykcja_Karnych\\dataset\\karne_przerobione\\k4\\frame_0053.jpg: 352x512 1 ball, 1 person, 1 goal, 29.6ms\n",
      "image 55/246 C:\\Users\\user\\Desktop\\studia\\Widzenie Komputerowe Projekt\\Predykcja_Karnych\\dataset\\karne_przerobione\\k4\\frame_0054.jpg: 352x512 1 ball, 1 person, 1 goal, 28.0ms\n",
      "image 56/246 C:\\Users\\user\\Desktop\\studia\\Widzenie Komputerowe Projekt\\Predykcja_Karnych\\dataset\\karne_przerobione\\k4\\frame_0055.jpg: 352x512 1 ball, 1 person, 1 goal, 25.8ms\n",
      "image 57/246 C:\\Users\\user\\Desktop\\studia\\Widzenie Komputerowe Projekt\\Predykcja_Karnych\\dataset\\karne_przerobione\\k4\\frame_0056.jpg: 352x512 1 ball, 1 person, 1 goal, 26.5ms\n",
      "image 58/246 C:\\Users\\user\\Desktop\\studia\\Widzenie Komputerowe Projekt\\Predykcja_Karnych\\dataset\\karne_przerobione\\k4\\frame_0057.jpg: 352x512 1 ball, 1 person, 1 goal, 26.7ms\n",
      "image 59/246 C:\\Users\\user\\Desktop\\studia\\Widzenie Komputerowe Projekt\\Predykcja_Karnych\\dataset\\karne_przerobione\\k4\\frame_0058.jpg: 352x512 1 ball, 1 person, 1 goal, 27.9ms\n",
      "image 60/246 C:\\Users\\user\\Desktop\\studia\\Widzenie Komputerowe Projekt\\Predykcja_Karnych\\dataset\\karne_przerobione\\k4\\frame_0059.jpg: 352x512 1 ball, 1 person, 1 goal, 27.0ms\n",
      "image 61/246 C:\\Users\\user\\Desktop\\studia\\Widzenie Komputerowe Projekt\\Predykcja_Karnych\\dataset\\karne_przerobione\\k4\\frame_0060.jpg: 352x512 1 ball, 1 person, 1 goal, 28.2ms\n",
      "image 62/246 C:\\Users\\user\\Desktop\\studia\\Widzenie Komputerowe Projekt\\Predykcja_Karnych\\dataset\\karne_przerobione\\k4\\frame_0061.jpg: 352x512 1 ball, 1 person, 1 goal, 28.7ms\n",
      "image 63/246 C:\\Users\\user\\Desktop\\studia\\Widzenie Komputerowe Projekt\\Predykcja_Karnych\\dataset\\karne_przerobione\\k4\\frame_0062.jpg: 352x512 1 ball, 1 person, 1 goal, 27.6ms\n",
      "image 64/246 C:\\Users\\user\\Desktop\\studia\\Widzenie Komputerowe Projekt\\Predykcja_Karnych\\dataset\\karne_przerobione\\k4\\frame_0063.jpg: 352x512 1 ball, 1 person, 1 goal, 27.0ms\n",
      "image 65/246 C:\\Users\\user\\Desktop\\studia\\Widzenie Komputerowe Projekt\\Predykcja_Karnych\\dataset\\karne_przerobione\\k4\\frame_0064.jpg: 352x512 1 ball, 1 person, 1 goal, 28.3ms\n",
      "image 66/246 C:\\Users\\user\\Desktop\\studia\\Widzenie Komputerowe Projekt\\Predykcja_Karnych\\dataset\\karne_przerobione\\k4\\frame_0065.jpg: 352x512 1 ball, 1 person, 1 goal, 30.0ms\n",
      "image 67/246 C:\\Users\\user\\Desktop\\studia\\Widzenie Komputerowe Projekt\\Predykcja_Karnych\\dataset\\karne_przerobione\\k4\\frame_0066.jpg: 352x512 1 ball, 1 person, 1 goal, 27.6ms\n",
      "image 68/246 C:\\Users\\user\\Desktop\\studia\\Widzenie Komputerowe Projekt\\Predykcja_Karnych\\dataset\\karne_przerobione\\k4\\frame_0067.jpg: 352x512 1 ball, 1 person, 1 goal, 27.5ms\n",
      "image 69/246 C:\\Users\\user\\Desktop\\studia\\Widzenie Komputerowe Projekt\\Predykcja_Karnych\\dataset\\karne_przerobione\\k4\\frame_0068.jpg: 352x512 1 ball, 1 person, 1 goal, 28.5ms\n",
      "image 70/246 C:\\Users\\user\\Desktop\\studia\\Widzenie Komputerowe Projekt\\Predykcja_Karnych\\dataset\\karne_przerobione\\k4\\frame_0069.jpg: 352x512 1 ball, 1 person, 1 goal, 27.9ms\n",
      "image 71/246 C:\\Users\\user\\Desktop\\studia\\Widzenie Komputerowe Projekt\\Predykcja_Karnych\\dataset\\karne_przerobione\\k4\\frame_0070.jpg: 352x512 1 ball, 1 person, 1 goal, 27.4ms\n",
      "image 72/246 C:\\Users\\user\\Desktop\\studia\\Widzenie Komputerowe Projekt\\Predykcja_Karnych\\dataset\\karne_przerobione\\k4\\frame_0071.jpg: 352x512 1 ball, 1 person, 1 goal, 29.9ms\n",
      "image 73/246 C:\\Users\\user\\Desktop\\studia\\Widzenie Komputerowe Projekt\\Predykcja_Karnych\\dataset\\karne_przerobione\\k4\\frame_0072.jpg: 352x512 1 ball, 1 person, 1 goal, 28.7ms\n",
      "image 74/246 C:\\Users\\user\\Desktop\\studia\\Widzenie Komputerowe Projekt\\Predykcja_Karnych\\dataset\\karne_przerobione\\k4\\frame_0073.jpg: 352x512 1 ball, 1 person, 1 goal, 26.7ms\n",
      "image 75/246 C:\\Users\\user\\Desktop\\studia\\Widzenie Komputerowe Projekt\\Predykcja_Karnych\\dataset\\karne_przerobione\\k4\\frame_0074.jpg: 352x512 1 ball, 1 person, 1 goal, 25.6ms\n",
      "image 76/246 C:\\Users\\user\\Desktop\\studia\\Widzenie Komputerowe Projekt\\Predykcja_Karnych\\dataset\\karne_przerobione\\k4\\frame_0075.jpg: 352x512 1 ball, 1 person, 1 goal, 26.7ms\n",
      "image 77/246 C:\\Users\\user\\Desktop\\studia\\Widzenie Komputerowe Projekt\\Predykcja_Karnych\\dataset\\karne_przerobione\\k4\\frame_0076.jpg: 352x512 1 ball, 1 person, 1 goal, 26.7ms\n",
      "image 78/246 C:\\Users\\user\\Desktop\\studia\\Widzenie Komputerowe Projekt\\Predykcja_Karnych\\dataset\\karne_przerobione\\k4\\frame_0077.jpg: 352x512 1 ball, 1 person, 1 goal, 26.5ms\n",
      "image 79/246 C:\\Users\\user\\Desktop\\studia\\Widzenie Komputerowe Projekt\\Predykcja_Karnych\\dataset\\karne_przerobione\\k4\\frame_0078.jpg: 352x512 1 ball, 1 person, 1 goal, 25.9ms\n",
      "image 80/246 C:\\Users\\user\\Desktop\\studia\\Widzenie Komputerowe Projekt\\Predykcja_Karnych\\dataset\\karne_przerobione\\k4\\frame_0079.jpg: 352x512 1 ball, 1 person, 1 goal, 26.3ms\n",
      "image 81/246 C:\\Users\\user\\Desktop\\studia\\Widzenie Komputerowe Projekt\\Predykcja_Karnych\\dataset\\karne_przerobione\\k4\\frame_0080.jpg: 352x512 1 ball, 1 person, 1 goal, 27.6ms\n",
      "image 82/246 C:\\Users\\user\\Desktop\\studia\\Widzenie Komputerowe Projekt\\Predykcja_Karnych\\dataset\\karne_przerobione\\k4\\frame_0081.jpg: 352x512 1 ball, 1 person, 1 goal, 26.3ms\n",
      "image 83/246 C:\\Users\\user\\Desktop\\studia\\Widzenie Komputerowe Projekt\\Predykcja_Karnych\\dataset\\karne_przerobione\\k4\\frame_0082.jpg: 352x512 1 ball, 1 person, 1 goal, 29.4ms\n",
      "image 84/246 C:\\Users\\user\\Desktop\\studia\\Widzenie Komputerowe Projekt\\Predykcja_Karnych\\dataset\\karne_przerobione\\k4\\frame_0083.jpg: 352x512 1 ball, 1 person, 1 goal, 31.0ms\n",
      "image 85/246 C:\\Users\\user\\Desktop\\studia\\Widzenie Komputerowe Projekt\\Predykcja_Karnych\\dataset\\karne_przerobione\\k4\\frame_0084.jpg: 352x512 1 ball, 1 person, 1 goal, 26.2ms\n",
      "image 86/246 C:\\Users\\user\\Desktop\\studia\\Widzenie Komputerowe Projekt\\Predykcja_Karnych\\dataset\\karne_przerobione\\k4\\frame_0085.jpg: 352x512 1 ball, 1 person, 1 goal, 25.9ms\n",
      "image 87/246 C:\\Users\\user\\Desktop\\studia\\Widzenie Komputerowe Projekt\\Predykcja_Karnych\\dataset\\karne_przerobione\\k4\\frame_0086.jpg: 352x512 1 ball, 1 person, 1 goal, 26.2ms\n",
      "image 88/246 C:\\Users\\user\\Desktop\\studia\\Widzenie Komputerowe Projekt\\Predykcja_Karnych\\dataset\\karne_przerobione\\k4\\frame_0087.jpg: 352x512 1 ball, 1 person, 1 goal, 24.3ms\n",
      "image 89/246 C:\\Users\\user\\Desktop\\studia\\Widzenie Komputerowe Projekt\\Predykcja_Karnych\\dataset\\karne_przerobione\\k4\\frame_0088.jpg: 352x512 1 ball, 1 person, 1 goal, 25.8ms\n",
      "image 90/246 C:\\Users\\user\\Desktop\\studia\\Widzenie Komputerowe Projekt\\Predykcja_Karnych\\dataset\\karne_przerobione\\k4\\frame_0089.jpg: 352x512 1 ball, 1 person, 1 goal, 26.9ms\n",
      "image 91/246 C:\\Users\\user\\Desktop\\studia\\Widzenie Komputerowe Projekt\\Predykcja_Karnych\\dataset\\karne_przerobione\\k4\\frame_0090.jpg: 352x512 1 ball, 1 person, 1 goal, 25.4ms\n",
      "image 92/246 C:\\Users\\user\\Desktop\\studia\\Widzenie Komputerowe Projekt\\Predykcja_Karnych\\dataset\\karne_przerobione\\k4\\frame_0091.jpg: 352x512 1 ball, 1 person, 1 goal, 27.0ms\n",
      "image 93/246 C:\\Users\\user\\Desktop\\studia\\Widzenie Komputerowe Projekt\\Predykcja_Karnych\\dataset\\karne_przerobione\\k4\\frame_0092.jpg: 352x512 1 ball, 1 person, 1 goal, 45.7ms\n",
      "image 94/246 C:\\Users\\user\\Desktop\\studia\\Widzenie Komputerowe Projekt\\Predykcja_Karnych\\dataset\\karne_przerobione\\k4\\frame_0093.jpg: 352x512 1 ball, 1 person, 1 goal, 26.5ms\n",
      "image 95/246 C:\\Users\\user\\Desktop\\studia\\Widzenie Komputerowe Projekt\\Predykcja_Karnych\\dataset\\karne_przerobione\\k4\\frame_0094.jpg: 352x512 1 ball, 1 person, 1 goal, 27.5ms\n",
      "image 96/246 C:\\Users\\user\\Desktop\\studia\\Widzenie Komputerowe Projekt\\Predykcja_Karnych\\dataset\\karne_przerobione\\k4\\frame_0095.jpg: 352x512 1 ball, 1 person, 1 goal, 27.7ms\n",
      "image 97/246 C:\\Users\\user\\Desktop\\studia\\Widzenie Komputerowe Projekt\\Predykcja_Karnych\\dataset\\karne_przerobione\\k4\\frame_0096.jpg: 352x512 1 ball, 1 person, 1 goal, 26.4ms\n",
      "image 98/246 C:\\Users\\user\\Desktop\\studia\\Widzenie Komputerowe Projekt\\Predykcja_Karnych\\dataset\\karne_przerobione\\k4\\frame_0097.jpg: 352x512 1 ball, 1 person, 1 goal, 37.4ms\n",
      "image 99/246 C:\\Users\\user\\Desktop\\studia\\Widzenie Komputerowe Projekt\\Predykcja_Karnych\\dataset\\karne_przerobione\\k4\\frame_0098.jpg: 352x512 1 ball, 1 person, 1 goal, 32.0ms\n",
      "image 100/246 C:\\Users\\user\\Desktop\\studia\\Widzenie Komputerowe Projekt\\Predykcja_Karnych\\dataset\\karne_przerobione\\k4\\frame_0099.jpg: 352x512 1 ball, 1 person, 1 goal, 35.1ms\n",
      "image 101/246 C:\\Users\\user\\Desktop\\studia\\Widzenie Komputerowe Projekt\\Predykcja_Karnych\\dataset\\karne_przerobione\\k4\\frame_0100.jpg: 352x512 1 ball, 1 person, 1 goal, 27.0ms\n",
      "image 102/246 C:\\Users\\user\\Desktop\\studia\\Widzenie Komputerowe Projekt\\Predykcja_Karnych\\dataset\\karne_przerobione\\k4\\frame_0101.jpg: 352x512 1 ball, 1 person, 1 goal, 26.3ms\n",
      "image 103/246 C:\\Users\\user\\Desktop\\studia\\Widzenie Komputerowe Projekt\\Predykcja_Karnych\\dataset\\karne_przerobione\\k4\\frame_0102.jpg: 352x512 1 ball, 1 person, 1 goal, 25.1ms\n",
      "image 104/246 C:\\Users\\user\\Desktop\\studia\\Widzenie Komputerowe Projekt\\Predykcja_Karnych\\dataset\\karne_przerobione\\k4\\frame_0103.jpg: 352x512 1 ball, 1 person, 1 goal, 24.1ms\n",
      "image 105/246 C:\\Users\\user\\Desktop\\studia\\Widzenie Komputerowe Projekt\\Predykcja_Karnych\\dataset\\karne_przerobione\\k4\\frame_0104.jpg: 352x512 1 ball, 1 person, 1 goal, 24.9ms\n",
      "image 106/246 C:\\Users\\user\\Desktop\\studia\\Widzenie Komputerowe Projekt\\Predykcja_Karnych\\dataset\\karne_przerobione\\k4\\frame_0105.jpg: 352x512 1 ball, 1 person, 1 goal, 26.1ms\n",
      "image 107/246 C:\\Users\\user\\Desktop\\studia\\Widzenie Komputerowe Projekt\\Predykcja_Karnych\\dataset\\karne_przerobione\\k4\\frame_0106.jpg: 352x512 1 ball, 1 person, 1 goal, 26.2ms\n",
      "image 108/246 C:\\Users\\user\\Desktop\\studia\\Widzenie Komputerowe Projekt\\Predykcja_Karnych\\dataset\\karne_przerobione\\k4\\frame_0107.jpg: 352x512 1 ball, 1 person, 1 goal, 26.3ms\n",
      "image 109/246 C:\\Users\\user\\Desktop\\studia\\Widzenie Komputerowe Projekt\\Predykcja_Karnych\\dataset\\karne_przerobione\\k4\\frame_0108.jpg: 352x512 1 ball, 1 person, 1 goal, 29.9ms\n",
      "image 110/246 C:\\Users\\user\\Desktop\\studia\\Widzenie Komputerowe Projekt\\Predykcja_Karnych\\dataset\\karne_przerobione\\k4\\frame_0109.jpg: 352x512 1 ball, 1 person, 1 goal, 26.9ms\n",
      "image 111/246 C:\\Users\\user\\Desktop\\studia\\Widzenie Komputerowe Projekt\\Predykcja_Karnych\\dataset\\karne_przerobione\\k4\\frame_0110.jpg: 352x512 1 ball, 1 person, 1 goal, 29.0ms\n",
      "image 112/246 C:\\Users\\user\\Desktop\\studia\\Widzenie Komputerowe Projekt\\Predykcja_Karnych\\dataset\\karne_przerobione\\k4\\frame_0111.jpg: 352x512 1 ball, 1 person, 1 goal, 26.0ms\n",
      "image 113/246 C:\\Users\\user\\Desktop\\studia\\Widzenie Komputerowe Projekt\\Predykcja_Karnych\\dataset\\karne_przerobione\\k4\\frame_0112.jpg: 352x512 1 ball, 1 person, 1 goal, 27.6ms\n",
      "image 114/246 C:\\Users\\user\\Desktop\\studia\\Widzenie Komputerowe Projekt\\Predykcja_Karnych\\dataset\\karne_przerobione\\k4\\frame_0113.jpg: 352x512 1 ball, 1 person, 1 goal, 26.8ms\n",
      "image 115/246 C:\\Users\\user\\Desktop\\studia\\Widzenie Komputerowe Projekt\\Predykcja_Karnych\\dataset\\karne_przerobione\\k4\\frame_0114.jpg: 352x512 1 ball, 1 person, 1 goal, 27.8ms\n",
      "image 116/246 C:\\Users\\user\\Desktop\\studia\\Widzenie Komputerowe Projekt\\Predykcja_Karnych\\dataset\\karne_przerobione\\k4\\frame_0115.jpg: 352x512 1 ball, 1 person, 1 goal, 25.7ms\n",
      "image 117/246 C:\\Users\\user\\Desktop\\studia\\Widzenie Komputerowe Projekt\\Predykcja_Karnych\\dataset\\karne_przerobione\\k4\\frame_0116.jpg: 352x512 1 ball, 1 person, 1 goal, 28.7ms\n",
      "image 118/246 C:\\Users\\user\\Desktop\\studia\\Widzenie Komputerowe Projekt\\Predykcja_Karnych\\dataset\\karne_przerobione\\k4\\frame_0117.jpg: 352x512 1 ball, 1 person, 1 goal, 27.0ms\n",
      "image 119/246 C:\\Users\\user\\Desktop\\studia\\Widzenie Komputerowe Projekt\\Predykcja_Karnych\\dataset\\karne_przerobione\\k4\\frame_0118.jpg: 352x512 1 ball, 1 person, 1 goal, 24.2ms\n",
      "image 120/246 C:\\Users\\user\\Desktop\\studia\\Widzenie Komputerowe Projekt\\Predykcja_Karnych\\dataset\\karne_przerobione\\k4\\frame_0119.jpg: 352x512 1 ball, 1 person, 1 goal, 27.5ms\n",
      "image 121/246 C:\\Users\\user\\Desktop\\studia\\Widzenie Komputerowe Projekt\\Predykcja_Karnych\\dataset\\karne_przerobione\\k4\\frame_0120.jpg: 352x512 1 ball, 1 person, 1 goal, 25.9ms\n",
      "image 122/246 C:\\Users\\user\\Desktop\\studia\\Widzenie Komputerowe Projekt\\Predykcja_Karnych\\dataset\\karne_przerobione\\k4\\frame_0121.jpg: 352x512 1 ball, 1 person, 1 goal, 24.9ms\n",
      "image 123/246 C:\\Users\\user\\Desktop\\studia\\Widzenie Komputerowe Projekt\\Predykcja_Karnych\\dataset\\karne_przerobione\\k4\\frame_0122.jpg: 352x512 1 ball, 1 person, 1 goal, 26.6ms\n",
      "image 124/246 C:\\Users\\user\\Desktop\\studia\\Widzenie Komputerowe Projekt\\Predykcja_Karnych\\dataset\\karne_przerobione\\k4\\frame_0123.jpg: 352x512 1 ball, 1 person, 1 goal, 25.5ms\n",
      "image 125/246 C:\\Users\\user\\Desktop\\studia\\Widzenie Komputerowe Projekt\\Predykcja_Karnych\\dataset\\karne_przerobione\\k4\\frame_0124.jpg: 352x512 1 ball, 1 person, 1 goal, 27.0ms\n",
      "image 126/246 C:\\Users\\user\\Desktop\\studia\\Widzenie Komputerowe Projekt\\Predykcja_Karnych\\dataset\\karne_przerobione\\k4\\frame_0125.jpg: 352x512 1 ball, 1 person, 1 goal, 24.7ms\n",
      "image 127/246 C:\\Users\\user\\Desktop\\studia\\Widzenie Komputerowe Projekt\\Predykcja_Karnych\\dataset\\karne_przerobione\\k4\\frame_0126.jpg: 352x512 1 ball, 1 person, 1 goal, 26.8ms\n",
      "image 128/246 C:\\Users\\user\\Desktop\\studia\\Widzenie Komputerowe Projekt\\Predykcja_Karnych\\dataset\\karne_przerobione\\k4\\frame_0127.jpg: 352x512 1 ball, 1 person, 1 goal, 24.4ms\n",
      "image 129/246 C:\\Users\\user\\Desktop\\studia\\Widzenie Komputerowe Projekt\\Predykcja_Karnych\\dataset\\karne_przerobione\\k4\\frame_0128.jpg: 352x512 1 ball, 1 person, 1 goal, 23.3ms\n",
      "image 130/246 C:\\Users\\user\\Desktop\\studia\\Widzenie Komputerowe Projekt\\Predykcja_Karnych\\dataset\\karne_przerobione\\k4\\frame_0129.jpg: 352x512 1 ball, 1 person, 1 goal, 26.9ms\n",
      "image 131/246 C:\\Users\\user\\Desktop\\studia\\Widzenie Komputerowe Projekt\\Predykcja_Karnych\\dataset\\karne_przerobione\\k4\\frame_0130.jpg: 352x512 1 ball, 1 person, 1 goal, 25.3ms\n",
      "image 132/246 C:\\Users\\user\\Desktop\\studia\\Widzenie Komputerowe Projekt\\Predykcja_Karnych\\dataset\\karne_przerobione\\k4\\frame_0131.jpg: 352x512 1 ball, 1 person, 1 goal, 22.9ms\n",
      "image 133/246 C:\\Users\\user\\Desktop\\studia\\Widzenie Komputerowe Projekt\\Predykcja_Karnych\\dataset\\karne_przerobione\\k4\\frame_0132.jpg: 352x512 1 ball, 1 person, 1 goal, 26.1ms\n",
      "image 134/246 C:\\Users\\user\\Desktop\\studia\\Widzenie Komputerowe Projekt\\Predykcja_Karnych\\dataset\\karne_przerobione\\k4\\frame_0133.jpg: 352x512 1 ball, 1 person, 1 goal, 26.3ms\n",
      "image 135/246 C:\\Users\\user\\Desktop\\studia\\Widzenie Komputerowe Projekt\\Predykcja_Karnych\\dataset\\karne_przerobione\\k4\\frame_0134.jpg: 352x512 1 ball, 1 person, 1 goal, 24.8ms\n",
      "image 136/246 C:\\Users\\user\\Desktop\\studia\\Widzenie Komputerowe Projekt\\Predykcja_Karnych\\dataset\\karne_przerobione\\k4\\frame_0135.jpg: 352x512 1 ball, 1 person, 1 goal, 26.0ms\n",
      "image 137/246 C:\\Users\\user\\Desktop\\studia\\Widzenie Komputerowe Projekt\\Predykcja_Karnych\\dataset\\karne_przerobione\\k4\\frame_0136.jpg: 352x512 1 ball, 1 person, 1 goal, 25.3ms\n",
      "image 138/246 C:\\Users\\user\\Desktop\\studia\\Widzenie Komputerowe Projekt\\Predykcja_Karnych\\dataset\\karne_przerobione\\k4\\frame_0137.jpg: 352x512 1 ball, 1 person, 1 goal, 25.0ms\n",
      "image 139/246 C:\\Users\\user\\Desktop\\studia\\Widzenie Komputerowe Projekt\\Predykcja_Karnych\\dataset\\karne_przerobione\\k4\\frame_0138.jpg: 352x512 1 ball, 1 person, 1 goal, 26.2ms\n",
      "image 140/246 C:\\Users\\user\\Desktop\\studia\\Widzenie Komputerowe Projekt\\Predykcja_Karnych\\dataset\\karne_przerobione\\k4\\frame_0139.jpg: 352x512 1 ball, 1 person, 1 goal, 27.6ms\n",
      "image 141/246 C:\\Users\\user\\Desktop\\studia\\Widzenie Komputerowe Projekt\\Predykcja_Karnych\\dataset\\karne_przerobione\\k4\\frame_0140.jpg: 352x512 1 ball, 1 person, 1 goal, 26.8ms\n",
      "image 142/246 C:\\Users\\user\\Desktop\\studia\\Widzenie Komputerowe Projekt\\Predykcja_Karnych\\dataset\\karne_przerobione\\k4\\frame_0141.jpg: 352x512 1 ball, 1 person, 1 goal, 28.6ms\n",
      "image 143/246 C:\\Users\\user\\Desktop\\studia\\Widzenie Komputerowe Projekt\\Predykcja_Karnych\\dataset\\karne_przerobione\\k4\\frame_0142.jpg: 352x512 1 ball, 1 person, 1 goal, 27.3ms\n",
      "image 144/246 C:\\Users\\user\\Desktop\\studia\\Widzenie Komputerowe Projekt\\Predykcja_Karnych\\dataset\\karne_przerobione\\k4\\frame_0143.jpg: 352x512 1 ball, 1 person, 1 goal, 29.9ms\n",
      "image 145/246 C:\\Users\\user\\Desktop\\studia\\Widzenie Komputerowe Projekt\\Predykcja_Karnych\\dataset\\karne_przerobione\\k4\\frame_0144.jpg: 352x512 1 ball, 1 person, 1 goal, 31.6ms\n",
      "image 146/246 C:\\Users\\user\\Desktop\\studia\\Widzenie Komputerowe Projekt\\Predykcja_Karnych\\dataset\\karne_przerobione\\k4\\frame_0145.jpg: 352x512 1 ball, 1 person, 1 goal, 33.6ms\n",
      "image 147/246 C:\\Users\\user\\Desktop\\studia\\Widzenie Komputerowe Projekt\\Predykcja_Karnych\\dataset\\karne_przerobione\\k4\\frame_0146.jpg: 352x512 1 ball, 1 person, 1 goal, 30.1ms\n",
      "image 148/246 C:\\Users\\user\\Desktop\\studia\\Widzenie Komputerowe Projekt\\Predykcja_Karnych\\dataset\\karne_przerobione\\k4\\frame_0147.jpg: 352x512 1 ball, 1 person, 1 goal, 28.8ms\n",
      "image 149/246 C:\\Users\\user\\Desktop\\studia\\Widzenie Komputerowe Projekt\\Predykcja_Karnych\\dataset\\karne_przerobione\\k4\\frame_0148.jpg: 352x512 1 ball, 1 person, 1 goal, 25.7ms\n",
      "image 150/246 C:\\Users\\user\\Desktop\\studia\\Widzenie Komputerowe Projekt\\Predykcja_Karnych\\dataset\\karne_przerobione\\k4\\frame_0149.jpg: 352x512 1 ball, 1 person, 1 goal, 25.8ms\n",
      "image 151/246 C:\\Users\\user\\Desktop\\studia\\Widzenie Komputerowe Projekt\\Predykcja_Karnych\\dataset\\karne_przerobione\\k4\\frame_0150.jpg: 352x512 1 ball, 1 person, 1 goal, 25.2ms\n",
      "image 152/246 C:\\Users\\user\\Desktop\\studia\\Widzenie Komputerowe Projekt\\Predykcja_Karnych\\dataset\\karne_przerobione\\k4\\frame_0151.jpg: 352x512 1 ball, 1 person, 1 goal, 25.3ms\n",
      "image 153/246 C:\\Users\\user\\Desktop\\studia\\Widzenie Komputerowe Projekt\\Predykcja_Karnych\\dataset\\karne_przerobione\\k4\\frame_0152.jpg: 352x512 1 ball, 1 person, 1 goal, 45.0ms\n",
      "image 154/246 C:\\Users\\user\\Desktop\\studia\\Widzenie Komputerowe Projekt\\Predykcja_Karnych\\dataset\\karne_przerobione\\k4\\frame_0153.jpg: 352x512 1 ball, 1 person, 1 goal, 25.4ms\n",
      "image 155/246 C:\\Users\\user\\Desktop\\studia\\Widzenie Komputerowe Projekt\\Predykcja_Karnych\\dataset\\karne_przerobione\\k4\\frame_0154.jpg: 352x512 1 ball, 1 person, 1 goal, 25.8ms\n",
      "image 156/246 C:\\Users\\user\\Desktop\\studia\\Widzenie Komputerowe Projekt\\Predykcja_Karnych\\dataset\\karne_przerobione\\k4\\frame_0155.jpg: 352x512 1 ball, 1 person, 1 goal, 26.2ms\n",
      "image 157/246 C:\\Users\\user\\Desktop\\studia\\Widzenie Komputerowe Projekt\\Predykcja_Karnych\\dataset\\karne_przerobione\\k4\\frame_0156.jpg: 352x512 1 ball, 1 person, 1 goal, 25.7ms\n",
      "image 158/246 C:\\Users\\user\\Desktop\\studia\\Widzenie Komputerowe Projekt\\Predykcja_Karnych\\dataset\\karne_przerobione\\k4\\frame_0157.jpg: 352x512 1 ball, 1 person, 1 goal, 41.3ms\n",
      "image 159/246 C:\\Users\\user\\Desktop\\studia\\Widzenie Komputerowe Projekt\\Predykcja_Karnych\\dataset\\karne_przerobione\\k4\\frame_0158.jpg: 352x512 1 ball, 1 person, 1 goal, 31.4ms\n",
      "image 160/246 C:\\Users\\user\\Desktop\\studia\\Widzenie Komputerowe Projekt\\Predykcja_Karnych\\dataset\\karne_przerobione\\k4\\frame_0159.jpg: 352x512 1 ball, 1 person, 1 goal, 31.4ms\n",
      "image 161/246 C:\\Users\\user\\Desktop\\studia\\Widzenie Komputerowe Projekt\\Predykcja_Karnych\\dataset\\karne_przerobione\\k4\\frame_0160.jpg: 352x512 1 ball, 1 person, 1 goal, 29.8ms\n",
      "image 162/246 C:\\Users\\user\\Desktop\\studia\\Widzenie Komputerowe Projekt\\Predykcja_Karnych\\dataset\\karne_przerobione\\k4\\frame_0161.jpg: 352x512 1 ball, 1 person, 1 goal, 27.5ms\n",
      "image 163/246 C:\\Users\\user\\Desktop\\studia\\Widzenie Komputerowe Projekt\\Predykcja_Karnych\\dataset\\karne_przerobione\\k4\\frame_0162.jpg: 352x512 1 ball, 1 person, 1 goal, 27.8ms\n",
      "image 164/246 C:\\Users\\user\\Desktop\\studia\\Widzenie Komputerowe Projekt\\Predykcja_Karnych\\dataset\\karne_przerobione\\k4\\frame_0163.jpg: 352x512 1 ball, 1 person, 1 goal, 26.7ms\n",
      "image 165/246 C:\\Users\\user\\Desktop\\studia\\Widzenie Komputerowe Projekt\\Predykcja_Karnych\\dataset\\karne_przerobione\\k4\\frame_0164.jpg: 352x512 1 ball, 1 person, 1 goal, 30.2ms\n",
      "image 166/246 C:\\Users\\user\\Desktop\\studia\\Widzenie Komputerowe Projekt\\Predykcja_Karnych\\dataset\\karne_przerobione\\k4\\frame_0165.jpg: 352x512 1 ball, 1 person, 1 goal, 36.7ms\n",
      "image 167/246 C:\\Users\\user\\Desktop\\studia\\Widzenie Komputerowe Projekt\\Predykcja_Karnych\\dataset\\karne_przerobione\\k4\\frame_0166.jpg: 352x512 1 ball, 1 person, 1 goal, 29.3ms\n",
      "image 168/246 C:\\Users\\user\\Desktop\\studia\\Widzenie Komputerowe Projekt\\Predykcja_Karnych\\dataset\\karne_przerobione\\k4\\frame_0167.jpg: 352x512 1 ball, 1 person, 1 goal, 24.4ms\n",
      "image 169/246 C:\\Users\\user\\Desktop\\studia\\Widzenie Komputerowe Projekt\\Predykcja_Karnych\\dataset\\karne_przerobione\\k4\\frame_0168.jpg: 352x512 1 ball, 1 person, 1 goal, 25.5ms\n",
      "image 170/246 C:\\Users\\user\\Desktop\\studia\\Widzenie Komputerowe Projekt\\Predykcja_Karnych\\dataset\\karne_przerobione\\k4\\frame_0169.jpg: 352x512 1 ball, 1 person, 1 goal, 53.9ms\n",
      "image 171/246 C:\\Users\\user\\Desktop\\studia\\Widzenie Komputerowe Projekt\\Predykcja_Karnych\\dataset\\karne_przerobione\\k4\\frame_0170.jpg: 352x512 1 ball, 1 person, 1 goal, 30.8ms\n",
      "image 172/246 C:\\Users\\user\\Desktop\\studia\\Widzenie Komputerowe Projekt\\Predykcja_Karnych\\dataset\\karne_przerobione\\k4\\frame_0171.jpg: 352x512 1 ball, 1 person, 1 goal, 36.5ms\n",
      "image 173/246 C:\\Users\\user\\Desktop\\studia\\Widzenie Komputerowe Projekt\\Predykcja_Karnych\\dataset\\karne_przerobione\\k4\\frame_0172.jpg: 352x512 1 ball, 1 person, 1 goal, 29.5ms\n",
      "image 174/246 C:\\Users\\user\\Desktop\\studia\\Widzenie Komputerowe Projekt\\Predykcja_Karnych\\dataset\\karne_przerobione\\k4\\frame_0173.jpg: 352x512 1 ball, 1 person, 1 goal, 34.3ms\n",
      "image 175/246 C:\\Users\\user\\Desktop\\studia\\Widzenie Komputerowe Projekt\\Predykcja_Karnych\\dataset\\karne_przerobione\\k4\\frame_0174.jpg: 352x512 1 ball, 1 person, 1 goal, 25.8ms\n",
      "image 176/246 C:\\Users\\user\\Desktop\\studia\\Widzenie Komputerowe Projekt\\Predykcja_Karnych\\dataset\\karne_przerobione\\k4\\frame_0175.jpg: 352x512 1 ball, 1 person, 1 goal, 27.9ms\n",
      "image 177/246 C:\\Users\\user\\Desktop\\studia\\Widzenie Komputerowe Projekt\\Predykcja_Karnych\\dataset\\karne_przerobione\\k4\\frame_0176.jpg: 352x512 1 ball, 1 person, 1 goal, 24.8ms\n",
      "image 178/246 C:\\Users\\user\\Desktop\\studia\\Widzenie Komputerowe Projekt\\Predykcja_Karnych\\dataset\\karne_przerobione\\k4\\frame_0177.jpg: 352x512 1 ball, 1 person, 1 goal, 26.5ms\n",
      "image 179/246 C:\\Users\\user\\Desktop\\studia\\Widzenie Komputerowe Projekt\\Predykcja_Karnych\\dataset\\karne_przerobione\\k4\\frame_0178.jpg: 352x512 1 ball, 1 person, 1 goal, 30.7ms\n",
      "image 180/246 C:\\Users\\user\\Desktop\\studia\\Widzenie Komputerowe Projekt\\Predykcja_Karnych\\dataset\\karne_przerobione\\k4\\frame_0179.jpg: 352x512 1 person, 1 goal, 31.4ms\n",
      "image 181/246 C:\\Users\\user\\Desktop\\studia\\Widzenie Komputerowe Projekt\\Predykcja_Karnych\\dataset\\karne_przerobione\\k4\\frame_0180.jpg: 352x512 1 person, 1 goal, 27.2ms\n",
      "image 182/246 C:\\Users\\user\\Desktop\\studia\\Widzenie Komputerowe Projekt\\Predykcja_Karnych\\dataset\\karne_przerobione\\k4\\frame_0181.jpg: 352x512 1 person, 1 goal, 27.3ms\n",
      "image 183/246 C:\\Users\\user\\Desktop\\studia\\Widzenie Komputerowe Projekt\\Predykcja_Karnych\\dataset\\karne_przerobione\\k4\\frame_0182.jpg: 352x512 1 person, 1 goal, 27.3ms\n",
      "image 184/246 C:\\Users\\user\\Desktop\\studia\\Widzenie Komputerowe Projekt\\Predykcja_Karnych\\dataset\\karne_przerobione\\k4\\frame_0183.jpg: 352x512 1 person, 1 goal, 25.6ms\n",
      "image 185/246 C:\\Users\\user\\Desktop\\studia\\Widzenie Komputerowe Projekt\\Predykcja_Karnych\\dataset\\karne_przerobione\\k4\\frame_0184.jpg: 352x512 1 person, 1 goal, 27.3ms\n",
      "image 186/246 C:\\Users\\user\\Desktop\\studia\\Widzenie Komputerowe Projekt\\Predykcja_Karnych\\dataset\\karne_przerobione\\k4\\frame_0185.jpg: 352x512 1 person, 1 goal, 27.9ms\n",
      "image 187/246 C:\\Users\\user\\Desktop\\studia\\Widzenie Komputerowe Projekt\\Predykcja_Karnych\\dataset\\karne_przerobione\\k4\\frame_0186.jpg: 352x512 1 person, 1 goal, 26.8ms\n",
      "image 188/246 C:\\Users\\user\\Desktop\\studia\\Widzenie Komputerowe Projekt\\Predykcja_Karnych\\dataset\\karne_przerobione\\k4\\frame_0187.jpg: 352x512 1 person, 1 goal, 24.6ms\n",
      "image 189/246 C:\\Users\\user\\Desktop\\studia\\Widzenie Komputerowe Projekt\\Predykcja_Karnych\\dataset\\karne_przerobione\\k4\\frame_0188.jpg: 352x512 1 person, 1 goal, 26.2ms\n",
      "image 190/246 C:\\Users\\user\\Desktop\\studia\\Widzenie Komputerowe Projekt\\Predykcja_Karnych\\dataset\\karne_przerobione\\k4\\frame_0189.jpg: 352x512 1 person, 1 goal, 26.3ms\n",
      "image 191/246 C:\\Users\\user\\Desktop\\studia\\Widzenie Komputerowe Projekt\\Predykcja_Karnych\\dataset\\karne_przerobione\\k4\\frame_0190.jpg: 352x512 1 person, 1 goal, 26.6ms\n",
      "image 192/246 C:\\Users\\user\\Desktop\\studia\\Widzenie Komputerowe Projekt\\Predykcja_Karnych\\dataset\\karne_przerobione\\k4\\frame_0191.jpg: 352x512 1 person, 1 goal, 25.1ms\n",
      "image 193/246 C:\\Users\\user\\Desktop\\studia\\Widzenie Komputerowe Projekt\\Predykcja_Karnych\\dataset\\karne_przerobione\\k4\\frame_0192.jpg: 352x512 1 ball, 1 person, 1 goal, 27.0ms\n",
      "image 194/246 C:\\Users\\user\\Desktop\\studia\\Widzenie Komputerowe Projekt\\Predykcja_Karnych\\dataset\\karne_przerobione\\k4\\frame_0193.jpg: 352x512 1 ball, 1 person, 1 goal, 26.7ms\n",
      "image 195/246 C:\\Users\\user\\Desktop\\studia\\Widzenie Komputerowe Projekt\\Predykcja_Karnych\\dataset\\karne_przerobione\\k4\\frame_0194.jpg: 352x512 1 ball, 1 person, 1 goal, 24.6ms\n",
      "image 196/246 C:\\Users\\user\\Desktop\\studia\\Widzenie Komputerowe Projekt\\Predykcja_Karnych\\dataset\\karne_przerobione\\k4\\frame_0195.jpg: 352x512 1 ball, 1 person, 1 goal, 28.0ms\n",
      "image 197/246 C:\\Users\\user\\Desktop\\studia\\Widzenie Komputerowe Projekt\\Predykcja_Karnych\\dataset\\karne_przerobione\\k4\\frame_0196.jpg: 352x512 1 ball, 1 person, 1 goal, 27.2ms\n",
      "image 198/246 C:\\Users\\user\\Desktop\\studia\\Widzenie Komputerowe Projekt\\Predykcja_Karnych\\dataset\\karne_przerobione\\k4\\frame_0197.jpg: 352x512 1 ball, 1 person, 1 goal, 25.2ms\n",
      "image 199/246 C:\\Users\\user\\Desktop\\studia\\Widzenie Komputerowe Projekt\\Predykcja_Karnych\\dataset\\karne_przerobione\\k4\\frame_0198.jpg: 352x512 1 ball, 1 person, 1 goal, 28.1ms\n",
      "image 200/246 C:\\Users\\user\\Desktop\\studia\\Widzenie Komputerowe Projekt\\Predykcja_Karnych\\dataset\\karne_przerobione\\k4\\frame_0199.jpg: 352x512 1 ball, 1 person, 1 goal, 25.3ms\n",
      "image 201/246 C:\\Users\\user\\Desktop\\studia\\Widzenie Komputerowe Projekt\\Predykcja_Karnych\\dataset\\karne_przerobione\\k4\\frame_0200.jpg: 352x512 1 ball, 1 person, 1 goal, 26.8ms\n",
      "image 202/246 C:\\Users\\user\\Desktop\\studia\\Widzenie Komputerowe Projekt\\Predykcja_Karnych\\dataset\\karne_przerobione\\k4\\frame_0201.jpg: 352x512 1 ball, 1 person, 1 goal, 24.4ms\n",
      "image 203/246 C:\\Users\\user\\Desktop\\studia\\Widzenie Komputerowe Projekt\\Predykcja_Karnych\\dataset\\karne_przerobione\\k4\\frame_0202.jpg: 352x512 1 ball, 1 person, 1 goal, 26.4ms\n",
      "image 204/246 C:\\Users\\user\\Desktop\\studia\\Widzenie Komputerowe Projekt\\Predykcja_Karnych\\dataset\\karne_przerobione\\k4\\frame_0203.jpg: 352x512 1 ball, 1 person, 1 goal, 25.7ms\n",
      "image 205/246 C:\\Users\\user\\Desktop\\studia\\Widzenie Komputerowe Projekt\\Predykcja_Karnych\\dataset\\karne_przerobione\\k4\\frame_0204.jpg: 352x512 1 ball, 1 person, 1 goal, 28.1ms\n",
      "image 206/246 C:\\Users\\user\\Desktop\\studia\\Widzenie Komputerowe Projekt\\Predykcja_Karnych\\dataset\\karne_przerobione\\k4\\frame_0205.jpg: 352x512 1 ball, 1 person, 1 goal, 25.5ms\n",
      "image 207/246 C:\\Users\\user\\Desktop\\studia\\Widzenie Komputerowe Projekt\\Predykcja_Karnych\\dataset\\karne_przerobione\\k4\\frame_0206.jpg: 352x512 1 ball, 1 person, 1 goal, 27.3ms\n",
      "image 208/246 C:\\Users\\user\\Desktop\\studia\\Widzenie Komputerowe Projekt\\Predykcja_Karnych\\dataset\\karne_przerobione\\k4\\frame_0207.jpg: 352x512 1 person, 1 goal, 28.3ms\n",
      "image 209/246 C:\\Users\\user\\Desktop\\studia\\Widzenie Komputerowe Projekt\\Predykcja_Karnych\\dataset\\karne_przerobione\\k4\\frame_0208.jpg: 352x512 1 person, 1 goal, 27.2ms\n",
      "image 210/246 C:\\Users\\user\\Desktop\\studia\\Widzenie Komputerowe Projekt\\Predykcja_Karnych\\dataset\\karne_przerobione\\k4\\frame_0209.jpg: 352x512 1 person, 1 goal, 25.7ms\n",
      "image 211/246 C:\\Users\\user\\Desktop\\studia\\Widzenie Komputerowe Projekt\\Predykcja_Karnych\\dataset\\karne_przerobione\\k4\\frame_0210.jpg: 352x512 1 person, 1 goal, 26.6ms\n",
      "image 212/246 C:\\Users\\user\\Desktop\\studia\\Widzenie Komputerowe Projekt\\Predykcja_Karnych\\dataset\\karne_przerobione\\k4\\frame_0211.jpg: 352x512 1 person, 1 goal, 36.1ms\n",
      "image 213/246 C:\\Users\\user\\Desktop\\studia\\Widzenie Komputerowe Projekt\\Predykcja_Karnych\\dataset\\karne_przerobione\\k4\\frame_0212.jpg: 352x512 1 person, 1 goal, 27.6ms\n",
      "image 214/246 C:\\Users\\user\\Desktop\\studia\\Widzenie Komputerowe Projekt\\Predykcja_Karnych\\dataset\\karne_przerobione\\k4\\frame_0213.jpg: 352x512 1 person, 1 goal, 26.5ms\n",
      "image 215/246 C:\\Users\\user\\Desktop\\studia\\Widzenie Komputerowe Projekt\\Predykcja_Karnych\\dataset\\karne_przerobione\\k4\\frame_0214.jpg: 352x512 1 person, 1 goal, 26.8ms\n",
      "image 216/246 C:\\Users\\user\\Desktop\\studia\\Widzenie Komputerowe Projekt\\Predykcja_Karnych\\dataset\\karne_przerobione\\k4\\frame_0215.jpg: 352x512 1 person, 1 goal, 28.6ms\n",
      "image 217/246 C:\\Users\\user\\Desktop\\studia\\Widzenie Komputerowe Projekt\\Predykcja_Karnych\\dataset\\karne_przerobione\\k4\\frame_0216.jpg: 352x512 1 person, 1 goal, 56.6ms\n",
      "image 218/246 C:\\Users\\user\\Desktop\\studia\\Widzenie Komputerowe Projekt\\Predykcja_Karnych\\dataset\\karne_przerobione\\k4\\frame_0217.jpg: 352x512 1 person, 1 goal, 41.2ms\n",
      "image 219/246 C:\\Users\\user\\Desktop\\studia\\Widzenie Komputerowe Projekt\\Predykcja_Karnych\\dataset\\karne_przerobione\\k4\\frame_0218.jpg: 352x512 1 person, 1 goal, 41.5ms\n",
      "image 220/246 C:\\Users\\user\\Desktop\\studia\\Widzenie Komputerowe Projekt\\Predykcja_Karnych\\dataset\\karne_przerobione\\k4\\frame_0219.jpg: 352x512 1 person, 1 goal, 31.3ms\n",
      "image 221/246 C:\\Users\\user\\Desktop\\studia\\Widzenie Komputerowe Projekt\\Predykcja_Karnych\\dataset\\karne_przerobione\\k4\\frame_0220.jpg: 352x512 1 person, 1 goal, 33.1ms\n",
      "image 222/246 C:\\Users\\user\\Desktop\\studia\\Widzenie Komputerowe Projekt\\Predykcja_Karnych\\dataset\\karne_przerobione\\k4\\frame_0221.jpg: 352x512 1 person, 1 goal, 28.8ms\n",
      "image 223/246 C:\\Users\\user\\Desktop\\studia\\Widzenie Komputerowe Projekt\\Predykcja_Karnych\\dataset\\karne_przerobione\\k4\\frame_0222.jpg: 352x512 1 person, 1 goal, 31.1ms\n",
      "image 224/246 C:\\Users\\user\\Desktop\\studia\\Widzenie Komputerowe Projekt\\Predykcja_Karnych\\dataset\\karne_przerobione\\k4\\frame_0223.jpg: 352x512 1 person, 1 goal, 29.5ms\n",
      "image 225/246 C:\\Users\\user\\Desktop\\studia\\Widzenie Komputerowe Projekt\\Predykcja_Karnych\\dataset\\karne_przerobione\\k4\\frame_0224.jpg: 352x512 1 person, 1 goal, 41.3ms\n",
      "image 226/246 C:\\Users\\user\\Desktop\\studia\\Widzenie Komputerowe Projekt\\Predykcja_Karnych\\dataset\\karne_przerobione\\k4\\frame_0225.jpg: 352x512 1 person, 1 goal, 28.5ms\n",
      "image 227/246 C:\\Users\\user\\Desktop\\studia\\Widzenie Komputerowe Projekt\\Predykcja_Karnych\\dataset\\karne_przerobione\\k4\\frame_0226.jpg: 352x512 1 person, 1 goal, 29.3ms\n",
      "image 228/246 C:\\Users\\user\\Desktop\\studia\\Widzenie Komputerowe Projekt\\Predykcja_Karnych\\dataset\\karne_przerobione\\k4\\frame_0227.jpg: 352x512 1 person, 1 goal, 30.0ms\n",
      "image 229/246 C:\\Users\\user\\Desktop\\studia\\Widzenie Komputerowe Projekt\\Predykcja_Karnych\\dataset\\karne_przerobione\\k4\\frame_0228.jpg: 352x512 1 person, 1 goal, 31.2ms\n",
      "image 230/246 C:\\Users\\user\\Desktop\\studia\\Widzenie Komputerowe Projekt\\Predykcja_Karnych\\dataset\\karne_przerobione\\k4\\frame_0229.jpg: 352x512 1 person, 1 goal, 28.9ms\n",
      "image 231/246 C:\\Users\\user\\Desktop\\studia\\Widzenie Komputerowe Projekt\\Predykcja_Karnych\\dataset\\karne_przerobione\\k4\\frame_0230.jpg: 352x512 1 person, 1 goal, 29.6ms\n",
      "image 232/246 C:\\Users\\user\\Desktop\\studia\\Widzenie Komputerowe Projekt\\Predykcja_Karnych\\dataset\\karne_przerobione\\k4\\frame_0231.jpg: 352x512 1 person, 1 goal, 28.9ms\n",
      "image 233/246 C:\\Users\\user\\Desktop\\studia\\Widzenie Komputerowe Projekt\\Predykcja_Karnych\\dataset\\karne_przerobione\\k4\\frame_0232.jpg: 352x512 1 person, 1 goal, 28.5ms\n",
      "image 234/246 C:\\Users\\user\\Desktop\\studia\\Widzenie Komputerowe Projekt\\Predykcja_Karnych\\dataset\\karne_przerobione\\k4\\frame_0233.jpg: 352x512 1 person, 1 goal, 30.9ms\n",
      "image 235/246 C:\\Users\\user\\Desktop\\studia\\Widzenie Komputerowe Projekt\\Predykcja_Karnych\\dataset\\karne_przerobione\\k4\\frame_0234.jpg: 352x512 1 person, 1 goal, 28.6ms\n",
      "image 236/246 C:\\Users\\user\\Desktop\\studia\\Widzenie Komputerowe Projekt\\Predykcja_Karnych\\dataset\\karne_przerobione\\k4\\frame_0235.jpg: 352x512 1 person, 1 goal, 31.0ms\n",
      "image 237/246 C:\\Users\\user\\Desktop\\studia\\Widzenie Komputerowe Projekt\\Predykcja_Karnych\\dataset\\karne_przerobione\\k4\\frame_0236.jpg: 352x512 1 person, 1 goal, 30.4ms\n",
      "image 238/246 C:\\Users\\user\\Desktop\\studia\\Widzenie Komputerowe Projekt\\Predykcja_Karnych\\dataset\\karne_przerobione\\k4\\frame_0237.jpg: 352x512 1 person, 1 goal, 28.0ms\n",
      "image 239/246 C:\\Users\\user\\Desktop\\studia\\Widzenie Komputerowe Projekt\\Predykcja_Karnych\\dataset\\karne_przerobione\\k4\\frame_0238.jpg: 352x512 1 ball, 1 person, 1 goal, 29.6ms\n",
      "image 240/246 C:\\Users\\user\\Desktop\\studia\\Widzenie Komputerowe Projekt\\Predykcja_Karnych\\dataset\\karne_przerobione\\k4\\frame_0239.jpg: 352x512 1 ball, 1 person, 1 goal, 28.1ms\n",
      "image 241/246 C:\\Users\\user\\Desktop\\studia\\Widzenie Komputerowe Projekt\\Predykcja_Karnych\\dataset\\karne_przerobione\\k4\\frame_0240.jpg: 352x512 1 person, 1 goal, 25.9ms\n",
      "image 242/246 C:\\Users\\user\\Desktop\\studia\\Widzenie Komputerowe Projekt\\Predykcja_Karnych\\dataset\\karne_przerobione\\k4\\frame_0241.jpg: 352x512 1 person, 1 goal, 27.1ms\n",
      "image 243/246 C:\\Users\\user\\Desktop\\studia\\Widzenie Komputerowe Projekt\\Predykcja_Karnych\\dataset\\karne_przerobione\\k4\\frame_0242.jpg: 352x512 1 person, 1 goal, 25.7ms\n",
      "image 244/246 C:\\Users\\user\\Desktop\\studia\\Widzenie Komputerowe Projekt\\Predykcja_Karnych\\dataset\\karne_przerobione\\k4\\frame_0243.jpg: 352x512 1 person, 1 goal, 28.6ms\n",
      "image 245/246 C:\\Users\\user\\Desktop\\studia\\Widzenie Komputerowe Projekt\\Predykcja_Karnych\\dataset\\karne_przerobione\\k4\\frame_0244.jpg: 352x512 1 person, 1 goal, 27.3ms\n",
      "image 246/246 C:\\Users\\user\\Desktop\\studia\\Widzenie Komputerowe Projekt\\Predykcja_Karnych\\dataset\\karne_przerobione\\k4\\frame_0245.jpg: 352x512 1 ball, 1 person, 1 goal, 27.1ms\n",
      "Speed: 1.4ms preprocess, 28.5ms inference, 0.6ms postprocess per image at shape (1, 3, 352, 512)\n",
      "Results saved to \u001B[1mC:\\Users\\user\\Desktop\\studia\\Widzenie Komputerowe Projekt\\Predykcja_Karnych\\runs\\detect\\predict_k4\\predict2\u001B[0m\n",
      "Przetwarzanie folderu: k5...\n",
      "\n",
      "image 1/261 C:\\Users\\user\\Desktop\\studia\\Widzenie Komputerowe Projekt\\Predykcja_Karnych\\dataset\\karne_przerobione\\k5\\frame_0000.jpg: 352x512 1 ball, 1 person, 1 goal, 29.1ms\n",
      "image 2/261 C:\\Users\\user\\Desktop\\studia\\Widzenie Komputerowe Projekt\\Predykcja_Karnych\\dataset\\karne_przerobione\\k5\\frame_0001.jpg: 352x512 1 ball, 1 person, 1 goal, 28.1ms\n",
      "image 3/261 C:\\Users\\user\\Desktop\\studia\\Widzenie Komputerowe Projekt\\Predykcja_Karnych\\dataset\\karne_przerobione\\k5\\frame_0002.jpg: 352x512 1 ball, 1 person, 1 goal, 30.0ms\n",
      "image 4/261 C:\\Users\\user\\Desktop\\studia\\Widzenie Komputerowe Projekt\\Predykcja_Karnych\\dataset\\karne_przerobione\\k5\\frame_0003.jpg: 352x512 1 ball, 1 person, 1 goal, 26.7ms\n",
      "image 5/261 C:\\Users\\user\\Desktop\\studia\\Widzenie Komputerowe Projekt\\Predykcja_Karnych\\dataset\\karne_przerobione\\k5\\frame_0004.jpg: 352x512 1 ball, 1 person, 1 goal, 26.2ms\n",
      "image 6/261 C:\\Users\\user\\Desktop\\studia\\Widzenie Komputerowe Projekt\\Predykcja_Karnych\\dataset\\karne_przerobione\\k5\\frame_0005.jpg: 352x512 1 ball, 1 person, 1 goal, 27.1ms\n",
      "image 7/261 C:\\Users\\user\\Desktop\\studia\\Widzenie Komputerowe Projekt\\Predykcja_Karnych\\dataset\\karne_przerobione\\k5\\frame_0006.jpg: 352x512 1 ball, 1 person, 1 goal, 27.8ms\n",
      "image 8/261 C:\\Users\\user\\Desktop\\studia\\Widzenie Komputerowe Projekt\\Predykcja_Karnych\\dataset\\karne_przerobione\\k5\\frame_0007.jpg: 352x512 1 ball, 1 person, 1 goal, 29.0ms\n",
      "image 9/261 C:\\Users\\user\\Desktop\\studia\\Widzenie Komputerowe Projekt\\Predykcja_Karnych\\dataset\\karne_przerobione\\k5\\frame_0008.jpg: 352x512 1 ball, 1 person, 1 goal, 27.4ms\n",
      "image 10/261 C:\\Users\\user\\Desktop\\studia\\Widzenie Komputerowe Projekt\\Predykcja_Karnych\\dataset\\karne_przerobione\\k5\\frame_0009.jpg: 352x512 1 ball, 1 person, 1 goal, 30.2ms\n",
      "image 11/261 C:\\Users\\user\\Desktop\\studia\\Widzenie Komputerowe Projekt\\Predykcja_Karnych\\dataset\\karne_przerobione\\k5\\frame_0010.jpg: 352x512 1 ball, 1 person, 1 goal, 26.9ms\n",
      "image 12/261 C:\\Users\\user\\Desktop\\studia\\Widzenie Komputerowe Projekt\\Predykcja_Karnych\\dataset\\karne_przerobione\\k5\\frame_0011.jpg: 352x512 1 ball, 1 person, 1 goal, 25.8ms\n",
      "image 13/261 C:\\Users\\user\\Desktop\\studia\\Widzenie Komputerowe Projekt\\Predykcja_Karnych\\dataset\\karne_przerobione\\k5\\frame_0012.jpg: 352x512 1 ball, 1 person, 1 goal, 25.7ms\n",
      "image 14/261 C:\\Users\\user\\Desktop\\studia\\Widzenie Komputerowe Projekt\\Predykcja_Karnych\\dataset\\karne_przerobione\\k5\\frame_0013.jpg: 352x512 1 ball, 1 person, 1 goal, 29.1ms\n",
      "image 15/261 C:\\Users\\user\\Desktop\\studia\\Widzenie Komputerowe Projekt\\Predykcja_Karnych\\dataset\\karne_przerobione\\k5\\frame_0014.jpg: 352x512 1 ball, 1 person, 1 goal, 26.6ms\n",
      "image 16/261 C:\\Users\\user\\Desktop\\studia\\Widzenie Komputerowe Projekt\\Predykcja_Karnych\\dataset\\karne_przerobione\\k5\\frame_0015.jpg: 352x512 1 ball, 1 person, 1 goal, 27.4ms\n",
      "image 17/261 C:\\Users\\user\\Desktop\\studia\\Widzenie Komputerowe Projekt\\Predykcja_Karnych\\dataset\\karne_przerobione\\k5\\frame_0016.jpg: 352x512 1 ball, 1 person, 1 goal, 28.3ms\n",
      "image 18/261 C:\\Users\\user\\Desktop\\studia\\Widzenie Komputerowe Projekt\\Predykcja_Karnych\\dataset\\karne_przerobione\\k5\\frame_0017.jpg: 352x512 1 ball, 1 person, 1 goal, 27.9ms\n",
      "image 19/261 C:\\Users\\user\\Desktop\\studia\\Widzenie Komputerowe Projekt\\Predykcja_Karnych\\dataset\\karne_przerobione\\k5\\frame_0018.jpg: 352x512 1 ball, 1 person, 1 goal, 26.7ms\n",
      "image 20/261 C:\\Users\\user\\Desktop\\studia\\Widzenie Komputerowe Projekt\\Predykcja_Karnych\\dataset\\karne_przerobione\\k5\\frame_0019.jpg: 352x512 1 ball, 1 person, 1 goal, 27.3ms\n",
      "image 21/261 C:\\Users\\user\\Desktop\\studia\\Widzenie Komputerowe Projekt\\Predykcja_Karnych\\dataset\\karne_przerobione\\k5\\frame_0020.jpg: 352x512 1 ball, 1 person, 1 goal, 25.2ms\n",
      "image 22/261 C:\\Users\\user\\Desktop\\studia\\Widzenie Komputerowe Projekt\\Predykcja_Karnych\\dataset\\karne_przerobione\\k5\\frame_0021.jpg: 352x512 1 ball, 1 person, 1 goal, 25.3ms\n",
      "image 23/261 C:\\Users\\user\\Desktop\\studia\\Widzenie Komputerowe Projekt\\Predykcja_Karnych\\dataset\\karne_przerobione\\k5\\frame_0022.jpg: 352x512 1 ball, 1 person, 1 goal, 27.1ms\n",
      "image 24/261 C:\\Users\\user\\Desktop\\studia\\Widzenie Komputerowe Projekt\\Predykcja_Karnych\\dataset\\karne_przerobione\\k5\\frame_0023.jpg: 352x512 1 ball, 1 person, 1 goal, 36.5ms\n",
      "image 25/261 C:\\Users\\user\\Desktop\\studia\\Widzenie Komputerowe Projekt\\Predykcja_Karnych\\dataset\\karne_przerobione\\k5\\frame_0024.jpg: 352x512 1 ball, 1 person, 1 goal, 26.3ms\n",
      "image 26/261 C:\\Users\\user\\Desktop\\studia\\Widzenie Komputerowe Projekt\\Predykcja_Karnych\\dataset\\karne_przerobione\\k5\\frame_0025.jpg: 352x512 1 ball, 1 person, 1 goal, 28.0ms\n",
      "image 27/261 C:\\Users\\user\\Desktop\\studia\\Widzenie Komputerowe Projekt\\Predykcja_Karnych\\dataset\\karne_przerobione\\k5\\frame_0026.jpg: 352x512 1 ball, 1 person, 1 goal, 26.6ms\n",
      "image 28/261 C:\\Users\\user\\Desktop\\studia\\Widzenie Komputerowe Projekt\\Predykcja_Karnych\\dataset\\karne_przerobione\\k5\\frame_0027.jpg: 352x512 1 ball, 1 person, 1 goal, 25.0ms\n",
      "image 29/261 C:\\Users\\user\\Desktop\\studia\\Widzenie Komputerowe Projekt\\Predykcja_Karnych\\dataset\\karne_przerobione\\k5\\frame_0028.jpg: 352x512 1 ball, 1 person, 1 goal, 50.8ms\n",
      "image 30/261 C:\\Users\\user\\Desktop\\studia\\Widzenie Komputerowe Projekt\\Predykcja_Karnych\\dataset\\karne_przerobione\\k5\\frame_0029.jpg: 352x512 1 ball, 1 person, 1 goal, 35.3ms\n",
      "image 31/261 C:\\Users\\user\\Desktop\\studia\\Widzenie Komputerowe Projekt\\Predykcja_Karnych\\dataset\\karne_przerobione\\k5\\frame_0030.jpg: 352x512 1 ball, 1 person, 1 goal, 31.6ms\n",
      "image 32/261 C:\\Users\\user\\Desktop\\studia\\Widzenie Komputerowe Projekt\\Predykcja_Karnych\\dataset\\karne_przerobione\\k5\\frame_0031.jpg: 352x512 1 ball, 1 person, 1 goal, 28.5ms\n",
      "image 33/261 C:\\Users\\user\\Desktop\\studia\\Widzenie Komputerowe Projekt\\Predykcja_Karnych\\dataset\\karne_przerobione\\k5\\frame_0032.jpg: 352x512 1 ball, 1 person, 1 goal, 29.5ms\n",
      "image 34/261 C:\\Users\\user\\Desktop\\studia\\Widzenie Komputerowe Projekt\\Predykcja_Karnych\\dataset\\karne_przerobione\\k5\\frame_0033.jpg: 352x512 1 ball, 1 person, 1 goal, 27.8ms\n",
      "image 35/261 C:\\Users\\user\\Desktop\\studia\\Widzenie Komputerowe Projekt\\Predykcja_Karnych\\dataset\\karne_przerobione\\k5\\frame_0034.jpg: 352x512 1 ball, 1 person, 1 goal, 26.8ms\n",
      "image 36/261 C:\\Users\\user\\Desktop\\studia\\Widzenie Komputerowe Projekt\\Predykcja_Karnych\\dataset\\karne_przerobione\\k5\\frame_0035.jpg: 352x512 1 ball, 1 person, 1 goal, 27.7ms\n",
      "image 37/261 C:\\Users\\user\\Desktop\\studia\\Widzenie Komputerowe Projekt\\Predykcja_Karnych\\dataset\\karne_przerobione\\k5\\frame_0036.jpg: 352x512 1 ball, 1 person, 1 goal, 28.0ms\n",
      "image 38/261 C:\\Users\\user\\Desktop\\studia\\Widzenie Komputerowe Projekt\\Predykcja_Karnych\\dataset\\karne_przerobione\\k5\\frame_0037.jpg: 352x512 1 ball, 1 person, 1 goal, 27.7ms\n",
      "image 39/261 C:\\Users\\user\\Desktop\\studia\\Widzenie Komputerowe Projekt\\Predykcja_Karnych\\dataset\\karne_przerobione\\k5\\frame_0038.jpg: 352x512 1 ball, 1 person, 1 goal, 28.1ms\n",
      "image 40/261 C:\\Users\\user\\Desktop\\studia\\Widzenie Komputerowe Projekt\\Predykcja_Karnych\\dataset\\karne_przerobione\\k5\\frame_0039.jpg: 352x512 1 ball, 1 person, 1 goal, 30.4ms\n",
      "image 41/261 C:\\Users\\user\\Desktop\\studia\\Widzenie Komputerowe Projekt\\Predykcja_Karnych\\dataset\\karne_przerobione\\k5\\frame_0040.jpg: 352x512 1 ball, 1 person, 1 goal, 26.1ms\n",
      "image 42/261 C:\\Users\\user\\Desktop\\studia\\Widzenie Komputerowe Projekt\\Predykcja_Karnych\\dataset\\karne_przerobione\\k5\\frame_0041.jpg: 352x512 1 ball, 1 person, 1 goal, 27.3ms\n",
      "image 43/261 C:\\Users\\user\\Desktop\\studia\\Widzenie Komputerowe Projekt\\Predykcja_Karnych\\dataset\\karne_przerobione\\k5\\frame_0042.jpg: 352x512 1 ball, 1 person, 1 goal, 26.1ms\n",
      "image 44/261 C:\\Users\\user\\Desktop\\studia\\Widzenie Komputerowe Projekt\\Predykcja_Karnych\\dataset\\karne_przerobione\\k5\\frame_0043.jpg: 352x512 1 ball, 1 person, 1 goal, 27.8ms\n",
      "image 45/261 C:\\Users\\user\\Desktop\\studia\\Widzenie Komputerowe Projekt\\Predykcja_Karnych\\dataset\\karne_przerobione\\k5\\frame_0044.jpg: 352x512 1 ball, 1 person, 1 goal, 28.4ms\n",
      "image 46/261 C:\\Users\\user\\Desktop\\studia\\Widzenie Komputerowe Projekt\\Predykcja_Karnych\\dataset\\karne_przerobione\\k5\\frame_0045.jpg: 352x512 1 ball, 1 person, 1 goal, 29.0ms\n",
      "image 47/261 C:\\Users\\user\\Desktop\\studia\\Widzenie Komputerowe Projekt\\Predykcja_Karnych\\dataset\\karne_przerobione\\k5\\frame_0046.jpg: 352x512 1 ball, 1 person, 1 goal, 30.3ms\n",
      "image 48/261 C:\\Users\\user\\Desktop\\studia\\Widzenie Komputerowe Projekt\\Predykcja_Karnych\\dataset\\karne_przerobione\\k5\\frame_0047.jpg: 352x512 1 ball, 1 person, 1 goal, 28.2ms\n",
      "image 49/261 C:\\Users\\user\\Desktop\\studia\\Widzenie Komputerowe Projekt\\Predykcja_Karnych\\dataset\\karne_przerobione\\k5\\frame_0048.jpg: 352x512 1 ball, 1 person, 1 goal, 28.1ms\n",
      "image 50/261 C:\\Users\\user\\Desktop\\studia\\Widzenie Komputerowe Projekt\\Predykcja_Karnych\\dataset\\karne_przerobione\\k5\\frame_0049.jpg: 352x512 1 ball, 1 person, 1 goal, 25.4ms\n",
      "image 51/261 C:\\Users\\user\\Desktop\\studia\\Widzenie Komputerowe Projekt\\Predykcja_Karnych\\dataset\\karne_przerobione\\k5\\frame_0050.jpg: 352x512 1 ball, 1 person, 1 goal, 30.1ms\n",
      "image 52/261 C:\\Users\\user\\Desktop\\studia\\Widzenie Komputerowe Projekt\\Predykcja_Karnych\\dataset\\karne_przerobione\\k5\\frame_0051.jpg: 352x512 1 ball, 1 person, 1 goal, 28.0ms\n",
      "image 53/261 C:\\Users\\user\\Desktop\\studia\\Widzenie Komputerowe Projekt\\Predykcja_Karnych\\dataset\\karne_przerobione\\k5\\frame_0052.jpg: 352x512 1 ball, 1 person, 1 goal, 31.0ms\n",
      "image 54/261 C:\\Users\\user\\Desktop\\studia\\Widzenie Komputerowe Projekt\\Predykcja_Karnych\\dataset\\karne_przerobione\\k5\\frame_0053.jpg: 352x512 1 ball, 1 person, 1 goal, 29.5ms\n",
      "image 55/261 C:\\Users\\user\\Desktop\\studia\\Widzenie Komputerowe Projekt\\Predykcja_Karnych\\dataset\\karne_przerobione\\k5\\frame_0054.jpg: 352x512 1 ball, 1 person, 1 goal, 28.3ms\n",
      "image 56/261 C:\\Users\\user\\Desktop\\studia\\Widzenie Komputerowe Projekt\\Predykcja_Karnych\\dataset\\karne_przerobione\\k5\\frame_0055.jpg: 352x512 1 ball, 1 person, 1 goal, 27.6ms\n",
      "image 57/261 C:\\Users\\user\\Desktop\\studia\\Widzenie Komputerowe Projekt\\Predykcja_Karnych\\dataset\\karne_przerobione\\k5\\frame_0056.jpg: 352x512 1 ball, 1 person, 1 goal, 28.0ms\n",
      "image 58/261 C:\\Users\\user\\Desktop\\studia\\Widzenie Komputerowe Projekt\\Predykcja_Karnych\\dataset\\karne_przerobione\\k5\\frame_0057.jpg: 352x512 1 ball, 1 person, 1 goal, 27.8ms\n",
      "image 59/261 C:\\Users\\user\\Desktop\\studia\\Widzenie Komputerowe Projekt\\Predykcja_Karnych\\dataset\\karne_przerobione\\k5\\frame_0058.jpg: 352x512 1 ball, 1 person, 1 goal, 26.7ms\n",
      "image 60/261 C:\\Users\\user\\Desktop\\studia\\Widzenie Komputerowe Projekt\\Predykcja_Karnych\\dataset\\karne_przerobione\\k5\\frame_0059.jpg: 352x512 1 ball, 1 person, 1 goal, 26.6ms\n",
      "image 61/261 C:\\Users\\user\\Desktop\\studia\\Widzenie Komputerowe Projekt\\Predykcja_Karnych\\dataset\\karne_przerobione\\k5\\frame_0060.jpg: 352x512 1 ball, 1 person, 1 goal, 26.2ms\n",
      "image 62/261 C:\\Users\\user\\Desktop\\studia\\Widzenie Komputerowe Projekt\\Predykcja_Karnych\\dataset\\karne_przerobione\\k5\\frame_0061.jpg: 352x512 1 ball, 1 person, 1 goal, 27.8ms\n",
      "image 63/261 C:\\Users\\user\\Desktop\\studia\\Widzenie Komputerowe Projekt\\Predykcja_Karnych\\dataset\\karne_przerobione\\k5\\frame_0062.jpg: 352x512 1 ball, 1 person, 1 goal, 26.8ms\n",
      "image 64/261 C:\\Users\\user\\Desktop\\studia\\Widzenie Komputerowe Projekt\\Predykcja_Karnych\\dataset\\karne_przerobione\\k5\\frame_0063.jpg: 352x512 1 ball, 1 person, 1 goal, 27.5ms\n",
      "image 65/261 C:\\Users\\user\\Desktop\\studia\\Widzenie Komputerowe Projekt\\Predykcja_Karnych\\dataset\\karne_przerobione\\k5\\frame_0064.jpg: 352x512 1 ball, 1 person, 1 goal, 26.9ms\n",
      "image 66/261 C:\\Users\\user\\Desktop\\studia\\Widzenie Komputerowe Projekt\\Predykcja_Karnych\\dataset\\karne_przerobione\\k5\\frame_0065.jpg: 352x512 1 ball, 1 person, 1 goal, 25.9ms\n",
      "image 67/261 C:\\Users\\user\\Desktop\\studia\\Widzenie Komputerowe Projekt\\Predykcja_Karnych\\dataset\\karne_przerobione\\k5\\frame_0066.jpg: 352x512 1 ball, 1 person, 1 goal, 27.7ms\n",
      "image 68/261 C:\\Users\\user\\Desktop\\studia\\Widzenie Komputerowe Projekt\\Predykcja_Karnych\\dataset\\karne_przerobione\\k5\\frame_0067.jpg: 352x512 1 ball, 1 person, 1 goal, 27.7ms\n",
      "image 69/261 C:\\Users\\user\\Desktop\\studia\\Widzenie Komputerowe Projekt\\Predykcja_Karnych\\dataset\\karne_przerobione\\k5\\frame_0068.jpg: 352x512 1 ball, 1 person, 1 goal, 30.2ms\n",
      "image 70/261 C:\\Users\\user\\Desktop\\studia\\Widzenie Komputerowe Projekt\\Predykcja_Karnych\\dataset\\karne_przerobione\\k5\\frame_0069.jpg: 352x512 1 ball, 1 person, 1 goal, 32.6ms\n",
      "image 71/261 C:\\Users\\user\\Desktop\\studia\\Widzenie Komputerowe Projekt\\Predykcja_Karnych\\dataset\\karne_przerobione\\k5\\frame_0070.jpg: 352x512 1 ball, 1 person, 1 goal, 28.2ms\n",
      "image 72/261 C:\\Users\\user\\Desktop\\studia\\Widzenie Komputerowe Projekt\\Predykcja_Karnych\\dataset\\karne_przerobione\\k5\\frame_0071.jpg: 352x512 1 ball, 1 person, 1 goal, 29.2ms\n",
      "image 73/261 C:\\Users\\user\\Desktop\\studia\\Widzenie Komputerowe Projekt\\Predykcja_Karnych\\dataset\\karne_przerobione\\k5\\frame_0072.jpg: 352x512 1 ball, 1 person, 1 goal, 29.6ms\n",
      "image 74/261 C:\\Users\\user\\Desktop\\studia\\Widzenie Komputerowe Projekt\\Predykcja_Karnych\\dataset\\karne_przerobione\\k5\\frame_0073.jpg: 352x512 1 ball, 1 person, 1 goal, 31.8ms\n",
      "image 75/261 C:\\Users\\user\\Desktop\\studia\\Widzenie Komputerowe Projekt\\Predykcja_Karnych\\dataset\\karne_przerobione\\k5\\frame_0074.jpg: 352x512 1 ball, 1 person, 1 goal, 29.4ms\n",
      "image 76/261 C:\\Users\\user\\Desktop\\studia\\Widzenie Komputerowe Projekt\\Predykcja_Karnych\\dataset\\karne_przerobione\\k5\\frame_0075.jpg: 352x512 1 ball, 1 person, 1 goal, 31.0ms\n",
      "image 77/261 C:\\Users\\user\\Desktop\\studia\\Widzenie Komputerowe Projekt\\Predykcja_Karnych\\dataset\\karne_przerobione\\k5\\frame_0076.jpg: 352x512 1 ball, 1 person, 1 goal, 32.4ms\n",
      "image 78/261 C:\\Users\\user\\Desktop\\studia\\Widzenie Komputerowe Projekt\\Predykcja_Karnych\\dataset\\karne_przerobione\\k5\\frame_0077.jpg: 352x512 1 ball, 1 person, 1 goal, 27.7ms\n",
      "image 79/261 C:\\Users\\user\\Desktop\\studia\\Widzenie Komputerowe Projekt\\Predykcja_Karnych\\dataset\\karne_przerobione\\k5\\frame_0078.jpg: 352x512 1 ball, 1 person, 1 goal, 30.7ms\n",
      "image 80/261 C:\\Users\\user\\Desktop\\studia\\Widzenie Komputerowe Projekt\\Predykcja_Karnych\\dataset\\karne_przerobione\\k5\\frame_0079.jpg: 352x512 1 ball, 1 person, 1 goal, 31.8ms\n",
      "image 81/261 C:\\Users\\user\\Desktop\\studia\\Widzenie Komputerowe Projekt\\Predykcja_Karnych\\dataset\\karne_przerobione\\k5\\frame_0080.jpg: 352x512 1 ball, 1 person, 1 goal, 29.0ms\n",
      "image 82/261 C:\\Users\\user\\Desktop\\studia\\Widzenie Komputerowe Projekt\\Predykcja_Karnych\\dataset\\karne_przerobione\\k5\\frame_0081.jpg: 352x512 1 ball, 1 person, 1 goal, 27.0ms\n",
      "image 83/261 C:\\Users\\user\\Desktop\\studia\\Widzenie Komputerowe Projekt\\Predykcja_Karnych\\dataset\\karne_przerobione\\k5\\frame_0082.jpg: 352x512 1 ball, 1 person, 1 goal, 38.5ms\n",
      "image 84/261 C:\\Users\\user\\Desktop\\studia\\Widzenie Komputerowe Projekt\\Predykcja_Karnych\\dataset\\karne_przerobione\\k5\\frame_0083.jpg: 352x512 1 ball, 1 person, 1 goal, 31.7ms\n",
      "image 85/261 C:\\Users\\user\\Desktop\\studia\\Widzenie Komputerowe Projekt\\Predykcja_Karnych\\dataset\\karne_przerobione\\k5\\frame_0084.jpg: 352x512 1 ball, 1 person, 1 goal, 25.7ms\n",
      "image 86/261 C:\\Users\\user\\Desktop\\studia\\Widzenie Komputerowe Projekt\\Predykcja_Karnych\\dataset\\karne_przerobione\\k5\\frame_0085.jpg: 352x512 1 ball, 1 person, 1 goal, 27.6ms\n",
      "image 87/261 C:\\Users\\user\\Desktop\\studia\\Widzenie Komputerowe Projekt\\Predykcja_Karnych\\dataset\\karne_przerobione\\k5\\frame_0086.jpg: 352x512 1 ball, 1 person, 1 goal, 46.4ms\n",
      "image 88/261 C:\\Users\\user\\Desktop\\studia\\Widzenie Komputerowe Projekt\\Predykcja_Karnych\\dataset\\karne_przerobione\\k5\\frame_0087.jpg: 352x512 1 ball, 1 person, 1 goal, 34.6ms\n",
      "image 89/261 C:\\Users\\user\\Desktop\\studia\\Widzenie Komputerowe Projekt\\Predykcja_Karnych\\dataset\\karne_przerobione\\k5\\frame_0088.jpg: 352x512 1 ball, 1 person, 1 goal, 37.1ms\n",
      "image 90/261 C:\\Users\\user\\Desktop\\studia\\Widzenie Komputerowe Projekt\\Predykcja_Karnych\\dataset\\karne_przerobione\\k5\\frame_0089.jpg: 352x512 1 ball, 1 person, 1 goal, 32.8ms\n",
      "image 91/261 C:\\Users\\user\\Desktop\\studia\\Widzenie Komputerowe Projekt\\Predykcja_Karnych\\dataset\\karne_przerobione\\k5\\frame_0090.jpg: 352x512 1 ball, 1 person, 1 goal, 29.5ms\n",
      "image 92/261 C:\\Users\\user\\Desktop\\studia\\Widzenie Komputerowe Projekt\\Predykcja_Karnych\\dataset\\karne_przerobione\\k5\\frame_0091.jpg: 352x512 1 ball, 1 person, 1 goal, 32.7ms\n",
      "image 93/261 C:\\Users\\user\\Desktop\\studia\\Widzenie Komputerowe Projekt\\Predykcja_Karnych\\dataset\\karne_przerobione\\k5\\frame_0092.jpg: 352x512 1 ball, 1 person, 1 goal, 29.9ms\n",
      "image 94/261 C:\\Users\\user\\Desktop\\studia\\Widzenie Komputerowe Projekt\\Predykcja_Karnych\\dataset\\karne_przerobione\\k5\\frame_0093.jpg: 352x512 1 ball, 1 person, 1 goal, 25.2ms\n",
      "image 95/261 C:\\Users\\user\\Desktop\\studia\\Widzenie Komputerowe Projekt\\Predykcja_Karnych\\dataset\\karne_przerobione\\k5\\frame_0094.jpg: 352x512 1 ball, 1 person, 1 goal, 26.2ms\n",
      "image 96/261 C:\\Users\\user\\Desktop\\studia\\Widzenie Komputerowe Projekt\\Predykcja_Karnych\\dataset\\karne_przerobione\\k5\\frame_0095.jpg: 352x512 1 ball, 1 person, 1 goal, 29.2ms\n",
      "image 97/261 C:\\Users\\user\\Desktop\\studia\\Widzenie Komputerowe Projekt\\Predykcja_Karnych\\dataset\\karne_przerobione\\k5\\frame_0096.jpg: 352x512 1 ball, 1 person, 1 goal, 26.9ms\n",
      "image 98/261 C:\\Users\\user\\Desktop\\studia\\Widzenie Komputerowe Projekt\\Predykcja_Karnych\\dataset\\karne_przerobione\\k5\\frame_0097.jpg: 352x512 1 ball, 1 person, 1 goal, 27.2ms\n",
      "image 99/261 C:\\Users\\user\\Desktop\\studia\\Widzenie Komputerowe Projekt\\Predykcja_Karnych\\dataset\\karne_przerobione\\k5\\frame_0098.jpg: 352x512 1 ball, 1 person, 1 goal, 29.4ms\n",
      "image 100/261 C:\\Users\\user\\Desktop\\studia\\Widzenie Komputerowe Projekt\\Predykcja_Karnych\\dataset\\karne_przerobione\\k5\\frame_0099.jpg: 352x512 1 ball, 1 person, 1 goal, 29.3ms\n",
      "image 101/261 C:\\Users\\user\\Desktop\\studia\\Widzenie Komputerowe Projekt\\Predykcja_Karnych\\dataset\\karne_przerobione\\k5\\frame_0100.jpg: 352x512 1 ball, 1 person, 1 goal, 25.7ms\n",
      "image 102/261 C:\\Users\\user\\Desktop\\studia\\Widzenie Komputerowe Projekt\\Predykcja_Karnych\\dataset\\karne_przerobione\\k5\\frame_0101.jpg: 352x512 1 ball, 1 person, 1 goal, 26.9ms\n",
      "image 103/261 C:\\Users\\user\\Desktop\\studia\\Widzenie Komputerowe Projekt\\Predykcja_Karnych\\dataset\\karne_przerobione\\k5\\frame_0102.jpg: 352x512 1 ball, 1 person, 1 goal, 27.0ms\n",
      "image 104/261 C:\\Users\\user\\Desktop\\studia\\Widzenie Komputerowe Projekt\\Predykcja_Karnych\\dataset\\karne_przerobione\\k5\\frame_0103.jpg: 352x512 1 ball, 1 person, 1 goal, 27.7ms\n",
      "image 105/261 C:\\Users\\user\\Desktop\\studia\\Widzenie Komputerowe Projekt\\Predykcja_Karnych\\dataset\\karne_przerobione\\k5\\frame_0104.jpg: 352x512 1 ball, 1 person, 1 goal, 28.0ms\n",
      "image 106/261 C:\\Users\\user\\Desktop\\studia\\Widzenie Komputerowe Projekt\\Predykcja_Karnych\\dataset\\karne_przerobione\\k5\\frame_0105.jpg: 352x512 1 ball, 1 person, 1 goal, 27.8ms\n",
      "image 107/261 C:\\Users\\user\\Desktop\\studia\\Widzenie Komputerowe Projekt\\Predykcja_Karnych\\dataset\\karne_przerobione\\k5\\frame_0106.jpg: 352x512 1 ball, 1 person, 1 goal, 27.0ms\n",
      "image 108/261 C:\\Users\\user\\Desktop\\studia\\Widzenie Komputerowe Projekt\\Predykcja_Karnych\\dataset\\karne_przerobione\\k5\\frame_0107.jpg: 352x512 1 ball, 1 person, 1 goal, 25.5ms\n",
      "image 109/261 C:\\Users\\user\\Desktop\\studia\\Widzenie Komputerowe Projekt\\Predykcja_Karnych\\dataset\\karne_przerobione\\k5\\frame_0108.jpg: 352x512 1 ball, 1 person, 1 goal, 26.6ms\n",
      "image 110/261 C:\\Users\\user\\Desktop\\studia\\Widzenie Komputerowe Projekt\\Predykcja_Karnych\\dataset\\karne_przerobione\\k5\\frame_0109.jpg: 352x512 1 ball, 1 person, 1 goal, 26.3ms\n",
      "image 111/261 C:\\Users\\user\\Desktop\\studia\\Widzenie Komputerowe Projekt\\Predykcja_Karnych\\dataset\\karne_przerobione\\k5\\frame_0110.jpg: 352x512 1 ball, 1 person, 1 goal, 28.8ms\n",
      "image 112/261 C:\\Users\\user\\Desktop\\studia\\Widzenie Komputerowe Projekt\\Predykcja_Karnych\\dataset\\karne_przerobione\\k5\\frame_0111.jpg: 352x512 1 ball, 1 person, 1 goal, 27.2ms\n",
      "image 113/261 C:\\Users\\user\\Desktop\\studia\\Widzenie Komputerowe Projekt\\Predykcja_Karnych\\dataset\\karne_przerobione\\k5\\frame_0112.jpg: 352x512 1 ball, 1 person, 1 goal, 24.6ms\n",
      "image 114/261 C:\\Users\\user\\Desktop\\studia\\Widzenie Komputerowe Projekt\\Predykcja_Karnych\\dataset\\karne_przerobione\\k5\\frame_0113.jpg: 352x512 1 ball, 1 person, 1 goal, 28.0ms\n",
      "image 115/261 C:\\Users\\user\\Desktop\\studia\\Widzenie Komputerowe Projekt\\Predykcja_Karnych\\dataset\\karne_przerobione\\k5\\frame_0114.jpg: 352x512 1 ball, 1 person, 1 goal, 28.7ms\n",
      "image 116/261 C:\\Users\\user\\Desktop\\studia\\Widzenie Komputerowe Projekt\\Predykcja_Karnych\\dataset\\karne_przerobione\\k5\\frame_0115.jpg: 352x512 1 ball, 1 person, 1 goal, 32.5ms\n",
      "image 117/261 C:\\Users\\user\\Desktop\\studia\\Widzenie Komputerowe Projekt\\Predykcja_Karnych\\dataset\\karne_przerobione\\k5\\frame_0116.jpg: 352x512 1 ball, 1 person, 1 goal, 26.8ms\n",
      "image 118/261 C:\\Users\\user\\Desktop\\studia\\Widzenie Komputerowe Projekt\\Predykcja_Karnych\\dataset\\karne_przerobione\\k5\\frame_0117.jpg: 352x512 1 ball, 1 person, 1 goal, 30.7ms\n",
      "image 119/261 C:\\Users\\user\\Desktop\\studia\\Widzenie Komputerowe Projekt\\Predykcja_Karnych\\dataset\\karne_przerobione\\k5\\frame_0118.jpg: 352x512 1 ball, 1 person, 1 goal, 27.7ms\n",
      "image 120/261 C:\\Users\\user\\Desktop\\studia\\Widzenie Komputerowe Projekt\\Predykcja_Karnych\\dataset\\karne_przerobione\\k5\\frame_0119.jpg: 352x512 1 ball, 1 person, 1 goal, 26.4ms\n",
      "image 121/261 C:\\Users\\user\\Desktop\\studia\\Widzenie Komputerowe Projekt\\Predykcja_Karnych\\dataset\\karne_przerobione\\k5\\frame_0120.jpg: 352x512 1 ball, 1 person, 1 goal, 27.0ms\n",
      "image 122/261 C:\\Users\\user\\Desktop\\studia\\Widzenie Komputerowe Projekt\\Predykcja_Karnych\\dataset\\karne_przerobione\\k5\\frame_0121.jpg: 352x512 1 ball, 1 person, 1 goal, 29.9ms\n",
      "image 123/261 C:\\Users\\user\\Desktop\\studia\\Widzenie Komputerowe Projekt\\Predykcja_Karnych\\dataset\\karne_przerobione\\k5\\frame_0122.jpg: 352x512 1 ball, 1 person, 1 goal, 27.7ms\n",
      "image 124/261 C:\\Users\\user\\Desktop\\studia\\Widzenie Komputerowe Projekt\\Predykcja_Karnych\\dataset\\karne_przerobione\\k5\\frame_0123.jpg: 352x512 1 ball, 1 person, 1 goal, 30.3ms\n",
      "image 125/261 C:\\Users\\user\\Desktop\\studia\\Widzenie Komputerowe Projekt\\Predykcja_Karnych\\dataset\\karne_przerobione\\k5\\frame_0124.jpg: 352x512 1 ball, 1 person, 1 goal, 33.7ms\n",
      "image 126/261 C:\\Users\\user\\Desktop\\studia\\Widzenie Komputerowe Projekt\\Predykcja_Karnych\\dataset\\karne_przerobione\\k5\\frame_0125.jpg: 352x512 1 ball, 1 person, 1 goal, 35.2ms\n",
      "image 127/261 C:\\Users\\user\\Desktop\\studia\\Widzenie Komputerowe Projekt\\Predykcja_Karnych\\dataset\\karne_przerobione\\k5\\frame_0126.jpg: 352x512 1 ball, 1 person, 1 goal, 31.8ms\n",
      "image 128/261 C:\\Users\\user\\Desktop\\studia\\Widzenie Komputerowe Projekt\\Predykcja_Karnych\\dataset\\karne_przerobione\\k5\\frame_0127.jpg: 352x512 1 ball, 1 person, 1 goal, 29.9ms\n",
      "image 129/261 C:\\Users\\user\\Desktop\\studia\\Widzenie Komputerowe Projekt\\Predykcja_Karnych\\dataset\\karne_przerobione\\k5\\frame_0128.jpg: 352x512 1 ball, 1 person, 1 goal, 25.1ms\n",
      "image 130/261 C:\\Users\\user\\Desktop\\studia\\Widzenie Komputerowe Projekt\\Predykcja_Karnych\\dataset\\karne_przerobione\\k5\\frame_0129.jpg: 352x512 1 ball, 1 person, 1 goal, 25.7ms\n",
      "image 131/261 C:\\Users\\user\\Desktop\\studia\\Widzenie Komputerowe Projekt\\Predykcja_Karnych\\dataset\\karne_przerobione\\k5\\frame_0130.jpg: 352x512 1 ball, 1 person, 1 goal, 30.4ms\n",
      "image 132/261 C:\\Users\\user\\Desktop\\studia\\Widzenie Komputerowe Projekt\\Predykcja_Karnych\\dataset\\karne_przerobione\\k5\\frame_0131.jpg: 352x512 1 ball, 1 person, 1 goal, 25.9ms\n",
      "image 133/261 C:\\Users\\user\\Desktop\\studia\\Widzenie Komputerowe Projekt\\Predykcja_Karnych\\dataset\\karne_przerobione\\k5\\frame_0132.jpg: 352x512 1 ball, 1 person, 1 goal, 25.8ms\n",
      "image 134/261 C:\\Users\\user\\Desktop\\studia\\Widzenie Komputerowe Projekt\\Predykcja_Karnych\\dataset\\karne_przerobione\\k5\\frame_0133.jpg: 352x512 1 ball, 1 person, 1 goal, 27.7ms\n",
      "image 135/261 C:\\Users\\user\\Desktop\\studia\\Widzenie Komputerowe Projekt\\Predykcja_Karnych\\dataset\\karne_przerobione\\k5\\frame_0134.jpg: 352x512 1 ball, 1 person, 1 goal, 26.4ms\n",
      "image 136/261 C:\\Users\\user\\Desktop\\studia\\Widzenie Komputerowe Projekt\\Predykcja_Karnych\\dataset\\karne_przerobione\\k5\\frame_0135.jpg: 352x512 1 ball, 1 person, 1 goal, 26.3ms\n",
      "image 137/261 C:\\Users\\user\\Desktop\\studia\\Widzenie Komputerowe Projekt\\Predykcja_Karnych\\dataset\\karne_przerobione\\k5\\frame_0136.jpg: 352x512 1 ball, 1 person, 1 goal, 26.8ms\n",
      "image 138/261 C:\\Users\\user\\Desktop\\studia\\Widzenie Komputerowe Projekt\\Predykcja_Karnych\\dataset\\karne_przerobione\\k5\\frame_0137.jpg: 352x512 1 ball, 1 person, 1 goal, 25.9ms\n",
      "image 139/261 C:\\Users\\user\\Desktop\\studia\\Widzenie Komputerowe Projekt\\Predykcja_Karnych\\dataset\\karne_przerobione\\k5\\frame_0138.jpg: 352x512 1 ball, 1 person, 1 goal, 27.9ms\n",
      "image 140/261 C:\\Users\\user\\Desktop\\studia\\Widzenie Komputerowe Projekt\\Predykcja_Karnych\\dataset\\karne_przerobione\\k5\\frame_0139.jpg: 352x512 1 ball, 1 person, 1 goal, 30.4ms\n",
      "image 141/261 C:\\Users\\user\\Desktop\\studia\\Widzenie Komputerowe Projekt\\Predykcja_Karnych\\dataset\\karne_przerobione\\k5\\frame_0140.jpg: 352x512 1 ball, 1 person, 1 goal, 41.8ms\n",
      "image 142/261 C:\\Users\\user\\Desktop\\studia\\Widzenie Komputerowe Projekt\\Predykcja_Karnych\\dataset\\karne_przerobione\\k5\\frame_0141.jpg: 352x512 1 ball, 1 person, 1 goal, 29.5ms\n",
      "image 143/261 C:\\Users\\user\\Desktop\\studia\\Widzenie Komputerowe Projekt\\Predykcja_Karnych\\dataset\\karne_przerobione\\k5\\frame_0142.jpg: 352x512 1 ball, 1 person, 1 goal, 26.4ms\n",
      "image 144/261 C:\\Users\\user\\Desktop\\studia\\Widzenie Komputerowe Projekt\\Predykcja_Karnych\\dataset\\karne_przerobione\\k5\\frame_0143.jpg: 352x512 1 ball, 1 person, 1 goal, 25.8ms\n",
      "image 145/261 C:\\Users\\user\\Desktop\\studia\\Widzenie Komputerowe Projekt\\Predykcja_Karnych\\dataset\\karne_przerobione\\k5\\frame_0144.jpg: 352x512 1 ball, 1 person, 1 goal, 35.7ms\n",
      "image 146/261 C:\\Users\\user\\Desktop\\studia\\Widzenie Komputerowe Projekt\\Predykcja_Karnych\\dataset\\karne_przerobione\\k5\\frame_0145.jpg: 352x512 1 ball, 1 person, 1 goal, 35.0ms\n",
      "image 147/261 C:\\Users\\user\\Desktop\\studia\\Widzenie Komputerowe Projekt\\Predykcja_Karnych\\dataset\\karne_przerobione\\k5\\frame_0146.jpg: 352x512 1 ball, 1 person, 1 goal, 37.1ms\n",
      "image 148/261 C:\\Users\\user\\Desktop\\studia\\Widzenie Komputerowe Projekt\\Predykcja_Karnych\\dataset\\karne_przerobione\\k5\\frame_0147.jpg: 352x512 1 ball, 1 person, 1 goal, 26.5ms\n",
      "image 149/261 C:\\Users\\user\\Desktop\\studia\\Widzenie Komputerowe Projekt\\Predykcja_Karnych\\dataset\\karne_przerobione\\k5\\frame_0148.jpg: 352x512 1 ball, 1 person, 1 goal, 27.6ms\n",
      "image 150/261 C:\\Users\\user\\Desktop\\studia\\Widzenie Komputerowe Projekt\\Predykcja_Karnych\\dataset\\karne_przerobione\\k5\\frame_0149.jpg: 352x512 1 ball, 1 person, 1 goal, 28.2ms\n",
      "image 151/261 C:\\Users\\user\\Desktop\\studia\\Widzenie Komputerowe Projekt\\Predykcja_Karnych\\dataset\\karne_przerobione\\k5\\frame_0150.jpg: 352x512 1 ball, 1 person, 1 goal, 26.9ms\n",
      "image 152/261 C:\\Users\\user\\Desktop\\studia\\Widzenie Komputerowe Projekt\\Predykcja_Karnych\\dataset\\karne_przerobione\\k5\\frame_0151.jpg: 352x512 1 ball, 1 person, 1 goal, 25.4ms\n",
      "image 153/261 C:\\Users\\user\\Desktop\\studia\\Widzenie Komputerowe Projekt\\Predykcja_Karnych\\dataset\\karne_przerobione\\k5\\frame_0152.jpg: 352x512 1 ball, 1 person, 1 goal, 29.1ms\n",
      "image 154/261 C:\\Users\\user\\Desktop\\studia\\Widzenie Komputerowe Projekt\\Predykcja_Karnych\\dataset\\karne_przerobione\\k5\\frame_0153.jpg: 352x512 1 ball, 1 person, 1 goal, 25.3ms\n",
      "image 155/261 C:\\Users\\user\\Desktop\\studia\\Widzenie Komputerowe Projekt\\Predykcja_Karnych\\dataset\\karne_przerobione\\k5\\frame_0154.jpg: 352x512 1 ball, 1 person, 1 goal, 27.1ms\n",
      "image 156/261 C:\\Users\\user\\Desktop\\studia\\Widzenie Komputerowe Projekt\\Predykcja_Karnych\\dataset\\karne_przerobione\\k5\\frame_0155.jpg: 352x512 1 ball, 1 person, 1 goal, 28.2ms\n",
      "image 157/261 C:\\Users\\user\\Desktop\\studia\\Widzenie Komputerowe Projekt\\Predykcja_Karnych\\dataset\\karne_przerobione\\k5\\frame_0156.jpg: 352x512 1 ball, 1 person, 1 goal, 28.9ms\n",
      "image 158/261 C:\\Users\\user\\Desktop\\studia\\Widzenie Komputerowe Projekt\\Predykcja_Karnych\\dataset\\karne_przerobione\\k5\\frame_0157.jpg: 352x512 1 ball, 1 person, 1 goal, 26.2ms\n",
      "image 159/261 C:\\Users\\user\\Desktop\\studia\\Widzenie Komputerowe Projekt\\Predykcja_Karnych\\dataset\\karne_przerobione\\k5\\frame_0158.jpg: 352x512 1 ball, 1 person, 1 goal, 29.0ms\n",
      "image 160/261 C:\\Users\\user\\Desktop\\studia\\Widzenie Komputerowe Projekt\\Predykcja_Karnych\\dataset\\karne_przerobione\\k5\\frame_0159.jpg: 352x512 1 ball, 1 person, 1 goal, 29.0ms\n",
      "image 161/261 C:\\Users\\user\\Desktop\\studia\\Widzenie Komputerowe Projekt\\Predykcja_Karnych\\dataset\\karne_przerobione\\k5\\frame_0160.jpg: 352x512 1 ball, 1 person, 1 goal, 30.7ms\n",
      "image 162/261 C:\\Users\\user\\Desktop\\studia\\Widzenie Komputerowe Projekt\\Predykcja_Karnych\\dataset\\karne_przerobione\\k5\\frame_0161.jpg: 352x512 1 ball, 1 person, 1 goal, 27.2ms\n",
      "image 163/261 C:\\Users\\user\\Desktop\\studia\\Widzenie Komputerowe Projekt\\Predykcja_Karnych\\dataset\\karne_przerobione\\k5\\frame_0162.jpg: 352x512 1 ball, 1 person, 1 goal, 29.5ms\n",
      "image 164/261 C:\\Users\\user\\Desktop\\studia\\Widzenie Komputerowe Projekt\\Predykcja_Karnych\\dataset\\karne_przerobione\\k5\\frame_0163.jpg: 352x512 1 ball, 1 person, 1 goal, 26.2ms\n",
      "image 165/261 C:\\Users\\user\\Desktop\\studia\\Widzenie Komputerowe Projekt\\Predykcja_Karnych\\dataset\\karne_przerobione\\k5\\frame_0164.jpg: 352x512 1 ball, 1 person, 1 goal, 27.8ms\n",
      "image 166/261 C:\\Users\\user\\Desktop\\studia\\Widzenie Komputerowe Projekt\\Predykcja_Karnych\\dataset\\karne_przerobione\\k5\\frame_0165.jpg: 352x512 1 ball, 1 person, 1 goal, 35.1ms\n",
      "image 167/261 C:\\Users\\user\\Desktop\\studia\\Widzenie Komputerowe Projekt\\Predykcja_Karnych\\dataset\\karne_przerobione\\k5\\frame_0166.jpg: 352x512 1 ball, 1 person, 1 goal, 56.6ms\n",
      "image 168/261 C:\\Users\\user\\Desktop\\studia\\Widzenie Komputerowe Projekt\\Predykcja_Karnych\\dataset\\karne_przerobione\\k5\\frame_0167.jpg: 352x512 1 ball, 1 person, 1 goal, 36.0ms\n",
      "image 169/261 C:\\Users\\user\\Desktop\\studia\\Widzenie Komputerowe Projekt\\Predykcja_Karnych\\dataset\\karne_przerobione\\k5\\frame_0168.jpg: 352x512 1 ball, 1 person, 1 goal, 35.7ms\n",
      "image 170/261 C:\\Users\\user\\Desktop\\studia\\Widzenie Komputerowe Projekt\\Predykcja_Karnych\\dataset\\karne_przerobione\\k5\\frame_0169.jpg: 352x512 1 ball, 1 person, 1 goal, 27.0ms\n",
      "image 171/261 C:\\Users\\user\\Desktop\\studia\\Widzenie Komputerowe Projekt\\Predykcja_Karnych\\dataset\\karne_przerobione\\k5\\frame_0170.jpg: 352x512 1 ball, 1 person, 1 goal, 34.7ms\n",
      "image 172/261 C:\\Users\\user\\Desktop\\studia\\Widzenie Komputerowe Projekt\\Predykcja_Karnych\\dataset\\karne_przerobione\\k5\\frame_0171.jpg: 352x512 1 ball, 1 person, 1 goal, 37.0ms\n",
      "image 173/261 C:\\Users\\user\\Desktop\\studia\\Widzenie Komputerowe Projekt\\Predykcja_Karnych\\dataset\\karne_przerobione\\k5\\frame_0172.jpg: 352x512 1 ball, 1 person, 1 goal, 39.4ms\n",
      "image 174/261 C:\\Users\\user\\Desktop\\studia\\Widzenie Komputerowe Projekt\\Predykcja_Karnych\\dataset\\karne_przerobione\\k5\\frame_0173.jpg: 352x512 1 ball, 1 person, 1 goal, 37.0ms\n",
      "image 175/261 C:\\Users\\user\\Desktop\\studia\\Widzenie Komputerowe Projekt\\Predykcja_Karnych\\dataset\\karne_przerobione\\k5\\frame_0174.jpg: 352x512 1 ball, 1 person, 1 goal, 28.9ms\n",
      "image 176/261 C:\\Users\\user\\Desktop\\studia\\Widzenie Komputerowe Projekt\\Predykcja_Karnych\\dataset\\karne_przerobione\\k5\\frame_0175.jpg: 352x512 1 ball, 1 person, 1 goal, 49.8ms\n",
      "image 177/261 C:\\Users\\user\\Desktop\\studia\\Widzenie Komputerowe Projekt\\Predykcja_Karnych\\dataset\\karne_przerobione\\k5\\frame_0176.jpg: 352x512 1 ball, 1 person, 1 goal, 30.8ms\n",
      "image 178/261 C:\\Users\\user\\Desktop\\studia\\Widzenie Komputerowe Projekt\\Predykcja_Karnych\\dataset\\karne_przerobione\\k5\\frame_0177.jpg: 352x512 1 ball, 1 person, 1 goal, 29.8ms\n",
      "image 179/261 C:\\Users\\user\\Desktop\\studia\\Widzenie Komputerowe Projekt\\Predykcja_Karnych\\dataset\\karne_przerobione\\k5\\frame_0178.jpg: 352x512 1 ball, 1 person, 1 goal, 27.7ms\n",
      "image 180/261 C:\\Users\\user\\Desktop\\studia\\Widzenie Komputerowe Projekt\\Predykcja_Karnych\\dataset\\karne_przerobione\\k5\\frame_0179.jpg: 352x512 1 ball, 1 person, 1 goal, 25.7ms\n",
      "image 181/261 C:\\Users\\user\\Desktop\\studia\\Widzenie Komputerowe Projekt\\Predykcja_Karnych\\dataset\\karne_przerobione\\k5\\frame_0180.jpg: 352x512 1 ball, 1 person, 1 goal, 28.5ms\n",
      "image 182/261 C:\\Users\\user\\Desktop\\studia\\Widzenie Komputerowe Projekt\\Predykcja_Karnych\\dataset\\karne_przerobione\\k5\\frame_0181.jpg: 352x512 1 ball, 1 person, 1 goal, 28.0ms\n",
      "image 183/261 C:\\Users\\user\\Desktop\\studia\\Widzenie Komputerowe Projekt\\Predykcja_Karnych\\dataset\\karne_przerobione\\k5\\frame_0182.jpg: 352x512 1 ball, 1 person, 1 goal, 29.0ms\n",
      "image 184/261 C:\\Users\\user\\Desktop\\studia\\Widzenie Komputerowe Projekt\\Predykcja_Karnych\\dataset\\karne_przerobione\\k5\\frame_0183.jpg: 352x512 1 ball, 1 person, 1 goal, 27.1ms\n",
      "image 185/261 C:\\Users\\user\\Desktop\\studia\\Widzenie Komputerowe Projekt\\Predykcja_Karnych\\dataset\\karne_przerobione\\k5\\frame_0184.jpg: 352x512 1 ball, 1 person, 1 goal, 27.0ms\n",
      "image 186/261 C:\\Users\\user\\Desktop\\studia\\Widzenie Komputerowe Projekt\\Predykcja_Karnych\\dataset\\karne_przerobione\\k5\\frame_0185.jpg: 352x512 1 ball, 1 person, 1 goal, 27.4ms\n",
      "image 187/261 C:\\Users\\user\\Desktop\\studia\\Widzenie Komputerowe Projekt\\Predykcja_Karnych\\dataset\\karne_przerobione\\k5\\frame_0186.jpg: 352x512 1 ball, 1 person, 1 goal, 27.6ms\n",
      "image 188/261 C:\\Users\\user\\Desktop\\studia\\Widzenie Komputerowe Projekt\\Predykcja_Karnych\\dataset\\karne_przerobione\\k5\\frame_0187.jpg: 352x512 1 ball, 1 person, 1 goal, 27.8ms\n",
      "image 189/261 C:\\Users\\user\\Desktop\\studia\\Widzenie Komputerowe Projekt\\Predykcja_Karnych\\dataset\\karne_przerobione\\k5\\frame_0188.jpg: 352x512 1 ball, 1 person, 1 goal, 44.6ms\n",
      "image 190/261 C:\\Users\\user\\Desktop\\studia\\Widzenie Komputerowe Projekt\\Predykcja_Karnych\\dataset\\karne_przerobione\\k5\\frame_0189.jpg: 352x512 1 ball, 1 person, 1 goal, 39.1ms\n",
      "image 191/261 C:\\Users\\user\\Desktop\\studia\\Widzenie Komputerowe Projekt\\Predykcja_Karnych\\dataset\\karne_przerobione\\k5\\frame_0190.jpg: 352x512 1 ball, 1 person, 1 goal, 38.5ms\n",
      "image 192/261 C:\\Users\\user\\Desktop\\studia\\Widzenie Komputerowe Projekt\\Predykcja_Karnych\\dataset\\karne_przerobione\\k5\\frame_0191.jpg: 352x512 1 ball, 1 person, 1 goal, 44.6ms\n",
      "image 193/261 C:\\Users\\user\\Desktop\\studia\\Widzenie Komputerowe Projekt\\Predykcja_Karnych\\dataset\\karne_przerobione\\k5\\frame_0192.jpg: 352x512 1 ball, 1 person, 1 goal, 40.6ms\n",
      "image 194/261 C:\\Users\\user\\Desktop\\studia\\Widzenie Komputerowe Projekt\\Predykcja_Karnych\\dataset\\karne_przerobione\\k5\\frame_0193.jpg: 352x512 1 ball, 1 person, 1 goal, 27.3ms\n",
      "image 195/261 C:\\Users\\user\\Desktop\\studia\\Widzenie Komputerowe Projekt\\Predykcja_Karnych\\dataset\\karne_przerobione\\k5\\frame_0194.jpg: 352x512 1 ball, 1 person, 1 goal, 25.9ms\n",
      "image 196/261 C:\\Users\\user\\Desktop\\studia\\Widzenie Komputerowe Projekt\\Predykcja_Karnych\\dataset\\karne_przerobione\\k5\\frame_0195.jpg: 352x512 1 ball, 1 person, 1 goal, 30.7ms\n",
      "image 197/261 C:\\Users\\user\\Desktop\\studia\\Widzenie Komputerowe Projekt\\Predykcja_Karnych\\dataset\\karne_przerobione\\k5\\frame_0196.jpg: 352x512 1 ball, 1 person, 1 goal, 30.0ms\n",
      "image 198/261 C:\\Users\\user\\Desktop\\studia\\Widzenie Komputerowe Projekt\\Predykcja_Karnych\\dataset\\karne_przerobione\\k5\\frame_0197.jpg: 352x512 1 ball, 1 person, 1 goal, 27.9ms\n",
      "image 199/261 C:\\Users\\user\\Desktop\\studia\\Widzenie Komputerowe Projekt\\Predykcja_Karnych\\dataset\\karne_przerobione\\k5\\frame_0198.jpg: 352x512 1 ball, 1 person, 1 goal, 26.2ms\n",
      "image 200/261 C:\\Users\\user\\Desktop\\studia\\Widzenie Komputerowe Projekt\\Predykcja_Karnych\\dataset\\karne_przerobione\\k5\\frame_0199.jpg: 352x512 1 ball, 1 person, 1 goal, 40.8ms\n",
      "image 201/261 C:\\Users\\user\\Desktop\\studia\\Widzenie Komputerowe Projekt\\Predykcja_Karnych\\dataset\\karne_przerobione\\k5\\frame_0200.jpg: 352x512 1 ball, 1 person, 1 goal, 38.8ms\n",
      "image 202/261 C:\\Users\\user\\Desktop\\studia\\Widzenie Komputerowe Projekt\\Predykcja_Karnych\\dataset\\karne_przerobione\\k5\\frame_0201.jpg: 352x512 1 ball, 1 person, 1 goal, 37.1ms\n",
      "image 203/261 C:\\Users\\user\\Desktop\\studia\\Widzenie Komputerowe Projekt\\Predykcja_Karnych\\dataset\\karne_przerobione\\k5\\frame_0202.jpg: 352x512 1 ball, 1 person, 1 goal, 29.1ms\n",
      "image 204/261 C:\\Users\\user\\Desktop\\studia\\Widzenie Komputerowe Projekt\\Predykcja_Karnych\\dataset\\karne_przerobione\\k5\\frame_0203.jpg: 352x512 1 ball, 1 person, 1 goal, 28.4ms\n",
      "image 205/261 C:\\Users\\user\\Desktop\\studia\\Widzenie Komputerowe Projekt\\Predykcja_Karnych\\dataset\\karne_przerobione\\k5\\frame_0204.jpg: 352x512 1 ball, 1 person, 1 goal, 31.2ms\n",
      "image 206/261 C:\\Users\\user\\Desktop\\studia\\Widzenie Komputerowe Projekt\\Predykcja_Karnych\\dataset\\karne_przerobione\\k5\\frame_0205.jpg: 352x512 1 ball, 1 person, 1 goal, 26.8ms\n",
      "image 207/261 C:\\Users\\user\\Desktop\\studia\\Widzenie Komputerowe Projekt\\Predykcja_Karnych\\dataset\\karne_przerobione\\k5\\frame_0206.jpg: 352x512 1 ball, 1 person, 1 goal, 26.2ms\n",
      "image 208/261 C:\\Users\\user\\Desktop\\studia\\Widzenie Komputerowe Projekt\\Predykcja_Karnych\\dataset\\karne_przerobione\\k5\\frame_0207.jpg: 352x512 1 ball, 1 person, 1 goal, 26.2ms\n",
      "image 209/261 C:\\Users\\user\\Desktop\\studia\\Widzenie Komputerowe Projekt\\Predykcja_Karnych\\dataset\\karne_przerobione\\k5\\frame_0208.jpg: 352x512 1 ball, 1 person, 1 goal, 26.6ms\n",
      "image 210/261 C:\\Users\\user\\Desktop\\studia\\Widzenie Komputerowe Projekt\\Predykcja_Karnych\\dataset\\karne_przerobione\\k5\\frame_0209.jpg: 352x512 1 ball, 1 person, 1 goal, 27.4ms\n",
      "image 211/261 C:\\Users\\user\\Desktop\\studia\\Widzenie Komputerowe Projekt\\Predykcja_Karnych\\dataset\\karne_przerobione\\k5\\frame_0210.jpg: 352x512 1 ball, 1 person, 1 goal, 26.0ms\n",
      "image 212/261 C:\\Users\\user\\Desktop\\studia\\Widzenie Komputerowe Projekt\\Predykcja_Karnych\\dataset\\karne_przerobione\\k5\\frame_0211.jpg: 352x512 1 ball, 1 person, 1 goal, 26.6ms\n",
      "image 213/261 C:\\Users\\user\\Desktop\\studia\\Widzenie Komputerowe Projekt\\Predykcja_Karnych\\dataset\\karne_przerobione\\k5\\frame_0212.jpg: 352x512 1 ball, 1 person, 1 goal, 26.6ms\n",
      "image 214/261 C:\\Users\\user\\Desktop\\studia\\Widzenie Komputerowe Projekt\\Predykcja_Karnych\\dataset\\karne_przerobione\\k5\\frame_0213.jpg: 352x512 1 ball, 1 person, 1 goal, 30.6ms\n",
      "image 215/261 C:\\Users\\user\\Desktop\\studia\\Widzenie Komputerowe Projekt\\Predykcja_Karnych\\dataset\\karne_przerobione\\k5\\frame_0214.jpg: 352x512 1 ball, 1 person, 1 goal, 27.1ms\n",
      "image 216/261 C:\\Users\\user\\Desktop\\studia\\Widzenie Komputerowe Projekt\\Predykcja_Karnych\\dataset\\karne_przerobione\\k5\\frame_0215.jpg: 352x512 1 ball, 1 person, 1 goal, 25.1ms\n",
      "image 217/261 C:\\Users\\user\\Desktop\\studia\\Widzenie Komputerowe Projekt\\Predykcja_Karnych\\dataset\\karne_przerobione\\k5\\frame_0216.jpg: 352x512 1 ball, 1 person, 1 goal, 29.3ms\n",
      "image 218/261 C:\\Users\\user\\Desktop\\studia\\Widzenie Komputerowe Projekt\\Predykcja_Karnych\\dataset\\karne_przerobione\\k5\\frame_0217.jpg: 352x512 1 ball, 1 person, 1 goal, 26.4ms\n",
      "image 219/261 C:\\Users\\user\\Desktop\\studia\\Widzenie Komputerowe Projekt\\Predykcja_Karnych\\dataset\\karne_przerobione\\k5\\frame_0218.jpg: 352x512 1 ball, 1 person, 1 goal, 24.4ms\n",
      "image 220/261 C:\\Users\\user\\Desktop\\studia\\Widzenie Komputerowe Projekt\\Predykcja_Karnych\\dataset\\karne_przerobione\\k5\\frame_0219.jpg: 352x512 1 ball, 1 person, 1 goal, 26.1ms\n",
      "image 221/261 C:\\Users\\user\\Desktop\\studia\\Widzenie Komputerowe Projekt\\Predykcja_Karnych\\dataset\\karne_przerobione\\k5\\frame_0220.jpg: 352x512 1 ball, 1 person, 1 goal, 25.5ms\n",
      "image 222/261 C:\\Users\\user\\Desktop\\studia\\Widzenie Komputerowe Projekt\\Predykcja_Karnych\\dataset\\karne_przerobione\\k5\\frame_0221.jpg: 352x512 1 ball, 1 person, 1 goal, 27.2ms\n",
      "image 223/261 C:\\Users\\user\\Desktop\\studia\\Widzenie Komputerowe Projekt\\Predykcja_Karnych\\dataset\\karne_przerobione\\k5\\frame_0222.jpg: 352x512 1 ball, 1 person, 1 goal, 23.9ms\n",
      "image 224/261 C:\\Users\\user\\Desktop\\studia\\Widzenie Komputerowe Projekt\\Predykcja_Karnych\\dataset\\karne_przerobione\\k5\\frame_0223.jpg: 352x512 1 ball, 1 person, 1 goal, 26.8ms\n",
      "image 225/261 C:\\Users\\user\\Desktop\\studia\\Widzenie Komputerowe Projekt\\Predykcja_Karnych\\dataset\\karne_przerobione\\k5\\frame_0224.jpg: 352x512 1 ball, 1 person, 1 goal, 27.4ms\n",
      "image 226/261 C:\\Users\\user\\Desktop\\studia\\Widzenie Komputerowe Projekt\\Predykcja_Karnych\\dataset\\karne_przerobione\\k5\\frame_0225.jpg: 352x512 1 ball, 1 person, 1 goal, 24.7ms\n",
      "image 227/261 C:\\Users\\user\\Desktop\\studia\\Widzenie Komputerowe Projekt\\Predykcja_Karnych\\dataset\\karne_przerobione\\k5\\frame_0226.jpg: 352x512 1 ball, 1 person, 1 goal, 26.6ms\n",
      "image 228/261 C:\\Users\\user\\Desktop\\studia\\Widzenie Komputerowe Projekt\\Predykcja_Karnych\\dataset\\karne_przerobione\\k5\\frame_0227.jpg: 352x512 1 ball, 1 person, 1 goal, 28.1ms\n",
      "image 229/261 C:\\Users\\user\\Desktop\\studia\\Widzenie Komputerowe Projekt\\Predykcja_Karnych\\dataset\\karne_przerobione\\k5\\frame_0228.jpg: 352x512 1 ball, 1 person, 1 goal, 28.3ms\n",
      "image 230/261 C:\\Users\\user\\Desktop\\studia\\Widzenie Komputerowe Projekt\\Predykcja_Karnych\\dataset\\karne_przerobione\\k5\\frame_0229.jpg: 352x512 1 ball, 1 person, 1 goal, 25.7ms\n",
      "image 231/261 C:\\Users\\user\\Desktop\\studia\\Widzenie Komputerowe Projekt\\Predykcja_Karnych\\dataset\\karne_przerobione\\k5\\frame_0230.jpg: 352x512 1 ball, 1 person, 1 goal, 31.1ms\n",
      "image 232/261 C:\\Users\\user\\Desktop\\studia\\Widzenie Komputerowe Projekt\\Predykcja_Karnych\\dataset\\karne_przerobione\\k5\\frame_0231.jpg: 352x512 1 ball, 1 person, 1 goal, 31.7ms\n",
      "image 233/261 C:\\Users\\user\\Desktop\\studia\\Widzenie Komputerowe Projekt\\Predykcja_Karnych\\dataset\\karne_przerobione\\k5\\frame_0232.jpg: 352x512 1 person, 1 goal, 28.7ms\n",
      "image 234/261 C:\\Users\\user\\Desktop\\studia\\Widzenie Komputerowe Projekt\\Predykcja_Karnych\\dataset\\karne_przerobione\\k5\\frame_0233.jpg: 352x512 1 person, 1 goal, 27.0ms\n",
      "image 235/261 C:\\Users\\user\\Desktop\\studia\\Widzenie Komputerowe Projekt\\Predykcja_Karnych\\dataset\\karne_przerobione\\k5\\frame_0234.jpg: 352x512 1 person, 1 goal, 24.7ms\n",
      "image 236/261 C:\\Users\\user\\Desktop\\studia\\Widzenie Komputerowe Projekt\\Predykcja_Karnych\\dataset\\karne_przerobione\\k5\\frame_0235.jpg: 352x512 1 ball, 1 person, 1 goal, 25.5ms\n",
      "image 237/261 C:\\Users\\user\\Desktop\\studia\\Widzenie Komputerowe Projekt\\Predykcja_Karnych\\dataset\\karne_przerobione\\k5\\frame_0236.jpg: 352x512 1 ball, 1 person, 1 goal, 29.7ms\n",
      "image 238/261 C:\\Users\\user\\Desktop\\studia\\Widzenie Komputerowe Projekt\\Predykcja_Karnych\\dataset\\karne_przerobione\\k5\\frame_0237.jpg: 352x512 1 person, 1 goal, 29.8ms\n",
      "image 239/261 C:\\Users\\user\\Desktop\\studia\\Widzenie Komputerowe Projekt\\Predykcja_Karnych\\dataset\\karne_przerobione\\k5\\frame_0238.jpg: 352x512 1 person, 1 goal, 29.6ms\n",
      "image 240/261 C:\\Users\\user\\Desktop\\studia\\Widzenie Komputerowe Projekt\\Predykcja_Karnych\\dataset\\karne_przerobione\\k5\\frame_0239.jpg: 352x512 1 ball, 1 person, 1 goal, 73.0ms\n",
      "image 241/261 C:\\Users\\user\\Desktop\\studia\\Widzenie Komputerowe Projekt\\Predykcja_Karnych\\dataset\\karne_przerobione\\k5\\frame_0240.jpg: 352x512 1 ball, 1 person, 1 goal, 52.6ms\n",
      "image 242/261 C:\\Users\\user\\Desktop\\studia\\Widzenie Komputerowe Projekt\\Predykcja_Karnych\\dataset\\karne_przerobione\\k5\\frame_0241.jpg: 352x512 1 ball, 1 person, 1 goal, 104.1ms\n",
      "image 243/261 C:\\Users\\user\\Desktop\\studia\\Widzenie Komputerowe Projekt\\Predykcja_Karnych\\dataset\\karne_przerobione\\k5\\frame_0242.jpg: 352x512 1 ball, 1 person, 1 goal, 62.5ms\n",
      "image 244/261 C:\\Users\\user\\Desktop\\studia\\Widzenie Komputerowe Projekt\\Predykcja_Karnych\\dataset\\karne_przerobione\\k5\\frame_0243.jpg: 352x512 1 person, 1 goal, 45.6ms\n",
      "image 245/261 C:\\Users\\user\\Desktop\\studia\\Widzenie Komputerowe Projekt\\Predykcja_Karnych\\dataset\\karne_przerobione\\k5\\frame_0244.jpg: 352x512 1 person, 1 goal, 75.9ms\n",
      "image 246/261 C:\\Users\\user\\Desktop\\studia\\Widzenie Komputerowe Projekt\\Predykcja_Karnych\\dataset\\karne_przerobione\\k5\\frame_0245.jpg: 352x512 1 person, 1 goal, 69.6ms\n",
      "image 247/261 C:\\Users\\user\\Desktop\\studia\\Widzenie Komputerowe Projekt\\Predykcja_Karnych\\dataset\\karne_przerobione\\k5\\frame_0246.jpg: 352x512 1 person, 1 goal, 99.5ms\n",
      "image 248/261 C:\\Users\\user\\Desktop\\studia\\Widzenie Komputerowe Projekt\\Predykcja_Karnych\\dataset\\karne_przerobione\\k5\\frame_0247.jpg: 352x512 1 person, 1 goal, 57.7ms\n",
      "image 249/261 C:\\Users\\user\\Desktop\\studia\\Widzenie Komputerowe Projekt\\Predykcja_Karnych\\dataset\\karne_przerobione\\k5\\frame_0248.jpg: 352x512 1 person, 1 goal, 30.8ms\n",
      "image 250/261 C:\\Users\\user\\Desktop\\studia\\Widzenie Komputerowe Projekt\\Predykcja_Karnych\\dataset\\karne_przerobione\\k5\\frame_0249.jpg: 352x512 1 person, 1 goal, 31.5ms\n",
      "image 251/261 C:\\Users\\user\\Desktop\\studia\\Widzenie Komputerowe Projekt\\Predykcja_Karnych\\dataset\\karne_przerobione\\k5\\frame_0250.jpg: 352x512 1 person, 1 goal, 79.7ms\n",
      "image 252/261 C:\\Users\\user\\Desktop\\studia\\Widzenie Komputerowe Projekt\\Predykcja_Karnych\\dataset\\karne_przerobione\\k5\\frame_0251.jpg: 352x512 1 person, 1 goal, 62.0ms\n",
      "image 253/261 C:\\Users\\user\\Desktop\\studia\\Widzenie Komputerowe Projekt\\Predykcja_Karnych\\dataset\\karne_przerobione\\k5\\frame_0252.jpg: 352x512 1 person, 1 goal, 49.5ms\n",
      "image 254/261 C:\\Users\\user\\Desktop\\studia\\Widzenie Komputerowe Projekt\\Predykcja_Karnych\\dataset\\karne_przerobione\\k5\\frame_0253.jpg: 352x512 1 person, 1 goal, 35.1ms\n",
      "image 255/261 C:\\Users\\user\\Desktop\\studia\\Widzenie Komputerowe Projekt\\Predykcja_Karnych\\dataset\\karne_przerobione\\k5\\frame_0254.jpg: 352x512 1 person, 1 goal, 33.7ms\n",
      "image 256/261 C:\\Users\\user\\Desktop\\studia\\Widzenie Komputerowe Projekt\\Predykcja_Karnych\\dataset\\karne_przerobione\\k5\\frame_0255.jpg: 352x512 1 person, 1 goal, 29.2ms\n",
      "image 257/261 C:\\Users\\user\\Desktop\\studia\\Widzenie Komputerowe Projekt\\Predykcja_Karnych\\dataset\\karne_przerobione\\k5\\frame_0256.jpg: 352x512 1 person, 1 goal, 29.6ms\n",
      "image 258/261 C:\\Users\\user\\Desktop\\studia\\Widzenie Komputerowe Projekt\\Predykcja_Karnych\\dataset\\karne_przerobione\\k5\\frame_0257.jpg: 352x512 1 person, 1 goal, 37.0ms\n",
      "image 259/261 C:\\Users\\user\\Desktop\\studia\\Widzenie Komputerowe Projekt\\Predykcja_Karnych\\dataset\\karne_przerobione\\k5\\frame_0258.jpg: 352x512 1 person, 1 goal, 25.7ms\n",
      "image 260/261 C:\\Users\\user\\Desktop\\studia\\Widzenie Komputerowe Projekt\\Predykcja_Karnych\\dataset\\karne_przerobione\\k5\\frame_0259.jpg: 352x512 1 person, 1 goal, 26.7ms\n",
      "image 261/261 C:\\Users\\user\\Desktop\\studia\\Widzenie Komputerowe Projekt\\Predykcja_Karnych\\dataset\\karne_przerobione\\k5\\frame_0260.jpg: 352x512 1 person, 1 goal, 29.2ms\n",
      "Speed: 1.5ms preprocess, 31.2ms inference, 0.6ms postprocess per image at shape (1, 3, 352, 512)\n",
      "Results saved to \u001B[1mC:\\Users\\user\\Desktop\\studia\\Widzenie Komputerowe Projekt\\Predykcja_Karnych\\runs\\detect\\predict_k5\\predict2\u001B[0m\n",
      "Przetwarzanie folderu: k6...\n",
      "\n",
      "image 1/173 C:\\Users\\user\\Desktop\\studia\\Widzenie Komputerowe Projekt\\Predykcja_Karnych\\dataset\\karne_przerobione\\k6\\frame_0000.jpg: 352x512 1 ball, 1 person, 1 goal, 27.1ms\n",
      "image 2/173 C:\\Users\\user\\Desktop\\studia\\Widzenie Komputerowe Projekt\\Predykcja_Karnych\\dataset\\karne_przerobione\\k6\\frame_0001.jpg: 352x512 1 ball, 1 person, 1 goal, 26.4ms\n",
      "image 3/173 C:\\Users\\user\\Desktop\\studia\\Widzenie Komputerowe Projekt\\Predykcja_Karnych\\dataset\\karne_przerobione\\k6\\frame_0002.jpg: 352x512 1 ball, 1 person, 1 goal, 26.6ms\n",
      "image 4/173 C:\\Users\\user\\Desktop\\studia\\Widzenie Komputerowe Projekt\\Predykcja_Karnych\\dataset\\karne_przerobione\\k6\\frame_0003.jpg: 352x512 1 ball, 1 person, 1 goal, 25.7ms\n",
      "image 5/173 C:\\Users\\user\\Desktop\\studia\\Widzenie Komputerowe Projekt\\Predykcja_Karnych\\dataset\\karne_przerobione\\k6\\frame_0004.jpg: 352x512 1 ball, 1 person, 1 goal, 31.3ms\n",
      "image 6/173 C:\\Users\\user\\Desktop\\studia\\Widzenie Komputerowe Projekt\\Predykcja_Karnych\\dataset\\karne_przerobione\\k6\\frame_0005.jpg: 352x512 1 ball, 1 person, 1 goal, 29.4ms\n",
      "image 7/173 C:\\Users\\user\\Desktop\\studia\\Widzenie Komputerowe Projekt\\Predykcja_Karnych\\dataset\\karne_przerobione\\k6\\frame_0006.jpg: 352x512 1 ball, 1 person, 1 goal, 35.0ms\n",
      "image 8/173 C:\\Users\\user\\Desktop\\studia\\Widzenie Komputerowe Projekt\\Predykcja_Karnych\\dataset\\karne_przerobione\\k6\\frame_0007.jpg: 352x512 1 ball, 1 person, 1 goal, 37.1ms\n",
      "image 9/173 C:\\Users\\user\\Desktop\\studia\\Widzenie Komputerowe Projekt\\Predykcja_Karnych\\dataset\\karne_przerobione\\k6\\frame_0008.jpg: 352x512 1 ball, 1 person, 1 goal, 31.0ms\n",
      "image 10/173 C:\\Users\\user\\Desktop\\studia\\Widzenie Komputerowe Projekt\\Predykcja_Karnych\\dataset\\karne_przerobione\\k6\\frame_0009.jpg: 352x512 1 ball, 1 person, 1 goal, 31.4ms\n",
      "image 11/173 C:\\Users\\user\\Desktop\\studia\\Widzenie Komputerowe Projekt\\Predykcja_Karnych\\dataset\\karne_przerobione\\k6\\frame_0010.jpg: 352x512 1 ball, 1 person, 1 goal, 29.4ms\n",
      "image 12/173 C:\\Users\\user\\Desktop\\studia\\Widzenie Komputerowe Projekt\\Predykcja_Karnych\\dataset\\karne_przerobione\\k6\\frame_0011.jpg: 352x512 1 ball, 1 person, 1 goal, 27.3ms\n",
      "image 13/173 C:\\Users\\user\\Desktop\\studia\\Widzenie Komputerowe Projekt\\Predykcja_Karnych\\dataset\\karne_przerobione\\k6\\frame_0012.jpg: 352x512 1 ball, 1 person, 1 goal, 28.5ms\n",
      "image 14/173 C:\\Users\\user\\Desktop\\studia\\Widzenie Komputerowe Projekt\\Predykcja_Karnych\\dataset\\karne_przerobione\\k6\\frame_0013.jpg: 352x512 1 ball, 1 person, 1 goal, 28.0ms\n",
      "image 15/173 C:\\Users\\user\\Desktop\\studia\\Widzenie Komputerowe Projekt\\Predykcja_Karnych\\dataset\\karne_przerobione\\k6\\frame_0014.jpg: 352x512 1 ball, 1 person, 1 goal, 26.0ms\n",
      "image 16/173 C:\\Users\\user\\Desktop\\studia\\Widzenie Komputerowe Projekt\\Predykcja_Karnych\\dataset\\karne_przerobione\\k6\\frame_0015.jpg: 352x512 1 ball, 1 person, 1 goal, 26.3ms\n",
      "image 17/173 C:\\Users\\user\\Desktop\\studia\\Widzenie Komputerowe Projekt\\Predykcja_Karnych\\dataset\\karne_przerobione\\k6\\frame_0016.jpg: 352x512 1 ball, 1 person, 1 goal, 27.6ms\n",
      "image 18/173 C:\\Users\\user\\Desktop\\studia\\Widzenie Komputerowe Projekt\\Predykcja_Karnych\\dataset\\karne_przerobione\\k6\\frame_0017.jpg: 352x512 1 ball, 1 person, 1 goal, 26.5ms\n",
      "image 19/173 C:\\Users\\user\\Desktop\\studia\\Widzenie Komputerowe Projekt\\Predykcja_Karnych\\dataset\\karne_przerobione\\k6\\frame_0018.jpg: 352x512 1 ball, 1 person, 1 goal, 26.0ms\n",
      "image 20/173 C:\\Users\\user\\Desktop\\studia\\Widzenie Komputerowe Projekt\\Predykcja_Karnych\\dataset\\karne_przerobione\\k6\\frame_0019.jpg: 352x512 1 ball, 1 person, 1 goal, 28.8ms\n",
      "image 21/173 C:\\Users\\user\\Desktop\\studia\\Widzenie Komputerowe Projekt\\Predykcja_Karnych\\dataset\\karne_przerobione\\k6\\frame_0020.jpg: 352x512 1 ball, 1 person, 1 goal, 27.9ms\n",
      "image 22/173 C:\\Users\\user\\Desktop\\studia\\Widzenie Komputerowe Projekt\\Predykcja_Karnych\\dataset\\karne_przerobione\\k6\\frame_0021.jpg: 352x512 1 ball, 1 person, 1 goal, 26.5ms\n",
      "image 23/173 C:\\Users\\user\\Desktop\\studia\\Widzenie Komputerowe Projekt\\Predykcja_Karnych\\dataset\\karne_przerobione\\k6\\frame_0022.jpg: 352x512 1 ball, 1 person, 1 goal, 31.0ms\n",
      "image 24/173 C:\\Users\\user\\Desktop\\studia\\Widzenie Komputerowe Projekt\\Predykcja_Karnych\\dataset\\karne_przerobione\\k6\\frame_0023.jpg: 352x512 1 ball, 1 person, 1 goal, 28.4ms\n",
      "image 25/173 C:\\Users\\user\\Desktop\\studia\\Widzenie Komputerowe Projekt\\Predykcja_Karnych\\dataset\\karne_przerobione\\k6\\frame_0024.jpg: 352x512 1 ball, 1 person, 1 goal, 27.3ms\n",
      "image 26/173 C:\\Users\\user\\Desktop\\studia\\Widzenie Komputerowe Projekt\\Predykcja_Karnych\\dataset\\karne_przerobione\\k6\\frame_0025.jpg: 352x512 1 ball, 1 person, 1 goal, 27.6ms\n",
      "image 27/173 C:\\Users\\user\\Desktop\\studia\\Widzenie Komputerowe Projekt\\Predykcja_Karnych\\dataset\\karne_przerobione\\k6\\frame_0026.jpg: 352x512 1 ball, 1 person, 1 goal, 24.9ms\n",
      "image 28/173 C:\\Users\\user\\Desktop\\studia\\Widzenie Komputerowe Projekt\\Predykcja_Karnych\\dataset\\karne_przerobione\\k6\\frame_0027.jpg: 352x512 1 ball, 1 person, 1 goal, 28.4ms\n",
      "image 29/173 C:\\Users\\user\\Desktop\\studia\\Widzenie Komputerowe Projekt\\Predykcja_Karnych\\dataset\\karne_przerobione\\k6\\frame_0028.jpg: 352x512 1 ball, 1 person, 1 goal, 27.6ms\n",
      "image 30/173 C:\\Users\\user\\Desktop\\studia\\Widzenie Komputerowe Projekt\\Predykcja_Karnych\\dataset\\karne_przerobione\\k6\\frame_0029.jpg: 352x512 1 ball, 1 person, 1 goal, 28.0ms\n",
      "image 31/173 C:\\Users\\user\\Desktop\\studia\\Widzenie Komputerowe Projekt\\Predykcja_Karnych\\dataset\\karne_przerobione\\k6\\frame_0030.jpg: 352x512 1 ball, 1 person, 1 goal, 26.6ms\n",
      "image 32/173 C:\\Users\\user\\Desktop\\studia\\Widzenie Komputerowe Projekt\\Predykcja_Karnych\\dataset\\karne_przerobione\\k6\\frame_0031.jpg: 352x512 1 ball, 1 person, 1 goal, 27.3ms\n",
      "image 33/173 C:\\Users\\user\\Desktop\\studia\\Widzenie Komputerowe Projekt\\Predykcja_Karnych\\dataset\\karne_przerobione\\k6\\frame_0032.jpg: 352x512 1 ball, 1 person, 1 goal, 27.9ms\n",
      "image 34/173 C:\\Users\\user\\Desktop\\studia\\Widzenie Komputerowe Projekt\\Predykcja_Karnych\\dataset\\karne_przerobione\\k6\\frame_0033.jpg: 352x512 1 ball, 1 person, 1 goal, 28.5ms\n",
      "image 35/173 C:\\Users\\user\\Desktop\\studia\\Widzenie Komputerowe Projekt\\Predykcja_Karnych\\dataset\\karne_przerobione\\k6\\frame_0034.jpg: 352x512 1 ball, 1 person, 1 goal, 27.5ms\n",
      "image 36/173 C:\\Users\\user\\Desktop\\studia\\Widzenie Komputerowe Projekt\\Predykcja_Karnych\\dataset\\karne_przerobione\\k6\\frame_0035.jpg: 352x512 1 ball, 1 person, 1 goal, 24.8ms\n",
      "image 37/173 C:\\Users\\user\\Desktop\\studia\\Widzenie Komputerowe Projekt\\Predykcja_Karnych\\dataset\\karne_przerobione\\k6\\frame_0036.jpg: 352x512 1 ball, 1 person, 1 goal, 28.6ms\n",
      "image 38/173 C:\\Users\\user\\Desktop\\studia\\Widzenie Komputerowe Projekt\\Predykcja_Karnych\\dataset\\karne_przerobione\\k6\\frame_0037.jpg: 352x512 1 ball, 1 person, 1 goal, 26.3ms\n",
      "image 39/173 C:\\Users\\user\\Desktop\\studia\\Widzenie Komputerowe Projekt\\Predykcja_Karnych\\dataset\\karne_przerobione\\k6\\frame_0038.jpg: 352x512 1 ball, 1 person, 1 goal, 26.4ms\n",
      "image 40/173 C:\\Users\\user\\Desktop\\studia\\Widzenie Komputerowe Projekt\\Predykcja_Karnych\\dataset\\karne_przerobione\\k6\\frame_0039.jpg: 352x512 1 ball, 1 person, 1 goal, 27.8ms\n",
      "image 41/173 C:\\Users\\user\\Desktop\\studia\\Widzenie Komputerowe Projekt\\Predykcja_Karnych\\dataset\\karne_przerobione\\k6\\frame_0040.jpg: 352x512 1 ball, 1 person, 1 goal, 28.2ms\n",
      "image 42/173 C:\\Users\\user\\Desktop\\studia\\Widzenie Komputerowe Projekt\\Predykcja_Karnych\\dataset\\karne_przerobione\\k6\\frame_0041.jpg: 352x512 1 ball, 1 person, 1 goal, 27.5ms\n",
      "image 43/173 C:\\Users\\user\\Desktop\\studia\\Widzenie Komputerowe Projekt\\Predykcja_Karnych\\dataset\\karne_przerobione\\k6\\frame_0042.jpg: 352x512 1 ball, 1 person, 1 goal, 43.7ms\n",
      "image 44/173 C:\\Users\\user\\Desktop\\studia\\Widzenie Komputerowe Projekt\\Predykcja_Karnych\\dataset\\karne_przerobione\\k6\\frame_0043.jpg: 352x512 1 ball, 1 person, 1 goal, 27.8ms\n",
      "image 45/173 C:\\Users\\user\\Desktop\\studia\\Widzenie Komputerowe Projekt\\Predykcja_Karnych\\dataset\\karne_przerobione\\k6\\frame_0044.jpg: 352x512 1 ball, 1 person, 1 goal, 25.8ms\n",
      "image 46/173 C:\\Users\\user\\Desktop\\studia\\Widzenie Komputerowe Projekt\\Predykcja_Karnych\\dataset\\karne_przerobione\\k6\\frame_0045.jpg: 352x512 1 ball, 1 person, 1 goal, 26.8ms\n",
      "image 47/173 C:\\Users\\user\\Desktop\\studia\\Widzenie Komputerowe Projekt\\Predykcja_Karnych\\dataset\\karne_przerobione\\k6\\frame_0046.jpg: 352x512 1 ball, 1 person, 1 goal, 30.2ms\n",
      "image 48/173 C:\\Users\\user\\Desktop\\studia\\Widzenie Komputerowe Projekt\\Predykcja_Karnych\\dataset\\karne_przerobione\\k6\\frame_0047.jpg: 352x512 1 ball, 1 person, 1 goal, 35.3ms\n",
      "image 49/173 C:\\Users\\user\\Desktop\\studia\\Widzenie Komputerowe Projekt\\Predykcja_Karnych\\dataset\\karne_przerobione\\k6\\frame_0048.jpg: 352x512 1 ball, 1 person, 1 goal, 35.3ms\n",
      "image 50/173 C:\\Users\\user\\Desktop\\studia\\Widzenie Komputerowe Projekt\\Predykcja_Karnych\\dataset\\karne_przerobione\\k6\\frame_0049.jpg: 352x512 1 ball, 1 person, 1 goal, 31.5ms\n",
      "image 51/173 C:\\Users\\user\\Desktop\\studia\\Widzenie Komputerowe Projekt\\Predykcja_Karnych\\dataset\\karne_przerobione\\k6\\frame_0050.jpg: 352x512 1 ball, 1 person, 1 goal, 29.4ms\n",
      "image 52/173 C:\\Users\\user\\Desktop\\studia\\Widzenie Komputerowe Projekt\\Predykcja_Karnych\\dataset\\karne_przerobione\\k6\\frame_0051.jpg: 352x512 1 ball, 1 person, 1 goal, 32.8ms\n",
      "image 53/173 C:\\Users\\user\\Desktop\\studia\\Widzenie Komputerowe Projekt\\Predykcja_Karnych\\dataset\\karne_przerobione\\k6\\frame_0052.jpg: 352x512 1 ball, 1 person, 1 goal, 25.2ms\n",
      "image 54/173 C:\\Users\\user\\Desktop\\studia\\Widzenie Komputerowe Projekt\\Predykcja_Karnych\\dataset\\karne_przerobione\\k6\\frame_0053.jpg: 352x512 1 ball, 1 person, 1 goal, 29.7ms\n",
      "image 55/173 C:\\Users\\user\\Desktop\\studia\\Widzenie Komputerowe Projekt\\Predykcja_Karnych\\dataset\\karne_przerobione\\k6\\frame_0054.jpg: 352x512 1 ball, 1 person, 1 goal, 27.2ms\n",
      "image 56/173 C:\\Users\\user\\Desktop\\studia\\Widzenie Komputerowe Projekt\\Predykcja_Karnych\\dataset\\karne_przerobione\\k6\\frame_0055.jpg: 352x512 1 ball, 1 person, 1 goal, 28.3ms\n",
      "image 57/173 C:\\Users\\user\\Desktop\\studia\\Widzenie Komputerowe Projekt\\Predykcja_Karnych\\dataset\\karne_przerobione\\k6\\frame_0056.jpg: 352x512 1 ball, 1 person, 1 goal, 26.1ms\n",
      "image 58/173 C:\\Users\\user\\Desktop\\studia\\Widzenie Komputerowe Projekt\\Predykcja_Karnych\\dataset\\karne_przerobione\\k6\\frame_0057.jpg: 352x512 1 ball, 1 person, 1 goal, 26.5ms\n",
      "image 59/173 C:\\Users\\user\\Desktop\\studia\\Widzenie Komputerowe Projekt\\Predykcja_Karnych\\dataset\\karne_przerobione\\k6\\frame_0058.jpg: 352x512 1 ball, 1 person, 1 goal, 30.1ms\n",
      "image 60/173 C:\\Users\\user\\Desktop\\studia\\Widzenie Komputerowe Projekt\\Predykcja_Karnych\\dataset\\karne_przerobione\\k6\\frame_0059.jpg: 352x512 1 ball, 1 person, 1 goal, 26.4ms\n",
      "image 61/173 C:\\Users\\user\\Desktop\\studia\\Widzenie Komputerowe Projekt\\Predykcja_Karnych\\dataset\\karne_przerobione\\k6\\frame_0060.jpg: 352x512 1 ball, 1 person, 1 goal, 28.6ms\n",
      "image 62/173 C:\\Users\\user\\Desktop\\studia\\Widzenie Komputerowe Projekt\\Predykcja_Karnych\\dataset\\karne_przerobione\\k6\\frame_0061.jpg: 352x512 1 ball, 1 person, 1 goal, 26.6ms\n",
      "image 63/173 C:\\Users\\user\\Desktop\\studia\\Widzenie Komputerowe Projekt\\Predykcja_Karnych\\dataset\\karne_przerobione\\k6\\frame_0062.jpg: 352x512 1 ball, 1 person, 1 goal, 27.9ms\n",
      "image 64/173 C:\\Users\\user\\Desktop\\studia\\Widzenie Komputerowe Projekt\\Predykcja_Karnych\\dataset\\karne_przerobione\\k6\\frame_0063.jpg: 352x512 1 ball, 1 person, 1 goal, 27.1ms\n",
      "image 65/173 C:\\Users\\user\\Desktop\\studia\\Widzenie Komputerowe Projekt\\Predykcja_Karnych\\dataset\\karne_przerobione\\k6\\frame_0064.jpg: 352x512 1 ball, 1 person, 1 goal, 39.8ms\n",
      "image 66/173 C:\\Users\\user\\Desktop\\studia\\Widzenie Komputerowe Projekt\\Predykcja_Karnych\\dataset\\karne_przerobione\\k6\\frame_0065.jpg: 352x512 1 ball, 1 person, 1 goal, 28.3ms\n",
      "image 67/173 C:\\Users\\user\\Desktop\\studia\\Widzenie Komputerowe Projekt\\Predykcja_Karnych\\dataset\\karne_przerobione\\k6\\frame_0066.jpg: 352x512 1 ball, 1 person, 1 goal, 29.6ms\n",
      "image 68/173 C:\\Users\\user\\Desktop\\studia\\Widzenie Komputerowe Projekt\\Predykcja_Karnych\\dataset\\karne_przerobione\\k6\\frame_0067.jpg: 352x512 1 ball, 1 person, 1 goal, 33.0ms\n",
      "image 69/173 C:\\Users\\user\\Desktop\\studia\\Widzenie Komputerowe Projekt\\Predykcja_Karnych\\dataset\\karne_przerobione\\k6\\frame_0068.jpg: 352x512 1 ball, 1 person, 1 goal, 33.4ms\n",
      "image 70/173 C:\\Users\\user\\Desktop\\studia\\Widzenie Komputerowe Projekt\\Predykcja_Karnych\\dataset\\karne_przerobione\\k6\\frame_0069.jpg: 352x512 1 ball, 1 person, 1 goal, 29.5ms\n",
      "image 71/173 C:\\Users\\user\\Desktop\\studia\\Widzenie Komputerowe Projekt\\Predykcja_Karnych\\dataset\\karne_przerobione\\k6\\frame_0070.jpg: 352x512 1 ball, 1 person, 1 goal, 36.3ms\n",
      "image 72/173 C:\\Users\\user\\Desktop\\studia\\Widzenie Komputerowe Projekt\\Predykcja_Karnych\\dataset\\karne_przerobione\\k6\\frame_0071.jpg: 352x512 1 ball, 1 person, 1 goal, 34.4ms\n",
      "image 73/173 C:\\Users\\user\\Desktop\\studia\\Widzenie Komputerowe Projekt\\Predykcja_Karnych\\dataset\\karne_przerobione\\k6\\frame_0072.jpg: 352x512 1 ball, 1 person, 1 goal, 35.2ms\n",
      "image 74/173 C:\\Users\\user\\Desktop\\studia\\Widzenie Komputerowe Projekt\\Predykcja_Karnych\\dataset\\karne_przerobione\\k6\\frame_0073.jpg: 352x512 1 ball, 1 person, 1 goal, 26.6ms\n",
      "image 75/173 C:\\Users\\user\\Desktop\\studia\\Widzenie Komputerowe Projekt\\Predykcja_Karnych\\dataset\\karne_przerobione\\k6\\frame_0074.jpg: 352x512 1 ball, 1 person, 1 goal, 27.2ms\n",
      "image 76/173 C:\\Users\\user\\Desktop\\studia\\Widzenie Komputerowe Projekt\\Predykcja_Karnych\\dataset\\karne_przerobione\\k6\\frame_0075.jpg: 352x512 1 ball, 1 person, 1 goal, 28.1ms\n",
      "image 77/173 C:\\Users\\user\\Desktop\\studia\\Widzenie Komputerowe Projekt\\Predykcja_Karnych\\dataset\\karne_przerobione\\k6\\frame_0076.jpg: 352x512 1 ball, 1 person, 1 goal, 26.1ms\n",
      "image 78/173 C:\\Users\\user\\Desktop\\studia\\Widzenie Komputerowe Projekt\\Predykcja_Karnych\\dataset\\karne_przerobione\\k6\\frame_0077.jpg: 352x512 1 ball, 1 person, 1 goal, 28.3ms\n",
      "image 79/173 C:\\Users\\user\\Desktop\\studia\\Widzenie Komputerowe Projekt\\Predykcja_Karnych\\dataset\\karne_przerobione\\k6\\frame_0078.jpg: 352x512 1 ball, 1 person, 1 goal, 27.9ms\n",
      "image 80/173 C:\\Users\\user\\Desktop\\studia\\Widzenie Komputerowe Projekt\\Predykcja_Karnych\\dataset\\karne_przerobione\\k6\\frame_0079.jpg: 352x512 1 ball, 1 person, 1 goal, 28.3ms\n",
      "image 81/173 C:\\Users\\user\\Desktop\\studia\\Widzenie Komputerowe Projekt\\Predykcja_Karnych\\dataset\\karne_przerobione\\k6\\frame_0080.jpg: 352x512 1 ball, 1 person, 1 goal, 29.3ms\n",
      "image 82/173 C:\\Users\\user\\Desktop\\studia\\Widzenie Komputerowe Projekt\\Predykcja_Karnych\\dataset\\karne_przerobione\\k6\\frame_0081.jpg: 352x512 1 ball, 1 person, 1 goal, 27.7ms\n",
      "image 83/173 C:\\Users\\user\\Desktop\\studia\\Widzenie Komputerowe Projekt\\Predykcja_Karnych\\dataset\\karne_przerobione\\k6\\frame_0082.jpg: 352x512 1 ball, 1 person, 1 goal, 28.8ms\n",
      "image 84/173 C:\\Users\\user\\Desktop\\studia\\Widzenie Komputerowe Projekt\\Predykcja_Karnych\\dataset\\karne_przerobione\\k6\\frame_0083.jpg: 352x512 1 ball, 1 person, 1 goal, 27.4ms\n",
      "image 85/173 C:\\Users\\user\\Desktop\\studia\\Widzenie Komputerowe Projekt\\Predykcja_Karnych\\dataset\\karne_przerobione\\k6\\frame_0084.jpg: 352x512 1 ball, 1 person, 1 goal, 27.9ms\n",
      "image 86/173 C:\\Users\\user\\Desktop\\studia\\Widzenie Komputerowe Projekt\\Predykcja_Karnych\\dataset\\karne_przerobione\\k6\\frame_0085.jpg: 352x512 1 ball, 1 person, 1 goal, 26.7ms\n",
      "image 87/173 C:\\Users\\user\\Desktop\\studia\\Widzenie Komputerowe Projekt\\Predykcja_Karnych\\dataset\\karne_przerobione\\k6\\frame_0086.jpg: 352x512 1 ball, 1 person, 1 goal, 27.8ms\n",
      "image 88/173 C:\\Users\\user\\Desktop\\studia\\Widzenie Komputerowe Projekt\\Predykcja_Karnych\\dataset\\karne_przerobione\\k6\\frame_0087.jpg: 352x512 1 ball, 1 person, 1 goal, 28.2ms\n",
      "image 89/173 C:\\Users\\user\\Desktop\\studia\\Widzenie Komputerowe Projekt\\Predykcja_Karnych\\dataset\\karne_przerobione\\k6\\frame_0088.jpg: 352x512 1 ball, 1 person, 1 goal, 26.4ms\n",
      "image 90/173 C:\\Users\\user\\Desktop\\studia\\Widzenie Komputerowe Projekt\\Predykcja_Karnych\\dataset\\karne_przerobione\\k6\\frame_0089.jpg: 352x512 1 ball, 1 person, 1 goal, 25.2ms\n",
      "image 91/173 C:\\Users\\user\\Desktop\\studia\\Widzenie Komputerowe Projekt\\Predykcja_Karnych\\dataset\\karne_przerobione\\k6\\frame_0090.jpg: 352x512 1 ball, 1 person, 1 goal, 27.8ms\n",
      "image 92/173 C:\\Users\\user\\Desktop\\studia\\Widzenie Komputerowe Projekt\\Predykcja_Karnych\\dataset\\karne_przerobione\\k6\\frame_0091.jpg: 352x512 1 ball, 1 person, 1 goal, 26.7ms\n",
      "image 93/173 C:\\Users\\user\\Desktop\\studia\\Widzenie Komputerowe Projekt\\Predykcja_Karnych\\dataset\\karne_przerobione\\k6\\frame_0092.jpg: 352x512 1 ball, 1 person, 1 goal, 24.9ms\n",
      "image 94/173 C:\\Users\\user\\Desktop\\studia\\Widzenie Komputerowe Projekt\\Predykcja_Karnych\\dataset\\karne_przerobione\\k6\\frame_0093.jpg: 352x512 1 ball, 1 person, 1 goal, 26.0ms\n",
      "image 95/173 C:\\Users\\user\\Desktop\\studia\\Widzenie Komputerowe Projekt\\Predykcja_Karnych\\dataset\\karne_przerobione\\k6\\frame_0094.jpg: 352x512 1 ball, 1 person, 1 goal, 27.5ms\n",
      "image 96/173 C:\\Users\\user\\Desktop\\studia\\Widzenie Komputerowe Projekt\\Predykcja_Karnych\\dataset\\karne_przerobione\\k6\\frame_0095.jpg: 352x512 1 ball, 1 person, 1 goal, 28.5ms\n",
      "image 97/173 C:\\Users\\user\\Desktop\\studia\\Widzenie Komputerowe Projekt\\Predykcja_Karnych\\dataset\\karne_przerobione\\k6\\frame_0096.jpg: 352x512 1 ball, 1 person, 1 goal, 29.6ms\n",
      "image 98/173 C:\\Users\\user\\Desktop\\studia\\Widzenie Komputerowe Projekt\\Predykcja_Karnych\\dataset\\karne_przerobione\\k6\\frame_0097.jpg: 352x512 1 ball, 1 person, 1 goal, 29.5ms\n",
      "image 99/173 C:\\Users\\user\\Desktop\\studia\\Widzenie Komputerowe Projekt\\Predykcja_Karnych\\dataset\\karne_przerobione\\k6\\frame_0098.jpg: 352x512 1 ball, 1 person, 1 goal, 27.7ms\n",
      "image 100/173 C:\\Users\\user\\Desktop\\studia\\Widzenie Komputerowe Projekt\\Predykcja_Karnych\\dataset\\karne_przerobione\\k6\\frame_0099.jpg: 352x512 1 ball, 1 person, 1 goal, 50.3ms\n",
      "image 101/173 C:\\Users\\user\\Desktop\\studia\\Widzenie Komputerowe Projekt\\Predykcja_Karnych\\dataset\\karne_przerobione\\k6\\frame_0100.jpg: 352x512 1 ball, 1 person, 1 goal, 30.2ms\n",
      "image 102/173 C:\\Users\\user\\Desktop\\studia\\Widzenie Komputerowe Projekt\\Predykcja_Karnych\\dataset\\karne_przerobione\\k6\\frame_0101.jpg: 352x512 1 ball, 1 person, 1 goal, 27.8ms\n",
      "image 103/173 C:\\Users\\user\\Desktop\\studia\\Widzenie Komputerowe Projekt\\Predykcja_Karnych\\dataset\\karne_przerobione\\k6\\frame_0102.jpg: 352x512 1 ball, 1 person, 1 goal, 26.5ms\n",
      "image 104/173 C:\\Users\\user\\Desktop\\studia\\Widzenie Komputerowe Projekt\\Predykcja_Karnych\\dataset\\karne_przerobione\\k6\\frame_0103.jpg: 352x512 1 ball, 1 person, 1 goal, 28.5ms\n",
      "image 105/173 C:\\Users\\user\\Desktop\\studia\\Widzenie Komputerowe Projekt\\Predykcja_Karnych\\dataset\\karne_przerobione\\k6\\frame_0104.jpg: 352x512 1 ball, 1 person, 1 goal, 38.7ms\n",
      "image 106/173 C:\\Users\\user\\Desktop\\studia\\Widzenie Komputerowe Projekt\\Predykcja_Karnych\\dataset\\karne_przerobione\\k6\\frame_0105.jpg: 352x512 1 ball, 1 person, 1 goal, 33.3ms\n",
      "image 107/173 C:\\Users\\user\\Desktop\\studia\\Widzenie Komputerowe Projekt\\Predykcja_Karnych\\dataset\\karne_przerobione\\k6\\frame_0106.jpg: 352x512 1 ball, 1 person, 1 goal, 31.3ms\n",
      "image 108/173 C:\\Users\\user\\Desktop\\studia\\Widzenie Komputerowe Projekt\\Predykcja_Karnych\\dataset\\karne_przerobione\\k6\\frame_0107.jpg: 352x512 1 ball, 1 person, 1 goal, 30.0ms\n",
      "image 109/173 C:\\Users\\user\\Desktop\\studia\\Widzenie Komputerowe Projekt\\Predykcja_Karnych\\dataset\\karne_przerobione\\k6\\frame_0108.jpg: 352x512 1 ball, 1 person, 1 goal, 29.6ms\n",
      "image 110/173 C:\\Users\\user\\Desktop\\studia\\Widzenie Komputerowe Projekt\\Predykcja_Karnych\\dataset\\karne_przerobione\\k6\\frame_0109.jpg: 352x512 1 ball, 1 person, 1 goal, 26.2ms\n",
      "image 111/173 C:\\Users\\user\\Desktop\\studia\\Widzenie Komputerowe Projekt\\Predykcja_Karnych\\dataset\\karne_przerobione\\k6\\frame_0110.jpg: 352x512 1 ball, 1 person, 1 goal, 25.5ms\n",
      "image 112/173 C:\\Users\\user\\Desktop\\studia\\Widzenie Komputerowe Projekt\\Predykcja_Karnych\\dataset\\karne_przerobione\\k6\\frame_0111.jpg: 352x512 1 ball, 1 person, 1 goal, 26.3ms\n",
      "image 113/173 C:\\Users\\user\\Desktop\\studia\\Widzenie Komputerowe Projekt\\Predykcja_Karnych\\dataset\\karne_przerobione\\k6\\frame_0112.jpg: 352x512 1 ball, 1 person, 1 goal, 26.5ms\n",
      "image 114/173 C:\\Users\\user\\Desktop\\studia\\Widzenie Komputerowe Projekt\\Predykcja_Karnych\\dataset\\karne_przerobione\\k6\\frame_0113.jpg: 352x512 1 ball, 1 person, 1 goal, 29.1ms\n",
      "image 115/173 C:\\Users\\user\\Desktop\\studia\\Widzenie Komputerowe Projekt\\Predykcja_Karnych\\dataset\\karne_przerobione\\k6\\frame_0114.jpg: 352x512 1 ball, 1 person, 1 goal, 27.3ms\n",
      "image 116/173 C:\\Users\\user\\Desktop\\studia\\Widzenie Komputerowe Projekt\\Predykcja_Karnych\\dataset\\karne_przerobione\\k6\\frame_0115.jpg: 352x512 1 ball, 1 person, 1 goal, 28.4ms\n",
      "image 117/173 C:\\Users\\user\\Desktop\\studia\\Widzenie Komputerowe Projekt\\Predykcja_Karnych\\dataset\\karne_przerobione\\k6\\frame_0116.jpg: 352x512 1 ball, 1 person, 1 goal, 26.7ms\n",
      "image 118/173 C:\\Users\\user\\Desktop\\studia\\Widzenie Komputerowe Projekt\\Predykcja_Karnych\\dataset\\karne_przerobione\\k6\\frame_0117.jpg: 352x512 1 ball, 1 person, 1 goal, 28.1ms\n",
      "image 119/173 C:\\Users\\user\\Desktop\\studia\\Widzenie Komputerowe Projekt\\Predykcja_Karnych\\dataset\\karne_przerobione\\k6\\frame_0118.jpg: 352x512 1 ball, 1 person, 1 goal, 27.6ms\n",
      "image 120/173 C:\\Users\\user\\Desktop\\studia\\Widzenie Komputerowe Projekt\\Predykcja_Karnych\\dataset\\karne_przerobione\\k6\\frame_0119.jpg: 352x512 1 ball, 1 person, 1 goal, 26.8ms\n",
      "image 121/173 C:\\Users\\user\\Desktop\\studia\\Widzenie Komputerowe Projekt\\Predykcja_Karnych\\dataset\\karne_przerobione\\k6\\frame_0120.jpg: 352x512 1 person, 1 goal, 26.5ms\n",
      "image 122/173 C:\\Users\\user\\Desktop\\studia\\Widzenie Komputerowe Projekt\\Predykcja_Karnych\\dataset\\karne_przerobione\\k6\\frame_0121.jpg: 352x512 1 person, 1 goal, 29.0ms\n",
      "image 123/173 C:\\Users\\user\\Desktop\\studia\\Widzenie Komputerowe Projekt\\Predykcja_Karnych\\dataset\\karne_przerobione\\k6\\frame_0122.jpg: 352x512 1 person, 1 goal, 26.9ms\n",
      "image 124/173 C:\\Users\\user\\Desktop\\studia\\Widzenie Komputerowe Projekt\\Predykcja_Karnych\\dataset\\karne_przerobione\\k6\\frame_0123.jpg: 352x512 1 person, 1 goal, 29.7ms\n",
      "image 125/173 C:\\Users\\user\\Desktop\\studia\\Widzenie Komputerowe Projekt\\Predykcja_Karnych\\dataset\\karne_przerobione\\k6\\frame_0124.jpg: 352x512 1 ball, 1 person, 1 goal, 29.4ms\n",
      "image 126/173 C:\\Users\\user\\Desktop\\studia\\Widzenie Komputerowe Projekt\\Predykcja_Karnych\\dataset\\karne_przerobione\\k6\\frame_0125.jpg: 352x512 1 ball, 1 person, 1 goal, 29.3ms\n",
      "image 127/173 C:\\Users\\user\\Desktop\\studia\\Widzenie Komputerowe Projekt\\Predykcja_Karnych\\dataset\\karne_przerobione\\k6\\frame_0126.jpg: 352x512 1 ball, 1 person, 1 goal, 29.8ms\n",
      "image 128/173 C:\\Users\\user\\Desktop\\studia\\Widzenie Komputerowe Projekt\\Predykcja_Karnych\\dataset\\karne_przerobione\\k6\\frame_0127.jpg: 352x512 1 ball, 1 person, 1 goal, 27.6ms\n",
      "image 129/173 C:\\Users\\user\\Desktop\\studia\\Widzenie Komputerowe Projekt\\Predykcja_Karnych\\dataset\\karne_przerobione\\k6\\frame_0128.jpg: 352x512 1 ball, 1 person, 1 goal, 27.3ms\n",
      "image 130/173 C:\\Users\\user\\Desktop\\studia\\Widzenie Komputerowe Projekt\\Predykcja_Karnych\\dataset\\karne_przerobione\\k6\\frame_0129.jpg: 352x512 1 ball, 1 person, 1 goal, 26.1ms\n",
      "image 131/173 C:\\Users\\user\\Desktop\\studia\\Widzenie Komputerowe Projekt\\Predykcja_Karnych\\dataset\\karne_przerobione\\k6\\frame_0130.jpg: 352x512 1 ball, 1 person, 1 goal, 28.3ms\n",
      "image 132/173 C:\\Users\\user\\Desktop\\studia\\Widzenie Komputerowe Projekt\\Predykcja_Karnych\\dataset\\karne_przerobione\\k6\\frame_0131.jpg: 352x512 1 ball, 1 person, 1 goal, 27.9ms\n",
      "image 133/173 C:\\Users\\user\\Desktop\\studia\\Widzenie Komputerowe Projekt\\Predykcja_Karnych\\dataset\\karne_przerobione\\k6\\frame_0132.jpg: 352x512 1 ball, 1 person, 1 goal, 26.6ms\n",
      "image 134/173 C:\\Users\\user\\Desktop\\studia\\Widzenie Komputerowe Projekt\\Predykcja_Karnych\\dataset\\karne_przerobione\\k6\\frame_0133.jpg: 352x512 1 ball, 1 person, 1 goal, 28.9ms\n",
      "image 135/173 C:\\Users\\user\\Desktop\\studia\\Widzenie Komputerowe Projekt\\Predykcja_Karnych\\dataset\\karne_przerobione\\k6\\frame_0134.jpg: 352x512 1 ball, 1 person, 1 goal, 28.0ms\n",
      "image 136/173 C:\\Users\\user\\Desktop\\studia\\Widzenie Komputerowe Projekt\\Predykcja_Karnych\\dataset\\karne_przerobione\\k6\\frame_0135.jpg: 352x512 1 ball, 1 person, 1 goal, 27.0ms\n",
      "image 137/173 C:\\Users\\user\\Desktop\\studia\\Widzenie Komputerowe Projekt\\Predykcja_Karnych\\dataset\\karne_przerobione\\k6\\frame_0136.jpg: 352x512 1 ball, 1 person, 1 goal, 28.9ms\n",
      "image 138/173 C:\\Users\\user\\Desktop\\studia\\Widzenie Komputerowe Projekt\\Predykcja_Karnych\\dataset\\karne_przerobione\\k6\\frame_0137.jpg: 352x512 1 ball, 1 person, 1 goal, 26.5ms\n",
      "image 139/173 C:\\Users\\user\\Desktop\\studia\\Widzenie Komputerowe Projekt\\Predykcja_Karnych\\dataset\\karne_przerobione\\k6\\frame_0138.jpg: 352x512 1 ball, 1 person, 1 goal, 26.5ms\n",
      "image 140/173 C:\\Users\\user\\Desktop\\studia\\Widzenie Komputerowe Projekt\\Predykcja_Karnych\\dataset\\karne_przerobione\\k6\\frame_0139.jpg: 352x512 1 ball, 1 person, 1 goal, 37.8ms\n",
      "image 141/173 C:\\Users\\user\\Desktop\\studia\\Widzenie Komputerowe Projekt\\Predykcja_Karnych\\dataset\\karne_przerobione\\k6\\frame_0140.jpg: 352x512 1 ball, 1 person, 1 goal, 35.6ms\n",
      "image 142/173 C:\\Users\\user\\Desktop\\studia\\Widzenie Komputerowe Projekt\\Predykcja_Karnych\\dataset\\karne_przerobione\\k6\\frame_0141.jpg: 352x512 1 ball, 1 person, 1 goal, 30.2ms\n",
      "image 143/173 C:\\Users\\user\\Desktop\\studia\\Widzenie Komputerowe Projekt\\Predykcja_Karnych\\dataset\\karne_przerobione\\k6\\frame_0142.jpg: 352x512 1 ball, 1 person, 1 goal, 29.0ms\n",
      "image 144/173 C:\\Users\\user\\Desktop\\studia\\Widzenie Komputerowe Projekt\\Predykcja_Karnych\\dataset\\karne_przerobione\\k6\\frame_0143.jpg: 352x512 1 ball, 1 person, 1 goal, 32.4ms\n",
      "image 145/173 C:\\Users\\user\\Desktop\\studia\\Widzenie Komputerowe Projekt\\Predykcja_Karnych\\dataset\\karne_przerobione\\k6\\frame_0144.jpg: 352x512 1 ball, 1 person, 1 goal, 28.9ms\n",
      "image 146/173 C:\\Users\\user\\Desktop\\studia\\Widzenie Komputerowe Projekt\\Predykcja_Karnych\\dataset\\karne_przerobione\\k6\\frame_0145.jpg: 352x512 1 person, 1 goal, 36.5ms\n",
      "image 147/173 C:\\Users\\user\\Desktop\\studia\\Widzenie Komputerowe Projekt\\Predykcja_Karnych\\dataset\\karne_przerobione\\k6\\frame_0146.jpg: 352x512 1 person, 1 goal, 59.2ms\n",
      "image 148/173 C:\\Users\\user\\Desktop\\studia\\Widzenie Komputerowe Projekt\\Predykcja_Karnych\\dataset\\karne_przerobione\\k6\\frame_0147.jpg: 352x512 1 ball, 1 person, 1 goal, 41.5ms\n",
      "image 149/173 C:\\Users\\user\\Desktop\\studia\\Widzenie Komputerowe Projekt\\Predykcja_Karnych\\dataset\\karne_przerobione\\k6\\frame_0148.jpg: 352x512 1 ball, 1 person, 1 goal, 29.5ms\n",
      "image 150/173 C:\\Users\\user\\Desktop\\studia\\Widzenie Komputerowe Projekt\\Predykcja_Karnych\\dataset\\karne_przerobione\\k6\\frame_0149.jpg: 352x512 1 ball, 1 person, 1 goal, 35.8ms\n",
      "image 151/173 C:\\Users\\user\\Desktop\\studia\\Widzenie Komputerowe Projekt\\Predykcja_Karnych\\dataset\\karne_przerobione\\k6\\frame_0150.jpg: 352x512 1 person, 1 goal, 29.8ms\n",
      "image 152/173 C:\\Users\\user\\Desktop\\studia\\Widzenie Komputerowe Projekt\\Predykcja_Karnych\\dataset\\karne_przerobione\\k6\\frame_0151.jpg: 352x512 1 person, 1 goal, 30.0ms\n",
      "image 153/173 C:\\Users\\user\\Desktop\\studia\\Widzenie Komputerowe Projekt\\Predykcja_Karnych\\dataset\\karne_przerobione\\k6\\frame_0152.jpg: 352x512 1 ball, 1 person, 1 goal, 27.1ms\n",
      "image 154/173 C:\\Users\\user\\Desktop\\studia\\Widzenie Komputerowe Projekt\\Predykcja_Karnych\\dataset\\karne_przerobione\\k6\\frame_0153.jpg: 352x512 1 ball, 1 person, 1 goal, 26.4ms\n",
      "image 155/173 C:\\Users\\user\\Desktop\\studia\\Widzenie Komputerowe Projekt\\Predykcja_Karnych\\dataset\\karne_przerobione\\k6\\frame_0154.jpg: 352x512 1 ball, 1 person, 1 goal, 30.9ms\n",
      "image 156/173 C:\\Users\\user\\Desktop\\studia\\Widzenie Komputerowe Projekt\\Predykcja_Karnych\\dataset\\karne_przerobione\\k6\\frame_0155.jpg: 352x512 1 ball, 1 person, 1 goal, 44.4ms\n",
      "image 157/173 C:\\Users\\user\\Desktop\\studia\\Widzenie Komputerowe Projekt\\Predykcja_Karnych\\dataset\\karne_przerobione\\k6\\frame_0156.jpg: 352x512 1 ball, 1 person, 1 goal, 25.2ms\n",
      "image 158/173 C:\\Users\\user\\Desktop\\studia\\Widzenie Komputerowe Projekt\\Predykcja_Karnych\\dataset\\karne_przerobione\\k6\\frame_0157.jpg: 352x512 1 ball, 1 person, 1 goal, 33.3ms\n",
      "image 159/173 C:\\Users\\user\\Desktop\\studia\\Widzenie Komputerowe Projekt\\Predykcja_Karnych\\dataset\\karne_przerobione\\k6\\frame_0158.jpg: 352x512 1 ball, 1 person, 1 goal, 26.9ms\n",
      "image 160/173 C:\\Users\\user\\Desktop\\studia\\Widzenie Komputerowe Projekt\\Predykcja_Karnych\\dataset\\karne_przerobione\\k6\\frame_0159.jpg: 352x512 1 ball, 1 person, 1 goal, 27.3ms\n",
      "image 161/173 C:\\Users\\user\\Desktop\\studia\\Widzenie Komputerowe Projekt\\Predykcja_Karnych\\dataset\\karne_przerobione\\k6\\frame_0160.jpg: 352x512 1 ball, 1 person, 1 goal, 43.6ms\n",
      "image 162/173 C:\\Users\\user\\Desktop\\studia\\Widzenie Komputerowe Projekt\\Predykcja_Karnych\\dataset\\karne_przerobione\\k6\\frame_0161.jpg: 352x512 1 ball, 1 person, 1 goal, 38.7ms\n",
      "image 163/173 C:\\Users\\user\\Desktop\\studia\\Widzenie Komputerowe Projekt\\Predykcja_Karnych\\dataset\\karne_przerobione\\k6\\frame_0162.jpg: 352x512 1 ball, 1 person, 1 goal, 33.5ms\n",
      "image 164/173 C:\\Users\\user\\Desktop\\studia\\Widzenie Komputerowe Projekt\\Predykcja_Karnych\\dataset\\karne_przerobione\\k6\\frame_0163.jpg: 352x512 1 ball, 1 person, 1 goal, 29.8ms\n",
      "image 165/173 C:\\Users\\user\\Desktop\\studia\\Widzenie Komputerowe Projekt\\Predykcja_Karnych\\dataset\\karne_przerobione\\k6\\frame_0164.jpg: 352x512 1 ball, 1 person, 1 goal, 29.5ms\n",
      "image 166/173 C:\\Users\\user\\Desktop\\studia\\Widzenie Komputerowe Projekt\\Predykcja_Karnych\\dataset\\karne_przerobione\\k6\\frame_0165.jpg: 352x512 1 ball, 1 person, 1 goal, 28.0ms\n",
      "image 167/173 C:\\Users\\user\\Desktop\\studia\\Widzenie Komputerowe Projekt\\Predykcja_Karnych\\dataset\\karne_przerobione\\k6\\frame_0166.jpg: 352x512 1 ball, 1 person, 1 goal, 26.6ms\n",
      "image 168/173 C:\\Users\\user\\Desktop\\studia\\Widzenie Komputerowe Projekt\\Predykcja_Karnych\\dataset\\karne_przerobione\\k6\\frame_0167.jpg: 352x512 1 ball, 1 person, 1 goal, 27.1ms\n",
      "image 169/173 C:\\Users\\user\\Desktop\\studia\\Widzenie Komputerowe Projekt\\Predykcja_Karnych\\dataset\\karne_przerobione\\k6\\frame_0168.jpg: 352x512 1 ball, 1 person, 1 goal, 25.8ms\n",
      "image 170/173 C:\\Users\\user\\Desktop\\studia\\Widzenie Komputerowe Projekt\\Predykcja_Karnych\\dataset\\karne_przerobione\\k6\\frame_0169.jpg: 352x512 1 ball, 1 person, 1 goal, 25.7ms\n",
      "image 171/173 C:\\Users\\user\\Desktop\\studia\\Widzenie Komputerowe Projekt\\Predykcja_Karnych\\dataset\\karne_przerobione\\k6\\frame_0170.jpg: 352x512 1 ball, 1 person, 1 goal, 27.1ms\n",
      "image 172/173 C:\\Users\\user\\Desktop\\studia\\Widzenie Komputerowe Projekt\\Predykcja_Karnych\\dataset\\karne_przerobione\\k6\\frame_0171.jpg: 352x512 1 ball, 1 person, 1 goal, 27.0ms\n",
      "image 173/173 C:\\Users\\user\\Desktop\\studia\\Widzenie Komputerowe Projekt\\Predykcja_Karnych\\dataset\\karne_przerobione\\k6\\frame_0172.jpg: 352x512 1 ball, 1 person, 1 goal, 27.2ms\n",
      "Speed: 1.4ms preprocess, 29.4ms inference, 0.6ms postprocess per image at shape (1, 3, 352, 512)\n",
      "Results saved to \u001B[1mC:\\Users\\user\\Desktop\\studia\\Widzenie Komputerowe Projekt\\Predykcja_Karnych\\runs\\detect\\predict_k6\\predict2\u001B[0m\n",
      "Przetwarzanie folderu: k7...\n",
      "\n",
      "image 1/173 C:\\Users\\user\\Desktop\\studia\\Widzenie Komputerowe Projekt\\Predykcja_Karnych\\dataset\\karne_przerobione\\k7\\frame_0000.jpg: 352x512 1 ball, 1 person, 1 goal, 27.7ms\n",
      "image 2/173 C:\\Users\\user\\Desktop\\studia\\Widzenie Komputerowe Projekt\\Predykcja_Karnych\\dataset\\karne_przerobione\\k7\\frame_0001.jpg: 352x512 1 ball, 1 person, 1 goal, 27.7ms\n",
      "image 3/173 C:\\Users\\user\\Desktop\\studia\\Widzenie Komputerowe Projekt\\Predykcja_Karnych\\dataset\\karne_przerobione\\k7\\frame_0002.jpg: 352x512 1 ball, 1 person, 1 goal, 27.2ms\n",
      "image 4/173 C:\\Users\\user\\Desktop\\studia\\Widzenie Komputerowe Projekt\\Predykcja_Karnych\\dataset\\karne_przerobione\\k7\\frame_0003.jpg: 352x512 1 ball, 1 person, 1 goal, 29.9ms\n",
      "image 5/173 C:\\Users\\user\\Desktop\\studia\\Widzenie Komputerowe Projekt\\Predykcja_Karnych\\dataset\\karne_przerobione\\k7\\frame_0004.jpg: 352x512 1 ball, 1 person, 1 goal, 27.1ms\n",
      "image 6/173 C:\\Users\\user\\Desktop\\studia\\Widzenie Komputerowe Projekt\\Predykcja_Karnych\\dataset\\karne_przerobione\\k7\\frame_0005.jpg: 352x512 1 ball, 1 person, 1 goal, 29.2ms\n",
      "image 7/173 C:\\Users\\user\\Desktop\\studia\\Widzenie Komputerowe Projekt\\Predykcja_Karnych\\dataset\\karne_przerobione\\k7\\frame_0006.jpg: 352x512 1 ball, 1 person, 1 goal, 26.5ms\n",
      "image 8/173 C:\\Users\\user\\Desktop\\studia\\Widzenie Komputerowe Projekt\\Predykcja_Karnych\\dataset\\karne_przerobione\\k7\\frame_0007.jpg: 352x512 1 ball, 1 person, 1 goal, 28.5ms\n",
      "image 9/173 C:\\Users\\user\\Desktop\\studia\\Widzenie Komputerowe Projekt\\Predykcja_Karnych\\dataset\\karne_przerobione\\k7\\frame_0008.jpg: 352x512 1 ball, 1 person, 1 goal, 27.4ms\n",
      "image 10/173 C:\\Users\\user\\Desktop\\studia\\Widzenie Komputerowe Projekt\\Predykcja_Karnych\\dataset\\karne_przerobione\\k7\\frame_0009.jpg: 352x512 1 ball, 1 person, 1 goal, 31.0ms\n",
      "image 11/173 C:\\Users\\user\\Desktop\\studia\\Widzenie Komputerowe Projekt\\Predykcja_Karnych\\dataset\\karne_przerobione\\k7\\frame_0010.jpg: 352x512 1 ball, 1 person, 1 goal, 28.5ms\n",
      "image 12/173 C:\\Users\\user\\Desktop\\studia\\Widzenie Komputerowe Projekt\\Predykcja_Karnych\\dataset\\karne_przerobione\\k7\\frame_0011.jpg: 352x512 1 ball, 1 person, 1 goal, 30.2ms\n",
      "image 13/173 C:\\Users\\user\\Desktop\\studia\\Widzenie Komputerowe Projekt\\Predykcja_Karnych\\dataset\\karne_przerobione\\k7\\frame_0012.jpg: 352x512 1 ball, 1 person, 1 goal, 30.6ms\n",
      "image 14/173 C:\\Users\\user\\Desktop\\studia\\Widzenie Komputerowe Projekt\\Predykcja_Karnych\\dataset\\karne_przerobione\\k7\\frame_0013.jpg: 352x512 1 ball, 1 person, 1 goal, 30.9ms\n",
      "image 15/173 C:\\Users\\user\\Desktop\\studia\\Widzenie Komputerowe Projekt\\Predykcja_Karnych\\dataset\\karne_przerobione\\k7\\frame_0014.jpg: 352x512 1 ball, 1 person, 1 goal, 28.9ms\n",
      "image 16/173 C:\\Users\\user\\Desktop\\studia\\Widzenie Komputerowe Projekt\\Predykcja_Karnych\\dataset\\karne_przerobione\\k7\\frame_0015.jpg: 352x512 1 ball, 1 person, 1 goal, 29.0ms\n",
      "image 17/173 C:\\Users\\user\\Desktop\\studia\\Widzenie Komputerowe Projekt\\Predykcja_Karnych\\dataset\\karne_przerobione\\k7\\frame_0016.jpg: 352x512 1 ball, 1 person, 1 goal, 27.2ms\n",
      "image 18/173 C:\\Users\\user\\Desktop\\studia\\Widzenie Komputerowe Projekt\\Predykcja_Karnych\\dataset\\karne_przerobione\\k7\\frame_0017.jpg: 352x512 1 ball, 1 person, 1 goal, 28.4ms\n",
      "image 19/173 C:\\Users\\user\\Desktop\\studia\\Widzenie Komputerowe Projekt\\Predykcja_Karnych\\dataset\\karne_przerobione\\k7\\frame_0018.jpg: 352x512 1 ball, 1 person, 1 goal, 29.0ms\n",
      "image 20/173 C:\\Users\\user\\Desktop\\studia\\Widzenie Komputerowe Projekt\\Predykcja_Karnych\\dataset\\karne_przerobione\\k7\\frame_0019.jpg: 352x512 1 ball, 1 person, 1 goal, 29.0ms\n",
      "image 21/173 C:\\Users\\user\\Desktop\\studia\\Widzenie Komputerowe Projekt\\Predykcja_Karnych\\dataset\\karne_przerobione\\k7\\frame_0020.jpg: 352x512 1 ball, 1 person, 1 goal, 28.7ms\n",
      "image 22/173 C:\\Users\\user\\Desktop\\studia\\Widzenie Komputerowe Projekt\\Predykcja_Karnych\\dataset\\karne_przerobione\\k7\\frame_0021.jpg: 352x512 1 ball, 1 person, 1 goal, 29.2ms\n",
      "image 23/173 C:\\Users\\user\\Desktop\\studia\\Widzenie Komputerowe Projekt\\Predykcja_Karnych\\dataset\\karne_przerobione\\k7\\frame_0022.jpg: 352x512 1 ball, 1 person, 1 goal, 26.6ms\n",
      "image 24/173 C:\\Users\\user\\Desktop\\studia\\Widzenie Komputerowe Projekt\\Predykcja_Karnych\\dataset\\karne_przerobione\\k7\\frame_0023.jpg: 352x512 1 ball, 1 person, 1 goal, 29.5ms\n",
      "image 25/173 C:\\Users\\user\\Desktop\\studia\\Widzenie Komputerowe Projekt\\Predykcja_Karnych\\dataset\\karne_przerobione\\k7\\frame_0024.jpg: 352x512 1 ball, 1 person, 1 goal, 28.7ms\n",
      "image 26/173 C:\\Users\\user\\Desktop\\studia\\Widzenie Komputerowe Projekt\\Predykcja_Karnych\\dataset\\karne_przerobione\\k7\\frame_0025.jpg: 352x512 1 ball, 1 person, 1 goal, 26.9ms\n",
      "image 27/173 C:\\Users\\user\\Desktop\\studia\\Widzenie Komputerowe Projekt\\Predykcja_Karnych\\dataset\\karne_przerobione\\k7\\frame_0026.jpg: 352x512 1 ball, 1 person, 1 goal, 27.9ms\n",
      "image 28/173 C:\\Users\\user\\Desktop\\studia\\Widzenie Komputerowe Projekt\\Predykcja_Karnych\\dataset\\karne_przerobione\\k7\\frame_0027.jpg: 352x512 1 ball, 1 person, 1 goal, 26.1ms\n",
      "image 29/173 C:\\Users\\user\\Desktop\\studia\\Widzenie Komputerowe Projekt\\Predykcja_Karnych\\dataset\\karne_przerobione\\k7\\frame_0028.jpg: 352x512 1 ball, 1 person, 1 goal, 27.8ms\n",
      "image 30/173 C:\\Users\\user\\Desktop\\studia\\Widzenie Komputerowe Projekt\\Predykcja_Karnych\\dataset\\karne_przerobione\\k7\\frame_0029.jpg: 352x512 1 ball, 1 person, 1 goal, 28.8ms\n",
      "image 31/173 C:\\Users\\user\\Desktop\\studia\\Widzenie Komputerowe Projekt\\Predykcja_Karnych\\dataset\\karne_przerobione\\k7\\frame_0030.jpg: 352x512 1 ball, 1 person, 1 goal, 28.5ms\n",
      "image 32/173 C:\\Users\\user\\Desktop\\studia\\Widzenie Komputerowe Projekt\\Predykcja_Karnych\\dataset\\karne_przerobione\\k7\\frame_0031.jpg: 352x512 1 ball, 1 person, 1 goal, 25.9ms\n",
      "image 33/173 C:\\Users\\user\\Desktop\\studia\\Widzenie Komputerowe Projekt\\Predykcja_Karnych\\dataset\\karne_przerobione\\k7\\frame_0032.jpg: 352x512 1 ball, 1 person, 1 goal, 28.7ms\n",
      "image 34/173 C:\\Users\\user\\Desktop\\studia\\Widzenie Komputerowe Projekt\\Predykcja_Karnych\\dataset\\karne_przerobione\\k7\\frame_0033.jpg: 352x512 1 ball, 1 person, 1 goal, 26.8ms\n",
      "image 35/173 C:\\Users\\user\\Desktop\\studia\\Widzenie Komputerowe Projekt\\Predykcja_Karnych\\dataset\\karne_przerobione\\k7\\frame_0034.jpg: 352x512 1 ball, 1 person, 1 goal, 27.8ms\n",
      "image 36/173 C:\\Users\\user\\Desktop\\studia\\Widzenie Komputerowe Projekt\\Predykcja_Karnych\\dataset\\karne_przerobione\\k7\\frame_0035.jpg: 352x512 1 ball, 1 person, 1 goal, 25.8ms\n",
      "image 37/173 C:\\Users\\user\\Desktop\\studia\\Widzenie Komputerowe Projekt\\Predykcja_Karnych\\dataset\\karne_przerobione\\k7\\frame_0036.jpg: 352x512 1 ball, 1 person, 1 goal, 25.7ms\n",
      "image 38/173 C:\\Users\\user\\Desktop\\studia\\Widzenie Komputerowe Projekt\\Predykcja_Karnych\\dataset\\karne_przerobione\\k7\\frame_0037.jpg: 352x512 1 ball, 1 person, 1 goal, 27.0ms\n",
      "image 39/173 C:\\Users\\user\\Desktop\\studia\\Widzenie Komputerowe Projekt\\Predykcja_Karnych\\dataset\\karne_przerobione\\k7\\frame_0038.jpg: 352x512 1 ball, 1 person, 1 goal, 25.4ms\n",
      "image 40/173 C:\\Users\\user\\Desktop\\studia\\Widzenie Komputerowe Projekt\\Predykcja_Karnych\\dataset\\karne_przerobione\\k7\\frame_0039.jpg: 352x512 1 ball, 1 person, 1 goal, 28.6ms\n",
      "image 41/173 C:\\Users\\user\\Desktop\\studia\\Widzenie Komputerowe Projekt\\Predykcja_Karnych\\dataset\\karne_przerobione\\k7\\frame_0040.jpg: 352x512 1 ball, 1 person, 1 goal, 27.1ms\n",
      "image 42/173 C:\\Users\\user\\Desktop\\studia\\Widzenie Komputerowe Projekt\\Predykcja_Karnych\\dataset\\karne_przerobione\\k7\\frame_0041.jpg: 352x512 1 ball, 1 person, 1 goal, 46.7ms\n",
      "image 43/173 C:\\Users\\user\\Desktop\\studia\\Widzenie Komputerowe Projekt\\Predykcja_Karnych\\dataset\\karne_przerobione\\k7\\frame_0042.jpg: 352x512 1 ball, 1 person, 1 goal, 27.1ms\n",
      "image 44/173 C:\\Users\\user\\Desktop\\studia\\Widzenie Komputerowe Projekt\\Predykcja_Karnych\\dataset\\karne_przerobione\\k7\\frame_0043.jpg: 352x512 1 ball, 1 person, 1 goal, 29.0ms\n",
      "image 45/173 C:\\Users\\user\\Desktop\\studia\\Widzenie Komputerowe Projekt\\Predykcja_Karnych\\dataset\\karne_przerobione\\k7\\frame_0044.jpg: 352x512 1 ball, 1 person, 1 goal, 28.2ms\n",
      "image 46/173 C:\\Users\\user\\Desktop\\studia\\Widzenie Komputerowe Projekt\\Predykcja_Karnych\\dataset\\karne_przerobione\\k7\\frame_0045.jpg: 352x512 1 ball, 1 person, 1 goal, 27.0ms\n",
      "image 47/173 C:\\Users\\user\\Desktop\\studia\\Widzenie Komputerowe Projekt\\Predykcja_Karnych\\dataset\\karne_przerobione\\k7\\frame_0046.jpg: 352x512 1 ball, 1 person, 1 goal, 36.3ms\n",
      "image 48/173 C:\\Users\\user\\Desktop\\studia\\Widzenie Komputerowe Projekt\\Predykcja_Karnych\\dataset\\karne_przerobione\\k7\\frame_0047.jpg: 352x512 1 ball, 1 person, 1 goal, 38.6ms\n",
      "image 49/173 C:\\Users\\user\\Desktop\\studia\\Widzenie Komputerowe Projekt\\Predykcja_Karnych\\dataset\\karne_przerobione\\k7\\frame_0048.jpg: 352x512 1 ball, 1 person, 1 goal, 33.6ms\n",
      "image 50/173 C:\\Users\\user\\Desktop\\studia\\Widzenie Komputerowe Projekt\\Predykcja_Karnych\\dataset\\karne_przerobione\\k7\\frame_0049.jpg: 352x512 1 ball, 1 person, 1 goal, 29.8ms\n",
      "image 51/173 C:\\Users\\user\\Desktop\\studia\\Widzenie Komputerowe Projekt\\Predykcja_Karnych\\dataset\\karne_przerobione\\k7\\frame_0050.jpg: 352x512 1 ball, 1 person, 1 goal, 30.7ms\n",
      "image 52/173 C:\\Users\\user\\Desktop\\studia\\Widzenie Komputerowe Projekt\\Predykcja_Karnych\\dataset\\karne_przerobione\\k7\\frame_0051.jpg: 352x512 1 ball, 1 person, 1 goal, 28.1ms\n",
      "image 53/173 C:\\Users\\user\\Desktop\\studia\\Widzenie Komputerowe Projekt\\Predykcja_Karnych\\dataset\\karne_przerobione\\k7\\frame_0052.jpg: 352x512 1 ball, 1 person, 1 goal, 28.0ms\n",
      "image 54/173 C:\\Users\\user\\Desktop\\studia\\Widzenie Komputerowe Projekt\\Predykcja_Karnych\\dataset\\karne_przerobione\\k7\\frame_0053.jpg: 352x512 1 ball, 1 person, 1 goal, 25.4ms\n",
      "image 55/173 C:\\Users\\user\\Desktop\\studia\\Widzenie Komputerowe Projekt\\Predykcja_Karnych\\dataset\\karne_przerobione\\k7\\frame_0054.jpg: 352x512 1 ball, 1 person, 1 goal, 27.3ms\n",
      "image 56/173 C:\\Users\\user\\Desktop\\studia\\Widzenie Komputerowe Projekt\\Predykcja_Karnych\\dataset\\karne_przerobione\\k7\\frame_0055.jpg: 352x512 1 ball, 1 person, 1 goal, 26.5ms\n",
      "image 57/173 C:\\Users\\user\\Desktop\\studia\\Widzenie Komputerowe Projekt\\Predykcja_Karnych\\dataset\\karne_przerobione\\k7\\frame_0056.jpg: 352x512 1 ball, 1 person, 1 goal, 27.4ms\n",
      "image 58/173 C:\\Users\\user\\Desktop\\studia\\Widzenie Komputerowe Projekt\\Predykcja_Karnych\\dataset\\karne_przerobione\\k7\\frame_0057.jpg: 352x512 1 ball, 1 person, 1 goal, 29.0ms\n",
      "image 59/173 C:\\Users\\user\\Desktop\\studia\\Widzenie Komputerowe Projekt\\Predykcja_Karnych\\dataset\\karne_przerobione\\k7\\frame_0058.jpg: 352x512 1 ball, 1 person, 1 goal, 27.3ms\n",
      "image 60/173 C:\\Users\\user\\Desktop\\studia\\Widzenie Komputerowe Projekt\\Predykcja_Karnych\\dataset\\karne_przerobione\\k7\\frame_0059.jpg: 352x512 1 ball, 1 person, 1 goal, 30.6ms\n",
      "image 61/173 C:\\Users\\user\\Desktop\\studia\\Widzenie Komputerowe Projekt\\Predykcja_Karnych\\dataset\\karne_przerobione\\k7\\frame_0060.jpg: 352x512 1 ball, 1 person, 1 goal, 29.1ms\n",
      "image 62/173 C:\\Users\\user\\Desktop\\studia\\Widzenie Komputerowe Projekt\\Predykcja_Karnych\\dataset\\karne_przerobione\\k7\\frame_0061.jpg: 352x512 1 ball, 1 person, 1 goal, 26.9ms\n",
      "image 63/173 C:\\Users\\user\\Desktop\\studia\\Widzenie Komputerowe Projekt\\Predykcja_Karnych\\dataset\\karne_przerobione\\k7\\frame_0062.jpg: 352x512 1 ball, 1 person, 1 goal, 29.0ms\n",
      "image 64/173 C:\\Users\\user\\Desktop\\studia\\Widzenie Komputerowe Projekt\\Predykcja_Karnych\\dataset\\karne_przerobione\\k7\\frame_0063.jpg: 352x512 1 ball, 1 person, 1 goal, 30.0ms\n",
      "image 65/173 C:\\Users\\user\\Desktop\\studia\\Widzenie Komputerowe Projekt\\Predykcja_Karnych\\dataset\\karne_przerobione\\k7\\frame_0064.jpg: 352x512 1 ball, 1 person, 1 goal, 27.6ms\n",
      "image 66/173 C:\\Users\\user\\Desktop\\studia\\Widzenie Komputerowe Projekt\\Predykcja_Karnych\\dataset\\karne_przerobione\\k7\\frame_0065.jpg: 352x512 1 ball, 1 person, 1 goal, 35.5ms\n",
      "image 67/173 C:\\Users\\user\\Desktop\\studia\\Widzenie Komputerowe Projekt\\Predykcja_Karnych\\dataset\\karne_przerobione\\k7\\frame_0066.jpg: 352x512 1 ball, 1 person, 1 goal, 34.7ms\n",
      "image 68/173 C:\\Users\\user\\Desktop\\studia\\Widzenie Komputerowe Projekt\\Predykcja_Karnych\\dataset\\karne_przerobione\\k7\\frame_0067.jpg: 352x512 1 ball, 1 person, 1 goal, 26.5ms\n",
      "image 69/173 C:\\Users\\user\\Desktop\\studia\\Widzenie Komputerowe Projekt\\Predykcja_Karnych\\dataset\\karne_przerobione\\k7\\frame_0068.jpg: 352x512 1 ball, 1 person, 1 goal, 27.8ms\n",
      "image 70/173 C:\\Users\\user\\Desktop\\studia\\Widzenie Komputerowe Projekt\\Predykcja_Karnych\\dataset\\karne_przerobione\\k7\\frame_0069.jpg: 352x512 1 ball, 1 person, 1 goal, 25.6ms\n",
      "image 71/173 C:\\Users\\user\\Desktop\\studia\\Widzenie Komputerowe Projekt\\Predykcja_Karnych\\dataset\\karne_przerobione\\k7\\frame_0070.jpg: 352x512 1 ball, 1 person, 1 goal, 27.4ms\n",
      "image 72/173 C:\\Users\\user\\Desktop\\studia\\Widzenie Komputerowe Projekt\\Predykcja_Karnych\\dataset\\karne_przerobione\\k7\\frame_0071.jpg: 352x512 1 ball, 1 person, 1 goal, 26.9ms\n",
      "image 73/173 C:\\Users\\user\\Desktop\\studia\\Widzenie Komputerowe Projekt\\Predykcja_Karnych\\dataset\\karne_przerobione\\k7\\frame_0072.jpg: 352x512 1 ball, 1 person, 1 goal, 27.8ms\n",
      "image 74/173 C:\\Users\\user\\Desktop\\studia\\Widzenie Komputerowe Projekt\\Predykcja_Karnych\\dataset\\karne_przerobione\\k7\\frame_0073.jpg: 352x512 1 ball, 1 person, 1 goal, 26.3ms\n",
      "image 75/173 C:\\Users\\user\\Desktop\\studia\\Widzenie Komputerowe Projekt\\Predykcja_Karnych\\dataset\\karne_przerobione\\k7\\frame_0074.jpg: 352x512 1 ball, 1 person, 1 goal, 28.6ms\n",
      "image 76/173 C:\\Users\\user\\Desktop\\studia\\Widzenie Komputerowe Projekt\\Predykcja_Karnych\\dataset\\karne_przerobione\\k7\\frame_0075.jpg: 352x512 1 ball, 1 person, 1 goal, 28.3ms\n",
      "image 77/173 C:\\Users\\user\\Desktop\\studia\\Widzenie Komputerowe Projekt\\Predykcja_Karnych\\dataset\\karne_przerobione\\k7\\frame_0076.jpg: 352x512 1 ball, 1 person, 1 goal, 26.8ms\n",
      "image 78/173 C:\\Users\\user\\Desktop\\studia\\Widzenie Komputerowe Projekt\\Predykcja_Karnych\\dataset\\karne_przerobione\\k7\\frame_0077.jpg: 352x512 1 ball, 1 person, 1 goal, 27.7ms\n",
      "image 79/173 C:\\Users\\user\\Desktop\\studia\\Widzenie Komputerowe Projekt\\Predykcja_Karnych\\dataset\\karne_przerobione\\k7\\frame_0078.jpg: 352x512 1 ball, 1 person, 1 goal, 25.1ms\n",
      "image 80/173 C:\\Users\\user\\Desktop\\studia\\Widzenie Komputerowe Projekt\\Predykcja_Karnych\\dataset\\karne_przerobione\\k7\\frame_0079.jpg: 352x512 1 ball, 1 person, 1 goal, 27.5ms\n",
      "image 81/173 C:\\Users\\user\\Desktop\\studia\\Widzenie Komputerowe Projekt\\Predykcja_Karnych\\dataset\\karne_przerobione\\k7\\frame_0080.jpg: 352x512 1 ball, 1 person, 1 goal, 26.1ms\n",
      "image 82/173 C:\\Users\\user\\Desktop\\studia\\Widzenie Komputerowe Projekt\\Predykcja_Karnych\\dataset\\karne_przerobione\\k7\\frame_0081.jpg: 352x512 1 ball, 1 person, 1 goal, 27.1ms\n",
      "image 83/173 C:\\Users\\user\\Desktop\\studia\\Widzenie Komputerowe Projekt\\Predykcja_Karnych\\dataset\\karne_przerobione\\k7\\frame_0082.jpg: 352x512 1 ball, 1 person, 1 goal, 31.0ms\n",
      "image 84/173 C:\\Users\\user\\Desktop\\studia\\Widzenie Komputerowe Projekt\\Predykcja_Karnych\\dataset\\karne_przerobione\\k7\\frame_0083.jpg: 352x512 1 ball, 1 person, 1 goal, 28.4ms\n",
      "image 85/173 C:\\Users\\user\\Desktop\\studia\\Widzenie Komputerowe Projekt\\Predykcja_Karnych\\dataset\\karne_przerobione\\k7\\frame_0084.jpg: 352x512 1 ball, 1 person, 1 goal, 28.6ms\n",
      "image 86/173 C:\\Users\\user\\Desktop\\studia\\Widzenie Komputerowe Projekt\\Predykcja_Karnych\\dataset\\karne_przerobione\\k7\\frame_0085.jpg: 352x512 1 ball, 1 person, 1 goal, 31.2ms\n",
      "image 87/173 C:\\Users\\user\\Desktop\\studia\\Widzenie Komputerowe Projekt\\Predykcja_Karnych\\dataset\\karne_przerobione\\k7\\frame_0086.jpg: 352x512 1 ball, 1 person, 1 goal, 26.6ms\n",
      "image 88/173 C:\\Users\\user\\Desktop\\studia\\Widzenie Komputerowe Projekt\\Predykcja_Karnych\\dataset\\karne_przerobione\\k7\\frame_0087.jpg: 352x512 1 ball, 1 person, 1 goal, 27.8ms\n",
      "image 89/173 C:\\Users\\user\\Desktop\\studia\\Widzenie Komputerowe Projekt\\Predykcja_Karnych\\dataset\\karne_przerobione\\k7\\frame_0088.jpg: 352x512 1 ball, 1 person, 1 goal, 27.8ms\n",
      "image 90/173 C:\\Users\\user\\Desktop\\studia\\Widzenie Komputerowe Projekt\\Predykcja_Karnych\\dataset\\karne_przerobione\\k7\\frame_0089.jpg: 352x512 1 ball, 1 person, 1 goal, 26.2ms\n",
      "image 91/173 C:\\Users\\user\\Desktop\\studia\\Widzenie Komputerowe Projekt\\Predykcja_Karnych\\dataset\\karne_przerobione\\k7\\frame_0090.jpg: 352x512 1 ball, 1 person, 1 goal, 27.3ms\n",
      "image 92/173 C:\\Users\\user\\Desktop\\studia\\Widzenie Komputerowe Projekt\\Predykcja_Karnych\\dataset\\karne_przerobione\\k7\\frame_0091.jpg: 352x512 1 ball, 1 person, 1 goal, 27.8ms\n",
      "image 93/173 C:\\Users\\user\\Desktop\\studia\\Widzenie Komputerowe Projekt\\Predykcja_Karnych\\dataset\\karne_przerobione\\k7\\frame_0092.jpg: 352x512 1 ball, 1 person, 1 goal, 26.2ms\n",
      "image 94/173 C:\\Users\\user\\Desktop\\studia\\Widzenie Komputerowe Projekt\\Predykcja_Karnych\\dataset\\karne_przerobione\\k7\\frame_0093.jpg: 352x512 1 ball, 1 person, 1 goal, 26.8ms\n",
      "image 95/173 C:\\Users\\user\\Desktop\\studia\\Widzenie Komputerowe Projekt\\Predykcja_Karnych\\dataset\\karne_przerobione\\k7\\frame_0094.jpg: 352x512 1 ball, 1 person, 1 goal, 29.6ms\n",
      "image 96/173 C:\\Users\\user\\Desktop\\studia\\Widzenie Komputerowe Projekt\\Predykcja_Karnych\\dataset\\karne_przerobione\\k7\\frame_0095.jpg: 352x512 1 ball, 1 person, 1 goal, 27.8ms\n",
      "image 97/173 C:\\Users\\user\\Desktop\\studia\\Widzenie Komputerowe Projekt\\Predykcja_Karnych\\dataset\\karne_przerobione\\k7\\frame_0096.jpg: 352x512 1 ball, 1 person, 1 goal, 27.9ms\n",
      "image 98/173 C:\\Users\\user\\Desktop\\studia\\Widzenie Komputerowe Projekt\\Predykcja_Karnych\\dataset\\karne_przerobione\\k7\\frame_0097.jpg: 352x512 1 ball, 1 person, 1 goal, 27.9ms\n",
      "image 99/173 C:\\Users\\user\\Desktop\\studia\\Widzenie Komputerowe Projekt\\Predykcja_Karnych\\dataset\\karne_przerobione\\k7\\frame_0098.jpg: 352x512 1 ball, 1 person, 1 goal, 26.0ms\n",
      "image 100/173 C:\\Users\\user\\Desktop\\studia\\Widzenie Komputerowe Projekt\\Predykcja_Karnych\\dataset\\karne_przerobione\\k7\\frame_0099.jpg: 352x512 1 ball, 1 person, 1 goal, 29.2ms\n",
      "image 101/173 C:\\Users\\user\\Desktop\\studia\\Widzenie Komputerowe Projekt\\Predykcja_Karnych\\dataset\\karne_przerobione\\k7\\frame_0100.jpg: 352x512 1 person, 1 goal, 37.9ms\n",
      "image 102/173 C:\\Users\\user\\Desktop\\studia\\Widzenie Komputerowe Projekt\\Predykcja_Karnych\\dataset\\karne_przerobione\\k7\\frame_0101.jpg: 352x512 1 person, 1 goal, 26.0ms\n",
      "image 103/173 C:\\Users\\user\\Desktop\\studia\\Widzenie Komputerowe Projekt\\Predykcja_Karnych\\dataset\\karne_przerobione\\k7\\frame_0102.jpg: 352x512 1 person, 1 goal, 27.7ms\n",
      "image 104/173 C:\\Users\\user\\Desktop\\studia\\Widzenie Komputerowe Projekt\\Predykcja_Karnych\\dataset\\karne_przerobione\\k7\\frame_0103.jpg: 352x512 1 person, 1 goal, 29.4ms\n",
      "image 105/173 C:\\Users\\user\\Desktop\\studia\\Widzenie Komputerowe Projekt\\Predykcja_Karnych\\dataset\\karne_przerobione\\k7\\frame_0104.jpg: 352x512 1 person, 1 goal, 29.0ms\n",
      "image 106/173 C:\\Users\\user\\Desktop\\studia\\Widzenie Komputerowe Projekt\\Predykcja_Karnych\\dataset\\karne_przerobione\\k7\\frame_0105.jpg: 352x512 1 person, 1 goal, 37.6ms\n",
      "image 107/173 C:\\Users\\user\\Desktop\\studia\\Widzenie Komputerowe Projekt\\Predykcja_Karnych\\dataset\\karne_przerobione\\k7\\frame_0106.jpg: 352x512 1 person, 1 goal, 33.4ms\n",
      "image 108/173 C:\\Users\\user\\Desktop\\studia\\Widzenie Komputerowe Projekt\\Predykcja_Karnych\\dataset\\karne_przerobione\\k7\\frame_0107.jpg: 352x512 1 person, 1 goal, 34.8ms\n",
      "image 109/173 C:\\Users\\user\\Desktop\\studia\\Widzenie Komputerowe Projekt\\Predykcja_Karnych\\dataset\\karne_przerobione\\k7\\frame_0108.jpg: 352x512 1 person, 1 goal, 29.8ms\n",
      "image 110/173 C:\\Users\\user\\Desktop\\studia\\Widzenie Komputerowe Projekt\\Predykcja_Karnych\\dataset\\karne_przerobione\\k7\\frame_0109.jpg: 352x512 1 person, 1 goal, 29.1ms\n",
      "image 111/173 C:\\Users\\user\\Desktop\\studia\\Widzenie Komputerowe Projekt\\Predykcja_Karnych\\dataset\\karne_przerobione\\k7\\frame_0110.jpg: 352x512 1 person, 1 goal, 27.4ms\n",
      "image 112/173 C:\\Users\\user\\Desktop\\studia\\Widzenie Komputerowe Projekt\\Predykcja_Karnych\\dataset\\karne_przerobione\\k7\\frame_0111.jpg: 352x512 1 ball, 1 person, 1 goal, 29.1ms\n",
      "image 113/173 C:\\Users\\user\\Desktop\\studia\\Widzenie Komputerowe Projekt\\Predykcja_Karnych\\dataset\\karne_przerobione\\k7\\frame_0112.jpg: 352x512 1 ball, 1 person, 1 goal, 26.9ms\n",
      "image 114/173 C:\\Users\\user\\Desktop\\studia\\Widzenie Komputerowe Projekt\\Predykcja_Karnych\\dataset\\karne_przerobione\\k7\\frame_0113.jpg: 352x512 1 ball, 1 person, 1 goal, 26.9ms\n",
      "image 115/173 C:\\Users\\user\\Desktop\\studia\\Widzenie Komputerowe Projekt\\Predykcja_Karnych\\dataset\\karne_przerobione\\k7\\frame_0114.jpg: 352x512 1 ball, 1 person, 1 goal, 26.4ms\n",
      "image 116/173 C:\\Users\\user\\Desktop\\studia\\Widzenie Komputerowe Projekt\\Predykcja_Karnych\\dataset\\karne_przerobione\\k7\\frame_0115.jpg: 352x512 1 person, 1 goal, 27.1ms\n",
      "image 117/173 C:\\Users\\user\\Desktop\\studia\\Widzenie Komputerowe Projekt\\Predykcja_Karnych\\dataset\\karne_przerobione\\k7\\frame_0116.jpg: 352x512 1 person, 1 goal, 27.0ms\n",
      "image 118/173 C:\\Users\\user\\Desktop\\studia\\Widzenie Komputerowe Projekt\\Predykcja_Karnych\\dataset\\karne_przerobione\\k7\\frame_0117.jpg: 352x512 1 person, 1 goal, 41.4ms\n",
      "image 119/173 C:\\Users\\user\\Desktop\\studia\\Widzenie Komputerowe Projekt\\Predykcja_Karnych\\dataset\\karne_przerobione\\k7\\frame_0118.jpg: 352x512 1 person, 1 goal, 26.5ms\n",
      "image 120/173 C:\\Users\\user\\Desktop\\studia\\Widzenie Komputerowe Projekt\\Predykcja_Karnych\\dataset\\karne_przerobione\\k7\\frame_0119.jpg: 352x512 1 person, 1 goal, 25.8ms\n",
      "image 121/173 C:\\Users\\user\\Desktop\\studia\\Widzenie Komputerowe Projekt\\Predykcja_Karnych\\dataset\\karne_przerobione\\k7\\frame_0120.jpg: 352x512 1 ball, 1 person, 1 goal, 29.2ms\n",
      "image 122/173 C:\\Users\\user\\Desktop\\studia\\Widzenie Komputerowe Projekt\\Predykcja_Karnych\\dataset\\karne_przerobione\\k7\\frame_0121.jpg: 352x512 1 ball, 1 person, 1 goal, 28.5ms\n",
      "image 123/173 C:\\Users\\user\\Desktop\\studia\\Widzenie Komputerowe Projekt\\Predykcja_Karnych\\dataset\\karne_przerobione\\k7\\frame_0122.jpg: 352x512 1 ball, 1 person, 1 goal, 26.7ms\n",
      "image 124/173 C:\\Users\\user\\Desktop\\studia\\Widzenie Komputerowe Projekt\\Predykcja_Karnych\\dataset\\karne_przerobione\\k7\\frame_0123.jpg: 352x512 1 ball, 1 person, 1 goal, 26.4ms\n",
      "image 125/173 C:\\Users\\user\\Desktop\\studia\\Widzenie Komputerowe Projekt\\Predykcja_Karnych\\dataset\\karne_przerobione\\k7\\frame_0124.jpg: 352x512 1 ball, 1 person, 1 goal, 28.3ms\n",
      "image 126/173 C:\\Users\\user\\Desktop\\studia\\Widzenie Komputerowe Projekt\\Predykcja_Karnych\\dataset\\karne_przerobione\\k7\\frame_0125.jpg: 352x512 1 person, 1 goal, 35.2ms\n",
      "image 127/173 C:\\Users\\user\\Desktop\\studia\\Widzenie Komputerowe Projekt\\Predykcja_Karnych\\dataset\\karne_przerobione\\k7\\frame_0126.jpg: 352x512 1 person, 1 goal, 32.6ms\n",
      "image 128/173 C:\\Users\\user\\Desktop\\studia\\Widzenie Komputerowe Projekt\\Predykcja_Karnych\\dataset\\karne_przerobione\\k7\\frame_0127.jpg: 352x512 1 person, 1 goal, 25.6ms\n",
      "image 129/173 C:\\Users\\user\\Desktop\\studia\\Widzenie Komputerowe Projekt\\Predykcja_Karnych\\dataset\\karne_przerobione\\k7\\frame_0128.jpg: 352x512 1 person, 1 goal, 26.5ms\n",
      "image 130/173 C:\\Users\\user\\Desktop\\studia\\Widzenie Komputerowe Projekt\\Predykcja_Karnych\\dataset\\karne_przerobione\\k7\\frame_0129.jpg: 352x512 1 person, 1 goal, 27.9ms\n",
      "image 131/173 C:\\Users\\user\\Desktop\\studia\\Widzenie Komputerowe Projekt\\Predykcja_Karnych\\dataset\\karne_przerobione\\k7\\frame_0130.jpg: 352x512 1 person, 1 goal, 26.0ms\n",
      "image 132/173 C:\\Users\\user\\Desktop\\studia\\Widzenie Komputerowe Projekt\\Predykcja_Karnych\\dataset\\karne_przerobione\\k7\\frame_0131.jpg: 352x512 1 person, 1 goal, 26.9ms\n",
      "image 133/173 C:\\Users\\user\\Desktop\\studia\\Widzenie Komputerowe Projekt\\Predykcja_Karnych\\dataset\\karne_przerobione\\k7\\frame_0132.jpg: 352x512 1 person, 1 goal, 27.8ms\n",
      "image 134/173 C:\\Users\\user\\Desktop\\studia\\Widzenie Komputerowe Projekt\\Predykcja_Karnych\\dataset\\karne_przerobione\\k7\\frame_0133.jpg: 352x512 1 person, 1 goal, 28.3ms\n",
      "image 135/173 C:\\Users\\user\\Desktop\\studia\\Widzenie Komputerowe Projekt\\Predykcja_Karnych\\dataset\\karne_przerobione\\k7\\frame_0134.jpg: 352x512 1 person, 1 goal, 28.8ms\n",
      "image 136/173 C:\\Users\\user\\Desktop\\studia\\Widzenie Komputerowe Projekt\\Predykcja_Karnych\\dataset\\karne_przerobione\\k7\\frame_0135.jpg: 352x512 1 person, 1 goal, 28.0ms\n",
      "image 137/173 C:\\Users\\user\\Desktop\\studia\\Widzenie Komputerowe Projekt\\Predykcja_Karnych\\dataset\\karne_przerobione\\k7\\frame_0136.jpg: 352x512 1 person, 1 goal, 27.7ms\n",
      "image 138/173 C:\\Users\\user\\Desktop\\studia\\Widzenie Komputerowe Projekt\\Predykcja_Karnych\\dataset\\karne_przerobione\\k7\\frame_0137.jpg: 352x512 1 person, 1 goal, 28.9ms\n",
      "image 139/173 C:\\Users\\user\\Desktop\\studia\\Widzenie Komputerowe Projekt\\Predykcja_Karnych\\dataset\\karne_przerobione\\k7\\frame_0138.jpg: 352x512 1 person, 1 goal, 25.7ms\n",
      "image 140/173 C:\\Users\\user\\Desktop\\studia\\Widzenie Komputerowe Projekt\\Predykcja_Karnych\\dataset\\karne_przerobione\\k7\\frame_0139.jpg: 352x512 1 person, 1 goal, 26.8ms\n",
      "image 141/173 C:\\Users\\user\\Desktop\\studia\\Widzenie Komputerowe Projekt\\Predykcja_Karnych\\dataset\\karne_przerobione\\k7\\frame_0140.jpg: 352x512 1 person, 1 goal, 25.6ms\n",
      "image 142/173 C:\\Users\\user\\Desktop\\studia\\Widzenie Komputerowe Projekt\\Predykcja_Karnych\\dataset\\karne_przerobione\\k7\\frame_0141.jpg: 352x512 1 person, 1 goal, 29.0ms\n",
      "image 143/173 C:\\Users\\user\\Desktop\\studia\\Widzenie Komputerowe Projekt\\Predykcja_Karnych\\dataset\\karne_przerobione\\k7\\frame_0142.jpg: 352x512 1 person, 1 goal, 27.4ms\n",
      "image 144/173 C:\\Users\\user\\Desktop\\studia\\Widzenie Komputerowe Projekt\\Predykcja_Karnych\\dataset\\karne_przerobione\\k7\\frame_0143.jpg: 352x512 1 person, 1 goal, 25.6ms\n",
      "image 145/173 C:\\Users\\user\\Desktop\\studia\\Widzenie Komputerowe Projekt\\Predykcja_Karnych\\dataset\\karne_przerobione\\k7\\frame_0144.jpg: 352x512 1 person, 1 goal, 27.4ms\n",
      "image 146/173 C:\\Users\\user\\Desktop\\studia\\Widzenie Komputerowe Projekt\\Predykcja_Karnych\\dataset\\karne_przerobione\\k7\\frame_0145.jpg: 352x512 1 person, 1 goal, 25.5ms\n",
      "image 147/173 C:\\Users\\user\\Desktop\\studia\\Widzenie Komputerowe Projekt\\Predykcja_Karnych\\dataset\\karne_przerobione\\k7\\frame_0146.jpg: 352x512 1 person, 1 goal, 26.9ms\n",
      "image 148/173 C:\\Users\\user\\Desktop\\studia\\Widzenie Komputerowe Projekt\\Predykcja_Karnych\\dataset\\karne_przerobione\\k7\\frame_0147.jpg: 352x512 1 person, 1 goal, 28.7ms\n",
      "image 149/173 C:\\Users\\user\\Desktop\\studia\\Widzenie Komputerowe Projekt\\Predykcja_Karnych\\dataset\\karne_przerobione\\k7\\frame_0148.jpg: 352x512 1 person, 1 goal, 30.8ms\n",
      "image 150/173 C:\\Users\\user\\Desktop\\studia\\Widzenie Komputerowe Projekt\\Predykcja_Karnych\\dataset\\karne_przerobione\\k7\\frame_0149.jpg: 352x512 1 person, 1 goal, 33.8ms\n",
      "image 151/173 C:\\Users\\user\\Desktop\\studia\\Widzenie Komputerowe Projekt\\Predykcja_Karnych\\dataset\\karne_przerobione\\k7\\frame_0150.jpg: 352x512 1 person, 1 goal, 37.8ms\n",
      "image 152/173 C:\\Users\\user\\Desktop\\studia\\Widzenie Komputerowe Projekt\\Predykcja_Karnych\\dataset\\karne_przerobione\\k7\\frame_0151.jpg: 352x512 1 person, 1 goal, 38.9ms\n",
      "image 153/173 C:\\Users\\user\\Desktop\\studia\\Widzenie Komputerowe Projekt\\Predykcja_Karnych\\dataset\\karne_przerobione\\k7\\frame_0152.jpg: 352x512 1 person, 1 goal, 27.7ms\n",
      "image 154/173 C:\\Users\\user\\Desktop\\studia\\Widzenie Komputerowe Projekt\\Predykcja_Karnych\\dataset\\karne_przerobione\\k7\\frame_0153.jpg: 352x512 1 person, 1 goal, 27.1ms\n",
      "image 155/173 C:\\Users\\user\\Desktop\\studia\\Widzenie Komputerowe Projekt\\Predykcja_Karnych\\dataset\\karne_przerobione\\k7\\frame_0154.jpg: 352x512 1 person, 1 goal, 26.1ms\n",
      "image 156/173 C:\\Users\\user\\Desktop\\studia\\Widzenie Komputerowe Projekt\\Predykcja_Karnych\\dataset\\karne_przerobione\\k7\\frame_0155.jpg: 352x512 1 person, 1 goal, 27.5ms\n",
      "image 157/173 C:\\Users\\user\\Desktop\\studia\\Widzenie Komputerowe Projekt\\Predykcja_Karnych\\dataset\\karne_przerobione\\k7\\frame_0156.jpg: 352x512 1 person, 1 goal, 28.2ms\n",
      "image 158/173 C:\\Users\\user\\Desktop\\studia\\Widzenie Komputerowe Projekt\\Predykcja_Karnych\\dataset\\karne_przerobione\\k7\\frame_0157.jpg: 352x512 1 person, 1 goal, 27.6ms\n",
      "image 159/173 C:\\Users\\user\\Desktop\\studia\\Widzenie Komputerowe Projekt\\Predykcja_Karnych\\dataset\\karne_przerobione\\k7\\frame_0158.jpg: 352x512 1 person, 1 goal, 42.2ms\n",
      "image 160/173 C:\\Users\\user\\Desktop\\studia\\Widzenie Komputerowe Projekt\\Predykcja_Karnych\\dataset\\karne_przerobione\\k7\\frame_0159.jpg: 352x512 1 person, 1 goal, 28.3ms\n",
      "image 161/173 C:\\Users\\user\\Desktop\\studia\\Widzenie Komputerowe Projekt\\Predykcja_Karnych\\dataset\\karne_przerobione\\k7\\frame_0160.jpg: 352x512 1 person, 1 goal, 26.2ms\n",
      "image 162/173 C:\\Users\\user\\Desktop\\studia\\Widzenie Komputerowe Projekt\\Predykcja_Karnych\\dataset\\karne_przerobione\\k7\\frame_0161.jpg: 352x512 1 person, 1 goal, 31.0ms\n",
      "image 163/173 C:\\Users\\user\\Desktop\\studia\\Widzenie Komputerowe Projekt\\Predykcja_Karnych\\dataset\\karne_przerobione\\k7\\frame_0162.jpg: 352x512 1 person, 1 goal, 41.1ms\n",
      "image 164/173 C:\\Users\\user\\Desktop\\studia\\Widzenie Komputerowe Projekt\\Predykcja_Karnych\\dataset\\karne_przerobione\\k7\\frame_0163.jpg: 352x512 1 person, 1 goal, 42.6ms\n",
      "image 165/173 C:\\Users\\user\\Desktop\\studia\\Widzenie Komputerowe Projekt\\Predykcja_Karnych\\dataset\\karne_przerobione\\k7\\frame_0164.jpg: 352x512 1 person, 1 goal, 36.2ms\n",
      "image 166/173 C:\\Users\\user\\Desktop\\studia\\Widzenie Komputerowe Projekt\\Predykcja_Karnych\\dataset\\karne_przerobione\\k7\\frame_0165.jpg: 352x512 1 person, 1 goal, 31.6ms\n",
      "image 167/173 C:\\Users\\user\\Desktop\\studia\\Widzenie Komputerowe Projekt\\Predykcja_Karnych\\dataset\\karne_przerobione\\k7\\frame_0166.jpg: 352x512 1 person, 1 goal, 29.7ms\n",
      "image 168/173 C:\\Users\\user\\Desktop\\studia\\Widzenie Komputerowe Projekt\\Predykcja_Karnych\\dataset\\karne_przerobione\\k7\\frame_0167.jpg: 352x512 1 person, 1 goal, 29.4ms\n",
      "image 169/173 C:\\Users\\user\\Desktop\\studia\\Widzenie Komputerowe Projekt\\Predykcja_Karnych\\dataset\\karne_przerobione\\k7\\frame_0168.jpg: 352x512 1 person, 1 goal, 27.9ms\n",
      "image 170/173 C:\\Users\\user\\Desktop\\studia\\Widzenie Komputerowe Projekt\\Predykcja_Karnych\\dataset\\karne_przerobione\\k7\\frame_0169.jpg: 352x512 1 person, 1 goal, 27.5ms\n",
      "image 171/173 C:\\Users\\user\\Desktop\\studia\\Widzenie Komputerowe Projekt\\Predykcja_Karnych\\dataset\\karne_przerobione\\k7\\frame_0170.jpg: 352x512 1 person, 1 goal, 28.1ms\n",
      "image 172/173 C:\\Users\\user\\Desktop\\studia\\Widzenie Komputerowe Projekt\\Predykcja_Karnych\\dataset\\karne_przerobione\\k7\\frame_0171.jpg: 352x512 1 person, 1 goal, 29.3ms\n",
      "image 173/173 C:\\Users\\user\\Desktop\\studia\\Widzenie Komputerowe Projekt\\Predykcja_Karnych\\dataset\\karne_przerobione\\k7\\frame_0172.jpg: 352x512 1 person, 1 goal, 29.4ms\n",
      "Speed: 1.4ms preprocess, 29.0ms inference, 0.6ms postprocess per image at shape (1, 3, 352, 512)\n",
      "Results saved to \u001B[1mC:\\Users\\user\\Desktop\\studia\\Widzenie Komputerowe Projekt\\Predykcja_Karnych\\runs\\detect\\predict_k7\\predict2\u001B[0m\n",
      "Przetwarzanie folderu: k8...\n",
      "\n",
      "image 1/173 C:\\Users\\user\\Desktop\\studia\\Widzenie Komputerowe Projekt\\Predykcja_Karnych\\dataset\\karne_przerobione\\k8\\frame_0000.jpg: 352x512 1 ball, 1 person, 1 goal, 30.0ms\n",
      "image 2/173 C:\\Users\\user\\Desktop\\studia\\Widzenie Komputerowe Projekt\\Predykcja_Karnych\\dataset\\karne_przerobione\\k8\\frame_0001.jpg: 352x512 1 ball, 1 person, 1 goal, 28.6ms\n",
      "image 3/173 C:\\Users\\user\\Desktop\\studia\\Widzenie Komputerowe Projekt\\Predykcja_Karnych\\dataset\\karne_przerobione\\k8\\frame_0002.jpg: 352x512 1 ball, 1 person, 1 goal, 31.0ms\n",
      "image 4/173 C:\\Users\\user\\Desktop\\studia\\Widzenie Komputerowe Projekt\\Predykcja_Karnych\\dataset\\karne_przerobione\\k8\\frame_0003.jpg: 352x512 1 ball, 1 person, 1 goal, 26.1ms\n",
      "image 5/173 C:\\Users\\user\\Desktop\\studia\\Widzenie Komputerowe Projekt\\Predykcja_Karnych\\dataset\\karne_przerobione\\k8\\frame_0004.jpg: 352x512 1 ball, 1 person, 1 goal, 27.8ms\n",
      "image 6/173 C:\\Users\\user\\Desktop\\studia\\Widzenie Komputerowe Projekt\\Predykcja_Karnych\\dataset\\karne_przerobione\\k8\\frame_0005.jpg: 352x512 1 ball, 1 person, 1 goal, 25.9ms\n",
      "image 7/173 C:\\Users\\user\\Desktop\\studia\\Widzenie Komputerowe Projekt\\Predykcja_Karnych\\dataset\\karne_przerobione\\k8\\frame_0006.jpg: 352x512 1 ball, 1 person, 1 goal, 26.6ms\n",
      "image 8/173 C:\\Users\\user\\Desktop\\studia\\Widzenie Komputerowe Projekt\\Predykcja_Karnych\\dataset\\karne_przerobione\\k8\\frame_0007.jpg: 352x512 1 ball, 1 person, 1 goal, 27.5ms\n",
      "image 9/173 C:\\Users\\user\\Desktop\\studia\\Widzenie Komputerowe Projekt\\Predykcja_Karnych\\dataset\\karne_przerobione\\k8\\frame_0008.jpg: 352x512 1 ball, 1 person, 1 goal, 27.4ms\n",
      "image 10/173 C:\\Users\\user\\Desktop\\studia\\Widzenie Komputerowe Projekt\\Predykcja_Karnych\\dataset\\karne_przerobione\\k8\\frame_0009.jpg: 352x512 1 ball, 1 person, 1 goal, 28.5ms\n",
      "image 11/173 C:\\Users\\user\\Desktop\\studia\\Widzenie Komputerowe Projekt\\Predykcja_Karnych\\dataset\\karne_przerobione\\k8\\frame_0010.jpg: 352x512 1 ball, 1 person, 1 goal, 27.4ms\n",
      "image 12/173 C:\\Users\\user\\Desktop\\studia\\Widzenie Komputerowe Projekt\\Predykcja_Karnych\\dataset\\karne_przerobione\\k8\\frame_0011.jpg: 352x512 1 ball, 1 person, 1 goal, 28.7ms\n",
      "image 13/173 C:\\Users\\user\\Desktop\\studia\\Widzenie Komputerowe Projekt\\Predykcja_Karnych\\dataset\\karne_przerobione\\k8\\frame_0012.jpg: 352x512 1 ball, 1 person, 1 goal, 26.1ms\n",
      "image 14/173 C:\\Users\\user\\Desktop\\studia\\Widzenie Komputerowe Projekt\\Predykcja_Karnych\\dataset\\karne_przerobione\\k8\\frame_0013.jpg: 352x512 1 ball, 1 person, 1 goal, 27.4ms\n",
      "image 15/173 C:\\Users\\user\\Desktop\\studia\\Widzenie Komputerowe Projekt\\Predykcja_Karnych\\dataset\\karne_przerobione\\k8\\frame_0014.jpg: 352x512 1 ball, 1 person, 1 goal, 26.0ms\n",
      "image 16/173 C:\\Users\\user\\Desktop\\studia\\Widzenie Komputerowe Projekt\\Predykcja_Karnych\\dataset\\karne_przerobione\\k8\\frame_0015.jpg: 352x512 1 ball, 1 person, 1 goal, 27.3ms\n",
      "image 17/173 C:\\Users\\user\\Desktop\\studia\\Widzenie Komputerowe Projekt\\Predykcja_Karnych\\dataset\\karne_przerobione\\k8\\frame_0016.jpg: 352x512 1 ball, 1 person, 1 goal, 26.8ms\n",
      "image 18/173 C:\\Users\\user\\Desktop\\studia\\Widzenie Komputerowe Projekt\\Predykcja_Karnych\\dataset\\karne_przerobione\\k8\\frame_0017.jpg: 352x512 1 ball, 1 person, 1 goal, 28.2ms\n",
      "image 19/173 C:\\Users\\user\\Desktop\\studia\\Widzenie Komputerowe Projekt\\Predykcja_Karnych\\dataset\\karne_przerobione\\k8\\frame_0018.jpg: 352x512 1 ball, 1 person, 1 goal, 27.7ms\n",
      "image 20/173 C:\\Users\\user\\Desktop\\studia\\Widzenie Komputerowe Projekt\\Predykcja_Karnych\\dataset\\karne_przerobione\\k8\\frame_0019.jpg: 352x512 1 ball, 1 person, 1 goal, 27.0ms\n",
      "image 21/173 C:\\Users\\user\\Desktop\\studia\\Widzenie Komputerowe Projekt\\Predykcja_Karnych\\dataset\\karne_przerobione\\k8\\frame_0020.jpg: 352x512 1 ball, 1 person, 1 goal, 28.3ms\n",
      "image 22/173 C:\\Users\\user\\Desktop\\studia\\Widzenie Komputerowe Projekt\\Predykcja_Karnych\\dataset\\karne_przerobione\\k8\\frame_0021.jpg: 352x512 1 ball, 1 person, 1 goal, 26.7ms\n",
      "image 23/173 C:\\Users\\user\\Desktop\\studia\\Widzenie Komputerowe Projekt\\Predykcja_Karnych\\dataset\\karne_przerobione\\k8\\frame_0022.jpg: 352x512 1 ball, 1 person, 1 goal, 27.8ms\n",
      "image 24/173 C:\\Users\\user\\Desktop\\studia\\Widzenie Komputerowe Projekt\\Predykcja_Karnych\\dataset\\karne_przerobione\\k8\\frame_0023.jpg: 352x512 1 ball, 1 person, 1 goal, 27.3ms\n",
      "image 25/173 C:\\Users\\user\\Desktop\\studia\\Widzenie Komputerowe Projekt\\Predykcja_Karnych\\dataset\\karne_przerobione\\k8\\frame_0024.jpg: 352x512 1 ball, 1 person, 1 goal, 25.9ms\n",
      "image 26/173 C:\\Users\\user\\Desktop\\studia\\Widzenie Komputerowe Projekt\\Predykcja_Karnych\\dataset\\karne_przerobione\\k8\\frame_0025.jpg: 352x512 1 ball, 1 person, 1 goal, 25.8ms\n",
      "image 27/173 C:\\Users\\user\\Desktop\\studia\\Widzenie Komputerowe Projekt\\Predykcja_Karnych\\dataset\\karne_przerobione\\k8\\frame_0026.jpg: 352x512 1 ball, 1 person, 1 goal, 27.3ms\n",
      "image 28/173 C:\\Users\\user\\Desktop\\studia\\Widzenie Komputerowe Projekt\\Predykcja_Karnych\\dataset\\karne_przerobione\\k8\\frame_0027.jpg: 352x512 1 ball, 1 person, 1 goal, 26.8ms\n",
      "image 29/173 C:\\Users\\user\\Desktop\\studia\\Widzenie Komputerowe Projekt\\Predykcja_Karnych\\dataset\\karne_przerobione\\k8\\frame_0028.jpg: 352x512 1 ball, 1 person, 1 goal, 26.8ms\n",
      "image 30/173 C:\\Users\\user\\Desktop\\studia\\Widzenie Komputerowe Projekt\\Predykcja_Karnych\\dataset\\karne_przerobione\\k8\\frame_0029.jpg: 352x512 1 ball, 1 person, 1 goal, 27.3ms\n",
      "image 31/173 C:\\Users\\user\\Desktop\\studia\\Widzenie Komputerowe Projekt\\Predykcja_Karnych\\dataset\\karne_przerobione\\k8\\frame_0030.jpg: 352x512 1 ball, 1 person, 1 goal, 26.6ms\n",
      "image 32/173 C:\\Users\\user\\Desktop\\studia\\Widzenie Komputerowe Projekt\\Predykcja_Karnych\\dataset\\karne_przerobione\\k8\\frame_0031.jpg: 352x512 1 ball, 1 person, 1 goal, 27.9ms\n",
      "image 33/173 C:\\Users\\user\\Desktop\\studia\\Widzenie Komputerowe Projekt\\Predykcja_Karnych\\dataset\\karne_przerobione\\k8\\frame_0032.jpg: 352x512 1 ball, 1 person, 1 goal, 26.8ms\n",
      "image 34/173 C:\\Users\\user\\Desktop\\studia\\Widzenie Komputerowe Projekt\\Predykcja_Karnych\\dataset\\karne_przerobione\\k8\\frame_0033.jpg: 352x512 1 ball, 1 person, 1 goal, 25.6ms\n",
      "image 35/173 C:\\Users\\user\\Desktop\\studia\\Widzenie Komputerowe Projekt\\Predykcja_Karnych\\dataset\\karne_przerobione\\k8\\frame_0034.jpg: 352x512 1 ball, 1 person, 1 goal, 27.9ms\n",
      "image 36/173 C:\\Users\\user\\Desktop\\studia\\Widzenie Komputerowe Projekt\\Predykcja_Karnych\\dataset\\karne_przerobione\\k8\\frame_0035.jpg: 352x512 1 ball, 1 person, 1 goal, 29.8ms\n",
      "image 37/173 C:\\Users\\user\\Desktop\\studia\\Widzenie Komputerowe Projekt\\Predykcja_Karnych\\dataset\\karne_przerobione\\k8\\frame_0036.jpg: 352x512 1 ball, 1 person, 1 goal, 28.5ms\n",
      "image 38/173 C:\\Users\\user\\Desktop\\studia\\Widzenie Komputerowe Projekt\\Predykcja_Karnych\\dataset\\karne_przerobione\\k8\\frame_0037.jpg: 352x512 1 ball, 1 person, 1 goal, 25.7ms\n",
      "image 39/173 C:\\Users\\user\\Desktop\\studia\\Widzenie Komputerowe Projekt\\Predykcja_Karnych\\dataset\\karne_przerobione\\k8\\frame_0038.jpg: 352x512 1 ball, 1 person, 1 goal, 28.2ms\n",
      "image 40/173 C:\\Users\\user\\Desktop\\studia\\Widzenie Komputerowe Projekt\\Predykcja_Karnych\\dataset\\karne_przerobione\\k8\\frame_0039.jpg: 352x512 1 ball, 1 person, 1 goal, 32.9ms\n",
      "image 41/173 C:\\Users\\user\\Desktop\\studia\\Widzenie Komputerowe Projekt\\Predykcja_Karnych\\dataset\\karne_przerobione\\k8\\frame_0040.jpg: 352x512 1 ball, 1 person, 1 goal, 103.3ms\n",
      "image 42/173 C:\\Users\\user\\Desktop\\studia\\Widzenie Komputerowe Projekt\\Predykcja_Karnych\\dataset\\karne_przerobione\\k8\\frame_0041.jpg: 352x512 1 ball, 1 person, 1 goal, 45.6ms\n",
      "image 43/173 C:\\Users\\user\\Desktop\\studia\\Widzenie Komputerowe Projekt\\Predykcja_Karnych\\dataset\\karne_przerobione\\k8\\frame_0042.jpg: 352x512 1 ball, 1 person, 1 goal, 148.1ms\n",
      "image 44/173 C:\\Users\\user\\Desktop\\studia\\Widzenie Komputerowe Projekt\\Predykcja_Karnych\\dataset\\karne_przerobione\\k8\\frame_0043.jpg: 352x512 1 ball, 1 person, 1 goal, 33.8ms\n",
      "image 45/173 C:\\Users\\user\\Desktop\\studia\\Widzenie Komputerowe Projekt\\Predykcja_Karnych\\dataset\\karne_przerobione\\k8\\frame_0044.jpg: 352x512 1 ball, 1 person, 1 goal, 72.1ms\n",
      "image 46/173 C:\\Users\\user\\Desktop\\studia\\Widzenie Komputerowe Projekt\\Predykcja_Karnych\\dataset\\karne_przerobione\\k8\\frame_0045.jpg: 352x512 1 ball, 1 person, 1 goal, 37.5ms\n",
      "image 47/173 C:\\Users\\user\\Desktop\\studia\\Widzenie Komputerowe Projekt\\Predykcja_Karnych\\dataset\\karne_przerobione\\k8\\frame_0046.jpg: 352x512 1 ball, 1 person, 1 goal, 36.2ms\n",
      "image 48/173 C:\\Users\\user\\Desktop\\studia\\Widzenie Komputerowe Projekt\\Predykcja_Karnych\\dataset\\karne_przerobione\\k8\\frame_0047.jpg: 352x512 1 ball, 1 person, 1 goal, 29.0ms\n",
      "image 49/173 C:\\Users\\user\\Desktop\\studia\\Widzenie Komputerowe Projekt\\Predykcja_Karnych\\dataset\\karne_przerobione\\k8\\frame_0048.jpg: 352x512 1 ball, 1 person, 1 goal, 26.2ms\n",
      "image 50/173 C:\\Users\\user\\Desktop\\studia\\Widzenie Komputerowe Projekt\\Predykcja_Karnych\\dataset\\karne_przerobione\\k8\\frame_0049.jpg: 352x512 1 ball, 1 person, 1 goal, 28.3ms\n",
      "image 51/173 C:\\Users\\user\\Desktop\\studia\\Widzenie Komputerowe Projekt\\Predykcja_Karnych\\dataset\\karne_przerobione\\k8\\frame_0050.jpg: 352x512 1 ball, 1 person, 1 goal, 24.2ms\n",
      "image 52/173 C:\\Users\\user\\Desktop\\studia\\Widzenie Komputerowe Projekt\\Predykcja_Karnych\\dataset\\karne_przerobione\\k8\\frame_0051.jpg: 352x512 1 ball, 1 person, 1 goal, 26.9ms\n",
      "image 53/173 C:\\Users\\user\\Desktop\\studia\\Widzenie Komputerowe Projekt\\Predykcja_Karnych\\dataset\\karne_przerobione\\k8\\frame_0052.jpg: 352x512 1 ball, 1 person, 1 goal, 28.2ms\n",
      "image 54/173 C:\\Users\\user\\Desktop\\studia\\Widzenie Komputerowe Projekt\\Predykcja_Karnych\\dataset\\karne_przerobione\\k8\\frame_0053.jpg: 352x512 1 ball, 1 person, 1 goal, 30.1ms\n",
      "image 55/173 C:\\Users\\user\\Desktop\\studia\\Widzenie Komputerowe Projekt\\Predykcja_Karnych\\dataset\\karne_przerobione\\k8\\frame_0054.jpg: 352x512 1 ball, 1 person, 1 goal, 27.4ms\n",
      "image 56/173 C:\\Users\\user\\Desktop\\studia\\Widzenie Komputerowe Projekt\\Predykcja_Karnych\\dataset\\karne_przerobione\\k8\\frame_0055.jpg: 352x512 1 ball, 1 person, 1 goal, 30.4ms\n",
      "image 57/173 C:\\Users\\user\\Desktop\\studia\\Widzenie Komputerowe Projekt\\Predykcja_Karnych\\dataset\\karne_przerobione\\k8\\frame_0056.jpg: 352x512 1 ball, 1 person, 1 goal, 27.6ms\n",
      "image 58/173 C:\\Users\\user\\Desktop\\studia\\Widzenie Komputerowe Projekt\\Predykcja_Karnych\\dataset\\karne_przerobione\\k8\\frame_0057.jpg: 352x512 1 ball, 1 person, 1 goal, 38.6ms\n",
      "image 59/173 C:\\Users\\user\\Desktop\\studia\\Widzenie Komputerowe Projekt\\Predykcja_Karnych\\dataset\\karne_przerobione\\k8\\frame_0058.jpg: 352x512 1 ball, 1 person, 1 goal, 30.6ms\n",
      "image 60/173 C:\\Users\\user\\Desktop\\studia\\Widzenie Komputerowe Projekt\\Predykcja_Karnych\\dataset\\karne_przerobione\\k8\\frame_0059.jpg: 352x512 1 ball, 1 person, 1 goal, 31.8ms\n",
      "image 61/173 C:\\Users\\user\\Desktop\\studia\\Widzenie Komputerowe Projekt\\Predykcja_Karnych\\dataset\\karne_przerobione\\k8\\frame_0060.jpg: 352x512 1 ball, 1 person, 1 goal, 30.1ms\n",
      "image 62/173 C:\\Users\\user\\Desktop\\studia\\Widzenie Komputerowe Projekt\\Predykcja_Karnych\\dataset\\karne_przerobione\\k8\\frame_0061.jpg: 352x512 1 ball, 1 person, 1 goal, 29.8ms\n",
      "image 63/173 C:\\Users\\user\\Desktop\\studia\\Widzenie Komputerowe Projekt\\Predykcja_Karnych\\dataset\\karne_przerobione\\k8\\frame_0062.jpg: 352x512 1 ball, 1 person, 1 goal, 29.5ms\n",
      "image 64/173 C:\\Users\\user\\Desktop\\studia\\Widzenie Komputerowe Projekt\\Predykcja_Karnych\\dataset\\karne_przerobione\\k8\\frame_0063.jpg: 352x512 1 ball, 1 person, 1 goal, 26.8ms\n",
      "image 65/173 C:\\Users\\user\\Desktop\\studia\\Widzenie Komputerowe Projekt\\Predykcja_Karnych\\dataset\\karne_przerobione\\k8\\frame_0064.jpg: 352x512 1 ball, 1 person, 1 goal, 26.8ms\n",
      "image 66/173 C:\\Users\\user\\Desktop\\studia\\Widzenie Komputerowe Projekt\\Predykcja_Karnych\\dataset\\karne_przerobione\\k8\\frame_0065.jpg: 352x512 1 ball, 1 person, 1 goal, 28.9ms\n",
      "image 67/173 C:\\Users\\user\\Desktop\\studia\\Widzenie Komputerowe Projekt\\Predykcja_Karnych\\dataset\\karne_przerobione\\k8\\frame_0066.jpg: 352x512 1 ball, 1 person, 1 goal, 27.6ms\n",
      "image 68/173 C:\\Users\\user\\Desktop\\studia\\Widzenie Komputerowe Projekt\\Predykcja_Karnych\\dataset\\karne_przerobione\\k8\\frame_0067.jpg: 352x512 1 ball, 1 person, 1 goal, 26.5ms\n",
      "image 69/173 C:\\Users\\user\\Desktop\\studia\\Widzenie Komputerowe Projekt\\Predykcja_Karnych\\dataset\\karne_przerobione\\k8\\frame_0068.jpg: 352x512 1 ball, 1 person, 1 goal, 27.1ms\n",
      "image 70/173 C:\\Users\\user\\Desktop\\studia\\Widzenie Komputerowe Projekt\\Predykcja_Karnych\\dataset\\karne_przerobione\\k8\\frame_0069.jpg: 352x512 1 ball, 1 person, 1 goal, 26.5ms\n",
      "image 71/173 C:\\Users\\user\\Desktop\\studia\\Widzenie Komputerowe Projekt\\Predykcja_Karnych\\dataset\\karne_przerobione\\k8\\frame_0070.jpg: 352x512 1 ball, 1 person, 1 goal, 27.7ms\n",
      "image 72/173 C:\\Users\\user\\Desktop\\studia\\Widzenie Komputerowe Projekt\\Predykcja_Karnych\\dataset\\karne_przerobione\\k8\\frame_0071.jpg: 352x512 1 ball, 1 person, 1 goal, 30.8ms\n",
      "image 73/173 C:\\Users\\user\\Desktop\\studia\\Widzenie Komputerowe Projekt\\Predykcja_Karnych\\dataset\\karne_przerobione\\k8\\frame_0072.jpg: 352x512 1 ball, 1 person, 1 goal, 27.7ms\n",
      "image 74/173 C:\\Users\\user\\Desktop\\studia\\Widzenie Komputerowe Projekt\\Predykcja_Karnych\\dataset\\karne_przerobione\\k8\\frame_0073.jpg: 352x512 1 ball, 1 person, 1 goal, 27.9ms\n",
      "image 75/173 C:\\Users\\user\\Desktop\\studia\\Widzenie Komputerowe Projekt\\Predykcja_Karnych\\dataset\\karne_przerobione\\k8\\frame_0074.jpg: 352x512 1 ball, 1 person, 1 goal, 27.7ms\n",
      "image 76/173 C:\\Users\\user\\Desktop\\studia\\Widzenie Komputerowe Projekt\\Predykcja_Karnych\\dataset\\karne_przerobione\\k8\\frame_0075.jpg: 352x512 1 ball, 1 person, 1 goal, 27.4ms\n",
      "image 77/173 C:\\Users\\user\\Desktop\\studia\\Widzenie Komputerowe Projekt\\Predykcja_Karnych\\dataset\\karne_przerobione\\k8\\frame_0076.jpg: 352x512 1 ball, 1 person, 1 goal, 28.8ms\n",
      "image 78/173 C:\\Users\\user\\Desktop\\studia\\Widzenie Komputerowe Projekt\\Predykcja_Karnych\\dataset\\karne_przerobione\\k8\\frame_0077.jpg: 352x512 1 ball, 1 person, 1 goal, 27.8ms\n",
      "image 79/173 C:\\Users\\user\\Desktop\\studia\\Widzenie Komputerowe Projekt\\Predykcja_Karnych\\dataset\\karne_przerobione\\k8\\frame_0078.jpg: 352x512 1 ball, 1 person, 1 goal, 29.2ms\n",
      "image 80/173 C:\\Users\\user\\Desktop\\studia\\Widzenie Komputerowe Projekt\\Predykcja_Karnych\\dataset\\karne_przerobione\\k8\\frame_0079.jpg: 352x512 1 ball, 1 person, 1 goal, 28.6ms\n",
      "image 81/173 C:\\Users\\user\\Desktop\\studia\\Widzenie Komputerowe Projekt\\Predykcja_Karnych\\dataset\\karne_przerobione\\k8\\frame_0080.jpg: 352x512 1 ball, 1 person, 1 goal, 32.2ms\n",
      "image 82/173 C:\\Users\\user\\Desktop\\studia\\Widzenie Komputerowe Projekt\\Predykcja_Karnych\\dataset\\karne_przerobione\\k8\\frame_0081.jpg: 352x512 1 ball, 1 person, 1 goal, 28.7ms\n",
      "image 83/173 C:\\Users\\user\\Desktop\\studia\\Widzenie Komputerowe Projekt\\Predykcja_Karnych\\dataset\\karne_przerobione\\k8\\frame_0082.jpg: 352x512 1 ball, 1 person, 1 goal, 28.1ms\n",
      "image 84/173 C:\\Users\\user\\Desktop\\studia\\Widzenie Komputerowe Projekt\\Predykcja_Karnych\\dataset\\karne_przerobione\\k8\\frame_0083.jpg: 352x512 1 ball, 1 person, 1 goal, 24.7ms\n",
      "image 85/173 C:\\Users\\user\\Desktop\\studia\\Widzenie Komputerowe Projekt\\Predykcja_Karnych\\dataset\\karne_przerobione\\k8\\frame_0084.jpg: 352x512 1 ball, 1 person, 1 goal, 28.7ms\n",
      "image 86/173 C:\\Users\\user\\Desktop\\studia\\Widzenie Komputerowe Projekt\\Predykcja_Karnych\\dataset\\karne_przerobione\\k8\\frame_0085.jpg: 352x512 1 ball, 1 person, 1 goal, 30.3ms\n",
      "image 87/173 C:\\Users\\user\\Desktop\\studia\\Widzenie Komputerowe Projekt\\Predykcja_Karnych\\dataset\\karne_przerobione\\k8\\frame_0086.jpg: 352x512 1 ball, 1 person, 1 goal, 26.2ms\n",
      "image 88/173 C:\\Users\\user\\Desktop\\studia\\Widzenie Komputerowe Projekt\\Predykcja_Karnych\\dataset\\karne_przerobione\\k8\\frame_0087.jpg: 352x512 1 ball, 1 person, 1 goal, 34.4ms\n",
      "image 89/173 C:\\Users\\user\\Desktop\\studia\\Widzenie Komputerowe Projekt\\Predykcja_Karnych\\dataset\\karne_przerobione\\k8\\frame_0088.jpg: 352x512 1 ball, 1 person, 1 goal, 31.4ms\n",
      "image 90/173 C:\\Users\\user\\Desktop\\studia\\Widzenie Komputerowe Projekt\\Predykcja_Karnych\\dataset\\karne_przerobione\\k8\\frame_0089.jpg: 352x512 1 ball, 1 person, 1 goal, 30.9ms\n",
      "image 91/173 C:\\Users\\user\\Desktop\\studia\\Widzenie Komputerowe Projekt\\Predykcja_Karnych\\dataset\\karne_przerobione\\k8\\frame_0090.jpg: 352x512 1 ball, 1 person, 1 goal, 32.5ms\n",
      "image 92/173 C:\\Users\\user\\Desktop\\studia\\Widzenie Komputerowe Projekt\\Predykcja_Karnych\\dataset\\karne_przerobione\\k8\\frame_0091.jpg: 352x512 1 ball, 1 person, 1 goal, 33.0ms\n",
      "image 93/173 C:\\Users\\user\\Desktop\\studia\\Widzenie Komputerowe Projekt\\Predykcja_Karnych\\dataset\\karne_przerobione\\k8\\frame_0092.jpg: 352x512 1 ball, 1 person, 1 goal, 30.2ms\n",
      "image 94/173 C:\\Users\\user\\Desktop\\studia\\Widzenie Komputerowe Projekt\\Predykcja_Karnych\\dataset\\karne_przerobione\\k8\\frame_0093.jpg: 352x512 1 ball, 1 person, 1 goal, 29.8ms\n",
      "image 95/173 C:\\Users\\user\\Desktop\\studia\\Widzenie Komputerowe Projekt\\Predykcja_Karnych\\dataset\\karne_przerobione\\k8\\frame_0094.jpg: 352x512 1 ball, 1 person, 1 goal, 33.7ms\n",
      "image 96/173 C:\\Users\\user\\Desktop\\studia\\Widzenie Komputerowe Projekt\\Predykcja_Karnych\\dataset\\karne_przerobione\\k8\\frame_0095.jpg: 352x512 1 ball, 1 person, 1 goal, 35.1ms\n",
      "image 97/173 C:\\Users\\user\\Desktop\\studia\\Widzenie Komputerowe Projekt\\Predykcja_Karnych\\dataset\\karne_przerobione\\k8\\frame_0096.jpg: 352x512 1 ball, 1 person, 1 goal, 45.6ms\n",
      "image 98/173 C:\\Users\\user\\Desktop\\studia\\Widzenie Komputerowe Projekt\\Predykcja_Karnych\\dataset\\karne_przerobione\\k8\\frame_0097.jpg: 352x512 1 ball, 1 person, 1 goal, 39.0ms\n",
      "image 99/173 C:\\Users\\user\\Desktop\\studia\\Widzenie Komputerowe Projekt\\Predykcja_Karnych\\dataset\\karne_przerobione\\k8\\frame_0098.jpg: 352x512 1 ball, 1 person, 1 goal, 37.6ms\n",
      "image 100/173 C:\\Users\\user\\Desktop\\studia\\Widzenie Komputerowe Projekt\\Predykcja_Karnych\\dataset\\karne_przerobione\\k8\\frame_0099.jpg: 352x512 1 ball, 1 person, 1 goal, 39.0ms\n",
      "image 101/173 C:\\Users\\user\\Desktop\\studia\\Widzenie Komputerowe Projekt\\Predykcja_Karnych\\dataset\\karne_przerobione\\k8\\frame_0100.jpg: 352x512 1 ball, 1 person, 1 goal, 70.0ms\n",
      "image 102/173 C:\\Users\\user\\Desktop\\studia\\Widzenie Komputerowe Projekt\\Predykcja_Karnych\\dataset\\karne_przerobione\\k8\\frame_0101.jpg: 352x512 1 ball, 1 person, 1 goal, 62.0ms\n",
      "image 103/173 C:\\Users\\user\\Desktop\\studia\\Widzenie Komputerowe Projekt\\Predykcja_Karnych\\dataset\\karne_przerobione\\k8\\frame_0102.jpg: 352x512 1 ball, 1 person, 1 goal, 51.5ms\n",
      "image 104/173 C:\\Users\\user\\Desktop\\studia\\Widzenie Komputerowe Projekt\\Predykcja_Karnych\\dataset\\karne_przerobione\\k8\\frame_0103.jpg: 352x512 1 ball, 1 person, 1 goal, 46.7ms\n",
      "image 105/173 C:\\Users\\user\\Desktop\\studia\\Widzenie Komputerowe Projekt\\Predykcja_Karnych\\dataset\\karne_przerobione\\k8\\frame_0104.jpg: 352x512 1 ball, 1 person, 1 goal, 54.6ms\n",
      "image 106/173 C:\\Users\\user\\Desktop\\studia\\Widzenie Komputerowe Projekt\\Predykcja_Karnych\\dataset\\karne_przerobione\\k8\\frame_0105.jpg: 352x512 1 ball, 1 person, 1 goal, 46.6ms\n",
      "image 107/173 C:\\Users\\user\\Desktop\\studia\\Widzenie Komputerowe Projekt\\Predykcja_Karnych\\dataset\\karne_przerobione\\k8\\frame_0106.jpg: 352x512 1 ball, 1 person, 1 goal, 44.2ms\n",
      "image 108/173 C:\\Users\\user\\Desktop\\studia\\Widzenie Komputerowe Projekt\\Predykcja_Karnych\\dataset\\karne_przerobione\\k8\\frame_0107.jpg: 352x512 1 ball, 1 person, 1 goal, 44.1ms\n",
      "image 109/173 C:\\Users\\user\\Desktop\\studia\\Widzenie Komputerowe Projekt\\Predykcja_Karnych\\dataset\\karne_przerobione\\k8\\frame_0108.jpg: 352x512 1 ball, 1 person, 1 goal, 44.7ms\n",
      "image 110/173 C:\\Users\\user\\Desktop\\studia\\Widzenie Komputerowe Projekt\\Predykcja_Karnych\\dataset\\karne_przerobione\\k8\\frame_0109.jpg: 352x512 1 ball, 1 person, 1 goal, 42.0ms\n",
      "image 111/173 C:\\Users\\user\\Desktop\\studia\\Widzenie Komputerowe Projekt\\Predykcja_Karnych\\dataset\\karne_przerobione\\k8\\frame_0110.jpg: 352x512 1 ball, 1 person, 1 goal, 59.5ms\n",
      "image 112/173 C:\\Users\\user\\Desktop\\studia\\Widzenie Komputerowe Projekt\\Predykcja_Karnych\\dataset\\karne_przerobione\\k8\\frame_0111.jpg: 352x512 1 ball, 1 person, 1 goal, 46.7ms\n",
      "image 113/173 C:\\Users\\user\\Desktop\\studia\\Widzenie Komputerowe Projekt\\Predykcja_Karnych\\dataset\\karne_przerobione\\k8\\frame_0112.jpg: 352x512 1 ball, 1 person, 1 goal, 59.6ms\n",
      "image 114/173 C:\\Users\\user\\Desktop\\studia\\Widzenie Komputerowe Projekt\\Predykcja_Karnych\\dataset\\karne_przerobione\\k8\\frame_0113.jpg: 352x512 1 ball, 1 person, 1 goal, 46.7ms\n",
      "image 115/173 C:\\Users\\user\\Desktop\\studia\\Widzenie Komputerowe Projekt\\Predykcja_Karnych\\dataset\\karne_przerobione\\k8\\frame_0114.jpg: 352x512 1 ball, 1 person, 1 goal, 51.1ms\n",
      "image 116/173 C:\\Users\\user\\Desktop\\studia\\Widzenie Komputerowe Projekt\\Predykcja_Karnych\\dataset\\karne_przerobione\\k8\\frame_0115.jpg: 352x512 1 ball, 1 person, 1 goal, 41.6ms\n",
      "image 117/173 C:\\Users\\user\\Desktop\\studia\\Widzenie Komputerowe Projekt\\Predykcja_Karnych\\dataset\\karne_przerobione\\k8\\frame_0116.jpg: 352x512 1 ball, 1 person, 1 goal, 42.6ms\n",
      "image 118/173 C:\\Users\\user\\Desktop\\studia\\Widzenie Komputerowe Projekt\\Predykcja_Karnych\\dataset\\karne_przerobione\\k8\\frame_0117.jpg: 352x512 1 ball, 1 person, 1 goal, 41.5ms\n",
      "image 119/173 C:\\Users\\user\\Desktop\\studia\\Widzenie Komputerowe Projekt\\Predykcja_Karnych\\dataset\\karne_przerobione\\k8\\frame_0118.jpg: 352x512 1 ball, 1 person, 1 goal, 34.6ms\n",
      "image 120/173 C:\\Users\\user\\Desktop\\studia\\Widzenie Komputerowe Projekt\\Predykcja_Karnych\\dataset\\karne_przerobione\\k8\\frame_0119.jpg: 352x512 1 ball, 1 person, 1 goal, 35.2ms\n",
      "image 121/173 C:\\Users\\user\\Desktop\\studia\\Widzenie Komputerowe Projekt\\Predykcja_Karnych\\dataset\\karne_przerobione\\k8\\frame_0120.jpg: 352x512 1 ball, 1 person, 1 goal, 38.6ms\n",
      "image 122/173 C:\\Users\\user\\Desktop\\studia\\Widzenie Komputerowe Projekt\\Predykcja_Karnych\\dataset\\karne_przerobione\\k8\\frame_0121.jpg: 352x512 1 person, 1 goal, 42.0ms\n",
      "image 123/173 C:\\Users\\user\\Desktop\\studia\\Widzenie Komputerowe Projekt\\Predykcja_Karnych\\dataset\\karne_przerobione\\k8\\frame_0122.jpg: 352x512 1 person, 1 goal, 40.6ms\n",
      "image 124/173 C:\\Users\\user\\Desktop\\studia\\Widzenie Komputerowe Projekt\\Predykcja_Karnych\\dataset\\karne_przerobione\\k8\\frame_0123.jpg: 352x512 1 person, 1 goal, 26.3ms\n",
      "image 125/173 C:\\Users\\user\\Desktop\\studia\\Widzenie Komputerowe Projekt\\Predykcja_Karnych\\dataset\\karne_przerobione\\k8\\frame_0124.jpg: 352x512 1 person, 1 goal, 26.7ms\n",
      "image 126/173 C:\\Users\\user\\Desktop\\studia\\Widzenie Komputerowe Projekt\\Predykcja_Karnych\\dataset\\karne_przerobione\\k8\\frame_0125.jpg: 352x512 1 person, 1 goal, 32.1ms\n",
      "image 127/173 C:\\Users\\user\\Desktop\\studia\\Widzenie Komputerowe Projekt\\Predykcja_Karnych\\dataset\\karne_przerobione\\k8\\frame_0126.jpg: 352x512 1 person, 1 goal, 33.7ms\n",
      "image 128/173 C:\\Users\\user\\Desktop\\studia\\Widzenie Komputerowe Projekt\\Predykcja_Karnych\\dataset\\karne_przerobione\\k8\\frame_0127.jpg: 352x512 1 person, 1 goal, 30.3ms\n",
      "image 129/173 C:\\Users\\user\\Desktop\\studia\\Widzenie Komputerowe Projekt\\Predykcja_Karnych\\dataset\\karne_przerobione\\k8\\frame_0128.jpg: 352x512 1 person, 1 goal, 30.4ms\n",
      "image 130/173 C:\\Users\\user\\Desktop\\studia\\Widzenie Komputerowe Projekt\\Predykcja_Karnych\\dataset\\karne_przerobione\\k8\\frame_0129.jpg: 352x512 1 person, 1 goal, 28.8ms\n",
      "image 131/173 C:\\Users\\user\\Desktop\\studia\\Widzenie Komputerowe Projekt\\Predykcja_Karnych\\dataset\\karne_przerobione\\k8\\frame_0130.jpg: 352x512 1 person, 1 goal, 25.1ms\n",
      "image 132/173 C:\\Users\\user\\Desktop\\studia\\Widzenie Komputerowe Projekt\\Predykcja_Karnych\\dataset\\karne_przerobione\\k8\\frame_0131.jpg: 352x512 1 person, 1 goal, 30.8ms\n",
      "image 133/173 C:\\Users\\user\\Desktop\\studia\\Widzenie Komputerowe Projekt\\Predykcja_Karnych\\dataset\\karne_przerobione\\k8\\frame_0132.jpg: 352x512 1 person, 1 goal, 24.4ms\n",
      "image 134/173 C:\\Users\\user\\Desktop\\studia\\Widzenie Komputerowe Projekt\\Predykcja_Karnych\\dataset\\karne_przerobione\\k8\\frame_0133.jpg: 352x512 1 person, 1 goal, 28.1ms\n",
      "image 135/173 C:\\Users\\user\\Desktop\\studia\\Widzenie Komputerowe Projekt\\Predykcja_Karnych\\dataset\\karne_przerobione\\k8\\frame_0134.jpg: 352x512 1 person, 1 goal, 24.9ms\n",
      "image 136/173 C:\\Users\\user\\Desktop\\studia\\Widzenie Komputerowe Projekt\\Predykcja_Karnych\\dataset\\karne_przerobione\\k8\\frame_0135.jpg: 352x512 1 person, 1 goal, 28.6ms\n",
      "image 137/173 C:\\Users\\user\\Desktop\\studia\\Widzenie Komputerowe Projekt\\Predykcja_Karnych\\dataset\\karne_przerobione\\k8\\frame_0136.jpg: 352x512 1 person, 1 goal, 29.8ms\n",
      "image 138/173 C:\\Users\\user\\Desktop\\studia\\Widzenie Komputerowe Projekt\\Predykcja_Karnych\\dataset\\karne_przerobione\\k8\\frame_0137.jpg: 352x512 1 person, 1 goal, 26.5ms\n",
      "image 139/173 C:\\Users\\user\\Desktop\\studia\\Widzenie Komputerowe Projekt\\Predykcja_Karnych\\dataset\\karne_przerobione\\k8\\frame_0138.jpg: 352x512 1 person, 1 goal, 30.1ms\n",
      "image 140/173 C:\\Users\\user\\Desktop\\studia\\Widzenie Komputerowe Projekt\\Predykcja_Karnych\\dataset\\karne_przerobione\\k8\\frame_0139.jpg: 352x512 1 ball, 1 person, 1 goal, 24.9ms\n",
      "image 141/173 C:\\Users\\user\\Desktop\\studia\\Widzenie Komputerowe Projekt\\Predykcja_Karnych\\dataset\\karne_przerobione\\k8\\frame_0140.jpg: 352x512 1 ball, 1 person, 1 goal, 24.3ms\n",
      "image 142/173 C:\\Users\\user\\Desktop\\studia\\Widzenie Komputerowe Projekt\\Predykcja_Karnych\\dataset\\karne_przerobione\\k8\\frame_0141.jpg: 352x512 1 person, 1 goal, 26.4ms\n",
      "image 143/173 C:\\Users\\user\\Desktop\\studia\\Widzenie Komputerowe Projekt\\Predykcja_Karnych\\dataset\\karne_przerobione\\k8\\frame_0142.jpg: 352x512 1 person, 1 goal, 27.6ms\n",
      "image 144/173 C:\\Users\\user\\Desktop\\studia\\Widzenie Komputerowe Projekt\\Predykcja_Karnych\\dataset\\karne_przerobione\\k8\\frame_0143.jpg: 352x512 1 person, 1 goal, 25.7ms\n",
      "image 145/173 C:\\Users\\user\\Desktop\\studia\\Widzenie Komputerowe Projekt\\Predykcja_Karnych\\dataset\\karne_przerobione\\k8\\frame_0144.jpg: 352x512 1 person, 1 goal, 25.4ms\n",
      "image 146/173 C:\\Users\\user\\Desktop\\studia\\Widzenie Komputerowe Projekt\\Predykcja_Karnych\\dataset\\karne_przerobione\\k8\\frame_0145.jpg: 352x512 1 person, 1 goal, 42.3ms\n",
      "image 147/173 C:\\Users\\user\\Desktop\\studia\\Widzenie Komputerowe Projekt\\Predykcja_Karnych\\dataset\\karne_przerobione\\k8\\frame_0146.jpg: 352x512 1 person, 1 goal, 24.7ms\n",
      "image 148/173 C:\\Users\\user\\Desktop\\studia\\Widzenie Komputerowe Projekt\\Predykcja_Karnych\\dataset\\karne_przerobione\\k8\\frame_0147.jpg: 352x512 1 person, 1 goal, 24.8ms\n",
      "image 149/173 C:\\Users\\user\\Desktop\\studia\\Widzenie Komputerowe Projekt\\Predykcja_Karnych\\dataset\\karne_przerobione\\k8\\frame_0148.jpg: 352x512 1 person, 1 goal, 24.0ms\n",
      "image 150/173 C:\\Users\\user\\Desktop\\studia\\Widzenie Komputerowe Projekt\\Predykcja_Karnych\\dataset\\karne_przerobione\\k8\\frame_0149.jpg: 352x512 1 person, 1 goal, 25.4ms\n",
      "image 151/173 C:\\Users\\user\\Desktop\\studia\\Widzenie Komputerowe Projekt\\Predykcja_Karnych\\dataset\\karne_przerobione\\k8\\frame_0150.jpg: 352x512 1 person, 1 goal, 40.2ms\n",
      "image 152/173 C:\\Users\\user\\Desktop\\studia\\Widzenie Komputerowe Projekt\\Predykcja_Karnych\\dataset\\karne_przerobione\\k8\\frame_0151.jpg: 352x512 1 person, 1 goal, 44.6ms\n",
      "image 153/173 C:\\Users\\user\\Desktop\\studia\\Widzenie Komputerowe Projekt\\Predykcja_Karnych\\dataset\\karne_przerobione\\k8\\frame_0152.jpg: 352x512 1 person, 1 goal, 30.3ms\n",
      "image 154/173 C:\\Users\\user\\Desktop\\studia\\Widzenie Komputerowe Projekt\\Predykcja_Karnych\\dataset\\karne_przerobione\\k8\\frame_0153.jpg: 352x512 1 person, 1 goal, 27.8ms\n",
      "image 155/173 C:\\Users\\user\\Desktop\\studia\\Widzenie Komputerowe Projekt\\Predykcja_Karnych\\dataset\\karne_przerobione\\k8\\frame_0154.jpg: 352x512 1 person, 1 goal, 28.7ms\n",
      "image 156/173 C:\\Users\\user\\Desktop\\studia\\Widzenie Komputerowe Projekt\\Predykcja_Karnych\\dataset\\karne_przerobione\\k8\\frame_0155.jpg: 352x512 1 person, 1 goal, 23.9ms\n",
      "image 157/173 C:\\Users\\user\\Desktop\\studia\\Widzenie Komputerowe Projekt\\Predykcja_Karnych\\dataset\\karne_przerobione\\k8\\frame_0156.jpg: 352x512 1 person, 1 goal, 26.2ms\n",
      "image 158/173 C:\\Users\\user\\Desktop\\studia\\Widzenie Komputerowe Projekt\\Predykcja_Karnych\\dataset\\karne_przerobione\\k8\\frame_0157.jpg: 352x512 1 person, 1 goal, 24.4ms\n",
      "image 159/173 C:\\Users\\user\\Desktop\\studia\\Widzenie Komputerowe Projekt\\Predykcja_Karnych\\dataset\\karne_przerobione\\k8\\frame_0158.jpg: 352x512 1 person, 1 goal, 24.1ms\n",
      "image 160/173 C:\\Users\\user\\Desktop\\studia\\Widzenie Komputerowe Projekt\\Predykcja_Karnych\\dataset\\karne_przerobione\\k8\\frame_0159.jpg: 352x512 1 person, 1 goal, 25.8ms\n",
      "image 161/173 C:\\Users\\user\\Desktop\\studia\\Widzenie Komputerowe Projekt\\Predykcja_Karnych\\dataset\\karne_przerobione\\k8\\frame_0160.jpg: 352x512 1 person, 1 goal, 24.7ms\n",
      "image 162/173 C:\\Users\\user\\Desktop\\studia\\Widzenie Komputerowe Projekt\\Predykcja_Karnych\\dataset\\karne_przerobione\\k8\\frame_0161.jpg: 352x512 1 person, 1 goal, 25.5ms\n",
      "image 163/173 C:\\Users\\user\\Desktop\\studia\\Widzenie Komputerowe Projekt\\Predykcja_Karnych\\dataset\\karne_przerobione\\k8\\frame_0162.jpg: 352x512 1 person, 1 goal, 24.8ms\n",
      "image 164/173 C:\\Users\\user\\Desktop\\studia\\Widzenie Komputerowe Projekt\\Predykcja_Karnych\\dataset\\karne_przerobione\\k8\\frame_0163.jpg: 352x512 1 person, 1 goal, 26.2ms\n",
      "image 165/173 C:\\Users\\user\\Desktop\\studia\\Widzenie Komputerowe Projekt\\Predykcja_Karnych\\dataset\\karne_przerobione\\k8\\frame_0164.jpg: 352x512 1 person, 1 goal, 25.7ms\n",
      "image 166/173 C:\\Users\\user\\Desktop\\studia\\Widzenie Komputerowe Projekt\\Predykcja_Karnych\\dataset\\karne_przerobione\\k8\\frame_0165.jpg: 352x512 1 person, 1 goal, 24.4ms\n",
      "image 167/173 C:\\Users\\user\\Desktop\\studia\\Widzenie Komputerowe Projekt\\Predykcja_Karnych\\dataset\\karne_przerobione\\k8\\frame_0166.jpg: 352x512 1 person, 1 goal, 26.2ms\n",
      "image 168/173 C:\\Users\\user\\Desktop\\studia\\Widzenie Komputerowe Projekt\\Predykcja_Karnych\\dataset\\karne_przerobione\\k8\\frame_0167.jpg: 352x512 1 person, 1 goal, 26.2ms\n",
      "image 169/173 C:\\Users\\user\\Desktop\\studia\\Widzenie Komputerowe Projekt\\Predykcja_Karnych\\dataset\\karne_przerobione\\k8\\frame_0168.jpg: 352x512 1 person, 1 goal, 26.1ms\n",
      "image 170/173 C:\\Users\\user\\Desktop\\studia\\Widzenie Komputerowe Projekt\\Predykcja_Karnych\\dataset\\karne_przerobione\\k8\\frame_0169.jpg: 352x512 1 person, 1 goal, 25.2ms\n",
      "image 171/173 C:\\Users\\user\\Desktop\\studia\\Widzenie Komputerowe Projekt\\Predykcja_Karnych\\dataset\\karne_przerobione\\k8\\frame_0170.jpg: 352x512 1 person, 1 goal, 29.2ms\n",
      "image 172/173 C:\\Users\\user\\Desktop\\studia\\Widzenie Komputerowe Projekt\\Predykcja_Karnych\\dataset\\karne_przerobione\\k8\\frame_0171.jpg: 352x512 1 person, 1 goal, 23.8ms\n",
      "image 173/173 C:\\Users\\user\\Desktop\\studia\\Widzenie Komputerowe Projekt\\Predykcja_Karnych\\dataset\\karne_przerobione\\k8\\frame_0172.jpg: 352x512 1 person, 1 goal, 25.6ms\n",
      "Speed: 1.5ms preprocess, 32.6ms inference, 0.6ms postprocess per image at shape (1, 3, 352, 512)\n",
      "Results saved to \u001B[1mC:\\Users\\user\\Desktop\\studia\\Widzenie Komputerowe Projekt\\Predykcja_Karnych\\runs\\detect\\predict_k8\\predict2\u001B[0m\n",
      "Przetwarzanie folderu: k9...\n",
      "\n",
      "image 1/217 C:\\Users\\user\\Desktop\\studia\\Widzenie Komputerowe Projekt\\Predykcja_Karnych\\dataset\\karne_przerobione\\k9\\frame_0000.jpg: 352x512 1 ball, 1 person, 1 goal, 25.5ms\n",
      "image 2/217 C:\\Users\\user\\Desktop\\studia\\Widzenie Komputerowe Projekt\\Predykcja_Karnych\\dataset\\karne_przerobione\\k9\\frame_0001.jpg: 352x512 1 ball, 1 person, 1 goal, 25.5ms\n",
      "image 3/217 C:\\Users\\user\\Desktop\\studia\\Widzenie Komputerowe Projekt\\Predykcja_Karnych\\dataset\\karne_przerobione\\k9\\frame_0002.jpg: 352x512 1 ball, 1 person, 1 goal, 25.5ms\n",
      "image 4/217 C:\\Users\\user\\Desktop\\studia\\Widzenie Komputerowe Projekt\\Predykcja_Karnych\\dataset\\karne_przerobione\\k9\\frame_0003.jpg: 352x512 1 ball, 1 person, 1 goal, 25.5ms\n",
      "image 5/217 C:\\Users\\user\\Desktop\\studia\\Widzenie Komputerowe Projekt\\Predykcja_Karnych\\dataset\\karne_przerobione\\k9\\frame_0004.jpg: 352x512 1 ball, 1 person, 1 goal, 24.1ms\n",
      "image 6/217 C:\\Users\\user\\Desktop\\studia\\Widzenie Komputerowe Projekt\\Predykcja_Karnych\\dataset\\karne_przerobione\\k9\\frame_0005.jpg: 352x512 1 ball, 1 person, 1 goal, 25.4ms\n",
      "image 7/217 C:\\Users\\user\\Desktop\\studia\\Widzenie Komputerowe Projekt\\Predykcja_Karnych\\dataset\\karne_przerobione\\k9\\frame_0006.jpg: 352x512 1 ball, 1 person, 1 goal, 26.4ms\n",
      "image 8/217 C:\\Users\\user\\Desktop\\studia\\Widzenie Komputerowe Projekt\\Predykcja_Karnych\\dataset\\karne_przerobione\\k9\\frame_0007.jpg: 352x512 1 ball, 1 person, 1 goal, 25.7ms\n",
      "image 9/217 C:\\Users\\user\\Desktop\\studia\\Widzenie Komputerowe Projekt\\Predykcja_Karnych\\dataset\\karne_przerobione\\k9\\frame_0008.jpg: 352x512 1 ball, 1 person, 1 goal, 24.9ms\n",
      "image 10/217 C:\\Users\\user\\Desktop\\studia\\Widzenie Komputerowe Projekt\\Predykcja_Karnych\\dataset\\karne_przerobione\\k9\\frame_0009.jpg: 352x512 1 ball, 1 person, 1 goal, 24.2ms\n",
      "image 11/217 C:\\Users\\user\\Desktop\\studia\\Widzenie Komputerowe Projekt\\Predykcja_Karnych\\dataset\\karne_przerobione\\k9\\frame_0010.jpg: 352x512 1 ball, 1 person, 1 goal, 31.5ms\n",
      "image 12/217 C:\\Users\\user\\Desktop\\studia\\Widzenie Komputerowe Projekt\\Predykcja_Karnych\\dataset\\karne_przerobione\\k9\\frame_0011.jpg: 352x512 1 ball, 1 person, 1 goal, 25.9ms\n",
      "image 13/217 C:\\Users\\user\\Desktop\\studia\\Widzenie Komputerowe Projekt\\Predykcja_Karnych\\dataset\\karne_przerobione\\k9\\frame_0012.jpg: 352x512 1 ball, 1 person, 1 goal, 26.6ms\n",
      "image 14/217 C:\\Users\\user\\Desktop\\studia\\Widzenie Komputerowe Projekt\\Predykcja_Karnych\\dataset\\karne_przerobione\\k9\\frame_0013.jpg: 352x512 1 ball, 1 person, 1 goal, 24.5ms\n",
      "image 15/217 C:\\Users\\user\\Desktop\\studia\\Widzenie Komputerowe Projekt\\Predykcja_Karnych\\dataset\\karne_przerobione\\k9\\frame_0014.jpg: 352x512 1 ball, 1 person, 1 goal, 25.7ms\n",
      "image 16/217 C:\\Users\\user\\Desktop\\studia\\Widzenie Komputerowe Projekt\\Predykcja_Karnych\\dataset\\karne_przerobione\\k9\\frame_0015.jpg: 352x512 1 ball, 1 person, 1 goal, 26.7ms\n",
      "image 17/217 C:\\Users\\user\\Desktop\\studia\\Widzenie Komputerowe Projekt\\Predykcja_Karnych\\dataset\\karne_przerobione\\k9\\frame_0016.jpg: 352x512 1 ball, 1 person, 1 goal, 26.0ms\n",
      "image 18/217 C:\\Users\\user\\Desktop\\studia\\Widzenie Komputerowe Projekt\\Predykcja_Karnych\\dataset\\karne_przerobione\\k9\\frame_0017.jpg: 352x512 1 ball, 1 person, 1 goal, 25.0ms\n",
      "image 19/217 C:\\Users\\user\\Desktop\\studia\\Widzenie Komputerowe Projekt\\Predykcja_Karnych\\dataset\\karne_przerobione\\k9\\frame_0018.jpg: 352x512 1 ball, 1 person, 1 goal, 25.9ms\n",
      "image 20/217 C:\\Users\\user\\Desktop\\studia\\Widzenie Komputerowe Projekt\\Predykcja_Karnych\\dataset\\karne_przerobione\\k9\\frame_0019.jpg: 352x512 1 ball, 1 person, 1 goal, 25.1ms\n",
      "image 21/217 C:\\Users\\user\\Desktop\\studia\\Widzenie Komputerowe Projekt\\Predykcja_Karnych\\dataset\\karne_przerobione\\k9\\frame_0020.jpg: 352x512 1 ball, 1 person, 1 goal, 28.0ms\n",
      "image 22/217 C:\\Users\\user\\Desktop\\studia\\Widzenie Komputerowe Projekt\\Predykcja_Karnych\\dataset\\karne_przerobione\\k9\\frame_0021.jpg: 352x512 1 ball, 1 person, 1 goal, 26.4ms\n",
      "image 23/217 C:\\Users\\user\\Desktop\\studia\\Widzenie Komputerowe Projekt\\Predykcja_Karnych\\dataset\\karne_przerobione\\k9\\frame_0022.jpg: 352x512 1 ball, 1 person, 1 goal, 25.9ms\n",
      "image 24/217 C:\\Users\\user\\Desktop\\studia\\Widzenie Komputerowe Projekt\\Predykcja_Karnych\\dataset\\karne_przerobione\\k9\\frame_0023.jpg: 352x512 1 ball, 1 person, 1 goal, 24.7ms\n",
      "image 25/217 C:\\Users\\user\\Desktop\\studia\\Widzenie Komputerowe Projekt\\Predykcja_Karnych\\dataset\\karne_przerobione\\k9\\frame_0024.jpg: 352x512 1 ball, 1 person, 1 goal, 24.7ms\n",
      "image 26/217 C:\\Users\\user\\Desktop\\studia\\Widzenie Komputerowe Projekt\\Predykcja_Karnych\\dataset\\karne_przerobione\\k9\\frame_0025.jpg: 352x512 1 ball, 1 person, 1 goal, 25.3ms\n",
      "image 27/217 C:\\Users\\user\\Desktop\\studia\\Widzenie Komputerowe Projekt\\Predykcja_Karnych\\dataset\\karne_przerobione\\k9\\frame_0026.jpg: 352x512 1 ball, 1 person, 1 goal, 25.4ms\n",
      "image 28/217 C:\\Users\\user\\Desktop\\studia\\Widzenie Komputerowe Projekt\\Predykcja_Karnych\\dataset\\karne_przerobione\\k9\\frame_0027.jpg: 352x512 1 ball, 1 person, 1 goal, 25.1ms\n",
      "image 29/217 C:\\Users\\user\\Desktop\\studia\\Widzenie Komputerowe Projekt\\Predykcja_Karnych\\dataset\\karne_przerobione\\k9\\frame_0028.jpg: 352x512 1 ball, 1 person, 1 goal, 25.4ms\n",
      "image 30/217 C:\\Users\\user\\Desktop\\studia\\Widzenie Komputerowe Projekt\\Predykcja_Karnych\\dataset\\karne_przerobione\\k9\\frame_0029.jpg: 352x512 1 ball, 1 person, 1 goal, 24.8ms\n",
      "image 31/217 C:\\Users\\user\\Desktop\\studia\\Widzenie Komputerowe Projekt\\Predykcja_Karnych\\dataset\\karne_przerobione\\k9\\frame_0030.jpg: 352x512 1 ball, 1 person, 1 goal, 25.3ms\n",
      "image 32/217 C:\\Users\\user\\Desktop\\studia\\Widzenie Komputerowe Projekt\\Predykcja_Karnych\\dataset\\karne_przerobione\\k9\\frame_0031.jpg: 352x512 1 ball, 1 person, 1 goal, 26.5ms\n",
      "image 33/217 C:\\Users\\user\\Desktop\\studia\\Widzenie Komputerowe Projekt\\Predykcja_Karnych\\dataset\\karne_przerobione\\k9\\frame_0032.jpg: 352x512 1 ball, 1 person, 1 goal, 27.2ms\n",
      "image 34/217 C:\\Users\\user\\Desktop\\studia\\Widzenie Komputerowe Projekt\\Predykcja_Karnych\\dataset\\karne_przerobione\\k9\\frame_0033.jpg: 352x512 1 ball, 1 person, 1 goal, 27.1ms\n",
      "image 35/217 C:\\Users\\user\\Desktop\\studia\\Widzenie Komputerowe Projekt\\Predykcja_Karnych\\dataset\\karne_przerobione\\k9\\frame_0034.jpg: 352x512 1 ball, 1 person, 1 goal, 45.1ms\n",
      "image 36/217 C:\\Users\\user\\Desktop\\studia\\Widzenie Komputerowe Projekt\\Predykcja_Karnych\\dataset\\karne_przerobione\\k9\\frame_0035.jpg: 352x512 1 ball, 1 person, 1 goal, 23.7ms\n",
      "image 37/217 C:\\Users\\user\\Desktop\\studia\\Widzenie Komputerowe Projekt\\Predykcja_Karnych\\dataset\\karne_przerobione\\k9\\frame_0036.jpg: 352x512 1 ball, 1 person, 1 goal, 24.7ms\n",
      "image 38/217 C:\\Users\\user\\Desktop\\studia\\Widzenie Komputerowe Projekt\\Predykcja_Karnych\\dataset\\karne_przerobione\\k9\\frame_0037.jpg: 352x512 1 ball, 1 person, 1 goal, 25.7ms\n",
      "image 39/217 C:\\Users\\user\\Desktop\\studia\\Widzenie Komputerowe Projekt\\Predykcja_Karnych\\dataset\\karne_przerobione\\k9\\frame_0038.jpg: 352x512 1 ball, 1 person, 1 goal, 24.9ms\n",
      "image 40/217 C:\\Users\\user\\Desktop\\studia\\Widzenie Komputerowe Projekt\\Predykcja_Karnych\\dataset\\karne_przerobione\\k9\\frame_0039.jpg: 352x512 1 ball, 1 person, 1 goal, 37.4ms\n",
      "image 41/217 C:\\Users\\user\\Desktop\\studia\\Widzenie Komputerowe Projekt\\Predykcja_Karnych\\dataset\\karne_przerobione\\k9\\frame_0040.jpg: 352x512 1 ball, 1 person, 1 goal, 32.6ms\n",
      "image 42/217 C:\\Users\\user\\Desktop\\studia\\Widzenie Komputerowe Projekt\\Predykcja_Karnych\\dataset\\karne_przerobione\\k9\\frame_0041.jpg: 352x512 1 ball, 1 person, 1 goal, 32.8ms\n",
      "image 43/217 C:\\Users\\user\\Desktop\\studia\\Widzenie Komputerowe Projekt\\Predykcja_Karnych\\dataset\\karne_przerobione\\k9\\frame_0042.jpg: 352x512 1 ball, 1 person, 1 goal, 28.9ms\n",
      "image 44/217 C:\\Users\\user\\Desktop\\studia\\Widzenie Komputerowe Projekt\\Predykcja_Karnych\\dataset\\karne_przerobione\\k9\\frame_0043.jpg: 352x512 1 ball, 1 person, 1 goal, 33.0ms\n",
      "image 45/217 C:\\Users\\user\\Desktop\\studia\\Widzenie Komputerowe Projekt\\Predykcja_Karnych\\dataset\\karne_przerobione\\k9\\frame_0044.jpg: 352x512 1 ball, 1 person, 1 goal, 31.9ms\n",
      "image 46/217 C:\\Users\\user\\Desktop\\studia\\Widzenie Komputerowe Projekt\\Predykcja_Karnych\\dataset\\karne_przerobione\\k9\\frame_0045.jpg: 352x512 1 ball, 1 person, 1 goal, 27.9ms\n",
      "image 47/217 C:\\Users\\user\\Desktop\\studia\\Widzenie Komputerowe Projekt\\Predykcja_Karnych\\dataset\\karne_przerobione\\k9\\frame_0046.jpg: 352x512 1 ball, 1 person, 1 goal, 28.7ms\n",
      "image 48/217 C:\\Users\\user\\Desktop\\studia\\Widzenie Komputerowe Projekt\\Predykcja_Karnych\\dataset\\karne_przerobione\\k9\\frame_0047.jpg: 352x512 1 ball, 1 person, 1 goal, 27.1ms\n",
      "image 49/217 C:\\Users\\user\\Desktop\\studia\\Widzenie Komputerowe Projekt\\Predykcja_Karnych\\dataset\\karne_przerobione\\k9\\frame_0048.jpg: 352x512 1 ball, 1 person, 1 goal, 26.6ms\n",
      "image 50/217 C:\\Users\\user\\Desktop\\studia\\Widzenie Komputerowe Projekt\\Predykcja_Karnych\\dataset\\karne_przerobione\\k9\\frame_0049.jpg: 352x512 1 ball, 1 person, 1 goal, 28.9ms\n",
      "image 51/217 C:\\Users\\user\\Desktop\\studia\\Widzenie Komputerowe Projekt\\Predykcja_Karnych\\dataset\\karne_przerobione\\k9\\frame_0050.jpg: 352x512 1 ball, 1 person, 1 goal, 25.4ms\n",
      "image 52/217 C:\\Users\\user\\Desktop\\studia\\Widzenie Komputerowe Projekt\\Predykcja_Karnych\\dataset\\karne_przerobione\\k9\\frame_0051.jpg: 352x512 1 ball, 1 person, 1 goal, 26.1ms\n",
      "image 53/217 C:\\Users\\user\\Desktop\\studia\\Widzenie Komputerowe Projekt\\Predykcja_Karnych\\dataset\\karne_przerobione\\k9\\frame_0052.jpg: 352x512 1 ball, 1 person, 1 goal, 31.2ms\n",
      "image 54/217 C:\\Users\\user\\Desktop\\studia\\Widzenie Komputerowe Projekt\\Predykcja_Karnych\\dataset\\karne_przerobione\\k9\\frame_0053.jpg: 352x512 1 ball, 1 person, 1 goal, 29.6ms\n",
      "image 55/217 C:\\Users\\user\\Desktop\\studia\\Widzenie Komputerowe Projekt\\Predykcja_Karnych\\dataset\\karne_przerobione\\k9\\frame_0054.jpg: 352x512 1 ball, 1 person, 1 goal, 31.7ms\n",
      "image 56/217 C:\\Users\\user\\Desktop\\studia\\Widzenie Komputerowe Projekt\\Predykcja_Karnych\\dataset\\karne_przerobione\\k9\\frame_0055.jpg: 352x512 1 ball, 1 person, 1 goal, 35.1ms\n",
      "image 57/217 C:\\Users\\user\\Desktop\\studia\\Widzenie Komputerowe Projekt\\Predykcja_Karnych\\dataset\\karne_przerobione\\k9\\frame_0056.jpg: 352x512 1 ball, 1 person, 1 goal, 31.5ms\n",
      "image 58/217 C:\\Users\\user\\Desktop\\studia\\Widzenie Komputerowe Projekt\\Predykcja_Karnych\\dataset\\karne_przerobione\\k9\\frame_0057.jpg: 352x512 1 ball, 1 person, 1 goal, 33.0ms\n",
      "image 59/217 C:\\Users\\user\\Desktop\\studia\\Widzenie Komputerowe Projekt\\Predykcja_Karnych\\dataset\\karne_przerobione\\k9\\frame_0058.jpg: 352x512 1 ball, 1 person, 1 goal, 29.0ms\n",
      "image 60/217 C:\\Users\\user\\Desktop\\studia\\Widzenie Komputerowe Projekt\\Predykcja_Karnych\\dataset\\karne_przerobione\\k9\\frame_0059.jpg: 352x512 1 ball, 1 person, 1 goal, 26.5ms\n",
      "image 61/217 C:\\Users\\user\\Desktop\\studia\\Widzenie Komputerowe Projekt\\Predykcja_Karnych\\dataset\\karne_przerobione\\k9\\frame_0060.jpg: 352x512 1 ball, 1 person, 1 goal, 28.2ms\n",
      "image 62/217 C:\\Users\\user\\Desktop\\studia\\Widzenie Komputerowe Projekt\\Predykcja_Karnych\\dataset\\karne_przerobione\\k9\\frame_0061.jpg: 352x512 1 ball, 1 person, 1 goal, 26.9ms\n",
      "image 63/217 C:\\Users\\user\\Desktop\\studia\\Widzenie Komputerowe Projekt\\Predykcja_Karnych\\dataset\\karne_przerobione\\k9\\frame_0062.jpg: 352x512 1 ball, 1 person, 1 goal, 28.5ms\n",
      "image 64/217 C:\\Users\\user\\Desktop\\studia\\Widzenie Komputerowe Projekt\\Predykcja_Karnych\\dataset\\karne_przerobione\\k9\\frame_0063.jpg: 352x512 1 ball, 1 person, 1 goal, 29.0ms\n",
      "image 65/217 C:\\Users\\user\\Desktop\\studia\\Widzenie Komputerowe Projekt\\Predykcja_Karnych\\dataset\\karne_przerobione\\k9\\frame_0064.jpg: 352x512 1 ball, 1 person, 1 goal, 27.4ms\n",
      "image 66/217 C:\\Users\\user\\Desktop\\studia\\Widzenie Komputerowe Projekt\\Predykcja_Karnych\\dataset\\karne_przerobione\\k9\\frame_0065.jpg: 352x512 1 ball, 1 person, 1 goal, 28.1ms\n",
      "image 67/217 C:\\Users\\user\\Desktop\\studia\\Widzenie Komputerowe Projekt\\Predykcja_Karnych\\dataset\\karne_przerobione\\k9\\frame_0066.jpg: 352x512 1 ball, 1 person, 1 goal, 30.2ms\n",
      "image 68/217 C:\\Users\\user\\Desktop\\studia\\Widzenie Komputerowe Projekt\\Predykcja_Karnych\\dataset\\karne_przerobione\\k9\\frame_0067.jpg: 352x512 1 ball, 1 person, 1 goal, 26.4ms\n",
      "image 69/217 C:\\Users\\user\\Desktop\\studia\\Widzenie Komputerowe Projekt\\Predykcja_Karnych\\dataset\\karne_przerobione\\k9\\frame_0068.jpg: 352x512 1 ball, 1 person, 1 goal, 25.7ms\n",
      "image 70/217 C:\\Users\\user\\Desktop\\studia\\Widzenie Komputerowe Projekt\\Predykcja_Karnych\\dataset\\karne_przerobione\\k9\\frame_0069.jpg: 352x512 1 ball, 1 person, 1 goal, 30.5ms\n",
      "image 71/217 C:\\Users\\user\\Desktop\\studia\\Widzenie Komputerowe Projekt\\Predykcja_Karnych\\dataset\\karne_przerobione\\k9\\frame_0070.jpg: 352x512 1 ball, 1 person, 1 goal, 27.1ms\n",
      "image 72/217 C:\\Users\\user\\Desktop\\studia\\Widzenie Komputerowe Projekt\\Predykcja_Karnych\\dataset\\karne_przerobione\\k9\\frame_0071.jpg: 352x512 1 ball, 1 person, 1 goal, 24.5ms\n",
      "image 73/217 C:\\Users\\user\\Desktop\\studia\\Widzenie Komputerowe Projekt\\Predykcja_Karnych\\dataset\\karne_przerobione\\k9\\frame_0072.jpg: 352x512 1 ball, 1 person, 1 goal, 25.5ms\n",
      "image 74/217 C:\\Users\\user\\Desktop\\studia\\Widzenie Komputerowe Projekt\\Predykcja_Karnych\\dataset\\karne_przerobione\\k9\\frame_0073.jpg: 352x512 1 ball, 1 person, 1 goal, 25.6ms\n",
      "image 75/217 C:\\Users\\user\\Desktop\\studia\\Widzenie Komputerowe Projekt\\Predykcja_Karnych\\dataset\\karne_przerobione\\k9\\frame_0074.jpg: 352x512 1 ball, 1 person, 1 goal, 25.6ms\n",
      "image 76/217 C:\\Users\\user\\Desktop\\studia\\Widzenie Komputerowe Projekt\\Predykcja_Karnych\\dataset\\karne_przerobione\\k9\\frame_0075.jpg: 352x512 1 ball, 1 person, 1 goal, 24.9ms\n",
      "image 77/217 C:\\Users\\user\\Desktop\\studia\\Widzenie Komputerowe Projekt\\Predykcja_Karnych\\dataset\\karne_przerobione\\k9\\frame_0076.jpg: 352x512 1 ball, 1 person, 1 goal, 24.8ms\n",
      "image 78/217 C:\\Users\\user\\Desktop\\studia\\Widzenie Komputerowe Projekt\\Predykcja_Karnych\\dataset\\karne_przerobione\\k9\\frame_0077.jpg: 352x512 1 ball, 1 person, 1 goal, 26.3ms\n",
      "image 79/217 C:\\Users\\user\\Desktop\\studia\\Widzenie Komputerowe Projekt\\Predykcja_Karnych\\dataset\\karne_przerobione\\k9\\frame_0078.jpg: 352x512 1 ball, 1 person, 1 goal, 25.8ms\n",
      "image 80/217 C:\\Users\\user\\Desktop\\studia\\Widzenie Komputerowe Projekt\\Predykcja_Karnych\\dataset\\karne_przerobione\\k9\\frame_0079.jpg: 352x512 1 ball, 1 person, 1 goal, 28.4ms\n",
      "image 81/217 C:\\Users\\user\\Desktop\\studia\\Widzenie Komputerowe Projekt\\Predykcja_Karnych\\dataset\\karne_przerobione\\k9\\frame_0080.jpg: 352x512 1 ball, 1 person, 1 goal, 25.6ms\n",
      "image 82/217 C:\\Users\\user\\Desktop\\studia\\Widzenie Komputerowe Projekt\\Predykcja_Karnych\\dataset\\karne_przerobione\\k9\\frame_0081.jpg: 352x512 1 ball, 1 person, 1 goal, 26.8ms\n",
      "image 83/217 C:\\Users\\user\\Desktop\\studia\\Widzenie Komputerowe Projekt\\Predykcja_Karnych\\dataset\\karne_przerobione\\k9\\frame_0082.jpg: 352x512 1 ball, 1 person, 1 goal, 25.8ms\n",
      "image 84/217 C:\\Users\\user\\Desktop\\studia\\Widzenie Komputerowe Projekt\\Predykcja_Karnych\\dataset\\karne_przerobione\\k9\\frame_0083.jpg: 352x512 1 ball, 1 person, 1 goal, 25.3ms\n",
      "image 85/217 C:\\Users\\user\\Desktop\\studia\\Widzenie Komputerowe Projekt\\Predykcja_Karnych\\dataset\\karne_przerobione\\k9\\frame_0084.jpg: 352x512 1 ball, 1 person, 1 goal, 26.0ms\n",
      "image 86/217 C:\\Users\\user\\Desktop\\studia\\Widzenie Komputerowe Projekt\\Predykcja_Karnych\\dataset\\karne_przerobione\\k9\\frame_0085.jpg: 352x512 1 ball, 1 person, 1 goal, 24.6ms\n",
      "image 87/217 C:\\Users\\user\\Desktop\\studia\\Widzenie Komputerowe Projekt\\Predykcja_Karnych\\dataset\\karne_przerobione\\k9\\frame_0086.jpg: 352x512 1 ball, 1 person, 1 goal, 24.3ms\n",
      "image 88/217 C:\\Users\\user\\Desktop\\studia\\Widzenie Komputerowe Projekt\\Predykcja_Karnych\\dataset\\karne_przerobione\\k9\\frame_0087.jpg: 352x512 1 ball, 1 person, 1 goal, 25.0ms\n",
      "image 89/217 C:\\Users\\user\\Desktop\\studia\\Widzenie Komputerowe Projekt\\Predykcja_Karnych\\dataset\\karne_przerobione\\k9\\frame_0088.jpg: 352x512 1 ball, 1 person, 1 goal, 25.1ms\n",
      "image 90/217 C:\\Users\\user\\Desktop\\studia\\Widzenie Komputerowe Projekt\\Predykcja_Karnych\\dataset\\karne_przerobione\\k9\\frame_0089.jpg: 352x512 1 ball, 1 person, 1 goal, 25.6ms\n",
      "image 91/217 C:\\Users\\user\\Desktop\\studia\\Widzenie Komputerowe Projekt\\Predykcja_Karnych\\dataset\\karne_przerobione\\k9\\frame_0090.jpg: 352x512 1 ball, 1 person, 1 goal, 29.5ms\n",
      "image 92/217 C:\\Users\\user\\Desktop\\studia\\Widzenie Komputerowe Projekt\\Predykcja_Karnych\\dataset\\karne_przerobione\\k9\\frame_0091.jpg: 352x512 1 ball, 1 person, 1 goal, 29.7ms\n",
      "image 93/217 C:\\Users\\user\\Desktop\\studia\\Widzenie Komputerowe Projekt\\Predykcja_Karnych\\dataset\\karne_przerobione\\k9\\frame_0092.jpg: 352x512 1 ball, 1 person, 1 goal, 27.0ms\n",
      "image 94/217 C:\\Users\\user\\Desktop\\studia\\Widzenie Komputerowe Projekt\\Predykcja_Karnych\\dataset\\karne_przerobione\\k9\\frame_0093.jpg: 352x512 1 ball, 1 person, 1 goal, 60.1ms\n",
      "image 95/217 C:\\Users\\user\\Desktop\\studia\\Widzenie Komputerowe Projekt\\Predykcja_Karnych\\dataset\\karne_przerobione\\k9\\frame_0094.jpg: 352x512 1 ball, 1 person, 1 goal, 24.9ms\n",
      "image 96/217 C:\\Users\\user\\Desktop\\studia\\Widzenie Komputerowe Projekt\\Predykcja_Karnych\\dataset\\karne_przerobione\\k9\\frame_0095.jpg: 352x512 1 ball, 1 person, 1 goal, 23.7ms\n",
      "image 97/217 C:\\Users\\user\\Desktop\\studia\\Widzenie Komputerowe Projekt\\Predykcja_Karnych\\dataset\\karne_przerobione\\k9\\frame_0096.jpg: 352x512 1 ball, 1 person, 1 goal, 26.5ms\n",
      "image 98/217 C:\\Users\\user\\Desktop\\studia\\Widzenie Komputerowe Projekt\\Predykcja_Karnych\\dataset\\karne_przerobione\\k9\\frame_0097.jpg: 352x512 1 ball, 1 person, 1 goal, 26.5ms\n",
      "image 99/217 C:\\Users\\user\\Desktop\\studia\\Widzenie Komputerowe Projekt\\Predykcja_Karnych\\dataset\\karne_przerobione\\k9\\frame_0098.jpg: 352x512 1 ball, 1 person, 1 goal, 38.2ms\n",
      "image 100/217 C:\\Users\\user\\Desktop\\studia\\Widzenie Komputerowe Projekt\\Predykcja_Karnych\\dataset\\karne_przerobione\\k9\\frame_0099.jpg: 352x512 1 ball, 1 person, 1 goal, 31.8ms\n",
      "image 101/217 C:\\Users\\user\\Desktop\\studia\\Widzenie Komputerowe Projekt\\Predykcja_Karnych\\dataset\\karne_przerobione\\k9\\frame_0100.jpg: 352x512 1 ball, 1 person, 1 goal, 28.9ms\n",
      "image 102/217 C:\\Users\\user\\Desktop\\studia\\Widzenie Komputerowe Projekt\\Predykcja_Karnych\\dataset\\karne_przerobione\\k9\\frame_0101.jpg: 352x512 1 ball, 1 person, 1 goal, 28.8ms\n",
      "image 103/217 C:\\Users\\user\\Desktop\\studia\\Widzenie Komputerowe Projekt\\Predykcja_Karnych\\dataset\\karne_przerobione\\k9\\frame_0102.jpg: 352x512 1 ball, 1 person, 1 goal, 29.1ms\n",
      "image 104/217 C:\\Users\\user\\Desktop\\studia\\Widzenie Komputerowe Projekt\\Predykcja_Karnych\\dataset\\karne_przerobione\\k9\\frame_0103.jpg: 352x512 1 ball, 1 person, 1 goal, 33.5ms\n",
      "image 105/217 C:\\Users\\user\\Desktop\\studia\\Widzenie Komputerowe Projekt\\Predykcja_Karnych\\dataset\\karne_przerobione\\k9\\frame_0104.jpg: 352x512 1 ball, 1 person, 1 goal, 41.1ms\n",
      "image 106/217 C:\\Users\\user\\Desktop\\studia\\Widzenie Komputerowe Projekt\\Predykcja_Karnych\\dataset\\karne_przerobione\\k9\\frame_0105.jpg: 352x512 1 ball, 1 person, 1 goal, 26.2ms\n",
      "image 107/217 C:\\Users\\user\\Desktop\\studia\\Widzenie Komputerowe Projekt\\Predykcja_Karnych\\dataset\\karne_przerobione\\k9\\frame_0106.jpg: 352x512 1 ball, 1 person, 1 goal, 24.9ms\n",
      "image 108/217 C:\\Users\\user\\Desktop\\studia\\Widzenie Komputerowe Projekt\\Predykcja_Karnych\\dataset\\karne_przerobione\\k9\\frame_0107.jpg: 352x512 1 ball, 1 person, 1 goal, 24.3ms\n",
      "image 109/217 C:\\Users\\user\\Desktop\\studia\\Widzenie Komputerowe Projekt\\Predykcja_Karnych\\dataset\\karne_przerobione\\k9\\frame_0108.jpg: 352x512 1 ball, 1 person, 1 goal, 25.8ms\n",
      "image 110/217 C:\\Users\\user\\Desktop\\studia\\Widzenie Komputerowe Projekt\\Predykcja_Karnych\\dataset\\karne_przerobione\\k9\\frame_0109.jpg: 352x512 1 ball, 1 person, 1 goal, 38.3ms\n",
      "image 111/217 C:\\Users\\user\\Desktop\\studia\\Widzenie Komputerowe Projekt\\Predykcja_Karnych\\dataset\\karne_przerobione\\k9\\frame_0110.jpg: 352x512 1 ball, 1 person, 1 goal, 23.8ms\n",
      "image 112/217 C:\\Users\\user\\Desktop\\studia\\Widzenie Komputerowe Projekt\\Predykcja_Karnych\\dataset\\karne_przerobione\\k9\\frame_0111.jpg: 352x512 1 ball, 1 person, 1 goal, 44.4ms\n",
      "image 113/217 C:\\Users\\user\\Desktop\\studia\\Widzenie Komputerowe Projekt\\Predykcja_Karnych\\dataset\\karne_przerobione\\k9\\frame_0112.jpg: 352x512 1 ball, 1 person, 1 goal, 30.5ms\n",
      "image 114/217 C:\\Users\\user\\Desktop\\studia\\Widzenie Komputerowe Projekt\\Predykcja_Karnych\\dataset\\karne_przerobione\\k9\\frame_0113.jpg: 352x512 1 ball, 1 person, 1 goal, 27.1ms\n",
      "image 115/217 C:\\Users\\user\\Desktop\\studia\\Widzenie Komputerowe Projekt\\Predykcja_Karnych\\dataset\\karne_przerobione\\k9\\frame_0114.jpg: 352x512 1 ball, 1 person, 1 goal, 25.0ms\n",
      "image 116/217 C:\\Users\\user\\Desktop\\studia\\Widzenie Komputerowe Projekt\\Predykcja_Karnych\\dataset\\karne_przerobione\\k9\\frame_0115.jpg: 352x512 1 ball, 1 person, 1 goal, 26.2ms\n",
      "image 117/217 C:\\Users\\user\\Desktop\\studia\\Widzenie Komputerowe Projekt\\Predykcja_Karnych\\dataset\\karne_przerobione\\k9\\frame_0116.jpg: 352x512 1 ball, 1 person, 1 goal, 25.1ms\n",
      "image 118/217 C:\\Users\\user\\Desktop\\studia\\Widzenie Komputerowe Projekt\\Predykcja_Karnych\\dataset\\karne_przerobione\\k9\\frame_0117.jpg: 352x512 1 ball, 1 person, 1 goal, 27.1ms\n",
      "image 119/217 C:\\Users\\user\\Desktop\\studia\\Widzenie Komputerowe Projekt\\Predykcja_Karnych\\dataset\\karne_przerobione\\k9\\frame_0118.jpg: 352x512 1 ball, 1 person, 1 goal, 26.1ms\n",
      "image 120/217 C:\\Users\\user\\Desktop\\studia\\Widzenie Komputerowe Projekt\\Predykcja_Karnych\\dataset\\karne_przerobione\\k9\\frame_0119.jpg: 352x512 1 ball, 1 person, 1 goal, 25.3ms\n",
      "image 121/217 C:\\Users\\user\\Desktop\\studia\\Widzenie Komputerowe Projekt\\Predykcja_Karnych\\dataset\\karne_przerobione\\k9\\frame_0120.jpg: 352x512 1 ball, 1 person, 1 goal, 24.6ms\n",
      "image 122/217 C:\\Users\\user\\Desktop\\studia\\Widzenie Komputerowe Projekt\\Predykcja_Karnych\\dataset\\karne_przerobione\\k9\\frame_0121.jpg: 352x512 1 ball, 1 person, 1 goal, 24.5ms\n",
      "image 123/217 C:\\Users\\user\\Desktop\\studia\\Widzenie Komputerowe Projekt\\Predykcja_Karnych\\dataset\\karne_przerobione\\k9\\frame_0122.jpg: 352x512 1 ball, 1 person, 1 goal, 25.3ms\n",
      "image 124/217 C:\\Users\\user\\Desktop\\studia\\Widzenie Komputerowe Projekt\\Predykcja_Karnych\\dataset\\karne_przerobione\\k9\\frame_0123.jpg: 352x512 1 ball, 1 person, 1 goal, 28.0ms\n",
      "image 125/217 C:\\Users\\user\\Desktop\\studia\\Widzenie Komputerowe Projekt\\Predykcja_Karnych\\dataset\\karne_przerobione\\k9\\frame_0124.jpg: 352x512 1 ball, 1 person, 1 goal, 27.0ms\n",
      "image 126/217 C:\\Users\\user\\Desktop\\studia\\Widzenie Komputerowe Projekt\\Predykcja_Karnych\\dataset\\karne_przerobione\\k9\\frame_0125.jpg: 352x512 1 ball, 1 person, 1 goal, 23.1ms\n",
      "image 127/217 C:\\Users\\user\\Desktop\\studia\\Widzenie Komputerowe Projekt\\Predykcja_Karnych\\dataset\\karne_przerobione\\k9\\frame_0126.jpg: 352x512 1 ball, 1 person, 1 goal, 27.3ms\n",
      "image 128/217 C:\\Users\\user\\Desktop\\studia\\Widzenie Komputerowe Projekt\\Predykcja_Karnych\\dataset\\karne_przerobione\\k9\\frame_0127.jpg: 352x512 1 ball, 1 person, 1 goal, 25.7ms\n",
      "image 129/217 C:\\Users\\user\\Desktop\\studia\\Widzenie Komputerowe Projekt\\Predykcja_Karnych\\dataset\\karne_przerobione\\k9\\frame_0128.jpg: 352x512 1 ball, 1 person, 1 goal, 28.1ms\n",
      "image 130/217 C:\\Users\\user\\Desktop\\studia\\Widzenie Komputerowe Projekt\\Predykcja_Karnych\\dataset\\karne_przerobione\\k9\\frame_0129.jpg: 352x512 1 ball, 1 person, 1 goal, 26.3ms\n",
      "image 131/217 C:\\Users\\user\\Desktop\\studia\\Widzenie Komputerowe Projekt\\Predykcja_Karnych\\dataset\\karne_przerobione\\k9\\frame_0130.jpg: 352x512 1 ball, 1 person, 1 goal, 29.0ms\n",
      "image 132/217 C:\\Users\\user\\Desktop\\studia\\Widzenie Komputerowe Projekt\\Predykcja_Karnych\\dataset\\karne_przerobione\\k9\\frame_0131.jpg: 352x512 1 ball, 1 person, 1 goal, 29.4ms\n",
      "image 133/217 C:\\Users\\user\\Desktop\\studia\\Widzenie Komputerowe Projekt\\Predykcja_Karnych\\dataset\\karne_przerobione\\k9\\frame_0132.jpg: 352x512 1 ball, 1 person, 1 goal, 25.1ms\n",
      "image 134/217 C:\\Users\\user\\Desktop\\studia\\Widzenie Komputerowe Projekt\\Predykcja_Karnych\\dataset\\karne_przerobione\\k9\\frame_0133.jpg: 352x512 1 ball, 1 person, 1 goal, 29.3ms\n",
      "image 135/217 C:\\Users\\user\\Desktop\\studia\\Widzenie Komputerowe Projekt\\Predykcja_Karnych\\dataset\\karne_przerobione\\k9\\frame_0134.jpg: 352x512 1 ball, 1 person, 1 goal, 27.6ms\n",
      "image 136/217 C:\\Users\\user\\Desktop\\studia\\Widzenie Komputerowe Projekt\\Predykcja_Karnych\\dataset\\karne_przerobione\\k9\\frame_0135.jpg: 352x512 1 ball, 1 person, 1 goal, 26.0ms\n",
      "image 137/217 C:\\Users\\user\\Desktop\\studia\\Widzenie Komputerowe Projekt\\Predykcja_Karnych\\dataset\\karne_przerobione\\k9\\frame_0136.jpg: 352x512 1 ball, 1 person, 1 goal, 27.3ms\n",
      "image 138/217 C:\\Users\\user\\Desktop\\studia\\Widzenie Komputerowe Projekt\\Predykcja_Karnych\\dataset\\karne_przerobione\\k9\\frame_0137.jpg: 352x512 1 ball, 1 person, 1 goal, 26.0ms\n",
      "image 139/217 C:\\Users\\user\\Desktop\\studia\\Widzenie Komputerowe Projekt\\Predykcja_Karnych\\dataset\\karne_przerobione\\k9\\frame_0138.jpg: 352x512 1 ball, 1 person, 1 goal, 24.8ms\n",
      "image 140/217 C:\\Users\\user\\Desktop\\studia\\Widzenie Komputerowe Projekt\\Predykcja_Karnych\\dataset\\karne_przerobione\\k9\\frame_0139.jpg: 352x512 1 ball, 1 person, 1 goal, 25.1ms\n",
      "image 141/217 C:\\Users\\user\\Desktop\\studia\\Widzenie Komputerowe Projekt\\Predykcja_Karnych\\dataset\\karne_przerobione\\k9\\frame_0140.jpg: 352x512 1 ball, 1 person, 1 goal, 25.8ms\n",
      "image 142/217 C:\\Users\\user\\Desktop\\studia\\Widzenie Komputerowe Projekt\\Predykcja_Karnych\\dataset\\karne_przerobione\\k9\\frame_0141.jpg: 352x512 1 ball, 1 person, 1 goal, 27.6ms\n",
      "image 143/217 C:\\Users\\user\\Desktop\\studia\\Widzenie Komputerowe Projekt\\Predykcja_Karnych\\dataset\\karne_przerobione\\k9\\frame_0142.jpg: 352x512 1 ball, 1 person, 1 goal, 26.7ms\n",
      "image 144/217 C:\\Users\\user\\Desktop\\studia\\Widzenie Komputerowe Projekt\\Predykcja_Karnych\\dataset\\karne_przerobione\\k9\\frame_0143.jpg: 352x512 1 ball, 1 person, 1 goal, 26.1ms\n",
      "image 145/217 C:\\Users\\user\\Desktop\\studia\\Widzenie Komputerowe Projekt\\Predykcja_Karnych\\dataset\\karne_przerobione\\k9\\frame_0144.jpg: 352x512 1 person, 1 goal, 29.2ms\n",
      "image 146/217 C:\\Users\\user\\Desktop\\studia\\Widzenie Komputerowe Projekt\\Predykcja_Karnych\\dataset\\karne_przerobione\\k9\\frame_0145.jpg: 352x512 1 person, 1 goal, 28.5ms\n",
      "image 147/217 C:\\Users\\user\\Desktop\\studia\\Widzenie Komputerowe Projekt\\Predykcja_Karnych\\dataset\\karne_przerobione\\k9\\frame_0146.jpg: 352x512 1 person, 1 goal, 38.9ms\n",
      "image 148/217 C:\\Users\\user\\Desktop\\studia\\Widzenie Komputerowe Projekt\\Predykcja_Karnych\\dataset\\karne_przerobione\\k9\\frame_0147.jpg: 352x512 1 person, 1 goal, 25.0ms\n",
      "image 149/217 C:\\Users\\user\\Desktop\\studia\\Widzenie Komputerowe Projekt\\Predykcja_Karnych\\dataset\\karne_przerobione\\k9\\frame_0148.jpg: 352x512 1 person, 1 goal, 26.4ms\n",
      "image 150/217 C:\\Users\\user\\Desktop\\studia\\Widzenie Komputerowe Projekt\\Predykcja_Karnych\\dataset\\karne_przerobione\\k9\\frame_0149.jpg: 352x512 1 person, 1 goal, 24.6ms\n",
      "image 151/217 C:\\Users\\user\\Desktop\\studia\\Widzenie Komputerowe Projekt\\Predykcja_Karnych\\dataset\\karne_przerobione\\k9\\frame_0150.jpg: 352x512 1 person, 1 goal, 25.9ms\n",
      "image 152/217 C:\\Users\\user\\Desktop\\studia\\Widzenie Komputerowe Projekt\\Predykcja_Karnych\\dataset\\karne_przerobione\\k9\\frame_0151.jpg: 352x512 1 person, 1 goal, 24.0ms\n",
      "image 153/217 C:\\Users\\user\\Desktop\\studia\\Widzenie Komputerowe Projekt\\Predykcja_Karnych\\dataset\\karne_przerobione\\k9\\frame_0152.jpg: 352x512 1 person, 1 goal, 26.0ms\n",
      "image 154/217 C:\\Users\\user\\Desktop\\studia\\Widzenie Komputerowe Projekt\\Predykcja_Karnych\\dataset\\karne_przerobione\\k9\\frame_0153.jpg: 352x512 1 person, 1 goal, 32.8ms\n",
      "image 155/217 C:\\Users\\user\\Desktop\\studia\\Widzenie Komputerowe Projekt\\Predykcja_Karnych\\dataset\\karne_przerobione\\k9\\frame_0154.jpg: 352x512 1 person, 1 goal, 24.5ms\n",
      "image 156/217 C:\\Users\\user\\Desktop\\studia\\Widzenie Komputerowe Projekt\\Predykcja_Karnych\\dataset\\karne_przerobione\\k9\\frame_0155.jpg: 352x512 1 person, 1 goal, 25.2ms\n",
      "image 157/217 C:\\Users\\user\\Desktop\\studia\\Widzenie Komputerowe Projekt\\Predykcja_Karnych\\dataset\\karne_przerobione\\k9\\frame_0156.jpg: 352x512 1 ball, 1 person, 1 goal, 26.4ms\n",
      "image 158/217 C:\\Users\\user\\Desktop\\studia\\Widzenie Komputerowe Projekt\\Predykcja_Karnych\\dataset\\karne_przerobione\\k9\\frame_0157.jpg: 352x512 1 ball, 1 person, 1 goal, 28.1ms\n",
      "image 159/217 C:\\Users\\user\\Desktop\\studia\\Widzenie Komputerowe Projekt\\Predykcja_Karnych\\dataset\\karne_przerobione\\k9\\frame_0158.jpg: 352x512 1 ball, 1 person, 1 goal, 33.4ms\n",
      "image 160/217 C:\\Users\\user\\Desktop\\studia\\Widzenie Komputerowe Projekt\\Predykcja_Karnych\\dataset\\karne_przerobione\\k9\\frame_0159.jpg: 352x512 1 ball, 1 person, 1 goal, 31.7ms\n",
      "image 161/217 C:\\Users\\user\\Desktop\\studia\\Widzenie Komputerowe Projekt\\Predykcja_Karnych\\dataset\\karne_przerobione\\k9\\frame_0160.jpg: 352x512 1 ball, 1 person, 1 goal, 29.7ms\n",
      "image 162/217 C:\\Users\\user\\Desktop\\studia\\Widzenie Komputerowe Projekt\\Predykcja_Karnych\\dataset\\karne_przerobione\\k9\\frame_0161.jpg: 352x512 1 ball, 1 person, 1 goal, 31.5ms\n",
      "image 163/217 C:\\Users\\user\\Desktop\\studia\\Widzenie Komputerowe Projekt\\Predykcja_Karnych\\dataset\\karne_przerobione\\k9\\frame_0162.jpg: 352x512 1 ball, 1 person, 1 goal, 28.9ms\n",
      "image 164/217 C:\\Users\\user\\Desktop\\studia\\Widzenie Komputerowe Projekt\\Predykcja_Karnych\\dataset\\karne_przerobione\\k9\\frame_0163.jpg: 352x512 1 ball, 1 person, 1 goal, 25.1ms\n",
      "image 165/217 C:\\Users\\user\\Desktop\\studia\\Widzenie Komputerowe Projekt\\Predykcja_Karnych\\dataset\\karne_przerobione\\k9\\frame_0164.jpg: 352x512 1 ball, 1 person, 1 goal, 23.0ms\n",
      "image 166/217 C:\\Users\\user\\Desktop\\studia\\Widzenie Komputerowe Projekt\\Predykcja_Karnych\\dataset\\karne_przerobione\\k9\\frame_0165.jpg: 352x512 1 ball, 1 person, 1 goal, 24.4ms\n",
      "image 167/217 C:\\Users\\user\\Desktop\\studia\\Widzenie Komputerowe Projekt\\Predykcja_Karnych\\dataset\\karne_przerobione\\k9\\frame_0166.jpg: 352x512 1 ball, 1 person, 1 goal, 24.4ms\n",
      "image 168/217 C:\\Users\\user\\Desktop\\studia\\Widzenie Komputerowe Projekt\\Predykcja_Karnych\\dataset\\karne_przerobione\\k9\\frame_0167.jpg: 352x512 1 ball, 1 person, 1 goal, 24.9ms\n",
      "image 169/217 C:\\Users\\user\\Desktop\\studia\\Widzenie Komputerowe Projekt\\Predykcja_Karnych\\dataset\\karne_przerobione\\k9\\frame_0168.jpg: 352x512 1 ball, 1 person, 1 goal, 25.5ms\n",
      "image 170/217 C:\\Users\\user\\Desktop\\studia\\Widzenie Komputerowe Projekt\\Predykcja_Karnych\\dataset\\karne_przerobione\\k9\\frame_0169.jpg: 352x512 1 ball, 1 person, 1 goal, 24.4ms\n",
      "image 171/217 C:\\Users\\user\\Desktop\\studia\\Widzenie Komputerowe Projekt\\Predykcja_Karnych\\dataset\\karne_przerobione\\k9\\frame_0170.jpg: 352x512 1 ball, 1 person, 1 goal, 25.0ms\n",
      "image 172/217 C:\\Users\\user\\Desktop\\studia\\Widzenie Komputerowe Projekt\\Predykcja_Karnych\\dataset\\karne_przerobione\\k9\\frame_0171.jpg: 352x512 1 ball, 1 person, 1 goal, 22.8ms\n",
      "image 173/217 C:\\Users\\user\\Desktop\\studia\\Widzenie Komputerowe Projekt\\Predykcja_Karnych\\dataset\\karne_przerobione\\k9\\frame_0172.jpg: 352x512 1 ball, 1 person, 1 goal, 24.3ms\n",
      "image 174/217 C:\\Users\\user\\Desktop\\studia\\Widzenie Komputerowe Projekt\\Predykcja_Karnych\\dataset\\karne_przerobione\\k9\\frame_0173.jpg: 352x512 1 ball, 1 person, 1 goal, 26.3ms\n",
      "image 175/217 C:\\Users\\user\\Desktop\\studia\\Widzenie Komputerowe Projekt\\Predykcja_Karnych\\dataset\\karne_przerobione\\k9\\frame_0174.jpg: 352x512 1 ball, 1 person, 1 goal, 27.9ms\n",
      "image 176/217 C:\\Users\\user\\Desktop\\studia\\Widzenie Komputerowe Projekt\\Predykcja_Karnych\\dataset\\karne_przerobione\\k9\\frame_0175.jpg: 352x512 1 ball, 1 person, 1 goal, 26.7ms\n",
      "image 177/217 C:\\Users\\user\\Desktop\\studia\\Widzenie Komputerowe Projekt\\Predykcja_Karnych\\dataset\\karne_przerobione\\k9\\frame_0176.jpg: 352x512 1 ball, 1 person, 1 goal, 24.8ms\n",
      "image 178/217 C:\\Users\\user\\Desktop\\studia\\Widzenie Komputerowe Projekt\\Predykcja_Karnych\\dataset\\karne_przerobione\\k9\\frame_0177.jpg: 352x512 1 ball, 1 person, 1 goal, 26.8ms\n",
      "image 179/217 C:\\Users\\user\\Desktop\\studia\\Widzenie Komputerowe Projekt\\Predykcja_Karnych\\dataset\\karne_przerobione\\k9\\frame_0178.jpg: 352x512 1 ball, 1 person, 1 goal, 25.5ms\n",
      "image 180/217 C:\\Users\\user\\Desktop\\studia\\Widzenie Komputerowe Projekt\\Predykcja_Karnych\\dataset\\karne_przerobione\\k9\\frame_0179.jpg: 352x512 1 ball, 1 person, 1 goal, 26.3ms\n",
      "image 181/217 C:\\Users\\user\\Desktop\\studia\\Widzenie Komputerowe Projekt\\Predykcja_Karnych\\dataset\\karne_przerobione\\k9\\frame_0180.jpg: 352x512 1 ball, 1 person, 1 goal, 24.8ms\n",
      "image 182/217 C:\\Users\\user\\Desktop\\studia\\Widzenie Komputerowe Projekt\\Predykcja_Karnych\\dataset\\karne_przerobione\\k9\\frame_0181.jpg: 352x512 1 ball, 1 person, 1 goal, 24.2ms\n",
      "image 183/217 C:\\Users\\user\\Desktop\\studia\\Widzenie Komputerowe Projekt\\Predykcja_Karnych\\dataset\\karne_przerobione\\k9\\frame_0182.jpg: 352x512 1 ball, 1 person, 1 goal, 25.8ms\n",
      "image 184/217 C:\\Users\\user\\Desktop\\studia\\Widzenie Komputerowe Projekt\\Predykcja_Karnych\\dataset\\karne_przerobione\\k9\\frame_0183.jpg: 352x512 1 person, 1 goal, 26.1ms\n",
      "image 185/217 C:\\Users\\user\\Desktop\\studia\\Widzenie Komputerowe Projekt\\Predykcja_Karnych\\dataset\\karne_przerobione\\k9\\frame_0184.jpg: 352x512 1 person, 1 goal, 26.6ms\n",
      "image 186/217 C:\\Users\\user\\Desktop\\studia\\Widzenie Komputerowe Projekt\\Predykcja_Karnych\\dataset\\karne_przerobione\\k9\\frame_0185.jpg: 352x512 1 person, 1 goal, 24.4ms\n",
      "image 187/217 C:\\Users\\user\\Desktop\\studia\\Widzenie Komputerowe Projekt\\Predykcja_Karnych\\dataset\\karne_przerobione\\k9\\frame_0186.jpg: 352x512 1 person, 1 goal, 24.5ms\n",
      "image 188/217 C:\\Users\\user\\Desktop\\studia\\Widzenie Komputerowe Projekt\\Predykcja_Karnych\\dataset\\karne_przerobione\\k9\\frame_0187.jpg: 352x512 1 person, 1 goal, 23.6ms\n",
      "image 189/217 C:\\Users\\user\\Desktop\\studia\\Widzenie Komputerowe Projekt\\Predykcja_Karnych\\dataset\\karne_przerobione\\k9\\frame_0188.jpg: 352x512 1 person, 1 goal, 24.5ms\n",
      "image 190/217 C:\\Users\\user\\Desktop\\studia\\Widzenie Komputerowe Projekt\\Predykcja_Karnych\\dataset\\karne_przerobione\\k9\\frame_0189.jpg: 352x512 1 person, 1 goal, 25.2ms\n",
      "image 191/217 C:\\Users\\user\\Desktop\\studia\\Widzenie Komputerowe Projekt\\Predykcja_Karnych\\dataset\\karne_przerobione\\k9\\frame_0190.jpg: 352x512 1 person, 1 goal, 24.7ms\n",
      "image 192/217 C:\\Users\\user\\Desktop\\studia\\Widzenie Komputerowe Projekt\\Predykcja_Karnych\\dataset\\karne_przerobione\\k9\\frame_0191.jpg: 352x512 1 person, 1 goal, 26.1ms\n",
      "image 193/217 C:\\Users\\user\\Desktop\\studia\\Widzenie Komputerowe Projekt\\Predykcja_Karnych\\dataset\\karne_przerobione\\k9\\frame_0192.jpg: 352x512 1 person, 1 goal, 26.4ms\n",
      "image 194/217 C:\\Users\\user\\Desktop\\studia\\Widzenie Komputerowe Projekt\\Predykcja_Karnych\\dataset\\karne_przerobione\\k9\\frame_0193.jpg: 352x512 1 ball, 1 person, 1 goal, 24.5ms\n",
      "image 195/217 C:\\Users\\user\\Desktop\\studia\\Widzenie Komputerowe Projekt\\Predykcja_Karnych\\dataset\\karne_przerobione\\k9\\frame_0194.jpg: 352x512 1 ball, 1 person, 1 goal, 26.4ms\n",
      "image 196/217 C:\\Users\\user\\Desktop\\studia\\Widzenie Komputerowe Projekt\\Predykcja_Karnych\\dataset\\karne_przerobione\\k9\\frame_0195.jpg: 352x512 2 balls, 1 person, 1 goal, 25.5ms\n",
      "image 197/217 C:\\Users\\user\\Desktop\\studia\\Widzenie Komputerowe Projekt\\Predykcja_Karnych\\dataset\\karne_przerobione\\k9\\frame_0196.jpg: 352x512 2 balls, 1 person, 1 goal, 26.1ms\n",
      "image 198/217 C:\\Users\\user\\Desktop\\studia\\Widzenie Komputerowe Projekt\\Predykcja_Karnych\\dataset\\karne_przerobione\\k9\\frame_0197.jpg: 352x512 2 balls, 1 person, 1 goal, 24.3ms\n",
      "image 199/217 C:\\Users\\user\\Desktop\\studia\\Widzenie Komputerowe Projekt\\Predykcja_Karnych\\dataset\\karne_przerobione\\k9\\frame_0198.jpg: 352x512 1 ball, 1 person, 1 goal, 25.2ms\n",
      "image 200/217 C:\\Users\\user\\Desktop\\studia\\Widzenie Komputerowe Projekt\\Predykcja_Karnych\\dataset\\karne_przerobione\\k9\\frame_0199.jpg: 352x512 1 ball, 1 person, 1 goal, 23.2ms\n",
      "image 201/217 C:\\Users\\user\\Desktop\\studia\\Widzenie Komputerowe Projekt\\Predykcja_Karnych\\dataset\\karne_przerobione\\k9\\frame_0200.jpg: 352x512 1 person, 1 goal, 25.0ms\n",
      "image 202/217 C:\\Users\\user\\Desktop\\studia\\Widzenie Komputerowe Projekt\\Predykcja_Karnych\\dataset\\karne_przerobione\\k9\\frame_0201.jpg: 352x512 1 person, 1 goal, 23.4ms\n",
      "image 203/217 C:\\Users\\user\\Desktop\\studia\\Widzenie Komputerowe Projekt\\Predykcja_Karnych\\dataset\\karne_przerobione\\k9\\frame_0202.jpg: 352x512 1 person, 1 goal, 25.2ms\n",
      "image 204/217 C:\\Users\\user\\Desktop\\studia\\Widzenie Komputerowe Projekt\\Predykcja_Karnych\\dataset\\karne_przerobione\\k9\\frame_0203.jpg: 352x512 1 person, 1 goal, 24.0ms\n",
      "image 205/217 C:\\Users\\user\\Desktop\\studia\\Widzenie Komputerowe Projekt\\Predykcja_Karnych\\dataset\\karne_przerobione\\k9\\frame_0204.jpg: 352x512 1 person, 1 goal, 25.8ms\n",
      "image 206/217 C:\\Users\\user\\Desktop\\studia\\Widzenie Komputerowe Projekt\\Predykcja_Karnych\\dataset\\karne_przerobione\\k9\\frame_0205.jpg: 352x512 1 person, 1 goal, 28.9ms\n",
      "image 207/217 C:\\Users\\user\\Desktop\\studia\\Widzenie Komputerowe Projekt\\Predykcja_Karnych\\dataset\\karne_przerobione\\k9\\frame_0206.jpg: 352x512 1 person, 1 goal, 28.0ms\n",
      "image 208/217 C:\\Users\\user\\Desktop\\studia\\Widzenie Komputerowe Projekt\\Predykcja_Karnych\\dataset\\karne_przerobione\\k9\\frame_0207.jpg: 352x512 1 person, 1 goal, 23.2ms\n",
      "image 209/217 C:\\Users\\user\\Desktop\\studia\\Widzenie Komputerowe Projekt\\Predykcja_Karnych\\dataset\\karne_przerobione\\k9\\frame_0208.jpg: 352x512 1 person, 1 goal, 25.2ms\n",
      "image 210/217 C:\\Users\\user\\Desktop\\studia\\Widzenie Komputerowe Projekt\\Predykcja_Karnych\\dataset\\karne_przerobione\\k9\\frame_0209.jpg: 352x512 1 person, 1 goal, 24.5ms\n",
      "image 211/217 C:\\Users\\user\\Desktop\\studia\\Widzenie Komputerowe Projekt\\Predykcja_Karnych\\dataset\\karne_przerobione\\k9\\frame_0210.jpg: 352x512 1 person, 1 goal, 23.9ms\n",
      "image 212/217 C:\\Users\\user\\Desktop\\studia\\Widzenie Komputerowe Projekt\\Predykcja_Karnych\\dataset\\karne_przerobione\\k9\\frame_0211.jpg: 352x512 1 person, 1 goal, 24.3ms\n",
      "image 213/217 C:\\Users\\user\\Desktop\\studia\\Widzenie Komputerowe Projekt\\Predykcja_Karnych\\dataset\\karne_przerobione\\k9\\frame_0212.jpg: 352x512 1 person, 1 goal, 24.0ms\n",
      "image 214/217 C:\\Users\\user\\Desktop\\studia\\Widzenie Komputerowe Projekt\\Predykcja_Karnych\\dataset\\karne_przerobione\\k9\\frame_0213.jpg: 352x512 1 person, 1 goal, 25.6ms\n",
      "image 215/217 C:\\Users\\user\\Desktop\\studia\\Widzenie Komputerowe Projekt\\Predykcja_Karnych\\dataset\\karne_przerobione\\k9\\frame_0214.jpg: 352x512 1 person, 1 goal, 24.6ms\n",
      "image 216/217 C:\\Users\\user\\Desktop\\studia\\Widzenie Komputerowe Projekt\\Predykcja_Karnych\\dataset\\karne_przerobione\\k9\\frame_0215.jpg: 352x512 1 person, 1 goal, 39.0ms\n",
      "image 217/217 C:\\Users\\user\\Desktop\\studia\\Widzenie Komputerowe Projekt\\Predykcja_Karnych\\dataset\\karne_przerobione\\k9\\frame_0216.jpg: 352x512 1 person, 1 goal, 26.7ms\n",
      "Speed: 1.3ms preprocess, 27.2ms inference, 0.5ms postprocess per image at shape (1, 3, 352, 512)\n",
      "Results saved to \u001B[1mC:\\Users\\user\\Desktop\\studia\\Widzenie Komputerowe Projekt\\Predykcja_Karnych\\runs\\detect\\predict_k9\\predict2\u001B[0m\n",
      "Przetwarzanie folderu: k10...\n",
      "\n",
      "image 1/129 C:\\Users\\user\\Desktop\\studia\\Widzenie Komputerowe Projekt\\Predykcja_Karnych\\dataset\\karne_przerobione\\k10\\frame_0000.jpg: 352x512 1 ball, 1 person, 1 goal, 24.3ms\n",
      "image 2/129 C:\\Users\\user\\Desktop\\studia\\Widzenie Komputerowe Projekt\\Predykcja_Karnych\\dataset\\karne_przerobione\\k10\\frame_0001.jpg: 352x512 1 ball, 1 person, 1 goal, 24.2ms\n",
      "image 3/129 C:\\Users\\user\\Desktop\\studia\\Widzenie Komputerowe Projekt\\Predykcja_Karnych\\dataset\\karne_przerobione\\k10\\frame_0002.jpg: 352x512 1 ball, 1 person, 1 goal, 24.9ms\n",
      "image 4/129 C:\\Users\\user\\Desktop\\studia\\Widzenie Komputerowe Projekt\\Predykcja_Karnych\\dataset\\karne_przerobione\\k10\\frame_0003.jpg: 352x512 1 ball, 1 person, 1 goal, 47.6ms\n",
      "image 5/129 C:\\Users\\user\\Desktop\\studia\\Widzenie Komputerowe Projekt\\Predykcja_Karnych\\dataset\\karne_przerobione\\k10\\frame_0004.jpg: 352x512 1 ball, 1 person, 1 goal, 33.9ms\n",
      "image 6/129 C:\\Users\\user\\Desktop\\studia\\Widzenie Komputerowe Projekt\\Predykcja_Karnych\\dataset\\karne_przerobione\\k10\\frame_0005.jpg: 352x512 1 ball, 1 person, 1 goal, 44.6ms\n",
      "image 7/129 C:\\Users\\user\\Desktop\\studia\\Widzenie Komputerowe Projekt\\Predykcja_Karnych\\dataset\\karne_przerobione\\k10\\frame_0006.jpg: 352x512 1 ball, 1 person, 1 goal, 36.0ms\n",
      "image 8/129 C:\\Users\\user\\Desktop\\studia\\Widzenie Komputerowe Projekt\\Predykcja_Karnych\\dataset\\karne_przerobione\\k10\\frame_0007.jpg: 352x512 1 ball, 1 person, 1 goal, 25.8ms\n",
      "image 9/129 C:\\Users\\user\\Desktop\\studia\\Widzenie Komputerowe Projekt\\Predykcja_Karnych\\dataset\\karne_przerobione\\k10\\frame_0008.jpg: 352x512 1 ball, 1 person, 1 goal, 23.6ms\n",
      "image 10/129 C:\\Users\\user\\Desktop\\studia\\Widzenie Komputerowe Projekt\\Predykcja_Karnych\\dataset\\karne_przerobione\\k10\\frame_0009.jpg: 352x512 1 ball, 1 person, 1 goal, 23.8ms\n",
      "image 11/129 C:\\Users\\user\\Desktop\\studia\\Widzenie Komputerowe Projekt\\Predykcja_Karnych\\dataset\\karne_przerobione\\k10\\frame_0010.jpg: 352x512 1 ball, 1 person, 1 goal, 26.6ms\n",
      "image 12/129 C:\\Users\\user\\Desktop\\studia\\Widzenie Komputerowe Projekt\\Predykcja_Karnych\\dataset\\karne_przerobione\\k10\\frame_0011.jpg: 352x512 1 ball, 1 person, 1 goal, 25.0ms\n",
      "image 13/129 C:\\Users\\user\\Desktop\\studia\\Widzenie Komputerowe Projekt\\Predykcja_Karnych\\dataset\\karne_przerobione\\k10\\frame_0012.jpg: 352x512 1 ball, 1 person, 1 goal, 26.6ms\n",
      "image 14/129 C:\\Users\\user\\Desktop\\studia\\Widzenie Komputerowe Projekt\\Predykcja_Karnych\\dataset\\karne_przerobione\\k10\\frame_0013.jpg: 352x512 1 ball, 1 person, 1 goal, 25.7ms\n",
      "image 15/129 C:\\Users\\user\\Desktop\\studia\\Widzenie Komputerowe Projekt\\Predykcja_Karnych\\dataset\\karne_przerobione\\k10\\frame_0014.jpg: 352x512 1 ball, 1 person, 1 goal, 26.3ms\n",
      "image 16/129 C:\\Users\\user\\Desktop\\studia\\Widzenie Komputerowe Projekt\\Predykcja_Karnych\\dataset\\karne_przerobione\\k10\\frame_0015.jpg: 352x512 1 ball, 1 person, 1 goal, 24.2ms\n",
      "image 17/129 C:\\Users\\user\\Desktop\\studia\\Widzenie Komputerowe Projekt\\Predykcja_Karnych\\dataset\\karne_przerobione\\k10\\frame_0016.jpg: 352x512 1 ball, 1 person, 1 goal, 31.0ms\n",
      "image 18/129 C:\\Users\\user\\Desktop\\studia\\Widzenie Komputerowe Projekt\\Predykcja_Karnych\\dataset\\karne_przerobione\\k10\\frame_0017.jpg: 352x512 1 ball, 1 person, 1 goal, 26.7ms\n",
      "image 19/129 C:\\Users\\user\\Desktop\\studia\\Widzenie Komputerowe Projekt\\Predykcja_Karnych\\dataset\\karne_przerobione\\k10\\frame_0018.jpg: 352x512 1 ball, 1 person, 1 goal, 26.1ms\n",
      "image 20/129 C:\\Users\\user\\Desktop\\studia\\Widzenie Komputerowe Projekt\\Predykcja_Karnych\\dataset\\karne_przerobione\\k10\\frame_0019.jpg: 352x512 1 ball, 1 person, 1 goal, 26.9ms\n",
      "image 21/129 C:\\Users\\user\\Desktop\\studia\\Widzenie Komputerowe Projekt\\Predykcja_Karnych\\dataset\\karne_przerobione\\k10\\frame_0020.jpg: 352x512 1 ball, 1 person, 1 goal, 27.0ms\n",
      "image 22/129 C:\\Users\\user\\Desktop\\studia\\Widzenie Komputerowe Projekt\\Predykcja_Karnych\\dataset\\karne_przerobione\\k10\\frame_0021.jpg: 352x512 1 ball, 1 person, 1 goal, 27.7ms\n",
      "image 23/129 C:\\Users\\user\\Desktop\\studia\\Widzenie Komputerowe Projekt\\Predykcja_Karnych\\dataset\\karne_przerobione\\k10\\frame_0022.jpg: 352x512 1 ball, 1 person, 1 goal, 24.2ms\n",
      "image 24/129 C:\\Users\\user\\Desktop\\studia\\Widzenie Komputerowe Projekt\\Predykcja_Karnych\\dataset\\karne_przerobione\\k10\\frame_0023.jpg: 352x512 1 ball, 1 person, 1 goal, 25.8ms\n",
      "image 25/129 C:\\Users\\user\\Desktop\\studia\\Widzenie Komputerowe Projekt\\Predykcja_Karnych\\dataset\\karne_przerobione\\k10\\frame_0024.jpg: 352x512 1 ball, 1 person, 1 goal, 25.7ms\n",
      "image 26/129 C:\\Users\\user\\Desktop\\studia\\Widzenie Komputerowe Projekt\\Predykcja_Karnych\\dataset\\karne_przerobione\\k10\\frame_0025.jpg: 352x512 1 ball, 1 person, 1 goal, 30.8ms\n",
      "image 27/129 C:\\Users\\user\\Desktop\\studia\\Widzenie Komputerowe Projekt\\Predykcja_Karnych\\dataset\\karne_przerobione\\k10\\frame_0026.jpg: 352x512 1 ball, 1 person, 1 goal, 25.0ms\n",
      "image 28/129 C:\\Users\\user\\Desktop\\studia\\Widzenie Komputerowe Projekt\\Predykcja_Karnych\\dataset\\karne_przerobione\\k10\\frame_0027.jpg: 352x512 1 ball, 1 person, 1 goal, 26.0ms\n",
      "image 29/129 C:\\Users\\user\\Desktop\\studia\\Widzenie Komputerowe Projekt\\Predykcja_Karnych\\dataset\\karne_przerobione\\k10\\frame_0028.jpg: 352x512 1 ball, 1 person, 1 goal, 26.2ms\n",
      "image 30/129 C:\\Users\\user\\Desktop\\studia\\Widzenie Komputerowe Projekt\\Predykcja_Karnych\\dataset\\karne_przerobione\\k10\\frame_0029.jpg: 352x512 1 ball, 1 person, 1 goal, 25.6ms\n",
      "image 31/129 C:\\Users\\user\\Desktop\\studia\\Widzenie Komputerowe Projekt\\Predykcja_Karnych\\dataset\\karne_przerobione\\k10\\frame_0030.jpg: 352x512 1 ball, 1 person, 1 goal, 25.3ms\n",
      "image 32/129 C:\\Users\\user\\Desktop\\studia\\Widzenie Komputerowe Projekt\\Predykcja_Karnych\\dataset\\karne_przerobione\\k10\\frame_0031.jpg: 352x512 1 ball, 1 person, 1 goal, 24.7ms\n",
      "image 33/129 C:\\Users\\user\\Desktop\\studia\\Widzenie Komputerowe Projekt\\Predykcja_Karnych\\dataset\\karne_przerobione\\k10\\frame_0032.jpg: 352x512 1 ball, 1 person, 1 goal, 26.1ms\n",
      "image 34/129 C:\\Users\\user\\Desktop\\studia\\Widzenie Komputerowe Projekt\\Predykcja_Karnych\\dataset\\karne_przerobione\\k10\\frame_0033.jpg: 352x512 1 ball, 1 person, 1 goal, 25.1ms\n",
      "image 35/129 C:\\Users\\user\\Desktop\\studia\\Widzenie Komputerowe Projekt\\Predykcja_Karnych\\dataset\\karne_przerobione\\k10\\frame_0034.jpg: 352x512 1 ball, 1 person, 1 goal, 25.5ms\n",
      "image 36/129 C:\\Users\\user\\Desktop\\studia\\Widzenie Komputerowe Projekt\\Predykcja_Karnych\\dataset\\karne_przerobione\\k10\\frame_0035.jpg: 352x512 1 ball, 1 person, 1 goal, 24.9ms\n",
      "image 37/129 C:\\Users\\user\\Desktop\\studia\\Widzenie Komputerowe Projekt\\Predykcja_Karnych\\dataset\\karne_przerobione\\k10\\frame_0036.jpg: 352x512 1 ball, 1 person, 1 goal, 24.9ms\n",
      "image 38/129 C:\\Users\\user\\Desktop\\studia\\Widzenie Komputerowe Projekt\\Predykcja_Karnych\\dataset\\karne_przerobione\\k10\\frame_0037.jpg: 352x512 1 ball, 1 person, 1 goal, 24.6ms\n",
      "image 39/129 C:\\Users\\user\\Desktop\\studia\\Widzenie Komputerowe Projekt\\Predykcja_Karnych\\dataset\\karne_przerobione\\k10\\frame_0038.jpg: 352x512 1 ball, 1 person, 1 goal, 27.1ms\n",
      "image 40/129 C:\\Users\\user\\Desktop\\studia\\Widzenie Komputerowe Projekt\\Predykcja_Karnych\\dataset\\karne_przerobione\\k10\\frame_0039.jpg: 352x512 1 ball, 1 person, 1 goal, 25.5ms\n",
      "image 41/129 C:\\Users\\user\\Desktop\\studia\\Widzenie Komputerowe Projekt\\Predykcja_Karnych\\dataset\\karne_przerobione\\k10\\frame_0040.jpg: 352x512 1 ball, 1 person, 1 goal, 25.1ms\n",
      "image 42/129 C:\\Users\\user\\Desktop\\studia\\Widzenie Komputerowe Projekt\\Predykcja_Karnych\\dataset\\karne_przerobione\\k10\\frame_0041.jpg: 352x512 1 ball, 1 person, 1 goal, 25.9ms\n",
      "image 43/129 C:\\Users\\user\\Desktop\\studia\\Widzenie Komputerowe Projekt\\Predykcja_Karnych\\dataset\\karne_przerobione\\k10\\frame_0042.jpg: 352x512 1 ball, 1 person, 1 goal, 24.1ms\n",
      "image 44/129 C:\\Users\\user\\Desktop\\studia\\Widzenie Komputerowe Projekt\\Predykcja_Karnych\\dataset\\karne_przerobione\\k10\\frame_0043.jpg: 352x512 1 ball, 1 person, 1 goal, 26.1ms\n",
      "image 45/129 C:\\Users\\user\\Desktop\\studia\\Widzenie Komputerowe Projekt\\Predykcja_Karnych\\dataset\\karne_przerobione\\k10\\frame_0044.jpg: 352x512 1 ball, 1 person, 1 goal, 27.0ms\n",
      "image 46/129 C:\\Users\\user\\Desktop\\studia\\Widzenie Komputerowe Projekt\\Predykcja_Karnych\\dataset\\karne_przerobione\\k10\\frame_0045.jpg: 352x512 1 ball, 1 person, 1 goal, 23.3ms\n",
      "image 47/129 C:\\Users\\user\\Desktop\\studia\\Widzenie Komputerowe Projekt\\Predykcja_Karnych\\dataset\\karne_przerobione\\k10\\frame_0046.jpg: 352x512 1 ball, 1 person, 1 goal, 25.2ms\n",
      "image 48/129 C:\\Users\\user\\Desktop\\studia\\Widzenie Komputerowe Projekt\\Predykcja_Karnych\\dataset\\karne_przerobione\\k10\\frame_0047.jpg: 352x512 1 ball, 1 person, 1 goal, 26.4ms\n",
      "image 49/129 C:\\Users\\user\\Desktop\\studia\\Widzenie Komputerowe Projekt\\Predykcja_Karnych\\dataset\\karne_przerobione\\k10\\frame_0048.jpg: 352x512 1 ball, 1 person, 1 goal, 24.6ms\n",
      "image 50/129 C:\\Users\\user\\Desktop\\studia\\Widzenie Komputerowe Projekt\\Predykcja_Karnych\\dataset\\karne_przerobione\\k10\\frame_0049.jpg: 352x512 1 ball, 1 person, 1 goal, 25.8ms\n",
      "image 51/129 C:\\Users\\user\\Desktop\\studia\\Widzenie Komputerowe Projekt\\Predykcja_Karnych\\dataset\\karne_przerobione\\k10\\frame_0050.jpg: 352x512 1 ball, 1 person, 1 goal, 24.3ms\n",
      "image 52/129 C:\\Users\\user\\Desktop\\studia\\Widzenie Komputerowe Projekt\\Predykcja_Karnych\\dataset\\karne_przerobione\\k10\\frame_0051.jpg: 352x512 1 ball, 1 person, 1 goal, 24.6ms\n",
      "image 53/129 C:\\Users\\user\\Desktop\\studia\\Widzenie Komputerowe Projekt\\Predykcja_Karnych\\dataset\\karne_przerobione\\k10\\frame_0052.jpg: 352x512 1 ball, 1 person, 1 goal, 23.7ms\n",
      "image 54/129 C:\\Users\\user\\Desktop\\studia\\Widzenie Komputerowe Projekt\\Predykcja_Karnych\\dataset\\karne_przerobione\\k10\\frame_0053.jpg: 352x512 1 ball, 1 person, 1 goal, 26.8ms\n",
      "image 55/129 C:\\Users\\user\\Desktop\\studia\\Widzenie Komputerowe Projekt\\Predykcja_Karnych\\dataset\\karne_przerobione\\k10\\frame_0054.jpg: 352x512 1 ball, 1 person, 1 goal, 25.0ms\n",
      "image 56/129 C:\\Users\\user\\Desktop\\studia\\Widzenie Komputerowe Projekt\\Predykcja_Karnych\\dataset\\karne_przerobione\\k10\\frame_0055.jpg: 352x512 1 ball, 1 person, 1 goal, 24.7ms\n",
      "image 57/129 C:\\Users\\user\\Desktop\\studia\\Widzenie Komputerowe Projekt\\Predykcja_Karnych\\dataset\\karne_przerobione\\k10\\frame_0056.jpg: 352x512 1 ball, 1 person, 1 goal, 25.2ms\n",
      "image 58/129 C:\\Users\\user\\Desktop\\studia\\Widzenie Komputerowe Projekt\\Predykcja_Karnych\\dataset\\karne_przerobione\\k10\\frame_0057.jpg: 352x512 1 ball, 1 person, 1 goal, 24.2ms\n",
      "image 59/129 C:\\Users\\user\\Desktop\\studia\\Widzenie Komputerowe Projekt\\Predykcja_Karnych\\dataset\\karne_przerobione\\k10\\frame_0058.jpg: 352x512 1 ball, 1 person, 1 goal, 26.0ms\n",
      "image 60/129 C:\\Users\\user\\Desktop\\studia\\Widzenie Komputerowe Projekt\\Predykcja_Karnych\\dataset\\karne_przerobione\\k10\\frame_0059.jpg: 352x512 1 ball, 1 person, 1 goal, 25.2ms\n",
      "image 61/129 C:\\Users\\user\\Desktop\\studia\\Widzenie Komputerowe Projekt\\Predykcja_Karnych\\dataset\\karne_przerobione\\k10\\frame_0060.jpg: 352x512 1 ball, 1 person, 1 goal, 45.6ms\n",
      "image 62/129 C:\\Users\\user\\Desktop\\studia\\Widzenie Komputerowe Projekt\\Predykcja_Karnych\\dataset\\karne_przerobione\\k10\\frame_0061.jpg: 352x512 1 ball, 1 person, 1 goal, 26.1ms\n",
      "image 63/129 C:\\Users\\user\\Desktop\\studia\\Widzenie Komputerowe Projekt\\Predykcja_Karnych\\dataset\\karne_przerobione\\k10\\frame_0062.jpg: 352x512 1 ball, 1 person, 1 goal, 25.5ms\n",
      "image 64/129 C:\\Users\\user\\Desktop\\studia\\Widzenie Komputerowe Projekt\\Predykcja_Karnych\\dataset\\karne_przerobione\\k10\\frame_0063.jpg: 352x512 1 ball, 1 person, 1 goal, 25.2ms\n",
      "image 65/129 C:\\Users\\user\\Desktop\\studia\\Widzenie Komputerowe Projekt\\Predykcja_Karnych\\dataset\\karne_przerobione\\k10\\frame_0064.jpg: 352x512 1 ball, 1 person, 1 goal, 24.0ms\n",
      "image 66/129 C:\\Users\\user\\Desktop\\studia\\Widzenie Komputerowe Projekt\\Predykcja_Karnych\\dataset\\karne_przerobione\\k10\\frame_0065.jpg: 352x512 1 ball, 1 person, 1 goal, 41.4ms\n",
      "image 67/129 C:\\Users\\user\\Desktop\\studia\\Widzenie Komputerowe Projekt\\Predykcja_Karnych\\dataset\\karne_przerobione\\k10\\frame_0066.jpg: 352x512 1 ball, 1 person, 1 goal, 31.3ms\n",
      "image 68/129 C:\\Users\\user\\Desktop\\studia\\Widzenie Komputerowe Projekt\\Predykcja_Karnych\\dataset\\karne_przerobione\\k10\\frame_0067.jpg: 352x512 1 ball, 1 person, 1 goal, 29.6ms\n",
      "image 69/129 C:\\Users\\user\\Desktop\\studia\\Widzenie Komputerowe Projekt\\Predykcja_Karnych\\dataset\\karne_przerobione\\k10\\frame_0068.jpg: 352x512 1 ball, 1 person, 1 goal, 26.7ms\n",
      "image 70/129 C:\\Users\\user\\Desktop\\studia\\Widzenie Komputerowe Projekt\\Predykcja_Karnych\\dataset\\karne_przerobione\\k10\\frame_0069.jpg: 352x512 1 ball, 1 person, 1 goal, 30.4ms\n",
      "image 71/129 C:\\Users\\user\\Desktop\\studia\\Widzenie Komputerowe Projekt\\Predykcja_Karnych\\dataset\\karne_przerobione\\k10\\frame_0070.jpg: 352x512 1 ball, 1 person, 1 goal, 24.6ms\n",
      "image 72/129 C:\\Users\\user\\Desktop\\studia\\Widzenie Komputerowe Projekt\\Predykcja_Karnych\\dataset\\karne_przerobione\\k10\\frame_0071.jpg: 352x512 1 ball, 1 person, 1 goal, 26.8ms\n",
      "image 73/129 C:\\Users\\user\\Desktop\\studia\\Widzenie Komputerowe Projekt\\Predykcja_Karnych\\dataset\\karne_przerobione\\k10\\frame_0072.jpg: 352x512 1 ball, 1 person, 1 goal, 37.6ms\n",
      "image 74/129 C:\\Users\\user\\Desktop\\studia\\Widzenie Komputerowe Projekt\\Predykcja_Karnych\\dataset\\karne_przerobione\\k10\\frame_0073.jpg: 352x512 1 ball, 1 person, 1 goal, 37.5ms\n",
      "image 75/129 C:\\Users\\user\\Desktop\\studia\\Widzenie Komputerowe Projekt\\Predykcja_Karnych\\dataset\\karne_przerobione\\k10\\frame_0074.jpg: 352x512 1 ball, 1 person, 1 goal, 34.0ms\n",
      "image 76/129 C:\\Users\\user\\Desktop\\studia\\Widzenie Komputerowe Projekt\\Predykcja_Karnych\\dataset\\karne_przerobione\\k10\\frame_0075.jpg: 352x512 1 ball, 1 person, 1 goal, 45.6ms\n",
      "image 77/129 C:\\Users\\user\\Desktop\\studia\\Widzenie Komputerowe Projekt\\Predykcja_Karnych\\dataset\\karne_przerobione\\k10\\frame_0076.jpg: 352x512 1 ball, 1 person, 1 goal, 38.1ms\n",
      "image 78/129 C:\\Users\\user\\Desktop\\studia\\Widzenie Komputerowe Projekt\\Predykcja_Karnych\\dataset\\karne_przerobione\\k10\\frame_0077.jpg: 352x512 1 ball, 1 person, 1 goal, 47.2ms\n",
      "image 79/129 C:\\Users\\user\\Desktop\\studia\\Widzenie Komputerowe Projekt\\Predykcja_Karnych\\dataset\\karne_przerobione\\k10\\frame_0078.jpg: 352x512 1 ball, 1 person, 1 goal, 25.0ms\n",
      "image 80/129 C:\\Users\\user\\Desktop\\studia\\Widzenie Komputerowe Projekt\\Predykcja_Karnych\\dataset\\karne_przerobione\\k10\\frame_0079.jpg: 352x512 1 ball, 1 person, 1 goal, 24.4ms\n",
      "image 81/129 C:\\Users\\user\\Desktop\\studia\\Widzenie Komputerowe Projekt\\Predykcja_Karnych\\dataset\\karne_przerobione\\k10\\frame_0080.jpg: 352x512 1 ball, 1 person, 1 goal, 24.6ms\n",
      "image 82/129 C:\\Users\\user\\Desktop\\studia\\Widzenie Komputerowe Projekt\\Predykcja_Karnych\\dataset\\karne_przerobione\\k10\\frame_0081.jpg: 352x512 1 ball, 1 person, 1 goal, 25.0ms\n",
      "image 83/129 C:\\Users\\user\\Desktop\\studia\\Widzenie Komputerowe Projekt\\Predykcja_Karnych\\dataset\\karne_przerobione\\k10\\frame_0082.jpg: 352x512 1 ball, 1 person, 1 goal, 25.0ms\n",
      "image 84/129 C:\\Users\\user\\Desktop\\studia\\Widzenie Komputerowe Projekt\\Predykcja_Karnych\\dataset\\karne_przerobione\\k10\\frame_0083.jpg: 352x512 1 ball, 1 person, 1 goal, 24.9ms\n",
      "image 85/129 C:\\Users\\user\\Desktop\\studia\\Widzenie Komputerowe Projekt\\Predykcja_Karnych\\dataset\\karne_przerobione\\k10\\frame_0084.jpg: 352x512 1 ball, 1 person, 1 goal, 26.3ms\n",
      "image 86/129 C:\\Users\\user\\Desktop\\studia\\Widzenie Komputerowe Projekt\\Predykcja_Karnych\\dataset\\karne_przerobione\\k10\\frame_0085.jpg: 352x512 1 ball, 1 person, 1 goal, 24.3ms\n",
      "image 87/129 C:\\Users\\user\\Desktop\\studia\\Widzenie Komputerowe Projekt\\Predykcja_Karnych\\dataset\\karne_przerobione\\k10\\frame_0086.jpg: 352x512 1 ball, 1 person, 1 goal, 24.7ms\n",
      "image 88/129 C:\\Users\\user\\Desktop\\studia\\Widzenie Komputerowe Projekt\\Predykcja_Karnych\\dataset\\karne_przerobione\\k10\\frame_0087.jpg: 352x512 1 ball, 1 person, 1 goal, 23.2ms\n",
      "image 89/129 C:\\Users\\user\\Desktop\\studia\\Widzenie Komputerowe Projekt\\Predykcja_Karnych\\dataset\\karne_przerobione\\k10\\frame_0088.jpg: 352x512 1 ball, 1 person, 1 goal, 29.7ms\n",
      "image 90/129 C:\\Users\\user\\Desktop\\studia\\Widzenie Komputerowe Projekt\\Predykcja_Karnych\\dataset\\karne_przerobione\\k10\\frame_0089.jpg: 352x512 1 ball, 1 person, 1 goal, 26.1ms\n",
      "image 91/129 C:\\Users\\user\\Desktop\\studia\\Widzenie Komputerowe Projekt\\Predykcja_Karnych\\dataset\\karne_przerobione\\k10\\frame_0090.jpg: 352x512 1 ball, 1 person, 1 goal, 26.4ms\n",
      "image 92/129 C:\\Users\\user\\Desktop\\studia\\Widzenie Komputerowe Projekt\\Predykcja_Karnych\\dataset\\karne_przerobione\\k10\\frame_0091.jpg: 352x512 1 ball, 1 person, 1 goal, 24.1ms\n",
      "image 93/129 C:\\Users\\user\\Desktop\\studia\\Widzenie Komputerowe Projekt\\Predykcja_Karnych\\dataset\\karne_przerobione\\k10\\frame_0092.jpg: 352x512 1 ball, 1 person, 1 goal, 24.9ms\n",
      "image 94/129 C:\\Users\\user\\Desktop\\studia\\Widzenie Komputerowe Projekt\\Predykcja_Karnych\\dataset\\karne_przerobione\\k10\\frame_0093.jpg: 352x512 1 ball, 1 person, 1 goal, 26.3ms\n",
      "image 95/129 C:\\Users\\user\\Desktop\\studia\\Widzenie Komputerowe Projekt\\Predykcja_Karnych\\dataset\\karne_przerobione\\k10\\frame_0094.jpg: 352x512 1 ball, 1 person, 1 goal, 27.8ms\n",
      "image 96/129 C:\\Users\\user\\Desktop\\studia\\Widzenie Komputerowe Projekt\\Predykcja_Karnych\\dataset\\karne_przerobione\\k10\\frame_0095.jpg: 352x512 1 ball, 1 person, 1 goal, 25.6ms\n",
      "image 97/129 C:\\Users\\user\\Desktop\\studia\\Widzenie Komputerowe Projekt\\Predykcja_Karnych\\dataset\\karne_przerobione\\k10\\frame_0096.jpg: 352x512 1 ball, 1 person, 1 goal, 24.2ms\n",
      "image 98/129 C:\\Users\\user\\Desktop\\studia\\Widzenie Komputerowe Projekt\\Predykcja_Karnych\\dataset\\karne_przerobione\\k10\\frame_0097.jpg: 352x512 1 ball, 1 person, 1 goal, 23.3ms\n",
      "image 99/129 C:\\Users\\user\\Desktop\\studia\\Widzenie Komputerowe Projekt\\Predykcja_Karnych\\dataset\\karne_przerobione\\k10\\frame_0098.jpg: 352x512 1 person, 1 goal, 26.5ms\n",
      "image 100/129 C:\\Users\\user\\Desktop\\studia\\Widzenie Komputerowe Projekt\\Predykcja_Karnych\\dataset\\karne_przerobione\\k10\\frame_0099.jpg: 352x512 1 person, 1 goal, 24.3ms\n",
      "image 101/129 C:\\Users\\user\\Desktop\\studia\\Widzenie Komputerowe Projekt\\Predykcja_Karnych\\dataset\\karne_przerobione\\k10\\frame_0100.jpg: 352x512 1 person, 1 goal, 26.9ms\n",
      "image 102/129 C:\\Users\\user\\Desktop\\studia\\Widzenie Komputerowe Projekt\\Predykcja_Karnych\\dataset\\karne_przerobione\\k10\\frame_0101.jpg: 352x512 1 person, 1 goal, 25.5ms\n",
      "image 103/129 C:\\Users\\user\\Desktop\\studia\\Widzenie Komputerowe Projekt\\Predykcja_Karnych\\dataset\\karne_przerobione\\k10\\frame_0102.jpg: 352x512 1 person, 1 goal, 24.6ms\n",
      "image 104/129 C:\\Users\\user\\Desktop\\studia\\Widzenie Komputerowe Projekt\\Predykcja_Karnych\\dataset\\karne_przerobione\\k10\\frame_0103.jpg: 352x512 1 person, 1 goal, 23.5ms\n",
      "image 105/129 C:\\Users\\user\\Desktop\\studia\\Widzenie Komputerowe Projekt\\Predykcja_Karnych\\dataset\\karne_przerobione\\k10\\frame_0104.jpg: 352x512 1 person, 1 goal, 26.5ms\n",
      "image 106/129 C:\\Users\\user\\Desktop\\studia\\Widzenie Komputerowe Projekt\\Predykcja_Karnych\\dataset\\karne_przerobione\\k10\\frame_0105.jpg: 352x512 1 person, 1 goal, 24.7ms\n",
      "image 107/129 C:\\Users\\user\\Desktop\\studia\\Widzenie Komputerowe Projekt\\Predykcja_Karnych\\dataset\\karne_przerobione\\k10\\frame_0106.jpg: 352x512 1 person, 1 goal, 24.9ms\n",
      "image 108/129 C:\\Users\\user\\Desktop\\studia\\Widzenie Komputerowe Projekt\\Predykcja_Karnych\\dataset\\karne_przerobione\\k10\\frame_0107.jpg: 352x512 1 person, 1 goal, 26.3ms\n",
      "image 109/129 C:\\Users\\user\\Desktop\\studia\\Widzenie Komputerowe Projekt\\Predykcja_Karnych\\dataset\\karne_przerobione\\k10\\frame_0108.jpg: 352x512 1 ball, 1 person, 1 goal, 27.3ms\n",
      "image 110/129 C:\\Users\\user\\Desktop\\studia\\Widzenie Komputerowe Projekt\\Predykcja_Karnych\\dataset\\karne_przerobione\\k10\\frame_0109.jpg: 352x512 1 ball, 1 person, 1 goal, 26.9ms\n",
      "image 111/129 C:\\Users\\user\\Desktop\\studia\\Widzenie Komputerowe Projekt\\Predykcja_Karnych\\dataset\\karne_przerobione\\k10\\frame_0110.jpg: 352x512 1 ball, 1 person, 1 goal, 26.1ms\n",
      "image 112/129 C:\\Users\\user\\Desktop\\studia\\Widzenie Komputerowe Projekt\\Predykcja_Karnych\\dataset\\karne_przerobione\\k10\\frame_0111.jpg: 352x512 1 ball, 1 person, 1 goal, 26.2ms\n",
      "image 113/129 C:\\Users\\user\\Desktop\\studia\\Widzenie Komputerowe Projekt\\Predykcja_Karnych\\dataset\\karne_przerobione\\k10\\frame_0112.jpg: 352x512 1 ball, 1 person, 1 goal, 29.3ms\n",
      "image 114/129 C:\\Users\\user\\Desktop\\studia\\Widzenie Komputerowe Projekt\\Predykcja_Karnych\\dataset\\karne_przerobione\\k10\\frame_0113.jpg: 352x512 1 ball, 1 person, 1 goal, 27.6ms\n",
      "image 115/129 C:\\Users\\user\\Desktop\\studia\\Widzenie Komputerowe Projekt\\Predykcja_Karnych\\dataset\\karne_przerobione\\k10\\frame_0114.jpg: 352x512 1 ball, 1 person, 1 goal, 23.7ms\n",
      "image 116/129 C:\\Users\\user\\Desktop\\studia\\Widzenie Komputerowe Projekt\\Predykcja_Karnych\\dataset\\karne_przerobione\\k10\\frame_0115.jpg: 352x512 1 ball, 1 person, 1 goal, 25.5ms\n",
      "image 117/129 C:\\Users\\user\\Desktop\\studia\\Widzenie Komputerowe Projekt\\Predykcja_Karnych\\dataset\\karne_przerobione\\k10\\frame_0116.jpg: 352x512 1 ball, 1 person, 1 goal, 27.4ms\n",
      "image 118/129 C:\\Users\\user\\Desktop\\studia\\Widzenie Komputerowe Projekt\\Predykcja_Karnych\\dataset\\karne_przerobione\\k10\\frame_0117.jpg: 352x512 1 ball, 1 person, 1 goal, 23.2ms\n",
      "image 119/129 C:\\Users\\user\\Desktop\\studia\\Widzenie Komputerowe Projekt\\Predykcja_Karnych\\dataset\\karne_przerobione\\k10\\frame_0118.jpg: 352x512 2 balls, 1 person, 1 goal, 24.1ms\n",
      "image 120/129 C:\\Users\\user\\Desktop\\studia\\Widzenie Komputerowe Projekt\\Predykcja_Karnych\\dataset\\karne_przerobione\\k10\\frame_0119.jpg: 352x512 1 ball, 1 person, 1 goal, 24.4ms\n",
      "image 121/129 C:\\Users\\user\\Desktop\\studia\\Widzenie Komputerowe Projekt\\Predykcja_Karnych\\dataset\\karne_przerobione\\k10\\frame_0120.jpg: 352x512 1 ball, 1 person, 1 goal, 42.5ms\n",
      "image 122/129 C:\\Users\\user\\Desktop\\studia\\Widzenie Komputerowe Projekt\\Predykcja_Karnych\\dataset\\karne_przerobione\\k10\\frame_0121.jpg: 352x512 1 person, 1 goal, 24.0ms\n",
      "image 123/129 C:\\Users\\user\\Desktop\\studia\\Widzenie Komputerowe Projekt\\Predykcja_Karnych\\dataset\\karne_przerobione\\k10\\frame_0122.jpg: 352x512 1 person, 1 goal, 25.0ms\n",
      "image 124/129 C:\\Users\\user\\Desktop\\studia\\Widzenie Komputerowe Projekt\\Predykcja_Karnych\\dataset\\karne_przerobione\\k10\\frame_0123.jpg: 352x512 1 person, 1 goal, 23.9ms\n",
      "image 125/129 C:\\Users\\user\\Desktop\\studia\\Widzenie Komputerowe Projekt\\Predykcja_Karnych\\dataset\\karne_przerobione\\k10\\frame_0124.jpg: 352x512 1 person, 1 goal, 25.0ms\n",
      "image 126/129 C:\\Users\\user\\Desktop\\studia\\Widzenie Komputerowe Projekt\\Predykcja_Karnych\\dataset\\karne_przerobione\\k10\\frame_0125.jpg: 352x512 1 person, 1 goal, 46.3ms\n",
      "image 127/129 C:\\Users\\user\\Desktop\\studia\\Widzenie Komputerowe Projekt\\Predykcja_Karnych\\dataset\\karne_przerobione\\k10\\frame_0126.jpg: 352x512 1 person, 1 goal, 29.7ms\n",
      "image 128/129 C:\\Users\\user\\Desktop\\studia\\Widzenie Komputerowe Projekt\\Predykcja_Karnych\\dataset\\karne_przerobione\\k10\\frame_0127.jpg: 352x512 1 person, 1 goal, 28.2ms\n",
      "image 129/129 C:\\Users\\user\\Desktop\\studia\\Widzenie Komputerowe Projekt\\Predykcja_Karnych\\dataset\\karne_przerobione\\k10\\frame_0128.jpg: 352x512 1 person, 1 goal, 24.9ms\n",
      "Speed: 1.3ms preprocess, 27.4ms inference, 0.5ms postprocess per image at shape (1, 3, 352, 512)\n",
      "Results saved to \u001B[1mC:\\Users\\user\\Desktop\\studia\\Widzenie Komputerowe Projekt\\Predykcja_Karnych\\runs\\detect\\predict_k10\\predict2\u001B[0m\n",
      "Przetwarzanie folderu: k11...\n",
      "\n",
      "image 1/232 C:\\Users\\user\\Desktop\\studia\\Widzenie Komputerowe Projekt\\Predykcja_Karnych\\dataset\\karne_przerobione\\k11\\frame_0000.jpg: 352x512 1 ball, 1 person, 1 goal, 29.0ms\n",
      "image 2/232 C:\\Users\\user\\Desktop\\studia\\Widzenie Komputerowe Projekt\\Predykcja_Karnych\\dataset\\karne_przerobione\\k11\\frame_0001.jpg: 352x512 1 ball, 1 person, 1 goal, 27.1ms\n",
      "image 3/232 C:\\Users\\user\\Desktop\\studia\\Widzenie Komputerowe Projekt\\Predykcja_Karnych\\dataset\\karne_przerobione\\k11\\frame_0002.jpg: 352x512 1 ball, 1 person, 1 goal, 26.2ms\n",
      "image 4/232 C:\\Users\\user\\Desktop\\studia\\Widzenie Komputerowe Projekt\\Predykcja_Karnych\\dataset\\karne_przerobione\\k11\\frame_0003.jpg: 352x512 1 ball, 1 person, 1 goal, 24.1ms\n",
      "image 5/232 C:\\Users\\user\\Desktop\\studia\\Widzenie Komputerowe Projekt\\Predykcja_Karnych\\dataset\\karne_przerobione\\k11\\frame_0004.jpg: 352x512 1 ball, 1 person, 1 goal, 25.3ms\n",
      "image 6/232 C:\\Users\\user\\Desktop\\studia\\Widzenie Komputerowe Projekt\\Predykcja_Karnych\\dataset\\karne_przerobione\\k11\\frame_0005.jpg: 352x512 1 ball, 1 person, 1 goal, 27.5ms\n",
      "image 7/232 C:\\Users\\user\\Desktop\\studia\\Widzenie Komputerowe Projekt\\Predykcja_Karnych\\dataset\\karne_przerobione\\k11\\frame_0006.jpg: 352x512 1 ball, 1 person, 1 goal, 26.3ms\n",
      "image 8/232 C:\\Users\\user\\Desktop\\studia\\Widzenie Komputerowe Projekt\\Predykcja_Karnych\\dataset\\karne_przerobione\\k11\\frame_0007.jpg: 352x512 1 ball, 1 person, 1 goal, 24.7ms\n",
      "image 9/232 C:\\Users\\user\\Desktop\\studia\\Widzenie Komputerowe Projekt\\Predykcja_Karnych\\dataset\\karne_przerobione\\k11\\frame_0008.jpg: 352x512 1 ball, 1 person, 1 goal, 25.0ms\n",
      "image 10/232 C:\\Users\\user\\Desktop\\studia\\Widzenie Komputerowe Projekt\\Predykcja_Karnych\\dataset\\karne_przerobione\\k11\\frame_0009.jpg: 352x512 1 ball, 1 person, 1 goal, 24.6ms\n",
      "image 11/232 C:\\Users\\user\\Desktop\\studia\\Widzenie Komputerowe Projekt\\Predykcja_Karnych\\dataset\\karne_przerobione\\k11\\frame_0010.jpg: 352x512 1 ball, 1 person, 1 goal, 27.1ms\n",
      "image 12/232 C:\\Users\\user\\Desktop\\studia\\Widzenie Komputerowe Projekt\\Predykcja_Karnych\\dataset\\karne_przerobione\\k11\\frame_0011.jpg: 352x512 1 ball, 1 person, 1 goal, 24.5ms\n",
      "image 13/232 C:\\Users\\user\\Desktop\\studia\\Widzenie Komputerowe Projekt\\Predykcja_Karnych\\dataset\\karne_przerobione\\k11\\frame_0012.jpg: 352x512 1 ball, 1 person, 1 goal, 28.3ms\n",
      "image 14/232 C:\\Users\\user\\Desktop\\studia\\Widzenie Komputerowe Projekt\\Predykcja_Karnych\\dataset\\karne_przerobione\\k11\\frame_0013.jpg: 352x512 1 ball, 1 person, 1 goal, 27.1ms\n",
      "image 15/232 C:\\Users\\user\\Desktop\\studia\\Widzenie Komputerowe Projekt\\Predykcja_Karnych\\dataset\\karne_przerobione\\k11\\frame_0014.jpg: 352x512 1 ball, 1 person, 1 goal, 27.7ms\n",
      "image 16/232 C:\\Users\\user\\Desktop\\studia\\Widzenie Komputerowe Projekt\\Predykcja_Karnych\\dataset\\karne_przerobione\\k11\\frame_0015.jpg: 352x512 1 ball, 1 person, 1 goal, 36.0ms\n",
      "image 17/232 C:\\Users\\user\\Desktop\\studia\\Widzenie Komputerowe Projekt\\Predykcja_Karnych\\dataset\\karne_przerobione\\k11\\frame_0016.jpg: 352x512 1 ball, 1 person, 1 goal, 44.7ms\n",
      "image 18/232 C:\\Users\\user\\Desktop\\studia\\Widzenie Komputerowe Projekt\\Predykcja_Karnych\\dataset\\karne_przerobione\\k11\\frame_0017.jpg: 352x512 1 ball, 1 person, 1 goal, 37.6ms\n",
      "image 19/232 C:\\Users\\user\\Desktop\\studia\\Widzenie Komputerowe Projekt\\Predykcja_Karnych\\dataset\\karne_przerobione\\k11\\frame_0018.jpg: 352x512 1 ball, 1 person, 1 goal, 37.1ms\n",
      "image 20/232 C:\\Users\\user\\Desktop\\studia\\Widzenie Komputerowe Projekt\\Predykcja_Karnych\\dataset\\karne_przerobione\\k11\\frame_0019.jpg: 352x512 1 ball, 1 person, 1 goal, 27.3ms\n",
      "image 21/232 C:\\Users\\user\\Desktop\\studia\\Widzenie Komputerowe Projekt\\Predykcja_Karnych\\dataset\\karne_przerobione\\k11\\frame_0020.jpg: 352x512 1 ball, 1 person, 1 goal, 26.4ms\n",
      "image 22/232 C:\\Users\\user\\Desktop\\studia\\Widzenie Komputerowe Projekt\\Predykcja_Karnych\\dataset\\karne_przerobione\\k11\\frame_0021.jpg: 352x512 1 ball, 1 person, 1 goal, 31.8ms\n",
      "image 23/232 C:\\Users\\user\\Desktop\\studia\\Widzenie Komputerowe Projekt\\Predykcja_Karnych\\dataset\\karne_przerobione\\k11\\frame_0022.jpg: 352x512 1 ball, 1 person, 1 goal, 32.4ms\n",
      "image 24/232 C:\\Users\\user\\Desktop\\studia\\Widzenie Komputerowe Projekt\\Predykcja_Karnych\\dataset\\karne_przerobione\\k11\\frame_0023.jpg: 352x512 1 ball, 1 person, 1 goal, 30.5ms\n",
      "image 25/232 C:\\Users\\user\\Desktop\\studia\\Widzenie Komputerowe Projekt\\Predykcja_Karnych\\dataset\\karne_przerobione\\k11\\frame_0024.jpg: 352x512 1 ball, 1 person, 1 goal, 33.3ms\n",
      "image 26/232 C:\\Users\\user\\Desktop\\studia\\Widzenie Komputerowe Projekt\\Predykcja_Karnych\\dataset\\karne_przerobione\\k11\\frame_0025.jpg: 352x512 1 ball, 1 person, 1 goal, 26.6ms\n",
      "image 27/232 C:\\Users\\user\\Desktop\\studia\\Widzenie Komputerowe Projekt\\Predykcja_Karnych\\dataset\\karne_przerobione\\k11\\frame_0026.jpg: 352x512 1 ball, 1 person, 1 goal, 28.3ms\n",
      "image 28/232 C:\\Users\\user\\Desktop\\studia\\Widzenie Komputerowe Projekt\\Predykcja_Karnych\\dataset\\karne_przerobione\\k11\\frame_0027.jpg: 352x512 1 ball, 1 person, 1 goal, 33.8ms\n",
      "image 29/232 C:\\Users\\user\\Desktop\\studia\\Widzenie Komputerowe Projekt\\Predykcja_Karnych\\dataset\\karne_przerobione\\k11\\frame_0028.jpg: 352x512 1 ball, 1 person, 1 goal, 25.2ms\n",
      "image 30/232 C:\\Users\\user\\Desktop\\studia\\Widzenie Komputerowe Projekt\\Predykcja_Karnych\\dataset\\karne_przerobione\\k11\\frame_0029.jpg: 352x512 1 ball, 1 person, 1 goal, 25.4ms\n",
      "image 31/232 C:\\Users\\user\\Desktop\\studia\\Widzenie Komputerowe Projekt\\Predykcja_Karnych\\dataset\\karne_przerobione\\k11\\frame_0030.jpg: 352x512 1 ball, 1 person, 1 goal, 24.2ms\n",
      "image 32/232 C:\\Users\\user\\Desktop\\studia\\Widzenie Komputerowe Projekt\\Predykcja_Karnych\\dataset\\karne_przerobione\\k11\\frame_0031.jpg: 352x512 1 ball, 1 person, 1 goal, 25.3ms\n",
      "image 33/232 C:\\Users\\user\\Desktop\\studia\\Widzenie Komputerowe Projekt\\Predykcja_Karnych\\dataset\\karne_przerobione\\k11\\frame_0032.jpg: 352x512 1 ball, 1 person, 1 goal, 24.6ms\n",
      "image 34/232 C:\\Users\\user\\Desktop\\studia\\Widzenie Komputerowe Projekt\\Predykcja_Karnych\\dataset\\karne_przerobione\\k11\\frame_0033.jpg: 352x512 1 ball, 1 person, 1 goal, 24.3ms\n",
      "image 35/232 C:\\Users\\user\\Desktop\\studia\\Widzenie Komputerowe Projekt\\Predykcja_Karnych\\dataset\\karne_przerobione\\k11\\frame_0034.jpg: 352x512 1 ball, 1 person, 1 goal, 27.7ms\n",
      "image 36/232 C:\\Users\\user\\Desktop\\studia\\Widzenie Komputerowe Projekt\\Predykcja_Karnych\\dataset\\karne_przerobione\\k11\\frame_0035.jpg: 352x512 1 ball, 1 person, 1 goal, 28.4ms\n",
      "image 37/232 C:\\Users\\user\\Desktop\\studia\\Widzenie Komputerowe Projekt\\Predykcja_Karnych\\dataset\\karne_przerobione\\k11\\frame_0036.jpg: 352x512 1 ball, 1 person, 1 goal, 27.4ms\n",
      "image 38/232 C:\\Users\\user\\Desktop\\studia\\Widzenie Komputerowe Projekt\\Predykcja_Karnych\\dataset\\karne_przerobione\\k11\\frame_0037.jpg: 352x512 1 ball, 1 person, 1 goal, 25.9ms\n",
      "image 39/232 C:\\Users\\user\\Desktop\\studia\\Widzenie Komputerowe Projekt\\Predykcja_Karnych\\dataset\\karne_przerobione\\k11\\frame_0038.jpg: 352x512 1 ball, 1 person, 1 goal, 26.0ms\n",
      "image 40/232 C:\\Users\\user\\Desktop\\studia\\Widzenie Komputerowe Projekt\\Predykcja_Karnych\\dataset\\karne_przerobione\\k11\\frame_0039.jpg: 352x512 1 ball, 1 person, 1 goal, 26.3ms\n",
      "image 41/232 C:\\Users\\user\\Desktop\\studia\\Widzenie Komputerowe Projekt\\Predykcja_Karnych\\dataset\\karne_przerobione\\k11\\frame_0040.jpg: 352x512 1 ball, 1 person, 1 goal, 25.6ms\n",
      "image 42/232 C:\\Users\\user\\Desktop\\studia\\Widzenie Komputerowe Projekt\\Predykcja_Karnych\\dataset\\karne_przerobione\\k11\\frame_0041.jpg: 352x512 1 ball, 1 person, 1 goal, 26.1ms\n",
      "image 43/232 C:\\Users\\user\\Desktop\\studia\\Widzenie Komputerowe Projekt\\Predykcja_Karnych\\dataset\\karne_przerobione\\k11\\frame_0042.jpg: 352x512 1 ball, 1 person, 1 goal, 26.4ms\n",
      "image 44/232 C:\\Users\\user\\Desktop\\studia\\Widzenie Komputerowe Projekt\\Predykcja_Karnych\\dataset\\karne_przerobione\\k11\\frame_0043.jpg: 352x512 1 ball, 1 person, 1 goal, 26.0ms\n",
      "image 45/232 C:\\Users\\user\\Desktop\\studia\\Widzenie Komputerowe Projekt\\Predykcja_Karnych\\dataset\\karne_przerobione\\k11\\frame_0044.jpg: 352x512 1 ball, 1 person, 1 goal, 27.6ms\n",
      "image 46/232 C:\\Users\\user\\Desktop\\studia\\Widzenie Komputerowe Projekt\\Predykcja_Karnych\\dataset\\karne_przerobione\\k11\\frame_0045.jpg: 352x512 1 ball, 1 person, 1 goal, 28.8ms\n",
      "image 47/232 C:\\Users\\user\\Desktop\\studia\\Widzenie Komputerowe Projekt\\Predykcja_Karnych\\dataset\\karne_przerobione\\k11\\frame_0046.jpg: 352x512 1 ball, 1 person, 1 goal, 27.5ms\n",
      "image 48/232 C:\\Users\\user\\Desktop\\studia\\Widzenie Komputerowe Projekt\\Predykcja_Karnych\\dataset\\karne_przerobione\\k11\\frame_0047.jpg: 352x512 1 ball, 1 person, 1 goal, 25.0ms\n",
      "image 49/232 C:\\Users\\user\\Desktop\\studia\\Widzenie Komputerowe Projekt\\Predykcja_Karnych\\dataset\\karne_przerobione\\k11\\frame_0048.jpg: 352x512 1 ball, 1 person, 1 goal, 27.6ms\n",
      "image 50/232 C:\\Users\\user\\Desktop\\studia\\Widzenie Komputerowe Projekt\\Predykcja_Karnych\\dataset\\karne_przerobione\\k11\\frame_0049.jpg: 352x512 1 ball, 1 person, 1 goal, 25.8ms\n",
      "image 51/232 C:\\Users\\user\\Desktop\\studia\\Widzenie Komputerowe Projekt\\Predykcja_Karnych\\dataset\\karne_przerobione\\k11\\frame_0050.jpg: 352x512 1 ball, 1 person, 1 goal, 25.7ms\n",
      "image 52/232 C:\\Users\\user\\Desktop\\studia\\Widzenie Komputerowe Projekt\\Predykcja_Karnych\\dataset\\karne_przerobione\\k11\\frame_0051.jpg: 352x512 1 ball, 1 person, 1 goal, 58.2ms\n",
      "image 53/232 C:\\Users\\user\\Desktop\\studia\\Widzenie Komputerowe Projekt\\Predykcja_Karnych\\dataset\\karne_przerobione\\k11\\frame_0052.jpg: 352x512 1 ball, 1 person, 1 goal, 28.5ms\n",
      "image 54/232 C:\\Users\\user\\Desktop\\studia\\Widzenie Komputerowe Projekt\\Predykcja_Karnych\\dataset\\karne_przerobione\\k11\\frame_0053.jpg: 352x512 1 ball, 1 person, 1 goal, 31.2ms\n",
      "image 55/232 C:\\Users\\user\\Desktop\\studia\\Widzenie Komputerowe Projekt\\Predykcja_Karnych\\dataset\\karne_przerobione\\k11\\frame_0054.jpg: 352x512 1 ball, 1 person, 1 goal, 27.9ms\n",
      "image 56/232 C:\\Users\\user\\Desktop\\studia\\Widzenie Komputerowe Projekt\\Predykcja_Karnych\\dataset\\karne_przerobione\\k11\\frame_0055.jpg: 352x512 1 ball, 1 person, 1 goal, 32.2ms\n",
      "image 57/232 C:\\Users\\user\\Desktop\\studia\\Widzenie Komputerowe Projekt\\Predykcja_Karnych\\dataset\\karne_przerobione\\k11\\frame_0056.jpg: 352x512 1 ball, 1 person, 1 goal, 37.5ms\n",
      "image 58/232 C:\\Users\\user\\Desktop\\studia\\Widzenie Komputerowe Projekt\\Predykcja_Karnych\\dataset\\karne_przerobione\\k11\\frame_0057.jpg: 352x512 1 ball, 1 person, 1 goal, 36.5ms\n",
      "image 59/232 C:\\Users\\user\\Desktop\\studia\\Widzenie Komputerowe Projekt\\Predykcja_Karnych\\dataset\\karne_przerobione\\k11\\frame_0058.jpg: 352x512 1 ball, 1 person, 1 goal, 39.8ms\n",
      "image 60/232 C:\\Users\\user\\Desktop\\studia\\Widzenie Komputerowe Projekt\\Predykcja_Karnych\\dataset\\karne_przerobione\\k11\\frame_0059.jpg: 352x512 1 ball, 1 person, 1 goal, 31.2ms\n",
      "image 61/232 C:\\Users\\user\\Desktop\\studia\\Widzenie Komputerowe Projekt\\Predykcja_Karnych\\dataset\\karne_przerobione\\k11\\frame_0060.jpg: 352x512 1 ball, 1 person, 1 goal, 27.4ms\n",
      "image 62/232 C:\\Users\\user\\Desktop\\studia\\Widzenie Komputerowe Projekt\\Predykcja_Karnych\\dataset\\karne_przerobione\\k11\\frame_0061.jpg: 352x512 1 ball, 1 person, 1 goal, 31.0ms\n",
      "image 63/232 C:\\Users\\user\\Desktop\\studia\\Widzenie Komputerowe Projekt\\Predykcja_Karnych\\dataset\\karne_przerobione\\k11\\frame_0062.jpg: 352x512 1 ball, 1 person, 1 goal, 27.3ms\n",
      "image 64/232 C:\\Users\\user\\Desktop\\studia\\Widzenie Komputerowe Projekt\\Predykcja_Karnych\\dataset\\karne_przerobione\\k11\\frame_0063.jpg: 352x512 1 ball, 1 person, 1 goal, 27.7ms\n",
      "image 65/232 C:\\Users\\user\\Desktop\\studia\\Widzenie Komputerowe Projekt\\Predykcja_Karnych\\dataset\\karne_przerobione\\k11\\frame_0064.jpg: 352x512 1 ball, 1 person, 1 goal, 26.0ms\n",
      "image 66/232 C:\\Users\\user\\Desktop\\studia\\Widzenie Komputerowe Projekt\\Predykcja_Karnych\\dataset\\karne_przerobione\\k11\\frame_0065.jpg: 352x512 1 ball, 1 person, 1 goal, 25.8ms\n",
      "image 67/232 C:\\Users\\user\\Desktop\\studia\\Widzenie Komputerowe Projekt\\Predykcja_Karnych\\dataset\\karne_przerobione\\k11\\frame_0066.jpg: 352x512 1 ball, 1 person, 1 goal, 26.3ms\n",
      "image 68/232 C:\\Users\\user\\Desktop\\studia\\Widzenie Komputerowe Projekt\\Predykcja_Karnych\\dataset\\karne_przerobione\\k11\\frame_0067.jpg: 352x512 1 ball, 1 person, 1 goal, 26.2ms\n",
      "image 69/232 C:\\Users\\user\\Desktop\\studia\\Widzenie Komputerowe Projekt\\Predykcja_Karnych\\dataset\\karne_przerobione\\k11\\frame_0068.jpg: 352x512 1 ball, 1 person, 1 goal, 36.1ms\n",
      "image 70/232 C:\\Users\\user\\Desktop\\studia\\Widzenie Komputerowe Projekt\\Predykcja_Karnych\\dataset\\karne_przerobione\\k11\\frame_0069.jpg: 352x512 1 ball, 1 person, 1 goal, 31.8ms\n",
      "image 71/232 C:\\Users\\user\\Desktop\\studia\\Widzenie Komputerowe Projekt\\Predykcja_Karnych\\dataset\\karne_przerobione\\k11\\frame_0070.jpg: 352x512 1 ball, 1 person, 1 goal, 32.9ms\n",
      "image 72/232 C:\\Users\\user\\Desktop\\studia\\Widzenie Komputerowe Projekt\\Predykcja_Karnych\\dataset\\karne_przerobione\\k11\\frame_0071.jpg: 352x512 1 ball, 1 person, 1 goal, 29.5ms\n",
      "image 73/232 C:\\Users\\user\\Desktop\\studia\\Widzenie Komputerowe Projekt\\Predykcja_Karnych\\dataset\\karne_przerobione\\k11\\frame_0072.jpg: 352x512 1 ball, 1 person, 1 goal, 27.8ms\n",
      "image 74/232 C:\\Users\\user\\Desktop\\studia\\Widzenie Komputerowe Projekt\\Predykcja_Karnych\\dataset\\karne_przerobione\\k11\\frame_0073.jpg: 352x512 1 ball, 1 person, 1 goal, 26.5ms\n",
      "image 75/232 C:\\Users\\user\\Desktop\\studia\\Widzenie Komputerowe Projekt\\Predykcja_Karnych\\dataset\\karne_przerobione\\k11\\frame_0074.jpg: 352x512 1 ball, 1 person, 1 goal, 28.2ms\n",
      "image 76/232 C:\\Users\\user\\Desktop\\studia\\Widzenie Komputerowe Projekt\\Predykcja_Karnych\\dataset\\karne_przerobione\\k11\\frame_0075.jpg: 352x512 1 ball, 1 person, 1 goal, 27.6ms\n",
      "image 77/232 C:\\Users\\user\\Desktop\\studia\\Widzenie Komputerowe Projekt\\Predykcja_Karnych\\dataset\\karne_przerobione\\k11\\frame_0076.jpg: 352x512 1 ball, 1 person, 1 goal, 27.6ms\n",
      "image 78/232 C:\\Users\\user\\Desktop\\studia\\Widzenie Komputerowe Projekt\\Predykcja_Karnych\\dataset\\karne_przerobione\\k11\\frame_0077.jpg: 352x512 1 ball, 1 person, 1 goal, 26.5ms\n",
      "image 79/232 C:\\Users\\user\\Desktop\\studia\\Widzenie Komputerowe Projekt\\Predykcja_Karnych\\dataset\\karne_przerobione\\k11\\frame_0078.jpg: 352x512 1 ball, 1 person, 1 goal, 30.5ms\n",
      "image 80/232 C:\\Users\\user\\Desktop\\studia\\Widzenie Komputerowe Projekt\\Predykcja_Karnych\\dataset\\karne_przerobione\\k11\\frame_0079.jpg: 352x512 1 ball, 1 person, 1 goal, 28.7ms\n",
      "image 81/232 C:\\Users\\user\\Desktop\\studia\\Widzenie Komputerowe Projekt\\Predykcja_Karnych\\dataset\\karne_przerobione\\k11\\frame_0080.jpg: 352x512 1 ball, 1 person, 1 goal, 26.0ms\n",
      "image 82/232 C:\\Users\\user\\Desktop\\studia\\Widzenie Komputerowe Projekt\\Predykcja_Karnych\\dataset\\karne_przerobione\\k11\\frame_0081.jpg: 352x512 1 ball, 1 person, 1 goal, 26.7ms\n",
      "image 83/232 C:\\Users\\user\\Desktop\\studia\\Widzenie Komputerowe Projekt\\Predykcja_Karnych\\dataset\\karne_przerobione\\k11\\frame_0082.jpg: 352x512 1 ball, 1 person, 1 goal, 28.1ms\n",
      "image 84/232 C:\\Users\\user\\Desktop\\studia\\Widzenie Komputerowe Projekt\\Predykcja_Karnych\\dataset\\karne_przerobione\\k11\\frame_0083.jpg: 352x512 1 ball, 1 person, 1 goal, 30.1ms\n",
      "image 85/232 C:\\Users\\user\\Desktop\\studia\\Widzenie Komputerowe Projekt\\Predykcja_Karnych\\dataset\\karne_przerobione\\k11\\frame_0084.jpg: 352x512 1 ball, 1 person, 1 goal, 26.7ms\n",
      "image 86/232 C:\\Users\\user\\Desktop\\studia\\Widzenie Komputerowe Projekt\\Predykcja_Karnych\\dataset\\karne_przerobione\\k11\\frame_0085.jpg: 352x512 1 ball, 1 person, 1 goal, 26.6ms\n",
      "image 87/232 C:\\Users\\user\\Desktop\\studia\\Widzenie Komputerowe Projekt\\Predykcja_Karnych\\dataset\\karne_przerobione\\k11\\frame_0086.jpg: 352x512 1 ball, 1 person, 1 goal, 27.4ms\n",
      "image 88/232 C:\\Users\\user\\Desktop\\studia\\Widzenie Komputerowe Projekt\\Predykcja_Karnych\\dataset\\karne_przerobione\\k11\\frame_0087.jpg: 352x512 1 ball, 1 person, 1 goal, 27.4ms\n",
      "image 89/232 C:\\Users\\user\\Desktop\\studia\\Widzenie Komputerowe Projekt\\Predykcja_Karnych\\dataset\\karne_przerobione\\k11\\frame_0088.jpg: 352x512 1 ball, 1 person, 1 goal, 25.2ms\n",
      "image 90/232 C:\\Users\\user\\Desktop\\studia\\Widzenie Komputerowe Projekt\\Predykcja_Karnych\\dataset\\karne_przerobione\\k11\\frame_0089.jpg: 352x512 1 ball, 1 person, 1 goal, 24.3ms\n",
      "image 91/232 C:\\Users\\user\\Desktop\\studia\\Widzenie Komputerowe Projekt\\Predykcja_Karnych\\dataset\\karne_przerobione\\k11\\frame_0090.jpg: 352x512 1 ball, 1 person, 1 goal, 26.0ms\n",
      "image 92/232 C:\\Users\\user\\Desktop\\studia\\Widzenie Komputerowe Projekt\\Predykcja_Karnych\\dataset\\karne_przerobione\\k11\\frame_0091.jpg: 352x512 1 ball, 1 person, 1 goal, 26.8ms\n",
      "image 93/232 C:\\Users\\user\\Desktop\\studia\\Widzenie Komputerowe Projekt\\Predykcja_Karnych\\dataset\\karne_przerobione\\k11\\frame_0092.jpg: 352x512 1 ball, 1 person, 1 goal, 27.5ms\n",
      "image 94/232 C:\\Users\\user\\Desktop\\studia\\Widzenie Komputerowe Projekt\\Predykcja_Karnych\\dataset\\karne_przerobione\\k11\\frame_0093.jpg: 352x512 1 ball, 1 person, 1 goal, 25.7ms\n",
      "image 95/232 C:\\Users\\user\\Desktop\\studia\\Widzenie Komputerowe Projekt\\Predykcja_Karnych\\dataset\\karne_przerobione\\k11\\frame_0094.jpg: 352x512 1 ball, 1 person, 1 goal, 25.6ms\n",
      "image 96/232 C:\\Users\\user\\Desktop\\studia\\Widzenie Komputerowe Projekt\\Predykcja_Karnych\\dataset\\karne_przerobione\\k11\\frame_0095.jpg: 352x512 1 ball, 1 person, 1 goal, 25.6ms\n",
      "image 97/232 C:\\Users\\user\\Desktop\\studia\\Widzenie Komputerowe Projekt\\Predykcja_Karnych\\dataset\\karne_przerobione\\k11\\frame_0096.jpg: 352x512 1 ball, 1 person, 1 goal, 27.0ms\n",
      "image 98/232 C:\\Users\\user\\Desktop\\studia\\Widzenie Komputerowe Projekt\\Predykcja_Karnych\\dataset\\karne_przerobione\\k11\\frame_0097.jpg: 352x512 1 ball, 1 person, 1 goal, 26.4ms\n",
      "image 99/232 C:\\Users\\user\\Desktop\\studia\\Widzenie Komputerowe Projekt\\Predykcja_Karnych\\dataset\\karne_przerobione\\k11\\frame_0098.jpg: 352x512 1 ball, 1 person, 1 goal, 25.7ms\n",
      "image 100/232 C:\\Users\\user\\Desktop\\studia\\Widzenie Komputerowe Projekt\\Predykcja_Karnych\\dataset\\karne_przerobione\\k11\\frame_0099.jpg: 352x512 1 ball, 1 person, 1 goal, 28.1ms\n",
      "image 101/232 C:\\Users\\user\\Desktop\\studia\\Widzenie Komputerowe Projekt\\Predykcja_Karnych\\dataset\\karne_przerobione\\k11\\frame_0100.jpg: 352x512 1 ball, 1 person, 1 goal, 26.8ms\n",
      "image 102/232 C:\\Users\\user\\Desktop\\studia\\Widzenie Komputerowe Projekt\\Predykcja_Karnych\\dataset\\karne_przerobione\\k11\\frame_0101.jpg: 352x512 1 ball, 1 person, 1 goal, 25.7ms\n",
      "image 103/232 C:\\Users\\user\\Desktop\\studia\\Widzenie Komputerowe Projekt\\Predykcja_Karnych\\dataset\\karne_przerobione\\k11\\frame_0102.jpg: 352x512 1 ball, 1 person, 1 goal, 25.6ms\n",
      "image 104/232 C:\\Users\\user\\Desktop\\studia\\Widzenie Komputerowe Projekt\\Predykcja_Karnych\\dataset\\karne_przerobione\\k11\\frame_0103.jpg: 352x512 1 ball, 1 person, 1 goal, 26.9ms\n",
      "image 105/232 C:\\Users\\user\\Desktop\\studia\\Widzenie Komputerowe Projekt\\Predykcja_Karnych\\dataset\\karne_przerobione\\k11\\frame_0104.jpg: 352x512 1 ball, 1 person, 1 goal, 25.5ms\n",
      "image 106/232 C:\\Users\\user\\Desktop\\studia\\Widzenie Komputerowe Projekt\\Predykcja_Karnych\\dataset\\karne_przerobione\\k11\\frame_0105.jpg: 352x512 1 ball, 1 person, 1 goal, 28.1ms\n",
      "image 107/232 C:\\Users\\user\\Desktop\\studia\\Widzenie Komputerowe Projekt\\Predykcja_Karnych\\dataset\\karne_przerobione\\k11\\frame_0106.jpg: 352x512 1 ball, 1 person, 1 goal, 25.9ms\n",
      "image 108/232 C:\\Users\\user\\Desktop\\studia\\Widzenie Komputerowe Projekt\\Predykcja_Karnych\\dataset\\karne_przerobione\\k11\\frame_0107.jpg: 352x512 1 ball, 1 person, 1 goal, 25.9ms\n",
      "image 109/232 C:\\Users\\user\\Desktop\\studia\\Widzenie Komputerowe Projekt\\Predykcja_Karnych\\dataset\\karne_przerobione\\k11\\frame_0108.jpg: 352x512 1 ball, 1 person, 1 goal, 26.1ms\n",
      "image 110/232 C:\\Users\\user\\Desktop\\studia\\Widzenie Komputerowe Projekt\\Predykcja_Karnych\\dataset\\karne_przerobione\\k11\\frame_0109.jpg: 352x512 1 ball, 1 person, 1 goal, 26.8ms\n",
      "image 111/232 C:\\Users\\user\\Desktop\\studia\\Widzenie Komputerowe Projekt\\Predykcja_Karnych\\dataset\\karne_przerobione\\k11\\frame_0110.jpg: 352x512 1 ball, 1 person, 1 goal, 27.4ms\n",
      "image 112/232 C:\\Users\\user\\Desktop\\studia\\Widzenie Komputerowe Projekt\\Predykcja_Karnych\\dataset\\karne_przerobione\\k11\\frame_0111.jpg: 352x512 1 ball, 1 person, 1 goal, 27.8ms\n",
      "image 113/232 C:\\Users\\user\\Desktop\\studia\\Widzenie Komputerowe Projekt\\Predykcja_Karnych\\dataset\\karne_przerobione\\k11\\frame_0112.jpg: 352x512 1 ball, 1 person, 1 goal, 25.4ms\n",
      "image 114/232 C:\\Users\\user\\Desktop\\studia\\Widzenie Komputerowe Projekt\\Predykcja_Karnych\\dataset\\karne_przerobione\\k11\\frame_0113.jpg: 352x512 1 ball, 1 person, 1 goal, 28.9ms\n",
      "image 115/232 C:\\Users\\user\\Desktop\\studia\\Widzenie Komputerowe Projekt\\Predykcja_Karnych\\dataset\\karne_przerobione\\k11\\frame_0114.jpg: 352x512 1 ball, 1 person, 1 goal, 34.8ms\n",
      "image 116/232 C:\\Users\\user\\Desktop\\studia\\Widzenie Komputerowe Projekt\\Predykcja_Karnych\\dataset\\karne_przerobione\\k11\\frame_0115.jpg: 352x512 1 ball, 1 person, 1 goal, 40.3ms\n",
      "image 117/232 C:\\Users\\user\\Desktop\\studia\\Widzenie Komputerowe Projekt\\Predykcja_Karnych\\dataset\\karne_przerobione\\k11\\frame_0116.jpg: 352x512 1 ball, 1 person, 1 goal, 38.1ms\n",
      "image 118/232 C:\\Users\\user\\Desktop\\studia\\Widzenie Komputerowe Projekt\\Predykcja_Karnych\\dataset\\karne_przerobione\\k11\\frame_0117.jpg: 352x512 1 ball, 1 person, 1 goal, 28.0ms\n",
      "image 119/232 C:\\Users\\user\\Desktop\\studia\\Widzenie Komputerowe Projekt\\Predykcja_Karnych\\dataset\\karne_przerobione\\k11\\frame_0118.jpg: 352x512 1 ball, 1 person, 1 goal, 27.2ms\n",
      "image 120/232 C:\\Users\\user\\Desktop\\studia\\Widzenie Komputerowe Projekt\\Predykcja_Karnych\\dataset\\karne_przerobione\\k11\\frame_0119.jpg: 352x512 1 ball, 1 person, 1 goal, 28.4ms\n",
      "image 121/232 C:\\Users\\user\\Desktop\\studia\\Widzenie Komputerowe Projekt\\Predykcja_Karnych\\dataset\\karne_przerobione\\k11\\frame_0120.jpg: 352x512 1 ball, 1 person, 1 goal, 26.9ms\n",
      "image 122/232 C:\\Users\\user\\Desktop\\studia\\Widzenie Komputerowe Projekt\\Predykcja_Karnych\\dataset\\karne_przerobione\\k11\\frame_0121.jpg: 352x512 1 ball, 1 person, 1 goal, 26.7ms\n",
      "image 123/232 C:\\Users\\user\\Desktop\\studia\\Widzenie Komputerowe Projekt\\Predykcja_Karnych\\dataset\\karne_przerobione\\k11\\frame_0122.jpg: 352x512 1 ball, 1 person, 1 goal, 27.2ms\n",
      "image 124/232 C:\\Users\\user\\Desktop\\studia\\Widzenie Komputerowe Projekt\\Predykcja_Karnych\\dataset\\karne_przerobione\\k11\\frame_0123.jpg: 352x512 1 ball, 1 person, 1 goal, 27.3ms\n",
      "image 125/232 C:\\Users\\user\\Desktop\\studia\\Widzenie Komputerowe Projekt\\Predykcja_Karnych\\dataset\\karne_przerobione\\k11\\frame_0124.jpg: 352x512 1 ball, 1 person, 1 goal, 27.4ms\n",
      "image 126/232 C:\\Users\\user\\Desktop\\studia\\Widzenie Komputerowe Projekt\\Predykcja_Karnych\\dataset\\karne_przerobione\\k11\\frame_0125.jpg: 352x512 1 ball, 1 person, 1 goal, 28.3ms\n",
      "image 127/232 C:\\Users\\user\\Desktop\\studia\\Widzenie Komputerowe Projekt\\Predykcja_Karnych\\dataset\\karne_przerobione\\k11\\frame_0126.jpg: 352x512 1 ball, 1 person, 1 goal, 27.9ms\n",
      "image 128/232 C:\\Users\\user\\Desktop\\studia\\Widzenie Komputerowe Projekt\\Predykcja_Karnych\\dataset\\karne_przerobione\\k11\\frame_0127.jpg: 352x512 1 ball, 1 person, 1 goal, 26.5ms\n",
      "image 129/232 C:\\Users\\user\\Desktop\\studia\\Widzenie Komputerowe Projekt\\Predykcja_Karnych\\dataset\\karne_przerobione\\k11\\frame_0128.jpg: 352x512 1 ball, 1 person, 1 goal, 28.3ms\n",
      "image 130/232 C:\\Users\\user\\Desktop\\studia\\Widzenie Komputerowe Projekt\\Predykcja_Karnych\\dataset\\karne_przerobione\\k11\\frame_0129.jpg: 352x512 1 ball, 1 person, 1 goal, 28.6ms\n",
      "image 131/232 C:\\Users\\user\\Desktop\\studia\\Widzenie Komputerowe Projekt\\Predykcja_Karnych\\dataset\\karne_przerobione\\k11\\frame_0130.jpg: 352x512 1 ball, 1 person, 1 goal, 31.2ms\n",
      "image 132/232 C:\\Users\\user\\Desktop\\studia\\Widzenie Komputerowe Projekt\\Predykcja_Karnych\\dataset\\karne_przerobione\\k11\\frame_0131.jpg: 352x512 1 ball, 1 person, 1 goal, 27.9ms\n",
      "image 133/232 C:\\Users\\user\\Desktop\\studia\\Widzenie Komputerowe Projekt\\Predykcja_Karnych\\dataset\\karne_przerobione\\k11\\frame_0132.jpg: 352x512 1 ball, 1 person, 1 goal, 29.8ms\n",
      "image 134/232 C:\\Users\\user\\Desktop\\studia\\Widzenie Komputerowe Projekt\\Predykcja_Karnych\\dataset\\karne_przerobione\\k11\\frame_0133.jpg: 352x512 1 ball, 1 person, 1 goal, 26.9ms\n",
      "image 135/232 C:\\Users\\user\\Desktop\\studia\\Widzenie Komputerowe Projekt\\Predykcja_Karnych\\dataset\\karne_przerobione\\k11\\frame_0134.jpg: 352x512 1 ball, 1 person, 1 goal, 28.3ms\n",
      "image 136/232 C:\\Users\\user\\Desktop\\studia\\Widzenie Komputerowe Projekt\\Predykcja_Karnych\\dataset\\karne_przerobione\\k11\\frame_0135.jpg: 352x512 1 ball, 1 person, 1 goal, 26.0ms\n",
      "image 137/232 C:\\Users\\user\\Desktop\\studia\\Widzenie Komputerowe Projekt\\Predykcja_Karnych\\dataset\\karne_przerobione\\k11\\frame_0136.jpg: 352x512 1 ball, 1 person, 1 goal, 28.1ms\n",
      "image 138/232 C:\\Users\\user\\Desktop\\studia\\Widzenie Komputerowe Projekt\\Predykcja_Karnych\\dataset\\karne_przerobione\\k11\\frame_0137.jpg: 352x512 1 ball, 1 person, 1 goal, 29.1ms\n",
      "image 139/232 C:\\Users\\user\\Desktop\\studia\\Widzenie Komputerowe Projekt\\Predykcja_Karnych\\dataset\\karne_przerobione\\k11\\frame_0138.jpg: 352x512 1 ball, 1 person, 1 goal, 28.1ms\n",
      "image 140/232 C:\\Users\\user\\Desktop\\studia\\Widzenie Komputerowe Projekt\\Predykcja_Karnych\\dataset\\karne_przerobione\\k11\\frame_0139.jpg: 352x512 1 ball, 1 person, 1 goal, 26.0ms\n",
      "image 141/232 C:\\Users\\user\\Desktop\\studia\\Widzenie Komputerowe Projekt\\Predykcja_Karnych\\dataset\\karne_przerobione\\k11\\frame_0140.jpg: 352x512 1 ball, 1 person, 1 goal, 25.0ms\n",
      "image 142/232 C:\\Users\\user\\Desktop\\studia\\Widzenie Komputerowe Projekt\\Predykcja_Karnych\\dataset\\karne_przerobione\\k11\\frame_0141.jpg: 352x512 1 ball, 1 person, 1 goal, 29.1ms\n",
      "image 143/232 C:\\Users\\user\\Desktop\\studia\\Widzenie Komputerowe Projekt\\Predykcja_Karnych\\dataset\\karne_przerobione\\k11\\frame_0142.jpg: 352x512 1 ball, 1 person, 1 goal, 24.9ms\n",
      "image 144/232 C:\\Users\\user\\Desktop\\studia\\Widzenie Komputerowe Projekt\\Predykcja_Karnych\\dataset\\karne_przerobione\\k11\\frame_0143.jpg: 352x512 1 ball, 1 person, 1 goal, 27.9ms\n",
      "image 145/232 C:\\Users\\user\\Desktop\\studia\\Widzenie Komputerowe Projekt\\Predykcja_Karnych\\dataset\\karne_przerobione\\k11\\frame_0144.jpg: 352x512 1 ball, 1 person, 1 goal, 26.1ms\n",
      "image 146/232 C:\\Users\\user\\Desktop\\studia\\Widzenie Komputerowe Projekt\\Predykcja_Karnych\\dataset\\karne_przerobione\\k11\\frame_0145.jpg: 352x512 1 ball, 1 person, 1 goal, 26.9ms\n",
      "image 147/232 C:\\Users\\user\\Desktop\\studia\\Widzenie Komputerowe Projekt\\Predykcja_Karnych\\dataset\\karne_przerobione\\k11\\frame_0146.jpg: 352x512 1 ball, 1 person, 1 goal, 26.9ms\n",
      "image 148/232 C:\\Users\\user\\Desktop\\studia\\Widzenie Komputerowe Projekt\\Predykcja_Karnych\\dataset\\karne_przerobione\\k11\\frame_0147.jpg: 352x512 1 ball, 1 person, 1 goal, 26.7ms\n",
      "image 149/232 C:\\Users\\user\\Desktop\\studia\\Widzenie Komputerowe Projekt\\Predykcja_Karnych\\dataset\\karne_przerobione\\k11\\frame_0148.jpg: 352x512 1 ball, 1 person, 1 goal, 27.5ms\n",
      "image 150/232 C:\\Users\\user\\Desktop\\studia\\Widzenie Komputerowe Projekt\\Predykcja_Karnych\\dataset\\karne_przerobione\\k11\\frame_0149.jpg: 352x512 1 ball, 1 person, 1 goal, 25.2ms\n",
      "image 151/232 C:\\Users\\user\\Desktop\\studia\\Widzenie Komputerowe Projekt\\Predykcja_Karnych\\dataset\\karne_przerobione\\k11\\frame_0150.jpg: 352x512 1 ball, 1 person, 1 goal, 27.7ms\n",
      "image 152/232 C:\\Users\\user\\Desktop\\studia\\Widzenie Komputerowe Projekt\\Predykcja_Karnych\\dataset\\karne_przerobione\\k11\\frame_0151.jpg: 352x512 1 ball, 1 person, 1 goal, 26.1ms\n",
      "image 153/232 C:\\Users\\user\\Desktop\\studia\\Widzenie Komputerowe Projekt\\Predykcja_Karnych\\dataset\\karne_przerobione\\k11\\frame_0152.jpg: 352x512 1 ball, 1 person, 1 goal, 26.7ms\n",
      "image 154/232 C:\\Users\\user\\Desktop\\studia\\Widzenie Komputerowe Projekt\\Predykcja_Karnych\\dataset\\karne_przerobione\\k11\\frame_0153.jpg: 352x512 1 ball, 1 person, 1 goal, 25.7ms\n",
      "image 155/232 C:\\Users\\user\\Desktop\\studia\\Widzenie Komputerowe Projekt\\Predykcja_Karnych\\dataset\\karne_przerobione\\k11\\frame_0154.jpg: 352x512 1 ball, 1 person, 1 goal, 26.7ms\n",
      "image 156/232 C:\\Users\\user\\Desktop\\studia\\Widzenie Komputerowe Projekt\\Predykcja_Karnych\\dataset\\karne_przerobione\\k11\\frame_0155.jpg: 352x512 1 ball, 1 person, 1 goal, 26.3ms\n",
      "image 157/232 C:\\Users\\user\\Desktop\\studia\\Widzenie Komputerowe Projekt\\Predykcja_Karnych\\dataset\\karne_przerobione\\k11\\frame_0156.jpg: 352x512 1 ball, 1 person, 1 goal, 31.6ms\n",
      "image 158/232 C:\\Users\\user\\Desktop\\studia\\Widzenie Komputerowe Projekt\\Predykcja_Karnych\\dataset\\karne_przerobione\\k11\\frame_0157.jpg: 352x512 1 ball, 1 person, 1 goal, 30.0ms\n",
      "image 159/232 C:\\Users\\user\\Desktop\\studia\\Widzenie Komputerowe Projekt\\Predykcja_Karnych\\dataset\\karne_przerobione\\k11\\frame_0158.jpg: 352x512 1 ball, 1 person, 1 goal, 29.6ms\n",
      "image 160/232 C:\\Users\\user\\Desktop\\studia\\Widzenie Komputerowe Projekt\\Predykcja_Karnych\\dataset\\karne_przerobione\\k11\\frame_0159.jpg: 352x512 1 ball, 1 person, 1 goal, 32.1ms\n",
      "image 161/232 C:\\Users\\user\\Desktop\\studia\\Widzenie Komputerowe Projekt\\Predykcja_Karnych\\dataset\\karne_przerobione\\k11\\frame_0160.jpg: 352x512 1 ball, 1 person, 1 goal, 32.7ms\n",
      "image 162/232 C:\\Users\\user\\Desktop\\studia\\Widzenie Komputerowe Projekt\\Predykcja_Karnych\\dataset\\karne_przerobione\\k11\\frame_0161.jpg: 352x512 1 ball, 1 person, 1 goal, 31.1ms\n",
      "image 163/232 C:\\Users\\user\\Desktop\\studia\\Widzenie Komputerowe Projekt\\Predykcja_Karnych\\dataset\\karne_przerobione\\k11\\frame_0162.jpg: 352x512 1 ball, 1 person, 1 goal, 29.8ms\n",
      "image 164/232 C:\\Users\\user\\Desktop\\studia\\Widzenie Komputerowe Projekt\\Predykcja_Karnych\\dataset\\karne_przerobione\\k11\\frame_0163.jpg: 352x512 1 ball, 1 person, 1 goal, 25.5ms\n",
      "image 165/232 C:\\Users\\user\\Desktop\\studia\\Widzenie Komputerowe Projekt\\Predykcja_Karnych\\dataset\\karne_przerobione\\k11\\frame_0164.jpg: 352x512 1 ball, 1 person, 1 goal, 28.5ms\n",
      "image 166/232 C:\\Users\\user\\Desktop\\studia\\Widzenie Komputerowe Projekt\\Predykcja_Karnych\\dataset\\karne_przerobione\\k11\\frame_0165.jpg: 352x512 1 ball, 1 person, 1 goal, 26.2ms\n",
      "image 167/232 C:\\Users\\user\\Desktop\\studia\\Widzenie Komputerowe Projekt\\Predykcja_Karnych\\dataset\\karne_przerobione\\k11\\frame_0166.jpg: 352x512 1 ball, 1 person, 1 goal, 26.1ms\n",
      "image 168/232 C:\\Users\\user\\Desktop\\studia\\Widzenie Komputerowe Projekt\\Predykcja_Karnych\\dataset\\karne_przerobione\\k11\\frame_0167.jpg: 352x512 1 ball, 1 person, 1 goal, 28.6ms\n",
      "image 169/232 C:\\Users\\user\\Desktop\\studia\\Widzenie Komputerowe Projekt\\Predykcja_Karnych\\dataset\\karne_przerobione\\k11\\frame_0168.jpg: 352x512 1 ball, 1 person, 1 goal, 25.5ms\n",
      "image 170/232 C:\\Users\\user\\Desktop\\studia\\Widzenie Komputerowe Projekt\\Predykcja_Karnych\\dataset\\karne_przerobione\\k11\\frame_0169.jpg: 352x512 1 ball, 1 person, 1 goal, 34.7ms\n",
      "image 171/232 C:\\Users\\user\\Desktop\\studia\\Widzenie Komputerowe Projekt\\Predykcja_Karnych\\dataset\\karne_przerobione\\k11\\frame_0170.jpg: 352x512 1 ball, 1 person, 1 goal, 26.5ms\n",
      "image 172/232 C:\\Users\\user\\Desktop\\studia\\Widzenie Komputerowe Projekt\\Predykcja_Karnych\\dataset\\karne_przerobione\\k11\\frame_0171.jpg: 352x512 1 ball, 1 person, 1 goal, 26.2ms\n",
      "image 173/232 C:\\Users\\user\\Desktop\\studia\\Widzenie Komputerowe Projekt\\Predykcja_Karnych\\dataset\\karne_przerobione\\k11\\frame_0172.jpg: 352x512 1 ball, 1 person, 1 goal, 23.8ms\n",
      "image 174/232 C:\\Users\\user\\Desktop\\studia\\Widzenie Komputerowe Projekt\\Predykcja_Karnych\\dataset\\karne_przerobione\\k11\\frame_0173.jpg: 352x512 1 ball, 1 person, 1 goal, 46.4ms\n",
      "image 175/232 C:\\Users\\user\\Desktop\\studia\\Widzenie Komputerowe Projekt\\Predykcja_Karnych\\dataset\\karne_przerobione\\k11\\frame_0174.jpg: 352x512 1 ball, 1 person, 1 goal, 36.6ms\n",
      "image 176/232 C:\\Users\\user\\Desktop\\studia\\Widzenie Komputerowe Projekt\\Predykcja_Karnych\\dataset\\karne_przerobione\\k11\\frame_0175.jpg: 352x512 1 ball, 1 person, 1 goal, 36.9ms\n",
      "image 177/232 C:\\Users\\user\\Desktop\\studia\\Widzenie Komputerowe Projekt\\Predykcja_Karnych\\dataset\\karne_przerobione\\k11\\frame_0176.jpg: 352x512 2 balls, 1 person, 1 goal, 31.8ms\n",
      "image 178/232 C:\\Users\\user\\Desktop\\studia\\Widzenie Komputerowe Projekt\\Predykcja_Karnych\\dataset\\karne_przerobione\\k11\\frame_0177.jpg: 352x512 2 balls, 1 person, 1 goal, 31.8ms\n",
      "image 179/232 C:\\Users\\user\\Desktop\\studia\\Widzenie Komputerowe Projekt\\Predykcja_Karnych\\dataset\\karne_przerobione\\k11\\frame_0178.jpg: 352x512 2 balls, 1 person, 1 goal, 30.3ms\n",
      "image 180/232 C:\\Users\\user\\Desktop\\studia\\Widzenie Komputerowe Projekt\\Predykcja_Karnych\\dataset\\karne_przerobione\\k11\\frame_0179.jpg: 352x512 1 ball, 1 person, 1 goal, 27.9ms\n",
      "image 181/232 C:\\Users\\user\\Desktop\\studia\\Widzenie Komputerowe Projekt\\Predykcja_Karnych\\dataset\\karne_przerobione\\k11\\frame_0180.jpg: 352x512 1 ball, 1 person, 1 goal, 28.0ms\n",
      "image 182/232 C:\\Users\\user\\Desktop\\studia\\Widzenie Komputerowe Projekt\\Predykcja_Karnych\\dataset\\karne_przerobione\\k11\\frame_0181.jpg: 352x512 1 person, 1 goal, 29.4ms\n",
      "image 183/232 C:\\Users\\user\\Desktop\\studia\\Widzenie Komputerowe Projekt\\Predykcja_Karnych\\dataset\\karne_przerobione\\k11\\frame_0182.jpg: 352x512 1 person, 1 goal, 26.3ms\n",
      "image 184/232 C:\\Users\\user\\Desktop\\studia\\Widzenie Komputerowe Projekt\\Predykcja_Karnych\\dataset\\karne_przerobione\\k11\\frame_0183.jpg: 352x512 1 ball, 1 person, 1 goal, 26.2ms\n",
      "image 185/232 C:\\Users\\user\\Desktop\\studia\\Widzenie Komputerowe Projekt\\Predykcja_Karnych\\dataset\\karne_przerobione\\k11\\frame_0184.jpg: 352x512 1 ball, 1 person, 1 goal, 39.9ms\n",
      "image 186/232 C:\\Users\\user\\Desktop\\studia\\Widzenie Komputerowe Projekt\\Predykcja_Karnych\\dataset\\karne_przerobione\\k11\\frame_0185.jpg: 352x512 1 ball, 1 person, 1 goal, 25.3ms\n",
      "image 187/232 C:\\Users\\user\\Desktop\\studia\\Widzenie Komputerowe Projekt\\Predykcja_Karnych\\dataset\\karne_przerobione\\k11\\frame_0186.jpg: 352x512 1 person, 1 goal, 75.8ms\n",
      "image 188/232 C:\\Users\\user\\Desktop\\studia\\Widzenie Komputerowe Projekt\\Predykcja_Karnych\\dataset\\karne_przerobione\\k11\\frame_0187.jpg: 352x512 1 person, 1 goal, 27.5ms\n",
      "image 189/232 C:\\Users\\user\\Desktop\\studia\\Widzenie Komputerowe Projekt\\Predykcja_Karnych\\dataset\\karne_przerobione\\k11\\frame_0188.jpg: 352x512 1 ball, 1 person, 1 goal, 26.1ms\n",
      "image 190/232 C:\\Users\\user\\Desktop\\studia\\Widzenie Komputerowe Projekt\\Predykcja_Karnych\\dataset\\karne_przerobione\\k11\\frame_0189.jpg: 352x512 1 ball, 1 person, 1 goal, 25.9ms\n",
      "image 191/232 C:\\Users\\user\\Desktop\\studia\\Widzenie Komputerowe Projekt\\Predykcja_Karnych\\dataset\\karne_przerobione\\k11\\frame_0190.jpg: 352x512 1 ball, 1 person, 1 goal, 28.6ms\n",
      "image 192/232 C:\\Users\\user\\Desktop\\studia\\Widzenie Komputerowe Projekt\\Predykcja_Karnych\\dataset\\karne_przerobione\\k11\\frame_0191.jpg: 352x512 1 ball, 1 person, 1 goal, 27.3ms\n",
      "image 193/232 C:\\Users\\user\\Desktop\\studia\\Widzenie Komputerowe Projekt\\Predykcja_Karnych\\dataset\\karne_przerobione\\k11\\frame_0192.jpg: 352x512 1 ball, 1 person, 1 goal, 28.7ms\n",
      "image 194/232 C:\\Users\\user\\Desktop\\studia\\Widzenie Komputerowe Projekt\\Predykcja_Karnych\\dataset\\karne_przerobione\\k11\\frame_0193.jpg: 352x512 1 ball, 1 person, 1 goal, 27.1ms\n",
      "image 195/232 C:\\Users\\user\\Desktop\\studia\\Widzenie Komputerowe Projekt\\Predykcja_Karnych\\dataset\\karne_przerobione\\k11\\frame_0194.jpg: 352x512 1 ball, 1 person, 1 goal, 25.0ms\n",
      "image 196/232 C:\\Users\\user\\Desktop\\studia\\Widzenie Komputerowe Projekt\\Predykcja_Karnych\\dataset\\karne_przerobione\\k11\\frame_0195.jpg: 352x512 1 ball, 1 person, 1 goal, 27.2ms\n",
      "image 197/232 C:\\Users\\user\\Desktop\\studia\\Widzenie Komputerowe Projekt\\Predykcja_Karnych\\dataset\\karne_przerobione\\k11\\frame_0196.jpg: 352x512 1 ball, 1 person, 1 goal, 26.8ms\n",
      "image 198/232 C:\\Users\\user\\Desktop\\studia\\Widzenie Komputerowe Projekt\\Predykcja_Karnych\\dataset\\karne_przerobione\\k11\\frame_0197.jpg: 352x512 1 ball, 1 person, 1 goal, 27.7ms\n",
      "image 199/232 C:\\Users\\user\\Desktop\\studia\\Widzenie Komputerowe Projekt\\Predykcja_Karnych\\dataset\\karne_przerobione\\k11\\frame_0198.jpg: 352x512 1 ball, 1 person, 1 goal, 27.3ms\n",
      "image 200/232 C:\\Users\\user\\Desktop\\studia\\Widzenie Komputerowe Projekt\\Predykcja_Karnych\\dataset\\karne_przerobione\\k11\\frame_0199.jpg: 352x512 1 ball, 1 person, 1 goal, 27.1ms\n",
      "image 201/232 C:\\Users\\user\\Desktop\\studia\\Widzenie Komputerowe Projekt\\Predykcja_Karnych\\dataset\\karne_przerobione\\k11\\frame_0200.jpg: 352x512 1 person, 1 goal, 27.9ms\n",
      "image 202/232 C:\\Users\\user\\Desktop\\studia\\Widzenie Komputerowe Projekt\\Predykcja_Karnych\\dataset\\karne_przerobione\\k11\\frame_0201.jpg: 352x512 1 person, 1 goal, 27.5ms\n",
      "image 203/232 C:\\Users\\user\\Desktop\\studia\\Widzenie Komputerowe Projekt\\Predykcja_Karnych\\dataset\\karne_przerobione\\k11\\frame_0202.jpg: 352x512 1 ball, 1 person, 1 goal, 26.2ms\n",
      "image 204/232 C:\\Users\\user\\Desktop\\studia\\Widzenie Komputerowe Projekt\\Predykcja_Karnych\\dataset\\karne_przerobione\\k11\\frame_0203.jpg: 352x512 1 ball, 1 person, 1 goal, 26.3ms\n",
      "image 205/232 C:\\Users\\user\\Desktop\\studia\\Widzenie Komputerowe Projekt\\Predykcja_Karnych\\dataset\\karne_przerobione\\k11\\frame_0204.jpg: 352x512 1 ball, 1 person, 1 goal, 25.0ms\n",
      "image 206/232 C:\\Users\\user\\Desktop\\studia\\Widzenie Komputerowe Projekt\\Predykcja_Karnych\\dataset\\karne_przerobione\\k11\\frame_0205.jpg: 352x512 1 ball, 1 person, 1 goal, 26.7ms\n",
      "image 207/232 C:\\Users\\user\\Desktop\\studia\\Widzenie Komputerowe Projekt\\Predykcja_Karnych\\dataset\\karne_przerobione\\k11\\frame_0206.jpg: 352x512 1 ball, 1 person, 1 goal, 30.5ms\n",
      "image 208/232 C:\\Users\\user\\Desktop\\studia\\Widzenie Komputerowe Projekt\\Predykcja_Karnych\\dataset\\karne_przerobione\\k11\\frame_0207.jpg: 352x512 1 ball, 1 person, 1 goal, 27.5ms\n",
      "image 209/232 C:\\Users\\user\\Desktop\\studia\\Widzenie Komputerowe Projekt\\Predykcja_Karnych\\dataset\\karne_przerobione\\k11\\frame_0208.jpg: 352x512 2 balls, 1 person, 1 goal, 27.7ms\n",
      "image 210/232 C:\\Users\\user\\Desktop\\studia\\Widzenie Komputerowe Projekt\\Predykcja_Karnych\\dataset\\karne_przerobione\\k11\\frame_0209.jpg: 352x512 2 balls, 1 person, 1 goal, 27.5ms\n",
      "image 211/232 C:\\Users\\user\\Desktop\\studia\\Widzenie Komputerowe Projekt\\Predykcja_Karnych\\dataset\\karne_przerobione\\k11\\frame_0210.jpg: 352x512 1 ball, 1 person, 1 goal, 26.9ms\n",
      "image 212/232 C:\\Users\\user\\Desktop\\studia\\Widzenie Komputerowe Projekt\\Predykcja_Karnych\\dataset\\karne_przerobione\\k11\\frame_0211.jpg: 352x512 1 ball, 1 person, 1 goal, 27.8ms\n",
      "image 213/232 C:\\Users\\user\\Desktop\\studia\\Widzenie Komputerowe Projekt\\Predykcja_Karnych\\dataset\\karne_przerobione\\k11\\frame_0212.jpg: 352x512 1 ball, 1 person, 1 goal, 28.5ms\n",
      "image 214/232 C:\\Users\\user\\Desktop\\studia\\Widzenie Komputerowe Projekt\\Predykcja_Karnych\\dataset\\karne_przerobione\\k11\\frame_0213.jpg: 352x512 2 balls, 1 person, 1 goal, 26.0ms\n",
      "image 215/232 C:\\Users\\user\\Desktop\\studia\\Widzenie Komputerowe Projekt\\Predykcja_Karnych\\dataset\\karne_przerobione\\k11\\frame_0214.jpg: 352x512 2 balls, 1 person, 1 goal, 27.3ms\n",
      "image 216/232 C:\\Users\\user\\Desktop\\studia\\Widzenie Komputerowe Projekt\\Predykcja_Karnych\\dataset\\karne_przerobione\\k11\\frame_0215.jpg: 352x512 1 ball, 1 person, 1 goal, 25.6ms\n",
      "image 217/232 C:\\Users\\user\\Desktop\\studia\\Widzenie Komputerowe Projekt\\Predykcja_Karnych\\dataset\\karne_przerobione\\k11\\frame_0216.jpg: 352x512 1 ball, 1 person, 1 goal, 25.4ms\n",
      "image 218/232 C:\\Users\\user\\Desktop\\studia\\Widzenie Komputerowe Projekt\\Predykcja_Karnych\\dataset\\karne_przerobione\\k11\\frame_0217.jpg: 352x512 1 ball, 1 person, 1 goal, 27.0ms\n",
      "image 219/232 C:\\Users\\user\\Desktop\\studia\\Widzenie Komputerowe Projekt\\Predykcja_Karnych\\dataset\\karne_przerobione\\k11\\frame_0218.jpg: 352x512 1 ball, 1 person, 1 goal, 25.3ms\n",
      "image 220/232 C:\\Users\\user\\Desktop\\studia\\Widzenie Komputerowe Projekt\\Predykcja_Karnych\\dataset\\karne_przerobione\\k11\\frame_0219.jpg: 352x512 1 ball, 1 person, 1 goal, 27.9ms\n",
      "image 221/232 C:\\Users\\user\\Desktop\\studia\\Widzenie Komputerowe Projekt\\Predykcja_Karnych\\dataset\\karne_przerobione\\k11\\frame_0220.jpg: 352x512 1 person, 1 goal, 29.3ms\n",
      "image 222/232 C:\\Users\\user\\Desktop\\studia\\Widzenie Komputerowe Projekt\\Predykcja_Karnych\\dataset\\karne_przerobione\\k11\\frame_0221.jpg: 352x512 1 person, 1 goal, 30.5ms\n",
      "image 223/232 C:\\Users\\user\\Desktop\\studia\\Widzenie Komputerowe Projekt\\Predykcja_Karnych\\dataset\\karne_przerobione\\k11\\frame_0222.jpg: 352x512 1 ball, 1 person, 1 goal, 27.9ms\n",
      "image 224/232 C:\\Users\\user\\Desktop\\studia\\Widzenie Komputerowe Projekt\\Predykcja_Karnych\\dataset\\karne_przerobione\\k11\\frame_0223.jpg: 352x512 1 ball, 1 person, 1 goal, 27.0ms\n",
      "image 225/232 C:\\Users\\user\\Desktop\\studia\\Widzenie Komputerowe Projekt\\Predykcja_Karnych\\dataset\\karne_przerobione\\k11\\frame_0224.jpg: 352x512 1 ball, 1 person, 1 goal, 27.9ms\n",
      "image 226/232 C:\\Users\\user\\Desktop\\studia\\Widzenie Komputerowe Projekt\\Predykcja_Karnych\\dataset\\karne_przerobione\\k11\\frame_0225.jpg: 352x512 1 person, 1 goal, 24.9ms\n",
      "image 227/232 C:\\Users\\user\\Desktop\\studia\\Widzenie Komputerowe Projekt\\Predykcja_Karnych\\dataset\\karne_przerobione\\k11\\frame_0226.jpg: 352x512 1 person, 1 goal, 35.9ms\n",
      "image 228/232 C:\\Users\\user\\Desktop\\studia\\Widzenie Komputerowe Projekt\\Predykcja_Karnych\\dataset\\karne_przerobione\\k11\\frame_0227.jpg: 352x512 1 ball, 1 person, 1 goal, 26.6ms\n",
      "image 229/232 C:\\Users\\user\\Desktop\\studia\\Widzenie Komputerowe Projekt\\Predykcja_Karnych\\dataset\\karne_przerobione\\k11\\frame_0228.jpg: 352x512 1 ball, 1 person, 1 goal, 26.1ms\n",
      "image 230/232 C:\\Users\\user\\Desktop\\studia\\Widzenie Komputerowe Projekt\\Predykcja_Karnych\\dataset\\karne_przerobione\\k11\\frame_0229.jpg: 352x512 1 ball, 1 person, 1 goal, 27.2ms\n",
      "image 231/232 C:\\Users\\user\\Desktop\\studia\\Widzenie Komputerowe Projekt\\Predykcja_Karnych\\dataset\\karne_przerobione\\k11\\frame_0230.jpg: 352x512 1 person, 1 goal, 25.7ms\n",
      "image 232/232 C:\\Users\\user\\Desktop\\studia\\Widzenie Komputerowe Projekt\\Predykcja_Karnych\\dataset\\karne_przerobione\\k11\\frame_0231.jpg: 352x512 1 person, 1 goal, 37.4ms\n",
      "Speed: 1.4ms preprocess, 28.5ms inference, 0.6ms postprocess per image at shape (1, 3, 352, 512)\n",
      "Results saved to \u001B[1mC:\\Users\\user\\Desktop\\studia\\Widzenie Komputerowe Projekt\\Predykcja_Karnych\\runs\\detect\\predict_k11\\predict2\u001B[0m\n",
      "Przetwarzanie folderu: k12...\n",
      "\n",
      "image 1/129 C:\\Users\\user\\Desktop\\studia\\Widzenie Komputerowe Projekt\\Predykcja_Karnych\\dataset\\karne_przerobione\\k12\\frame_0000.jpg: 352x512 1 ball, 1 person, 1 goal, 43.1ms\n",
      "image 2/129 C:\\Users\\user\\Desktop\\studia\\Widzenie Komputerowe Projekt\\Predykcja_Karnych\\dataset\\karne_przerobione\\k12\\frame_0001.jpg: 352x512 1 ball, 1 person, 1 goal, 40.9ms\n",
      "image 3/129 C:\\Users\\user\\Desktop\\studia\\Widzenie Komputerowe Projekt\\Predykcja_Karnych\\dataset\\karne_przerobione\\k12\\frame_0002.jpg: 352x512 1 ball, 1 person, 1 goal, 31.2ms\n",
      "image 4/129 C:\\Users\\user\\Desktop\\studia\\Widzenie Komputerowe Projekt\\Predykcja_Karnych\\dataset\\karne_przerobione\\k12\\frame_0003.jpg: 352x512 1 ball, 1 person, 1 goal, 28.2ms\n",
      "image 5/129 C:\\Users\\user\\Desktop\\studia\\Widzenie Komputerowe Projekt\\Predykcja_Karnych\\dataset\\karne_przerobione\\k12\\frame_0004.jpg: 352x512 1 ball, 1 person, 1 goal, 27.3ms\n",
      "image 6/129 C:\\Users\\user\\Desktop\\studia\\Widzenie Komputerowe Projekt\\Predykcja_Karnych\\dataset\\karne_przerobione\\k12\\frame_0005.jpg: 352x512 1 ball, 1 person, 1 goal, 27.2ms\n",
      "image 7/129 C:\\Users\\user\\Desktop\\studia\\Widzenie Komputerowe Projekt\\Predykcja_Karnych\\dataset\\karne_przerobione\\k12\\frame_0006.jpg: 352x512 1 ball, 1 person, 1 goal, 25.2ms\n",
      "image 8/129 C:\\Users\\user\\Desktop\\studia\\Widzenie Komputerowe Projekt\\Predykcja_Karnych\\dataset\\karne_przerobione\\k12\\frame_0007.jpg: 352x512 1 ball, 1 person, 1 goal, 27.1ms\n",
      "image 9/129 C:\\Users\\user\\Desktop\\studia\\Widzenie Komputerowe Projekt\\Predykcja_Karnych\\dataset\\karne_przerobione\\k12\\frame_0008.jpg: 352x512 1 ball, 1 person, 1 goal, 25.3ms\n",
      "image 10/129 C:\\Users\\user\\Desktop\\studia\\Widzenie Komputerowe Projekt\\Predykcja_Karnych\\dataset\\karne_przerobione\\k12\\frame_0009.jpg: 352x512 1 ball, 1 person, 1 goal, 27.1ms\n",
      "image 11/129 C:\\Users\\user\\Desktop\\studia\\Widzenie Komputerowe Projekt\\Predykcja_Karnych\\dataset\\karne_przerobione\\k12\\frame_0010.jpg: 352x512 1 ball, 1 person, 1 goal, 26.2ms\n",
      "image 12/129 C:\\Users\\user\\Desktop\\studia\\Widzenie Komputerowe Projekt\\Predykcja_Karnych\\dataset\\karne_przerobione\\k12\\frame_0011.jpg: 352x512 1 ball, 1 person, 1 goal, 31.9ms\n",
      "image 13/129 C:\\Users\\user\\Desktop\\studia\\Widzenie Komputerowe Projekt\\Predykcja_Karnych\\dataset\\karne_przerobione\\k12\\frame_0012.jpg: 352x512 1 ball, 1 person, 1 goal, 31.5ms\n",
      "image 14/129 C:\\Users\\user\\Desktop\\studia\\Widzenie Komputerowe Projekt\\Predykcja_Karnych\\dataset\\karne_przerobione\\k12\\frame_0013.jpg: 352x512 1 ball, 1 person, 1 goal, 30.9ms\n",
      "image 15/129 C:\\Users\\user\\Desktop\\studia\\Widzenie Komputerowe Projekt\\Predykcja_Karnych\\dataset\\karne_przerobione\\k12\\frame_0014.jpg: 352x512 1 ball, 1 person, 1 goal, 31.3ms\n",
      "image 16/129 C:\\Users\\user\\Desktop\\studia\\Widzenie Komputerowe Projekt\\Predykcja_Karnych\\dataset\\karne_przerobione\\k12\\frame_0015.jpg: 352x512 1 ball, 1 person, 1 goal, 30.8ms\n",
      "image 17/129 C:\\Users\\user\\Desktop\\studia\\Widzenie Komputerowe Projekt\\Predykcja_Karnych\\dataset\\karne_przerobione\\k12\\frame_0016.jpg: 352x512 1 ball, 1 person, 1 goal, 29.1ms\n",
      "image 18/129 C:\\Users\\user\\Desktop\\studia\\Widzenie Komputerowe Projekt\\Predykcja_Karnych\\dataset\\karne_przerobione\\k12\\frame_0017.jpg: 352x512 1 ball, 1 person, 1 goal, 28.0ms\n",
      "image 19/129 C:\\Users\\user\\Desktop\\studia\\Widzenie Komputerowe Projekt\\Predykcja_Karnych\\dataset\\karne_przerobione\\k12\\frame_0018.jpg: 352x512 1 ball, 1 person, 1 goal, 26.9ms\n",
      "image 20/129 C:\\Users\\user\\Desktop\\studia\\Widzenie Komputerowe Projekt\\Predykcja_Karnych\\dataset\\karne_przerobione\\k12\\frame_0019.jpg: 352x512 1 ball, 1 person, 1 goal, 27.3ms\n",
      "image 21/129 C:\\Users\\user\\Desktop\\studia\\Widzenie Komputerowe Projekt\\Predykcja_Karnych\\dataset\\karne_przerobione\\k12\\frame_0020.jpg: 352x512 1 ball, 1 person, 1 goal, 25.4ms\n",
      "image 22/129 C:\\Users\\user\\Desktop\\studia\\Widzenie Komputerowe Projekt\\Predykcja_Karnych\\dataset\\karne_przerobione\\k12\\frame_0021.jpg: 352x512 1 ball, 1 person, 1 goal, 27.8ms\n",
      "image 23/129 C:\\Users\\user\\Desktop\\studia\\Widzenie Komputerowe Projekt\\Predykcja_Karnych\\dataset\\karne_przerobione\\k12\\frame_0022.jpg: 352x512 1 ball, 1 person, 1 goal, 29.0ms\n",
      "image 24/129 C:\\Users\\user\\Desktop\\studia\\Widzenie Komputerowe Projekt\\Predykcja_Karnych\\dataset\\karne_przerobione\\k12\\frame_0023.jpg: 352x512 1 ball, 1 person, 1 goal, 29.0ms\n",
      "image 25/129 C:\\Users\\user\\Desktop\\studia\\Widzenie Komputerowe Projekt\\Predykcja_Karnych\\dataset\\karne_przerobione\\k12\\frame_0024.jpg: 352x512 1 ball, 1 person, 1 goal, 29.8ms\n",
      "image 26/129 C:\\Users\\user\\Desktop\\studia\\Widzenie Komputerowe Projekt\\Predykcja_Karnych\\dataset\\karne_przerobione\\k12\\frame_0025.jpg: 352x512 1 ball, 1 person, 1 goal, 31.0ms\n",
      "image 27/129 C:\\Users\\user\\Desktop\\studia\\Widzenie Komputerowe Projekt\\Predykcja_Karnych\\dataset\\karne_przerobione\\k12\\frame_0026.jpg: 352x512 1 ball, 1 person, 1 goal, 28.4ms\n",
      "image 28/129 C:\\Users\\user\\Desktop\\studia\\Widzenie Komputerowe Projekt\\Predykcja_Karnych\\dataset\\karne_przerobione\\k12\\frame_0027.jpg: 352x512 1 ball, 1 person, 1 goal, 28.9ms\n",
      "image 29/129 C:\\Users\\user\\Desktop\\studia\\Widzenie Komputerowe Projekt\\Predykcja_Karnych\\dataset\\karne_przerobione\\k12\\frame_0028.jpg: 352x512 1 ball, 1 person, 1 goal, 26.4ms\n",
      "image 30/129 C:\\Users\\user\\Desktop\\studia\\Widzenie Komputerowe Projekt\\Predykcja_Karnych\\dataset\\karne_przerobione\\k12\\frame_0029.jpg: 352x512 1 ball, 1 person, 1 goal, 27.5ms\n",
      "image 31/129 C:\\Users\\user\\Desktop\\studia\\Widzenie Komputerowe Projekt\\Predykcja_Karnych\\dataset\\karne_przerobione\\k12\\frame_0030.jpg: 352x512 1 ball, 1 person, 1 goal, 25.9ms\n",
      "image 32/129 C:\\Users\\user\\Desktop\\studia\\Widzenie Komputerowe Projekt\\Predykcja_Karnych\\dataset\\karne_przerobione\\k12\\frame_0031.jpg: 352x512 1 ball, 1 person, 1 goal, 27.9ms\n",
      "image 33/129 C:\\Users\\user\\Desktop\\studia\\Widzenie Komputerowe Projekt\\Predykcja_Karnych\\dataset\\karne_przerobione\\k12\\frame_0032.jpg: 352x512 1 ball, 1 person, 1 goal, 29.7ms\n",
      "image 34/129 C:\\Users\\user\\Desktop\\studia\\Widzenie Komputerowe Projekt\\Predykcja_Karnych\\dataset\\karne_przerobione\\k12\\frame_0033.jpg: 352x512 1 ball, 1 person, 1 goal, 36.0ms\n",
      "image 35/129 C:\\Users\\user\\Desktop\\studia\\Widzenie Komputerowe Projekt\\Predykcja_Karnych\\dataset\\karne_przerobione\\k12\\frame_0034.jpg: 352x512 1 ball, 1 person, 1 goal, 31.1ms\n",
      "image 36/129 C:\\Users\\user\\Desktop\\studia\\Widzenie Komputerowe Projekt\\Predykcja_Karnych\\dataset\\karne_przerobione\\k12\\frame_0035.jpg: 352x512 1 ball, 1 person, 1 goal, 27.7ms\n",
      "image 37/129 C:\\Users\\user\\Desktop\\studia\\Widzenie Komputerowe Projekt\\Predykcja_Karnych\\dataset\\karne_przerobione\\k12\\frame_0036.jpg: 352x512 1 ball, 1 person, 1 goal, 27.0ms\n",
      "image 38/129 C:\\Users\\user\\Desktop\\studia\\Widzenie Komputerowe Projekt\\Predykcja_Karnych\\dataset\\karne_przerobione\\k12\\frame_0037.jpg: 352x512 1 ball, 1 person, 1 goal, 25.0ms\n",
      "image 39/129 C:\\Users\\user\\Desktop\\studia\\Widzenie Komputerowe Projekt\\Predykcja_Karnych\\dataset\\karne_przerobione\\k12\\frame_0038.jpg: 352x512 1 ball, 1 person, 1 goal, 37.9ms\n",
      "image 40/129 C:\\Users\\user\\Desktop\\studia\\Widzenie Komputerowe Projekt\\Predykcja_Karnych\\dataset\\karne_przerobione\\k12\\frame_0039.jpg: 352x512 1 ball, 1 person, 1 goal, 30.1ms\n",
      "image 41/129 C:\\Users\\user\\Desktop\\studia\\Widzenie Komputerowe Projekt\\Predykcja_Karnych\\dataset\\karne_przerobione\\k12\\frame_0040.jpg: 352x512 1 ball, 1 person, 1 goal, 40.2ms\n",
      "image 42/129 C:\\Users\\user\\Desktop\\studia\\Widzenie Komputerowe Projekt\\Predykcja_Karnych\\dataset\\karne_przerobione\\k12\\frame_0041.jpg: 352x512 1 ball, 1 person, 1 goal, 35.0ms\n",
      "image 43/129 C:\\Users\\user\\Desktop\\studia\\Widzenie Komputerowe Projekt\\Predykcja_Karnych\\dataset\\karne_przerobione\\k12\\frame_0042.jpg: 352x512 1 ball, 1 person, 1 goal, 27.7ms\n",
      "image 44/129 C:\\Users\\user\\Desktop\\studia\\Widzenie Komputerowe Projekt\\Predykcja_Karnych\\dataset\\karne_przerobione\\k12\\frame_0043.jpg: 352x512 1 ball, 1 person, 1 goal, 27.0ms\n",
      "image 45/129 C:\\Users\\user\\Desktop\\studia\\Widzenie Komputerowe Projekt\\Predykcja_Karnych\\dataset\\karne_przerobione\\k12\\frame_0044.jpg: 352x512 1 ball, 1 person, 1 goal, 28.4ms\n",
      "image 46/129 C:\\Users\\user\\Desktop\\studia\\Widzenie Komputerowe Projekt\\Predykcja_Karnych\\dataset\\karne_przerobione\\k12\\frame_0045.jpg: 352x512 1 ball, 1 person, 1 goal, 26.4ms\n",
      "image 47/129 C:\\Users\\user\\Desktop\\studia\\Widzenie Komputerowe Projekt\\Predykcja_Karnych\\dataset\\karne_przerobione\\k12\\frame_0046.jpg: 352x512 1 ball, 1 person, 1 goal, 29.6ms\n",
      "image 48/129 C:\\Users\\user\\Desktop\\studia\\Widzenie Komputerowe Projekt\\Predykcja_Karnych\\dataset\\karne_przerobione\\k12\\frame_0047.jpg: 352x512 1 ball, 1 person, 1 goal, 25.9ms\n",
      "image 49/129 C:\\Users\\user\\Desktop\\studia\\Widzenie Komputerowe Projekt\\Predykcja_Karnych\\dataset\\karne_przerobione\\k12\\frame_0048.jpg: 352x512 1 ball, 1 person, 1 goal, 27.6ms\n",
      "image 50/129 C:\\Users\\user\\Desktop\\studia\\Widzenie Komputerowe Projekt\\Predykcja_Karnych\\dataset\\karne_przerobione\\k12\\frame_0049.jpg: 352x512 1 ball, 1 person, 1 goal, 27.2ms\n",
      "image 51/129 C:\\Users\\user\\Desktop\\studia\\Widzenie Komputerowe Projekt\\Predykcja_Karnych\\dataset\\karne_przerobione\\k12\\frame_0050.jpg: 352x512 1 ball, 1 person, 1 goal, 35.9ms\n",
      "image 52/129 C:\\Users\\user\\Desktop\\studia\\Widzenie Komputerowe Projekt\\Predykcja_Karnych\\dataset\\karne_przerobione\\k12\\frame_0051.jpg: 352x512 1 ball, 1 person, 1 goal, 25.7ms\n",
      "image 53/129 C:\\Users\\user\\Desktop\\studia\\Widzenie Komputerowe Projekt\\Predykcja_Karnych\\dataset\\karne_przerobione\\k12\\frame_0052.jpg: 352x512 1 ball, 1 person, 1 goal, 40.4ms\n",
      "image 54/129 C:\\Users\\user\\Desktop\\studia\\Widzenie Komputerowe Projekt\\Predykcja_Karnych\\dataset\\karne_przerobione\\k12\\frame_0053.jpg: 352x512 1 ball, 1 person, 1 goal, 26.2ms\n",
      "image 55/129 C:\\Users\\user\\Desktop\\studia\\Widzenie Komputerowe Projekt\\Predykcja_Karnych\\dataset\\karne_przerobione\\k12\\frame_0054.jpg: 352x512 1 ball, 1 person, 1 goal, 34.7ms\n",
      "image 56/129 C:\\Users\\user\\Desktop\\studia\\Widzenie Komputerowe Projekt\\Predykcja_Karnych\\dataset\\karne_przerobione\\k12\\frame_0055.jpg: 352x512 1 ball, 1 person, 1 goal, 25.4ms\n",
      "image 57/129 C:\\Users\\user\\Desktop\\studia\\Widzenie Komputerowe Projekt\\Predykcja_Karnych\\dataset\\karne_przerobione\\k12\\frame_0056.jpg: 352x512 1 ball, 1 person, 1 goal, 26.9ms\n",
      "image 58/129 C:\\Users\\user\\Desktop\\studia\\Widzenie Komputerowe Projekt\\Predykcja_Karnych\\dataset\\karne_przerobione\\k12\\frame_0057.jpg: 352x512 1 ball, 1 person, 1 goal, 47.4ms\n",
      "image 59/129 C:\\Users\\user\\Desktop\\studia\\Widzenie Komputerowe Projekt\\Predykcja_Karnych\\dataset\\karne_przerobione\\k12\\frame_0058.jpg: 352x512 1 ball, 1 person, 1 goal, 62.3ms\n",
      "image 60/129 C:\\Users\\user\\Desktop\\studia\\Widzenie Komputerowe Projekt\\Predykcja_Karnych\\dataset\\karne_przerobione\\k12\\frame_0059.jpg: 352x512 1 ball, 1 person, 1 goal, 44.5ms\n",
      "image 61/129 C:\\Users\\user\\Desktop\\studia\\Widzenie Komputerowe Projekt\\Predykcja_Karnych\\dataset\\karne_przerobione\\k12\\frame_0060.jpg: 352x512 1 ball, 1 person, 1 goal, 88.9ms\n",
      "image 62/129 C:\\Users\\user\\Desktop\\studia\\Widzenie Komputerowe Projekt\\Predykcja_Karnych\\dataset\\karne_przerobione\\k12\\frame_0061.jpg: 352x512 1 ball, 1 person, 1 goal, 37.0ms\n",
      "image 63/129 C:\\Users\\user\\Desktop\\studia\\Widzenie Komputerowe Projekt\\Predykcja_Karnych\\dataset\\karne_przerobione\\k12\\frame_0062.jpg: 352x512 1 ball, 1 person, 1 goal, 42.1ms\n",
      "image 64/129 C:\\Users\\user\\Desktop\\studia\\Widzenie Komputerowe Projekt\\Predykcja_Karnych\\dataset\\karne_przerobione\\k12\\frame_0063.jpg: 352x512 1 ball, 1 person, 1 goal, 28.1ms\n",
      "image 65/129 C:\\Users\\user\\Desktop\\studia\\Widzenie Komputerowe Projekt\\Predykcja_Karnych\\dataset\\karne_przerobione\\k12\\frame_0064.jpg: 352x512 1 ball, 1 person, 1 goal, 27.8ms\n",
      "image 66/129 C:\\Users\\user\\Desktop\\studia\\Widzenie Komputerowe Projekt\\Predykcja_Karnych\\dataset\\karne_przerobione\\k12\\frame_0065.jpg: 352x512 1 ball, 1 person, 1 goal, 26.1ms\n",
      "image 67/129 C:\\Users\\user\\Desktop\\studia\\Widzenie Komputerowe Projekt\\Predykcja_Karnych\\dataset\\karne_przerobione\\k12\\frame_0066.jpg: 352x512 1 ball, 1 person, 1 goal, 24.6ms\n",
      "image 68/129 C:\\Users\\user\\Desktop\\studia\\Widzenie Komputerowe Projekt\\Predykcja_Karnych\\dataset\\karne_przerobione\\k12\\frame_0067.jpg: 352x512 1 ball, 1 person, 1 goal, 28.2ms\n",
      "image 69/129 C:\\Users\\user\\Desktop\\studia\\Widzenie Komputerowe Projekt\\Predykcja_Karnych\\dataset\\karne_przerobione\\k12\\frame_0068.jpg: 352x512 1 ball, 1 person, 1 goal, 27.4ms\n",
      "image 70/129 C:\\Users\\user\\Desktop\\studia\\Widzenie Komputerowe Projekt\\Predykcja_Karnych\\dataset\\karne_przerobione\\k12\\frame_0069.jpg: 352x512 1 ball, 1 person, 1 goal, 25.8ms\n",
      "image 71/129 C:\\Users\\user\\Desktop\\studia\\Widzenie Komputerowe Projekt\\Predykcja_Karnych\\dataset\\karne_przerobione\\k12\\frame_0070.jpg: 352x512 1 ball, 1 person, 1 goal, 30.5ms\n",
      "image 72/129 C:\\Users\\user\\Desktop\\studia\\Widzenie Komputerowe Projekt\\Predykcja_Karnych\\dataset\\karne_przerobione\\k12\\frame_0071.jpg: 352x512 1 ball, 1 person, 1 goal, 33.1ms\n",
      "image 73/129 C:\\Users\\user\\Desktop\\studia\\Widzenie Komputerowe Projekt\\Predykcja_Karnych\\dataset\\karne_przerobione\\k12\\frame_0072.jpg: 352x512 1 ball, 1 person, 1 goal, 29.4ms\n",
      "image 74/129 C:\\Users\\user\\Desktop\\studia\\Widzenie Komputerowe Projekt\\Predykcja_Karnych\\dataset\\karne_przerobione\\k12\\frame_0073.jpg: 352x512 1 ball, 1 person, 1 goal, 26.1ms\n",
      "image 75/129 C:\\Users\\user\\Desktop\\studia\\Widzenie Komputerowe Projekt\\Predykcja_Karnych\\dataset\\karne_przerobione\\k12\\frame_0074.jpg: 352x512 1 ball, 1 person, 1 goal, 28.8ms\n",
      "image 76/129 C:\\Users\\user\\Desktop\\studia\\Widzenie Komputerowe Projekt\\Predykcja_Karnych\\dataset\\karne_przerobione\\k12\\frame_0075.jpg: 352x512 1 ball, 1 person, 1 goal, 27.5ms\n",
      "image 77/129 C:\\Users\\user\\Desktop\\studia\\Widzenie Komputerowe Projekt\\Predykcja_Karnych\\dataset\\karne_przerobione\\k12\\frame_0076.jpg: 352x512 1 ball, 1 person, 1 goal, 27.6ms\n",
      "image 78/129 C:\\Users\\user\\Desktop\\studia\\Widzenie Komputerowe Projekt\\Predykcja_Karnych\\dataset\\karne_przerobione\\k12\\frame_0077.jpg: 352x512 1 ball, 1 person, 1 goal, 27.6ms\n",
      "image 79/129 C:\\Users\\user\\Desktop\\studia\\Widzenie Komputerowe Projekt\\Predykcja_Karnych\\dataset\\karne_przerobione\\k12\\frame_0078.jpg: 352x512 1 ball, 1 person, 1 goal, 26.1ms\n",
      "image 80/129 C:\\Users\\user\\Desktop\\studia\\Widzenie Komputerowe Projekt\\Predykcja_Karnych\\dataset\\karne_przerobione\\k12\\frame_0079.jpg: 352x512 1 ball, 1 person, 1 goal, 28.1ms\n",
      "image 81/129 C:\\Users\\user\\Desktop\\studia\\Widzenie Komputerowe Projekt\\Predykcja_Karnych\\dataset\\karne_przerobione\\k12\\frame_0080.jpg: 352x512 1 ball, 1 person, 1 goal, 26.2ms\n",
      "image 82/129 C:\\Users\\user\\Desktop\\studia\\Widzenie Komputerowe Projekt\\Predykcja_Karnych\\dataset\\karne_przerobione\\k12\\frame_0081.jpg: 352x512 1 ball, 1 person, 1 goal, 28.2ms\n",
      "image 83/129 C:\\Users\\user\\Desktop\\studia\\Widzenie Komputerowe Projekt\\Predykcja_Karnych\\dataset\\karne_przerobione\\k12\\frame_0082.jpg: 352x512 1 ball, 1 person, 1 goal, 25.8ms\n",
      "image 84/129 C:\\Users\\user\\Desktop\\studia\\Widzenie Komputerowe Projekt\\Predykcja_Karnych\\dataset\\karne_przerobione\\k12\\frame_0083.jpg: 352x512 1 ball, 1 person, 1 goal, 26.6ms\n",
      "image 85/129 C:\\Users\\user\\Desktop\\studia\\Widzenie Komputerowe Projekt\\Predykcja_Karnych\\dataset\\karne_przerobione\\k12\\frame_0084.jpg: 352x512 1 ball, 1 person, 1 goal, 26.4ms\n",
      "image 86/129 C:\\Users\\user\\Desktop\\studia\\Widzenie Komputerowe Projekt\\Predykcja_Karnych\\dataset\\karne_przerobione\\k12\\frame_0085.jpg: 352x512 1 ball, 1 person, 1 goal, 25.9ms\n",
      "image 87/129 C:\\Users\\user\\Desktop\\studia\\Widzenie Komputerowe Projekt\\Predykcja_Karnych\\dataset\\karne_przerobione\\k12\\frame_0086.jpg: 352x512 1 ball, 1 person, 1 goal, 28.0ms\n",
      "image 88/129 C:\\Users\\user\\Desktop\\studia\\Widzenie Komputerowe Projekt\\Predykcja_Karnych\\dataset\\karne_przerobione\\k12\\frame_0087.jpg: 352x512 1 ball, 1 person, 1 goal, 28.2ms\n",
      "image 89/129 C:\\Users\\user\\Desktop\\studia\\Widzenie Komputerowe Projekt\\Predykcja_Karnych\\dataset\\karne_przerobione\\k12\\frame_0088.jpg: 352x512 1 ball, 1 person, 1 goal, 27.6ms\n",
      "image 90/129 C:\\Users\\user\\Desktop\\studia\\Widzenie Komputerowe Projekt\\Predykcja_Karnych\\dataset\\karne_przerobione\\k12\\frame_0089.jpg: 352x512 1 ball, 1 person, 1 goal, 27.0ms\n",
      "image 91/129 C:\\Users\\user\\Desktop\\studia\\Widzenie Komputerowe Projekt\\Predykcja_Karnych\\dataset\\karne_przerobione\\k12\\frame_0090.jpg: 352x512 1 ball, 1 person, 1 goal, 28.3ms\n",
      "image 92/129 C:\\Users\\user\\Desktop\\studia\\Widzenie Komputerowe Projekt\\Predykcja_Karnych\\dataset\\karne_przerobione\\k12\\frame_0091.jpg: 352x512 1 ball, 1 person, 1 goal, 27.6ms\n",
      "image 93/129 C:\\Users\\user\\Desktop\\studia\\Widzenie Komputerowe Projekt\\Predykcja_Karnych\\dataset\\karne_przerobione\\k12\\frame_0092.jpg: 352x512 1 ball, 1 person, 1 goal, 26.7ms\n",
      "image 94/129 C:\\Users\\user\\Desktop\\studia\\Widzenie Komputerowe Projekt\\Predykcja_Karnych\\dataset\\karne_przerobione\\k12\\frame_0093.jpg: 352x512 1 ball, 1 person, 1 goal, 25.2ms\n",
      "image 95/129 C:\\Users\\user\\Desktop\\studia\\Widzenie Komputerowe Projekt\\Predykcja_Karnych\\dataset\\karne_przerobione\\k12\\frame_0094.jpg: 352x512 1 ball, 1 person, 1 goal, 26.4ms\n",
      "image 96/129 C:\\Users\\user\\Desktop\\studia\\Widzenie Komputerowe Projekt\\Predykcja_Karnych\\dataset\\karne_przerobione\\k12\\frame_0095.jpg: 352x512 1 ball, 1 person, 1 goal, 25.8ms\n",
      "image 97/129 C:\\Users\\user\\Desktop\\studia\\Widzenie Komputerowe Projekt\\Predykcja_Karnych\\dataset\\karne_przerobione\\k12\\frame_0096.jpg: 352x512 1 ball, 1 person, 1 goal, 27.8ms\n",
      "image 98/129 C:\\Users\\user\\Desktop\\studia\\Widzenie Komputerowe Projekt\\Predykcja_Karnych\\dataset\\karne_przerobione\\k12\\frame_0097.jpg: 352x512 1 ball, 1 person, 1 goal, 26.0ms\n",
      "image 99/129 C:\\Users\\user\\Desktop\\studia\\Widzenie Komputerowe Projekt\\Predykcja_Karnych\\dataset\\karne_przerobione\\k12\\frame_0098.jpg: 352x512 1 ball, 1 person, 1 goal, 29.7ms\n",
      "image 100/129 C:\\Users\\user\\Desktop\\studia\\Widzenie Komputerowe Projekt\\Predykcja_Karnych\\dataset\\karne_przerobione\\k12\\frame_0099.jpg: 352x512 1 ball, 1 person, 1 goal, 33.9ms\n",
      "image 101/129 C:\\Users\\user\\Desktop\\studia\\Widzenie Komputerowe Projekt\\Predykcja_Karnych\\dataset\\karne_przerobione\\k12\\frame_0100.jpg: 352x512 1 ball, 1 person, 1 goal, 32.0ms\n",
      "image 102/129 C:\\Users\\user\\Desktop\\studia\\Widzenie Komputerowe Projekt\\Predykcja_Karnych\\dataset\\karne_przerobione\\k12\\frame_0101.jpg: 352x512 1 ball, 1 person, 1 goal, 29.8ms\n",
      "image 103/129 C:\\Users\\user\\Desktop\\studia\\Widzenie Komputerowe Projekt\\Predykcja_Karnych\\dataset\\karne_przerobione\\k12\\frame_0102.jpg: 352x512 1 ball, 1 person, 1 goal, 30.6ms\n",
      "image 104/129 C:\\Users\\user\\Desktop\\studia\\Widzenie Komputerowe Projekt\\Predykcja_Karnych\\dataset\\karne_przerobione\\k12\\frame_0103.jpg: 352x512 1 ball, 1 person, 1 goal, 32.0ms\n",
      "image 105/129 C:\\Users\\user\\Desktop\\studia\\Widzenie Komputerowe Projekt\\Predykcja_Karnych\\dataset\\karne_przerobione\\k12\\frame_0104.jpg: 352x512 1 ball, 1 person, 1 goal, 27.2ms\n",
      "image 106/129 C:\\Users\\user\\Desktop\\studia\\Widzenie Komputerowe Projekt\\Predykcja_Karnych\\dataset\\karne_przerobione\\k12\\frame_0105.jpg: 352x512 1 ball, 1 person, 1 goal, 26.6ms\n",
      "image 107/129 C:\\Users\\user\\Desktop\\studia\\Widzenie Komputerowe Projekt\\Predykcja_Karnych\\dataset\\karne_przerobione\\k12\\frame_0106.jpg: 352x512 1 ball, 1 person, 1 goal, 27.5ms\n",
      "image 108/129 C:\\Users\\user\\Desktop\\studia\\Widzenie Komputerowe Projekt\\Predykcja_Karnych\\dataset\\karne_przerobione\\k12\\frame_0107.jpg: 352x512 1 ball, 1 person, 1 goal, 26.4ms\n",
      "image 109/129 C:\\Users\\user\\Desktop\\studia\\Widzenie Komputerowe Projekt\\Predykcja_Karnych\\dataset\\karne_przerobione\\k12\\frame_0108.jpg: 352x512 1 person, 1 goal, 33.2ms\n",
      "image 110/129 C:\\Users\\user\\Desktop\\studia\\Widzenie Komputerowe Projekt\\Predykcja_Karnych\\dataset\\karne_przerobione\\k12\\frame_0109.jpg: 352x512 1 person, 1 goal, 26.3ms\n",
      "image 111/129 C:\\Users\\user\\Desktop\\studia\\Widzenie Komputerowe Projekt\\Predykcja_Karnych\\dataset\\karne_przerobione\\k12\\frame_0110.jpg: 352x512 1 person, 1 goal, 25.5ms\n",
      "image 112/129 C:\\Users\\user\\Desktop\\studia\\Widzenie Komputerowe Projekt\\Predykcja_Karnych\\dataset\\karne_przerobione\\k12\\frame_0111.jpg: 352x512 1 person, 1 goal, 26.9ms\n",
      "image 113/129 C:\\Users\\user\\Desktop\\studia\\Widzenie Komputerowe Projekt\\Predykcja_Karnych\\dataset\\karne_przerobione\\k12\\frame_0112.jpg: 352x512 1 person, 1 goal, 26.1ms\n",
      "image 114/129 C:\\Users\\user\\Desktop\\studia\\Widzenie Komputerowe Projekt\\Predykcja_Karnych\\dataset\\karne_przerobione\\k12\\frame_0113.jpg: 352x512 2 balls, 1 person, 1 goal, 44.5ms\n",
      "image 115/129 C:\\Users\\user\\Desktop\\studia\\Widzenie Komputerowe Projekt\\Predykcja_Karnych\\dataset\\karne_przerobione\\k12\\frame_0114.jpg: 352x512 1 ball, 1 person, 1 goal, 36.1ms\n",
      "image 116/129 C:\\Users\\user\\Desktop\\studia\\Widzenie Komputerowe Projekt\\Predykcja_Karnych\\dataset\\karne_przerobione\\k12\\frame_0115.jpg: 352x512 2 balls, 1 person, 1 goal, 37.5ms\n",
      "image 117/129 C:\\Users\\user\\Desktop\\studia\\Widzenie Komputerowe Projekt\\Predykcja_Karnych\\dataset\\karne_przerobione\\k12\\frame_0116.jpg: 352x512 2 balls, 1 person, 1 goal, 31.9ms\n",
      "image 118/129 C:\\Users\\user\\Desktop\\studia\\Widzenie Komputerowe Projekt\\Predykcja_Karnych\\dataset\\karne_przerobione\\k12\\frame_0117.jpg: 352x512 2 balls, 1 person, 1 goal, 29.9ms\n",
      "image 119/129 C:\\Users\\user\\Desktop\\studia\\Widzenie Komputerowe Projekt\\Predykcja_Karnych\\dataset\\karne_przerobione\\k12\\frame_0118.jpg: 352x512 1 ball, 1 person, 1 goal, 26.7ms\n",
      "image 120/129 C:\\Users\\user\\Desktop\\studia\\Widzenie Komputerowe Projekt\\Predykcja_Karnych\\dataset\\karne_przerobione\\k12\\frame_0119.jpg: 352x512 1 ball, 1 person, 1 goal, 25.9ms\n",
      "image 121/129 C:\\Users\\user\\Desktop\\studia\\Widzenie Komputerowe Projekt\\Predykcja_Karnych\\dataset\\karne_przerobione\\k12\\frame_0120.jpg: 352x512 1 ball, 1 person, 1 goal, 27.5ms\n",
      "image 122/129 C:\\Users\\user\\Desktop\\studia\\Widzenie Komputerowe Projekt\\Predykcja_Karnych\\dataset\\karne_przerobione\\k12\\frame_0121.jpg: 352x512 1 ball, 1 person, 1 goal, 27.4ms\n",
      "image 123/129 C:\\Users\\user\\Desktop\\studia\\Widzenie Komputerowe Projekt\\Predykcja_Karnych\\dataset\\karne_przerobione\\k12\\frame_0122.jpg: 352x512 1 ball, 1 person, 1 goal, 24.6ms\n",
      "image 124/129 C:\\Users\\user\\Desktop\\studia\\Widzenie Komputerowe Projekt\\Predykcja_Karnych\\dataset\\karne_przerobione\\k12\\frame_0123.jpg: 352x512 1 ball, 1 person, 1 goal, 25.3ms\n",
      "image 125/129 C:\\Users\\user\\Desktop\\studia\\Widzenie Komputerowe Projekt\\Predykcja_Karnych\\dataset\\karne_przerobione\\k12\\frame_0124.jpg: 352x512 1 ball, 1 person, 1 goal, 26.7ms\n",
      "image 126/129 C:\\Users\\user\\Desktop\\studia\\Widzenie Komputerowe Projekt\\Predykcja_Karnych\\dataset\\karne_przerobione\\k12\\frame_0125.jpg: 352x512 1 ball, 1 person, 1 goal, 26.5ms\n",
      "image 127/129 C:\\Users\\user\\Desktop\\studia\\Widzenie Komputerowe Projekt\\Predykcja_Karnych\\dataset\\karne_przerobione\\k12\\frame_0126.jpg: 352x512 1 ball, 1 person, 1 goal, 27.3ms\n",
      "image 128/129 C:\\Users\\user\\Desktop\\studia\\Widzenie Komputerowe Projekt\\Predykcja_Karnych\\dataset\\karne_przerobione\\k12\\frame_0127.jpg: 352x512 1 ball, 1 person, 1 goal, 27.5ms\n",
      "image 129/129 C:\\Users\\user\\Desktop\\studia\\Widzenie Komputerowe Projekt\\Predykcja_Karnych\\dataset\\karne_przerobione\\k12\\frame_0128.jpg: 352x512 1 ball, 1 person, 1 goal, 27.8ms\n",
      "Speed: 1.5ms preprocess, 30.0ms inference, 0.6ms postprocess per image at shape (1, 3, 352, 512)\n",
      "Results saved to \u001B[1mC:\\Users\\user\\Desktop\\studia\\Widzenie Komputerowe Projekt\\Predykcja_Karnych\\runs\\detect\\predict_k12\\predict2\u001B[0m\n",
      "Przetwarzanie zakończone!\n"
     ]
    }
   ],
   "execution_count": 23
  },
  {
   "metadata": {
    "ExecuteTime": {
     "end_time": "2024-11-21T12:02:13.208909Z",
     "start_time": "2024-11-21T12:01:45.454807Z"
    }
   },
   "cell_type": "code",
   "source": [
    "# tworzenie filmu z predykcji\n",
    "\n",
    "def create_video_from_frames(folder_path, output_path, fps=120):\n",
    "  \n",
    "    # Pobierz wszystkie pliki w folderze, posortowane alfabetycznie\n",
    "    files = sorted([f for f in os.listdir(folder_path) if f.endswith(('.png', '.jpg', '.jpeg'))])\n",
    "    \n",
    "    if not files:\n",
    "        print(f\"Brak plików graficznych w folderze: {folder_path}\")\n",
    "        return\n",
    "\n",
    "    # Pobierz wymiary pierwszego obrazu\n",
    "    first_frame_path = os.path.join(folder_path, files[0])\n",
    "    frame = cv2.imread(first_frame_path)\n",
    "    height, width, _ = frame.shape\n",
    "\n",
    "    # Ustawienia kodeka i utworzenie VideoWriter\n",
    "    fourcc = cv2.VideoWriter_fourcc(*'mp4v')  # Użycie kodeka MP4\n",
    "    video_writer = cv2.VideoWriter(output_path, fourcc, fps, (width, height))\n",
    "\n",
    "    # Iteruj przez obrazy i dodawaj je do wideo\n",
    "    for file in files:\n",
    "        frame_path = os.path.join(folder_path, file)\n",
    "        frame = cv2.imread(frame_path)\n",
    "\n",
    "        if frame is None:\n",
    "            print(f\"Nie udało się wczytać obrazu: {frame_path}\")\n",
    "            continue\n",
    "\n",
    "        video_writer.write(frame)  # Dodanie klatki do wideo\n",
    "\n",
    "    # Zwolnij zasoby\n",
    "    video_writer.release()\n",
    "    print(f\"Filmik zapisany jako {output_path}\")\n",
    "\n",
    "# Ścieżki główne\n",
    "input_root_folder = r'C:\\Users\\user\\Desktop\\studia\\Widzenie Komputerowe Projekt\\Predykcja_Karnych\\runs\\detect'  # Folder z predict_k1, predict_k2 itd.\n",
    "output_root_folder = r'C:\\Users\\user\\Desktop\\studia\\Widzenie Komputerowe Projekt\\Predykcja_Karnych\\dataset\\wideo_po_predykcjach' \n",
    "\n",
    "# Tworzenie folderu wyjściowego, jeśli nie istnieje\n",
    "os.makedirs(output_root_folder, exist_ok=True)\n",
    "\n",
    "# Iteracja przez foldery predict_k1 do predict_k12\n",
    "for i in range(1, 13):\n",
    "    folder_name = f'predict_k{i}'  # np. predict_k1, predict_k2, ...\n",
    "    source_folder = os.path.join(input_root_folder, folder_name, 'predict')  # Uwzględnienie podfolderu 'predict'\n",
    "    output_video_path = os.path.join(output_root_folder, f'predykcje_k{i}.mp4')\n",
    "\n",
    "    print(f\"Tworzenie filmiku dla folderu: {source_folder}\")\n",
    "    create_video_from_frames(source_folder, output_video_path, fps=60)\n",
    "\n",
    "print(\"Wszystkie filmiki zostały wygenerowane!\")"
   ],
   "id": "f9b99e1f8978dcdc",
   "outputs": [
    {
     "name": "stdout",
     "output_type": "stream",
     "text": [
      "Tworzenie filmiku dla folderu: C:\\Users\\user\\Desktop\\studia\\Widzenie Komputerowe Projekt\\Predykcja_Karnych\\runs\\detect\\predict_k1\\predict\n",
      "Filmik zapisany jako C:\\Users\\user\\Desktop\\studia\\Widzenie Komputerowe Projekt\\Predykcja_Karnych\\dataset\\wideo_po_predykcjach\\predykcje_k1.mp4\n",
      "Tworzenie filmiku dla folderu: C:\\Users\\user\\Desktop\\studia\\Widzenie Komputerowe Projekt\\Predykcja_Karnych\\runs\\detect\\predict_k2\\predict\n",
      "Filmik zapisany jako C:\\Users\\user\\Desktop\\studia\\Widzenie Komputerowe Projekt\\Predykcja_Karnych\\dataset\\wideo_po_predykcjach\\predykcje_k2.mp4\n",
      "Tworzenie filmiku dla folderu: C:\\Users\\user\\Desktop\\studia\\Widzenie Komputerowe Projekt\\Predykcja_Karnych\\runs\\detect\\predict_k3\\predict\n",
      "Filmik zapisany jako C:\\Users\\user\\Desktop\\studia\\Widzenie Komputerowe Projekt\\Predykcja_Karnych\\dataset\\wideo_po_predykcjach\\predykcje_k3.mp4\n",
      "Tworzenie filmiku dla folderu: C:\\Users\\user\\Desktop\\studia\\Widzenie Komputerowe Projekt\\Predykcja_Karnych\\runs\\detect\\predict_k4\\predict\n",
      "Filmik zapisany jako C:\\Users\\user\\Desktop\\studia\\Widzenie Komputerowe Projekt\\Predykcja_Karnych\\dataset\\wideo_po_predykcjach\\predykcje_k4.mp4\n",
      "Tworzenie filmiku dla folderu: C:\\Users\\user\\Desktop\\studia\\Widzenie Komputerowe Projekt\\Predykcja_Karnych\\runs\\detect\\predict_k5\\predict\n",
      "Filmik zapisany jako C:\\Users\\user\\Desktop\\studia\\Widzenie Komputerowe Projekt\\Predykcja_Karnych\\dataset\\wideo_po_predykcjach\\predykcje_k5.mp4\n",
      "Tworzenie filmiku dla folderu: C:\\Users\\user\\Desktop\\studia\\Widzenie Komputerowe Projekt\\Predykcja_Karnych\\runs\\detect\\predict_k6\\predict\n",
      "Filmik zapisany jako C:\\Users\\user\\Desktop\\studia\\Widzenie Komputerowe Projekt\\Predykcja_Karnych\\dataset\\wideo_po_predykcjach\\predykcje_k6.mp4\n",
      "Tworzenie filmiku dla folderu: C:\\Users\\user\\Desktop\\studia\\Widzenie Komputerowe Projekt\\Predykcja_Karnych\\runs\\detect\\predict_k7\\predict\n",
      "Filmik zapisany jako C:\\Users\\user\\Desktop\\studia\\Widzenie Komputerowe Projekt\\Predykcja_Karnych\\dataset\\wideo_po_predykcjach\\predykcje_k7.mp4\n",
      "Tworzenie filmiku dla folderu: C:\\Users\\user\\Desktop\\studia\\Widzenie Komputerowe Projekt\\Predykcja_Karnych\\runs\\detect\\predict_k8\\predict\n",
      "Filmik zapisany jako C:\\Users\\user\\Desktop\\studia\\Widzenie Komputerowe Projekt\\Predykcja_Karnych\\dataset\\wideo_po_predykcjach\\predykcje_k8.mp4\n",
      "Tworzenie filmiku dla folderu: C:\\Users\\user\\Desktop\\studia\\Widzenie Komputerowe Projekt\\Predykcja_Karnych\\runs\\detect\\predict_k9\\predict\n",
      "Filmik zapisany jako C:\\Users\\user\\Desktop\\studia\\Widzenie Komputerowe Projekt\\Predykcja_Karnych\\dataset\\wideo_po_predykcjach\\predykcje_k9.mp4\n",
      "Tworzenie filmiku dla folderu: C:\\Users\\user\\Desktop\\studia\\Widzenie Komputerowe Projekt\\Predykcja_Karnych\\runs\\detect\\predict_k10\\predict\n",
      "Filmik zapisany jako C:\\Users\\user\\Desktop\\studia\\Widzenie Komputerowe Projekt\\Predykcja_Karnych\\dataset\\wideo_po_predykcjach\\predykcje_k10.mp4\n",
      "Tworzenie filmiku dla folderu: C:\\Users\\user\\Desktop\\studia\\Widzenie Komputerowe Projekt\\Predykcja_Karnych\\runs\\detect\\predict_k11\\predict\n",
      "Filmik zapisany jako C:\\Users\\user\\Desktop\\studia\\Widzenie Komputerowe Projekt\\Predykcja_Karnych\\dataset\\wideo_po_predykcjach\\predykcje_k11.mp4\n",
      "Tworzenie filmiku dla folderu: C:\\Users\\user\\Desktop\\studia\\Widzenie Komputerowe Projekt\\Predykcja_Karnych\\runs\\detect\\predict_k12\\predict\n",
      "Filmik zapisany jako C:\\Users\\user\\Desktop\\studia\\Widzenie Komputerowe Projekt\\Predykcja_Karnych\\dataset\\wideo_po_predykcjach\\predykcje_k12.mp4\n",
      "Wszystkie filmiki zostały wygenerowane!\n"
     ]
    }
   ],
   "execution_count": 24
  },
  {
   "metadata": {},
   "cell_type": "code",
   "outputs": [],
   "execution_count": null,
   "source": "",
   "id": "890e35f0d26c6227"
  }
 ],
 "metadata": {
  "kernelspec": {
   "display_name": "Python 3",
   "language": "python",
   "name": "python3"
  },
  "language_info": {
   "codemirror_mode": {
    "name": "ipython",
    "version": 2
   },
   "file_extension": ".py",
   "mimetype": "text/x-python",
   "name": "python",
   "nbconvert_exporter": "python",
   "pygments_lexer": "ipython2",
   "version": "2.7.6"
  }
 },
 "nbformat": 4,
 "nbformat_minor": 5
}
