{
 "cells": [
  {
   "cell_type": "code",
   "id": "initial_id",
   "metadata": {
    "collapsed": true,
    "ExecuteTime": {
     "end_time": "2024-11-19T15:40:53.282976Z",
     "start_time": "2024-11-19T15:40:53.266544Z"
    }
   },
   "source": "print(\"Hello in the Project of 'Penalty Predictions' Made by Kacper and Julia\")",
   "outputs": [
    {
     "name": "stdout",
     "output_type": "stream",
     "text": [
      "Hello in the Project of Penalty Predictions Made by Kacper and Julia\n"
     ]
    }
   ],
   "execution_count": 1
  },
  {
   "metadata": {
    "ExecuteTime": {
     "end_time": "2024-11-19T16:08:39.128682Z",
     "start_time": "2024-11-19T16:08:39.110306Z"
    }
   },
   "cell_type": "code",
   "source": [
    "import cv2\n",
    "import os\n"
   ],
   "id": "822e7c0f37e8c97a",
   "outputs": [],
   "execution_count": 8
  },
  {
   "metadata": {
    "ExecuteTime": {
     "end_time": "2024-11-19T16:11:56.284766Z",
     "start_time": "2024-11-19T16:11:41.253938Z"
    }
   },
   "cell_type": "code",
   "source": [
    "\n",
    "\n",
    "input_folder = r'C:\\Users\\user\\Desktop\\studia\\Widzenie Komputerowe Projekt\\Predykcja_Karnych\\dataset\\karne'\n",
    "output_folder = r'C:\\Users\\user\\Desktop\\studia\\Widzenie Komputerowe Projekt\\Predykcja_Karnych\\dataset\\karne_przerobione'\n",
    "\n",
    "# Tworzenie głównego katalogu na wszystkie klatki\n",
    "os.makedirs(output_folder, exist_ok=True)\n",
    "\n",
    "# Iteracja po wszystkich plikach w folderze\n",
    "for video_file in os.listdir(input_folder):\n",
    "    video_path = os.path.join(input_folder, video_file)\n",
    "    \n",
    "    \n",
    "    print(f'Przetwarzanie: {video_file}')\n",
    "    \n",
    "    # Tworzenie podfolderu na klatki dla danego filmu\n",
    "    video_output_folder = os.path.join(output_folder, os.path.splitext(video_file)[0])\n",
    "    os.makedirs(video_output_folder, exist_ok=True)\n",
    "    \n",
    "    # Wczytanie wideo\n",
    "    cap = cv2.VideoCapture(video_path)\n",
    "    frame_count = 0\n",
    "    \n",
    "    while cap.isOpened():\n",
    "        ret, frame = cap.read()\n",
    "        if not ret:\n",
    "            break\n",
    "        \n",
    "        # zmiana rozmiaru na 224\n",
    "        resized_frame = cv2.resize(frame, (480, 480))\n",
    "        \n",
    "        # Zapis klatki do podfolderu\n",
    "        frame_filename = os.path.join(video_output_folder, f'frame_{frame_count:04d}.jpg')\n",
    "        cv2.imwrite(frame_filename, resized_frame)\n",
    "        \n",
    "        frame_count += 1\n",
    "    \n",
    "    cap.release()\n",
    "    print(f'Zapisano {frame_count} klatek dla {video_file} w folderze {video_output_folder}')\n",
    "\n",
    "print('Przetwarzanie wszystkich filmów zakończone.')\n"
   ],
   "id": "406d2769c0b69d3e",
   "outputs": [
    {
     "name": "stdout",
     "output_type": "stream",
     "text": [
      "Przetwarzanie: k1.mp4\n",
      "Zapisano 143 klatek dla k1.mp4 w folderze C:\\Users\\user\\Desktop\\studia\\Widzenie Komputerowe Projekt\\Predykcja_Karnych\\dataset\\karne_przerobione\\k1\n",
      "Przetwarzanie: k10.mp4\n",
      "Zapisano 129 klatek dla k10.mp4 w folderze C:\\Users\\user\\Desktop\\studia\\Widzenie Komputerowe Projekt\\Predykcja_Karnych\\dataset\\karne_przerobione\\k10\n",
      "Przetwarzanie: k11.mp4\n",
      "Zapisano 232 klatek dla k11.mp4 w folderze C:\\Users\\user\\Desktop\\studia\\Widzenie Komputerowe Projekt\\Predykcja_Karnych\\dataset\\karne_przerobione\\k11\n",
      "Przetwarzanie: k12.mp4\n",
      "Zapisano 129 klatek dla k12.mp4 w folderze C:\\Users\\user\\Desktop\\studia\\Widzenie Komputerowe Projekt\\Predykcja_Karnych\\dataset\\karne_przerobione\\k12\n",
      "Przetwarzanie: k2.mp4\n",
      "Zapisano 202 klatek dla k2.mp4 w folderze C:\\Users\\user\\Desktop\\studia\\Widzenie Komputerowe Projekt\\Predykcja_Karnych\\dataset\\karne_przerobione\\k2\n",
      "Przetwarzanie: k3.mp4\n",
      "Zapisano 217 klatek dla k3.mp4 w folderze C:\\Users\\user\\Desktop\\studia\\Widzenie Komputerowe Projekt\\Predykcja_Karnych\\dataset\\karne_przerobione\\k3\n",
      "Przetwarzanie: k4.mp4\n",
      "Zapisano 246 klatek dla k4.mp4 w folderze C:\\Users\\user\\Desktop\\studia\\Widzenie Komputerowe Projekt\\Predykcja_Karnych\\dataset\\karne_przerobione\\k4\n",
      "Przetwarzanie: k5.mp4\n",
      "Zapisano 261 klatek dla k5.mp4 w folderze C:\\Users\\user\\Desktop\\studia\\Widzenie Komputerowe Projekt\\Predykcja_Karnych\\dataset\\karne_przerobione\\k5\n",
      "Przetwarzanie: k6.mp4\n",
      "Zapisano 173 klatek dla k6.mp4 w folderze C:\\Users\\user\\Desktop\\studia\\Widzenie Komputerowe Projekt\\Predykcja_Karnych\\dataset\\karne_przerobione\\k6\n",
      "Przetwarzanie: k7.mp4\n",
      "Zapisano 173 klatek dla k7.mp4 w folderze C:\\Users\\user\\Desktop\\studia\\Widzenie Komputerowe Projekt\\Predykcja_Karnych\\dataset\\karne_przerobione\\k7\n",
      "Przetwarzanie: k8.mp4\n",
      "Zapisano 173 klatek dla k8.mp4 w folderze C:\\Users\\user\\Desktop\\studia\\Widzenie Komputerowe Projekt\\Predykcja_Karnych\\dataset\\karne_przerobione\\k8\n",
      "Przetwarzanie: k9.mp4\n",
      "Zapisano 217 klatek dla k9.mp4 w folderze C:\\Users\\user\\Desktop\\studia\\Widzenie Komputerowe Projekt\\Predykcja_Karnych\\dataset\\karne_przerobione\\k9\n",
      "Przetwarzanie wszystkich filmów zakończone.\n"
     ]
    }
   ],
   "execution_count": 12
  },
  {
   "metadata": {},
   "cell_type": "code",
   "outputs": [],
   "execution_count": null,
   "source": "",
   "id": "9a67147b09521df4"
  }
 ],
 "metadata": {
  "kernelspec": {
   "display_name": "Python 3",
   "language": "python",
   "name": "python3"
  },
  "language_info": {
   "codemirror_mode": {
    "name": "ipython",
    "version": 2
   },
   "file_extension": ".py",
   "mimetype": "text/x-python",
   "name": "python",
   "nbconvert_exporter": "python",
   "pygments_lexer": "ipython2",
   "version": "2.7.6"
  }
 },
 "nbformat": 4,
 "nbformat_minor": 5
}
